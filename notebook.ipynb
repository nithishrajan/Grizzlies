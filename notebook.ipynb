{
 "cells": [
  {
   "cell_type": "code",
   "metadata": {
    "tags": [],
    "cell_id": "a52428c0-6046-4fe9-ae9b-35ece106545b",
    "deepnote_to_be_reexecuted": false,
    "source_hash": "c76c7c51",
    "execution_start": 1646968980784,
    "execution_millis": 0,
    "deepnote_cell_type": "code",
    "deepnote_cell_height": 99
   },
   "source": "import pandas as pd\nimport numpy as np",
   "execution_count": null,
   "outputs": []
  },
  {
   "cell_type": "code",
   "metadata": {
    "cell_id": "92b2eca8-929c-4e0f-8dc3-eb42be439280",
    "tags": [],
    "deepnote_to_be_reexecuted": false,
    "source_hash": "b3fe7436",
    "execution_start": 1646968980785,
    "execution_millis": 211,
    "deepnote_cell_type": "code",
    "deepnote_cell_height": 618
   },
   "source": "player_box = pd.read_csv('PlayerBox.csv', sep='\\t')\nplayer_box",
   "execution_count": null,
   "outputs": [
    {
     "output_type": "execute_result",
     "execution_count": 2,
     "data": {
      "application/vnd.deepnote.dataframe.v3+json": {
       "column_count": 40,
       "row_count": 1599,
       "columns": [
        {
         "name": "PlayerId",
         "dtype": "int64",
         "stats": {
          "unique_count": 756,
          "nan_count": 0,
          "min": "1",
          "max": "115985",
          "histogram": [
           {
            "bin_start": 1,
            "bin_end": 11599.4,
            "count": 1526
           },
           {
            "bin_start": 11599.4,
            "bin_end": 23197.8,
            "count": 8
           },
           {
            "bin_start": 23197.8,
            "bin_end": 34796.2,
            "count": 11
           },
           {
            "bin_start": 34796.2,
            "bin_end": 46394.6,
            "count": 13
           },
           {
            "bin_start": 46394.6,
            "bin_end": 57993,
            "count": 6
           },
           {
            "bin_start": 57993,
            "bin_end": 69591.4,
            "count": 8
           },
           {
            "bin_start": 69591.4,
            "bin_end": 81189.8,
            "count": 12
           },
           {
            "bin_start": 81189.8,
            "bin_end": 92788.2,
            "count": 6
           },
           {
            "bin_start": 92788.2,
            "bin_end": 104386.59999999999,
            "count": 3
           },
           {
            "bin_start": 104386.59999999999,
            "bin_end": 115985,
            "count": 6
           }
          ]
         }
        },
        {
         "name": "Player",
         "dtype": "object",
         "stats": {
          "unique_count": 756,
          "nan_count": 0,
          "categories": [
           {
            "name": "Aaron Gordon",
            "count": 3
           },
           {
            "name": "Aaron Holiday",
            "count": 3
           },
           {
            "name": "754 others",
            "count": 1593
           }
          ]
         }
        },
        {
         "name": "LeagueId",
         "dtype": "object",
         "stats": {
          "unique_count": 1,
          "nan_count": 0,
          "categories": [
           {
            "name": "NBA",
            "count": 1599
           }
          ]
         }
        },
        {
         "name": "SeasonYear",
         "dtype": "int64",
         "stats": {
          "unique_count": 3,
          "nan_count": 0,
          "min": "2018",
          "max": "2020",
          "histogram": [
           {
            "bin_start": 2018,
            "bin_end": 2018.2,
            "count": 530
           },
           {
            "bin_start": 2018.2,
            "bin_end": 2018.4,
            "count": 0
           },
           {
            "bin_start": 2018.4,
            "bin_end": 2018.6,
            "count": 0
           },
           {
            "bin_start": 2018.6,
            "bin_end": 2018.8,
            "count": 0
           },
           {
            "bin_start": 2018.8,
            "bin_end": 2019,
            "count": 0
           },
           {
            "bin_start": 2019,
            "bin_end": 2019.2,
            "count": 529
           },
           {
            "bin_start": 2019.2,
            "bin_end": 2019.4,
            "count": 0
           },
           {
            "bin_start": 2019.4,
            "bin_end": 2019.6,
            "count": 0
           },
           {
            "bin_start": 2019.6,
            "bin_end": 2019.8,
            "count": 0
           },
           {
            "bin_start": 2019.8,
            "bin_end": 2020,
            "count": 540
           }
          ]
         }
        },
        {
         "name": "GameTypeId",
         "dtype": "object",
         "stats": {
          "unique_count": 1,
          "nan_count": 0,
          "categories": [
           {
            "name": "S",
            "count": 1599
           }
          ]
         }
        },
        {
         "name": "GP",
         "dtype": "int64",
         "stats": {
          "unique_count": 82,
          "nan_count": 0,
          "min": "1",
          "max": "82",
          "histogram": [
           {
            "bin_start": 1,
            "bin_end": 9.1,
            "count": 180
           },
           {
            "bin_start": 9.1,
            "bin_end": 17.2,
            "count": 116
           },
           {
            "bin_start": 17.2,
            "bin_end": 25.299999999999997,
            "count": 106
           },
           {
            "bin_start": 25.299999999999997,
            "bin_end": 33.4,
            "count": 113
           },
           {
            "bin_start": 33.4,
            "bin_end": 41.5,
            "count": 122
           },
           {
            "bin_start": 41.5,
            "bin_end": 49.599999999999994,
            "count": 155
           },
           {
            "bin_start": 49.599999999999994,
            "bin_end": 57.699999999999996,
            "count": 190
           },
           {
            "bin_start": 57.699999999999996,
            "bin_end": 65.8,
            "count": 258
           },
           {
            "bin_start": 65.8,
            "bin_end": 73.89999999999999,
            "count": 235
           },
           {
            "bin_start": 73.89999999999999,
            "bin_end": 82,
            "count": 124
           }
          ]
         }
        },
        {
         "name": "GS",
         "dtype": "int64",
         "stats": {
          "unique_count": 83,
          "nan_count": 0,
          "min": "0",
          "max": "82",
          "histogram": [
           {
            "bin_start": 0,
            "bin_end": 8.2,
            "count": 823
           },
           {
            "bin_start": 8.2,
            "bin_end": 16.4,
            "count": 143
           },
           {
            "bin_start": 16.4,
            "bin_end": 24.599999999999998,
            "count": 92
           },
           {
            "bin_start": 24.599999999999998,
            "bin_end": 32.8,
            "count": 82
           },
           {
            "bin_start": 32.8,
            "bin_end": 41,
            "count": 65
           },
           {
            "bin_start": 41,
            "bin_end": 49.199999999999996,
            "count": 68
           },
           {
            "bin_start": 49.199999999999996,
            "bin_end": 57.39999999999999,
            "count": 91
           },
           {
            "bin_start": 57.39999999999999,
            "bin_end": 65.6,
            "count": 94
           },
           {
            "bin_start": 65.6,
            "bin_end": 73.8,
            "count": 90
           },
           {
            "bin_start": 73.8,
            "bin_end": 82,
            "count": 51
           }
          ]
         }
        },
        {
         "name": "MP",
         "dtype": "float64",
         "stats": {
          "unique_count": 1590,
          "nan_count": 0,
          "min": "0.62",
          "max": "3027.5",
          "histogram": [
           {
            "bin_start": 0.62,
            "bin_end": 303.308,
            "count": 405
           },
           {
            "bin_start": 303.308,
            "bin_end": 605.996,
            "count": 189
           },
           {
            "bin_start": 605.996,
            "bin_end": 908.684,
            "count": 177
           },
           {
            "bin_start": 908.684,
            "bin_end": 1211.3719999999998,
            "count": 178
           },
           {
            "bin_start": 1211.3719999999998,
            "bin_end": 1514.06,
            "count": 193
           },
           {
            "bin_start": 1514.06,
            "bin_end": 1816.7479999999998,
            "count": 151
           },
           {
            "bin_start": 1816.7479999999998,
            "bin_end": 2119.4359999999997,
            "count": 160
           },
           {
            "bin_start": 2119.4359999999997,
            "bin_end": 2422.124,
            "count": 93
           },
           {
            "bin_start": 2422.124,
            "bin_end": 2724.812,
            "count": 46
           },
           {
            "bin_start": 2724.812,
            "bin_end": 3027.5,
            "count": 7
           }
          ]
         }
        },
        {
         "name": "FGM",
         "dtype": "int64",
         "stats": {
          "unique_count": 501,
          "nan_count": 0,
          "min": "0",
          "max": "843",
          "histogram": [
           {
            "bin_start": 0,
            "bin_end": 84.3,
            "count": 606
           },
           {
            "bin_start": 84.3,
            "bin_end": 168.6,
            "count": 315
           },
           {
            "bin_start": 168.6,
            "bin_end": 252.89999999999998,
            "count": 254
           },
           {
            "bin_start": 252.89999999999998,
            "bin_end": 337.2,
            "count": 181
           },
           {
            "bin_start": 337.2,
            "bin_end": 421.5,
            "count": 92
           },
           {
            "bin_start": 421.5,
            "bin_end": 505.79999999999995,
            "count": 68
           },
           {
            "bin_start": 505.79999999999995,
            "bin_end": 590.1,
            "count": 42
           },
           {
            "bin_start": 590.1,
            "bin_end": 674.4,
            "count": 29
           },
           {
            "bin_start": 674.4,
            "bin_end": 758.6999999999999,
            "count": 10
           },
           {
            "bin_start": 758.6999999999999,
            "bin_end": 843,
            "count": 2
           }
          ]
         }
        },
        {
         "name": "FGA",
         "dtype": "int64",
         "stats": {
          "unique_count": 763,
          "nan_count": 0,
          "min": "0",
          "max": "1909",
          "histogram": [
           {
            "bin_start": 0,
            "bin_end": 190.9,
            "count": 617
           },
           {
            "bin_start": 190.9,
            "bin_end": 381.8,
            "count": 337
           },
           {
            "bin_start": 381.8,
            "bin_end": 572.7,
            "count": 247
           },
           {
            "bin_start": 572.7,
            "bin_end": 763.6,
            "count": 187
           },
           {
            "bin_start": 763.6,
            "bin_end": 954.5,
            "count": 90
           },
           {
            "bin_start": 954.5,
            "bin_end": 1145.4,
            "count": 63
           },
           {
            "bin_start": 1145.4,
            "bin_end": 1336.3,
            "count": 36
           },
           {
            "bin_start": 1336.3,
            "bin_end": 1527.2,
            "count": 16
           },
           {
            "bin_start": 1527.2,
            "bin_end": 1718.1000000000001,
            "count": 5
           },
           {
            "bin_start": 1718.1000000000001,
            "bin_end": 1909,
            "count": 1
           }
          ]
         }
        },
        {
         "name": "FG%",
         "dtype": "float64",
         "stats": {
          "unique_count": 1253,
          "nan_count": 0,
          "min": "0.0",
          "max": "1.0",
          "histogram": [
           {
            "bin_start": 0,
            "bin_end": 0.1,
            "count": 27
           },
           {
            "bin_start": 0.1,
            "bin_end": 0.2,
            "count": 8
           },
           {
            "bin_start": 0.2,
            "bin_end": 0.30000000000000004,
            "count": 59
           },
           {
            "bin_start": 0.30000000000000004,
            "bin_end": 0.4,
            "count": 275
           },
           {
            "bin_start": 0.4,
            "bin_end": 0.5,
            "count": 865
           },
           {
            "bin_start": 0.5,
            "bin_end": 0.6000000000000001,
            "count": 257
           },
           {
            "bin_start": 0.6000000000000001,
            "bin_end": 0.7000000000000001,
            "count": 88
           },
           {
            "bin_start": 0.7000000000000001,
            "bin_end": 0.8,
            "count": 15
           },
           {
            "bin_start": 0.8,
            "bin_end": 0.9,
            "count": 0
           },
           {
            "bin_start": 0.9,
            "bin_end": 1,
            "count": 5
           }
          ]
         }
        },
        {
         "name": "2FGM",
         "dtype": "int64",
         "stats": {
          "unique_count": 406,
          "nan_count": 0,
          "min": "0",
          "max": "674",
          "histogram": [
           {
            "bin_start": 0,
            "bin_end": 67.4,
            "count": 726
           },
           {
            "bin_start": 67.4,
            "bin_end": 134.8,
            "count": 317
           },
           {
            "bin_start": 134.8,
            "bin_end": 202.20000000000002,
            "count": 228
           },
           {
            "bin_start": 202.20000000000002,
            "bin_end": 269.6,
            "count": 123
           },
           {
            "bin_start": 269.6,
            "bin_end": 337,
            "count": 69
           },
           {
            "bin_start": 337,
            "bin_end": 404.40000000000003,
            "count": 58
           },
           {
            "bin_start": 404.40000000000003,
            "bin_end": 471.80000000000007,
            "count": 45
           },
           {
            "bin_start": 471.80000000000007,
            "bin_end": 539.2,
            "count": 17
           },
           {
            "bin_start": 539.2,
            "bin_end": 606.6,
            "count": 10
           },
           {
            "bin_start": 606.6,
            "bin_end": 674,
            "count": 6
           }
          ]
         }
        },
        {
         "name": "2FGA",
         "dtype": "int64",
         "stats": {
          "unique_count": 597,
          "nan_count": 0,
          "min": "0",
          "max": "1277",
          "histogram": [
           {
            "bin_start": 0,
            "bin_end": 127.7,
            "count": 703
           },
           {
            "bin_start": 127.7,
            "bin_end": 255.4,
            "count": 327
           },
           {
            "bin_start": 255.4,
            "bin_end": 383.1,
            "count": 237
           },
           {
            "bin_start": 383.1,
            "bin_end": 510.8,
            "count": 117
           },
           {
            "bin_start": 510.8,
            "bin_end": 638.5,
            "count": 80
           },
           {
            "bin_start": 638.5,
            "bin_end": 766.2,
            "count": 63
           },
           {
            "bin_start": 766.2,
            "bin_end": 893.9,
            "count": 46
           },
           {
            "bin_start": 893.9,
            "bin_end": 1021.6,
            "count": 19
           },
           {
            "bin_start": 1021.6,
            "bin_end": 1149.3,
            "count": 5
           },
           {
            "bin_start": 1149.3,
            "bin_end": 1277,
            "count": 2
           }
          ]
         }
        },
        {
         "name": "2FG%",
         "dtype": "float64",
         "stats": {
          "unique_count": 1120,
          "nan_count": 0,
          "min": "0.0",
          "max": "1.0",
          "histogram": [
           {
            "bin_start": 0,
            "bin_end": 0.1,
            "count": 38
           },
           {
            "bin_start": 0.1,
            "bin_end": 0.2,
            "count": 9
           },
           {
            "bin_start": 0.2,
            "bin_end": 0.30000000000000004,
            "count": 28
           },
           {
            "bin_start": 0.30000000000000004,
            "bin_end": 0.4,
            "count": 92
           },
           {
            "bin_start": 0.4,
            "bin_end": 0.5,
            "count": 536
           },
           {
            "bin_start": 0.5,
            "bin_end": 0.6000000000000001,
            "count": 664
           },
           {
            "bin_start": 0.6000000000000001,
            "bin_end": 0.7000000000000001,
            "count": 186
           },
           {
            "bin_start": 0.7000000000000001,
            "bin_end": 0.8,
            "count": 32
           },
           {
            "bin_start": 0.8,
            "bin_end": 0.9,
            "count": 4
           },
           {
            "bin_start": 0.9,
            "bin_end": 1,
            "count": 10
           }
          ]
         }
        },
        {
         "name": "3FGM",
         "dtype": "int64",
         "stats": {
          "unique_count": 214,
          "nan_count": 0,
          "min": "0",
          "max": "378",
          "histogram": [
           {
            "bin_start": 0,
            "bin_end": 37.8,
            "count": 866
           },
           {
            "bin_start": 37.8,
            "bin_end": 75.6,
            "count": 300
           },
           {
            "bin_start": 75.6,
            "bin_end": 113.39999999999999,
            "count": 193
           },
           {
            "bin_start": 113.39999999999999,
            "bin_end": 151.2,
            "count": 134
           },
           {
            "bin_start": 151.2,
            "bin_end": 189,
            "count": 70
           },
           {
            "bin_start": 189,
            "bin_end": 226.79999999999998,
            "count": 19
           },
           {
            "bin_start": 226.79999999999998,
            "bin_end": 264.59999999999997,
            "count": 6
           },
           {
            "bin_start": 264.59999999999997,
            "bin_end": 302.4,
            "count": 8
           },
           {
            "bin_start": 302.4,
            "bin_end": 340.2,
            "count": 1
           },
           {
            "bin_start": 340.2,
            "bin_end": 378,
            "count": 2
           }
          ]
         }
        },
        {
         "name": "3FGA",
         "dtype": "int64",
         "stats": {
          "unique_count": 433,
          "nan_count": 0,
          "min": "0",
          "max": "1028",
          "histogram": [
           {
            "bin_start": 0,
            "bin_end": 102.8,
            "count": 828
           },
           {
            "bin_start": 102.8,
            "bin_end": 205.6,
            "count": 321
           },
           {
            "bin_start": 205.6,
            "bin_end": 308.4,
            "count": 215
           },
           {
            "bin_start": 308.4,
            "bin_end": 411.2,
            "count": 140
           },
           {
            "bin_start": 411.2,
            "bin_end": 514,
            "count": 63
           },
           {
            "bin_start": 514,
            "bin_end": 616.8,
            "count": 19
           },
           {
            "bin_start": 616.8,
            "bin_end": 719.6,
            "count": 6
           },
           {
            "bin_start": 719.6,
            "bin_end": 822.4,
            "count": 5
           },
           {
            "bin_start": 822.4,
            "bin_end": 925.1999999999999,
            "count": 1
           },
           {
            "bin_start": 925.1999999999999,
            "bin_end": 1028,
            "count": 1
           }
          ]
         }
        },
        {
         "name": "3FG%",
         "dtype": "float64",
         "stats": {
          "unique_count": 885,
          "nan_count": 0,
          "min": "0.0",
          "max": "1.0",
          "histogram": [
           {
            "bin_start": 0,
            "bin_end": 0.1,
            "count": 213
           },
           {
            "bin_start": 0.1,
            "bin_end": 0.2,
            "count": 67
           },
           {
            "bin_start": 0.2,
            "bin_end": 0.30000000000000004,
            "count": 281
           },
           {
            "bin_start": 0.30000000000000004,
            "bin_end": 0.4,
            "count": 800
           },
           {
            "bin_start": 0.4,
            "bin_end": 0.5,
            "count": 196
           },
           {
            "bin_start": 0.5,
            "bin_end": 0.6000000000000001,
            "count": 31
           },
           {
            "bin_start": 0.6000000000000001,
            "bin_end": 0.7000000000000001,
            "count": 2
           },
           {
            "bin_start": 0.7000000000000001,
            "bin_end": 0.8,
            "count": 0
           },
           {
            "bin_start": 0.8,
            "bin_end": 0.9,
            "count": 0
           },
           {
            "bin_start": 0.9,
            "bin_end": 1,
            "count": 9
           }
          ]
         }
        },
        {
         "name": "eFG%",
         "dtype": "float64",
         "stats": {
          "unique_count": 1267,
          "nan_count": 0,
          "min": "0.0",
          "max": "1.0",
          "histogram": [
           {
            "bin_start": 0,
            "bin_end": 0.1,
            "count": 27
           },
           {
            "bin_start": 0.1,
            "bin_end": 0.2,
            "count": 8
           },
           {
            "bin_start": 0.2,
            "bin_end": 0.30000000000000004,
            "count": 35
           },
           {
            "bin_start": 0.30000000000000004,
            "bin_end": 0.4,
            "count": 91
           },
           {
            "bin_start": 0.4,
            "bin_end": 0.5,
            "count": 450
           },
           {
            "bin_start": 0.5,
            "bin_end": 0.6000000000000001,
            "count": 822
           },
           {
            "bin_start": 0.6000000000000001,
            "bin_end": 0.7000000000000001,
            "count": 143
           },
           {
            "bin_start": 0.7000000000000001,
            "bin_end": 0.8,
            "count": 17
           },
           {
            "bin_start": 0.8,
            "bin_end": 0.9,
            "count": 1
           },
           {
            "bin_start": 0.9,
            "bin_end": 1,
            "count": 5
           }
          ]
         }
        },
        {
         "name": "TS%",
         "dtype": "float64",
         "stats": {
          "unique_count": 1537,
          "nan_count": 0,
          "min": "0.0",
          "max": "1.5",
          "histogram": [
           {
            "bin_start": 0,
            "bin_end": 0.15,
            "count": 25
           },
           {
            "bin_start": 0.15,
            "bin_end": 0.3,
            "count": 18
           },
           {
            "bin_start": 0.3,
            "bin_end": 0.44999999999999996,
            "count": 134
           },
           {
            "bin_start": 0.44999999999999996,
            "bin_end": 0.6,
            "count": 1100
           },
           {
            "bin_start": 0.6,
            "bin_end": 0.75,
            "count": 309
           },
           {
            "bin_start": 0.75,
            "bin_end": 0.8999999999999999,
            "count": 8
           },
           {
            "bin_start": 0.8999999999999999,
            "bin_end": 1.05,
            "count": 3
           },
           {
            "bin_start": 1.05,
            "bin_end": 1.2,
            "count": 1
           },
           {
            "bin_start": 1.2,
            "bin_end": 1.3499999999999999,
            "count": 0
           },
           {
            "bin_start": 1.3499999999999999,
            "bin_end": 1.5,
            "count": 1
           }
          ]
         }
        },
        {
         "name": "FTM",
         "dtype": "int64",
         "stats": {
          "unique_count": 295,
          "nan_count": 0,
          "min": "0",
          "max": "754",
          "histogram": [
           {
            "bin_start": 0,
            "bin_end": 75.4,
            "count": 1067
           },
           {
            "bin_start": 75.4,
            "bin_end": 150.8,
            "count": 304
           },
           {
            "bin_start": 150.8,
            "bin_end": 226.20000000000002,
            "count": 121
           },
           {
            "bin_start": 226.20000000000002,
            "bin_end": 301.6,
            "count": 53
           },
           {
            "bin_start": 301.6,
            "bin_end": 377,
            "count": 28
           },
           {
            "bin_start": 377,
            "bin_end": 452.40000000000003,
            "count": 15
           },
           {
            "bin_start": 452.40000000000003,
            "bin_end": 527.8000000000001,
            "count": 9
           },
           {
            "bin_start": 527.8000000000001,
            "bin_end": 603.2,
            "count": 0
           },
           {
            "bin_start": 603.2,
            "bin_end": 678.6,
            "count": 0
           },
           {
            "bin_start": 678.6,
            "bin_end": 754,
            "count": 2
           }
          ]
         }
        },
        {
         "name": "FTA",
         "dtype": "int64",
         "stats": {
          "unique_count": 345,
          "nan_count": 0,
          "min": "0",
          "max": "858",
          "histogram": [
           {
            "bin_start": 0,
            "bin_end": 85.8,
            "count": 980
           },
           {
            "bin_start": 85.8,
            "bin_end": 171.6,
            "count": 339
           },
           {
            "bin_start": 171.6,
            "bin_end": 257.4,
            "count": 151
           },
           {
            "bin_start": 257.4,
            "bin_end": 343.2,
            "count": 55
           },
           {
            "bin_start": 343.2,
            "bin_end": 429,
            "count": 35
           },
           {
            "bin_start": 429,
            "bin_end": 514.8,
            "count": 22
           },
           {
            "bin_start": 514.8,
            "bin_end": 600.6,
            "count": 12
           },
           {
            "bin_start": 600.6,
            "bin_end": 686.4,
            "count": 3
           },
           {
            "bin_start": 686.4,
            "bin_end": 772.1999999999999,
            "count": 0
           },
           {
            "bin_start": 772.1999999999999,
            "bin_end": 858,
            "count": 2
           }
          ]
         }
        },
        {
         "name": "FT%",
         "dtype": "float64",
         "stats": {
          "unique_count": 815,
          "nan_count": 0,
          "min": "0.0",
          "max": "1.0",
          "histogram": [
           {
            "bin_start": 0,
            "bin_end": 0.1,
            "count": 82
           },
           {
            "bin_start": 0.1,
            "bin_end": 0.2,
            "count": 0
           },
           {
            "bin_start": 0.2,
            "bin_end": 0.30000000000000004,
            "count": 3
           },
           {
            "bin_start": 0.30000000000000004,
            "bin_end": 0.4,
            "count": 18
           },
           {
            "bin_start": 0.4,
            "bin_end": 0.5,
            "count": 23
           },
           {
            "bin_start": 0.5,
            "bin_end": 0.6000000000000001,
            "count": 149
           },
           {
            "bin_start": 0.6000000000000001,
            "bin_end": 0.7000000000000001,
            "count": 248
           },
           {
            "bin_start": 0.7000000000000001,
            "bin_end": 0.8,
            "count": 471
           },
           {
            "bin_start": 0.8,
            "bin_end": 0.9,
            "count": 490
           },
           {
            "bin_start": 0.9,
            "bin_end": 1,
            "count": 115
           }
          ]
         }
        },
        {
         "name": "OR",
         "dtype": "int64",
         "stats": {
          "unique_count": 196,
          "nan_count": 0,
          "min": "0",
          "max": "423",
          "histogram": [
           {
            "bin_start": 0,
            "bin_end": 42.3,
            "count": 1056
           },
           {
            "bin_start": 42.3,
            "bin_end": 84.6,
            "count": 325
           },
           {
            "bin_start": 84.6,
            "bin_end": 126.89999999999999,
            "count": 112
           },
           {
            "bin_start": 126.89999999999999,
            "bin_end": 169.2,
            "count": 53
           },
           {
            "bin_start": 169.2,
            "bin_end": 211.5,
            "count": 25
           },
           {
            "bin_start": 211.5,
            "bin_end": 253.79999999999998,
            "count": 18
           },
           {
            "bin_start": 253.79999999999998,
            "bin_end": 296.09999999999997,
            "count": 5
           },
           {
            "bin_start": 296.09999999999997,
            "bin_end": 338.4,
            "count": 3
           },
           {
            "bin_start": 338.4,
            "bin_end": 380.7,
            "count": 0
           },
           {
            "bin_start": 380.7,
            "bin_end": 423,
            "count": 2
           }
          ]
         }
        },
        {
         "name": "DR",
         "dtype": "int64",
         "stats": {
          "unique_count": 420,
          "nan_count": 0,
          "min": "0",
          "max": "809",
          "histogram": [
           {
            "bin_start": 0,
            "bin_end": 80.9,
            "count": 619
           },
           {
            "bin_start": 80.9,
            "bin_end": 161.8,
            "count": 374
           },
           {
            "bin_start": 161.8,
            "bin_end": 242.70000000000002,
            "count": 290
           },
           {
            "bin_start": 242.70000000000002,
            "bin_end": 323.6,
            "count": 166
           },
           {
            "bin_start": 323.6,
            "bin_end": 404.5,
            "count": 72
           },
           {
            "bin_start": 404.5,
            "bin_end": 485.40000000000003,
            "count": 34
           },
           {
            "bin_start": 485.40000000000003,
            "bin_end": 566.3000000000001,
            "count": 20
           },
           {
            "bin_start": 566.3000000000001,
            "bin_end": 647.2,
            "count": 12
           },
           {
            "bin_start": 647.2,
            "bin_end": 728.1,
            "count": 8
           },
           {
            "bin_start": 728.1,
            "bin_end": 809,
            "count": 4
           }
          ]
         }
        },
        {
         "name": "TR",
         "dtype": "int64",
         "stats": {
          "unique_count": 514,
          "nan_count": 0,
          "min": "0",
          "max": "1232",
          "histogram": [
           {
            "bin_start": 0,
            "bin_end": 123.2,
            "count": 704
           },
           {
            "bin_start": 123.2,
            "bin_end": 246.4,
            "count": 419
           },
           {
            "bin_start": 246.4,
            "bin_end": 369.6,
            "count": 259
           },
           {
            "bin_start": 369.6,
            "bin_end": 492.8,
            "count": 124
           },
           {
            "bin_start": 492.8,
            "bin_end": 616,
            "count": 44
           },
           {
            "bin_start": 616,
            "bin_end": 739.2,
            "count": 21
           },
           {
            "bin_start": 739.2,
            "bin_end": 862.4,
            "count": 15
           },
           {
            "bin_start": 862.4,
            "bin_end": 985.6,
            "count": 11
           },
           {
            "bin_start": 985.6,
            "bin_end": 1108.8,
            "count": 1
           },
           {
            "bin_start": 1108.8,
            "bin_end": 1232,
            "count": 1
           }
          ]
         }
        },
        {
         "name": "AST",
         "dtype": "int64",
         "stats": {
          "unique_count": 359,
          "nan_count": 0,
          "min": "0",
          "max": "784",
          "histogram": [
           {
            "bin_start": 0,
            "bin_end": 78.4,
            "count": 886
           },
           {
            "bin_start": 78.4,
            "bin_end": 156.8,
            "count": 371
           },
           {
            "bin_start": 156.8,
            "bin_end": 235.20000000000002,
            "count": 143
           },
           {
            "bin_start": 235.20000000000002,
            "bin_end": 313.6,
            "count": 89
           },
           {
            "bin_start": 313.6,
            "bin_end": 392,
            "count": 47
           },
           {
            "bin_start": 392,
            "bin_end": 470.40000000000003,
            "count": 32
           },
           {
            "bin_start": 470.40000000000003,
            "bin_end": 548.8000000000001,
            "count": 13
           },
           {
            "bin_start": 548.8000000000001,
            "bin_end": 627.2,
            "count": 14
           },
           {
            "bin_start": 627.2,
            "bin_end": 705.6,
            "count": 2
           },
           {
            "bin_start": 705.6,
            "bin_end": 784,
            "count": 2
           }
          ]
         }
        },
        {
         "name": "STL",
         "dtype": "int64",
         "stats": {
          "unique_count": 128,
          "nan_count": 0,
          "min": "0",
          "max": "170",
          "histogram": [
           {
            "bin_start": 0,
            "bin_end": 17,
            "count": 605
           },
           {
            "bin_start": 17,
            "bin_end": 34,
            "count": 338
           },
           {
            "bin_start": 34,
            "bin_end": 51,
            "count": 275
           },
           {
            "bin_start": 51,
            "bin_end": 68,
            "count": 191
           },
           {
            "bin_start": 68,
            "bin_end": 85,
            "count": 98
           },
           {
            "bin_start": 85,
            "bin_end": 102,
            "count": 55
           },
           {
            "bin_start": 102,
            "bin_end": 119,
            "count": 22
           },
           {
            "bin_start": 119,
            "bin_end": 136,
            "count": 10
           },
           {
            "bin_start": 136,
            "bin_end": 153,
            "count": 3
           },
           {
            "bin_start": 153,
            "bin_end": 170,
            "count": 2
           }
          ]
         }
        },
        {
         "name": "BLK",
         "dtype": "int64",
         "stats": {
          "unique_count": 123,
          "nan_count": 0,
          "min": "0",
          "max": "199",
          "histogram": [
           {
            "bin_start": 0,
            "bin_end": 19.9,
            "count": 1024
           },
           {
            "bin_start": 19.9,
            "bin_end": 39.8,
            "count": 329
           },
           {
            "bin_start": 39.8,
            "bin_end": 59.699999999999996,
            "count": 138
           },
           {
            "bin_start": 59.699999999999996,
            "bin_end": 79.6,
            "count": 50
           },
           {
            "bin_start": 79.6,
            "bin_end": 99.5,
            "count": 25
           },
           {
            "bin_start": 99.5,
            "bin_end": 119.39999999999999,
            "count": 12
           },
           {
            "bin_start": 119.39999999999999,
            "bin_end": 139.29999999999998,
            "count": 10
           },
           {
            "bin_start": 139.29999999999998,
            "bin_end": 159.2,
            "count": 4
           },
           {
            "bin_start": 159.2,
            "bin_end": 179.1,
            "count": 3
           },
           {
            "bin_start": 179.1,
            "bin_end": 199,
            "count": 4
           }
          ]
         }
        },
        {
         "name": "TOV",
         "dtype": "int64",
         "stats": {
          "unique_count": 223,
          "nan_count": 0,
          "min": "0",
          "max": "387",
          "histogram": [
           {
            "bin_start": 0,
            "bin_end": 38.7,
            "count": 746
           },
           {
            "bin_start": 38.7,
            "bin_end": 77.4,
            "count": 423
           },
           {
            "bin_start": 77.4,
            "bin_end": 116.10000000000001,
            "count": 210
           },
           {
            "bin_start": 116.10000000000001,
            "bin_end": 154.8,
            "count": 109
           },
           {
            "bin_start": 154.8,
            "bin_end": 193.5,
            "count": 60
           },
           {
            "bin_start": 193.5,
            "bin_end": 232.20000000000002,
            "count": 30
           },
           {
            "bin_start": 232.20000000000002,
            "bin_end": 270.90000000000003,
            "count": 13
           },
           {
            "bin_start": 270.90000000000003,
            "bin_end": 309.6,
            "count": 5
           },
           {
            "bin_start": 309.6,
            "bin_end": 348.3,
            "count": 2
           },
           {
            "bin_start": 348.3,
            "bin_end": 387,
            "count": 1
           }
          ]
         }
        },
        {
         "name": "PF",
         "dtype": "int64",
         "stats": {
          "unique_count": 235,
          "nan_count": 0,
          "min": "0",
          "max": "292",
          "histogram": [
           {
            "bin_start": 0,
            "bin_end": 29.2,
            "count": 396
           },
           {
            "bin_start": 29.2,
            "bin_end": 58.4,
            "count": 231
           },
           {
            "bin_start": 58.4,
            "bin_end": 87.6,
            "count": 197
           },
           {
            "bin_start": 87.6,
            "bin_end": 116.8,
            "count": 272
           },
           {
            "bin_start": 116.8,
            "bin_end": 146,
            "count": 219
           },
           {
            "bin_start": 146,
            "bin_end": 175.2,
            "count": 141
           },
           {
            "bin_start": 175.2,
            "bin_end": 204.4,
            "count": 91
           },
           {
            "bin_start": 204.4,
            "bin_end": 233.6,
            "count": 38
           },
           {
            "bin_start": 233.6,
            "bin_end": 262.8,
            "count": 10
           },
           {
            "bin_start": 262.8,
            "bin_end": 292,
            "count": 4
           }
          ]
         }
        },
        {
         "name": "PTS",
         "dtype": "int64",
         "stats": {
          "unique_count": 859,
          "nan_count": 0,
          "min": "0",
          "max": "2818",
          "histogram": [
           {
            "bin_start": 0,
            "bin_end": 281.8,
            "count": 698
           },
           {
            "bin_start": 281.8,
            "bin_end": 563.6,
            "count": 363
           },
           {
            "bin_start": 563.6,
            "bin_end": 845.4000000000001,
            "count": 248
           },
           {
            "bin_start": 845.4000000000001,
            "bin_end": 1127.2,
            "count": 133
           },
           {
            "bin_start": 1127.2,
            "bin_end": 1409,
            "count": 83
           },
           {
            "bin_start": 1409,
            "bin_end": 1690.8000000000002,
            "count": 41
           },
           {
            "bin_start": 1690.8000000000002,
            "bin_end": 1972.6000000000001,
            "count": 23
           },
           {
            "bin_start": 1972.6000000000001,
            "bin_end": 2254.4,
            "count": 8
           },
           {
            "bin_start": 2254.4,
            "bin_end": 2536.2000000000003,
            "count": 1
           },
           {
            "bin_start": 2536.2000000000003,
            "bin_end": 2818,
            "count": 1
           }
          ]
         }
        },
        {
         "name": "BPM_O",
         "dtype": "float64",
         "stats": {
          "unique_count": 196,
          "nan_count": 0,
          "min": "-40.1",
          "max": "40.1",
          "histogram": [
           {
            "bin_start": -40.1,
            "bin_end": -32.08,
            "count": 1
           },
           {
            "bin_start": -32.08,
            "bin_end": -24.060000000000002,
            "count": 2
           },
           {
            "bin_start": -24.060000000000002,
            "bin_end": -16.040000000000003,
            "count": 5
           },
           {
            "bin_start": -16.040000000000003,
            "bin_end": -8.020000000000003,
            "count": 50
           },
           {
            "bin_start": -8.020000000000003,
            "bin_end": -7.105427357601002e-15,
            "count": 1044
           },
           {
            "bin_start": -7.105427357601002e-15,
            "bin_end": 8.019999999999996,
            "count": 484
           },
           {
            "bin_start": 8.019999999999996,
            "bin_end": 16.04,
            "count": 10
           },
           {
            "bin_start": 16.04,
            "bin_end": 24.059999999999995,
            "count": 1
           },
           {
            "bin_start": 24.059999999999995,
            "bin_end": 32.07999999999999,
            "count": 1
           },
           {
            "bin_start": 32.07999999999999,
            "bin_end": 40.1,
            "count": 1
           }
          ]
         }
        },
        {
         "name": "BPM_D",
         "dtype": "float64",
         "stats": {
          "unique_count": 114,
          "nan_count": 0,
          "min": "-31.1",
          "max": "11.9",
          "histogram": [
           {
            "bin_start": -31.1,
            "bin_end": -26.8,
            "count": 1
           },
           {
            "bin_start": -26.8,
            "bin_end": -22.5,
            "count": 0
           },
           {
            "bin_start": -22.5,
            "bin_end": -18.200000000000003,
            "count": 1
           },
           {
            "bin_start": -18.200000000000003,
            "bin_end": -13.900000000000002,
            "count": 1
           },
           {
            "bin_start": -13.900000000000002,
            "bin_end": -9.600000000000001,
            "count": 1
           },
           {
            "bin_start": -9.600000000000001,
            "bin_end": -5.300000000000004,
            "count": 13
           },
           {
            "bin_start": -5.300000000000004,
            "bin_end": -1.0000000000000036,
            "count": 420
           },
           {
            "bin_start": -1.0000000000000036,
            "bin_end": 3.299999999999997,
            "count": 1133
           },
           {
            "bin_start": 3.299999999999997,
            "bin_end": 7.599999999999994,
            "count": 25
           },
           {
            "bin_start": 7.599999999999994,
            "bin_end": 11.9,
            "count": 4
           }
          ]
         }
        },
        {
         "name": "BPM",
         "dtype": "float64",
         "stats": {
          "unique_count": 232,
          "nan_count": 0,
          "min": "-47.1",
          "max": "52.0",
          "histogram": [
           {
            "bin_start": -47.1,
            "bin_end": -37.19,
            "count": 4
           },
           {
            "bin_start": -37.19,
            "bin_end": -27.28,
            "count": 2
           },
           {
            "bin_start": -27.28,
            "bin_end": -17.37,
            "count": 9
           },
           {
            "bin_start": -17.37,
            "bin_end": -7.460000000000001,
            "count": 98
           },
           {
            "bin_start": -7.460000000000001,
            "bin_end": 2.4499999999999957,
            "count": 1317
           },
           {
            "bin_start": 2.4499999999999957,
            "bin_end": 12.36,
            "count": 161
           },
           {
            "bin_start": 12.36,
            "bin_end": 22.270000000000003,
            "count": 5
           },
           {
            "bin_start": 22.270000000000003,
            "bin_end": 32.18,
            "count": 2
           },
           {
            "bin_start": 32.18,
            "bin_end": 42.089999999999996,
            "count": 0
           },
           {
            "bin_start": 42.089999999999996,
            "bin_end": 52,
            "count": 1
           }
          ]
         }
        },
        {
         "name": "EPM_O",
         "dtype": "object",
         "stats": {
          "unique_count": 405,
          "nan_count": 0,
          "categories": [
           {
            "name": "(null)",
            "count": 15
           },
           {
            "name": "-1.7370",
            "count": 14
           },
           {
            "name": "403 others",
            "count": 1570
           }
          ]
         }
        },
        {
         "name": "EPM_D",
         "dtype": "object",
         "stats": {
          "unique_count": 364,
          "nan_count": 0,
          "categories": [
           {
            "name": "0.1600",
            "count": 16
           },
           {
            "name": "-0.0570",
            "count": 15
           },
           {
            "name": "362 others",
            "count": 1568
           }
          ]
         }
        },
        {
         "name": "EPM",
         "dtype": "object",
         "stats": {
          "unique_count": 501,
          "nan_count": 0,
          "categories": [
           {
            "name": "(null)",
            "count": 15
           },
           {
            "name": "-3.8170",
            "count": 11
           },
           {
            "name": "499 others",
            "count": 1573
           }
          ]
         }
        },
        {
         "name": "RPM_O",
         "dtype": "object",
         "stats": {
          "unique_count": 610,
          "nan_count": 0,
          "categories": [
           {
            "name": "(null)",
            "count": 33
           },
           {
            "name": "-1.0400",
            "count": 11
           },
           {
            "name": "608 others",
            "count": 1555
           }
          ]
         }
        },
        {
         "name": "RPM_D",
         "dtype": "object",
         "stats": {
          "unique_count": 531,
          "nan_count": 0,
          "categories": [
           {
            "name": "(null)",
            "count": 33
           },
           {
            "name": "-1.1000",
            "count": 12
           },
           {
            "name": "529 others",
            "count": 1554
           }
          ]
         }
        },
        {
         "name": "RPM",
         "dtype": "object",
         "stats": {
          "unique_count": 649,
          "nan_count": 0,
          "categories": [
           {
            "name": "(null)",
            "count": 33
           },
           {
            "name": "-1.7500",
            "count": 8
           },
           {
            "name": "647 others",
            "count": 1558
           }
          ]
         }
        },
        {
         "name": "_deepnote_index_column",
         "dtype": "int64"
        }
       ],
       "rows": [
        {
         "PlayerId": 1342,
         "Player": "Aaron Gordon",
         "LeagueId": "NBA",
         "SeasonYear": 2018,
         "GameTypeId": "S",
         "GP": 78,
         "GS": 78,
         "MP": 2632.42,
         "FGM": 470,
         "FGA": 1046,
         "FG%": 0.449330783,
         "2FGM": 349,
         "2FGA": 699,
         "2FG%": 0.499284692,
         "3FGM": 121,
         "3FGA": 347,
         "3FG%": 0.34870317,
         "eFG%": 0.50669216,
         "TS%": 0.538313,
         "FTM": 185,
         "FTA": 253,
         "FT%": 0.731225296,
         "OR": 129,
         "DR": 445,
         "TR": 574,
         "AST": 289,
         "STL": 57,
         "BLK": 56,
         "TOV": 162,
         "PF": 172,
         "PTS": 1246,
         "BPM_O": 0.3,
         "BPM_D": 0.3,
         "BPM": 0.6,
         "EPM_O": "0.0690",
         "EPM_D": "0.9780",
         "EPM": "0.9780",
         "RPM_O": "-0.7900",
         "RPM_D": "1.1100",
         "RPM": "0.3200",
         "_deepnote_index_column": 0
        },
        {
         "PlayerId": 1342,
         "Player": "Aaron Gordon",
         "LeagueId": "NBA",
         "SeasonYear": 2019,
         "GameTypeId": "S",
         "GP": 62,
         "GS": 62,
         "MP": 2017.05,
         "FGM": 335,
         "FGA": 767,
         "FG%": 0.436766623,
         "2FGM": 262,
         "2FGA": 530,
         "2FG%": 0.494339622,
         "3FGM": 73,
         "3FGA": 237,
         "3FG%": 0.308016877,
         "eFG%": 0.483702737,
         "TS%": 0.516429,
         "FTM": 151,
         "FTA": 224,
         "FT%": 0.674107142,
         "OR": 107,
         "DR": 368,
         "TR": 475,
         "AST": 228,
         "STL": 51,
         "BLK": 39,
         "TOV": 100,
         "PF": 125,
         "PTS": 894,
         "BPM_O": -0.1,
         "BPM_D": 0.1,
         "BPM": 0,
         "EPM_O": "0.2710",
         "EPM_D": "-0.2530",
         "EPM": "-0.0660",
         "RPM_O": "-1.0500",
         "RPM_D": "2.0200",
         "RPM": "0.9700",
         "_deepnote_index_column": 1
        },
        {
         "PlayerId": 1342,
         "Player": "Aaron Gordon",
         "LeagueId": "NBA",
         "SeasonYear": 2020,
         "GameTypeId": "S",
         "GP": 50,
         "GS": 50,
         "MP": 1383.71,
         "FGM": 231,
         "FGA": 499,
         "FG%": 0.462925851,
         "2FGM": 172,
         "2FGA": 323,
         "2FG%": 0.532507739,
         "3FGM": 59,
         "3FGA": 176,
         "3FG%": 0.335227272,
         "eFG%": 0.521042084,
         "TS%": 0.547329,
         "FTM": 97,
         "FTA": 149,
         "FT%": 0.651006711,
         "OR": 77,
         "DR": 207,
         "TR": 284,
         "AST": 161,
         "STL": 33,
         "BLK": 34,
         "TOV": 97,
         "PF": 89,
         "PTS": 618,
         "BPM_O": 0.2,
         "BPM_D": -0.2,
         "BPM": 0,
         "EPM_O": "0.3730",
         "EPM_D": "0.6710",
         "EPM": "0.8750",
         "RPM_O": "-1.5700",
         "RPM_D": "2.1100",
         "RPM": "0.5400",
         "_deepnote_index_column": 2
        },
        {
         "PlayerId": 1341,
         "Player": "Aaron Holiday",
         "LeagueId": "NBA",
         "SeasonYear": 2018,
         "GameTypeId": "S",
         "GP": 50,
         "GS": 0,
         "MP": 645.78,
         "FGM": 105,
         "FGA": 262,
         "FG%": 0.400763358,
         "2FGM": 62,
         "2FGA": 135,
         "2FG%": 0.459259259,
         "3FGM": 43,
         "3FGA": 127,
         "3FG%": 0.338582677,
         "eFG%": 0.48091603,
         "TS%": 0.517606,
         "FTM": 41,
         "FTA": 50,
         "FT%": 0.82,
         "OR": 5,
         "DR": 62,
         "TR": 67,
         "AST": 87,
         "STL": 21,
         "BLK": 13,
         "TOV": 40,
         "PF": 71,
         "PTS": 294,
         "BPM_O": -1.7,
         "BPM_D": 0.1,
         "BPM": -1.6,
         "EPM_O": "-1.3470",
         "EPM_D": "0.2620",
         "EPM": "-1.1530",
         "RPM_O": "1.6200",
         "RPM_D": "2.3700",
         "RPM": "3.9900",
         "_deepnote_index_column": 3
        },
        {
         "PlayerId": 1341,
         "Player": "Aaron Holiday",
         "LeagueId": "NBA",
         "SeasonYear": 2019,
         "GameTypeId": "S",
         "GP": 66,
         "GS": 33,
         "MP": 1617.24,
         "FGM": 233,
         "FGA": 563,
         "FG%": 0.413854351,
         "2FGM": 146,
         "2FGA": 342,
         "2FG%": 0.426900584,
         "3FGM": 87,
         "3FGA": 221,
         "3FG%": 0.393665158,
         "eFG%": 0.490230905,
         "TS%": 0.521388,
         "FTM": 74,
         "FTA": 87,
         "FT%": 0.850574712,
         "OR": 22,
         "DR": 134,
         "TR": 156,
         "AST": 225,
         "STL": 55,
         "BLK": 16,
         "TOV": 88,
         "PF": 120,
         "PTS": 627,
         "BPM_O": -1.6,
         "BPM_D": 0,
         "BPM": -1.6,
         "EPM_O": "-0.5590",
         "EPM_D": "-0.3500",
         "EPM": "-0.8550",
         "RPM_O": "-0.8400",
         "RPM_D": "1.7600",
         "RPM": "0.9200",
         "_deepnote_index_column": 4
        },
        {
         "PlayerId": 1341,
         "Player": "Aaron Holiday",
         "LeagueId": "NBA",
         "SeasonYear": 2020,
         "GameTypeId": "S",
         "GP": 66,
         "GS": 8,
         "MP": 1175.98,
         "FGM": 170,
         "FGA": 436,
         "FG%": 0.389908256,
         "2FGM": 103,
         "2FGA": 254,
         "2FG%": 0.405511811,
         "3FGM": 67,
         "3FGA": 182,
         "3FG%": 0.368131868,
         "eFG%": 0.46559633,
         "TS%": 0.502624,
         "FTM": 68,
         "FTA": 83,
         "FT%": 0.819277108,
         "OR": 15,
         "DR": 74,
         "TR": 89,
         "AST": 123,
         "STL": 46,
         "BLK": 13,
         "TOV": 66,
         "PF": 94,
         "PTS": 475,
         "BPM_O": -3.2,
         "BPM_D": -1,
         "BPM": -4.1,
         "EPM_O": "-2.5240",
         "EPM_D": "-0.1560",
         "EPM": "-2.5310",
         "RPM_O": "0.0600",
         "RPM_D": "-1.8300",
         "RPM": "-1.7700",
         "_deepnote_index_column": 5
        },
        {
         "PlayerId": 41626,
         "Player": "Aaron Nesmith",
         "LeagueId": "NBA",
         "SeasonYear": 2020,
         "GameTypeId": "S",
         "GP": 46,
         "GS": 1,
         "MP": 668.66,
         "FGM": 78,
         "FGA": 178,
         "FG%": 0.438202247,
         "2FGM": 38,
         "2FGA": 70,
         "2FG%": 0.542857142,
         "3FGM": 40,
         "3FGA": 108,
         "3FG%": 0.37037037,
         "eFG%": 0.550561797,
         "TS%": 0.57272,
         "FTM": 22,
         "FTA": 28,
         "FT%": 0.785714285,
         "OR": 28,
         "DR": 99,
         "TR": 127,
         "AST": 23,
         "STL": 15,
         "BLK": 9,
         "TOV": 23,
         "PF": 87,
         "PTS": 218,
         "BPM_O": -2.9,
         "BPM_D": -0.4,
         "BPM": -3.2,
         "EPM_O": "-2.4260",
         "EPM_D": "-1.0280",
         "EPM": "-3.4210",
         "RPM_O": "-0.0500",
         "RPM_D": "-2.2100",
         "RPM": "-2.2500",
         "_deepnote_index_column": 6
        },
        {
         "PlayerId": 1195,
         "Player": "Abdel Nader",
         "LeagueId": "NBA",
         "SeasonYear": 2018,
         "GameTypeId": "S",
         "GP": 61,
         "GS": 1,
         "MP": 693.51,
         "FGM": 91,
         "FGA": 215,
         "FG%": 0.423255813,
         "2FGM": 59,
         "2FGA": 115,
         "2FG%": 0.513043478,
         "3FGM": 32,
         "3FGA": 100,
         "3FG%": 0.32,
         "eFG%": 0.497674418,
         "TS%": 0.522007,
         "FTM": 27,
         "FTA": 36,
         "FT%": 0.75,
         "OR": 14,
         "DR": 102,
         "TR": 116,
         "AST": 20,
         "STL": 20,
         "BLK": 12,
         "TOV": 26,
         "PF": 68,
         "PTS": 241,
         "BPM_O": -3.6,
         "BPM_D": 0.3,
         "BPM": -3.2,
         "EPM_O": "-4.0400",
         "EPM_D": "-1.3230",
         "EPM": "-5.3600",
         "RPM_O": "-2.1900",
         "RPM_D": "0.2100",
         "RPM": "-1.9800",
         "_deepnote_index_column": 7
        },
        {
         "PlayerId": 1195,
         "Player": "Abdel Nader",
         "LeagueId": "NBA",
         "SeasonYear": 2019,
         "GameTypeId": "S",
         "GP": 55,
         "GS": 6,
         "MP": 866.89,
         "FGM": 123,
         "FGA": 263,
         "FG%": 0.467680608,
         "2FGM": 75,
         "2FGA": 135,
         "2FG%": 0.555555555,
         "3FGM": 48,
         "3FGA": 128,
         "3FG%": 0.375,
         "eFG%": 0.558935361,
         "TS%": 0.590673,
         "FTM": 51,
         "FTA": 66,
         "FT%": 0.772727272,
         "OR": 14,
         "DR": 86,
         "TR": 100,
         "AST": 38,
         "STL": 23,
         "BLK": 20,
         "TOV": 43,
         "PF": 78,
         "PTS": 345,
         "BPM_O": -1.1,
         "BPM_D": 0.2,
         "BPM": -1,
         "EPM_O": "-2.6190",
         "EPM_D": "-0.3500",
         "EPM": "-2.9230",
         "RPM_O": "-1.2400",
         "RPM_D": "0.6500",
         "RPM": "-0.5900",
         "_deepnote_index_column": 8
        },
        {
         "PlayerId": 1195,
         "Player": "Abdel Nader",
         "LeagueId": "NBA",
         "SeasonYear": 2020,
         "GameTypeId": "S",
         "GP": 24,
         "GS": 0,
         "MP": 355.21,
         "FGM": 57,
         "FGA": 116,
         "FG%": 0.49137931,
         "2FGM": 39,
         "2FGA": 73,
         "2FG%": 0.534246575,
         "3FGM": 18,
         "3FGA": 43,
         "3FG%": 0.418604651,
         "eFG%": 0.568965517,
         "TS%": 0.604778,
         "FTM": 28,
         "FTA": 37,
         "FT%": 0.756756756,
         "OR": 7,
         "DR": 55,
         "TR": 62,
         "AST": 19,
         "STL": 10,
         "BLK": 9,
         "TOV": 19,
         "PF": 34,
         "PTS": 160,
         "BPM_O": -1.2,
         "BPM_D": 0.8,
         "BPM": -0.4,
         "EPM_O": "-2.4250",
         "EPM_D": "1.4870",
         "EPM": "-1.0510",
         "RPM_O": "0.1000",
         "RPM_D": "-1.0200",
         "RPM": "-0.9200",
         "_deepnote_index_column": 9
        }
       ]
      },
      "text/plain": "      PlayerId           Player LeagueId  SeasonYear GameTypeId  GP  GS  \\\n0         1342     Aaron Gordon      NBA        2018          S  78  78   \n1         1342     Aaron Gordon      NBA        2019          S  62  62   \n2         1342     Aaron Gordon      NBA        2020          S  50  50   \n3         1341    Aaron Holiday      NBA        2018          S  50   0   \n4         1341    Aaron Holiday      NBA        2019          S  66  33   \n...        ...              ...      ...         ...        ...  ..  ..   \n1594      1626     Zhaire Smith      NBA        2019          S   7   0   \n1595      1294          Zhou Qi      NBA        2018          S   1   0   \n1596      2267  Zion Williamson      NBA        2019          S  24  24   \n1597      2267  Zion Williamson      NBA        2020          S  61  61   \n1598      3352   Zylan Cheatham      NBA        2019          S   4   0   \n\n           MP  FGM   FGA  ...   PTS  BPM_O  BPM_D   BPM    EPM_O    EPM_D  \\\n0     2632.42  470  1046  ...  1246    0.3    0.3   0.6   0.0690   0.9780   \n1     2017.05  335   767  ...   894   -0.1    0.1   0.0   0.2710  -0.2530   \n2     1383.71  231   499  ...   618    0.2   -0.2   0.0   0.3730   0.6710   \n3      645.78  105   262  ...   294   -1.7    0.1  -1.6  -1.3470   0.2620   \n4     1617.24  233   563  ...   627   -1.6    0.0  -1.6  -0.5590  -0.3500   \n...       ...  ...   ...  ...   ...    ...    ...   ...      ...      ...   \n1594    32.32    3    11  ...     8  -10.8    0.8 -10.0  -4.1000  -1.2000   \n1595     0.95    1     1  ...     2   40.1   11.9  52.0   (null)   (null)   \n1596   668.12  210   360  ...   540    3.5   -1.4   2.1   2.4930  -0.8400   \n1597  2025.77  634  1037  ...  1647    5.8   -0.4   5.4   4.3960   0.1590   \n1598    51.04    6     9  ...    12   -6.5   -0.6  -7.1  -2.7190  -2.0100   \n\n          EPM    RPM_O    RPM_D      RPM  \n0      0.9780  -0.7900   1.1100   0.3200  \n1     -0.0660  -1.0500   2.0200   0.9700  \n2      0.8750  -1.5700   2.1100   0.5400  \n3     -1.1530   1.6200   2.3700   3.9900  \n4     -0.8550  -0.8400   1.7600   0.9200  \n...       ...      ...      ...      ...  \n1594  -5.4000  -2.2300  -0.4300  -2.6600  \n1595   (null)   (null)   (null)   (null)  \n1596   1.6830   2.7300   0.5700   3.2900  \n1597   4.3960   1.0700   2.1300   3.2000  \n1598  -4.7900  -1.8700  -0.3900  -2.2600  \n\n[1599 rows x 40 columns]",
      "text/html": "<div>\n<style scoped>\n    .dataframe tbody tr th:only-of-type {\n        vertical-align: middle;\n    }\n\n    .dataframe tbody tr th {\n        vertical-align: top;\n    }\n\n    .dataframe thead th {\n        text-align: right;\n    }\n</style>\n<table border=\"1\" class=\"dataframe\">\n  <thead>\n    <tr style=\"text-align: right;\">\n      <th></th>\n      <th>PlayerId</th>\n      <th>Player</th>\n      <th>LeagueId</th>\n      <th>SeasonYear</th>\n      <th>GameTypeId</th>\n      <th>GP</th>\n      <th>GS</th>\n      <th>MP</th>\n      <th>FGM</th>\n      <th>FGA</th>\n      <th>...</th>\n      <th>PTS</th>\n      <th>BPM_O</th>\n      <th>BPM_D</th>\n      <th>BPM</th>\n      <th>EPM_O</th>\n      <th>EPM_D</th>\n      <th>EPM</th>\n      <th>RPM_O</th>\n      <th>RPM_D</th>\n      <th>RPM</th>\n    </tr>\n  </thead>\n  <tbody>\n    <tr>\n      <th>0</th>\n      <td>1342</td>\n      <td>Aaron Gordon</td>\n      <td>NBA</td>\n      <td>2018</td>\n      <td>S</td>\n      <td>78</td>\n      <td>78</td>\n      <td>2632.42</td>\n      <td>470</td>\n      <td>1046</td>\n      <td>...</td>\n      <td>1246</td>\n      <td>0.3</td>\n      <td>0.3</td>\n      <td>0.6</td>\n      <td>0.0690</td>\n      <td>0.9780</td>\n      <td>0.9780</td>\n      <td>-0.7900</td>\n      <td>1.1100</td>\n      <td>0.3200</td>\n    </tr>\n    <tr>\n      <th>1</th>\n      <td>1342</td>\n      <td>Aaron Gordon</td>\n      <td>NBA</td>\n      <td>2019</td>\n      <td>S</td>\n      <td>62</td>\n      <td>62</td>\n      <td>2017.05</td>\n      <td>335</td>\n      <td>767</td>\n      <td>...</td>\n      <td>894</td>\n      <td>-0.1</td>\n      <td>0.1</td>\n      <td>0.0</td>\n      <td>0.2710</td>\n      <td>-0.2530</td>\n      <td>-0.0660</td>\n      <td>-1.0500</td>\n      <td>2.0200</td>\n      <td>0.9700</td>\n    </tr>\n    <tr>\n      <th>2</th>\n      <td>1342</td>\n      <td>Aaron Gordon</td>\n      <td>NBA</td>\n      <td>2020</td>\n      <td>S</td>\n      <td>50</td>\n      <td>50</td>\n      <td>1383.71</td>\n      <td>231</td>\n      <td>499</td>\n      <td>...</td>\n      <td>618</td>\n      <td>0.2</td>\n      <td>-0.2</td>\n      <td>0.0</td>\n      <td>0.3730</td>\n      <td>0.6710</td>\n      <td>0.8750</td>\n      <td>-1.5700</td>\n      <td>2.1100</td>\n      <td>0.5400</td>\n    </tr>\n    <tr>\n      <th>3</th>\n      <td>1341</td>\n      <td>Aaron Holiday</td>\n      <td>NBA</td>\n      <td>2018</td>\n      <td>S</td>\n      <td>50</td>\n      <td>0</td>\n      <td>645.78</td>\n      <td>105</td>\n      <td>262</td>\n      <td>...</td>\n      <td>294</td>\n      <td>-1.7</td>\n      <td>0.1</td>\n      <td>-1.6</td>\n      <td>-1.3470</td>\n      <td>0.2620</td>\n      <td>-1.1530</td>\n      <td>1.6200</td>\n      <td>2.3700</td>\n      <td>3.9900</td>\n    </tr>\n    <tr>\n      <th>4</th>\n      <td>1341</td>\n      <td>Aaron Holiday</td>\n      <td>NBA</td>\n      <td>2019</td>\n      <td>S</td>\n      <td>66</td>\n      <td>33</td>\n      <td>1617.24</td>\n      <td>233</td>\n      <td>563</td>\n      <td>...</td>\n      <td>627</td>\n      <td>-1.6</td>\n      <td>0.0</td>\n      <td>-1.6</td>\n      <td>-0.5590</td>\n      <td>-0.3500</td>\n      <td>-0.8550</td>\n      <td>-0.8400</td>\n      <td>1.7600</td>\n      <td>0.9200</td>\n    </tr>\n    <tr>\n      <th>...</th>\n      <td>...</td>\n      <td>...</td>\n      <td>...</td>\n      <td>...</td>\n      <td>...</td>\n      <td>...</td>\n      <td>...</td>\n      <td>...</td>\n      <td>...</td>\n      <td>...</td>\n      <td>...</td>\n      <td>...</td>\n      <td>...</td>\n      <td>...</td>\n      <td>...</td>\n      <td>...</td>\n      <td>...</td>\n      <td>...</td>\n      <td>...</td>\n      <td>...</td>\n      <td>...</td>\n    </tr>\n    <tr>\n      <th>1594</th>\n      <td>1626</td>\n      <td>Zhaire Smith</td>\n      <td>NBA</td>\n      <td>2019</td>\n      <td>S</td>\n      <td>7</td>\n      <td>0</td>\n      <td>32.32</td>\n      <td>3</td>\n      <td>11</td>\n      <td>...</td>\n      <td>8</td>\n      <td>-10.8</td>\n      <td>0.8</td>\n      <td>-10.0</td>\n      <td>-4.1000</td>\n      <td>-1.2000</td>\n      <td>-5.4000</td>\n      <td>-2.2300</td>\n      <td>-0.4300</td>\n      <td>-2.6600</td>\n    </tr>\n    <tr>\n      <th>1595</th>\n      <td>1294</td>\n      <td>Zhou Qi</td>\n      <td>NBA</td>\n      <td>2018</td>\n      <td>S</td>\n      <td>1</td>\n      <td>0</td>\n      <td>0.95</td>\n      <td>1</td>\n      <td>1</td>\n      <td>...</td>\n      <td>2</td>\n      <td>40.1</td>\n      <td>11.9</td>\n      <td>52.0</td>\n      <td>(null)</td>\n      <td>(null)</td>\n      <td>(null)</td>\n      <td>(null)</td>\n      <td>(null)</td>\n      <td>(null)</td>\n    </tr>\n    <tr>\n      <th>1596</th>\n      <td>2267</td>\n      <td>Zion Williamson</td>\n      <td>NBA</td>\n      <td>2019</td>\n      <td>S</td>\n      <td>24</td>\n      <td>24</td>\n      <td>668.12</td>\n      <td>210</td>\n      <td>360</td>\n      <td>...</td>\n      <td>540</td>\n      <td>3.5</td>\n      <td>-1.4</td>\n      <td>2.1</td>\n      <td>2.4930</td>\n      <td>-0.8400</td>\n      <td>1.6830</td>\n      <td>2.7300</td>\n      <td>0.5700</td>\n      <td>3.2900</td>\n    </tr>\n    <tr>\n      <th>1597</th>\n      <td>2267</td>\n      <td>Zion Williamson</td>\n      <td>NBA</td>\n      <td>2020</td>\n      <td>S</td>\n      <td>61</td>\n      <td>61</td>\n      <td>2025.77</td>\n      <td>634</td>\n      <td>1037</td>\n      <td>...</td>\n      <td>1647</td>\n      <td>5.8</td>\n      <td>-0.4</td>\n      <td>5.4</td>\n      <td>4.3960</td>\n      <td>0.1590</td>\n      <td>4.3960</td>\n      <td>1.0700</td>\n      <td>2.1300</td>\n      <td>3.2000</td>\n    </tr>\n    <tr>\n      <th>1598</th>\n      <td>3352</td>\n      <td>Zylan Cheatham</td>\n      <td>NBA</td>\n      <td>2019</td>\n      <td>S</td>\n      <td>4</td>\n      <td>0</td>\n      <td>51.04</td>\n      <td>6</td>\n      <td>9</td>\n      <td>...</td>\n      <td>12</td>\n      <td>-6.5</td>\n      <td>-0.6</td>\n      <td>-7.1</td>\n      <td>-2.7190</td>\n      <td>-2.0100</td>\n      <td>-4.7900</td>\n      <td>-1.8700</td>\n      <td>-0.3900</td>\n      <td>-2.2600</td>\n    </tr>\n  </tbody>\n</table>\n<p>1599 rows × 40 columns</p>\n</div>"
     },
     "metadata": {}
    }
   ]
  },
  {
   "cell_type": "code",
   "metadata": {
    "cell_id": "7799dfe7-7840-496b-9459-7f7e8f9514b2",
    "tags": [],
    "deepnote_to_be_reexecuted": false,
    "source_hash": "b52ecdae",
    "execution_start": 1646969148309,
    "execution_millis": 16638,
    "deepnote_table_state": {
     "pageSize": 10,
     "pageIndex": 0,
     "filters": [],
     "sortBy": [
      {
       "id": "SeasonYear",
       "type": "desc"
      }
     ]
    },
    "deepnote_table_loading": false,
    "deepnote_table_invalid": false,
    "deepnote_cell_type": "code",
    "deepnote_cell_height": 650
   },
   "source": "play_by_play = pd.read_csv('PlayByPlay.csv')\nplay_by_play",
   "execution_count": null,
   "outputs": [
    {
     "output_type": "execute_result",
     "execution_count": 14,
     "data": {
      "application/vnd.deepnote.dataframe.v3+json": {
       "column_count": 44,
       "row_count": 2038400,
       "columns": [
        {
         "name": "GameId",
         "dtype": "int64"
        },
        {
         "name": "GameDate_Only",
         "dtype": "object"
        },
        {
         "name": "SeasonYear",
         "dtype": "int64"
        },
        {
         "name": "PlayByPlayId",
         "dtype": "int64"
        },
        {
         "name": "EventNumber",
         "dtype": "int64"
        },
        {
         "name": "Period",
         "dtype": "int64"
        },
        {
         "name": "GameClock_Minutes",
         "dtype": "int64"
        },
        {
         "name": "GameClock_Seconds",
         "dtype": "int64"
        },
        {
         "name": "GameClock",
         "dtype": "object"
        },
        {
         "name": "Description",
         "dtype": "object"
        },
        {
         "name": "EventTypeId",
         "dtype": "int64"
        },
        {
         "name": "EventType",
         "dtype": "object"
        },
        {
         "name": "ActionTypeIndex",
         "dtype": "int64"
        },
        {
         "name": "ActionTypeName",
         "dtype": "object"
        },
        {
         "name": "Points",
         "dtype": "int64"
        },
        {
         "name": "PlayLength_Seconds",
         "dtype": "int64"
        },
        {
         "name": "TeamScore_Offense",
         "dtype": "int64"
        },
        {
         "name": "TeamId_Offense",
         "dtype": "int64"
        },
        {
         "name": "TeamName_Offense",
         "dtype": "object"
        },
        {
         "name": "FloorLineupId_Offense",
         "dtype": "int64"
        },
        {
         "name": "PlayerId1_Offense",
         "dtype": "int64"
        },
        {
         "name": "PlayerName1_Offense",
         "dtype": "object"
        },
        {
         "name": "PlayerId2_Offense",
         "dtype": "int64"
        },
        {
         "name": "PlayerName2_Offense",
         "dtype": "object"
        },
        {
         "name": "PlayerId3_Offense",
         "dtype": "int64"
        },
        {
         "name": "PlayerName3_Offense",
         "dtype": "object"
        },
        {
         "name": "PlayerId4_Offense",
         "dtype": "int64"
        },
        {
         "name": "PlayerName4_Offense",
         "dtype": "object"
        },
        {
         "name": "PlayerId5_Offense",
         "dtype": "int64"
        },
        {
         "name": "PlayerName5_Offense",
         "dtype": "object"
        },
        {
         "name": "TeamScore_Defense",
         "dtype": "int64"
        },
        {
         "name": "TeamId_Defense",
         "dtype": "int64"
        },
        {
         "name": "TeamName_Defense",
         "dtype": "object"
        },
        {
         "name": "FloorLineupId_Defense",
         "dtype": "int64"
        },
        {
         "name": "PlayerId1_Defense",
         "dtype": "int64"
        },
        {
         "name": "PlayerName1_Defense",
         "dtype": "object"
        },
        {
         "name": "PlayerId2_Defense",
         "dtype": "int64"
        },
        {
         "name": "PlayerName2_Defense",
         "dtype": "object"
        },
        {
         "name": "PlayerId3_Defense",
         "dtype": "int64"
        },
        {
         "name": "PlayerName3_Defense",
         "dtype": "object"
        },
        {
         "name": "PlayerId4_Defense",
         "dtype": "int64"
        },
        {
         "name": "PlayerName4_Defense",
         "dtype": "object"
        },
        {
         "name": "PlayerId5_Defense",
         "dtype": "int64"
        },
        {
         "name": "PlayerName5_Defense",
         "dtype": "object"
        },
        {
         "name": "_deepnote_index_column",
         "dtype": "int64"
        }
       ],
       "rows": [
        {
         "GameId": 435685,
         "GameDate_Only": "2022-02-17",
         "SeasonYear": 2021,
         "PlayByPlayId": 16627337,
         "EventNumber": 654,
         "Period": 4,
         "GameClock_Minutes": 0,
         "GameClock_Seconds": 0,
         "GameClock": "0:00",
         "Description": "End Period",
         "EventTypeId": 13,
         "EventType": "End Period",
         "ActionTypeIndex": 0,
         "ActionTypeName": "End Period",
         "Points": 0,
         "PlayLength_Seconds": 16,
         "TeamScore_Offense": 142,
         "TeamId_Offense": 34,
         "TeamName_Offense": "Los Angeles Clippers",
         "FloorLineupId_Offense": 518728,
         "PlayerId1_Offense": 1209,
         "PlayerName1_Offense": "Rodney Hood",
         "PlayerId2_Offense": 1325,
         "PlayerName2_Offense": "Semi Ojeleye",
         "PlayerId3_Offense": 1554,
         "PlayerName3_Offense": "Isaiah Hartenstein",
         "PlayerId4_Offense": 116055,
         "PlayerName4_Offense": "B.J. Boston",
         "PlayerId5_Offense": 4515,
         "PlayerName5_Offense": "Amir Coffey",
         "TeamScore_Defense": 111,
         "TeamId_Defense": 28,
         "TeamName_Defense": "Houston Rockets",
         "FloorLineupId_Defense": 516098,
         "PlayerId1_Defense": 1519,
         "PlayerName1_Defense": "David Nwaba",
         "PlayerId2_Defense": 5149,
         "PlayerName2_Defense": "Garrison Mathews",
         "PlayerId3_Defense": 115539,
         "PlayerName3_Defense": "Josh Christopher",
         "PlayerId4_Defense": 2253,
         "PlayerName4_Defense": "Bruno Fernando",
         "PlayerId5_Defense": 110715,
         "PlayerName5_Defense": "K.J. Martin",
         "_deepnote_index_column": 2038399
        },
        {
         "GameId": 435091,
         "GameDate_Only": "2021-11-27",
         "SeasonYear": 2021,
         "PlayByPlayId": 14647041,
         "EventNumber": 163,
         "Period": 2,
         "GameClock_Minutes": 11,
         "GameClock_Seconds": 17,
         "GameClock": "11:17",
         "Description": "[PHX] McGee Free Throw 2 of 2 Missed",
         "EventTypeId": 3,
         "EventType": "Free Throw",
         "ActionTypeIndex": 12,
         "ActionTypeName": "Free Throw 2 of 2",
         "Points": 0,
         "PlayLength_Seconds": 0,
         "TeamScore_Offense": 35,
         "TeamId_Offense": 56,
         "TeamName_Offense": "Phoenix Suns",
         "FloorLineupId_Offense": 400543,
         "PlayerId1_Offense": 1374,
         "PlayerName1_Offense": "Cameron Payne",
         "PlayerId2_Offense": 654,
         "PlayerName2_Offense": "JaVale McGee",
         "PlayerId3_Offense": 1478,
         "PlayerName3_Offense": "Mikal Bridges",
         "PlayerId4_Offense": 2651,
         "PlayerName4_Offense": "Cameron Johnson",
         "PlayerId5_Offense": 1640,
         "PlayerName5_Offense": "Landry Shamet",
         "TeamScore_Defense": 20,
         "TeamId_Defense": 7,
         "TeamName_Defense": "Brooklyn Nets",
         "FloorLineupId_Defense": 411400,
         "PlayerId1_Defense": 706,
         "PlayerName1_Defense": "James Johnson",
         "PlayerId2_Defense": 1576,
         "PlayerName2_Defense": "Jevon Carter",
         "PlayerId3_Defense": 608,
         "PlayerName3_Defense": "Patty Mills",
         "PlayerId4_Defense": 627,
         "PlayerName4_Defense": "James Harden",
         "PlayerId5_Defense": 464,
         "PlayerName5_Defense": "Paul Millsap",
         "_deepnote_index_column": 1759122
        },
        {
         "GameId": 435091,
         "GameDate_Only": "2021-11-27",
         "SeasonYear": 2021,
         "PlayByPlayId": 14646468,
         "EventNumber": 144,
         "Period": 1,
         "GameClock_Minutes": 0,
         "GameClock_Seconds": 0,
         "GameClock": "0:00",
         "Description": "[PHX] Team Rebound",
         "EventTypeId": 4,
         "EventType": "Rebound",
         "ActionTypeIndex": 0,
         "ActionTypeName": "Rebound",
         "Points": 0,
         "PlayLength_Seconds": 0,
         "TeamScore_Offense": 34,
         "TeamId_Offense": 56,
         "TeamName_Offense": "Phoenix Suns",
         "FloorLineupId_Offense": 401830,
         "PlayerId1_Offense": 654,
         "PlayerName1_Offense": "JaVale McGee",
         "PlayerId2_Offense": 1374,
         "PlayerName2_Offense": "Cameron Payne",
         "PlayerId3_Offense": 1376,
         "PlayerName3_Offense": "Devin Booker",
         "PlayerId4_Offense": 1640,
         "PlayerName4_Offense": "Landry Shamet",
         "PlayerId5_Offense": 2651,
         "PlayerName5_Offense": "Cameron Johnson",
         "TeamScore_Defense": 20,
         "TeamId_Defense": 7,
         "TeamName_Defense": "Brooklyn Nets",
         "FloorLineupId_Defense": 412111,
         "PlayerId1_Defense": 464,
         "PlayerName1_Defense": "Paul Millsap",
         "PlayerId2_Defense": 1600,
         "PlayerName2_Defense": "Bruce Brown Jr.",
         "PlayerId3_Defense": 625,
         "PlayerName3_Defense": "Kevin Durant",
         "PlayerId4_Defense": 608,
         "PlayerName4_Defense": "Patty Mills",
         "PlayerId5_Defense": 114772,
         "PlayerName5_Defense": "Cam Thomas",
         "_deepnote_index_column": 1759112
        },
        {
         "GameId": 435091,
         "GameDate_Only": "2021-11-27",
         "SeasonYear": 2021,
         "PlayByPlayId": 14646469,
         "EventNumber": 145,
         "Period": 1,
         "GameClock_Minutes": 0,
         "GameClock_Seconds": 0,
         "GameClock": "0:00",
         "Description": "End Period",
         "EventTypeId": 13,
         "EventType": "End Period",
         "ActionTypeIndex": 0,
         "ActionTypeName": "End Period",
         "Points": 0,
         "PlayLength_Seconds": 0,
         "TeamScore_Offense": 34,
         "TeamId_Offense": 56,
         "TeamName_Offense": "Phoenix Suns",
         "FloorLineupId_Offense": 401830,
         "PlayerId1_Offense": 654,
         "PlayerName1_Offense": "JaVale McGee",
         "PlayerId2_Offense": 1374,
         "PlayerName2_Offense": "Cameron Payne",
         "PlayerId3_Offense": 1376,
         "PlayerName3_Offense": "Devin Booker",
         "PlayerId4_Offense": 1640,
         "PlayerName4_Offense": "Landry Shamet",
         "PlayerId5_Offense": 2651,
         "PlayerName5_Offense": "Cameron Johnson",
         "TeamScore_Defense": 20,
         "TeamId_Defense": 7,
         "TeamName_Defense": "Brooklyn Nets",
         "FloorLineupId_Defense": 412111,
         "PlayerId1_Defense": 464,
         "PlayerName1_Defense": "Paul Millsap",
         "PlayerId2_Defense": 1600,
         "PlayerName2_Defense": "Bruce Brown Jr.",
         "PlayerId3_Defense": 625,
         "PlayerName3_Defense": "Kevin Durant",
         "PlayerId4_Defense": 608,
         "PlayerName4_Defense": "Patty Mills",
         "PlayerId5_Defense": 114772,
         "PlayerName5_Defense": "Cam Thomas",
         "_deepnote_index_column": 1759113
        },
        {
         "GameId": 435091,
         "GameDate_Only": "2021-11-27",
         "SeasonYear": 2021,
         "PlayByPlayId": 14647033,
         "EventNumber": 152,
         "Period": 2,
         "GameClock_Minutes": 12,
         "GameClock_Seconds": 0,
         "GameClock": "12:00",
         "Description": "Start Period",
         "EventTypeId": 12,
         "EventType": "Start Period",
         "ActionTypeIndex": 0,
         "ActionTypeName": "Start Period",
         "Points": 0,
         "PlayLength_Seconds": 0,
         "TeamScore_Offense": 20,
         "TeamId_Offense": 7,
         "TeamName_Offense": "Brooklyn Nets",
         "FloorLineupId_Offense": 411400,
         "PlayerId1_Offense": 706,
         "PlayerName1_Offense": "James Johnson",
         "PlayerId2_Offense": 1576,
         "PlayerName2_Offense": "Jevon Carter",
         "PlayerId3_Offense": 608,
         "PlayerName3_Offense": "Patty Mills",
         "PlayerId4_Offense": 627,
         "PlayerName4_Offense": "James Harden",
         "PlayerId5_Offense": 464,
         "PlayerName5_Offense": "Paul Millsap",
         "TeamScore_Defense": 34,
         "TeamId_Defense": 56,
         "TeamName_Defense": "Phoenix Suns",
         "FloorLineupId_Defense": 400543,
         "PlayerId1_Defense": 1374,
         "PlayerName1_Defense": "Cameron Payne",
         "PlayerId2_Defense": 654,
         "PlayerName2_Defense": "JaVale McGee",
         "PlayerId3_Defense": 1478,
         "PlayerName3_Defense": "Mikal Bridges",
         "PlayerId4_Defense": 2651,
         "PlayerName4_Defense": "Cameron Johnson",
         "PlayerId5_Defense": 1640,
         "PlayerName5_Defense": "Landry Shamet",
         "_deepnote_index_column": 1759114
        },
        {
         "GameId": 435091,
         "GameDate_Only": "2021-11-27",
         "SeasonYear": 2021,
         "PlayByPlayId": 14647034,
         "EventNumber": 155,
         "Period": 2,
         "GameClock_Minutes": 12,
         "GameClock_Seconds": 0,
         "GameClock": "12:00",
         "Description": "[BKN] Team Violation : Delay Of Game (J DeRosa)",
         "EventTypeId": 7,
         "EventType": "Violation",
         "ActionTypeIndex": 1,
         "ActionTypeName": "Delay Of Game",
         "Points": 0,
         "PlayLength_Seconds": 0,
         "TeamScore_Offense": 20,
         "TeamId_Offense": 7,
         "TeamName_Offense": "Brooklyn Nets",
         "FloorLineupId_Offense": 411400,
         "PlayerId1_Offense": 706,
         "PlayerName1_Offense": "James Johnson",
         "PlayerId2_Offense": 1576,
         "PlayerName2_Offense": "Jevon Carter",
         "PlayerId3_Offense": 608,
         "PlayerName3_Offense": "Patty Mills",
         "PlayerId4_Offense": 627,
         "PlayerName4_Offense": "James Harden",
         "PlayerId5_Offense": 464,
         "PlayerName5_Offense": "Paul Millsap",
         "TeamScore_Defense": 34,
         "TeamId_Defense": 56,
         "TeamName_Defense": "Phoenix Suns",
         "FloorLineupId_Defense": 400543,
         "PlayerId1_Defense": 1374,
         "PlayerName1_Defense": "Cameron Payne",
         "PlayerId2_Defense": 654,
         "PlayerName2_Defense": "JaVale McGee",
         "PlayerId3_Defense": 1478,
         "PlayerName3_Defense": "Mikal Bridges",
         "PlayerId4_Defense": 2651,
         "PlayerName4_Defense": "Cameron Johnson",
         "PlayerId5_Defense": 1640,
         "PlayerName5_Defense": "Landry Shamet",
         "_deepnote_index_column": 1759115
        },
        {
         "GameId": 435091,
         "GameDate_Only": "2021-11-27",
         "SeasonYear": 2021,
         "PlayByPlayId": 14647035,
         "EventNumber": 156,
         "Period": 2,
         "GameClock_Minutes": 11,
         "GameClock_Seconds": 37,
         "GameClock": "11:37",
         "Description": "[BKN] Harden 3pt Shot: Missed",
         "EventTypeId": 2,
         "EventType": "Missed Shot",
         "ActionTypeIndex": 80,
         "ActionTypeName": "Step Back Jump shot",
         "Points": 0,
         "PlayLength_Seconds": 23,
         "TeamScore_Offense": 20,
         "TeamId_Offense": 7,
         "TeamName_Offense": "Brooklyn Nets",
         "FloorLineupId_Offense": 411400,
         "PlayerId1_Offense": 706,
         "PlayerName1_Offense": "James Johnson",
         "PlayerId2_Offense": 1576,
         "PlayerName2_Offense": "Jevon Carter",
         "PlayerId3_Offense": 608,
         "PlayerName3_Offense": "Patty Mills",
         "PlayerId4_Offense": 627,
         "PlayerName4_Offense": "James Harden",
         "PlayerId5_Offense": 464,
         "PlayerName5_Offense": "Paul Millsap",
         "TeamScore_Defense": 34,
         "TeamId_Defense": 56,
         "TeamName_Defense": "Phoenix Suns",
         "FloorLineupId_Defense": 400543,
         "PlayerId1_Defense": 1374,
         "PlayerName1_Defense": "Cameron Payne",
         "PlayerId2_Defense": 654,
         "PlayerName2_Defense": "JaVale McGee",
         "PlayerId3_Defense": 1478,
         "PlayerName3_Defense": "Mikal Bridges",
         "PlayerId4_Defense": 2651,
         "PlayerName4_Defense": "Cameron Johnson",
         "PlayerId5_Defense": 1640,
         "PlayerName5_Defense": "Landry Shamet",
         "_deepnote_index_column": 1759116
        },
        {
         "GameId": 435091,
         "GameDate_Only": "2021-11-27",
         "SeasonYear": 2021,
         "PlayByPlayId": 14647036,
         "EventNumber": 157,
         "Period": 2,
         "GameClock_Minutes": 11,
         "GameClock_Seconds": 32,
         "GameClock": "11:32",
         "Description": "[PHX] Johnson Rebound (Off:0 Def:1)",
         "EventTypeId": 4,
         "EventType": "Rebound",
         "ActionTypeIndex": 0,
         "ActionTypeName": "Rebound",
         "Points": 0,
         "PlayLength_Seconds": 5,
         "TeamScore_Offense": 20,
         "TeamId_Offense": 7,
         "TeamName_Offense": "Brooklyn Nets",
         "FloorLineupId_Offense": 411400,
         "PlayerId1_Offense": 706,
         "PlayerName1_Offense": "James Johnson",
         "PlayerId2_Offense": 1576,
         "PlayerName2_Offense": "Jevon Carter",
         "PlayerId3_Offense": 608,
         "PlayerName3_Offense": "Patty Mills",
         "PlayerId4_Offense": 627,
         "PlayerName4_Offense": "James Harden",
         "PlayerId5_Offense": 464,
         "PlayerName5_Offense": "Paul Millsap",
         "TeamScore_Defense": 34,
         "TeamId_Defense": 56,
         "TeamName_Defense": "Phoenix Suns",
         "FloorLineupId_Defense": 400543,
         "PlayerId1_Defense": 1374,
         "PlayerName1_Defense": "Cameron Payne",
         "PlayerId2_Defense": 654,
         "PlayerName2_Defense": "JaVale McGee",
         "PlayerId3_Defense": 1478,
         "PlayerName3_Defense": "Mikal Bridges",
         "PlayerId4_Defense": 2651,
         "PlayerName4_Defense": "Cameron Johnson",
         "PlayerId5_Defense": 1640,
         "PlayerName5_Defense": "Landry Shamet",
         "_deepnote_index_column": 1759117
        },
        {
         "GameId": 435091,
         "GameDate_Only": "2021-11-27",
         "SeasonYear": 2021,
         "PlayByPlayId": 14647037,
         "EventNumber": 158,
         "Period": 2,
         "GameClock_Minutes": 11,
         "GameClock_Seconds": 18,
         "GameClock": "11:18",
         "Description": "[PHX] Johnson 3pt Shot: Missed",
         "EventTypeId": 2,
         "EventType": "Missed Shot",
         "ActionTypeIndex": 1,
         "ActionTypeName": "Jump Shot",
         "Points": 0,
         "PlayLength_Seconds": 14,
         "TeamScore_Offense": 34,
         "TeamId_Offense": 56,
         "TeamName_Offense": "Phoenix Suns",
         "FloorLineupId_Offense": 400543,
         "PlayerId1_Offense": 1374,
         "PlayerName1_Offense": "Cameron Payne",
         "PlayerId2_Offense": 654,
         "PlayerName2_Offense": "JaVale McGee",
         "PlayerId3_Offense": 1478,
         "PlayerName3_Offense": "Mikal Bridges",
         "PlayerId4_Offense": 2651,
         "PlayerName4_Offense": "Cameron Johnson",
         "PlayerId5_Offense": 1640,
         "PlayerName5_Offense": "Landry Shamet",
         "TeamScore_Defense": 20,
         "TeamId_Defense": 7,
         "TeamName_Defense": "Brooklyn Nets",
         "FloorLineupId_Defense": 411400,
         "PlayerId1_Defense": 706,
         "PlayerName1_Defense": "James Johnson",
         "PlayerId2_Defense": 1576,
         "PlayerName2_Defense": "Jevon Carter",
         "PlayerId3_Defense": 608,
         "PlayerName3_Defense": "Patty Mills",
         "PlayerId4_Defense": 627,
         "PlayerName4_Defense": "James Harden",
         "PlayerId5_Defense": 464,
         "PlayerName5_Defense": "Paul Millsap",
         "_deepnote_index_column": 1759118
        },
        {
         "GameId": 435091,
         "GameDate_Only": "2021-11-27",
         "SeasonYear": 2021,
         "PlayByPlayId": 14647038,
         "EventNumber": 159,
         "Period": 2,
         "GameClock_Minutes": 11,
         "GameClock_Seconds": 17,
         "GameClock": "11:17",
         "Description": "[PHX] McGee Rebound (Off:5 Def:1)",
         "EventTypeId": 4,
         "EventType": "Rebound",
         "ActionTypeIndex": 0,
         "ActionTypeName": "Rebound",
         "Points": 0,
         "PlayLength_Seconds": 1,
         "TeamScore_Offense": 34,
         "TeamId_Offense": 56,
         "TeamName_Offense": "Phoenix Suns",
         "FloorLineupId_Offense": 400543,
         "PlayerId1_Offense": 1374,
         "PlayerName1_Offense": "Cameron Payne",
         "PlayerId2_Offense": 654,
         "PlayerName2_Offense": "JaVale McGee",
         "PlayerId3_Offense": 1478,
         "PlayerName3_Offense": "Mikal Bridges",
         "PlayerId4_Offense": 2651,
         "PlayerName4_Offense": "Cameron Johnson",
         "PlayerId5_Offense": 1640,
         "PlayerName5_Offense": "Landry Shamet",
         "TeamScore_Defense": 20,
         "TeamId_Defense": 7,
         "TeamName_Defense": "Brooklyn Nets",
         "FloorLineupId_Defense": 411400,
         "PlayerId1_Defense": 706,
         "PlayerName1_Defense": "James Johnson",
         "PlayerId2_Defense": 1576,
         "PlayerName2_Defense": "Jevon Carter",
         "PlayerId3_Defense": 608,
         "PlayerName3_Defense": "Patty Mills",
         "PlayerId4_Defense": 627,
         "PlayerName4_Defense": "James Harden",
         "PlayerId5_Defense": 464,
         "PlayerName5_Defense": "Paul Millsap",
         "_deepnote_index_column": 1759119
        }
       ]
      },
      "text/plain": "         GameId GameDate_Only  SeasonYear  PlayByPlayId  EventNumber  Period  \\\n0         63864    2018-10-16        2018         79300            4       1   \n1         63864    2018-10-16        2018         79301            7       1   \n2         63864    2018-10-16        2018         79302            8       1   \n3         63864    2018-10-16        2018         79303            9       1   \n4         63864    2018-10-16        2018         79304           10       1   \n...         ...           ...         ...           ...          ...     ...   \n2038395  435685    2022-02-17        2021      16627333          647       4   \n2038396  435685    2022-02-17        2021      16627334          648       4   \n2038397  435685    2022-02-17        2021      16627335          650       4   \n2038398  435685    2022-02-17        2021      16627336          652       4   \n2038399  435685    2022-02-17        2021      16627337          654       4   \n\n         GameClock_Minutes  GameClock_Seconds GameClock  \\\n0                       12                  0     12:00   \n1                       11                 40     11:40   \n2                       11                 40     11:40   \n3                       11                 18     11:18   \n4                       11                 15     11:15   \n...                    ...                ...       ...   \n2038395                  1                  1      1:01   \n2038396                  0                 50      0:50   \n2038397                  0                 27      0:27   \n2038398                  0                 16      0:16   \n2038399                  0                  0      0:00   \n\n                                               Description  ...  \\\n0        Jump Ball Embiid vs Horford (Simmons gains pos...  ...   \n1                         [PHI] Covington 3pt Shot: Missed  ...   \n2                                       [BOS] Team Rebound  ...   \n3                                  Stoppage: Out-of-Bounds  ...   \n4                             [BOS] Tatum 3pt Shot: Missed  ...   \n...                                                    ...  ...   \n2038395  [LAC 140-106] Hartenstein Free Throw 2 of 2 (1...  ...   \n2038396  [HOU 108-140] Fernando Layup Shot: Made (10 PT...  ...   \n2038397  [LAC 142-108] Hartenstein Cutting Dunk Shot: M...  ...   \n2038398  [HOU 111-142] Martin Jr. 3pt Shot: Made (12 PT...  ...   \n2038399                                         End Period  ...   \n\n         PlayerId1_Defense PlayerName1_Defense  PlayerId2_Defense  \\\n0                      642      Gordon Hayward               1088   \n1                      642      Gordon Hayward               1088   \n2                      642      Gordon Hayward               1088   \n3                     1627      Markelle Fultz               1358   \n4                     1627      Markelle Fultz               1358   \n...                    ...                 ...                ...   \n2038395               1519         David Nwaba               5149   \n2038396               1209         Rodney Hood               1325   \n2038397               1519         David Nwaba               5149   \n2038398               1209         Rodney Hood               1325   \n2038399               1519         David Nwaba               5149   \n\n        PlayerName2_Defense  PlayerId3_Defense  PlayerName3_Defense  \\\n0              Kyrie Irving               1556         Jayson Tatum   \n1              Kyrie Irving               1556         Jayson Tatum   \n2              Kyrie Irving               1556         Jayson Tatum   \n3               Ben Simmons               1068     Robert Covington   \n4               Ben Simmons               1068     Robert Covington   \n...                     ...                ...                  ...   \n2038395    Garrison Mathews             115539     Josh Christopher   \n2038396        Semi Ojeleye               1554   Isaiah Hartenstein   \n2038397    Garrison Mathews             115539     Josh Christopher   \n2038398        Semi Ojeleye               1554   Isaiah Hartenstein   \n2038399    Garrison Mathews             115539     Josh Christopher   \n\n         PlayerId4_Defense  PlayerName4_Defense PlayerId5_Defense  \\\n0                     1498         Jaylen Brown               527   \n1                     1498         Jaylen Brown               527   \n2                     1498         Jaylen Brown               527   \n3                     1253          Dario Saric              1461   \n4                     1253          Dario Saric              1461   \n...                    ...                  ...               ...   \n2038395               2253       Bruno Fernando            110715   \n2038396             116055          B.J. Boston              4515   \n2038397               2253       Bruno Fernando            110715   \n2038398             116055          B.J. Boston              4515   \n2038399               2253       Bruno Fernando            110715   \n\n         PlayerName5_Defense  \n0                 Al Horford  \n1                 Al Horford  \n2                 Al Horford  \n3                Joel Embiid  \n4                Joel Embiid  \n...                      ...  \n2038395          K.J. Martin  \n2038396          Amir Coffey  \n2038397          K.J. Martin  \n2038398          Amir Coffey  \n2038399          K.J. Martin  \n\n[2038400 rows x 44 columns]",
      "text/html": "<div>\n<style scoped>\n    .dataframe tbody tr th:only-of-type {\n        vertical-align: middle;\n    }\n\n    .dataframe tbody tr th {\n        vertical-align: top;\n    }\n\n    .dataframe thead th {\n        text-align: right;\n    }\n</style>\n<table border=\"1\" class=\"dataframe\">\n  <thead>\n    <tr style=\"text-align: right;\">\n      <th></th>\n      <th>GameId</th>\n      <th>GameDate_Only</th>\n      <th>SeasonYear</th>\n      <th>PlayByPlayId</th>\n      <th>EventNumber</th>\n      <th>Period</th>\n      <th>GameClock_Minutes</th>\n      <th>GameClock_Seconds</th>\n      <th>GameClock</th>\n      <th>Description</th>\n      <th>...</th>\n      <th>PlayerId1_Defense</th>\n      <th>PlayerName1_Defense</th>\n      <th>PlayerId2_Defense</th>\n      <th>PlayerName2_Defense</th>\n      <th>PlayerId3_Defense</th>\n      <th>PlayerName3_Defense</th>\n      <th>PlayerId4_Defense</th>\n      <th>PlayerName4_Defense</th>\n      <th>PlayerId5_Defense</th>\n      <th>PlayerName5_Defense</th>\n    </tr>\n  </thead>\n  <tbody>\n    <tr>\n      <th>0</th>\n      <td>63864</td>\n      <td>2018-10-16</td>\n      <td>2018</td>\n      <td>79300</td>\n      <td>4</td>\n      <td>1</td>\n      <td>12</td>\n      <td>0</td>\n      <td>12:00</td>\n      <td>Jump Ball Embiid vs Horford (Simmons gains pos...</td>\n      <td>...</td>\n      <td>642</td>\n      <td>Gordon Hayward</td>\n      <td>1088</td>\n      <td>Kyrie Irving</td>\n      <td>1556</td>\n      <td>Jayson Tatum</td>\n      <td>1498</td>\n      <td>Jaylen Brown</td>\n      <td>527</td>\n      <td>Al Horford</td>\n    </tr>\n    <tr>\n      <th>1</th>\n      <td>63864</td>\n      <td>2018-10-16</td>\n      <td>2018</td>\n      <td>79301</td>\n      <td>7</td>\n      <td>1</td>\n      <td>11</td>\n      <td>40</td>\n      <td>11:40</td>\n      <td>[PHI] Covington 3pt Shot: Missed</td>\n      <td>...</td>\n      <td>642</td>\n      <td>Gordon Hayward</td>\n      <td>1088</td>\n      <td>Kyrie Irving</td>\n      <td>1556</td>\n      <td>Jayson Tatum</td>\n      <td>1498</td>\n      <td>Jaylen Brown</td>\n      <td>527</td>\n      <td>Al Horford</td>\n    </tr>\n    <tr>\n      <th>2</th>\n      <td>63864</td>\n      <td>2018-10-16</td>\n      <td>2018</td>\n      <td>79302</td>\n      <td>8</td>\n      <td>1</td>\n      <td>11</td>\n      <td>40</td>\n      <td>11:40</td>\n      <td>[BOS] Team Rebound</td>\n      <td>...</td>\n      <td>642</td>\n      <td>Gordon Hayward</td>\n      <td>1088</td>\n      <td>Kyrie Irving</td>\n      <td>1556</td>\n      <td>Jayson Tatum</td>\n      <td>1498</td>\n      <td>Jaylen Brown</td>\n      <td>527</td>\n      <td>Al Horford</td>\n    </tr>\n    <tr>\n      <th>3</th>\n      <td>63864</td>\n      <td>2018-10-16</td>\n      <td>2018</td>\n      <td>79303</td>\n      <td>9</td>\n      <td>1</td>\n      <td>11</td>\n      <td>18</td>\n      <td>11:18</td>\n      <td>Stoppage: Out-of-Bounds</td>\n      <td>...</td>\n      <td>1627</td>\n      <td>Markelle Fultz</td>\n      <td>1358</td>\n      <td>Ben Simmons</td>\n      <td>1068</td>\n      <td>Robert Covington</td>\n      <td>1253</td>\n      <td>Dario Saric</td>\n      <td>1461</td>\n      <td>Joel Embiid</td>\n    </tr>\n    <tr>\n      <th>4</th>\n      <td>63864</td>\n      <td>2018-10-16</td>\n      <td>2018</td>\n      <td>79304</td>\n      <td>10</td>\n      <td>1</td>\n      <td>11</td>\n      <td>15</td>\n      <td>11:15</td>\n      <td>[BOS] Tatum 3pt Shot: Missed</td>\n      <td>...</td>\n      <td>1627</td>\n      <td>Markelle Fultz</td>\n      <td>1358</td>\n      <td>Ben Simmons</td>\n      <td>1068</td>\n      <td>Robert Covington</td>\n      <td>1253</td>\n      <td>Dario Saric</td>\n      <td>1461</td>\n      <td>Joel Embiid</td>\n    </tr>\n    <tr>\n      <th>...</th>\n      <td>...</td>\n      <td>...</td>\n      <td>...</td>\n      <td>...</td>\n      <td>...</td>\n      <td>...</td>\n      <td>...</td>\n      <td>...</td>\n      <td>...</td>\n      <td>...</td>\n      <td>...</td>\n      <td>...</td>\n      <td>...</td>\n      <td>...</td>\n      <td>...</td>\n      <td>...</td>\n      <td>...</td>\n      <td>...</td>\n      <td>...</td>\n      <td>...</td>\n      <td>...</td>\n    </tr>\n    <tr>\n      <th>2038395</th>\n      <td>435685</td>\n      <td>2022-02-17</td>\n      <td>2021</td>\n      <td>16627333</td>\n      <td>647</td>\n      <td>4</td>\n      <td>1</td>\n      <td>1</td>\n      <td>1:01</td>\n      <td>[LAC 140-106] Hartenstein Free Throw 2 of 2 (1...</td>\n      <td>...</td>\n      <td>1519</td>\n      <td>David Nwaba</td>\n      <td>5149</td>\n      <td>Garrison Mathews</td>\n      <td>115539</td>\n      <td>Josh Christopher</td>\n      <td>2253</td>\n      <td>Bruno Fernando</td>\n      <td>110715</td>\n      <td>K.J. Martin</td>\n    </tr>\n    <tr>\n      <th>2038396</th>\n      <td>435685</td>\n      <td>2022-02-17</td>\n      <td>2021</td>\n      <td>16627334</td>\n      <td>648</td>\n      <td>4</td>\n      <td>0</td>\n      <td>50</td>\n      <td>0:50</td>\n      <td>[HOU 108-140] Fernando Layup Shot: Made (10 PT...</td>\n      <td>...</td>\n      <td>1209</td>\n      <td>Rodney Hood</td>\n      <td>1325</td>\n      <td>Semi Ojeleye</td>\n      <td>1554</td>\n      <td>Isaiah Hartenstein</td>\n      <td>116055</td>\n      <td>B.J. Boston</td>\n      <td>4515</td>\n      <td>Amir Coffey</td>\n    </tr>\n    <tr>\n      <th>2038397</th>\n      <td>435685</td>\n      <td>2022-02-17</td>\n      <td>2021</td>\n      <td>16627335</td>\n      <td>650</td>\n      <td>4</td>\n      <td>0</td>\n      <td>27</td>\n      <td>0:27</td>\n      <td>[LAC 142-108] Hartenstein Cutting Dunk Shot: M...</td>\n      <td>...</td>\n      <td>1519</td>\n      <td>David Nwaba</td>\n      <td>5149</td>\n      <td>Garrison Mathews</td>\n      <td>115539</td>\n      <td>Josh Christopher</td>\n      <td>2253</td>\n      <td>Bruno Fernando</td>\n      <td>110715</td>\n      <td>K.J. Martin</td>\n    </tr>\n    <tr>\n      <th>2038398</th>\n      <td>435685</td>\n      <td>2022-02-17</td>\n      <td>2021</td>\n      <td>16627336</td>\n      <td>652</td>\n      <td>4</td>\n      <td>0</td>\n      <td>16</td>\n      <td>0:16</td>\n      <td>[HOU 111-142] Martin Jr. 3pt Shot: Made (12 PT...</td>\n      <td>...</td>\n      <td>1209</td>\n      <td>Rodney Hood</td>\n      <td>1325</td>\n      <td>Semi Ojeleye</td>\n      <td>1554</td>\n      <td>Isaiah Hartenstein</td>\n      <td>116055</td>\n      <td>B.J. Boston</td>\n      <td>4515</td>\n      <td>Amir Coffey</td>\n    </tr>\n    <tr>\n      <th>2038399</th>\n      <td>435685</td>\n      <td>2022-02-17</td>\n      <td>2021</td>\n      <td>16627337</td>\n      <td>654</td>\n      <td>4</td>\n      <td>0</td>\n      <td>0</td>\n      <td>0:00</td>\n      <td>End Period</td>\n      <td>...</td>\n      <td>1519</td>\n      <td>David Nwaba</td>\n      <td>5149</td>\n      <td>Garrison Mathews</td>\n      <td>115539</td>\n      <td>Josh Christopher</td>\n      <td>2253</td>\n      <td>Bruno Fernando</td>\n      <td>110715</td>\n      <td>K.J. Martin</td>\n    </tr>\n  </tbody>\n</table>\n<p>2038400 rows × 44 columns</p>\n</div>"
     },
     "metadata": {}
    }
   ]
  },
  {
   "cell_type": "code",
   "metadata": {
    "cell_id": "9d4ff131-6d41-42dc-aa1c-21ad51fd7f42",
    "tags": [],
    "deepnote_to_be_reexecuted": false,
    "source_hash": "9606b6e7",
    "execution_start": 1646969164948,
    "execution_millis": 1,
    "deepnote_cell_type": "code",
    "deepnote_cell_height": 367.734375
   },
   "source": "play_by_play.columns",
   "execution_count": null,
   "outputs": [
    {
     "output_type": "execute_result",
     "execution_count": 15,
     "data": {
      "text/plain": "Index(['GameId', 'GameDate_Only', 'SeasonYear', 'PlayByPlayId', 'EventNumber',\n       'Period', 'GameClock_Minutes', 'GameClock_Seconds', 'GameClock',\n       'Description', 'EventTypeId', 'EventType', 'ActionTypeIndex',\n       'ActionTypeName', 'Points', 'PlayLength_Seconds', 'TeamScore_Offense',\n       'TeamId_Offense', 'TeamName_Offense', 'FloorLineupId_Offense',\n       'PlayerId1_Offense', 'PlayerName1_Offense', 'PlayerId2_Offense',\n       'PlayerName2_Offense', 'PlayerId3_Offense', 'PlayerName3_Offense',\n       'PlayerId4_Offense', 'PlayerName4_Offense', 'PlayerId5_Offense',\n       'PlayerName5_Offense', 'TeamScore_Defense', 'TeamId_Defense',\n       'TeamName_Defense', 'FloorLineupId_Defense', 'PlayerId1_Defense',\n       'PlayerName1_Defense', 'PlayerId2_Defense', 'PlayerName2_Defense',\n       'PlayerId3_Defense', 'PlayerName3_Defense', 'PlayerId4_Defense',\n       'PlayerName4_Defense', 'PlayerId5_Defense', 'PlayerName5_Defense'],\n      dtype='object')"
     },
     "metadata": {}
    }
   ]
  },
  {
   "cell_type": "code",
   "metadata": {
    "cell_id": "70f239fa-36dc-4608-a4b3-fffa38bb7624",
    "tags": [],
    "deepnote_to_be_reexecuted": false,
    "source_hash": "8b9dec11",
    "execution_start": 1646969251829,
    "execution_millis": 25068,
    "deepnote_table_state": {
     "pageSize": 10,
     "pageIndex": 1,
     "filters": [],
     "sortBy": []
    },
    "deepnote_table_loading": false,
    "deepnote_cell_type": "code",
    "deepnote_cell_height": 978
   },
   "source": "# only look at 2020 to make dataframe way smaller, delete this later\nplay_by_play = play_by_play[play_by_play['SeasonYear'] == 2020]\n\n# cols = ['GameId', 'SeasonYear', 'PlayByPlayId', 'EventNumber',\n#        'Period', 'GameClock', 'Description', 'EventTypeId', 'EventType', 'ActionTypeIndex',\n#        'ActionTypeName', 'Points', 'PlayLength_Seconds', 'TeamScore_Offense',\n#        'TeamId_Offense', 'TeamName_Offense', 'FloorLineupId_Offense',  'TeamId_Defense',\n#        'TeamName_Defense', 'FloorLineupId_Defense',  'PlayerId1_Offense', \n#        'PlayerName1_Offense', 'PlayerName2_Offense', 'PlayerName3_Offense', 'PlayerName4_Offense','PlayerName5_Offense'\n#        ]\n# play_by_play = play_by_play[cols]\n\n# combine offensive players into single col\nplay_by_play['Players'] = play_by_play[['PlayerName1_Offense', 'PlayerName2_Offense', 'PlayerName3_Offense', 'PlayerName4_Offense','PlayerName5_Offense']].agg(', '.join, axis=1)\n# cols2 = ['GameId', 'SeasonYear', 'PlayByPlayId', 'EventNumber',\n#        'Period', 'GameClock', 'Description', 'EventTypeId', 'EventType', 'ActionTypeIndex',\n#        'ActionTypeName', 'Points', 'PlayLength_Seconds', 'TeamScore_Offense',\n#        'TeamId_Offense', 'TeamName_Offense', 'FloorLineupId_Offense',  'TeamId_Defense',\n#        'TeamName_Defense', 'FloorLineupId_Defense', 'Players']\n# play_by_play = play_by_play[cols + ['Players']]\n\nplay_by_play",
   "execution_count": null,
   "outputs": [
    {
     "output_type": "execute_result",
     "execution_count": 17,
     "data": {
      "application/vnd.deepnote.dataframe.v3+json": {
       "column_count": 45,
       "row_count": 509605,
       "columns": [
        {
         "name": "GameId",
         "dtype": "int64"
        },
        {
         "name": "GameDate_Only",
         "dtype": "object"
        },
        {
         "name": "SeasonYear",
         "dtype": "int64"
        },
        {
         "name": "PlayByPlayId",
         "dtype": "int64"
        },
        {
         "name": "EventNumber",
         "dtype": "int64"
        },
        {
         "name": "Period",
         "dtype": "int64"
        },
        {
         "name": "GameClock_Minutes",
         "dtype": "int64"
        },
        {
         "name": "GameClock_Seconds",
         "dtype": "int64"
        },
        {
         "name": "GameClock",
         "dtype": "object"
        },
        {
         "name": "Description",
         "dtype": "object"
        },
        {
         "name": "EventTypeId",
         "dtype": "int64"
        },
        {
         "name": "EventType",
         "dtype": "object"
        },
        {
         "name": "ActionTypeIndex",
         "dtype": "int64"
        },
        {
         "name": "ActionTypeName",
         "dtype": "object"
        },
        {
         "name": "Points",
         "dtype": "int64"
        },
        {
         "name": "PlayLength_Seconds",
         "dtype": "int64"
        },
        {
         "name": "TeamScore_Offense",
         "dtype": "int64"
        },
        {
         "name": "TeamId_Offense",
         "dtype": "int64"
        },
        {
         "name": "TeamName_Offense",
         "dtype": "object"
        },
        {
         "name": "FloorLineupId_Offense",
         "dtype": "int64"
        },
        {
         "name": "PlayerId1_Offense",
         "dtype": "int64"
        },
        {
         "name": "PlayerName1_Offense",
         "dtype": "object"
        },
        {
         "name": "PlayerId2_Offense",
         "dtype": "int64"
        },
        {
         "name": "PlayerName2_Offense",
         "dtype": "object"
        },
        {
         "name": "PlayerId3_Offense",
         "dtype": "int64"
        },
        {
         "name": "PlayerName3_Offense",
         "dtype": "object"
        },
        {
         "name": "PlayerId4_Offense",
         "dtype": "int64"
        },
        {
         "name": "PlayerName4_Offense",
         "dtype": "object"
        },
        {
         "name": "PlayerId5_Offense",
         "dtype": "int64"
        },
        {
         "name": "PlayerName5_Offense",
         "dtype": "object"
        },
        {
         "name": "TeamScore_Defense",
         "dtype": "int64"
        },
        {
         "name": "TeamId_Defense",
         "dtype": "int64"
        },
        {
         "name": "TeamName_Defense",
         "dtype": "object"
        },
        {
         "name": "FloorLineupId_Defense",
         "dtype": "int64"
        },
        {
         "name": "PlayerId1_Defense",
         "dtype": "int64"
        },
        {
         "name": "PlayerName1_Defense",
         "dtype": "object"
        },
        {
         "name": "PlayerId2_Defense",
         "dtype": "int64"
        },
        {
         "name": "PlayerName2_Defense",
         "dtype": "object"
        },
        {
         "name": "PlayerId3_Defense",
         "dtype": "int64"
        },
        {
         "name": "PlayerName3_Defense",
         "dtype": "object"
        },
        {
         "name": "PlayerId4_Defense",
         "dtype": "int64"
        },
        {
         "name": "PlayerName4_Defense",
         "dtype": "object"
        },
        {
         "name": "PlayerId5_Defense",
         "dtype": "int64"
        },
        {
         "name": "PlayerName5_Defense",
         "dtype": "object"
        },
        {
         "name": "Players",
         "dtype": "object"
        },
        {
         "name": "_deepnote_index_column",
         "dtype": "int64"
        }
       ],
       "rows": [
        {
         "GameId": 416144,
         "GameDate_Only": "2020-12-22",
         "SeasonYear": 2020,
         "PlayByPlayId": 13357934,
         "EventNumber": 20,
         "Period": 1,
         "GameClock_Minutes": 10,
         "GameClock_Seconds": 23,
         "GameClock": "10:23",
         "Description": "[BKN 7-4] Durant Pullup Jump shot: Made (5 PTS)",
         "EventTypeId": 1,
         "EventType": "Made Shot",
         "ActionTypeIndex": 79,
         "ActionTypeName": "Pullup Jump shot",
         "Points": 2,
         "PlayLength_Seconds": 2,
         "TeamScore_Offense": 7,
         "TeamId_Offense": 7,
         "TeamName_Offense": "Brooklyn Nets",
         "FloorLineupId_Offense": 349512,
         "PlayerId1_Offense": 1183,
         "PlayerName1_Offense": "Spencer Dinwiddie",
         "PlayerId2_Offense": 1088,
         "PlayerName2_Offense": "Kyrie Irving",
         "PlayerId3_Offense": 1075,
         "PlayerName3_Offense": "Joe Harris",
         "PlayerId4_Offense": 625,
         "PlayerName4_Offense": "Kevin Durant",
         "PlayerId5_Offense": 560,
         "PlayerName5_Offense": "DeAndre Jordan",
         "TeamScore_Defense": 4,
         "TeamId_Defense": 27,
         "TeamName_Defense": "Golden State Warriors",
         "FloorLineupId_Defense": 350841,
         "PlayerId1_Defense": 1360,
         "PlayerName1_Defense": "Kelly Oubre Jr.",
         "PlayerId2_Defense": 548,
         "PlayerName2_Defense": "Stephen Curry",
         "PlayerId3_Defense": 1273,
         "PlayerName3_Defense": "Andrew Wiggins",
         "PlayerId4_Defense": 4109,
         "PlayerName4_Defense": "Eric Paschall",
         "PlayerId5_Defense": 29236,
         "PlayerName5_Defense": "James Wiseman",
         "Players": "Spencer Dinwiddie, Kyrie Irving, Joe Harris, Kevin Durant, DeAndre Jordan",
         "_deepnote_index_column": 1109883
        },
        {
         "GameId": 416144,
         "GameDate_Only": "2020-12-22",
         "SeasonYear": 2020,
         "PlayByPlayId": 13357935,
         "EventNumber": 21,
         "Period": 1,
         "GameClock_Minutes": 10,
         "GameClock_Seconds": 16,
         "GameClock": "10:16",
         "Description": "[GSW] Curry 3pt Shot: Missed",
         "EventTypeId": 2,
         "EventType": "Missed Shot",
         "ActionTypeIndex": 79,
         "ActionTypeName": "Pullup Jump shot",
         "Points": 0,
         "PlayLength_Seconds": 7,
         "TeamScore_Offense": 4,
         "TeamId_Offense": 27,
         "TeamName_Offense": "Golden State Warriors",
         "FloorLineupId_Offense": 350841,
         "PlayerId1_Offense": 1360,
         "PlayerName1_Offense": "Kelly Oubre Jr.",
         "PlayerId2_Offense": 548,
         "PlayerName2_Offense": "Stephen Curry",
         "PlayerId3_Offense": 1273,
         "PlayerName3_Offense": "Andrew Wiggins",
         "PlayerId4_Offense": 4109,
         "PlayerName4_Offense": "Eric Paschall",
         "PlayerId5_Offense": 29236,
         "PlayerName5_Offense": "James Wiseman",
         "TeamScore_Defense": 7,
         "TeamId_Defense": 7,
         "TeamName_Defense": "Brooklyn Nets",
         "FloorLineupId_Defense": 349512,
         "PlayerId1_Defense": 1183,
         "PlayerName1_Defense": "Spencer Dinwiddie",
         "PlayerId2_Defense": 1088,
         "PlayerName2_Defense": "Kyrie Irving",
         "PlayerId3_Defense": 1075,
         "PlayerName3_Defense": "Joe Harris",
         "PlayerId4_Defense": 625,
         "PlayerName4_Defense": "Kevin Durant",
         "PlayerId5_Defense": 560,
         "PlayerName5_Defense": "DeAndre Jordan",
         "Players": "Kelly Oubre Jr., Stephen Curry, Andrew Wiggins, Eric Paschall, James Wiseman",
         "_deepnote_index_column": 1109884
        },
        {
         "GameId": 416144,
         "GameDate_Only": "2020-12-22",
         "SeasonYear": 2020,
         "PlayByPlayId": 13357936,
         "EventNumber": 22,
         "Period": 1,
         "GameClock_Minutes": 10,
         "GameClock_Seconds": 16,
         "GameClock": "10:16",
         "Description": "[BKN] Jordan Rebound (Off:0 Def:1)",
         "EventTypeId": 4,
         "EventType": "Rebound",
         "ActionTypeIndex": 0,
         "ActionTypeName": "Rebound",
         "Points": 0,
         "PlayLength_Seconds": 0,
         "TeamScore_Offense": 4,
         "TeamId_Offense": 27,
         "TeamName_Offense": "Golden State Warriors",
         "FloorLineupId_Offense": 350841,
         "PlayerId1_Offense": 1360,
         "PlayerName1_Offense": "Kelly Oubre Jr.",
         "PlayerId2_Offense": 548,
         "PlayerName2_Offense": "Stephen Curry",
         "PlayerId3_Offense": 1273,
         "PlayerName3_Offense": "Andrew Wiggins",
         "PlayerId4_Offense": 4109,
         "PlayerName4_Offense": "Eric Paschall",
         "PlayerId5_Offense": 29236,
         "PlayerName5_Offense": "James Wiseman",
         "TeamScore_Defense": 7,
         "TeamId_Defense": 7,
         "TeamName_Defense": "Brooklyn Nets",
         "FloorLineupId_Defense": 349512,
         "PlayerId1_Defense": 1183,
         "PlayerName1_Defense": "Spencer Dinwiddie",
         "PlayerId2_Defense": 1088,
         "PlayerName2_Defense": "Kyrie Irving",
         "PlayerId3_Defense": 1075,
         "PlayerName3_Defense": "Joe Harris",
         "PlayerId4_Defense": 625,
         "PlayerName4_Defense": "Kevin Durant",
         "PlayerId5_Defense": 560,
         "PlayerName5_Defense": "DeAndre Jordan",
         "Players": "Kelly Oubre Jr., Stephen Curry, Andrew Wiggins, Eric Paschall, James Wiseman",
         "_deepnote_index_column": 1109885
        },
        {
         "GameId": 416144,
         "GameDate_Only": "2020-12-22",
         "SeasonYear": 2020,
         "PlayByPlayId": 13357937,
         "EventNumber": 23,
         "Period": 1,
         "GameClock_Minutes": 10,
         "GameClock_Seconds": 9,
         "GameClock": "10:09",
         "Description": "[BKN 10-4] Harris 3pt Shot: Made (3 PTS) Assist: Dinwiddie (1 AST)",
         "EventTypeId": 1,
         "EventType": "Made Shot",
         "ActionTypeIndex": 1,
         "ActionTypeName": "Jump Shot",
         "Points": 3,
         "PlayLength_Seconds": 7,
         "TeamScore_Offense": 10,
         "TeamId_Offense": 7,
         "TeamName_Offense": "Brooklyn Nets",
         "FloorLineupId_Offense": 349512,
         "PlayerId1_Offense": 1183,
         "PlayerName1_Offense": "Spencer Dinwiddie",
         "PlayerId2_Offense": 1088,
         "PlayerName2_Offense": "Kyrie Irving",
         "PlayerId3_Offense": 1075,
         "PlayerName3_Offense": "Joe Harris",
         "PlayerId4_Offense": 625,
         "PlayerName4_Offense": "Kevin Durant",
         "PlayerId5_Offense": 560,
         "PlayerName5_Offense": "DeAndre Jordan",
         "TeamScore_Defense": 4,
         "TeamId_Defense": 27,
         "TeamName_Defense": "Golden State Warriors",
         "FloorLineupId_Defense": 350841,
         "PlayerId1_Defense": 1360,
         "PlayerName1_Defense": "Kelly Oubre Jr.",
         "PlayerId2_Defense": 548,
         "PlayerName2_Defense": "Stephen Curry",
         "PlayerId3_Defense": 1273,
         "PlayerName3_Defense": "Andrew Wiggins",
         "PlayerId4_Defense": 4109,
         "PlayerName4_Defense": "Eric Paschall",
         "PlayerId5_Defense": 29236,
         "PlayerName5_Defense": "James Wiseman",
         "Players": "Spencer Dinwiddie, Kyrie Irving, Joe Harris, Kevin Durant, DeAndre Jordan",
         "_deepnote_index_column": 1109886
        },
        {
         "GameId": 416144,
         "GameDate_Only": "2020-12-22",
         "SeasonYear": 2020,
         "PlayByPlayId": 13357938,
         "EventNumber": 25,
         "Period": 1,
         "GameClock_Minutes": 9,
         "GameClock_Seconds": 57,
         "GameClock": "9:57",
         "Description": "[GSW] Wiggins 3pt Shot: Missed",
         "EventTypeId": 2,
         "EventType": "Missed Shot",
         "ActionTypeIndex": 1,
         "ActionTypeName": "Jump Shot",
         "Points": 0,
         "PlayLength_Seconds": 12,
         "TeamScore_Offense": 4,
         "TeamId_Offense": 27,
         "TeamName_Offense": "Golden State Warriors",
         "FloorLineupId_Offense": 350841,
         "PlayerId1_Offense": 1360,
         "PlayerName1_Offense": "Kelly Oubre Jr.",
         "PlayerId2_Offense": 548,
         "PlayerName2_Offense": "Stephen Curry",
         "PlayerId3_Offense": 1273,
         "PlayerName3_Offense": "Andrew Wiggins",
         "PlayerId4_Offense": 4109,
         "PlayerName4_Offense": "Eric Paschall",
         "PlayerId5_Offense": 29236,
         "PlayerName5_Offense": "James Wiseman",
         "TeamScore_Defense": 10,
         "TeamId_Defense": 7,
         "TeamName_Defense": "Brooklyn Nets",
         "FloorLineupId_Defense": 349512,
         "PlayerId1_Defense": 1183,
         "PlayerName1_Defense": "Spencer Dinwiddie",
         "PlayerId2_Defense": 1088,
         "PlayerName2_Defense": "Kyrie Irving",
         "PlayerId3_Defense": 1075,
         "PlayerName3_Defense": "Joe Harris",
         "PlayerId4_Defense": 625,
         "PlayerName4_Defense": "Kevin Durant",
         "PlayerId5_Defense": 560,
         "PlayerName5_Defense": "DeAndre Jordan",
         "Players": "Kelly Oubre Jr., Stephen Curry, Andrew Wiggins, Eric Paschall, James Wiseman",
         "_deepnote_index_column": 1109887
        },
        {
         "GameId": 416144,
         "GameDate_Only": "2020-12-22",
         "SeasonYear": 2020,
         "PlayByPlayId": 13357939,
         "EventNumber": 26,
         "Period": 1,
         "GameClock_Minutes": 9,
         "GameClock_Seconds": 51,
         "GameClock": "9:51",
         "Description": "[BKN] Irving Rebound (Off:0 Def:1)",
         "EventTypeId": 4,
         "EventType": "Rebound",
         "ActionTypeIndex": 0,
         "ActionTypeName": "Rebound",
         "Points": 0,
         "PlayLength_Seconds": 6,
         "TeamScore_Offense": 4,
         "TeamId_Offense": 27,
         "TeamName_Offense": "Golden State Warriors",
         "FloorLineupId_Offense": 350841,
         "PlayerId1_Offense": 1360,
         "PlayerName1_Offense": "Kelly Oubre Jr.",
         "PlayerId2_Offense": 548,
         "PlayerName2_Offense": "Stephen Curry",
         "PlayerId3_Offense": 1273,
         "PlayerName3_Offense": "Andrew Wiggins",
         "PlayerId4_Offense": 4109,
         "PlayerName4_Offense": "Eric Paschall",
         "PlayerId5_Offense": 29236,
         "PlayerName5_Offense": "James Wiseman",
         "TeamScore_Defense": 10,
         "TeamId_Defense": 7,
         "TeamName_Defense": "Brooklyn Nets",
         "FloorLineupId_Defense": 349512,
         "PlayerId1_Defense": 1183,
         "PlayerName1_Defense": "Spencer Dinwiddie",
         "PlayerId2_Defense": 1088,
         "PlayerName2_Defense": "Kyrie Irving",
         "PlayerId3_Defense": 1075,
         "PlayerName3_Defense": "Joe Harris",
         "PlayerId4_Defense": 625,
         "PlayerName4_Defense": "Kevin Durant",
         "PlayerId5_Defense": 560,
         "PlayerName5_Defense": "DeAndre Jordan",
         "Players": "Kelly Oubre Jr., Stephen Curry, Andrew Wiggins, Eric Paschall, James Wiseman",
         "_deepnote_index_column": 1109888
        },
        {
         "GameId": 416144,
         "GameDate_Only": "2020-12-22",
         "SeasonYear": 2020,
         "PlayByPlayId": 13357940,
         "EventNumber": 27,
         "Period": 1,
         "GameClock_Minutes": 9,
         "GameClock_Seconds": 49,
         "GameClock": "9:49",
         "Description": "[BKN] Dinwiddie 3pt Shot: Missed",
         "EventTypeId": 2,
         "EventType": "Missed Shot",
         "ActionTypeIndex": 1,
         "ActionTypeName": "Jump Shot",
         "Points": 0,
         "PlayLength_Seconds": 2,
         "TeamScore_Offense": 10,
         "TeamId_Offense": 7,
         "TeamName_Offense": "Brooklyn Nets",
         "FloorLineupId_Offense": 349512,
         "PlayerId1_Offense": 1183,
         "PlayerName1_Offense": "Spencer Dinwiddie",
         "PlayerId2_Offense": 1088,
         "PlayerName2_Offense": "Kyrie Irving",
         "PlayerId3_Offense": 1075,
         "PlayerName3_Offense": "Joe Harris",
         "PlayerId4_Offense": 625,
         "PlayerName4_Offense": "Kevin Durant",
         "PlayerId5_Offense": 560,
         "PlayerName5_Offense": "DeAndre Jordan",
         "TeamScore_Defense": 4,
         "TeamId_Defense": 27,
         "TeamName_Defense": "Golden State Warriors",
         "FloorLineupId_Defense": 350841,
         "PlayerId1_Defense": 1360,
         "PlayerName1_Defense": "Kelly Oubre Jr.",
         "PlayerId2_Defense": 548,
         "PlayerName2_Defense": "Stephen Curry",
         "PlayerId3_Defense": 1273,
         "PlayerName3_Defense": "Andrew Wiggins",
         "PlayerId4_Defense": 4109,
         "PlayerName4_Defense": "Eric Paschall",
         "PlayerId5_Defense": 29236,
         "PlayerName5_Defense": "James Wiseman",
         "Players": "Spencer Dinwiddie, Kyrie Irving, Joe Harris, Kevin Durant, DeAndre Jordan",
         "_deepnote_index_column": 1109889
        },
        {
         "GameId": 416144,
         "GameDate_Only": "2020-12-22",
         "SeasonYear": 2020,
         "PlayByPlayId": 13357941,
         "EventNumber": 28,
         "Period": 1,
         "GameClock_Minutes": 9,
         "GameClock_Seconds": 44,
         "GameClock": "9:44",
         "Description": "[GSW] Oubre Jr. Rebound (Off:0 Def:1)",
         "EventTypeId": 4,
         "EventType": "Rebound",
         "ActionTypeIndex": 0,
         "ActionTypeName": "Rebound",
         "Points": 0,
         "PlayLength_Seconds": 5,
         "TeamScore_Offense": 10,
         "TeamId_Offense": 7,
         "TeamName_Offense": "Brooklyn Nets",
         "FloorLineupId_Offense": 349512,
         "PlayerId1_Offense": 1183,
         "PlayerName1_Offense": "Spencer Dinwiddie",
         "PlayerId2_Offense": 1088,
         "PlayerName2_Offense": "Kyrie Irving",
         "PlayerId3_Offense": 1075,
         "PlayerName3_Offense": "Joe Harris",
         "PlayerId4_Offense": 625,
         "PlayerName4_Offense": "Kevin Durant",
         "PlayerId5_Offense": 560,
         "PlayerName5_Offense": "DeAndre Jordan",
         "TeamScore_Defense": 4,
         "TeamId_Defense": 27,
         "TeamName_Defense": "Golden State Warriors",
         "FloorLineupId_Defense": 350841,
         "PlayerId1_Defense": 1360,
         "PlayerName1_Defense": "Kelly Oubre Jr.",
         "PlayerId2_Defense": 548,
         "PlayerName2_Defense": "Stephen Curry",
         "PlayerId3_Defense": 1273,
         "PlayerName3_Defense": "Andrew Wiggins",
         "PlayerId4_Defense": 4109,
         "PlayerName4_Defense": "Eric Paschall",
         "PlayerId5_Defense": 29236,
         "PlayerName5_Defense": "James Wiseman",
         "Players": "Spencer Dinwiddie, Kyrie Irving, Joe Harris, Kevin Durant, DeAndre Jordan",
         "_deepnote_index_column": 1109890
        },
        {
         "GameId": 416144,
         "GameDate_Only": "2020-12-22",
         "SeasonYear": 2020,
         "PlayByPlayId": 13357942,
         "EventNumber": 29,
         "Period": 1,
         "GameClock_Minutes": 9,
         "GameClock_Seconds": 38,
         "GameClock": "9:38",
         "Description": "[GSW 6-10] Curry Cutting Layup Shot: Made (4 PTS) Assist: Oubre Jr. (1 AST)",
         "EventTypeId": 1,
         "EventType": "Made Shot",
         "ActionTypeIndex": 98,
         "ActionTypeName": "Cutting Layup Shot",
         "Points": 2,
         "PlayLength_Seconds": 6,
         "TeamScore_Offense": 6,
         "TeamId_Offense": 27,
         "TeamName_Offense": "Golden State Warriors",
         "FloorLineupId_Offense": 350841,
         "PlayerId1_Offense": 1360,
         "PlayerName1_Offense": "Kelly Oubre Jr.",
         "PlayerId2_Offense": 548,
         "PlayerName2_Offense": "Stephen Curry",
         "PlayerId3_Offense": 1273,
         "PlayerName3_Offense": "Andrew Wiggins",
         "PlayerId4_Offense": 4109,
         "PlayerName4_Offense": "Eric Paschall",
         "PlayerId5_Offense": 29236,
         "PlayerName5_Offense": "James Wiseman",
         "TeamScore_Defense": 10,
         "TeamId_Defense": 7,
         "TeamName_Defense": "Brooklyn Nets",
         "FloorLineupId_Defense": 349512,
         "PlayerId1_Defense": 1183,
         "PlayerName1_Defense": "Spencer Dinwiddie",
         "PlayerId2_Defense": 1088,
         "PlayerName2_Defense": "Kyrie Irving",
         "PlayerId3_Defense": 1075,
         "PlayerName3_Defense": "Joe Harris",
         "PlayerId4_Defense": 625,
         "PlayerName4_Defense": "Kevin Durant",
         "PlayerId5_Defense": 560,
         "PlayerName5_Defense": "DeAndre Jordan",
         "Players": "Kelly Oubre Jr., Stephen Curry, Andrew Wiggins, Eric Paschall, James Wiseman",
         "_deepnote_index_column": 1109891
        },
        {
         "GameId": 416144,
         "GameDate_Only": "2020-12-22",
         "SeasonYear": 2020,
         "PlayByPlayId": 13357943,
         "EventNumber": 31,
         "Period": 1,
         "GameClock_Minutes": 9,
         "GameClock_Seconds": 30,
         "GameClock": "9:30",
         "Description": "[BKN] Harris 3pt Shot: Missed",
         "EventTypeId": 2,
         "EventType": "Missed Shot",
         "ActionTypeIndex": 1,
         "ActionTypeName": "Jump Shot",
         "Points": 0,
         "PlayLength_Seconds": 8,
         "TeamScore_Offense": 10,
         "TeamId_Offense": 7,
         "TeamName_Offense": "Brooklyn Nets",
         "FloorLineupId_Offense": 349512,
         "PlayerId1_Offense": 1183,
         "PlayerName1_Offense": "Spencer Dinwiddie",
         "PlayerId2_Offense": 1088,
         "PlayerName2_Offense": "Kyrie Irving",
         "PlayerId3_Offense": 1075,
         "PlayerName3_Offense": "Joe Harris",
         "PlayerId4_Offense": 625,
         "PlayerName4_Offense": "Kevin Durant",
         "PlayerId5_Offense": 560,
         "PlayerName5_Offense": "DeAndre Jordan",
         "TeamScore_Defense": 6,
         "TeamId_Defense": 27,
         "TeamName_Defense": "Golden State Warriors",
         "FloorLineupId_Defense": 350841,
         "PlayerId1_Defense": 1360,
         "PlayerName1_Defense": "Kelly Oubre Jr.",
         "PlayerId2_Defense": 548,
         "PlayerName2_Defense": "Stephen Curry",
         "PlayerId3_Defense": 1273,
         "PlayerName3_Defense": "Andrew Wiggins",
         "PlayerId4_Defense": 4109,
         "PlayerName4_Defense": "Eric Paschall",
         "PlayerId5_Defense": 29236,
         "PlayerName5_Defense": "James Wiseman",
         "Players": "Spencer Dinwiddie, Kyrie Irving, Joe Harris, Kevin Durant, DeAndre Jordan",
         "_deepnote_index_column": 1109892
        }
       ]
      },
      "text/plain": "         GameId GameDate_Only  SeasonYear  PlayByPlayId  EventNumber  Period  \\\n1109873  416144    2020-12-22        2020      13357924            4       1   \n1109874  416144    2020-12-22        2020      13357925            7       1   \n1109875  416144    2020-12-22        2020      13357926            8       1   \n1109876  416144    2020-12-22        2020      13357927           10       1   \n1109877  416144    2020-12-22        2020      13357928           11       1   \n...         ...           ...         ...           ...          ...     ...   \n1619473  422723    2021-05-16        2020      13948224          678       4   \n1619474  422723    2021-05-16        2020      13948225          679       4   \n1619475  422723    2021-05-16        2020      13948226          681       4   \n1619476  422723    2021-05-16        2020      13948227          682       4   \n1619477  422723    2021-05-16        2020      13948228          683       4   \n\n         GameClock_Minutes  GameClock_Seconds GameClock  \\\n1109873                 11                 58     11:58   \n1109874                 11                 50     11:50   \n1109875                 11                 38     11:38   \n1109876                 11                 38     11:38   \n1109877                 11                 38     11:38   \n...                    ...                ...       ...   \n1619473                  0                 10      0:10   \n1619474                  0                  7      0:07   \n1619475                  0                  3      0:03   \n1619476                  0                  3      0:03   \n1619477                  0                  0      0:00   \n\n                                               Description  ...  \\\n1109873                        Jump Ball Jordan vs Wiseman  ...   \n1109874  [BKN] Jordan Turnover : Out of Bounds - Bad Pa...  ...   \n1109875  [BKN] Irving Foul: Shooting (1 PF) (2 FTA) (S ...  ...   \n1109876          [GSW 1-0] Curry Free Throw 1 of 2 (1 PTS)  ...   \n1109877          [GSW 2-0] Curry Free Throw 2 of 2 (2 PTS)  ...   \n...                                                    ...  ...   \n1619473      [WAS 115-110] Beal Free Throw 2 of 2 (25 PTS)  ...   \n1619474  [WAS] Westbrook Foul: Personal (4 PF) (L Richa...  ...   \n1619475                      [CHA] Rozier 3pt Shot: Missed  ...   \n1619476                  [WAS] Smith Rebound (Off:1 Def:7)  ...   \n1619477                                         End Period  ...   \n\n         PlayerName1_Defense PlayerId2_Defense  PlayerName2_Defense  \\\n1109873      Kelly Oubre Jr.               548        Stephen Curry   \n1109874      Kelly Oubre Jr.               548        Stephen Curry   \n1109875    Spencer Dinwiddie              1088         Kyrie Irving   \n1109876    Spencer Dinwiddie              1088         Kyrie Irving   \n1109877    Spencer Dinwiddie              1088         Kyrie Irving   \n...                      ...               ...                  ...   \n1619473      Devonte' Graham             98396          LaMelo Ball   \n1619474         Anthony Gill               634    Russell Westbrook   \n1619475         Anthony Gill               634    Russell Westbrook   \n1619476         Anthony Gill               634    Russell Westbrook   \n1619477      Devonte' Graham             98396          LaMelo Ball   \n\n        PlayerId3_Defense  PlayerName3_Defense  PlayerId4_Defense  \\\n1109873              1273       Andrew Wiggins               4109   \n1109874              1273       Andrew Wiggins               4109   \n1109875              1075           Joe Harris                625   \n1109876              1075           Joe Harris                625   \n1109877              1075           Joe Harris                625   \n...                   ...                  ...                ...   \n1619473              1402         Terry Rozier               1145   \n1619474               916            Ish Smith               2345   \n1619475               916            Ish Smith               2345   \n1619476               916            Ish Smith               2345   \n1619477              1402         Terry Rozier               1145   \n\n         PlayerName4_Defense  PlayerId5_Defense PlayerName5_Defense  \\\n1109873        Eric Paschall              29236       James Wiseman   \n1109874        Eric Paschall              29236       James Wiseman   \n1109875         Kevin Durant                560      DeAndre Jordan   \n1109876         Kevin Durant                560      DeAndre Jordan   \n1109877         Kevin Durant                560      DeAndre Jordan   \n...                      ...                ...                 ...   \n1619473          Cody Zeller               1598       Miles Bridges   \n1619474        Rui Hachimura               1203           Brad Beal   \n1619475        Rui Hachimura               1203           Brad Beal   \n1619476        Rui Hachimura               1203           Brad Beal   \n1619477          Cody Zeller               1598       Miles Bridges   \n\n                                                   Players  \n1109873  Spencer Dinwiddie, Kyrie Irving, Joe Harris, K...  \n1109874  Spencer Dinwiddie, Kyrie Irving, Joe Harris, K...  \n1109875  Kelly Oubre Jr., Stephen Curry, Andrew Wiggins...  \n1109876  Kelly Oubre Jr., Stephen Curry, Andrew Wiggins...  \n1109877  Kelly Oubre Jr., Stephen Curry, Andrew Wiggins...  \n...                                                    ...  \n1619473  Anthony Gill, Russell Westbrook, Ish Smith, Ru...  \n1619474  Devonte' Graham, LaMelo Ball, Terry Rozier, Co...  \n1619475  Devonte' Graham, LaMelo Ball, Terry Rozier, Co...  \n1619476  Devonte' Graham, LaMelo Ball, Terry Rozier, Co...  \n1619477  Anthony Gill, Russell Westbrook, Ish Smith, Ru...  \n\n[509605 rows x 45 columns]",
      "text/html": "<div>\n<style scoped>\n    .dataframe tbody tr th:only-of-type {\n        vertical-align: middle;\n    }\n\n    .dataframe tbody tr th {\n        vertical-align: top;\n    }\n\n    .dataframe thead th {\n        text-align: right;\n    }\n</style>\n<table border=\"1\" class=\"dataframe\">\n  <thead>\n    <tr style=\"text-align: right;\">\n      <th></th>\n      <th>GameId</th>\n      <th>GameDate_Only</th>\n      <th>SeasonYear</th>\n      <th>PlayByPlayId</th>\n      <th>EventNumber</th>\n      <th>Period</th>\n      <th>GameClock_Minutes</th>\n      <th>GameClock_Seconds</th>\n      <th>GameClock</th>\n      <th>Description</th>\n      <th>...</th>\n      <th>PlayerName1_Defense</th>\n      <th>PlayerId2_Defense</th>\n      <th>PlayerName2_Defense</th>\n      <th>PlayerId3_Defense</th>\n      <th>PlayerName3_Defense</th>\n      <th>PlayerId4_Defense</th>\n      <th>PlayerName4_Defense</th>\n      <th>PlayerId5_Defense</th>\n      <th>PlayerName5_Defense</th>\n      <th>Players</th>\n    </tr>\n  </thead>\n  <tbody>\n    <tr>\n      <th>1109873</th>\n      <td>416144</td>\n      <td>2020-12-22</td>\n      <td>2020</td>\n      <td>13357924</td>\n      <td>4</td>\n      <td>1</td>\n      <td>11</td>\n      <td>58</td>\n      <td>11:58</td>\n      <td>Jump Ball Jordan vs Wiseman</td>\n      <td>...</td>\n      <td>Kelly Oubre Jr.</td>\n      <td>548</td>\n      <td>Stephen Curry</td>\n      <td>1273</td>\n      <td>Andrew Wiggins</td>\n      <td>4109</td>\n      <td>Eric Paschall</td>\n      <td>29236</td>\n      <td>James Wiseman</td>\n      <td>Spencer Dinwiddie, Kyrie Irving, Joe Harris, K...</td>\n    </tr>\n    <tr>\n      <th>1109874</th>\n      <td>416144</td>\n      <td>2020-12-22</td>\n      <td>2020</td>\n      <td>13357925</td>\n      <td>7</td>\n      <td>1</td>\n      <td>11</td>\n      <td>50</td>\n      <td>11:50</td>\n      <td>[BKN] Jordan Turnover : Out of Bounds - Bad Pa...</td>\n      <td>...</td>\n      <td>Kelly Oubre Jr.</td>\n      <td>548</td>\n      <td>Stephen Curry</td>\n      <td>1273</td>\n      <td>Andrew Wiggins</td>\n      <td>4109</td>\n      <td>Eric Paschall</td>\n      <td>29236</td>\n      <td>James Wiseman</td>\n      <td>Spencer Dinwiddie, Kyrie Irving, Joe Harris, K...</td>\n    </tr>\n    <tr>\n      <th>1109875</th>\n      <td>416144</td>\n      <td>2020-12-22</td>\n      <td>2020</td>\n      <td>13357926</td>\n      <td>8</td>\n      <td>1</td>\n      <td>11</td>\n      <td>38</td>\n      <td>11:38</td>\n      <td>[BKN] Irving Foul: Shooting (1 PF) (2 FTA) (S ...</td>\n      <td>...</td>\n      <td>Spencer Dinwiddie</td>\n      <td>1088</td>\n      <td>Kyrie Irving</td>\n      <td>1075</td>\n      <td>Joe Harris</td>\n      <td>625</td>\n      <td>Kevin Durant</td>\n      <td>560</td>\n      <td>DeAndre Jordan</td>\n      <td>Kelly Oubre Jr., Stephen Curry, Andrew Wiggins...</td>\n    </tr>\n    <tr>\n      <th>1109876</th>\n      <td>416144</td>\n      <td>2020-12-22</td>\n      <td>2020</td>\n      <td>13357927</td>\n      <td>10</td>\n      <td>1</td>\n      <td>11</td>\n      <td>38</td>\n      <td>11:38</td>\n      <td>[GSW 1-0] Curry Free Throw 1 of 2 (1 PTS)</td>\n      <td>...</td>\n      <td>Spencer Dinwiddie</td>\n      <td>1088</td>\n      <td>Kyrie Irving</td>\n      <td>1075</td>\n      <td>Joe Harris</td>\n      <td>625</td>\n      <td>Kevin Durant</td>\n      <td>560</td>\n      <td>DeAndre Jordan</td>\n      <td>Kelly Oubre Jr., Stephen Curry, Andrew Wiggins...</td>\n    </tr>\n    <tr>\n      <th>1109877</th>\n      <td>416144</td>\n      <td>2020-12-22</td>\n      <td>2020</td>\n      <td>13357928</td>\n      <td>11</td>\n      <td>1</td>\n      <td>11</td>\n      <td>38</td>\n      <td>11:38</td>\n      <td>[GSW 2-0] Curry Free Throw 2 of 2 (2 PTS)</td>\n      <td>...</td>\n      <td>Spencer Dinwiddie</td>\n      <td>1088</td>\n      <td>Kyrie Irving</td>\n      <td>1075</td>\n      <td>Joe Harris</td>\n      <td>625</td>\n      <td>Kevin Durant</td>\n      <td>560</td>\n      <td>DeAndre Jordan</td>\n      <td>Kelly Oubre Jr., Stephen Curry, Andrew Wiggins...</td>\n    </tr>\n    <tr>\n      <th>...</th>\n      <td>...</td>\n      <td>...</td>\n      <td>...</td>\n      <td>...</td>\n      <td>...</td>\n      <td>...</td>\n      <td>...</td>\n      <td>...</td>\n      <td>...</td>\n      <td>...</td>\n      <td>...</td>\n      <td>...</td>\n      <td>...</td>\n      <td>...</td>\n      <td>...</td>\n      <td>...</td>\n      <td>...</td>\n      <td>...</td>\n      <td>...</td>\n      <td>...</td>\n      <td>...</td>\n    </tr>\n    <tr>\n      <th>1619473</th>\n      <td>422723</td>\n      <td>2021-05-16</td>\n      <td>2020</td>\n      <td>13948224</td>\n      <td>678</td>\n      <td>4</td>\n      <td>0</td>\n      <td>10</td>\n      <td>0:10</td>\n      <td>[WAS 115-110] Beal Free Throw 2 of 2 (25 PTS)</td>\n      <td>...</td>\n      <td>Devonte' Graham</td>\n      <td>98396</td>\n      <td>LaMelo Ball</td>\n      <td>1402</td>\n      <td>Terry Rozier</td>\n      <td>1145</td>\n      <td>Cody Zeller</td>\n      <td>1598</td>\n      <td>Miles Bridges</td>\n      <td>Anthony Gill, Russell Westbrook, Ish Smith, Ru...</td>\n    </tr>\n    <tr>\n      <th>1619474</th>\n      <td>422723</td>\n      <td>2021-05-16</td>\n      <td>2020</td>\n      <td>13948225</td>\n      <td>679</td>\n      <td>4</td>\n      <td>0</td>\n      <td>7</td>\n      <td>0:07</td>\n      <td>[WAS] Westbrook Foul: Personal (4 PF) (L Richa...</td>\n      <td>...</td>\n      <td>Anthony Gill</td>\n      <td>634</td>\n      <td>Russell Westbrook</td>\n      <td>916</td>\n      <td>Ish Smith</td>\n      <td>2345</td>\n      <td>Rui Hachimura</td>\n      <td>1203</td>\n      <td>Brad Beal</td>\n      <td>Devonte' Graham, LaMelo Ball, Terry Rozier, Co...</td>\n    </tr>\n    <tr>\n      <th>1619475</th>\n      <td>422723</td>\n      <td>2021-05-16</td>\n      <td>2020</td>\n      <td>13948226</td>\n      <td>681</td>\n      <td>4</td>\n      <td>0</td>\n      <td>3</td>\n      <td>0:03</td>\n      <td>[CHA] Rozier 3pt Shot: Missed</td>\n      <td>...</td>\n      <td>Anthony Gill</td>\n      <td>634</td>\n      <td>Russell Westbrook</td>\n      <td>916</td>\n      <td>Ish Smith</td>\n      <td>2345</td>\n      <td>Rui Hachimura</td>\n      <td>1203</td>\n      <td>Brad Beal</td>\n      <td>Devonte' Graham, LaMelo Ball, Terry Rozier, Co...</td>\n    </tr>\n    <tr>\n      <th>1619476</th>\n      <td>422723</td>\n      <td>2021-05-16</td>\n      <td>2020</td>\n      <td>13948227</td>\n      <td>682</td>\n      <td>4</td>\n      <td>0</td>\n      <td>3</td>\n      <td>0:03</td>\n      <td>[WAS] Smith Rebound (Off:1 Def:7)</td>\n      <td>...</td>\n      <td>Anthony Gill</td>\n      <td>634</td>\n      <td>Russell Westbrook</td>\n      <td>916</td>\n      <td>Ish Smith</td>\n      <td>2345</td>\n      <td>Rui Hachimura</td>\n      <td>1203</td>\n      <td>Brad Beal</td>\n      <td>Devonte' Graham, LaMelo Ball, Terry Rozier, Co...</td>\n    </tr>\n    <tr>\n      <th>1619477</th>\n      <td>422723</td>\n      <td>2021-05-16</td>\n      <td>2020</td>\n      <td>13948228</td>\n      <td>683</td>\n      <td>4</td>\n      <td>0</td>\n      <td>0</td>\n      <td>0:00</td>\n      <td>End Period</td>\n      <td>...</td>\n      <td>Devonte' Graham</td>\n      <td>98396</td>\n      <td>LaMelo Ball</td>\n      <td>1402</td>\n      <td>Terry Rozier</td>\n      <td>1145</td>\n      <td>Cody Zeller</td>\n      <td>1598</td>\n      <td>Miles Bridges</td>\n      <td>Anthony Gill, Russell Westbrook, Ish Smith, Ru...</td>\n    </tr>\n  </tbody>\n</table>\n<p>509605 rows × 45 columns</p>\n</div>"
     },
     "metadata": {}
    }
   ]
  },
  {
   "cell_type": "markdown",
   "source": "### Event/Action Types",
   "metadata": {
    "cell_id": "a48d6d71-c17a-4f96-b527-12271f78d16f",
    "tags": [],
    "is_collapsed": false,
    "deepnote_cell_type": "text-cell-h3"
   }
  },
  {
   "cell_type": "code",
   "metadata": {
    "cell_id": "46f40845-d3df-4e1a-a8e5-814c7e9ace9a",
    "tags": [],
    "deepnote_to_be_reexecuted": false,
    "source_hash": "7d4b3a46",
    "execution_start": 1646969276953,
    "execution_millis": 1122,
    "deepnote_table_state": {
     "pageSize": 50,
     "pageIndex": 2,
     "filters": [],
     "sortBy": []
    },
    "deepnote_table_loading": false,
    "deepnote_table_invalid": false,
    "deepnote_cell_type": "code",
    "deepnote_cell_height": 2240
   },
   "source": "play_by_play.groupby(['EventTypeId', 'ActionTypeIndex']).first()[['ActionTypeName', 'EventType']].reset_index()",
   "execution_count": null,
   "outputs": [
    {
     "output_type": "execute_result",
     "execution_count": 18,
     "data": {
      "application/vnd.deepnote.dataframe.v3+json": {
       "column_count": 4,
       "row_count": 182,
       "columns": [
        {
         "name": "EventTypeId",
         "dtype": "int64",
         "stats": {
          "unique_count": 15,
          "nan_count": 0,
          "min": "1",
          "max": "20",
          "histogram": [
           {
            "bin_start": 1,
            "bin_end": 2.9,
            "count": 91
           },
           {
            "bin_start": 2.9,
            "bin_end": 4.8,
            "count": 19
           },
           {
            "bin_start": 4.8,
            "bin_end": 6.699999999999999,
            "count": 45
           },
           {
            "bin_start": 6.699999999999999,
            "bin_end": 8.6,
            "count": 7
           },
           {
            "bin_start": 8.6,
            "bin_end": 10.5,
            "count": 4
           },
           {
            "bin_start": 10.5,
            "bin_end": 12.399999999999999,
            "count": 2
           },
           {
            "bin_start": 12.399999999999999,
            "bin_end": 14.299999999999999,
            "count": 1
           },
           {
            "bin_start": 14.299999999999999,
            "bin_end": 16.2,
            "count": 0
           },
           {
            "bin_start": 16.2,
            "bin_end": 18.099999999999998,
            "count": 7
           },
           {
            "bin_start": 18.099999999999998,
            "bin_end": 20,
            "count": 6
           }
          ]
         }
        },
        {
         "name": "ActionTypeIndex",
         "dtype": "int64",
         "stats": {
          "unique_count": 75,
          "nan_count": 0,
          "min": "0",
          "max": "110",
          "histogram": [
           {
            "bin_start": 0,
            "bin_end": 11,
            "count": 61
           },
           {
            "bin_start": 11,
            "bin_end": 22,
            "count": 27
           },
           {
            "bin_start": 22,
            "bin_end": 33,
            "count": 10
           },
           {
            "bin_start": 33,
            "bin_end": 44,
            "count": 10
           },
           {
            "bin_start": 44,
            "bin_end": 55,
            "count": 11
           },
           {
            "bin_start": 55,
            "bin_end": 66,
            "count": 6
           },
           {
            "bin_start": 66,
            "bin_end": 77,
            "count": 16
           },
           {
            "bin_start": 77,
            "bin_end": 88,
            "count": 10
           },
           {
            "bin_start": 88,
            "bin_end": 99,
            "count": 8
           },
           {
            "bin_start": 99,
            "bin_end": 110,
            "count": 23
           }
          ]
         }
        },
        {
         "name": "ActionTypeName",
         "dtype": "object",
         "stats": {
          "unique_count": 138,
          "nan_count": 0,
          "categories": [
           {
            "name": "Reverse Dunk Shot",
            "count": 3
           },
           {
            "name": "Jump Shot",
            "count": 2
           },
           {
            "name": "136 others",
            "count": 177
           }
          ]
         }
        },
        {
         "name": "EventType",
         "dtype": "object",
         "stats": {
          "unique_count": 15,
          "nan_count": 0,
          "categories": [
           {
            "name": "Made Shot",
            "count": 46
           },
           {
            "name": "Missed Shot",
            "count": 45
           },
           {
            "name": "13 others",
            "count": 91
           }
          ]
         }
        },
        {
         "name": "_deepnote_index_column",
         "dtype": "int64"
        }
       ],
       "rows": [
        {
         "EventTypeId": 3,
         "ActionTypeIndex": 20,
         "ActionTypeName": "Free Throw Flagrant 1 of 1",
         "EventType": "Free Throw",
         "_deepnote_index_column": 100
        },
        {
         "EventTypeId": 3,
         "ActionTypeIndex": 21,
         "ActionTypeName": "Free Throw Technical 1 of 2",
         "EventType": "Free Throw",
         "_deepnote_index_column": 101
        },
        {
         "EventTypeId": 3,
         "ActionTypeIndex": 22,
         "ActionTypeName": "Free Throw Technical 2 of 2",
         "EventType": "Free Throw",
         "_deepnote_index_column": 102
        },
        {
         "EventTypeId": 3,
         "ActionTypeIndex": 25,
         "ActionTypeName": "Free Throw Clear Path 1 of 2",
         "EventType": "Free Throw",
         "_deepnote_index_column": 103
        },
        {
         "EventTypeId": 3,
         "ActionTypeIndex": 26,
         "ActionTypeName": "Free Throw Clear Path 2 of 2",
         "EventType": "Free Throw",
         "_deepnote_index_column": 104
        },
        {
         "EventTypeId": 3,
         "ActionTypeIndex": 27,
         "ActionTypeName": "Free Throw Flagrant 1 of 3",
         "EventType": "Free Throw",
         "_deepnote_index_column": 105
        },
        {
         "EventTypeId": 3,
         "ActionTypeIndex": 28,
         "ActionTypeName": "Free Throw Flagrant 2 of 3",
         "EventType": "Free Throw",
         "_deepnote_index_column": 106
        },
        {
         "EventTypeId": 3,
         "ActionTypeIndex": 29,
         "ActionTypeName": "Free Throw Flagrant 3 of 3",
         "EventType": "Free Throw",
         "_deepnote_index_column": 107
        },
        {
         "EventTypeId": 4,
         "ActionTypeIndex": 0,
         "ActionTypeName": "Rebound",
         "EventType": "Rebound",
         "_deepnote_index_column": 108
        },
        {
         "EventTypeId": 4,
         "ActionTypeIndex": 1,
         "ActionTypeName": "Normal Rebound",
         "EventType": "Rebound",
         "_deepnote_index_column": 109
        },
        {
         "EventTypeId": 5,
         "ActionTypeIndex": 0,
         "ActionTypeName": "No Turnover",
         "EventType": "Turnover",
         "_deepnote_index_column": 110
        },
        {
         "EventTypeId": 5,
         "ActionTypeIndex": 1,
         "ActionTypeName": "Bad Pass",
         "EventType": "Turnover",
         "_deepnote_index_column": 111
        },
        {
         "EventTypeId": 5,
         "ActionTypeIndex": 2,
         "ActionTypeName": "Lost Ball",
         "EventType": "Turnover",
         "_deepnote_index_column": 112
        },
        {
         "EventTypeId": 5,
         "ActionTypeIndex": 4,
         "ActionTypeName": "Traveling",
         "EventType": "Turnover",
         "_deepnote_index_column": 113
        },
        {
         "EventTypeId": 5,
         "ActionTypeIndex": 6,
         "ActionTypeName": "Double Dribble",
         "EventType": "Turnover",
         "_deepnote_index_column": 114
        },
        {
         "EventTypeId": 5,
         "ActionTypeIndex": 7,
         "ActionTypeName": "Discontinue Dribble",
         "EventType": "Turnover",
         "_deepnote_index_column": 115
        },
        {
         "EventTypeId": 5,
         "ActionTypeIndex": 8,
         "ActionTypeName": "3 Second Violation",
         "EventType": "Turnover",
         "_deepnote_index_column": 116
        },
        {
         "EventTypeId": 5,
         "ActionTypeIndex": 9,
         "ActionTypeName": "5 Second Violation",
         "EventType": "Turnover",
         "_deepnote_index_column": 117
        },
        {
         "EventTypeId": 5,
         "ActionTypeIndex": 10,
         "ActionTypeName": "8 Second Violation",
         "EventType": "Turnover",
         "_deepnote_index_column": 118
        },
        {
         "EventTypeId": 5,
         "ActionTypeIndex": 11,
         "ActionTypeName": "Shot Clock Turnover",
         "EventType": "Turnover",
         "_deepnote_index_column": 119
        },
        {
         "EventTypeId": 5,
         "ActionTypeIndex": 12,
         "ActionTypeName": "Inbound Turnover",
         "EventType": "Turnover",
         "_deepnote_index_column": 120
        },
        {
         "EventTypeId": 5,
         "ActionTypeIndex": 13,
         "ActionTypeName": "Backcourt Turnover",
         "EventType": "Turnover",
         "_deepnote_index_column": 121
        },
        {
         "EventTypeId": 5,
         "ActionTypeIndex": 15,
         "ActionTypeName": "Offensive Goaltending",
         "EventType": "Turnover",
         "_deepnote_index_column": 122
        },
        {
         "EventTypeId": 5,
         "ActionTypeIndex": 17,
         "ActionTypeName": "Lane Violation",
         "EventType": "Turnover",
         "_deepnote_index_column": 123
        },
        {
         "EventTypeId": 5,
         "ActionTypeIndex": 18,
         "ActionTypeName": "Jump Ball Violation",
         "EventType": "Turnover",
         "_deepnote_index_column": 124
        },
        {
         "EventTypeId": 5,
         "ActionTypeIndex": 19,
         "ActionTypeName": "Kicked Ball Violation",
         "EventType": "Turnover",
         "_deepnote_index_column": 125
        },
        {
         "EventTypeId": 5,
         "ActionTypeIndex": 20,
         "ActionTypeName": "Illegal Assist Turnover",
         "EventType": "Turnover",
         "_deepnote_index_column": 126
        },
        {
         "EventTypeId": 5,
         "ActionTypeIndex": 21,
         "ActionTypeName": "Palming Turnover",
         "EventType": "Turnover",
         "_deepnote_index_column": 127
        },
        {
         "EventTypeId": 5,
         "ActionTypeIndex": 34,
         "ActionTypeName": "Swinging Elbows Turnover",
         "EventType": "Turnover",
         "_deepnote_index_column": 128
        },
        {
         "EventTypeId": 5,
         "ActionTypeIndex": 36,
         "ActionTypeName": "Illegal Screen Turnover",
         "EventType": "Turnover",
         "_deepnote_index_column": 129
        },
        {
         "EventTypeId": 5,
         "ActionTypeIndex": 37,
         "ActionTypeName": "Offensive Foul Turnover",
         "EventType": "Turnover",
         "_deepnote_index_column": 130
        },
        {
         "EventTypeId": 5,
         "ActionTypeIndex": 39,
         "ActionTypeName": "Step Out of Bounds Turnover",
         "EventType": "Turnover",
         "_deepnote_index_column": 131
        },
        {
         "EventTypeId": 5,
         "ActionTypeIndex": 40,
         "ActionTypeName": "Out of Bounds Lost Ball Turnover",
         "EventType": "Turnover",
         "_deepnote_index_column": 132
        },
        {
         "EventTypeId": 5,
         "ActionTypeIndex": 42,
         "ActionTypeName": "Excess Timeout Turnover",
         "EventType": "Turnover",
         "_deepnote_index_column": 133
        },
        {
         "EventTypeId": 5,
         "ActionTypeIndex": 45,
         "ActionTypeName": "Out of Bounds - Bad Pass Turnover",
         "EventType": "Turnover",
         "_deepnote_index_column": 134
        },
        {
         "EventTypeId": 6,
         "ActionTypeIndex": 1,
         "ActionTypeName": "Personal",
         "EventType": "Foul",
         "_deepnote_index_column": 135
        },
        {
         "EventTypeId": 6,
         "ActionTypeIndex": 2,
         "ActionTypeName": "Shooting",
         "EventType": "Foul",
         "_deepnote_index_column": 136
        },
        {
         "EventTypeId": 6,
         "ActionTypeIndex": 3,
         "ActionTypeName": "Loose Ball",
         "EventType": "Foul",
         "_deepnote_index_column": 137
        },
        {
         "EventTypeId": 6,
         "ActionTypeIndex": 4,
         "ActionTypeName": "Offensive",
         "EventType": "Foul",
         "_deepnote_index_column": 138
        },
        {
         "EventTypeId": 6,
         "ActionTypeIndex": 6,
         "ActionTypeName": "Away From Play",
         "EventType": "Foul",
         "_deepnote_index_column": 139
        },
        {
         "EventTypeId": 6,
         "ActionTypeIndex": 8,
         "ActionTypeName": "Punching",
         "EventType": "Foul",
         "_deepnote_index_column": 140
        },
        {
         "EventTypeId": 6,
         "ActionTypeIndex": 9,
         "ActionTypeName": "Clear Path",
         "EventType": "Foul",
         "_deepnote_index_column": 141
        },
        {
         "EventTypeId": 6,
         "ActionTypeIndex": 10,
         "ActionTypeName": "Double Personal",
         "EventType": "Foul",
         "_deepnote_index_column": 142
        },
        {
         "EventTypeId": 6,
         "ActionTypeIndex": 11,
         "ActionTypeName": "Technical",
         "EventType": "Foul",
         "_deepnote_index_column": 143
        },
        {
         "EventTypeId": 6,
         "ActionTypeIndex": 12,
         "ActionTypeName": "Non Supported Technical",
         "EventType": "Foul",
         "_deepnote_index_column": 144
        },
        {
         "EventTypeId": 6,
         "ActionTypeIndex": 13,
         "ActionTypeName": "Hanging Technical",
         "EventType": "Foul",
         "_deepnote_index_column": 145
        },
        {
         "EventTypeId": 6,
         "ActionTypeIndex": 14,
         "ActionTypeName": "Flagrant Type 1",
         "EventType": "Foul",
         "_deepnote_index_column": 146
        },
        {
         "EventTypeId": 6,
         "ActionTypeIndex": 15,
         "ActionTypeName": "Flagrant Type 2",
         "EventType": "Foul",
         "_deepnote_index_column": 147
        },
        {
         "EventTypeId": 6,
         "ActionTypeIndex": 16,
         "ActionTypeName": "Double Technical",
         "EventType": "Foul",
         "_deepnote_index_column": 148
        },
        {
         "EventTypeId": 6,
         "ActionTypeIndex": 17,
         "ActionTypeName": "Defense 3 Second",
         "EventType": "Foul",
         "_deepnote_index_column": 149
        }
       ]
      },
      "text/plain": "     EventTypeId  ActionTypeIndex         ActionTypeName  EventType\n0              1                1              Jump Shot  Made Shot\n1              1                2      Running Jump Shot  Made Shot\n2              1                3              Hook Shot  Made Shot\n3              1                5             Layup Shot  Made Shot\n4              1                6     Driving Layup Shot  Made Shot\n..           ...              ...                    ...        ...\n177           20                2                 Injury   Stoppage\n178           20                3          Out of Bounds   Stoppage\n179           20                4          Court cleanup   Stoppage\n180           20                5  Equipment malfunction   Stoppage\n181           20                6   Stoppage: Blood Rule   Stoppage\n\n[182 rows x 4 columns]",
      "text/html": "<div>\n<style scoped>\n    .dataframe tbody tr th:only-of-type {\n        vertical-align: middle;\n    }\n\n    .dataframe tbody tr th {\n        vertical-align: top;\n    }\n\n    .dataframe thead th {\n        text-align: right;\n    }\n</style>\n<table border=\"1\" class=\"dataframe\">\n  <thead>\n    <tr style=\"text-align: right;\">\n      <th></th>\n      <th>EventTypeId</th>\n      <th>ActionTypeIndex</th>\n      <th>ActionTypeName</th>\n      <th>EventType</th>\n    </tr>\n  </thead>\n  <tbody>\n    <tr>\n      <th>0</th>\n      <td>1</td>\n      <td>1</td>\n      <td>Jump Shot</td>\n      <td>Made Shot</td>\n    </tr>\n    <tr>\n      <th>1</th>\n      <td>1</td>\n      <td>2</td>\n      <td>Running Jump Shot</td>\n      <td>Made Shot</td>\n    </tr>\n    <tr>\n      <th>2</th>\n      <td>1</td>\n      <td>3</td>\n      <td>Hook Shot</td>\n      <td>Made Shot</td>\n    </tr>\n    <tr>\n      <th>3</th>\n      <td>1</td>\n      <td>5</td>\n      <td>Layup Shot</td>\n      <td>Made Shot</td>\n    </tr>\n    <tr>\n      <th>4</th>\n      <td>1</td>\n      <td>6</td>\n      <td>Driving Layup Shot</td>\n      <td>Made Shot</td>\n    </tr>\n    <tr>\n      <th>...</th>\n      <td>...</td>\n      <td>...</td>\n      <td>...</td>\n      <td>...</td>\n    </tr>\n    <tr>\n      <th>177</th>\n      <td>20</td>\n      <td>2</td>\n      <td>Injury</td>\n      <td>Stoppage</td>\n    </tr>\n    <tr>\n      <th>178</th>\n      <td>20</td>\n      <td>3</td>\n      <td>Out of Bounds</td>\n      <td>Stoppage</td>\n    </tr>\n    <tr>\n      <th>179</th>\n      <td>20</td>\n      <td>4</td>\n      <td>Court cleanup</td>\n      <td>Stoppage</td>\n    </tr>\n    <tr>\n      <th>180</th>\n      <td>20</td>\n      <td>5</td>\n      <td>Equipment malfunction</td>\n      <td>Stoppage</td>\n    </tr>\n    <tr>\n      <th>181</th>\n      <td>20</td>\n      <td>6</td>\n      <td>Stoppage: Blood Rule</td>\n      <td>Stoppage</td>\n    </tr>\n  </tbody>\n</table>\n<p>182 rows × 4 columns</p>\n</div>"
     },
     "metadata": {}
    }
   ]
  },
  {
   "cell_type": "code",
   "metadata": {
    "cell_id": "3d7d4b7a-8c0f-4328-95d2-7ed2a6bed90f",
    "tags": [],
    "deepnote_to_be_reexecuted": false,
    "source_hash": "89ee2477",
    "execution_start": 1646969277755,
    "execution_millis": 27,
    "deepnote_table_state": {
     "pageSize": 10,
     "pageIndex": 2,
     "filters": [],
     "sortBy": []
    },
    "deepnote_table_loading": false,
    "deepnote_table_invalid": false,
    "deepnote_cell_type": "code",
    "deepnote_cell_height": 711
   },
   "source": "# Possesion Changes are determined by the following:\n# 1. Made Field Goal Attempts\n# 2. Made Final Free Throw Attempt\n# 3. Missed Final Free Throw Attempt that results in a Defensive Rebound\n# 4. Missed Field Goal Attempt that results in a Defensive Rebound\n# 5. Turnover\n# 6. End of time period\n\n# 1\nmadeFG = play_by_play['EventTypeId'] == 1\n\nfinalFt = play_by_play['ActionTypeIndex'].isin([10, 12, 15, 16, 19, 20, 22, 26, 29])\n\n# defReb = (play_by_play['EventTypeId'] == 4) & (play_by_play['TeamId_Offense'].shift(-1).bfill().ne(play_by_play['TeamId_Offense']))\n\n# 2.\nmadeFinalFt = (play_by_play['EventTypeId'] == 3) & finalFt & (play_by_play['Points'] == 1)\n\ndefReb = (play_by_play['EventTypeId'].shift(-1) == 4) & (play_by_play['TeamId_Offense'].shift(-2).bfill().ne(play_by_play['TeamId_Offense'].shift(-1).bfill()))\n\n# 3.\ndefRebFinalFt = finalFt & defReb\n\n# 4.\ndefRebMissedFg = (play_by_play['EventTypeId'] == 2) & defReb\n\n# 5.\nturnovers = play_by_play['EventTypeId'] == 5\n\n#6. \nendQuarter = play_by_play['EventTypeId'] == 13\n\nplay_by_play['Possession'] = 0\nplay_by_play.loc[madeFG | madeFinalFt | defRebFinalFt | defRebMissedFg | turnovers | endQuarter, 'Possession'] = 1\n\n# play_by_play[['GameId', 'GameClock', 'Description', 'EventType', 'ActionTypeName','Possession', 'TeamName_Offense', 'TeamId_Offense']]",
   "execution_count": null,
   "outputs": []
  },
  {
   "cell_type": "code",
   "metadata": {
    "cell_id": "cc98e1ea-d60f-4aa1-8b9d-cc6bb141a1a0",
    "tags": [],
    "deepnote_to_be_reexecuted": true,
    "source_hash": "9c0a1164",
    "execution_start": 1646969024350,
    "execution_millis": 6700,
    "deepnote_cell_type": "code",
    "deepnote_cell_height": 81
   },
   "source": "# play_by_play.to_csv('pbp_2020_possessions.csv')",
   "execution_count": null,
   "outputs": []
  },
  {
   "cell_type": "code",
   "metadata": {
    "cell_id": "9517cfe6-c82f-425c-bfa8-27997a34791f",
    "tags": [],
    "deepnote_to_be_reexecuted": false,
    "source_hash": "4cda2a8d",
    "execution_start": 1646969031072,
    "execution_millis": 266,
    "deepnote_cell_type": "code",
    "deepnote_cell_height": 726
   },
   "source": "offense_cols = ['Points', 'Possession', 'Players', 'GameId']\nortg = play_by_play.groupby(['FloorLineupId_Offense']).agg({\n    'Points': 'sum',\n    'Possession': 'sum',\n    'Players': 'first',\n    'GameId': 'nunique'\n    })[offense_cols].rename(columns={\"GameId\": \"GP\"}).reset_index()\nortg",
   "execution_count": null,
   "outputs": [
    {
     "output_type": "execute_result",
     "execution_count": 9,
     "data": {
      "application/vnd.deepnote.dataframe.v3+json": {
       "column_count": 5,
       "row_count": 17123,
       "columns": [
        {
         "name": "FloorLineupId_Offense",
         "dtype": "int64",
         "stats": {
          "unique_count": 17123,
          "nan_count": 0,
          "min": "120",
          "max": "375044",
          "histogram": [
           {
            "bin_start": 120,
            "bin_end": 37612.4,
            "count": 103
           },
           {
            "bin_start": 37612.4,
            "bin_end": 75104.8,
            "count": 0
           },
           {
            "bin_start": 75104.8,
            "bin_end": 112597.20000000001,
            "count": 284
           },
           {
            "bin_start": 112597.20000000001,
            "bin_end": 150089.6,
            "count": 264
           },
           {
            "bin_start": 150089.6,
            "bin_end": 187582,
            "count": 0
           },
           {
            "bin_start": 187582,
            "bin_end": 225074.40000000002,
            "count": 0
           },
           {
            "bin_start": 225074.40000000002,
            "bin_end": 262566.8,
            "count": 0
           },
           {
            "bin_start": 262566.8,
            "bin_end": 300059.2,
            "count": 0
           },
           {
            "bin_start": 300059.2,
            "bin_end": 337551.60000000003,
            "count": 115
           },
           {
            "bin_start": 337551.60000000003,
            "bin_end": 375044,
            "count": 16357
           }
          ]
         }
        },
        {
         "name": "Points",
         "dtype": "int64",
         "stats": {
          "unique_count": 279,
          "nan_count": 0,
          "min": "0",
          "max": "1711",
          "histogram": [
           {
            "bin_start": 0,
            "bin_end": 171.1,
            "count": 16983
           },
           {
            "bin_start": 171.1,
            "bin_end": 342.2,
            "count": 94
           },
           {
            "bin_start": 342.2,
            "bin_end": 513.3,
            "count": 19
           },
           {
            "bin_start": 513.3,
            "bin_end": 684.4,
            "count": 11
           },
           {
            "bin_start": 684.4,
            "bin_end": 855.5,
            "count": 6
           },
           {
            "bin_start": 855.5,
            "bin_end": 1026.6,
            "count": 1
           },
           {
            "bin_start": 1026.6,
            "bin_end": 1197.7,
            "count": 3
           },
           {
            "bin_start": 1197.7,
            "bin_end": 1368.8,
            "count": 2
           },
           {
            "bin_start": 1368.8,
            "bin_end": 1539.8999999999999,
            "count": 2
           },
           {
            "bin_start": 1539.8999999999999,
            "bin_end": 1711,
            "count": 2
           }
          ]
         }
        },
        {
         "name": "Possession",
         "dtype": "int64",
         "stats": {
          "unique_count": 261,
          "nan_count": 0,
          "min": "0",
          "max": "1476",
          "histogram": [
           {
            "bin_start": 0,
            "bin_end": 147.6,
            "count": 16968
           },
           {
            "bin_start": 147.6,
            "bin_end": 295.2,
            "count": 106
           },
           {
            "bin_start": 295.2,
            "bin_end": 442.79999999999995,
            "count": 23
           },
           {
            "bin_start": 442.79999999999995,
            "bin_end": 590.4,
            "count": 11
           },
           {
            "bin_start": 590.4,
            "bin_end": 738,
            "count": 4
           },
           {
            "bin_start": 738,
            "bin_end": 885.5999999999999,
            "count": 3
           },
           {
            "bin_start": 885.5999999999999,
            "bin_end": 1033.2,
            "count": 2
           },
           {
            "bin_start": 1033.2,
            "bin_end": 1180.8,
            "count": 2
           },
           {
            "bin_start": 1180.8,
            "bin_end": 1328.3999999999999,
            "count": 2
           },
           {
            "bin_start": 1328.3999999999999,
            "bin_end": 1476,
            "count": 2
           }
          ]
         }
        },
        {
         "name": "Players",
         "dtype": "object",
         "stats": {
          "unique_count": 17123,
          "nan_count": 0,
          "categories": [
           {
            "name": "Dejounte Murray, Patty Mills, DeMar DeRozan, LaMarcus Aldridge, Jakob Poeltl",
            "count": 1
           },
           {
            "name": "Jamal Murray, Gary Harris, Will Barton, Paul Millsap, Nikola Jokic",
            "count": 1
           },
           {
            "name": "17121 others",
            "count": 17121
           }
          ]
         }
        },
        {
         "name": "GP",
         "dtype": "int64",
         "stats": {
          "unique_count": 40,
          "nan_count": 0,
          "min": "1",
          "max": "52",
          "histogram": [
           {
            "bin_start": 1,
            "bin_end": 6.1,
            "count": 16320
           },
           {
            "bin_start": 6.1,
            "bin_end": 11.2,
            "count": 564
           },
           {
            "bin_start": 11.2,
            "bin_end": 16.299999999999997,
            "count": 145
           },
           {
            "bin_start": 16.299999999999997,
            "bin_end": 21.4,
            "count": 48
           },
           {
            "bin_start": 21.4,
            "bin_end": 26.5,
            "count": 22
           },
           {
            "bin_start": 26.5,
            "bin_end": 31.599999999999998,
            "count": 10
           },
           {
            "bin_start": 31.599999999999998,
            "bin_end": 36.699999999999996,
            "count": 5
           },
           {
            "bin_start": 36.699999999999996,
            "bin_end": 41.8,
            "count": 5
           },
           {
            "bin_start": 41.8,
            "bin_end": 46.9,
            "count": 3
           },
           {
            "bin_start": 46.9,
            "bin_end": 52,
            "count": 1
           }
          ]
         }
        },
        {
         "name": "_deepnote_index_column",
         "dtype": "int64"
        }
       ],
       "rows": [
        {
         "FloorLineupId_Offense": 952,
         "Points": 5,
         "Possession": 5,
         "Players": "Kevin Knox II, Frank Ntilikina, Julius Randle, Mitchell Robinson, R.J. Barrett",
         "GP": 1,
         "_deepnote_index_column": 20
        },
        {
         "FloorLineupId_Offense": 1019,
         "Points": 22,
         "Possession": 19,
         "Players": "Otto Porter Jr., Thaddeus Young, Tomas Satoransky, Zach LaVine, Lauri Markkanen",
         "GP": 3,
         "_deepnote_index_column": 21
        },
        {
         "FloorLineupId_Offense": 1023,
         "Points": 0,
         "Possession": 6,
         "Players": "Denzel Valentine, Thaddeus Young, Tomas Satoransky, Coby White, Daniel Gafford",
         "GP": 1,
         "_deepnote_index_column": 22
        },
        {
         "FloorLineupId_Offense": 1050,
         "Points": 42,
         "Possession": 35,
         "Players": "Thaddeus Young, Lauri Markkanen, Tomas Satoransky, Denzel Valentine, Ryan Arcidiacono",
         "GP": 4,
         "_deepnote_index_column": 23
        },
        {
         "FloorLineupId_Offense": 1097,
         "Points": 4,
         "Possession": 2,
         "Players": "Stanley Johnson, Fred VanVleet, Terence Davis, Pascal Siakam, Chris Boucher",
         "GP": 2,
         "_deepnote_index_column": 24
        },
        {
         "FloorLineupId_Offense": 1178,
         "Points": 32,
         "Possession": 24,
         "Players": "LaMarcus Aldridge, Patty Mills, DeMar DeRozan, Rudy Gay, Dejounte Murray",
         "GP": 3,
         "_deepnote_index_column": 25
        },
        {
         "FloorLineupId_Offense": 1203,
         "Points": 0,
         "Possession": 0,
         "Players": "Kyle Anderson, Dillon Brooks, Jaren Jackson Jr., Tyus Jones, Brandon Clarke",
         "GP": 1,
         "_deepnote_index_column": 26
        },
        {
         "FloorLineupId_Offense": 1297,
         "Points": 0,
         "Possession": 2,
         "Players": "Jevon Carter, Dario Saric, Devin Booker, Deandre Ayton, Cameron Johnson",
         "GP": 1,
         "_deepnote_index_column": 27
        },
        {
         "FloorLineupId_Offense": 1372,
         "Points": 29,
         "Possession": 19,
         "Players": "Dorian Finney-Smith, Boban Marjanovic, Tim Hardaway, Jalen Brunson, Luka Doncic",
         "GP": 3,
         "_deepnote_index_column": 28
        },
        {
         "FloorLineupId_Offense": 1507,
         "Points": 4,
         "Possession": 3,
         "Players": "Otto Porter Jr., Coby White, Lauri Markkanen, Zach LaVine, Tomas Satoransky",
         "GP": 3,
         "_deepnote_index_column": 29
        }
       ]
      },
      "text/plain": "       FloorLineupId_Offense  Points  Possession  \\\n0                        120       2           2   \n1                        227     615         499   \n2                        240      10           9   \n3                        251      12          14   \n4                        259    1407        1231   \n...                      ...     ...         ...   \n17118                 375040       0           0   \n17119                 375041       2           5   \n17120                 375042       0           0   \n17121                 375043       3           4   \n17122                 375044       0           2   \n\n                                                 Players  GP  \n0      Dejounte Murray, Patty Mills, DeMar DeRozan, L...   1  \n1      Jamal Murray, Gary Harris, Will Barton, Paul M...  16  \n2      Doug McDermott, Justin Holiday, Edmond Sumner,...   6  \n3      Caleb Martin, Miles Bridges, Terry Rozier, Dev...   2  \n4      Donovan Mitchell Jr., Mike Conley Jr., Royce O...  41  \n...                                                  ...  ..  \n17118  James Nunnally, James Johnson, Nickeil Alexand...   1  \n17119  Talen Horton-Tucker, Marc Gasol, Jared Dudley,...   1  \n17120  Talen Horton-Tucker, Marc Gasol, Jared Dudley,...   1  \n17121  Talen Horton-Tucker, Marc Gasol, Jared Dudley,...   1  \n17122  Naji Marshall, James Nunnally, Nickeil Alexand...   1  \n\n[17123 rows x 5 columns]",
      "text/html": "<div>\n<style scoped>\n    .dataframe tbody tr th:only-of-type {\n        vertical-align: middle;\n    }\n\n    .dataframe tbody tr th {\n        vertical-align: top;\n    }\n\n    .dataframe thead th {\n        text-align: right;\n    }\n</style>\n<table border=\"1\" class=\"dataframe\">\n  <thead>\n    <tr style=\"text-align: right;\">\n      <th></th>\n      <th>FloorLineupId_Offense</th>\n      <th>Points</th>\n      <th>Possession</th>\n      <th>Players</th>\n      <th>GP</th>\n    </tr>\n  </thead>\n  <tbody>\n    <tr>\n      <th>0</th>\n      <td>120</td>\n      <td>2</td>\n      <td>2</td>\n      <td>Dejounte Murray, Patty Mills, DeMar DeRozan, L...</td>\n      <td>1</td>\n    </tr>\n    <tr>\n      <th>1</th>\n      <td>227</td>\n      <td>615</td>\n      <td>499</td>\n      <td>Jamal Murray, Gary Harris, Will Barton, Paul M...</td>\n      <td>16</td>\n    </tr>\n    <tr>\n      <th>2</th>\n      <td>240</td>\n      <td>10</td>\n      <td>9</td>\n      <td>Doug McDermott, Justin Holiday, Edmond Sumner,...</td>\n      <td>6</td>\n    </tr>\n    <tr>\n      <th>3</th>\n      <td>251</td>\n      <td>12</td>\n      <td>14</td>\n      <td>Caleb Martin, Miles Bridges, Terry Rozier, Dev...</td>\n      <td>2</td>\n    </tr>\n    <tr>\n      <th>4</th>\n      <td>259</td>\n      <td>1407</td>\n      <td>1231</td>\n      <td>Donovan Mitchell Jr., Mike Conley Jr., Royce O...</td>\n      <td>41</td>\n    </tr>\n    <tr>\n      <th>...</th>\n      <td>...</td>\n      <td>...</td>\n      <td>...</td>\n      <td>...</td>\n      <td>...</td>\n    </tr>\n    <tr>\n      <th>17118</th>\n      <td>375040</td>\n      <td>0</td>\n      <td>0</td>\n      <td>James Nunnally, James Johnson, Nickeil Alexand...</td>\n      <td>1</td>\n    </tr>\n    <tr>\n      <th>17119</th>\n      <td>375041</td>\n      <td>2</td>\n      <td>5</td>\n      <td>Talen Horton-Tucker, Marc Gasol, Jared Dudley,...</td>\n      <td>1</td>\n    </tr>\n    <tr>\n      <th>17120</th>\n      <td>375042</td>\n      <td>0</td>\n      <td>0</td>\n      <td>Talen Horton-Tucker, Marc Gasol, Jared Dudley,...</td>\n      <td>1</td>\n    </tr>\n    <tr>\n      <th>17121</th>\n      <td>375043</td>\n      <td>3</td>\n      <td>4</td>\n      <td>Talen Horton-Tucker, Marc Gasol, Jared Dudley,...</td>\n      <td>1</td>\n    </tr>\n    <tr>\n      <th>17122</th>\n      <td>375044</td>\n      <td>0</td>\n      <td>2</td>\n      <td>Naji Marshall, James Nunnally, Nickeil Alexand...</td>\n      <td>1</td>\n    </tr>\n  </tbody>\n</table>\n<p>17123 rows × 5 columns</p>\n</div>"
     },
     "metadata": {}
    }
   ]
  },
  {
   "cell_type": "code",
   "metadata": {
    "cell_id": "20ff6f2a-e9c2-442b-a6f1-0f82951b40a3",
    "tags": [],
    "deepnote_to_be_reexecuted": false,
    "source_hash": "cf7fdd6b",
    "execution_start": 1646969031341,
    "execution_millis": 54,
    "owner_user_id": "f15e0aec-e3fd-45cb-b701-f4b78187aeaa",
    "deepnote_cell_type": "code",
    "deepnote_cell_height": 708
   },
   "source": "# NBA publishes the actual values here:\n# https://www.nba.com/stats/lineups/advanced/?Season=2020-21&SeasonType=Regular%20Season&sort=GROUP_NAME&dir=-1\n# Calculated values are still slightly off, not sure what's wrong\nortg['ORTG'] = 100 * ortg['Points'] / ortg['Possession']\n\nortg = ortg[['FloorLineupId_Offense', 'Players', 'ORTG', 'Points', 'Possession', 'GP']]\nortg.sort_values(by='GP', ascending=False)",
   "execution_count": null,
   "outputs": [
    {
     "output_type": "execute_result",
     "execution_count": 10,
     "data": {
      "application/vnd.deepnote.dataframe.v3+json": {
       "column_count": 6,
       "row_count": 17123,
       "columns": [
        {
         "name": "FloorLineupId_Offense",
         "dtype": "int64",
         "stats": {
          "unique_count": 17123,
          "nan_count": 0,
          "min": "120",
          "max": "375044",
          "histogram": [
           {
            "bin_start": 120,
            "bin_end": 37612.4,
            "count": 103
           },
           {
            "bin_start": 37612.4,
            "bin_end": 75104.8,
            "count": 0
           },
           {
            "bin_start": 75104.8,
            "bin_end": 112597.20000000001,
            "count": 284
           },
           {
            "bin_start": 112597.20000000001,
            "bin_end": 150089.6,
            "count": 264
           },
           {
            "bin_start": 150089.6,
            "bin_end": 187582,
            "count": 0
           },
           {
            "bin_start": 187582,
            "bin_end": 225074.40000000002,
            "count": 0
           },
           {
            "bin_start": 225074.40000000002,
            "bin_end": 262566.8,
            "count": 0
           },
           {
            "bin_start": 262566.8,
            "bin_end": 300059.2,
            "count": 0
           },
           {
            "bin_start": 300059.2,
            "bin_end": 337551.60000000003,
            "count": 115
           },
           {
            "bin_start": 337551.60000000003,
            "bin_end": 375044,
            "count": 16357
           }
          ]
         }
        },
        {
         "name": "Players",
         "dtype": "object",
         "stats": {
          "unique_count": 17123,
          "nan_count": 0,
          "categories": [
           {
            "name": "Devin Booker, Chris Paul, Mikal Bridges, Jae Crowder, Deandre Ayton",
            "count": 1
           },
           {
            "name": "Donovan Mitchell Jr., Jordan Clarkson, Derrick Favors, Royce O'Neale, Bojan Bogdanovic",
            "count": 1
           },
           {
            "name": "17121 others",
            "count": 17121
           }
          ]
         }
        },
        {
         "name": "ORTG",
         "dtype": "float64",
         "stats": {
          "unique_count": 1070,
          "nan_count": 2837,
          "min": "0.0",
          "max": "inf",
          "histogram": [
           {
            "bin_start": 0,
            "bin_end": 40,
            "count": 2003
           },
           {
            "bin_start": 40,
            "bin_end": 80,
            "count": 2244
           },
           {
            "bin_start": 80,
            "bin_end": 120,
            "count": 5072
           },
           {
            "bin_start": 120,
            "bin_end": 160,
            "count": 3151
           },
           {
            "bin_start": 160,
            "bin_end": 200,
            "count": 783
           },
           {
            "bin_start": 200,
            "bin_end": 240,
            "count": 770
           },
           {
            "bin_start": 240,
            "bin_end": 280,
            "count": 107
           },
           {
            "bin_start": 280,
            "bin_end": 320,
            "count": 152
           },
           {
            "bin_start": 320,
            "bin_end": 360,
            "count": 0
           },
           {
            "bin_start": 360,
            "bin_end": 400,
            "count": 2
           }
          ]
         }
        },
        {
         "name": "Points",
         "dtype": "int64",
         "stats": {
          "unique_count": 279,
          "nan_count": 0,
          "min": "0",
          "max": "1711",
          "histogram": [
           {
            "bin_start": 0,
            "bin_end": 171.1,
            "count": 16983
           },
           {
            "bin_start": 171.1,
            "bin_end": 342.2,
            "count": 94
           },
           {
            "bin_start": 342.2,
            "bin_end": 513.3,
            "count": 19
           },
           {
            "bin_start": 513.3,
            "bin_end": 684.4,
            "count": 11
           },
           {
            "bin_start": 684.4,
            "bin_end": 855.5,
            "count": 6
           },
           {
            "bin_start": 855.5,
            "bin_end": 1026.6,
            "count": 1
           },
           {
            "bin_start": 1026.6,
            "bin_end": 1197.7,
            "count": 3
           },
           {
            "bin_start": 1197.7,
            "bin_end": 1368.8,
            "count": 2
           },
           {
            "bin_start": 1368.8,
            "bin_end": 1539.8999999999999,
            "count": 2
           },
           {
            "bin_start": 1539.8999999999999,
            "bin_end": 1711,
            "count": 2
           }
          ]
         }
        },
        {
         "name": "Possession",
         "dtype": "int64",
         "stats": {
          "unique_count": 261,
          "nan_count": 0,
          "min": "0",
          "max": "1476",
          "histogram": [
           {
            "bin_start": 0,
            "bin_end": 147.6,
            "count": 16968
           },
           {
            "bin_start": 147.6,
            "bin_end": 295.2,
            "count": 106
           },
           {
            "bin_start": 295.2,
            "bin_end": 442.79999999999995,
            "count": 23
           },
           {
            "bin_start": 442.79999999999995,
            "bin_end": 590.4,
            "count": 11
           },
           {
            "bin_start": 590.4,
            "bin_end": 738,
            "count": 4
           },
           {
            "bin_start": 738,
            "bin_end": 885.5999999999999,
            "count": 3
           },
           {
            "bin_start": 885.5999999999999,
            "bin_end": 1033.2,
            "count": 2
           },
           {
            "bin_start": 1033.2,
            "bin_end": 1180.8,
            "count": 2
           },
           {
            "bin_start": 1180.8,
            "bin_end": 1328.3999999999999,
            "count": 2
           },
           {
            "bin_start": 1328.3999999999999,
            "bin_end": 1476,
            "count": 2
           }
          ]
         }
        },
        {
         "name": "GP",
         "dtype": "int64"
        },
        {
         "name": "_deepnote_index_column",
         "dtype": "int64"
        }
       ],
       "rows": [
        {
         "FloorLineupId_Offense": 350078,
         "Players": "Devin Booker, Chris Paul, Mikal Bridges, Jae Crowder, Deandre Ayton",
         "ORTG": 115.92140921409214,
         "Points": 1711,
         "Possession": 1476,
         "GP": 52,
         "_deepnote_index_column": 1108
        },
        {
         "FloorLineupId_Offense": 350400,
         "Players": "Donovan Mitchell Jr., Jordan Clarkson, Derrick Favors, Royce O'Neale, Bojan Bogdanovic",
         "ORTG": 121.17437722419929,
         "Points": 681,
         "Possession": 562,
         "GP": 45,
         "_deepnote_index_column": 1229
        },
        {
         "FloorLineupId_Offense": 349210,
         "Players": "Donte DiVincenzo, Jrue Holiday, Khris Middleton, Giannis Antetokounmpo, Brook Lopez",
         "ORTG": 117.53472222222223,
         "Points": 1354,
         "Possession": 1152,
         "GP": 45,
         "_deepnote_index_column": 863
        },
        {
         "FloorLineupId_Offense": 349037,
         "Players": "Reggie Bullock, Elfrid Payton, Julius Randle, Nerlens Noel, R.J. Barrett",
         "ORTG": 108.8967971530249,
         "Points": 1224,
         "Possession": 1124,
         "GP": 42,
         "_deepnote_index_column": 807
        },
        {
         "FloorLineupId_Offense": 350467,
         "Players": "Eric Bledsoe, Lonzo Ball, Brandon Ingram, Zion Williamson, Steven Adams",
         "ORTG": 115.52262090483619,
         "Points": 1481,
         "Possession": 1282,
         "GP": 41,
         "_deepnote_index_column": 1250
        },
        {
         "FloorLineupId_Offense": 259,
         "Players": "Donovan Mitchell Jr., Mike Conley Jr., Royce O'Neale, Bojan Bogdanovic, Rudy Gobert",
         "ORTG": 114.29731925264014,
         "Points": 1407,
         "Possession": 1231,
         "GP": 41,
         "_deepnote_index_column": 4
        },
        {
         "FloorLineupId_Offense": 349655,
         "Players": "De'Aaron Fox, Harrison Barnes, Buddy Hield, Richaun Holmes, Tyrese Haliburton",
         "ORTG": 118.9127972819932,
         "Points": 1050,
         "Possession": 883,
         "GP": 40,
         "_deepnote_index_column": 996
        },
        {
         "FloorLineupId_Offense": 351813,
         "Players": "Cameron Payne, Jae Crowder, Devin Booker, Mikal Bridges, Deandre Ayton",
         "ORTG": 123.04832713754647,
         "Points": 331,
         "Possession": 269,
         "GP": 40,
         "_deepnote_index_column": 2205
        },
        {
         "FloorLineupId_Offense": 350366,
         "Players": "Joe Ingles, Royce O'Neale, Derrick Favors, Bojan Bogdanovic, Donovan Mitchell Jr.",
         "ORTG": 112.03208556149733,
         "Points": 419,
         "Possession": 374,
         "GP": 39,
         "_deepnote_index_column": 1217
        },
        {
         "FloorLineupId_Offense": 77062,
         "Players": "Jonas Valanciunas, Dillon Brooks, Kyle Anderson, Grayson Allen, Ja Morant",
         "ORTG": 114.7117296222664,
         "Points": 1154,
         "Possession": 1006,
         "GP": 35,
         "_deepnote_index_column": 114
        }
       ]
      },
      "text/plain": "       FloorLineupId_Offense  \\\n1108                  350078   \n1229                  350400   \n863                   349210   \n807                   349037   \n1250                  350467   \n...                      ...   \n7974                  360349   \n7975                  360350   \n7976                  360351   \n7978                  360353   \n17122                 375044   \n\n                                                 Players        ORTG  Points  \\\n1108   Devin Booker, Chris Paul, Mikal Bridges, Jae C...  115.921409    1711   \n1229   Donovan Mitchell Jr., Jordan Clarkson, Derrick...  121.174377     681   \n863    Donte DiVincenzo, Jrue Holiday, Khris Middleto...  117.534722    1354   \n807    Reggie Bullock, Elfrid Payton, Julius Randle, ...  108.896797    1224   \n1250   Eric Bledsoe, Lonzo Ball, Brandon Ingram, Zion...  115.522621    1481   \n...                                                  ...         ...     ...   \n7974   Mason Plumlee, Wayne Ellington, Delon Wright, ...         NaN       0   \n7975   Michael Porter Jr., Jamal Murray, Isaiah Harte...         NaN       0   \n7976   Michael Porter Jr., Jamal Murray, Isaiah Harte...         NaN       0   \n7978   Ivica Zubac, Patrick Patterson, Amir Coffey, M...   33.333333       2   \n17122  Naji Marshall, James Nunnally, Nickeil Alexand...    0.000000       0   \n\n       Possession  GP  \n1108         1476  52  \n1229          562  45  \n863          1152  45  \n807          1124  42  \n1250         1282  41  \n...           ...  ..  \n7974            0   1  \n7975            0   1  \n7976            0   1  \n7978            6   1  \n17122           2   1  \n\n[17123 rows x 6 columns]",
      "text/html": "<div>\n<style scoped>\n    .dataframe tbody tr th:only-of-type {\n        vertical-align: middle;\n    }\n\n    .dataframe tbody tr th {\n        vertical-align: top;\n    }\n\n    .dataframe thead th {\n        text-align: right;\n    }\n</style>\n<table border=\"1\" class=\"dataframe\">\n  <thead>\n    <tr style=\"text-align: right;\">\n      <th></th>\n      <th>FloorLineupId_Offense</th>\n      <th>Players</th>\n      <th>ORTG</th>\n      <th>Points</th>\n      <th>Possession</th>\n      <th>GP</th>\n    </tr>\n  </thead>\n  <tbody>\n    <tr>\n      <th>1108</th>\n      <td>350078</td>\n      <td>Devin Booker, Chris Paul, Mikal Bridges, Jae C...</td>\n      <td>115.921409</td>\n      <td>1711</td>\n      <td>1476</td>\n      <td>52</td>\n    </tr>\n    <tr>\n      <th>1229</th>\n      <td>350400</td>\n      <td>Donovan Mitchell Jr., Jordan Clarkson, Derrick...</td>\n      <td>121.174377</td>\n      <td>681</td>\n      <td>562</td>\n      <td>45</td>\n    </tr>\n    <tr>\n      <th>863</th>\n      <td>349210</td>\n      <td>Donte DiVincenzo, Jrue Holiday, Khris Middleto...</td>\n      <td>117.534722</td>\n      <td>1354</td>\n      <td>1152</td>\n      <td>45</td>\n    </tr>\n    <tr>\n      <th>807</th>\n      <td>349037</td>\n      <td>Reggie Bullock, Elfrid Payton, Julius Randle, ...</td>\n      <td>108.896797</td>\n      <td>1224</td>\n      <td>1124</td>\n      <td>42</td>\n    </tr>\n    <tr>\n      <th>1250</th>\n      <td>350467</td>\n      <td>Eric Bledsoe, Lonzo Ball, Brandon Ingram, Zion...</td>\n      <td>115.522621</td>\n      <td>1481</td>\n      <td>1282</td>\n      <td>41</td>\n    </tr>\n    <tr>\n      <th>...</th>\n      <td>...</td>\n      <td>...</td>\n      <td>...</td>\n      <td>...</td>\n      <td>...</td>\n      <td>...</td>\n    </tr>\n    <tr>\n      <th>7974</th>\n      <td>360349</td>\n      <td>Mason Plumlee, Wayne Ellington, Delon Wright, ...</td>\n      <td>NaN</td>\n      <td>0</td>\n      <td>0</td>\n      <td>1</td>\n    </tr>\n    <tr>\n      <th>7975</th>\n      <td>360350</td>\n      <td>Michael Porter Jr., Jamal Murray, Isaiah Harte...</td>\n      <td>NaN</td>\n      <td>0</td>\n      <td>0</td>\n      <td>1</td>\n    </tr>\n    <tr>\n      <th>7976</th>\n      <td>360351</td>\n      <td>Michael Porter Jr., Jamal Murray, Isaiah Harte...</td>\n      <td>NaN</td>\n      <td>0</td>\n      <td>0</td>\n      <td>1</td>\n    </tr>\n    <tr>\n      <th>7978</th>\n      <td>360353</td>\n      <td>Ivica Zubac, Patrick Patterson, Amir Coffey, M...</td>\n      <td>33.333333</td>\n      <td>2</td>\n      <td>6</td>\n      <td>1</td>\n    </tr>\n    <tr>\n      <th>17122</th>\n      <td>375044</td>\n      <td>Naji Marshall, James Nunnally, Nickeil Alexand...</td>\n      <td>0.000000</td>\n      <td>0</td>\n      <td>2</td>\n      <td>1</td>\n    </tr>\n  </tbody>\n</table>\n<p>17123 rows × 6 columns</p>\n</div>"
     },
     "metadata": {}
    }
   ]
  },
  {
   "cell_type": "code",
   "metadata": {
    "cell_id": "6c4f5449-a73c-4eaf-b2a6-68feb6f18b03",
    "tags": [],
    "deepnote_to_be_reexecuted": false,
    "source_hash": "c517b757",
    "execution_start": 1646969296111,
    "execution_millis": 5490,
    "deepnote_cell_type": "code",
    "deepnote_cell_height": 618
   },
   "source": "df = ortg.merge(play_by_play, on='FloorLineupId_Offense', how='left').drop_duplicates(subset=\"FloorLineupId_Offense\")\ndf",
   "execution_count": null,
   "outputs": [
    {
     "output_type": "execute_result",
     "execution_count": 20,
     "data": {
      "application/vnd.deepnote.dataframe.v3+json": {
       "column_count": 51,
       "row_count": 17123,
       "columns": [
        {
         "name": "FloorLineupId_Offense",
         "dtype": "int64",
         "stats": {
          "unique_count": 17123,
          "nan_count": 0,
          "min": "120",
          "max": "375044",
          "histogram": [
           {
            "bin_start": 120,
            "bin_end": 37612.4,
            "count": 103
           },
           {
            "bin_start": 37612.4,
            "bin_end": 75104.8,
            "count": 0
           },
           {
            "bin_start": 75104.8,
            "bin_end": 112597.20000000001,
            "count": 284
           },
           {
            "bin_start": 112597.20000000001,
            "bin_end": 150089.6,
            "count": 264
           },
           {
            "bin_start": 150089.6,
            "bin_end": 187582,
            "count": 0
           },
           {
            "bin_start": 187582,
            "bin_end": 225074.40000000002,
            "count": 0
           },
           {
            "bin_start": 225074.40000000002,
            "bin_end": 262566.8,
            "count": 0
           },
           {
            "bin_start": 262566.8,
            "bin_end": 300059.2,
            "count": 0
           },
           {
            "bin_start": 300059.2,
            "bin_end": 337551.60000000003,
            "count": 115
           },
           {
            "bin_start": 337551.60000000003,
            "bin_end": 375044,
            "count": 16357
           }
          ]
         }
        },
        {
         "name": "Players_x",
         "dtype": "object",
         "stats": {
          "unique_count": 17123,
          "nan_count": 0,
          "categories": [
           {
            "name": "Dejounte Murray, Patty Mills, DeMar DeRozan, LaMarcus Aldridge, Jakob Poeltl",
            "count": 1
           },
           {
            "name": "Jamal Murray, Gary Harris, Will Barton, Paul Millsap, Nikola Jokic",
            "count": 1
           },
           {
            "name": "17121 others",
            "count": 17121
           }
          ]
         }
        },
        {
         "name": "ORTG",
         "dtype": "float64",
         "stats": {
          "unique_count": 1070,
          "nan_count": 2837,
          "min": "0.0",
          "max": "inf",
          "histogram": [
           {
            "bin_start": 0,
            "bin_end": 40,
            "count": 2003
           },
           {
            "bin_start": 40,
            "bin_end": 80,
            "count": 2244
           },
           {
            "bin_start": 80,
            "bin_end": 120,
            "count": 5072
           },
           {
            "bin_start": 120,
            "bin_end": 160,
            "count": 3151
           },
           {
            "bin_start": 160,
            "bin_end": 200,
            "count": 783
           },
           {
            "bin_start": 200,
            "bin_end": 240,
            "count": 770
           },
           {
            "bin_start": 240,
            "bin_end": 280,
            "count": 107
           },
           {
            "bin_start": 280,
            "bin_end": 320,
            "count": 152
           },
           {
            "bin_start": 320,
            "bin_end": 360,
            "count": 0
           },
           {
            "bin_start": 360,
            "bin_end": 400,
            "count": 2
           }
          ]
         }
        },
        {
         "name": "Points_x",
         "dtype": "int64",
         "stats": {
          "unique_count": 279,
          "nan_count": 0,
          "min": "0",
          "max": "1711",
          "histogram": [
           {
            "bin_start": 0,
            "bin_end": 171.1,
            "count": 16983
           },
           {
            "bin_start": 171.1,
            "bin_end": 342.2,
            "count": 94
           },
           {
            "bin_start": 342.2,
            "bin_end": 513.3,
            "count": 19
           },
           {
            "bin_start": 513.3,
            "bin_end": 684.4,
            "count": 11
           },
           {
            "bin_start": 684.4,
            "bin_end": 855.5,
            "count": 6
           },
           {
            "bin_start": 855.5,
            "bin_end": 1026.6,
            "count": 1
           },
           {
            "bin_start": 1026.6,
            "bin_end": 1197.7,
            "count": 3
           },
           {
            "bin_start": 1197.7,
            "bin_end": 1368.8,
            "count": 2
           },
           {
            "bin_start": 1368.8,
            "bin_end": 1539.8999999999999,
            "count": 2
           },
           {
            "bin_start": 1539.8999999999999,
            "bin_end": 1711,
            "count": 2
           }
          ]
         }
        },
        {
         "name": "Possession_x",
         "dtype": "int64",
         "stats": {
          "unique_count": 261,
          "nan_count": 0,
          "min": "0",
          "max": "1476",
          "histogram": [
           {
            "bin_start": 0,
            "bin_end": 147.6,
            "count": 16968
           },
           {
            "bin_start": 147.6,
            "bin_end": 295.2,
            "count": 106
           },
           {
            "bin_start": 295.2,
            "bin_end": 442.79999999999995,
            "count": 23
           },
           {
            "bin_start": 442.79999999999995,
            "bin_end": 590.4,
            "count": 11
           },
           {
            "bin_start": 590.4,
            "bin_end": 738,
            "count": 4
           },
           {
            "bin_start": 738,
            "bin_end": 885.5999999999999,
            "count": 3
           },
           {
            "bin_start": 885.5999999999999,
            "bin_end": 1033.2,
            "count": 2
           },
           {
            "bin_start": 1033.2,
            "bin_end": 1180.8,
            "count": 2
           },
           {
            "bin_start": 1180.8,
            "bin_end": 1328.3999999999999,
            "count": 2
           },
           {
            "bin_start": 1328.3999999999999,
            "bin_end": 1476,
            "count": 2
           }
          ]
         }
        },
        {
         "name": "GP",
         "dtype": "int64"
        },
        {
         "name": "GameId",
         "dtype": "int64"
        },
        {
         "name": "GameDate_Only",
         "dtype": "object"
        },
        {
         "name": "SeasonYear",
         "dtype": "int64"
        },
        {
         "name": "PlayByPlayId",
         "dtype": "int64"
        },
        {
         "name": "EventNumber",
         "dtype": "int64"
        },
        {
         "name": "Period",
         "dtype": "int64"
        },
        {
         "name": "GameClock_Minutes",
         "dtype": "int64"
        },
        {
         "name": "GameClock_Seconds",
         "dtype": "int64"
        },
        {
         "name": "GameClock",
         "dtype": "object"
        },
        {
         "name": "Description",
         "dtype": "object"
        },
        {
         "name": "EventTypeId",
         "dtype": "int64"
        },
        {
         "name": "EventType",
         "dtype": "object"
        },
        {
         "name": "ActionTypeIndex",
         "dtype": "int64"
        },
        {
         "name": "ActionTypeName",
         "dtype": "object"
        },
        {
         "name": "Points_y",
         "dtype": "int64"
        },
        {
         "name": "PlayLength_Seconds",
         "dtype": "int64"
        },
        {
         "name": "TeamScore_Offense",
         "dtype": "int64"
        },
        {
         "name": "TeamId_Offense",
         "dtype": "int64"
        },
        {
         "name": "TeamName_Offense",
         "dtype": "object"
        },
        {
         "name": "PlayerId1_Offense",
         "dtype": "int64"
        },
        {
         "name": "PlayerName1_Offense",
         "dtype": "object"
        },
        {
         "name": "PlayerId2_Offense",
         "dtype": "int64"
        },
        {
         "name": "PlayerName2_Offense",
         "dtype": "object"
        },
        {
         "name": "PlayerId3_Offense",
         "dtype": "int64"
        },
        {
         "name": "PlayerName3_Offense",
         "dtype": "object"
        },
        {
         "name": "PlayerId4_Offense",
         "dtype": "int64"
        },
        {
         "name": "PlayerName4_Offense",
         "dtype": "object"
        },
        {
         "name": "PlayerId5_Offense",
         "dtype": "int64"
        },
        {
         "name": "PlayerName5_Offense",
         "dtype": "object"
        },
        {
         "name": "TeamScore_Defense",
         "dtype": "int64"
        },
        {
         "name": "TeamId_Defense",
         "dtype": "int64"
        },
        {
         "name": "TeamName_Defense",
         "dtype": "object"
        },
        {
         "name": "FloorLineupId_Defense",
         "dtype": "int64"
        },
        {
         "name": "PlayerId1_Defense",
         "dtype": "int64"
        },
        {
         "name": "PlayerName1_Defense",
         "dtype": "object"
        },
        {
         "name": "PlayerId2_Defense",
         "dtype": "int64"
        },
        {
         "name": "PlayerName2_Defense",
         "dtype": "object"
        },
        {
         "name": "PlayerId3_Defense",
         "dtype": "int64"
        },
        {
         "name": "PlayerName3_Defense",
         "dtype": "object"
        },
        {
         "name": "PlayerId4_Defense",
         "dtype": "int64"
        },
        {
         "name": "PlayerName4_Defense",
         "dtype": "object"
        },
        {
         "name": "PlayerId5_Defense",
         "dtype": "int64"
        },
        {
         "name": "PlayerName5_Defense",
         "dtype": "object"
        },
        {
         "name": "Players_y",
         "dtype": "object"
        },
        {
         "name": "Possession_y",
         "dtype": "int64"
        },
        {
         "name": "_deepnote_index_column",
         "dtype": "int64"
        }
       ],
       "rows": [
        {
         "FloorLineupId_Offense": 952,
         "Players_x": "Kevin Knox II, Frank Ntilikina, Julius Randle, Mitchell Robinson, R.J. Barrett",
         "ORTG": 100,
         "Points_x": 5,
         "Possession_x": 5,
         "GP": 1,
         "GameId": 417054,
         "GameDate_Only": "2020-12-27",
         "SeasonYear": 2020,
         "PlayByPlayId": 13375775,
         "EventNumber": 532,
         "Period": 3,
         "GameClock_Minutes": 0,
         "GameClock_Seconds": 5,
         "GameClock": "0:05",
         "Description": "[NYK 95-75] Randle Pullup Jump shot: Made (21 PTS)",
         "EventTypeId": 1,
         "EventType": "Made Shot",
         "ActionTypeIndex": 79,
         "ActionTypeName": "Pullup Jump shot",
         "Points_y": 2,
         "PlayLength_Seconds": 17,
         "TeamScore_Offense": 95,
         "TeamId_Offense": 50,
         "TeamName_Offense": "New York Knicks",
         "PlayerId1_Offense": 1610,
         "PlayerName1_Offense": "Kevin Knox II",
         "PlayerId2_Offense": 1553,
         "PlayerName2_Offense": "Frank Ntilikina",
         "PlayerId3_Offense": 1362,
         "PlayerName3_Offense": "Julius Randle",
         "PlayerId4_Offense": 1609,
         "PlayerName4_Offense": "Mitchell Robinson",
         "PlayerId5_Offense": 1840,
         "PlayerName5_Offense": "R.J. Barrett",
         "TeamScore_Defense": 75,
         "TeamId_Defense": 38,
         "TeamName_Defense": "Milwaukee Bucks",
         "FloorLineupId_Defense": 351748,
         "PlayerId1_Defense": 1132,
         "PlayerName1_Defense": "Torrey Craig",
         "PlayerId2_Defense": 664,
         "PlayerName2_Defense": "D.J. Augustin Jr.",
         "PlayerId3_Defense": 1168,
         "PlayerName3_Defense": "Pat Connaughton",
         "PlayerId4_Defense": 1313,
         "PlayerName4_Defense": "D.J. Wilson",
         "PlayerId5_Defense": 1456,
         "PlayerName5_Defense": "Giannis Antetokounmpo",
         "Players_y": "Kevin Knox II, Frank Ntilikina, Julius Randle, Mitchell Robinson, R.J. Barrett",
         "Possession_y": 1,
         "_deepnote_index_column": 4527
        },
        {
         "FloorLineupId_Offense": 1019,
         "Players_x": "Otto Porter Jr., Thaddeus Young, Tomas Satoransky, Zach LaVine, Lauri Markkanen",
         "ORTG": 115.78947368421052,
         "Points_x": 22,
         "Possession_x": 19,
         "GP": 3,
         "GameId": 422243,
         "GameDate_Only": "2021-03-14",
         "SeasonYear": 2020,
         "PlayByPlayId": 13695531,
         "EventNumber": 285,
         "Period": 2,
         "GameClock_Minutes": 4,
         "GameClock_Seconds": 7,
         "GameClock": "4:07",
         "Description": "[CHI] Williams Substitution replaced by Porter Jr.",
         "EventTypeId": 8,
         "EventType": "Substitution",
         "ActionTypeIndex": 0,
         "ActionTypeName": "Substitution",
         "Points_y": 0,
         "PlayLength_Seconds": 0,
         "TeamScore_Offense": 45,
         "TeamId_Offense": 14,
         "TeamName_Offense": "Chicago Bulls",
         "PlayerId1_Offense": 1167,
         "PlayerName1_Offense": "Otto Porter Jr.",
         "PlayerId2_Offense": 601,
         "PlayerName2_Offense": "Thaddeus Young",
         "PlayerId3_Offense": 1229,
         "PlayerName3_Offense": "Tomas Satoransky",
         "PlayerId4_Offense": 1324,
         "PlayerName4_Offense": "Zach LaVine",
         "PlayerId5_Offense": 1632,
         "PlayerName5_Offense": "Lauri Markkanen",
         "TeamScore_Defense": 39,
         "TeamId_Defense": 76,
         "TeamName_Defense": "Toronto Raptors",
         "FloorLineupId_Defense": 364730,
         "PlayerId1_Defense": 463,
         "PlayerName1_Defense": "Kyle Lowry",
         "PlayerId2_Defense": 1406,
         "PlayerName2_Defense": "Henry Ellenson",
         "PlayerId3_Defense": 1472,
         "PlayerName3_Defense": "Yuta Watanabe",
         "PlayerId4_Defense": 1612,
         "PlayerName4_Defense": "Chris Boucher",
         "PlayerId5_Defense": 1200,
         "PlayerName5_Defense": "Norman Powell",
         "Players_y": "Otto Porter Jr., Thaddeus Young, Tomas Satoransky, Zach LaVine, Lauri Markkanen",
         "Possession_y": 0,
         "_deepnote_index_column": 4539
        },
        {
         "FloorLineupId_Offense": 1023,
         "Players_x": "Denzel Valentine, Thaddeus Young, Tomas Satoransky, Coby White, Daniel Gafford",
         "ORTG": 0,
         "Points_x": 0,
         "Possession_x": 6,
         "GP": 1,
         "GameId": 417566,
         "GameDate_Only": "2021-03-03",
         "SeasonYear": 2020,
         "PlayByPlayId": 13660770,
         "EventNumber": 152,
         "Period": 1,
         "GameClock_Minutes": 2,
         "GameClock_Seconds": 18,
         "GameClock": "2:18",
         "Description": "[CHI] White Turnover : Bad Pass (1 TO) Steal:Ball (2 ST)",
         "EventTypeId": 5,
         "EventType": "Turnover",
         "ActionTypeIndex": 1,
         "ActionTypeName": "Bad Pass",
         "Points_y": 0,
         "PlayLength_Seconds": 12,
         "TeamScore_Offense": 26,
         "TeamId_Offense": 14,
         "TeamName_Offense": "Chicago Bulls",
         "PlayerId1_Offense": 1421,
         "PlayerName1_Offense": "Denzel Valentine",
         "PlayerId2_Offense": 601,
         "PlayerName2_Offense": "Thaddeus Young",
         "PlayerId3_Offense": 1229,
         "PlayerName3_Offense": "Tomas Satoransky",
         "PlayerId4_Offense": 2550,
         "PlayerName4_Offense": "Coby White",
         "PlayerId5_Offense": 2955,
         "PlayerName5_Offense": "Daniel Gafford",
         "TeamScore_Defense": 18,
         "TeamId_Defense": 49,
         "TeamName_Defense": "New Orleans Pelicans",
         "FloorLineupId_Defense": 357074,
         "PlayerId1_Defense": 468,
         "PlayerName1_Defense": "J.J. Redick",
         "PlayerId2_Defense": 1378,
         "PlayerName2_Defense": "Josh Hart",
         "PlayerId3_Defense": 1458,
         "PlayerName3_Defense": "Willy Hernangomez",
         "PlayerId4_Defense": 2267,
         "PlayerName4_Defense": "Zion Williamson",
         "PlayerId5_Defense": 1476,
         "PlayerName5_Defense": "Lonzo Ball",
         "Players_y": "Denzel Valentine, Thaddeus Young, Tomas Satoransky, Coby White, Daniel Gafford",
         "Possession_y": 1,
         "_deepnote_index_column": 4580
        },
        {
         "FloorLineupId_Offense": 1050,
         "Players_x": "Thaddeus Young, Lauri Markkanen, Tomas Satoransky, Denzel Valentine, Ryan Arcidiacono",
         "ORTG": 120,
         "Points_x": 42,
         "Possession_x": 35,
         "GP": 4,
         "GameId": 422314,
         "GameDate_Only": "2021-03-24",
         "SeasonYear": 2020,
         "PlayByPlayId": 13730922,
         "EventNumber": 217,
         "Period": 2,
         "GameClock_Minutes": 7,
         "GameClock_Seconds": 55,
         "GameClock": "7:55",
         "Description": "[CHI 35-36] Young Layup Shot: Made (4 PTS) Assist: Satoransky (1 AST)",
         "EventTypeId": 1,
         "EventType": "Made Shot",
         "ActionTypeIndex": 5,
         "ActionTypeName": "Layup Shot",
         "Points_y": 2,
         "PlayLength_Seconds": 18,
         "TeamScore_Offense": 35,
         "TeamId_Offense": 14,
         "TeamName_Offense": "Chicago Bulls",
         "PlayerId1_Offense": 601,
         "PlayerName1_Offense": "Thaddeus Young",
         "PlayerId2_Offense": 1632,
         "PlayerName2_Offense": "Lauri Markkanen",
         "PlayerId3_Offense": 1229,
         "PlayerName3_Offense": "Tomas Satoransky",
         "PlayerId4_Offense": 1421,
         "PlayerName4_Offense": "Denzel Valentine",
         "PlayerId5_Offense": 1392,
         "PlayerName5_Offense": "Ryan Arcidiacono",
         "TeamScore_Defense": 36,
         "TeamId_Defense": 19,
         "TeamName_Defense": "Cleveland Cavaliers",
         "FloorLineupId_Defense": 365806,
         "PlayerId1_Defense": 1156,
         "PlayerName1_Defense": "Quinn Cook",
         "PlayerId2_Defense": 1437,
         "PlayerName2_Defense": "Damyean Dotson",
         "PlayerId3_Defense": 7811,
         "PlayerName3_Defense": "Lamar Stevens",
         "PlayerId4_Defense": 1957,
         "PlayerName4_Defense": "Dylan Windler",
         "PlayerId5_Defense": 4652,
         "PlayerName5_Defense": "Dean Wade",
         "Players_y": "Thaddeus Young, Lauri Markkanen, Tomas Satoransky, Denzel Valentine, Ryan Arcidiacono",
         "Possession_y": 1,
         "_deepnote_index_column": 4590
        },
        {
         "FloorLineupId_Offense": 1097,
         "Players_x": "Stanley Johnson, Fred VanVleet, Terence Davis, Pascal Siakam, Chris Boucher",
         "ORTG": 200,
         "Points_x": 4,
         "Possession_x": 2,
         "GP": 2,
         "GameId": 417238,
         "GameDate_Only": "2021-01-20",
         "SeasonYear": 2020,
         "PlayByPlayId": 13456106,
         "EventNumber": 294,
         "Period": 2,
         "GameClock_Minutes": 0,
         "GameClock_Seconds": 50,
         "GameClock": "0:50",
         "Description": "[TOR 56-54] Siakam Turnaround Hook Shot: Made (8 PTS)",
         "EventTypeId": 1,
         "EventType": "Made Shot",
         "ActionTypeIndex": 58,
         "ActionTypeName": "Turnaround Hook Shot",
         "Points_y": 2,
         "PlayLength_Seconds": 23,
         "TeamScore_Offense": 56,
         "TeamId_Offense": 76,
         "TeamName_Offense": "Toronto Raptors",
         "PlayerId1_Offense": 1316,
         "PlayerName1_Offense": "Stanley Johnson",
         "PlayerId2_Offense": 1434,
         "PlayerName2_Offense": "Fred VanVleet",
         "PlayerId3_Offense": 4084,
         "PlayerName3_Offense": "Terence Davis",
         "PlayerId4_Offense": 1589,
         "PlayerName4_Offense": "Pascal Siakam",
         "PlayerId5_Offense": 1612,
         "PlayerName5_Offense": "Chris Boucher",
         "TeamScore_Defense": 54,
         "TeamId_Defense": 37,
         "TeamName_Defense": "Miami Heat",
         "FloorLineupId_Defense": 355065,
         "PlayerId1_Defense": 1546,
         "PlayerName1_Defense": "Gabe Vincent",
         "PlayerId2_Defense": 681,
         "PlayerName2_Defense": "Goran Dragic",
         "PlayerId3_Defense": 1573,
         "PlayerName3_Defense": "Duncan Robinson",
         "PlayerId4_Defense": 1058,
         "PlayerName4_Defense": "Kelly Olynyk",
         "PlayerId5_Defense": 1561,
         "PlayerName5_Defense": "Bam Adebayo",
         "Players_y": "Stanley Johnson, Fred VanVleet, Terence Davis, Pascal Siakam, Chris Boucher",
         "Possession_y": 1,
         "_deepnote_index_column": 4660
        },
        {
         "FloorLineupId_Offense": 1178,
         "Players_x": "LaMarcus Aldridge, Patty Mills, DeMar DeRozan, Rudy Gay, Dejounte Murray",
         "ORTG": 133.33333333333334,
         "Points_x": 32,
         "Possession_x": 24,
         "GP": 3,
         "GameId": 417045,
         "GameDate_Only": "2020-12-26",
         "SeasonYear": 2020,
         "PlayByPlayId": 13371123,
         "EventNumber": 409,
         "Period": 3,
         "GameClock_Minutes": 8,
         "GameClock_Seconds": 27,
         "GameClock": "8:27",
         "Description": "[SAS] DeRozan Turnover : Bad Pass (2 TO) Steal:Lowry (2 ST)",
         "EventTypeId": 5,
         "EventType": "Turnover",
         "ActionTypeIndex": 1,
         "ActionTypeName": "Bad Pass",
         "Points_y": 0,
         "PlayLength_Seconds": 16,
         "TeamScore_Offense": 66,
         "TeamId_Offense": 62,
         "TeamName_Offense": "San Antonio Spurs",
         "PlayerId1_Offense": 447,
         "PlayerName1_Offense": "LaMarcus Aldridge",
         "PlayerId2_Offense": 608,
         "PlayerName2_Offense": "Patty Mills",
         "PlayerId3_Offense": 637,
         "PlayerName3_Offense": "DeMar DeRozan",
         "PlayerId4_Offense": 458,
         "PlayerName4_Offense": "Rudy Gay",
         "PlayerId5_Offense": 1540,
         "PlayerName5_Offense": "Dejounte Murray",
         "TeamScore_Defense": 70,
         "TeamId_Defense": 76,
         "TeamName_Defense": "Toronto Raptors",
         "FloorLineupId_Defense": 350451,
         "PlayerId1_Defense": 463,
         "PlayerName1_Defense": "Kyle Lowry",
         "PlayerId2_Defense": 1434,
         "PlayerName2_Defense": "Fred VanVleet",
         "PlayerId3_Defense": 1636,
         "PlayerName3_Defense": "O.G. Anunoby",
         "PlayerId4_Defense": 1589,
         "PlayerName4_Defense": "Pascal Siakam",
         "PlayerId5_Defense": 909,
         "PlayerName5_Defense": "Aron Baynes",
         "Players_y": "LaMarcus Aldridge, Patty Mills, DeMar DeRozan, Rudy Gay, Dejounte Murray",
         "Possession_y": 1,
         "_deepnote_index_column": 4663
        },
        {
         "FloorLineupId_Offense": 1203,
         "Players_x": "Kyle Anderson, Dillon Brooks, Jaren Jackson Jr., Tyus Jones, Brandon Clarke",
         "ORTG": "nan",
         "Points_x": 0,
         "Possession_x": 0,
         "GP": 1,
         "GameId": 422532,
         "GameDate_Only": "2021-04-21",
         "SeasonYear": 2020,
         "PlayByPlayId": 13840142,
         "EventNumber": 207,
         "Period": 2,
         "GameClock_Minutes": 7,
         "GameClock_Seconds": 51,
         "GameClock": "7:51",
         "Description": "[MEM] Winslow Substitution replaced by Anderson",
         "EventTypeId": 8,
         "EventType": "Substitution",
         "ActionTypeIndex": 0,
         "ActionTypeName": "Substitution",
         "Points_y": 0,
         "PlayLength_Seconds": 0,
         "TeamScore_Offense": 45,
         "TeamId_Offense": 36,
         "TeamName_Offense": "Memphis Grizzlies",
         "PlayerId1_Offense": 1276,
         "PlayerName1_Offense": "Kyle Anderson",
         "PlayerId2_Offense": 1482,
         "PlayerName2_Offense": "Dillon Brooks",
         "PlayerId3_Offense": 1650,
         "PlayerName3_Offense": "Jaren Jackson Jr.",
         "PlayerId4_Offense": 1366,
         "PlayerName4_Offense": "Tyus Jones",
         "PlayerId5_Offense": 2740,
         "PlayerName5_Offense": "Brandon Clarke",
         "TeamScore_Defense": 34,
         "TeamId_Defense": 34,
         "TeamName_Defense": "Los Angeles Clippers",
         "FloorLineupId_Defense": 370278,
         "PlayerId1_Defense": 554,
         "PlayerName1_Defense": "Patrick Patterson",
         "PlayerId2_Defense": 605,
         "PlayerName2_Defense": "Nicolas Batum",
         "PlayerId3_Defense": 1614,
         "PlayerName3_Defense": "Ivica Zubac",
         "PlayerId4_Defense": 2292,
         "PlayerName4_Defense": "Terance Mann",
         "PlayerId5_Defense": 1504,
         "PlayerName5_Defense": "Luke Kennard",
         "Players_y": "Kyle Anderson, Dillon Brooks, Jaren Jackson Jr., Tyus Jones, Brandon Clarke",
         "Possession_y": 0,
         "_deepnote_index_column": 4719
        },
        {
         "FloorLineupId_Offense": 1297,
         "Players_x": "Jevon Carter, Dario Saric, Devin Booker, Deandre Ayton, Cameron Johnson",
         "ORTG": 0,
         "Points_x": 0,
         "Possession_x": 2,
         "GP": 1,
         "GameId": 417170,
         "GameDate_Only": "2021-01-11",
         "SeasonYear": 2020,
         "PlayByPlayId": 13429247,
         "EventNumber": 91,
         "Period": 1,
         "GameClock_Minutes": 3,
         "GameClock_Seconds": 42,
         "GameClock": "3:42",
         "Description": "[PHX] Johnson 3pt Shot: Missed",
         "EventTypeId": 2,
         "EventType": "Missed Shot",
         "ActionTypeIndex": 1,
         "ActionTypeName": "Jump Shot",
         "Points_y": 0,
         "PlayLength_Seconds": 11,
         "TeamScore_Offense": 10,
         "TeamId_Offense": 56,
         "TeamName_Offense": "Phoenix Suns",
         "PlayerId1_Offense": 1576,
         "PlayerName1_Offense": "Jevon Carter",
         "PlayerId2_Offense": 1253,
         "PlayerName2_Offense": "Dario Saric",
         "PlayerId3_Offense": 1376,
         "PlayerName3_Offense": "Devin Booker",
         "PlayerId4_Offense": 1488,
         "PlayerName4_Offense": "Deandre Ayton",
         "PlayerId5_Offense": 2651,
         "PlayerName5_Offense": "Cameron Johnson",
         "TeamScore_Defense": 16,
         "TeamId_Defense": 84,
         "TeamName_Defense": "Washington Wizards",
         "FloorLineupId_Defense": 354059,
         "PlayerId1_Defense": 1564,
         "PlayerName1_Defense": "Moe Wagner",
         "PlayerId2_Defense": 1203,
         "PlayerName2_Defense": "Brad Beal",
         "PlayerId3_Defense": 916,
         "PlayerName3_Defense": "Ish Smith",
         "PlayerId4_Defense": 2345,
         "PlayerName4_Defense": "Rui Hachimura",
         "PlayerId5_Defense": 93389,
         "PlayerName5_Defense": "Deni Avdija",
         "Players_y": "Jevon Carter, Dario Saric, Devin Booker, Deandre Ayton, Cameron Johnson",
         "Possession_y": 0,
         "_deepnote_index_column": 4720
        },
        {
         "FloorLineupId_Offense": 1372,
         "Players_x": "Dorian Finney-Smith, Boban Marjanovic, Tim Hardaway, Jalen Brunson, Luka Doncic",
         "ORTG": 152.6315789473684,
         "Points_x": 29,
         "Possession_x": 19,
         "GP": 3,
         "GameId": 417138,
         "GameDate_Only": "2021-01-07",
         "SeasonYear": 2020,
         "PlayByPlayId": 13415907,
         "EventNumber": 101,
         "Period": 1,
         "GameClock_Minutes": 3,
         "GameClock_Seconds": 41,
         "GameClock": "3:41",
         "Description": "[DAL 14-14] Doncic 3pt Shot: Made (5 PTS)",
         "EventTypeId": 1,
         "EventType": "Made Shot",
         "ActionTypeIndex": 80,
         "ActionTypeName": "Step Back Jump shot",
         "Points_y": 3,
         "PlayLength_Seconds": 8,
         "TeamScore_Offense": 14,
         "TeamId_Offense": 21,
         "TeamName_Offense": "Dallas Mavericks",
         "PlayerId1_Offense": 1165,
         "PlayerName1_Offense": "Dorian Finney-Smith",
         "PlayerId2_Offense": 1261,
         "PlayerName2_Offense": "Boban Marjanovic",
         "PlayerId3_Offense": 1089,
         "PlayerName3_Offense": "Tim Hardaway",
         "PlayerId4_Offense": 1490,
         "PlayerName4_Offense": "Jalen Brunson",
         "PlayerId5_Offense": 1592,
         "PlayerName5_Offense": "Luka Doncic",
         "TeamScore_Defense": 14,
         "TeamId_Defense": 22,
         "TeamName_Defense": "Denver Nuggets",
         "FloorLineupId_Defense": 349471,
         "PlayerId1_Defense": 977,
         "PlayerName1_Defense": "JaMychal Green",
         "PlayerId2_Defense": 1278,
         "PlayerName2_Defense": "Gary Harris",
         "PlayerId3_Defense": 1305,
         "PlayerName3_Defense": "Monte Morris",
         "PlayerId4_Defense": 1470,
         "PlayerName4_Defense": "Nikola Jokic",
         "PlayerId5_Defense": 1500,
         "PlayerName5_Defense": "P.J. Dozier",
         "Players_y": "Dorian Finney-Smith, Boban Marjanovic, Tim Hardaway, Jalen Brunson, Luka Doncic",
         "Possession_y": 1,
         "_deepnote_index_column": 4731
        },
        {
         "FloorLineupId_Offense": 1507,
         "Players_x": "Otto Porter Jr., Coby White, Lauri Markkanen, Zach LaVine, Tomas Satoransky",
         "ORTG": 133.33333333333334,
         "Points_x": 4,
         "Possession_x": 3,
         "GP": 3,
         "GameId": 417316,
         "GameDate_Only": "2021-01-30",
         "SeasonYear": 2020,
         "PlayByPlayId": 13493376,
         "EventNumber": 499,
         "Period": 4,
         "GameClock_Minutes": 7,
         "GameClock_Seconds": 29,
         "GameClock": "7:29",
         "Description": "[CHI 105-101] LaVine Step Back Jump shot: Made (21 PTS)",
         "EventTypeId": 1,
         "EventType": "Made Shot",
         "ActionTypeIndex": 80,
         "ActionTypeName": "Step Back Jump shot",
         "Points_y": 2,
         "PlayLength_Seconds": 10,
         "TeamScore_Offense": 105,
         "TeamId_Offense": 14,
         "TeamName_Offense": "Chicago Bulls",
         "PlayerId1_Offense": 1167,
         "PlayerName1_Offense": "Otto Porter Jr.",
         "PlayerId2_Offense": 2550,
         "PlayerName2_Offense": "Coby White",
         "PlayerId3_Offense": 1632,
         "PlayerName3_Offense": "Lauri Markkanen",
         "PlayerId4_Offense": 1324,
         "PlayerName4_Offense": "Zach LaVine",
         "PlayerId5_Offense": 1229,
         "PlayerName5_Offense": "Tomas Satoransky",
         "TeamScore_Defense": 101,
         "TeamId_Defense": 58,
         "TeamName_Defense": "Portland Trail Blazers",
         "FloorLineupId_Defense": 352972,
         "PlayerId1_Defense": 988,
         "PlayerName1_Defense": "Damian Lillard",
         "PlayerId2_Defense": 1649,
         "PlayerName2_Defense": "Anfernee Simons",
         "PlayerId3_Defense": 1068,
         "PlayerName3_Defense": "Robert Covington",
         "PlayerId4_Defense": 1263,
         "PlayerName4_Defense": "Enes Freedom",
         "PlayerId5_Defense": 1616,
         "PlayerName5_Defense": "Gary Trent Jr.",
         "Players_y": "Otto Porter Jr., Coby White, Lauri Markkanen, Zach LaVine, Tomas Satoransky",
         "Possession_y": 1,
         "_deepnote_index_column": 4767
        }
       ]
      },
      "text/plain": "        FloorLineupId_Offense  \\\n0                         120   \n4                         227   \n1087                      240   \n1103                      251   \n1142                      259   \n...                       ...   \n509578                 375040   \n509579                 375041   \n509592                 375042   \n509593                 375043   \n509603                 375044   \n\n                                                Players_x        ORTG  \\\n0       Dejounte Murray, Patty Mills, DeMar DeRozan, L...  100.000000   \n4       Jamal Murray, Gary Harris, Will Barton, Paul M...  123.246493   \n1087    Doug McDermott, Justin Holiday, Edmond Sumner,...  111.111111   \n1103    Caleb Martin, Miles Bridges, Terry Rozier, Dev...   85.714286   \n1142    Donovan Mitchell Jr., Mike Conley Jr., Royce O...  114.297319   \n...                                                   ...         ...   \n509578  James Nunnally, James Johnson, Nickeil Alexand...         NaN   \n509579  Talen Horton-Tucker, Marc Gasol, Jared Dudley,...   40.000000   \n509592  Talen Horton-Tucker, Marc Gasol, Jared Dudley,...         NaN   \n509593  Talen Horton-Tucker, Marc Gasol, Jared Dudley,...   75.000000   \n509603  Naji Marshall, James Nunnally, Nickeil Alexand...    0.000000   \n\n        Points_x  Possession_x  GP  GameId GameDate_Only  SeasonYear  \\\n0              2             2   1  417532    2021-02-27        2020   \n4            615           499  16  417032    2020-12-23        2020   \n1087          10             9   6  417235    2021-01-20        2020   \n1103          12            14   2  422400    2021-04-04        2020   \n1142        1407          1231  41  417033    2020-12-23        2020   \n...          ...           ...  ..     ...           ...         ...   \n509578         0             0   1  422715    2021-05-16        2020   \n509579         2             5   1  422715    2021-05-16        2020   \n509592         0             0   1  422715    2021-05-16        2020   \n509593         3             4   1  422715    2021-05-16        2020   \n509603         0             2   1  422715    2021-05-16        2020   \n\n        PlayByPlayId  ...  PlayerId2_Defense  PlayerName2_Defense  \\\n0           13638893  ...               1476           Lonzo Ball   \n4           13362386  ...               1106      Harrison Barnes   \n1087        13455674  ...               1391  Willie Cauley-Stein   \n1103        13772586  ...               1556         Jayson Tatum   \n1142        13363565  ...                988       Damian Lillard   \n...              ...  ...                ...                  ...   \n509578      13953418  ...                  1         LeBron James   \n509579      13953468  ...              29642       Kira Lewis Jr.   \n509592      13953492  ...              29642       Kira Lewis Jr.   \n509593      13953493  ...              29642       Kira Lewis Jr.   \n509603      13953501  ...                645           Marc Gasol   \n\n        PlayerId3_Defense  PlayerName3_Defense PlayerId4_Defense  \\\n0                    1499       Brandon Ingram              2267   \n4                    1424          Buddy Hield              1431   \n1087                 1178           Trey Burke              1592   \n1103                 1498         Jaylen Brown              1630   \n1142                 1068     Robert Covington              1497   \n...                   ...                  ...               ...   \n509578                645           Marc Gasol              1259   \n509579               1458    Willy Hernangomez              4108   \n509592               1458    Willy Hernangomez              4108   \n509593               1458    Willy Hernangomez              4108   \n509603                602         Jared Dudley              1136   \n\n             PlayerName4_Defense  PlayerId5_Defense PlayerName5_Defense  \\\n0                Zion Williamson               1231        Steven Adams   \n4                 Richaun Holmes               1550        De'Aaron Fox   \n1087                 Luka Doncic              28210          Josh Green   \n1103             Robert Williams               1288        Marcus Smart   \n1142           Derrick Jones Jr.               1450        Jusuf Nurkic   \n...                          ...                ...                 ...   \n509578           Dennis Schroder               1426         Alex Caruso   \n509579  Nickeil Alexander-Walker              24150       Naji Marshall   \n509592  Nickeil Alexander-Walker              24150       Naji Marshall   \n509593  Nickeil Alexander-Walker              24150       Naji Marshall   \n509603          Alfonzo McKinnie               1184        Ben McLemore   \n\n                                                Players_y Possession_y  \n0       Dejounte Murray, Patty Mills, DeMar DeRozan, L...            0  \n4       Jamal Murray, Gary Harris, Will Barton, Paul M...            0  \n1087    Doug McDermott, Justin Holiday, Edmond Sumner,...            0  \n1103    Caleb Martin, Miles Bridges, Terry Rozier, Dev...            0  \n1142    Donovan Mitchell Jr., Mike Conley Jr., Royce O...            0  \n...                                                   ...          ...  \n509578  James Nunnally, James Johnson, Nickeil Alexand...            0  \n509579  Talen Horton-Tucker, Marc Gasol, Jared Dudley,...            0  \n509592  Talen Horton-Tucker, Marc Gasol, Jared Dudley,...            0  \n509593  Talen Horton-Tucker, Marc Gasol, Jared Dudley,...            0  \n509603  Naji Marshall, James Nunnally, Nickeil Alexand...            1  \n\n[17123 rows x 51 columns]",
      "text/html": "<div>\n<style scoped>\n    .dataframe tbody tr th:only-of-type {\n        vertical-align: middle;\n    }\n\n    .dataframe tbody tr th {\n        vertical-align: top;\n    }\n\n    .dataframe thead th {\n        text-align: right;\n    }\n</style>\n<table border=\"1\" class=\"dataframe\">\n  <thead>\n    <tr style=\"text-align: right;\">\n      <th></th>\n      <th>FloorLineupId_Offense</th>\n      <th>Players_x</th>\n      <th>ORTG</th>\n      <th>Points_x</th>\n      <th>Possession_x</th>\n      <th>GP</th>\n      <th>GameId</th>\n      <th>GameDate_Only</th>\n      <th>SeasonYear</th>\n      <th>PlayByPlayId</th>\n      <th>...</th>\n      <th>PlayerId2_Defense</th>\n      <th>PlayerName2_Defense</th>\n      <th>PlayerId3_Defense</th>\n      <th>PlayerName3_Defense</th>\n      <th>PlayerId4_Defense</th>\n      <th>PlayerName4_Defense</th>\n      <th>PlayerId5_Defense</th>\n      <th>PlayerName5_Defense</th>\n      <th>Players_y</th>\n      <th>Possession_y</th>\n    </tr>\n  </thead>\n  <tbody>\n    <tr>\n      <th>0</th>\n      <td>120</td>\n      <td>Dejounte Murray, Patty Mills, DeMar DeRozan, L...</td>\n      <td>100.000000</td>\n      <td>2</td>\n      <td>2</td>\n      <td>1</td>\n      <td>417532</td>\n      <td>2021-02-27</td>\n      <td>2020</td>\n      <td>13638893</td>\n      <td>...</td>\n      <td>1476</td>\n      <td>Lonzo Ball</td>\n      <td>1499</td>\n      <td>Brandon Ingram</td>\n      <td>2267</td>\n      <td>Zion Williamson</td>\n      <td>1231</td>\n      <td>Steven Adams</td>\n      <td>Dejounte Murray, Patty Mills, DeMar DeRozan, L...</td>\n      <td>0</td>\n    </tr>\n    <tr>\n      <th>4</th>\n      <td>227</td>\n      <td>Jamal Murray, Gary Harris, Will Barton, Paul M...</td>\n      <td>123.246493</td>\n      <td>615</td>\n      <td>499</td>\n      <td>16</td>\n      <td>417032</td>\n      <td>2020-12-23</td>\n      <td>2020</td>\n      <td>13362386</td>\n      <td>...</td>\n      <td>1106</td>\n      <td>Harrison Barnes</td>\n      <td>1424</td>\n      <td>Buddy Hield</td>\n      <td>1431</td>\n      <td>Richaun Holmes</td>\n      <td>1550</td>\n      <td>De'Aaron Fox</td>\n      <td>Jamal Murray, Gary Harris, Will Barton, Paul M...</td>\n      <td>0</td>\n    </tr>\n    <tr>\n      <th>1087</th>\n      <td>240</td>\n      <td>Doug McDermott, Justin Holiday, Edmond Sumner,...</td>\n      <td>111.111111</td>\n      <td>10</td>\n      <td>9</td>\n      <td>6</td>\n      <td>417235</td>\n      <td>2021-01-20</td>\n      <td>2020</td>\n      <td>13455674</td>\n      <td>...</td>\n      <td>1391</td>\n      <td>Willie Cauley-Stein</td>\n      <td>1178</td>\n      <td>Trey Burke</td>\n      <td>1592</td>\n      <td>Luka Doncic</td>\n      <td>28210</td>\n      <td>Josh Green</td>\n      <td>Doug McDermott, Justin Holiday, Edmond Sumner,...</td>\n      <td>0</td>\n    </tr>\n    <tr>\n      <th>1103</th>\n      <td>251</td>\n      <td>Caleb Martin, Miles Bridges, Terry Rozier, Dev...</td>\n      <td>85.714286</td>\n      <td>12</td>\n      <td>14</td>\n      <td>2</td>\n      <td>422400</td>\n      <td>2021-04-04</td>\n      <td>2020</td>\n      <td>13772586</td>\n      <td>...</td>\n      <td>1556</td>\n      <td>Jayson Tatum</td>\n      <td>1498</td>\n      <td>Jaylen Brown</td>\n      <td>1630</td>\n      <td>Robert Williams</td>\n      <td>1288</td>\n      <td>Marcus Smart</td>\n      <td>Caleb Martin, Miles Bridges, Terry Rozier, Dev...</td>\n      <td>0</td>\n    </tr>\n    <tr>\n      <th>1142</th>\n      <td>259</td>\n      <td>Donovan Mitchell Jr., Mike Conley Jr., Royce O...</td>\n      <td>114.297319</td>\n      <td>1407</td>\n      <td>1231</td>\n      <td>41</td>\n      <td>417033</td>\n      <td>2020-12-23</td>\n      <td>2020</td>\n      <td>13363565</td>\n      <td>...</td>\n      <td>988</td>\n      <td>Damian Lillard</td>\n      <td>1068</td>\n      <td>Robert Covington</td>\n      <td>1497</td>\n      <td>Derrick Jones Jr.</td>\n      <td>1450</td>\n      <td>Jusuf Nurkic</td>\n      <td>Donovan Mitchell Jr., Mike Conley Jr., Royce O...</td>\n      <td>0</td>\n    </tr>\n    <tr>\n      <th>...</th>\n      <td>...</td>\n      <td>...</td>\n      <td>...</td>\n      <td>...</td>\n      <td>...</td>\n      <td>...</td>\n      <td>...</td>\n      <td>...</td>\n      <td>...</td>\n      <td>...</td>\n      <td>...</td>\n      <td>...</td>\n      <td>...</td>\n      <td>...</td>\n      <td>...</td>\n      <td>...</td>\n      <td>...</td>\n      <td>...</td>\n      <td>...</td>\n      <td>...</td>\n      <td>...</td>\n    </tr>\n    <tr>\n      <th>509578</th>\n      <td>375040</td>\n      <td>James Nunnally, James Johnson, Nickeil Alexand...</td>\n      <td>NaN</td>\n      <td>0</td>\n      <td>0</td>\n      <td>1</td>\n      <td>422715</td>\n      <td>2021-05-16</td>\n      <td>2020</td>\n      <td>13953418</td>\n      <td>...</td>\n      <td>1</td>\n      <td>LeBron James</td>\n      <td>645</td>\n      <td>Marc Gasol</td>\n      <td>1259</td>\n      <td>Dennis Schroder</td>\n      <td>1426</td>\n      <td>Alex Caruso</td>\n      <td>James Nunnally, James Johnson, Nickeil Alexand...</td>\n      <td>0</td>\n    </tr>\n    <tr>\n      <th>509579</th>\n      <td>375041</td>\n      <td>Talen Horton-Tucker, Marc Gasol, Jared Dudley,...</td>\n      <td>40.000000</td>\n      <td>2</td>\n      <td>5</td>\n      <td>1</td>\n      <td>422715</td>\n      <td>2021-05-16</td>\n      <td>2020</td>\n      <td>13953468</td>\n      <td>...</td>\n      <td>29642</td>\n      <td>Kira Lewis Jr.</td>\n      <td>1458</td>\n      <td>Willy Hernangomez</td>\n      <td>4108</td>\n      <td>Nickeil Alexander-Walker</td>\n      <td>24150</td>\n      <td>Naji Marshall</td>\n      <td>Talen Horton-Tucker, Marc Gasol, Jared Dudley,...</td>\n      <td>0</td>\n    </tr>\n    <tr>\n      <th>509592</th>\n      <td>375042</td>\n      <td>Talen Horton-Tucker, Marc Gasol, Jared Dudley,...</td>\n      <td>NaN</td>\n      <td>0</td>\n      <td>0</td>\n      <td>1</td>\n      <td>422715</td>\n      <td>2021-05-16</td>\n      <td>2020</td>\n      <td>13953492</td>\n      <td>...</td>\n      <td>29642</td>\n      <td>Kira Lewis Jr.</td>\n      <td>1458</td>\n      <td>Willy Hernangomez</td>\n      <td>4108</td>\n      <td>Nickeil Alexander-Walker</td>\n      <td>24150</td>\n      <td>Naji Marshall</td>\n      <td>Talen Horton-Tucker, Marc Gasol, Jared Dudley,...</td>\n      <td>0</td>\n    </tr>\n    <tr>\n      <th>509593</th>\n      <td>375043</td>\n      <td>Talen Horton-Tucker, Marc Gasol, Jared Dudley,...</td>\n      <td>75.000000</td>\n      <td>3</td>\n      <td>4</td>\n      <td>1</td>\n      <td>422715</td>\n      <td>2021-05-16</td>\n      <td>2020</td>\n      <td>13953493</td>\n      <td>...</td>\n      <td>29642</td>\n      <td>Kira Lewis Jr.</td>\n      <td>1458</td>\n      <td>Willy Hernangomez</td>\n      <td>4108</td>\n      <td>Nickeil Alexander-Walker</td>\n      <td>24150</td>\n      <td>Naji Marshall</td>\n      <td>Talen Horton-Tucker, Marc Gasol, Jared Dudley,...</td>\n      <td>0</td>\n    </tr>\n    <tr>\n      <th>509603</th>\n      <td>375044</td>\n      <td>Naji Marshall, James Nunnally, Nickeil Alexand...</td>\n      <td>0.000000</td>\n      <td>0</td>\n      <td>2</td>\n      <td>1</td>\n      <td>422715</td>\n      <td>2021-05-16</td>\n      <td>2020</td>\n      <td>13953501</td>\n      <td>...</td>\n      <td>645</td>\n      <td>Marc Gasol</td>\n      <td>602</td>\n      <td>Jared Dudley</td>\n      <td>1136</td>\n      <td>Alfonzo McKinnie</td>\n      <td>1184</td>\n      <td>Ben McLemore</td>\n      <td>Naji Marshall, James Nunnally, Nickeil Alexand...</td>\n      <td>1</td>\n    </tr>\n  </tbody>\n</table>\n<p>17123 rows × 51 columns</p>\n</div>"
     },
     "metadata": {}
    }
   ]
  },
  {
   "cell_type": "code",
   "metadata": {
    "cell_id": "6f53a675-8b10-4582-a8ae-2833da896cbf",
    "tags": [],
    "deepnote_to_be_reexecuted": false,
    "source_hash": "bb25a01",
    "execution_start": 1646970009461,
    "execution_millis": 1585,
    "deepnote_cell_type": "code",
    "deepnote_cell_height": 636
   },
   "source": "df.merge(player_box, left_on=['PlayerId1_Offense']\n                , right_on=['PlayerId']*1, how='left').merge(player_box, left_on=['PlayerId2_Offense']\n                , right_on=['PlayerId']*1, how='left')",
   "execution_count": null,
   "outputs": [
    {
     "output_type": "execute_result",
     "execution_count": 28,
     "data": {
      "application/vnd.deepnote.dataframe.v3+json": {
       "column_count": 131,
       "row_count": 122701,
       "columns": [
        {
         "name": "FloorLineupId_Offense",
         "dtype": "int64"
        },
        {
         "name": "Players_x",
         "dtype": "object"
        },
        {
         "name": "ORTG",
         "dtype": "float64"
        },
        {
         "name": "Points_x",
         "dtype": "int64"
        },
        {
         "name": "Possession_x",
         "dtype": "int64"
        },
        {
         "name": "GP_x",
         "dtype": "int64"
        },
        {
         "name": "GameId",
         "dtype": "int64"
        },
        {
         "name": "GameDate_Only",
         "dtype": "object"
        },
        {
         "name": "SeasonYear_x",
         "dtype": "int64"
        },
        {
         "name": "PlayByPlayId",
         "dtype": "int64"
        },
        {
         "name": "EventNumber",
         "dtype": "int64"
        },
        {
         "name": "Period",
         "dtype": "int64"
        },
        {
         "name": "GameClock_Minutes",
         "dtype": "int64"
        },
        {
         "name": "GameClock_Seconds",
         "dtype": "int64"
        },
        {
         "name": "GameClock",
         "dtype": "object"
        },
        {
         "name": "Description",
         "dtype": "object"
        },
        {
         "name": "EventTypeId",
         "dtype": "int64"
        },
        {
         "name": "EventType",
         "dtype": "object"
        },
        {
         "name": "ActionTypeIndex",
         "dtype": "int64"
        },
        {
         "name": "ActionTypeName",
         "dtype": "object"
        },
        {
         "name": "Points_y",
         "dtype": "int64"
        },
        {
         "name": "PlayLength_Seconds",
         "dtype": "int64"
        },
        {
         "name": "TeamScore_Offense",
         "dtype": "int64"
        },
        {
         "name": "TeamId_Offense",
         "dtype": "int64"
        },
        {
         "name": "TeamName_Offense",
         "dtype": "object"
        },
        {
         "name": "PlayerId1_Offense",
         "dtype": "int64"
        },
        {
         "name": "PlayerName1_Offense",
         "dtype": "object"
        },
        {
         "name": "PlayerId2_Offense",
         "dtype": "int64"
        },
        {
         "name": "PlayerName2_Offense",
         "dtype": "object"
        },
        {
         "name": "PlayerId3_Offense",
         "dtype": "int64"
        },
        {
         "name": "PlayerName3_Offense",
         "dtype": "object"
        },
        {
         "name": "PlayerId4_Offense",
         "dtype": "int64"
        },
        {
         "name": "PlayerName4_Offense",
         "dtype": "object"
        },
        {
         "name": "PlayerId5_Offense",
         "dtype": "int64"
        },
        {
         "name": "PlayerName5_Offense",
         "dtype": "object"
        },
        {
         "name": "TeamScore_Defense",
         "dtype": "int64"
        },
        {
         "name": "TeamId_Defense",
         "dtype": "int64"
        },
        {
         "name": "TeamName_Defense",
         "dtype": "object"
        },
        {
         "name": "FloorLineupId_Defense",
         "dtype": "int64"
        },
        {
         "name": "PlayerId1_Defense",
         "dtype": "int64"
        },
        {
         "name": "PlayerName1_Defense",
         "dtype": "object"
        },
        {
         "name": "PlayerId2_Defense",
         "dtype": "int64"
        },
        {
         "name": "PlayerName2_Defense",
         "dtype": "object"
        },
        {
         "name": "PlayerId3_Defense",
         "dtype": "int64"
        },
        {
         "name": "PlayerName3_Defense",
         "dtype": "object"
        },
        {
         "name": "PlayerId4_Defense",
         "dtype": "int64"
        },
        {
         "name": "PlayerName4_Defense",
         "dtype": "object"
        },
        {
         "name": "PlayerId5_Defense",
         "dtype": "int64"
        },
        {
         "name": "PlayerName5_Defense",
         "dtype": "object"
        },
        {
         "name": "Players_y",
         "dtype": "object"
        },
        {
         "name": "Possession_y",
         "dtype": "int64"
        },
        {
         "name": "PlayerId_x",
         "dtype": "int64"
        },
        {
         "name": "Player_x",
         "dtype": "object"
        },
        {
         "name": "LeagueId_x",
         "dtype": "object"
        },
        {
         "name": "SeasonYear_y",
         "dtype": "int64"
        },
        {
         "name": "GameTypeId_x",
         "dtype": "object"
        },
        {
         "name": "GP_y",
         "dtype": "int64"
        },
        {
         "name": "GS_x",
         "dtype": "int64"
        },
        {
         "name": "MP_x",
         "dtype": "float64"
        },
        {
         "name": "FGM_x",
         "dtype": "int64"
        },
        {
         "name": "FGA_x",
         "dtype": "int64"
        },
        {
         "name": "FG%_x",
         "dtype": "float64"
        },
        {
         "name": "2FGM_x",
         "dtype": "int64"
        },
        {
         "name": "2FGA_x",
         "dtype": "int64"
        },
        {
         "name": "2FG%_x",
         "dtype": "float64"
        },
        {
         "name": "3FGM_x",
         "dtype": "int64"
        },
        {
         "name": "3FGA_x",
         "dtype": "int64"
        },
        {
         "name": "3FG%_x",
         "dtype": "float64"
        },
        {
         "name": "eFG%_x",
         "dtype": "float64"
        },
        {
         "name": "TS%_x",
         "dtype": "float64"
        },
        {
         "name": "FTM_x",
         "dtype": "int64"
        },
        {
         "name": "FTA_x",
         "dtype": "int64"
        },
        {
         "name": "FT%_x",
         "dtype": "float64"
        },
        {
         "name": "OR_x",
         "dtype": "int64"
        },
        {
         "name": "DR_x",
         "dtype": "int64"
        },
        {
         "name": "TR_x",
         "dtype": "int64"
        },
        {
         "name": "AST_x",
         "dtype": "int64"
        },
        {
         "name": "STL_x",
         "dtype": "int64"
        },
        {
         "name": "BLK_x",
         "dtype": "int64"
        },
        {
         "name": "TOV_x",
         "dtype": "int64"
        },
        {
         "name": "PF_x",
         "dtype": "int64"
        },
        {
         "name": "PTS_x",
         "dtype": "int64"
        },
        {
         "name": "BPM_O_x",
         "dtype": "float64"
        },
        {
         "name": "BPM_D_x",
         "dtype": "float64"
        },
        {
         "name": "BPM_x",
         "dtype": "float64"
        },
        {
         "name": "EPM_O_x",
         "dtype": "object"
        },
        {
         "name": "EPM_D_x",
         "dtype": "object"
        },
        {
         "name": "EPM_x",
         "dtype": "object"
        },
        {
         "name": "RPM_O_x",
         "dtype": "object"
        },
        {
         "name": "RPM_D_x",
         "dtype": "object"
        },
        {
         "name": "RPM_x",
         "dtype": "object"
        },
        {
         "name": "PlayerId_y",
         "dtype": "int64"
        },
        {
         "name": "Player_y",
         "dtype": "object"
        },
        {
         "name": "LeagueId_y",
         "dtype": "object"
        },
        {
         "name": "SeasonYear",
         "dtype": "int64"
        },
        {
         "name": "GameTypeId_y",
         "dtype": "object"
        },
        {
         "name": "GP",
         "dtype": "int64"
        },
        {
         "name": "GS_y",
         "dtype": "int64"
        },
        {
         "name": "MP_y",
         "dtype": "float64"
        },
        {
         "name": "FGM_y",
         "dtype": "int64"
        },
        {
         "name": "FGA_y",
         "dtype": "int64"
        },
        {
         "name": "FG%_y",
         "dtype": "float64"
        },
        {
         "name": "2FGM_y",
         "dtype": "int64"
        },
        {
         "name": "2FGA_y",
         "dtype": "int64"
        },
        {
         "name": "2FG%_y",
         "dtype": "float64"
        },
        {
         "name": "3FGM_y",
         "dtype": "int64"
        },
        {
         "name": "3FGA_y",
         "dtype": "int64"
        },
        {
         "name": "3FG%_y",
         "dtype": "float64"
        },
        {
         "name": "eFG%_y",
         "dtype": "float64"
        },
        {
         "name": "TS%_y",
         "dtype": "float64"
        },
        {
         "name": "FTM_y",
         "dtype": "int64"
        },
        {
         "name": "FTA_y",
         "dtype": "int64"
        },
        {
         "name": "FT%_y",
         "dtype": "float64"
        },
        {
         "name": "OR_y",
         "dtype": "int64"
        },
        {
         "name": "DR_y",
         "dtype": "int64"
        },
        {
         "name": "TR_y",
         "dtype": "int64"
        },
        {
         "name": "AST_y",
         "dtype": "int64"
        },
        {
         "name": "STL_y",
         "dtype": "int64"
        },
        {
         "name": "BLK_y",
         "dtype": "int64"
        },
        {
         "name": "TOV_y",
         "dtype": "int64"
        },
        {
         "name": "PF_y",
         "dtype": "int64"
        },
        {
         "name": "PTS_y",
         "dtype": "int64"
        },
        {
         "name": "BPM_O_y",
         "dtype": "float64"
        },
        {
         "name": "BPM_D_y",
         "dtype": "float64"
        },
        {
         "name": "BPM_y",
         "dtype": "float64"
        },
        {
         "name": "EPM_O_y",
         "dtype": "object"
        },
        {
         "name": "EPM_D_y",
         "dtype": "object"
        },
        {
         "name": "EPM_y",
         "dtype": "object"
        },
        {
         "name": "RPM_O_y",
         "dtype": "object"
        },
        {
         "name": "RPM_D_y",
         "dtype": "object"
        },
        {
         "name": "RPM_y",
         "dtype": "object"
        },
        {
         "name": "_deepnote_index_column",
         "dtype": "int64"
        }
       ],
       "rows": [
        {
         "FloorLineupId_Offense": 120,
         "Players_x": "Dejounte Murray, Patty Mills, DeMar DeRozan, LaMarcus Aldridge, Jakob Poeltl",
         "ORTG": 100,
         "Points_x": 2,
         "Possession_x": 2,
         "GP_x": 1,
         "GameId": 417532,
         "GameDate_Only": "2021-02-27",
         "SeasonYear_x": 2020,
         "PlayByPlayId": 13638893,
         "EventNumber": 292,
         "Period": 2,
         "GameClock_Minutes": 2,
         "GameClock_Seconds": 57,
         "GameClock": "2:57",
         "Description": "[SAS] Poeltl Foul: Offensive (3 PF)",
         "EventTypeId": 6,
         "EventType": "Foul",
         "ActionTypeIndex": 4,
         "ActionTypeName": "Offensive",
         "Points_y": 0,
         "PlayLength_Seconds": 9,
         "TeamScore_Offense": 58,
         "TeamId_Offense": 62,
         "TeamName_Offense": "San Antonio Spurs",
         "PlayerId1_Offense": 1540,
         "PlayerName1_Offense": "Dejounte Murray",
         "PlayerId2_Offense": 608,
         "PlayerName2_Offense": "Patty Mills",
         "PlayerId3_Offense": 637,
         "PlayerName3_Offense": "DeMar DeRozan",
         "PlayerId4_Offense": 447,
         "PlayerName4_Offense": "LaMarcus Aldridge",
         "PlayerId5_Offense": 1509,
         "PlayerName5_Offense": "Jakob Poeltl",
         "TeamScore_Defense": 54,
         "TeamId_Defense": 49,
         "TeamName_Defense": "New Orleans Pelicans",
         "FloorLineupId_Defense": 350467,
         "PlayerId1_Defense": 556,
         "PlayerName1_Defense": "Eric Bledsoe",
         "PlayerId2_Defense": 1476,
         "PlayerName2_Defense": "Lonzo Ball",
         "PlayerId3_Defense": 1499,
         "PlayerName3_Defense": "Brandon Ingram",
         "PlayerId4_Defense": 2267,
         "PlayerName4_Defense": "Zion Williamson",
         "PlayerId5_Defense": 1231,
         "PlayerName5_Defense": "Steven Adams",
         "Players_y": "Dejounte Murray, Patty Mills, DeMar DeRozan, LaMarcus Aldridge, Jakob Poeltl",
         "Possession_y": 0,
         "PlayerId_x": 1540,
         "Player_x": "Dejounte Murray",
         "LeagueId_x": "NBA",
         "SeasonYear_y": 2019,
         "GameTypeId_x": "S",
         "GP_y": 66,
         "GS_x": 58,
         "MP_x": 1686.64,
         "FGM_x": 294,
         "FGA_x": 637,
         "FG%_x": 0.461538461,
         "2FGM_x": 253,
         "2FGA_x": 526,
         "2FG%_x": 0.480988593,
         "3FGM_x": 41,
         "3FGA_x": 111,
         "3FG%_x": 0.369369369,
         "eFG%_x": 0.492935635,
         "TS%_x": 0.523895,
         "FTM_x": 91,
         "FTA_x": 114,
         "FT%_x": 0.798245614,
         "OR_x": 69,
         "DR_x": 314,
         "TR_x": 383,
         "AST_x": 271,
         "STL_x": 111,
         "BLK_x": 17,
         "TOV_x": 125,
         "PF_x": 143,
         "PTS_x": 720,
         "BPM_O_x": -0.9,
         "BPM_D_x": 1.3,
         "BPM_x": 0.4,
         "EPM_O_x": "-0.6570",
         "EPM_D_x": "0.4690",
         "EPM_x": "-0.2650",
         "RPM_O_x": "-1.6300",
         "RPM_D_x": "-0.1400",
         "RPM_x": "-1.7700",
         "PlayerId_y": 608,
         "Player_y": "Patty Mills",
         "LeagueId_y": "NBA",
         "SeasonYear": 2018,
         "GameTypeId_y": "S",
         "GP": 82,
         "GS_y": 1,
         "MP_y": 1907.5,
         "FGM_y": 282,
         "FGA_y": 663,
         "FG%_y": 0.425339366,
         "2FGM_y": 123,
         "2FGA_y": 259,
         "2FG%_y": 0.474903474,
         "3FGM_y": 159,
         "3FGA_y": 404,
         "3FG%_y": 0.393564356,
         "eFG%_y": 0.54449472,
         "TS%_y": 0.572481,
         "FTM_y": 88,
         "FTA_y": 103,
         "FT%_y": 0.854368932,
         "OR_y": 24,
         "DR_y": 158,
         "TR_y": 182,
         "AST_y": 245,
         "STL_y": 49,
         "BLK_y": 10,
         "TOV_y": 93,
         "PF_y": 129,
         "PTS_y": 811,
         "BPM_O_y": 0.4,
         "BPM_D_y": -0.8,
         "BPM_y": -0.3,
         "EPM_O_y": "0.9820",
         "EPM_D_y": "-0.7380",
         "EPM_y": "0.2700",
         "RPM_O_y": "1.8800",
         "RPM_D_y": "-1.6600",
         "RPM_y": "0.2100",
         "_deepnote_index_column": 0
        },
        {
         "FloorLineupId_Offense": 120,
         "Players_x": "Dejounte Murray, Patty Mills, DeMar DeRozan, LaMarcus Aldridge, Jakob Poeltl",
         "ORTG": 100,
         "Points_x": 2,
         "Possession_x": 2,
         "GP_x": 1,
         "GameId": 417532,
         "GameDate_Only": "2021-02-27",
         "SeasonYear_x": 2020,
         "PlayByPlayId": 13638893,
         "EventNumber": 292,
         "Period": 2,
         "GameClock_Minutes": 2,
         "GameClock_Seconds": 57,
         "GameClock": "2:57",
         "Description": "[SAS] Poeltl Foul: Offensive (3 PF)",
         "EventTypeId": 6,
         "EventType": "Foul",
         "ActionTypeIndex": 4,
         "ActionTypeName": "Offensive",
         "Points_y": 0,
         "PlayLength_Seconds": 9,
         "TeamScore_Offense": 58,
         "TeamId_Offense": 62,
         "TeamName_Offense": "San Antonio Spurs",
         "PlayerId1_Offense": 1540,
         "PlayerName1_Offense": "Dejounte Murray",
         "PlayerId2_Offense": 608,
         "PlayerName2_Offense": "Patty Mills",
         "PlayerId3_Offense": 637,
         "PlayerName3_Offense": "DeMar DeRozan",
         "PlayerId4_Offense": 447,
         "PlayerName4_Offense": "LaMarcus Aldridge",
         "PlayerId5_Offense": 1509,
         "PlayerName5_Offense": "Jakob Poeltl",
         "TeamScore_Defense": 54,
         "TeamId_Defense": 49,
         "TeamName_Defense": "New Orleans Pelicans",
         "FloorLineupId_Defense": 350467,
         "PlayerId1_Defense": 556,
         "PlayerName1_Defense": "Eric Bledsoe",
         "PlayerId2_Defense": 1476,
         "PlayerName2_Defense": "Lonzo Ball",
         "PlayerId3_Defense": 1499,
         "PlayerName3_Defense": "Brandon Ingram",
         "PlayerId4_Defense": 2267,
         "PlayerName4_Defense": "Zion Williamson",
         "PlayerId5_Defense": 1231,
         "PlayerName5_Defense": "Steven Adams",
         "Players_y": "Dejounte Murray, Patty Mills, DeMar DeRozan, LaMarcus Aldridge, Jakob Poeltl",
         "Possession_y": 0,
         "PlayerId_x": 1540,
         "Player_x": "Dejounte Murray",
         "LeagueId_x": "NBA",
         "SeasonYear_y": 2019,
         "GameTypeId_x": "S",
         "GP_y": 66,
         "GS_x": 58,
         "MP_x": 1686.64,
         "FGM_x": 294,
         "FGA_x": 637,
         "FG%_x": 0.461538461,
         "2FGM_x": 253,
         "2FGA_x": 526,
         "2FG%_x": 0.480988593,
         "3FGM_x": 41,
         "3FGA_x": 111,
         "3FG%_x": 0.369369369,
         "eFG%_x": 0.492935635,
         "TS%_x": 0.523895,
         "FTM_x": 91,
         "FTA_x": 114,
         "FT%_x": 0.798245614,
         "OR_x": 69,
         "DR_x": 314,
         "TR_x": 383,
         "AST_x": 271,
         "STL_x": 111,
         "BLK_x": 17,
         "TOV_x": 125,
         "PF_x": 143,
         "PTS_x": 720,
         "BPM_O_x": -0.9,
         "BPM_D_x": 1.3,
         "BPM_x": 0.4,
         "EPM_O_x": "-0.6570",
         "EPM_D_x": "0.4690",
         "EPM_x": "-0.2650",
         "RPM_O_x": "-1.6300",
         "RPM_D_x": "-0.1400",
         "RPM_x": "-1.7700",
         "PlayerId_y": 608,
         "Player_y": "Patty Mills",
         "LeagueId_y": "NBA",
         "SeasonYear": 2019,
         "GameTypeId_y": "S",
         "GP": 66,
         "GS_y": 1,
         "MP_y": 1484.63,
         "FGM_y": 258,
         "FGA_y": 598,
         "FG%_y": 0.431438127,
         "2FGM_y": 104,
         "2FGA_y": 195,
         "2FG%_y": 0.533333333,
         "3FGM_y": 154,
         "3FGA_y": 403,
         "3FG%_y": 0.382133995,
         "eFG%_y": 0.560200668,
         "TS%_y": 0.592479,
         "FTM_y": 97,
         "FTA_y": 112,
         "FT%_y": 0.866071428,
         "OR_y": 22,
         "DR_y": 86,
         "TR_y": 108,
         "AST_y": 118,
         "STL_y": 53,
         "BLK_y": 6,
         "TOV_y": 54,
         "PF_y": 105,
         "PTS_y": 767,
         "BPM_O_y": 1.2,
         "BPM_D_y": -1.2,
         "BPM_y": 0,
         "EPM_O_y": "1.7890",
         "EPM_D_y": "-0.2530",
         "EPM_y": "1.6820",
         "RPM_O_y": "3.3200",
         "RPM_D_y": "-1.7300",
         "RPM_y": "1.5900",
         "_deepnote_index_column": 1
        },
        {
         "FloorLineupId_Offense": 120,
         "Players_x": "Dejounte Murray, Patty Mills, DeMar DeRozan, LaMarcus Aldridge, Jakob Poeltl",
         "ORTG": 100,
         "Points_x": 2,
         "Possession_x": 2,
         "GP_x": 1,
         "GameId": 417532,
         "GameDate_Only": "2021-02-27",
         "SeasonYear_x": 2020,
         "PlayByPlayId": 13638893,
         "EventNumber": 292,
         "Period": 2,
         "GameClock_Minutes": 2,
         "GameClock_Seconds": 57,
         "GameClock": "2:57",
         "Description": "[SAS] Poeltl Foul: Offensive (3 PF)",
         "EventTypeId": 6,
         "EventType": "Foul",
         "ActionTypeIndex": 4,
         "ActionTypeName": "Offensive",
         "Points_y": 0,
         "PlayLength_Seconds": 9,
         "TeamScore_Offense": 58,
         "TeamId_Offense": 62,
         "TeamName_Offense": "San Antonio Spurs",
         "PlayerId1_Offense": 1540,
         "PlayerName1_Offense": "Dejounte Murray",
         "PlayerId2_Offense": 608,
         "PlayerName2_Offense": "Patty Mills",
         "PlayerId3_Offense": 637,
         "PlayerName3_Offense": "DeMar DeRozan",
         "PlayerId4_Offense": 447,
         "PlayerName4_Offense": "LaMarcus Aldridge",
         "PlayerId5_Offense": 1509,
         "PlayerName5_Offense": "Jakob Poeltl",
         "TeamScore_Defense": 54,
         "TeamId_Defense": 49,
         "TeamName_Defense": "New Orleans Pelicans",
         "FloorLineupId_Defense": 350467,
         "PlayerId1_Defense": 556,
         "PlayerName1_Defense": "Eric Bledsoe",
         "PlayerId2_Defense": 1476,
         "PlayerName2_Defense": "Lonzo Ball",
         "PlayerId3_Defense": 1499,
         "PlayerName3_Defense": "Brandon Ingram",
         "PlayerId4_Defense": 2267,
         "PlayerName4_Defense": "Zion Williamson",
         "PlayerId5_Defense": 1231,
         "PlayerName5_Defense": "Steven Adams",
         "Players_y": "Dejounte Murray, Patty Mills, DeMar DeRozan, LaMarcus Aldridge, Jakob Poeltl",
         "Possession_y": 0,
         "PlayerId_x": 1540,
         "Player_x": "Dejounte Murray",
         "LeagueId_x": "NBA",
         "SeasonYear_y": 2019,
         "GameTypeId_x": "S",
         "GP_y": 66,
         "GS_x": 58,
         "MP_x": 1686.64,
         "FGM_x": 294,
         "FGA_x": 637,
         "FG%_x": 0.461538461,
         "2FGM_x": 253,
         "2FGA_x": 526,
         "2FG%_x": 0.480988593,
         "3FGM_x": 41,
         "3FGA_x": 111,
         "3FG%_x": 0.369369369,
         "eFG%_x": 0.492935635,
         "TS%_x": 0.523895,
         "FTM_x": 91,
         "FTA_x": 114,
         "FT%_x": 0.798245614,
         "OR_x": 69,
         "DR_x": 314,
         "TR_x": 383,
         "AST_x": 271,
         "STL_x": 111,
         "BLK_x": 17,
         "TOV_x": 125,
         "PF_x": 143,
         "PTS_x": 720,
         "BPM_O_x": -0.9,
         "BPM_D_x": 1.3,
         "BPM_x": 0.4,
         "EPM_O_x": "-0.6570",
         "EPM_D_x": "0.4690",
         "EPM_x": "-0.2650",
         "RPM_O_x": "-1.6300",
         "RPM_D_x": "-0.1400",
         "RPM_x": "-1.7700",
         "PlayerId_y": 608,
         "Player_y": "Patty Mills",
         "LeagueId_y": "NBA",
         "SeasonYear": 2020,
         "GameTypeId_y": "S",
         "GP": 68,
         "GS_y": 1,
         "MP_y": 1684.64,
         "FGM_y": 252,
         "FGA_y": 611,
         "FG%_y": 0.412438625,
         "2FGM_y": 91,
         "2FGA_y": 182,
         "2FG%_y": 0.5,
         "3FGM_y": 161,
         "3FGA_y": 429,
         "3FG%_y": 0.375291375,
         "eFG%_y": 0.543371522,
         "TS%_y": 0.57026,
         "FTM_y": 71,
         "FTA_y": 78,
         "FT%_y": 0.91025641,
         "OR_y": 18,
         "DR_y": 98,
         "TR_y": 116,
         "AST_y": 162,
         "STL_y": 42,
         "BLK_y": 3,
         "TOV_y": 66,
         "PF_y": 81,
         "PTS_y": 736,
         "BPM_O_y": 0.1,
         "BPM_D_y": -1.8,
         "BPM_y": -1.6,
         "EPM_O_y": "-0.7570",
         "EPM_D_y": "0.5690",
         "EPM_y": "-0.2610",
         "RPM_O_y": "1.7800",
         "RPM_D_y": "-2.6500",
         "RPM_y": "-0.8700",
         "_deepnote_index_column": 2
        },
        {
         "FloorLineupId_Offense": 120,
         "Players_x": "Dejounte Murray, Patty Mills, DeMar DeRozan, LaMarcus Aldridge, Jakob Poeltl",
         "ORTG": 100,
         "Points_x": 2,
         "Possession_x": 2,
         "GP_x": 1,
         "GameId": 417532,
         "GameDate_Only": "2021-02-27",
         "SeasonYear_x": 2020,
         "PlayByPlayId": 13638893,
         "EventNumber": 292,
         "Period": 2,
         "GameClock_Minutes": 2,
         "GameClock_Seconds": 57,
         "GameClock": "2:57",
         "Description": "[SAS] Poeltl Foul: Offensive (3 PF)",
         "EventTypeId": 6,
         "EventType": "Foul",
         "ActionTypeIndex": 4,
         "ActionTypeName": "Offensive",
         "Points_y": 0,
         "PlayLength_Seconds": 9,
         "TeamScore_Offense": 58,
         "TeamId_Offense": 62,
         "TeamName_Offense": "San Antonio Spurs",
         "PlayerId1_Offense": 1540,
         "PlayerName1_Offense": "Dejounte Murray",
         "PlayerId2_Offense": 608,
         "PlayerName2_Offense": "Patty Mills",
         "PlayerId3_Offense": 637,
         "PlayerName3_Offense": "DeMar DeRozan",
         "PlayerId4_Offense": 447,
         "PlayerName4_Offense": "LaMarcus Aldridge",
         "PlayerId5_Offense": 1509,
         "PlayerName5_Offense": "Jakob Poeltl",
         "TeamScore_Defense": 54,
         "TeamId_Defense": 49,
         "TeamName_Defense": "New Orleans Pelicans",
         "FloorLineupId_Defense": 350467,
         "PlayerId1_Defense": 556,
         "PlayerName1_Defense": "Eric Bledsoe",
         "PlayerId2_Defense": 1476,
         "PlayerName2_Defense": "Lonzo Ball",
         "PlayerId3_Defense": 1499,
         "PlayerName3_Defense": "Brandon Ingram",
         "PlayerId4_Defense": 2267,
         "PlayerName4_Defense": "Zion Williamson",
         "PlayerId5_Defense": 1231,
         "PlayerName5_Defense": "Steven Adams",
         "Players_y": "Dejounte Murray, Patty Mills, DeMar DeRozan, LaMarcus Aldridge, Jakob Poeltl",
         "Possession_y": 0,
         "PlayerId_x": 1540,
         "Player_x": "Dejounte Murray",
         "LeagueId_x": "NBA",
         "SeasonYear_y": 2020,
         "GameTypeId_x": "S",
         "GP_y": 67,
         "GS_x": 67,
         "MP_x": 2139.31,
         "FGM_x": 441,
         "FGA_x": 974,
         "FG%_x": 0.452772073,
         "2FGM_x": 378,
         "2FGA_x": 775,
         "2FG%_x": 0.487741935,
         "3FGM_x": 63,
         "3FGA_x": 199,
         "3FG%_x": 0.316582914,
         "eFG%_x": 0.484599589,
         "TS%_x": 0.508732,
         "FTM_x": 106,
         "FTA_x": 134,
         "FT%_x": 0.791044776,
         "OR_x": 58,
         "DR_x": 415,
         "TR_x": 473,
         "AST_x": 363,
         "STL_x": 101,
         "BLK_x": 7,
         "TOV_x": 117,
         "PF_x": 135,
         "PTS_x": 1051,
         "BPM_O_x": -0.2,
         "BPM_D_x": 0.8,
         "BPM_x": 0.6,
         "EPM_O_x": "0.8800",
         "EPM_D_x": "1.0820",
         "EPM_x": "1.8840",
         "RPM_O_x": "-1.0100",
         "RPM_D_x": "2.3000",
         "RPM_x": "1.2900",
         "PlayerId_y": 608,
         "Player_y": "Patty Mills",
         "LeagueId_y": "NBA",
         "SeasonYear": 2018,
         "GameTypeId_y": "S",
         "GP": 82,
         "GS_y": 1,
         "MP_y": 1907.5,
         "FGM_y": 282,
         "FGA_y": 663,
         "FG%_y": 0.425339366,
         "2FGM_y": 123,
         "2FGA_y": 259,
         "2FG%_y": 0.474903474,
         "3FGM_y": 159,
         "3FGA_y": 404,
         "3FG%_y": 0.393564356,
         "eFG%_y": 0.54449472,
         "TS%_y": 0.572481,
         "FTM_y": 88,
         "FTA_y": 103,
         "FT%_y": 0.854368932,
         "OR_y": 24,
         "DR_y": 158,
         "TR_y": 182,
         "AST_y": 245,
         "STL_y": 49,
         "BLK_y": 10,
         "TOV_y": 93,
         "PF_y": 129,
         "PTS_y": 811,
         "BPM_O_y": 0.4,
         "BPM_D_y": -0.8,
         "BPM_y": -0.3,
         "EPM_O_y": "0.9820",
         "EPM_D_y": "-0.7380",
         "EPM_y": "0.2700",
         "RPM_O_y": "1.8800",
         "RPM_D_y": "-1.6600",
         "RPM_y": "0.2100",
         "_deepnote_index_column": 3
        },
        {
         "FloorLineupId_Offense": 120,
         "Players_x": "Dejounte Murray, Patty Mills, DeMar DeRozan, LaMarcus Aldridge, Jakob Poeltl",
         "ORTG": 100,
         "Points_x": 2,
         "Possession_x": 2,
         "GP_x": 1,
         "GameId": 417532,
         "GameDate_Only": "2021-02-27",
         "SeasonYear_x": 2020,
         "PlayByPlayId": 13638893,
         "EventNumber": 292,
         "Period": 2,
         "GameClock_Minutes": 2,
         "GameClock_Seconds": 57,
         "GameClock": "2:57",
         "Description": "[SAS] Poeltl Foul: Offensive (3 PF)",
         "EventTypeId": 6,
         "EventType": "Foul",
         "ActionTypeIndex": 4,
         "ActionTypeName": "Offensive",
         "Points_y": 0,
         "PlayLength_Seconds": 9,
         "TeamScore_Offense": 58,
         "TeamId_Offense": 62,
         "TeamName_Offense": "San Antonio Spurs",
         "PlayerId1_Offense": 1540,
         "PlayerName1_Offense": "Dejounte Murray",
         "PlayerId2_Offense": 608,
         "PlayerName2_Offense": "Patty Mills",
         "PlayerId3_Offense": 637,
         "PlayerName3_Offense": "DeMar DeRozan",
         "PlayerId4_Offense": 447,
         "PlayerName4_Offense": "LaMarcus Aldridge",
         "PlayerId5_Offense": 1509,
         "PlayerName5_Offense": "Jakob Poeltl",
         "TeamScore_Defense": 54,
         "TeamId_Defense": 49,
         "TeamName_Defense": "New Orleans Pelicans",
         "FloorLineupId_Defense": 350467,
         "PlayerId1_Defense": 556,
         "PlayerName1_Defense": "Eric Bledsoe",
         "PlayerId2_Defense": 1476,
         "PlayerName2_Defense": "Lonzo Ball",
         "PlayerId3_Defense": 1499,
         "PlayerName3_Defense": "Brandon Ingram",
         "PlayerId4_Defense": 2267,
         "PlayerName4_Defense": "Zion Williamson",
         "PlayerId5_Defense": 1231,
         "PlayerName5_Defense": "Steven Adams",
         "Players_y": "Dejounte Murray, Patty Mills, DeMar DeRozan, LaMarcus Aldridge, Jakob Poeltl",
         "Possession_y": 0,
         "PlayerId_x": 1540,
         "Player_x": "Dejounte Murray",
         "LeagueId_x": "NBA",
         "SeasonYear_y": 2020,
         "GameTypeId_x": "S",
         "GP_y": 67,
         "GS_x": 67,
         "MP_x": 2139.31,
         "FGM_x": 441,
         "FGA_x": 974,
         "FG%_x": 0.452772073,
         "2FGM_x": 378,
         "2FGA_x": 775,
         "2FG%_x": 0.487741935,
         "3FGM_x": 63,
         "3FGA_x": 199,
         "3FG%_x": 0.316582914,
         "eFG%_x": 0.484599589,
         "TS%_x": 0.508732,
         "FTM_x": 106,
         "FTA_x": 134,
         "FT%_x": 0.791044776,
         "OR_x": 58,
         "DR_x": 415,
         "TR_x": 473,
         "AST_x": 363,
         "STL_x": 101,
         "BLK_x": 7,
         "TOV_x": 117,
         "PF_x": 135,
         "PTS_x": 1051,
         "BPM_O_x": -0.2,
         "BPM_D_x": 0.8,
         "BPM_x": 0.6,
         "EPM_O_x": "0.8800",
         "EPM_D_x": "1.0820",
         "EPM_x": "1.8840",
         "RPM_O_x": "-1.0100",
         "RPM_D_x": "2.3000",
         "RPM_x": "1.2900",
         "PlayerId_y": 608,
         "Player_y": "Patty Mills",
         "LeagueId_y": "NBA",
         "SeasonYear": 2019,
         "GameTypeId_y": "S",
         "GP": 66,
         "GS_y": 1,
         "MP_y": 1484.63,
         "FGM_y": 258,
         "FGA_y": 598,
         "FG%_y": 0.431438127,
         "2FGM_y": 104,
         "2FGA_y": 195,
         "2FG%_y": 0.533333333,
         "3FGM_y": 154,
         "3FGA_y": 403,
         "3FG%_y": 0.382133995,
         "eFG%_y": 0.560200668,
         "TS%_y": 0.592479,
         "FTM_y": 97,
         "FTA_y": 112,
         "FT%_y": 0.866071428,
         "OR_y": 22,
         "DR_y": 86,
         "TR_y": 108,
         "AST_y": 118,
         "STL_y": 53,
         "BLK_y": 6,
         "TOV_y": 54,
         "PF_y": 105,
         "PTS_y": 767,
         "BPM_O_y": 1.2,
         "BPM_D_y": -1.2,
         "BPM_y": 0,
         "EPM_O_y": "1.7890",
         "EPM_D_y": "-0.2530",
         "EPM_y": "1.6820",
         "RPM_O_y": "3.3200",
         "RPM_D_y": "-1.7300",
         "RPM_y": "1.5900",
         "_deepnote_index_column": 4
        },
        {
         "FloorLineupId_Offense": 120,
         "Players_x": "Dejounte Murray, Patty Mills, DeMar DeRozan, LaMarcus Aldridge, Jakob Poeltl",
         "ORTG": 100,
         "Points_x": 2,
         "Possession_x": 2,
         "GP_x": 1,
         "GameId": 417532,
         "GameDate_Only": "2021-02-27",
         "SeasonYear_x": 2020,
         "PlayByPlayId": 13638893,
         "EventNumber": 292,
         "Period": 2,
         "GameClock_Minutes": 2,
         "GameClock_Seconds": 57,
         "GameClock": "2:57",
         "Description": "[SAS] Poeltl Foul: Offensive (3 PF)",
         "EventTypeId": 6,
         "EventType": "Foul",
         "ActionTypeIndex": 4,
         "ActionTypeName": "Offensive",
         "Points_y": 0,
         "PlayLength_Seconds": 9,
         "TeamScore_Offense": 58,
         "TeamId_Offense": 62,
         "TeamName_Offense": "San Antonio Spurs",
         "PlayerId1_Offense": 1540,
         "PlayerName1_Offense": "Dejounte Murray",
         "PlayerId2_Offense": 608,
         "PlayerName2_Offense": "Patty Mills",
         "PlayerId3_Offense": 637,
         "PlayerName3_Offense": "DeMar DeRozan",
         "PlayerId4_Offense": 447,
         "PlayerName4_Offense": "LaMarcus Aldridge",
         "PlayerId5_Offense": 1509,
         "PlayerName5_Offense": "Jakob Poeltl",
         "TeamScore_Defense": 54,
         "TeamId_Defense": 49,
         "TeamName_Defense": "New Orleans Pelicans",
         "FloorLineupId_Defense": 350467,
         "PlayerId1_Defense": 556,
         "PlayerName1_Defense": "Eric Bledsoe",
         "PlayerId2_Defense": 1476,
         "PlayerName2_Defense": "Lonzo Ball",
         "PlayerId3_Defense": 1499,
         "PlayerName3_Defense": "Brandon Ingram",
         "PlayerId4_Defense": 2267,
         "PlayerName4_Defense": "Zion Williamson",
         "PlayerId5_Defense": 1231,
         "PlayerName5_Defense": "Steven Adams",
         "Players_y": "Dejounte Murray, Patty Mills, DeMar DeRozan, LaMarcus Aldridge, Jakob Poeltl",
         "Possession_y": 0,
         "PlayerId_x": 1540,
         "Player_x": "Dejounte Murray",
         "LeagueId_x": "NBA",
         "SeasonYear_y": 2020,
         "GameTypeId_x": "S",
         "GP_y": 67,
         "GS_x": 67,
         "MP_x": 2139.31,
         "FGM_x": 441,
         "FGA_x": 974,
         "FG%_x": 0.452772073,
         "2FGM_x": 378,
         "2FGA_x": 775,
         "2FG%_x": 0.487741935,
         "3FGM_x": 63,
         "3FGA_x": 199,
         "3FG%_x": 0.316582914,
         "eFG%_x": 0.484599589,
         "TS%_x": 0.508732,
         "FTM_x": 106,
         "FTA_x": 134,
         "FT%_x": 0.791044776,
         "OR_x": 58,
         "DR_x": 415,
         "TR_x": 473,
         "AST_x": 363,
         "STL_x": 101,
         "BLK_x": 7,
         "TOV_x": 117,
         "PF_x": 135,
         "PTS_x": 1051,
         "BPM_O_x": -0.2,
         "BPM_D_x": 0.8,
         "BPM_x": 0.6,
         "EPM_O_x": "0.8800",
         "EPM_D_x": "1.0820",
         "EPM_x": "1.8840",
         "RPM_O_x": "-1.0100",
         "RPM_D_x": "2.3000",
         "RPM_x": "1.2900",
         "PlayerId_y": 608,
         "Player_y": "Patty Mills",
         "LeagueId_y": "NBA",
         "SeasonYear": 2020,
         "GameTypeId_y": "S",
         "GP": 68,
         "GS_y": 1,
         "MP_y": 1684.64,
         "FGM_y": 252,
         "FGA_y": 611,
         "FG%_y": 0.412438625,
         "2FGM_y": 91,
         "2FGA_y": 182,
         "2FG%_y": 0.5,
         "3FGM_y": 161,
         "3FGA_y": 429,
         "3FG%_y": 0.375291375,
         "eFG%_y": 0.543371522,
         "TS%_y": 0.57026,
         "FTM_y": 71,
         "FTA_y": 78,
         "FT%_y": 0.91025641,
         "OR_y": 18,
         "DR_y": 98,
         "TR_y": 116,
         "AST_y": 162,
         "STL_y": 42,
         "BLK_y": 3,
         "TOV_y": 66,
         "PF_y": 81,
         "PTS_y": 736,
         "BPM_O_y": 0.1,
         "BPM_D_y": -1.8,
         "BPM_y": -1.6,
         "EPM_O_y": "-0.7570",
         "EPM_D_y": "0.5690",
         "EPM_y": "-0.2610",
         "RPM_O_y": "1.7800",
         "RPM_D_y": "-2.6500",
         "RPM_y": "-0.8700",
         "_deepnote_index_column": 5
        },
        {
         "FloorLineupId_Offense": 227,
         "Players_x": "Jamal Murray, Gary Harris, Will Barton, Paul Millsap, Nikola Jokic",
         "ORTG": 123.24649298597194,
         "Points_x": 615,
         "Possession_x": 499,
         "GP_x": 16,
         "GameId": 417032,
         "GameDate_Only": "2020-12-23",
         "SeasonYear_x": 2020,
         "PlayByPlayId": 13362386,
         "EventNumber": 57,
         "Period": 1,
         "GameClock_Minutes": 7,
         "GameClock_Seconds": 36,
         "GameClock": "7:36",
         "Description": "[SAC] Bagley III Foul: Defense 3 Second (1 PF) (1 FTA) (D Collins)",
         "EventTypeId": 6,
         "EventType": "Foul",
         "ActionTypeIndex": 17,
         "ActionTypeName": "Defense 3 Second",
         "Points_y": 0,
         "PlayLength_Seconds": 13,
         "TeamScore_Offense": 14,
         "TeamId_Offense": 22,
         "TeamName_Offense": "Denver Nuggets",
         "PlayerId1_Offense": 1469,
         "PlayerName1_Offense": "Jamal Murray",
         "PlayerId2_Offense": 1278,
         "PlayerName2_Offense": "Gary Harris",
         "PlayerId3_Offense": 1086,
         "PlayerName3_Offense": "Will Barton",
         "PlayerId4_Offense": 464,
         "PlayerName4_Offense": "Paul Millsap",
         "PlayerId5_Offense": 1470,
         "PlayerName5_Offense": "Nikola Jokic",
         "TeamScore_Defense": 9,
         "TeamId_Defense": 61,
         "TeamName_Defense": "Sacramento Kings",
         "FloorLineupId_Defense": 110582,
         "PlayerId1_Defense": 1623,
         "PlayerName1_Defense": "Marvin Bagley III",
         "PlayerId2_Defense": 1106,
         "PlayerName2_Defense": "Harrison Barnes",
         "PlayerId3_Defense": 1424,
         "PlayerName3_Defense": "Buddy Hield",
         "PlayerId4_Defense": 1431,
         "PlayerName4_Defense": "Richaun Holmes",
         "PlayerId5_Defense": 1550,
         "PlayerName5_Defense": "De'Aaron Fox",
         "Players_y": "Jamal Murray, Gary Harris, Will Barton, Paul Millsap, Nikola Jokic",
         "Possession_y": 0,
         "PlayerId_x": 1469,
         "Player_x": "Jamal Murray",
         "LeagueId_x": "NBA",
         "SeasonYear_y": 2018,
         "GameTypeId_x": "S",
         "GP_y": 75,
         "GS_x": 74,
         "MP_x": 2447.13,
         "FGM_x": 513,
         "FGA_x": 1173,
         "FG%_x": 0.437340153,
         "2FGM_x": 361,
         "2FGA_x": 759,
         "2FG%_x": 0.475625823,
         "3FGM_x": 152,
         "3FGA_x": 414,
         "3FG%_x": 0.367149758,
         "eFG%_x": 0.502131287,
         "TS%_x": 0.537715,
         "FTM_x": 189,
         "FTA_x": 223,
         "FT%_x": 0.847533632,
         "OR_x": 65,
         "DR_x": 252,
         "TR_x": 317,
         "AST_x": 363,
         "STL_x": 67,
         "BLK_x": 27,
         "TOV_x": 158,
         "PF_x": 153,
         "PTS_x": 1367,
         "BPM_O_x": 1.4,
         "BPM_D_x": -0.8,
         "BPM_x": 0.6,
         "EPM_O_x": "2.0910",
         "EPM_D_x": "-0.1550",
         "EPM_x": "1.9860",
         "RPM_O_x": "0.2700",
         "RPM_D_x": "0.6000",
         "RPM_x": "0.8700",
         "PlayerId_y": 1278,
         "Player_y": "Gary Harris",
         "LeagueId_y": "NBA",
         "SeasonYear": 2018,
         "GameTypeId_y": "S",
         "GP": 57,
         "GS_y": 48,
         "MP_y": 1639.13,
         "FGM_y": 270,
         "FGA_y": 637,
         "FG%_y": 0.423861852,
         "2FGM_y": 188,
         "2FGA_y": 395,
         "2FG%_y": 0.475949367,
         "3FGM_y": 82,
         "3FGA_y": 242,
         "3FG%_y": 0.338842975,
         "eFG%_y": 0.488226059,
         "TS%_y": 0.526158,
         "FTM_y": 115,
         "FTA_y": 144,
         "FT%_y": 0.798611111,
         "OR_y": 41,
         "DR_y": 119,
         "TR_y": 160,
         "AST_y": 127,
         "STL_y": 55,
         "BLK_y": 19,
         "TOV_y": 68,
         "PF_y": 113,
         "PTS_y": 737,
         "BPM_O_y": -1.2,
         "BPM_D_y": -0.4,
         "BPM_y": -1.6,
         "EPM_O_y": "-0.7550",
         "EPM_D_y": "1.4870",
         "EPM_y": "0.7750",
         "RPM_O_y": "-0.5300",
         "RPM_D_y": "2.5400",
         "RPM_y": "2.0100",
         "_deepnote_index_column": 6
        },
        {
         "FloorLineupId_Offense": 227,
         "Players_x": "Jamal Murray, Gary Harris, Will Barton, Paul Millsap, Nikola Jokic",
         "ORTG": 123.24649298597194,
         "Points_x": 615,
         "Possession_x": 499,
         "GP_x": 16,
         "GameId": 417032,
         "GameDate_Only": "2020-12-23",
         "SeasonYear_x": 2020,
         "PlayByPlayId": 13362386,
         "EventNumber": 57,
         "Period": 1,
         "GameClock_Minutes": 7,
         "GameClock_Seconds": 36,
         "GameClock": "7:36",
         "Description": "[SAC] Bagley III Foul: Defense 3 Second (1 PF) (1 FTA) (D Collins)",
         "EventTypeId": 6,
         "EventType": "Foul",
         "ActionTypeIndex": 17,
         "ActionTypeName": "Defense 3 Second",
         "Points_y": 0,
         "PlayLength_Seconds": 13,
         "TeamScore_Offense": 14,
         "TeamId_Offense": 22,
         "TeamName_Offense": "Denver Nuggets",
         "PlayerId1_Offense": 1469,
         "PlayerName1_Offense": "Jamal Murray",
         "PlayerId2_Offense": 1278,
         "PlayerName2_Offense": "Gary Harris",
         "PlayerId3_Offense": 1086,
         "PlayerName3_Offense": "Will Barton",
         "PlayerId4_Offense": 464,
         "PlayerName4_Offense": "Paul Millsap",
         "PlayerId5_Offense": 1470,
         "PlayerName5_Offense": "Nikola Jokic",
         "TeamScore_Defense": 9,
         "TeamId_Defense": 61,
         "TeamName_Defense": "Sacramento Kings",
         "FloorLineupId_Defense": 110582,
         "PlayerId1_Defense": 1623,
         "PlayerName1_Defense": "Marvin Bagley III",
         "PlayerId2_Defense": 1106,
         "PlayerName2_Defense": "Harrison Barnes",
         "PlayerId3_Defense": 1424,
         "PlayerName3_Defense": "Buddy Hield",
         "PlayerId4_Defense": 1431,
         "PlayerName4_Defense": "Richaun Holmes",
         "PlayerId5_Defense": 1550,
         "PlayerName5_Defense": "De'Aaron Fox",
         "Players_y": "Jamal Murray, Gary Harris, Will Barton, Paul Millsap, Nikola Jokic",
         "Possession_y": 0,
         "PlayerId_x": 1469,
         "Player_x": "Jamal Murray",
         "LeagueId_x": "NBA",
         "SeasonYear_y": 2018,
         "GameTypeId_x": "S",
         "GP_y": 75,
         "GS_x": 74,
         "MP_x": 2447.13,
         "FGM_x": 513,
         "FGA_x": 1173,
         "FG%_x": 0.437340153,
         "2FGM_x": 361,
         "2FGA_x": 759,
         "2FG%_x": 0.475625823,
         "3FGM_x": 152,
         "3FGA_x": 414,
         "3FG%_x": 0.367149758,
         "eFG%_x": 0.502131287,
         "TS%_x": 0.537715,
         "FTM_x": 189,
         "FTA_x": 223,
         "FT%_x": 0.847533632,
         "OR_x": 65,
         "DR_x": 252,
         "TR_x": 317,
         "AST_x": 363,
         "STL_x": 67,
         "BLK_x": 27,
         "TOV_x": 158,
         "PF_x": 153,
         "PTS_x": 1367,
         "BPM_O_x": 1.4,
         "BPM_D_x": -0.8,
         "BPM_x": 0.6,
         "EPM_O_x": "2.0910",
         "EPM_D_x": "-0.1550",
         "EPM_x": "1.9860",
         "RPM_O_x": "0.2700",
         "RPM_D_x": "0.6000",
         "RPM_x": "0.8700",
         "PlayerId_y": 1278,
         "Player_y": "Gary Harris",
         "LeagueId_y": "NBA",
         "SeasonYear": 2019,
         "GameTypeId_y": "S",
         "GP": 56,
         "GS_y": 55,
         "MP_y": 1780.09,
         "FGM_y": 218,
         "FGA_y": 519,
         "FG%_y": 0.420038535,
         "2FGM_y": 148,
         "2FGA_y": 309,
         "2FG%_y": 0.478964401,
         "3FGM_y": 70,
         "3FGA_y": 210,
         "3FG%_y": 0.333333333,
         "eFG%_y": 0.487475915,
         "TS%_y": 0.519232,
         "FTM_y": 75,
         "FTA_y": 92,
         "FT%_y": 0.815217391,
         "OR_y": 26,
         "DR_y": 137,
         "TR_y": 163,
         "AST_y": 118,
         "STL_y": 76,
         "BLK_y": 14,
         "TOV_y": 60,
         "PF_y": 116,
         "PTS_y": 581,
         "BPM_O_y": -2.8,
         "BPM_D_y": 0.3,
         "BPM_y": -2.5,
         "EPM_O_y": "-2.4230",
         "EPM_D_y": "1.8880",
         "EPM_y": "-0.7570",
         "RPM_O_y": "-2.3500",
         "RPM_D_y": "1.9200",
         "RPM_y": "-0.4300",
         "_deepnote_index_column": 7
        },
        {
         "FloorLineupId_Offense": 227,
         "Players_x": "Jamal Murray, Gary Harris, Will Barton, Paul Millsap, Nikola Jokic",
         "ORTG": 123.24649298597194,
         "Points_x": 615,
         "Possession_x": 499,
         "GP_x": 16,
         "GameId": 417032,
         "GameDate_Only": "2020-12-23",
         "SeasonYear_x": 2020,
         "PlayByPlayId": 13362386,
         "EventNumber": 57,
         "Period": 1,
         "GameClock_Minutes": 7,
         "GameClock_Seconds": 36,
         "GameClock": "7:36",
         "Description": "[SAC] Bagley III Foul: Defense 3 Second (1 PF) (1 FTA) (D Collins)",
         "EventTypeId": 6,
         "EventType": "Foul",
         "ActionTypeIndex": 17,
         "ActionTypeName": "Defense 3 Second",
         "Points_y": 0,
         "PlayLength_Seconds": 13,
         "TeamScore_Offense": 14,
         "TeamId_Offense": 22,
         "TeamName_Offense": "Denver Nuggets",
         "PlayerId1_Offense": 1469,
         "PlayerName1_Offense": "Jamal Murray",
         "PlayerId2_Offense": 1278,
         "PlayerName2_Offense": "Gary Harris",
         "PlayerId3_Offense": 1086,
         "PlayerName3_Offense": "Will Barton",
         "PlayerId4_Offense": 464,
         "PlayerName4_Offense": "Paul Millsap",
         "PlayerId5_Offense": 1470,
         "PlayerName5_Offense": "Nikola Jokic",
         "TeamScore_Defense": 9,
         "TeamId_Defense": 61,
         "TeamName_Defense": "Sacramento Kings",
         "FloorLineupId_Defense": 110582,
         "PlayerId1_Defense": 1623,
         "PlayerName1_Defense": "Marvin Bagley III",
         "PlayerId2_Defense": 1106,
         "PlayerName2_Defense": "Harrison Barnes",
         "PlayerId3_Defense": 1424,
         "PlayerName3_Defense": "Buddy Hield",
         "PlayerId4_Defense": 1431,
         "PlayerName4_Defense": "Richaun Holmes",
         "PlayerId5_Defense": 1550,
         "PlayerName5_Defense": "De'Aaron Fox",
         "Players_y": "Jamal Murray, Gary Harris, Will Barton, Paul Millsap, Nikola Jokic",
         "Possession_y": 0,
         "PlayerId_x": 1469,
         "Player_x": "Jamal Murray",
         "LeagueId_x": "NBA",
         "SeasonYear_y": 2018,
         "GameTypeId_x": "S",
         "GP_y": 75,
         "GS_x": 74,
         "MP_x": 2447.13,
         "FGM_x": 513,
         "FGA_x": 1173,
         "FG%_x": 0.437340153,
         "2FGM_x": 361,
         "2FGA_x": 759,
         "2FG%_x": 0.475625823,
         "3FGM_x": 152,
         "3FGA_x": 414,
         "3FG%_x": 0.367149758,
         "eFG%_x": 0.502131287,
         "TS%_x": 0.537715,
         "FTM_x": 189,
         "FTA_x": 223,
         "FT%_x": 0.847533632,
         "OR_x": 65,
         "DR_x": 252,
         "TR_x": 317,
         "AST_x": 363,
         "STL_x": 67,
         "BLK_x": 27,
         "TOV_x": 158,
         "PF_x": 153,
         "PTS_x": 1367,
         "BPM_O_x": 1.4,
         "BPM_D_x": -0.8,
         "BPM_x": 0.6,
         "EPM_O_x": "2.0910",
         "EPM_D_x": "-0.1550",
         "EPM_x": "1.9860",
         "RPM_O_x": "0.2700",
         "RPM_D_x": "0.6000",
         "RPM_x": "0.8700",
         "PlayerId_y": 1278,
         "Player_y": "Gary Harris",
         "LeagueId_y": "NBA",
         "SeasonYear": 2020,
         "GameTypeId_y": "S",
         "GP": 39,
         "GS_y": 38,
         "MP_y": 1080.15,
         "FGM_y": 138,
         "FGA_y": 345,
         "FG%_y": 0.4,
         "2FGM_y": 90,
         "2FGA_y": 204,
         "2FG%_y": 0.44117647,
         "3FGM_y": 48,
         "3FGA_y": 141,
         "3FG%_y": 0.340425531,
         "eFG%_y": 0.469565217,
         "TS%_y": 0.511442,
         "FTM_y": 64,
         "FTA_y": 78,
         "FT%_y": 0.82051282,
         "OR_y": 21,
         "DR_y": 58,
         "TR_y": 79,
         "AST_y": 78,
         "STL_y": 28,
         "BLK_y": 11,
         "TOV_y": 37,
         "PF_y": 71,
         "PTS_y": 388,
         "BPM_O_y": -2.9,
         "BPM_D_y": -1.8,
         "BPM_y": -4.7,
         "EPM_O_y": "-1.8360",
         "EPM_D_y": "-0.5440",
         "EPM_y": "-2.3350",
         "RPM_O_y": "-2.5700",
         "RPM_D_y": "1.1400",
         "RPM_y": "-1.4300",
         "_deepnote_index_column": 8
        },
        {
         "FloorLineupId_Offense": 227,
         "Players_x": "Jamal Murray, Gary Harris, Will Barton, Paul Millsap, Nikola Jokic",
         "ORTG": 123.24649298597194,
         "Points_x": 615,
         "Possession_x": 499,
         "GP_x": 16,
         "GameId": 417032,
         "GameDate_Only": "2020-12-23",
         "SeasonYear_x": 2020,
         "PlayByPlayId": 13362386,
         "EventNumber": 57,
         "Period": 1,
         "GameClock_Minutes": 7,
         "GameClock_Seconds": 36,
         "GameClock": "7:36",
         "Description": "[SAC] Bagley III Foul: Defense 3 Second (1 PF) (1 FTA) (D Collins)",
         "EventTypeId": 6,
         "EventType": "Foul",
         "ActionTypeIndex": 17,
         "ActionTypeName": "Defense 3 Second",
         "Points_y": 0,
         "PlayLength_Seconds": 13,
         "TeamScore_Offense": 14,
         "TeamId_Offense": 22,
         "TeamName_Offense": "Denver Nuggets",
         "PlayerId1_Offense": 1469,
         "PlayerName1_Offense": "Jamal Murray",
         "PlayerId2_Offense": 1278,
         "PlayerName2_Offense": "Gary Harris",
         "PlayerId3_Offense": 1086,
         "PlayerName3_Offense": "Will Barton",
         "PlayerId4_Offense": 464,
         "PlayerName4_Offense": "Paul Millsap",
         "PlayerId5_Offense": 1470,
         "PlayerName5_Offense": "Nikola Jokic",
         "TeamScore_Defense": 9,
         "TeamId_Defense": 61,
         "TeamName_Defense": "Sacramento Kings",
         "FloorLineupId_Defense": 110582,
         "PlayerId1_Defense": 1623,
         "PlayerName1_Defense": "Marvin Bagley III",
         "PlayerId2_Defense": 1106,
         "PlayerName2_Defense": "Harrison Barnes",
         "PlayerId3_Defense": 1424,
         "PlayerName3_Defense": "Buddy Hield",
         "PlayerId4_Defense": 1431,
         "PlayerName4_Defense": "Richaun Holmes",
         "PlayerId5_Defense": 1550,
         "PlayerName5_Defense": "De'Aaron Fox",
         "Players_y": "Jamal Murray, Gary Harris, Will Barton, Paul Millsap, Nikola Jokic",
         "Possession_y": 0,
         "PlayerId_x": 1469,
         "Player_x": "Jamal Murray",
         "LeagueId_x": "NBA",
         "SeasonYear_y": 2019,
         "GameTypeId_x": "S",
         "GP_y": 59,
         "GS_x": 59,
         "MP_x": 1903.34,
         "FGM_x": 408,
         "FGA_x": 894,
         "FG%_x": 0.456375838,
         "2FGM_x": 296,
         "2FGA_x": 570,
         "2FG%_x": 0.519298245,
         "3FGM_x": 112,
         "3FGA_x": 324,
         "3FG%_x": 0.345679012,
         "eFG%_x": 0.519015659,
         "TS%_x": 0.559258,
         "FTM_x": 163,
         "FTA_x": 185,
         "FT%_x": 0.881081081,
         "OR_x": 45,
         "DR_x": 191,
         "TR_x": 236,
         "AST_x": 284,
         "STL_x": 67,
         "BLK_x": 17,
         "TOV_x": 127,
         "PF_x": 102,
         "PTS_x": 1091,
         "BPM_O_x": 2,
         "BPM_D_x": -0.8,
         "BPM_x": 1.2,
         "EPM_O_x": "2.1910",
         "EPM_D_x": "-0.9380",
         "EPM_x": "1.2800",
         "RPM_O_x": "-0.3900",
         "RPM_D_x": "1.3100",
         "RPM_x": "0.9100",
         "PlayerId_y": 1278,
         "Player_y": "Gary Harris",
         "LeagueId_y": "NBA",
         "SeasonYear": 2018,
         "GameTypeId_y": "S",
         "GP": 57,
         "GS_y": 48,
         "MP_y": 1639.13,
         "FGM_y": 270,
         "FGA_y": 637,
         "FG%_y": 0.423861852,
         "2FGM_y": 188,
         "2FGA_y": 395,
         "2FG%_y": 0.475949367,
         "3FGM_y": 82,
         "3FGA_y": 242,
         "3FG%_y": 0.338842975,
         "eFG%_y": 0.488226059,
         "TS%_y": 0.526158,
         "FTM_y": 115,
         "FTA_y": 144,
         "FT%_y": 0.798611111,
         "OR_y": 41,
         "DR_y": 119,
         "TR_y": 160,
         "AST_y": 127,
         "STL_y": 55,
         "BLK_y": 19,
         "TOV_y": 68,
         "PF_y": 113,
         "PTS_y": 737,
         "BPM_O_y": -1.2,
         "BPM_D_y": -0.4,
         "BPM_y": -1.6,
         "EPM_O_y": "-0.7550",
         "EPM_D_y": "1.4870",
         "EPM_y": "0.7750",
         "RPM_O_y": "-0.5300",
         "RPM_D_y": "2.5400",
         "RPM_y": "2.0100",
         "_deepnote_index_column": 9
        }
       ]
      },
      "text/plain": "        FloorLineupId_Offense  \\\n0                         120   \n1                         120   \n2                         120   \n3                         120   \n4                         120   \n...                       ...   \n122696                 375043   \n122697                 375043   \n122698                 375043   \n122699                 375044   \n122700                 375044   \n\n                                                Players_x   ORTG  Points_x  \\\n0       Dejounte Murray, Patty Mills, DeMar DeRozan, L...  100.0         2   \n1       Dejounte Murray, Patty Mills, DeMar DeRozan, L...  100.0         2   \n2       Dejounte Murray, Patty Mills, DeMar DeRozan, L...  100.0         2   \n3       Dejounte Murray, Patty Mills, DeMar DeRozan, L...  100.0         2   \n4       Dejounte Murray, Patty Mills, DeMar DeRozan, L...  100.0         2   \n...                                                   ...    ...       ...   \n122696  Talen Horton-Tucker, Marc Gasol, Jared Dudley,...   75.0         3   \n122697  Talen Horton-Tucker, Marc Gasol, Jared Dudley,...   75.0         3   \n122698  Talen Horton-Tucker, Marc Gasol, Jared Dudley,...   75.0         3   \n122699  Naji Marshall, James Nunnally, Nickeil Alexand...    0.0         0   \n122700  Naji Marshall, James Nunnally, Nickeil Alexand...    0.0         0   \n\n        Possession_x  GP_x  GameId GameDate_Only  SeasonYear_x  PlayByPlayId  \\\n0                  2     1  417532    2021-02-27          2020      13638893   \n1                  2     1  417532    2021-02-27          2020      13638893   \n2                  2     1  417532    2021-02-27          2020      13638893   \n3                  2     1  417532    2021-02-27          2020      13638893   \n4                  2     1  417532    2021-02-27          2020      13638893   \n...              ...   ...     ...           ...           ...           ...   \n122696             4     1  422715    2021-05-16          2020      13953493   \n122697             4     1  422715    2021-05-16          2020      13953493   \n122698             4     1  422715    2021-05-16          2020      13953493   \n122699             2     1  422715    2021-05-16          2020      13953501   \n122700             2     1  422715    2021-05-16          2020      13953501   \n\n        ...  PTS_y  BPM_O_y  BPM_D_y  BPM_y  EPM_O_y  EPM_D_y    EPM_y  \\\n0       ...    811      0.4     -0.8   -0.3   0.9820  -0.7380   0.2700   \n1       ...    767      1.2     -1.2    0.0   1.7890  -0.2530   1.6820   \n2       ...    736      0.1     -1.8   -1.6  -0.7570   0.5690  -0.2610   \n3       ...    811      0.4     -0.8   -0.3   0.9820  -0.7380   0.2700   \n4       ...    767      1.2     -1.2    0.0   1.7890  -0.2530   1.6820   \n...     ...    ...      ...      ...    ...      ...      ...      ...   \n122696  ...   1071      0.8      2.3    3.1   0.9820   3.4980   4.3950   \n122697  ...    331     -1.2      2.8    1.6  -1.0500   3.9990   3.0920   \n122698  ...    262     -1.2      3.3    2.1  -1.3450   2.0930   0.7730   \n122699  ...     36     -1.9     -2.9   -4.8  -1.4440  -2.2900  -3.7190   \n122700  ...     15     -1.5     -1.5   -3.0  -1.8000  -2.6000  -4.5000   \n\n        RPM_O_y  RPM_D_y    RPM_y  \n0        1.8800  -1.6600   0.2100  \n1        3.3200  -1.7300   1.5900  \n2        1.7800  -2.6500  -0.8700  \n3        1.8800  -1.6600   0.2100  \n4        3.3200  -1.7300   1.5900  \n...         ...      ...      ...  \n122696  -0.2100   2.6300   2.4200  \n122697  -1.3400   3.4200   2.0800  \n122698  -2.0700   1.3700  -0.7000  \n122699  -1.4900   2.0300   0.5400  \n122700  -0.1400  -1.4500  -1.5900  \n\n[122701 rows x 131 columns]",
      "text/html": "<div>\n<style scoped>\n    .dataframe tbody tr th:only-of-type {\n        vertical-align: middle;\n    }\n\n    .dataframe tbody tr th {\n        vertical-align: top;\n    }\n\n    .dataframe thead th {\n        text-align: right;\n    }\n</style>\n<table border=\"1\" class=\"dataframe\">\n  <thead>\n    <tr style=\"text-align: right;\">\n      <th></th>\n      <th>FloorLineupId_Offense</th>\n      <th>Players_x</th>\n      <th>ORTG</th>\n      <th>Points_x</th>\n      <th>Possession_x</th>\n      <th>GP_x</th>\n      <th>GameId</th>\n      <th>GameDate_Only</th>\n      <th>SeasonYear_x</th>\n      <th>PlayByPlayId</th>\n      <th>...</th>\n      <th>PTS_y</th>\n      <th>BPM_O_y</th>\n      <th>BPM_D_y</th>\n      <th>BPM_y</th>\n      <th>EPM_O_y</th>\n      <th>EPM_D_y</th>\n      <th>EPM_y</th>\n      <th>RPM_O_y</th>\n      <th>RPM_D_y</th>\n      <th>RPM_y</th>\n    </tr>\n  </thead>\n  <tbody>\n    <tr>\n      <th>0</th>\n      <td>120</td>\n      <td>Dejounte Murray, Patty Mills, DeMar DeRozan, L...</td>\n      <td>100.0</td>\n      <td>2</td>\n      <td>2</td>\n      <td>1</td>\n      <td>417532</td>\n      <td>2021-02-27</td>\n      <td>2020</td>\n      <td>13638893</td>\n      <td>...</td>\n      <td>811</td>\n      <td>0.4</td>\n      <td>-0.8</td>\n      <td>-0.3</td>\n      <td>0.9820</td>\n      <td>-0.7380</td>\n      <td>0.2700</td>\n      <td>1.8800</td>\n      <td>-1.6600</td>\n      <td>0.2100</td>\n    </tr>\n    <tr>\n      <th>1</th>\n      <td>120</td>\n      <td>Dejounte Murray, Patty Mills, DeMar DeRozan, L...</td>\n      <td>100.0</td>\n      <td>2</td>\n      <td>2</td>\n      <td>1</td>\n      <td>417532</td>\n      <td>2021-02-27</td>\n      <td>2020</td>\n      <td>13638893</td>\n      <td>...</td>\n      <td>767</td>\n      <td>1.2</td>\n      <td>-1.2</td>\n      <td>0.0</td>\n      <td>1.7890</td>\n      <td>-0.2530</td>\n      <td>1.6820</td>\n      <td>3.3200</td>\n      <td>-1.7300</td>\n      <td>1.5900</td>\n    </tr>\n    <tr>\n      <th>2</th>\n      <td>120</td>\n      <td>Dejounte Murray, Patty Mills, DeMar DeRozan, L...</td>\n      <td>100.0</td>\n      <td>2</td>\n      <td>2</td>\n      <td>1</td>\n      <td>417532</td>\n      <td>2021-02-27</td>\n      <td>2020</td>\n      <td>13638893</td>\n      <td>...</td>\n      <td>736</td>\n      <td>0.1</td>\n      <td>-1.8</td>\n      <td>-1.6</td>\n      <td>-0.7570</td>\n      <td>0.5690</td>\n      <td>-0.2610</td>\n      <td>1.7800</td>\n      <td>-2.6500</td>\n      <td>-0.8700</td>\n    </tr>\n    <tr>\n      <th>3</th>\n      <td>120</td>\n      <td>Dejounte Murray, Patty Mills, DeMar DeRozan, L...</td>\n      <td>100.0</td>\n      <td>2</td>\n      <td>2</td>\n      <td>1</td>\n      <td>417532</td>\n      <td>2021-02-27</td>\n      <td>2020</td>\n      <td>13638893</td>\n      <td>...</td>\n      <td>811</td>\n      <td>0.4</td>\n      <td>-0.8</td>\n      <td>-0.3</td>\n      <td>0.9820</td>\n      <td>-0.7380</td>\n      <td>0.2700</td>\n      <td>1.8800</td>\n      <td>-1.6600</td>\n      <td>0.2100</td>\n    </tr>\n    <tr>\n      <th>4</th>\n      <td>120</td>\n      <td>Dejounte Murray, Patty Mills, DeMar DeRozan, L...</td>\n      <td>100.0</td>\n      <td>2</td>\n      <td>2</td>\n      <td>1</td>\n      <td>417532</td>\n      <td>2021-02-27</td>\n      <td>2020</td>\n      <td>13638893</td>\n      <td>...</td>\n      <td>767</td>\n      <td>1.2</td>\n      <td>-1.2</td>\n      <td>0.0</td>\n      <td>1.7890</td>\n      <td>-0.2530</td>\n      <td>1.6820</td>\n      <td>3.3200</td>\n      <td>-1.7300</td>\n      <td>1.5900</td>\n    </tr>\n    <tr>\n      <th>...</th>\n      <td>...</td>\n      <td>...</td>\n      <td>...</td>\n      <td>...</td>\n      <td>...</td>\n      <td>...</td>\n      <td>...</td>\n      <td>...</td>\n      <td>...</td>\n      <td>...</td>\n      <td>...</td>\n      <td>...</td>\n      <td>...</td>\n      <td>...</td>\n      <td>...</td>\n      <td>...</td>\n      <td>...</td>\n      <td>...</td>\n      <td>...</td>\n      <td>...</td>\n      <td>...</td>\n    </tr>\n    <tr>\n      <th>122696</th>\n      <td>375043</td>\n      <td>Talen Horton-Tucker, Marc Gasol, Jared Dudley,...</td>\n      <td>75.0</td>\n      <td>3</td>\n      <td>4</td>\n      <td>1</td>\n      <td>422715</td>\n      <td>2021-05-16</td>\n      <td>2020</td>\n      <td>13953493</td>\n      <td>...</td>\n      <td>1071</td>\n      <td>0.8</td>\n      <td>2.3</td>\n      <td>3.1</td>\n      <td>0.9820</td>\n      <td>3.4980</td>\n      <td>4.3950</td>\n      <td>-0.2100</td>\n      <td>2.6300</td>\n      <td>2.4200</td>\n    </tr>\n    <tr>\n      <th>122697</th>\n      <td>375043</td>\n      <td>Talen Horton-Tucker, Marc Gasol, Jared Dudley,...</td>\n      <td>75.0</td>\n      <td>3</td>\n      <td>4</td>\n      <td>1</td>\n      <td>422715</td>\n      <td>2021-05-16</td>\n      <td>2020</td>\n      <td>13953493</td>\n      <td>...</td>\n      <td>331</td>\n      <td>-1.2</td>\n      <td>2.8</td>\n      <td>1.6</td>\n      <td>-1.0500</td>\n      <td>3.9990</td>\n      <td>3.0920</td>\n      <td>-1.3400</td>\n      <td>3.4200</td>\n      <td>2.0800</td>\n    </tr>\n    <tr>\n      <th>122698</th>\n      <td>375043</td>\n      <td>Talen Horton-Tucker, Marc Gasol, Jared Dudley,...</td>\n      <td>75.0</td>\n      <td>3</td>\n      <td>4</td>\n      <td>1</td>\n      <td>422715</td>\n      <td>2021-05-16</td>\n      <td>2020</td>\n      <td>13953493</td>\n      <td>...</td>\n      <td>262</td>\n      <td>-1.2</td>\n      <td>3.3</td>\n      <td>2.1</td>\n      <td>-1.3450</td>\n      <td>2.0930</td>\n      <td>0.7730</td>\n      <td>-2.0700</td>\n      <td>1.3700</td>\n      <td>-0.7000</td>\n    </tr>\n    <tr>\n      <th>122699</th>\n      <td>375044</td>\n      <td>Naji Marshall, James Nunnally, Nickeil Alexand...</td>\n      <td>0.0</td>\n      <td>0</td>\n      <td>2</td>\n      <td>1</td>\n      <td>422715</td>\n      <td>2021-05-16</td>\n      <td>2020</td>\n      <td>13953501</td>\n      <td>...</td>\n      <td>36</td>\n      <td>-1.9</td>\n      <td>-2.9</td>\n      <td>-4.8</td>\n      <td>-1.4440</td>\n      <td>-2.2900</td>\n      <td>-3.7190</td>\n      <td>-1.4900</td>\n      <td>2.0300</td>\n      <td>0.5400</td>\n    </tr>\n    <tr>\n      <th>122700</th>\n      <td>375044</td>\n      <td>Naji Marshall, James Nunnally, Nickeil Alexand...</td>\n      <td>0.0</td>\n      <td>0</td>\n      <td>2</td>\n      <td>1</td>\n      <td>422715</td>\n      <td>2021-05-16</td>\n      <td>2020</td>\n      <td>13953501</td>\n      <td>...</td>\n      <td>15</td>\n      <td>-1.5</td>\n      <td>-1.5</td>\n      <td>-3.0</td>\n      <td>-1.8000</td>\n      <td>-2.6000</td>\n      <td>-4.5000</td>\n      <td>-0.1400</td>\n      <td>-1.4500</td>\n      <td>-1.5900</td>\n    </tr>\n  </tbody>\n</table>\n<p>122701 rows × 131 columns</p>\n</div>"
     },
     "metadata": {}
    }
   ]
  },
  {
   "cell_type": "code",
   "metadata": {
    "cell_id": "0832ced7-5d22-49c0-b364-f3723708997f",
    "tags": [],
    "deepnote_to_be_reexecuted": false,
    "source_hash": "c9d2f67b",
    "execution_start": 1647474477211,
    "execution_millis": 4074,
    "deepnote_cell_type": "code",
    "deepnote_cell_height": 81
   },
   "source": "import seaborn as sns",
   "execution_count": null,
   "outputs": []
  },
  {
   "cell_type": "code",
   "metadata": {
    "cell_id": "1a8be6f1-f1e0-4828-bed3-44b3015bd212",
    "tags": [],
    "deepnote_cell_type": "code",
    "deepnote_cell_height": 66
   },
   "source": "",
   "execution_count": null,
   "outputs": []
  },
  {
   "cell_type": "markdown",
   "source": "<a style='text-decoration:none;line-height:16px;display:flex;color:#5B5B62;padding:10px;justify-content:end;' href='https://deepnote.com?utm_source=created-in-deepnote-cell&projectId=5315bb81-8e59-4c5b-821c-2b4f7eb9c2e2' target=\"_blank\">\n<img alt='Created in deepnote.com' style='display:inline;max-height:16px;margin:0px;margin-right:7.5px;' src='data:image/svg+xml;base64,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' > </img>\nCreated in <span style='font-weight:600;margin-left:4px;'>Deepnote</span></a>",
   "metadata": {
    "tags": [],
    "created_in_deepnote_cell": true,
    "deepnote_cell_type": "markdown"
   }
  }
 ],
 "nbformat": 4,
 "nbformat_minor": 2,
 "metadata": {
  "orig_nbformat": 2,
  "deepnote": {
   "is_reactive": false
  },
  "deepnote_notebook_id": "db635d08-7e29-4c84-8912-d20ba59ef91a",
  "deepnote_execution_queue": []
 }
}