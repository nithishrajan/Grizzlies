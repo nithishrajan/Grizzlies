{
 "cells": [
  {
   "cell_type": "code",
   "metadata": {
    "tags": [],
    "deepnote_to_be_reexecuted": false,
    "source_hash": "c76c7c51",
    "execution_start": 1647572651263,
    "execution_millis": 2,
    "cell_id": "89d75603-31fe-43f7-a141-6c374d356767",
    "owner_user_id": "f15e0aec-e3fd-45cb-b701-f4b78187aeaa",
    "deepnote_cell_type": "code",
    "deepnote_cell_height": 99
   },
   "source": "import pandas as pd\nimport numpy as np",
   "execution_count": null,
   "outputs": []
  },
  {
   "cell_type": "code",
   "metadata": {
    "tags": [],
    "deepnote_to_be_reexecuted": false,
    "source_hash": "38f63499",
    "execution_start": 1647572651892,
    "execution_millis": 899,
    "deepnote_table_state": {
     "pageSize": 10,
     "pageIndex": 0,
     "filters": [],
     "sortBy": [
      {
       "id": "SeasonYear",
       "type": "desc"
      }
     ]
    },
    "deepnote_table_loading": false,
    "deepnote_table_invalid": false,
    "cell_id": "00002-852f2530-e57d-40fc-9d07-4cfb09ef89c2",
    "deepnote_cell_type": "code",
    "deepnote_cell_height": 189.1875
   },
   "source": "play_by_play = pd.read_csv('PlayByPlay.csv')",
   "execution_count": null,
   "outputs": [
    {
     "output_type": "error",
     "ename": "KernelInterrupted",
     "evalue": "Execution interrupted by the Jupyter kernel.",
     "traceback": [
      "\u001b[0;31m---------------------------------------------------------------------------\u001b[0m",
      "\u001b[0;31mKernelInterrupted\u001b[0m: Execution interrupted by the Jupyter kernel."
     ]
    }
   ]
  },
  {
   "cell_type": "code",
   "metadata": {
    "cell_id": "2aa10a7d-ae1f-42a1-8d7f-619f8d4436d6",
    "tags": [],
    "deepnote_to_be_reexecuted": true,
    "source_hash": "999b7096",
    "deepnote_cell_type": "code",
    "deepnote_cell_height": 81
   },
   "source": "play_by_play.head()",
   "execution_count": null,
   "outputs": []
  },
  {
   "cell_type": "code",
   "metadata": {
    "tags": [],
    "deepnote_to_be_reexecuted": false,
    "source_hash": "4ddb9497",
    "execution_start": 1646906313703,
    "execution_millis": 54919,
    "deepnote_table_state": {
     "pageSize": 10,
     "pageIndex": 1,
     "filters": [],
     "sortBy": []
    },
    "deepnote_table_loading": false,
    "cell_id": "00004-eb5195dd-1d70-43c1-b23e-a69c207e034d",
    "deepnote_cell_type": "code",
    "deepnote_cell_height": 1266
   },
   "source": "# only look at 2020 to make dataframe way smaller, delete this later\nplay_by_play1 = play_by_play[play_by_play['SeasonYear'] == 2020]\n\ncols = ['GameId', 'SeasonYear', 'PlayByPlayId', 'EventNumber',\n       'Period', 'GameClock', 'Description', 'EventTypeId', 'EventType', 'ActionTypeIndex',\n       'ActionTypeName', 'Points', 'PlayLength_Seconds', 'TeamScore_Offense',\n       'TeamId_Offense', 'TeamName_Offense', 'FloorLineupId_Offense',  'TeamId_Defense',\n       'TeamName_Defense', 'FloorLineupId_Defense',  'PlayerId1_Offense', \n       'PlayerName1_Defense', 'PlayerName2_Defense', 'PlayerName3_Defense', 'PlayerName4_Defense','PlayerName5_Defense'\n       ]\n       \nplay_by_play1 = play_by_play1[cols]\n\n# combine offensive players into single col\nplayers_defense = play_by_play1.iloc[:, -5:].agg(', '.join, axis=1)\n\ncols1 = ['GameId', 'SeasonYear', 'PlayByPlayId', 'EventNumber',\n       'Period', 'GameClock', 'Description', 'EventTypeId', 'EventType', 'ActionTypeIndex',\n       'ActionTypeName', 'Points', 'PlayLength_Seconds', 'TeamScore_Offense',\n       'TeamId_Offense', 'TeamName_Offense', 'FloorLineupId_Offense',  'TeamId_Defense',\n       'TeamName_Defense', 'FloorLineupId_Defense',  'PlayerId1_Offense', \n       'PlayerName1_Offense', 'PlayerName2_Offense', 'PlayerName3_Offense', 'PlayerName4_Offense','PlayerName5_Offense']\n\nplay_by_play1 = play_by_play[play_by_play['SeasonYear'] == 2020]\nplay_by_play1 = play_by_play1[cols1]\nplayers_offense = play_by_play1.iloc[:, -5:].agg(', '.join, axis=1)\n\nplay_by_play1['Players_Offense'] = players_offense\nplay_by_play1['Players_Defense'] = players_defense\n\ncols2 = ['GameId', 'SeasonYear', 'PlayByPlayId', 'EventNumber',\n       'Period', 'GameClock', 'Description', 'EventTypeId', 'EventType', 'ActionTypeIndex',\n       'ActionTypeName', 'Points', 'PlayLength_Seconds', 'TeamScore_Offense',\n       'TeamId_Offense', 'TeamName_Offense', 'FloorLineupId_Offense',  'TeamId_Defense',\n       'TeamName_Defense', 'FloorLineupId_Defense', 'Players_Offense', 'Players_Defense']\nplay_by_play1 = play_by_play1[cols2]\n\nplay_by_play1",
   "execution_count": null,
   "outputs": [
    {
     "output_type": "execute_result",
     "execution_count": 5,
     "data": {
      "application/vnd.deepnote.dataframe.v3+json": {
       "column_count": 22,
       "row_count": 509605,
       "columns": [
        {
         "name": "GameId",
         "dtype": "int64"
        },
        {
         "name": "SeasonYear",
         "dtype": "int64"
        },
        {
         "name": "PlayByPlayId",
         "dtype": "int64"
        },
        {
         "name": "EventNumber",
         "dtype": "int64"
        },
        {
         "name": "Period",
         "dtype": "int64"
        },
        {
         "name": "GameClock",
         "dtype": "object"
        },
        {
         "name": "Description",
         "dtype": "object"
        },
        {
         "name": "EventTypeId",
         "dtype": "int64"
        },
        {
         "name": "EventType",
         "dtype": "object"
        },
        {
         "name": "ActionTypeIndex",
         "dtype": "int64"
        },
        {
         "name": "ActionTypeName",
         "dtype": "object"
        },
        {
         "name": "Points",
         "dtype": "int64"
        },
        {
         "name": "PlayLength_Seconds",
         "dtype": "int64"
        },
        {
         "name": "TeamScore_Offense",
         "dtype": "int64"
        },
        {
         "name": "TeamId_Offense",
         "dtype": "int64"
        },
        {
         "name": "TeamName_Offense",
         "dtype": "object"
        },
        {
         "name": "FloorLineupId_Offense",
         "dtype": "int64"
        },
        {
         "name": "TeamId_Defense",
         "dtype": "int64"
        },
        {
         "name": "TeamName_Defense",
         "dtype": "object"
        },
        {
         "name": "FloorLineupId_Defense",
         "dtype": "int64"
        },
        {
         "name": "Players_Offense",
         "dtype": "object"
        },
        {
         "name": "Players_Defense",
         "dtype": "object"
        },
        {
         "name": "_deepnote_index_column",
         "dtype": "int64"
        }
       ],
       "rows": [
        {
         "GameId": 416144,
         "SeasonYear": 2020,
         "PlayByPlayId": 13357934,
         "EventNumber": 20,
         "Period": 1,
         "GameClock": "10:23",
         "Description": "[BKN 7-4] Durant Pullup Jump shot: Made (5 PTS)",
         "EventTypeId": 1,
         "EventType": "Made Shot",
         "ActionTypeIndex": 79,
         "ActionTypeName": "Pullup Jump shot",
         "Points": 2,
         "PlayLength_Seconds": 2,
         "TeamScore_Offense": 7,
         "TeamId_Offense": 7,
         "TeamName_Offense": "Brooklyn Nets",
         "FloorLineupId_Offense": 349512,
         "TeamId_Defense": 27,
         "TeamName_Defense": "Golden State Warriors",
         "FloorLineupId_Defense": 350841,
         "Players_Offense": "Spencer Dinwiddie, Kyrie Irving, Joe Harris, Kevin Durant, DeAndre Jordan",
         "Players_Defense": "Kelly Oubre Jr., Stephen Curry, Andrew Wiggins, Eric Paschall, James Wiseman",
         "_deepnote_index_column": 1109883
        },
        {
         "GameId": 416144,
         "SeasonYear": 2020,
         "PlayByPlayId": 13357935,
         "EventNumber": 21,
         "Period": 1,
         "GameClock": "10:16",
         "Description": "[GSW] Curry 3pt Shot: Missed",
         "EventTypeId": 2,
         "EventType": "Missed Shot",
         "ActionTypeIndex": 79,
         "ActionTypeName": "Pullup Jump shot",
         "Points": 0,
         "PlayLength_Seconds": 7,
         "TeamScore_Offense": 4,
         "TeamId_Offense": 27,
         "TeamName_Offense": "Golden State Warriors",
         "FloorLineupId_Offense": 350841,
         "TeamId_Defense": 7,
         "TeamName_Defense": "Brooklyn Nets",
         "FloorLineupId_Defense": 349512,
         "Players_Offense": "Kelly Oubre Jr., Stephen Curry, Andrew Wiggins, Eric Paschall, James Wiseman",
         "Players_Defense": "Spencer Dinwiddie, Kyrie Irving, Joe Harris, Kevin Durant, DeAndre Jordan",
         "_deepnote_index_column": 1109884
        },
        {
         "GameId": 416144,
         "SeasonYear": 2020,
         "PlayByPlayId": 13357936,
         "EventNumber": 22,
         "Period": 1,
         "GameClock": "10:16",
         "Description": "[BKN] Jordan Rebound (Off:0 Def:1)",
         "EventTypeId": 4,
         "EventType": "Rebound",
         "ActionTypeIndex": 0,
         "ActionTypeName": "Rebound",
         "Points": 0,
         "PlayLength_Seconds": 0,
         "TeamScore_Offense": 4,
         "TeamId_Offense": 27,
         "TeamName_Offense": "Golden State Warriors",
         "FloorLineupId_Offense": 350841,
         "TeamId_Defense": 7,
         "TeamName_Defense": "Brooklyn Nets",
         "FloorLineupId_Defense": 349512,
         "Players_Offense": "Kelly Oubre Jr., Stephen Curry, Andrew Wiggins, Eric Paschall, James Wiseman",
         "Players_Defense": "Spencer Dinwiddie, Kyrie Irving, Joe Harris, Kevin Durant, DeAndre Jordan",
         "_deepnote_index_column": 1109885
        },
        {
         "GameId": 416144,
         "SeasonYear": 2020,
         "PlayByPlayId": 13357937,
         "EventNumber": 23,
         "Period": 1,
         "GameClock": "10:09",
         "Description": "[BKN 10-4] Harris 3pt Shot: Made (3 PTS) Assist: Dinwiddie (1 AST)",
         "EventTypeId": 1,
         "EventType": "Made Shot",
         "ActionTypeIndex": 1,
         "ActionTypeName": "Jump Shot",
         "Points": 3,
         "PlayLength_Seconds": 7,
         "TeamScore_Offense": 10,
         "TeamId_Offense": 7,
         "TeamName_Offense": "Brooklyn Nets",
         "FloorLineupId_Offense": 349512,
         "TeamId_Defense": 27,
         "TeamName_Defense": "Golden State Warriors",
         "FloorLineupId_Defense": 350841,
         "Players_Offense": "Spencer Dinwiddie, Kyrie Irving, Joe Harris, Kevin Durant, DeAndre Jordan",
         "Players_Defense": "Kelly Oubre Jr., Stephen Curry, Andrew Wiggins, Eric Paschall, James Wiseman",
         "_deepnote_index_column": 1109886
        },
        {
         "GameId": 416144,
         "SeasonYear": 2020,
         "PlayByPlayId": 13357938,
         "EventNumber": 25,
         "Period": 1,
         "GameClock": "9:57",
         "Description": "[GSW] Wiggins 3pt Shot: Missed",
         "EventTypeId": 2,
         "EventType": "Missed Shot",
         "ActionTypeIndex": 1,
         "ActionTypeName": "Jump Shot",
         "Points": 0,
         "PlayLength_Seconds": 12,
         "TeamScore_Offense": 4,
         "TeamId_Offense": 27,
         "TeamName_Offense": "Golden State Warriors",
         "FloorLineupId_Offense": 350841,
         "TeamId_Defense": 7,
         "TeamName_Defense": "Brooklyn Nets",
         "FloorLineupId_Defense": 349512,
         "Players_Offense": "Kelly Oubre Jr., Stephen Curry, Andrew Wiggins, Eric Paschall, James Wiseman",
         "Players_Defense": "Spencer Dinwiddie, Kyrie Irving, Joe Harris, Kevin Durant, DeAndre Jordan",
         "_deepnote_index_column": 1109887
        },
        {
         "GameId": 416144,
         "SeasonYear": 2020,
         "PlayByPlayId": 13357939,
         "EventNumber": 26,
         "Period": 1,
         "GameClock": "9:51",
         "Description": "[BKN] Irving Rebound (Off:0 Def:1)",
         "EventTypeId": 4,
         "EventType": "Rebound",
         "ActionTypeIndex": 0,
         "ActionTypeName": "Rebound",
         "Points": 0,
         "PlayLength_Seconds": 6,
         "TeamScore_Offense": 4,
         "TeamId_Offense": 27,
         "TeamName_Offense": "Golden State Warriors",
         "FloorLineupId_Offense": 350841,
         "TeamId_Defense": 7,
         "TeamName_Defense": "Brooklyn Nets",
         "FloorLineupId_Defense": 349512,
         "Players_Offense": "Kelly Oubre Jr., Stephen Curry, Andrew Wiggins, Eric Paschall, James Wiseman",
         "Players_Defense": "Spencer Dinwiddie, Kyrie Irving, Joe Harris, Kevin Durant, DeAndre Jordan",
         "_deepnote_index_column": 1109888
        },
        {
         "GameId": 416144,
         "SeasonYear": 2020,
         "PlayByPlayId": 13357940,
         "EventNumber": 27,
         "Period": 1,
         "GameClock": "9:49",
         "Description": "[BKN] Dinwiddie 3pt Shot: Missed",
         "EventTypeId": 2,
         "EventType": "Missed Shot",
         "ActionTypeIndex": 1,
         "ActionTypeName": "Jump Shot",
         "Points": 0,
         "PlayLength_Seconds": 2,
         "TeamScore_Offense": 10,
         "TeamId_Offense": 7,
         "TeamName_Offense": "Brooklyn Nets",
         "FloorLineupId_Offense": 349512,
         "TeamId_Defense": 27,
         "TeamName_Defense": "Golden State Warriors",
         "FloorLineupId_Defense": 350841,
         "Players_Offense": "Spencer Dinwiddie, Kyrie Irving, Joe Harris, Kevin Durant, DeAndre Jordan",
         "Players_Defense": "Kelly Oubre Jr., Stephen Curry, Andrew Wiggins, Eric Paschall, James Wiseman",
         "_deepnote_index_column": 1109889
        },
        {
         "GameId": 416144,
         "SeasonYear": 2020,
         "PlayByPlayId": 13357941,
         "EventNumber": 28,
         "Period": 1,
         "GameClock": "9:44",
         "Description": "[GSW] Oubre Jr. Rebound (Off:0 Def:1)",
         "EventTypeId": 4,
         "EventType": "Rebound",
         "ActionTypeIndex": 0,
         "ActionTypeName": "Rebound",
         "Points": 0,
         "PlayLength_Seconds": 5,
         "TeamScore_Offense": 10,
         "TeamId_Offense": 7,
         "TeamName_Offense": "Brooklyn Nets",
         "FloorLineupId_Offense": 349512,
         "TeamId_Defense": 27,
         "TeamName_Defense": "Golden State Warriors",
         "FloorLineupId_Defense": 350841,
         "Players_Offense": "Spencer Dinwiddie, Kyrie Irving, Joe Harris, Kevin Durant, DeAndre Jordan",
         "Players_Defense": "Kelly Oubre Jr., Stephen Curry, Andrew Wiggins, Eric Paschall, James Wiseman",
         "_deepnote_index_column": 1109890
        },
        {
         "GameId": 416144,
         "SeasonYear": 2020,
         "PlayByPlayId": 13357942,
         "EventNumber": 29,
         "Period": 1,
         "GameClock": "9:38",
         "Description": "[GSW 6-10] Curry Cutting Layup Shot: Made (4 PTS) Assist: Oubre Jr. (1 AST)",
         "EventTypeId": 1,
         "EventType": "Made Shot",
         "ActionTypeIndex": 98,
         "ActionTypeName": "Cutting Layup Shot",
         "Points": 2,
         "PlayLength_Seconds": 6,
         "TeamScore_Offense": 6,
         "TeamId_Offense": 27,
         "TeamName_Offense": "Golden State Warriors",
         "FloorLineupId_Offense": 350841,
         "TeamId_Defense": 7,
         "TeamName_Defense": "Brooklyn Nets",
         "FloorLineupId_Defense": 349512,
         "Players_Offense": "Kelly Oubre Jr., Stephen Curry, Andrew Wiggins, Eric Paschall, James Wiseman",
         "Players_Defense": "Spencer Dinwiddie, Kyrie Irving, Joe Harris, Kevin Durant, DeAndre Jordan",
         "_deepnote_index_column": 1109891
        },
        {
         "GameId": 416144,
         "SeasonYear": 2020,
         "PlayByPlayId": 13357943,
         "EventNumber": 31,
         "Period": 1,
         "GameClock": "9:30",
         "Description": "[BKN] Harris 3pt Shot: Missed",
         "EventTypeId": 2,
         "EventType": "Missed Shot",
         "ActionTypeIndex": 1,
         "ActionTypeName": "Jump Shot",
         "Points": 0,
         "PlayLength_Seconds": 8,
         "TeamScore_Offense": 10,
         "TeamId_Offense": 7,
         "TeamName_Offense": "Brooklyn Nets",
         "FloorLineupId_Offense": 349512,
         "TeamId_Defense": 27,
         "TeamName_Defense": "Golden State Warriors",
         "FloorLineupId_Defense": 350841,
         "Players_Offense": "Spencer Dinwiddie, Kyrie Irving, Joe Harris, Kevin Durant, DeAndre Jordan",
         "Players_Defense": "Kelly Oubre Jr., Stephen Curry, Andrew Wiggins, Eric Paschall, James Wiseman",
         "_deepnote_index_column": 1109892
        }
       ]
      },
      "text/plain": "         GameId  SeasonYear  PlayByPlayId  EventNumber  Period GameClock  \\\n1109873  416144        2020      13357924            4       1     11:58   \n1109874  416144        2020      13357925            7       1     11:50   \n1109875  416144        2020      13357926            8       1     11:38   \n1109876  416144        2020      13357927           10       1     11:38   \n1109877  416144        2020      13357928           11       1     11:38   \n...         ...         ...           ...          ...     ...       ...   \n1619473  422723        2020      13948224          678       4      0:10   \n1619474  422723        2020      13948225          679       4      0:07   \n1619475  422723        2020      13948226          681       4      0:03   \n1619476  422723        2020      13948227          682       4      0:03   \n1619477  422723        2020      13948228          683       4      0:00   \n\n                                               Description  EventTypeId  \\\n1109873                        Jump Ball Jordan vs Wiseman           10   \n1109874  [BKN] Jordan Turnover : Out of Bounds - Bad Pa...            5   \n1109875  [BKN] Irving Foul: Shooting (1 PF) (2 FTA) (S ...            6   \n1109876          [GSW 1-0] Curry Free Throw 1 of 2 (1 PTS)            3   \n1109877          [GSW 2-0] Curry Free Throw 2 of 2 (2 PTS)            3   \n...                                                    ...          ...   \n1619473      [WAS 115-110] Beal Free Throw 2 of 2 (25 PTS)            3   \n1619474  [WAS] Westbrook Foul: Personal (4 PF) (L Richa...            6   \n1619475                      [CHA] Rozier 3pt Shot: Missed            2   \n1619476                  [WAS] Smith Rebound (Off:1 Def:7)            4   \n1619477                                         End Period           13   \n\n           EventType  ActionTypeIndex  ... PlayLength_Seconds  \\\n1109873    Jump Ball                0  ...                  2   \n1109874     Turnover               45  ...                  8   \n1109875         Foul                2  ...                 12   \n1109876   Free Throw               11  ...                  0   \n1109877   Free Throw               12  ...                  0   \n...              ...              ...  ...                ...   \n1619473   Free Throw               12  ...                  0   \n1619474         Foul                1  ...                  3   \n1619475  Missed Shot               79  ...                  4   \n1619476      Rebound                0  ...                  0   \n1619477   End Period                0  ...                  3   \n\n         TeamScore_Offense  TeamId_Offense       TeamName_Offense  \\\n1109873                  0               7          Brooklyn Nets   \n1109874                  0               7          Brooklyn Nets   \n1109875                  0              27  Golden State Warriors   \n1109876                  1              27  Golden State Warriors   \n1109877                  2              27  Golden State Warriors   \n...                    ...             ...                    ...   \n1619473                115              84     Washington Wizards   \n1619474                110              12      Charlotte Hornets   \n1619475                110              12      Charlotte Hornets   \n1619476                110              12      Charlotte Hornets   \n1619477                115              84     Washington Wizards   \n\n         FloorLineupId_Offense TeamId_Defense       TeamName_Defense  \\\n1109873                 349512             27  Golden State Warriors   \n1109874                 349512             27  Golden State Warriors   \n1109875                 350841              7          Brooklyn Nets   \n1109876                 350841              7          Brooklyn Nets   \n1109877                 350841              7          Brooklyn Nets   \n...                        ...            ...                    ...   \n1619473                 374858             12      Charlotte Hornets   \n1619474                 356034             84     Washington Wizards   \n1619475                 356034             84     Washington Wizards   \n1619476                 356034             84     Washington Wizards   \n1619477                 374858             12      Charlotte Hornets   \n\n         FloorLineupId_Defense  \\\n1109873                 350841   \n1109874                 350841   \n1109875                 349512   \n1109876                 349512   \n1109877                 349512   \n...                        ...   \n1619473                 356034   \n1619474                 374858   \n1619475                 374858   \n1619476                 374858   \n1619477                 356034   \n\n                                           Players_Offense  \\\n1109873  Spencer Dinwiddie, Kyrie Irving, Joe Harris, K...   \n1109874  Spencer Dinwiddie, Kyrie Irving, Joe Harris, K...   \n1109875  Kelly Oubre Jr., Stephen Curry, Andrew Wiggins...   \n1109876  Kelly Oubre Jr., Stephen Curry, Andrew Wiggins...   \n1109877  Kelly Oubre Jr., Stephen Curry, Andrew Wiggins...   \n...                                                    ...   \n1619473  Anthony Gill, Russell Westbrook, Ish Smith, Ru...   \n1619474  Devonte' Graham, LaMelo Ball, Terry Rozier, Co...   \n1619475  Devonte' Graham, LaMelo Ball, Terry Rozier, Co...   \n1619476  Devonte' Graham, LaMelo Ball, Terry Rozier, Co...   \n1619477  Anthony Gill, Russell Westbrook, Ish Smith, Ru...   \n\n                                           Players_Defense  \n1109873  Kelly Oubre Jr., Stephen Curry, Andrew Wiggins...  \n1109874  Kelly Oubre Jr., Stephen Curry, Andrew Wiggins...  \n1109875  Spencer Dinwiddie, Kyrie Irving, Joe Harris, K...  \n1109876  Spencer Dinwiddie, Kyrie Irving, Joe Harris, K...  \n1109877  Spencer Dinwiddie, Kyrie Irving, Joe Harris, K...  \n...                                                    ...  \n1619473  Devonte' Graham, LaMelo Ball, Terry Rozier, Co...  \n1619474  Anthony Gill, Russell Westbrook, Ish Smith, Ru...  \n1619475  Anthony Gill, Russell Westbrook, Ish Smith, Ru...  \n1619476  Anthony Gill, Russell Westbrook, Ish Smith, Ru...  \n1619477  Devonte' Graham, LaMelo Ball, Terry Rozier, Co...  \n\n[509605 rows x 22 columns]",
      "text/html": "<div>\n<style scoped>\n    .dataframe tbody tr th:only-of-type {\n        vertical-align: middle;\n    }\n\n    .dataframe tbody tr th {\n        vertical-align: top;\n    }\n\n    .dataframe thead th {\n        text-align: right;\n    }\n</style>\n<table border=\"1\" class=\"dataframe\">\n  <thead>\n    <tr style=\"text-align: right;\">\n      <th></th>\n      <th>GameId</th>\n      <th>SeasonYear</th>\n      <th>PlayByPlayId</th>\n      <th>EventNumber</th>\n      <th>Period</th>\n      <th>GameClock</th>\n      <th>Description</th>\n      <th>EventTypeId</th>\n      <th>EventType</th>\n      <th>ActionTypeIndex</th>\n      <th>...</th>\n      <th>PlayLength_Seconds</th>\n      <th>TeamScore_Offense</th>\n      <th>TeamId_Offense</th>\n      <th>TeamName_Offense</th>\n      <th>FloorLineupId_Offense</th>\n      <th>TeamId_Defense</th>\n      <th>TeamName_Defense</th>\n      <th>FloorLineupId_Defense</th>\n      <th>Players_Offense</th>\n      <th>Players_Defense</th>\n    </tr>\n  </thead>\n  <tbody>\n    <tr>\n      <th>1109873</th>\n      <td>416144</td>\n      <td>2020</td>\n      <td>13357924</td>\n      <td>4</td>\n      <td>1</td>\n      <td>11:58</td>\n      <td>Jump Ball Jordan vs Wiseman</td>\n      <td>10</td>\n      <td>Jump Ball</td>\n      <td>0</td>\n      <td>...</td>\n      <td>2</td>\n      <td>0</td>\n      <td>7</td>\n      <td>Brooklyn Nets</td>\n      <td>349512</td>\n      <td>27</td>\n      <td>Golden State Warriors</td>\n      <td>350841</td>\n      <td>Spencer Dinwiddie, Kyrie Irving, Joe Harris, K...</td>\n      <td>Kelly Oubre Jr., Stephen Curry, Andrew Wiggins...</td>\n    </tr>\n    <tr>\n      <th>1109874</th>\n      <td>416144</td>\n      <td>2020</td>\n      <td>13357925</td>\n      <td>7</td>\n      <td>1</td>\n      <td>11:50</td>\n      <td>[BKN] Jordan Turnover : Out of Bounds - Bad Pa...</td>\n      <td>5</td>\n      <td>Turnover</td>\n      <td>45</td>\n      <td>...</td>\n      <td>8</td>\n      <td>0</td>\n      <td>7</td>\n      <td>Brooklyn Nets</td>\n      <td>349512</td>\n      <td>27</td>\n      <td>Golden State Warriors</td>\n      <td>350841</td>\n      <td>Spencer Dinwiddie, Kyrie Irving, Joe Harris, K...</td>\n      <td>Kelly Oubre Jr., Stephen Curry, Andrew Wiggins...</td>\n    </tr>\n    <tr>\n      <th>1109875</th>\n      <td>416144</td>\n      <td>2020</td>\n      <td>13357926</td>\n      <td>8</td>\n      <td>1</td>\n      <td>11:38</td>\n      <td>[BKN] Irving Foul: Shooting (1 PF) (2 FTA) (S ...</td>\n      <td>6</td>\n      <td>Foul</td>\n      <td>2</td>\n      <td>...</td>\n      <td>12</td>\n      <td>0</td>\n      <td>27</td>\n      <td>Golden State Warriors</td>\n      <td>350841</td>\n      <td>7</td>\n      <td>Brooklyn Nets</td>\n      <td>349512</td>\n      <td>Kelly Oubre Jr., Stephen Curry, Andrew Wiggins...</td>\n      <td>Spencer Dinwiddie, Kyrie Irving, Joe Harris, K...</td>\n    </tr>\n    <tr>\n      <th>1109876</th>\n      <td>416144</td>\n      <td>2020</td>\n      <td>13357927</td>\n      <td>10</td>\n      <td>1</td>\n      <td>11:38</td>\n      <td>[GSW 1-0] Curry Free Throw 1 of 2 (1 PTS)</td>\n      <td>3</td>\n      <td>Free Throw</td>\n      <td>11</td>\n      <td>...</td>\n      <td>0</td>\n      <td>1</td>\n      <td>27</td>\n      <td>Golden State Warriors</td>\n      <td>350841</td>\n      <td>7</td>\n      <td>Brooklyn Nets</td>\n      <td>349512</td>\n      <td>Kelly Oubre Jr., Stephen Curry, Andrew Wiggins...</td>\n      <td>Spencer Dinwiddie, Kyrie Irving, Joe Harris, K...</td>\n    </tr>\n    <tr>\n      <th>1109877</th>\n      <td>416144</td>\n      <td>2020</td>\n      <td>13357928</td>\n      <td>11</td>\n      <td>1</td>\n      <td>11:38</td>\n      <td>[GSW 2-0] Curry Free Throw 2 of 2 (2 PTS)</td>\n      <td>3</td>\n      <td>Free Throw</td>\n      <td>12</td>\n      <td>...</td>\n      <td>0</td>\n      <td>2</td>\n      <td>27</td>\n      <td>Golden State Warriors</td>\n      <td>350841</td>\n      <td>7</td>\n      <td>Brooklyn Nets</td>\n      <td>349512</td>\n      <td>Kelly Oubre Jr., Stephen Curry, Andrew Wiggins...</td>\n      <td>Spencer Dinwiddie, Kyrie Irving, Joe Harris, K...</td>\n    </tr>\n    <tr>\n      <th>...</th>\n      <td>...</td>\n      <td>...</td>\n      <td>...</td>\n      <td>...</td>\n      <td>...</td>\n      <td>...</td>\n      <td>...</td>\n      <td>...</td>\n      <td>...</td>\n      <td>...</td>\n      <td>...</td>\n      <td>...</td>\n      <td>...</td>\n      <td>...</td>\n      <td>...</td>\n      <td>...</td>\n      <td>...</td>\n      <td>...</td>\n      <td>...</td>\n      <td>...</td>\n      <td>...</td>\n    </tr>\n    <tr>\n      <th>1619473</th>\n      <td>422723</td>\n      <td>2020</td>\n      <td>13948224</td>\n      <td>678</td>\n      <td>4</td>\n      <td>0:10</td>\n      <td>[WAS 115-110] Beal Free Throw 2 of 2 (25 PTS)</td>\n      <td>3</td>\n      <td>Free Throw</td>\n      <td>12</td>\n      <td>...</td>\n      <td>0</td>\n      <td>115</td>\n      <td>84</td>\n      <td>Washington Wizards</td>\n      <td>374858</td>\n      <td>12</td>\n      <td>Charlotte Hornets</td>\n      <td>356034</td>\n      <td>Anthony Gill, Russell Westbrook, Ish Smith, Ru...</td>\n      <td>Devonte' Graham, LaMelo Ball, Terry Rozier, Co...</td>\n    </tr>\n    <tr>\n      <th>1619474</th>\n      <td>422723</td>\n      <td>2020</td>\n      <td>13948225</td>\n      <td>679</td>\n      <td>4</td>\n      <td>0:07</td>\n      <td>[WAS] Westbrook Foul: Personal (4 PF) (L Richa...</td>\n      <td>6</td>\n      <td>Foul</td>\n      <td>1</td>\n      <td>...</td>\n      <td>3</td>\n      <td>110</td>\n      <td>12</td>\n      <td>Charlotte Hornets</td>\n      <td>356034</td>\n      <td>84</td>\n      <td>Washington Wizards</td>\n      <td>374858</td>\n      <td>Devonte' Graham, LaMelo Ball, Terry Rozier, Co...</td>\n      <td>Anthony Gill, Russell Westbrook, Ish Smith, Ru...</td>\n    </tr>\n    <tr>\n      <th>1619475</th>\n      <td>422723</td>\n      <td>2020</td>\n      <td>13948226</td>\n      <td>681</td>\n      <td>4</td>\n      <td>0:03</td>\n      <td>[CHA] Rozier 3pt Shot: Missed</td>\n      <td>2</td>\n      <td>Missed Shot</td>\n      <td>79</td>\n      <td>...</td>\n      <td>4</td>\n      <td>110</td>\n      <td>12</td>\n      <td>Charlotte Hornets</td>\n      <td>356034</td>\n      <td>84</td>\n      <td>Washington Wizards</td>\n      <td>374858</td>\n      <td>Devonte' Graham, LaMelo Ball, Terry Rozier, Co...</td>\n      <td>Anthony Gill, Russell Westbrook, Ish Smith, Ru...</td>\n    </tr>\n    <tr>\n      <th>1619476</th>\n      <td>422723</td>\n      <td>2020</td>\n      <td>13948227</td>\n      <td>682</td>\n      <td>4</td>\n      <td>0:03</td>\n      <td>[WAS] Smith Rebound (Off:1 Def:7)</td>\n      <td>4</td>\n      <td>Rebound</td>\n      <td>0</td>\n      <td>...</td>\n      <td>0</td>\n      <td>110</td>\n      <td>12</td>\n      <td>Charlotte Hornets</td>\n      <td>356034</td>\n      <td>84</td>\n      <td>Washington Wizards</td>\n      <td>374858</td>\n      <td>Devonte' Graham, LaMelo Ball, Terry Rozier, Co...</td>\n      <td>Anthony Gill, Russell Westbrook, Ish Smith, Ru...</td>\n    </tr>\n    <tr>\n      <th>1619477</th>\n      <td>422723</td>\n      <td>2020</td>\n      <td>13948228</td>\n      <td>683</td>\n      <td>4</td>\n      <td>0:00</td>\n      <td>End Period</td>\n      <td>13</td>\n      <td>End Period</td>\n      <td>0</td>\n      <td>...</td>\n      <td>3</td>\n      <td>115</td>\n      <td>84</td>\n      <td>Washington Wizards</td>\n      <td>374858</td>\n      <td>12</td>\n      <td>Charlotte Hornets</td>\n      <td>356034</td>\n      <td>Anthony Gill, Russell Westbrook, Ish Smith, Ru...</td>\n      <td>Devonte' Graham, LaMelo Ball, Terry Rozier, Co...</td>\n    </tr>\n  </tbody>\n</table>\n<p>509605 rows × 22 columns</p>\n</div>"
     },
     "metadata": {}
    }
   ]
  },
  {
   "cell_type": "markdown",
   "source": "### ",
   "metadata": {
    "tags": [],
    "is_collapsed": false,
    "cell_id": "00005-a1df4c4f-4a0c-4f83-87a8-96961da764f9",
    "deepnote_cell_type": "text-cell-h3"
   }
  },
  {
   "cell_type": "code",
   "metadata": {
    "cell_id": "340ccd84-9de9-4a97-866f-be1f5d179070",
    "tags": [],
    "deepnote_to_be_reexecuted": false,
    "source_hash": "4a924d1d",
    "execution_start": 1646872215067,
    "execution_millis": 11228,
    "deepnote_cell_type": "code",
    "deepnote_cell_height": 672
   },
   "source": "play_by_play2 = play_by_play1\nplay_by_play2 = play_by_play2.replace(to_replace = ':', value = '.', regex = True)\nclock_col = pd.to_numeric(play_by_play2['GameClock'])\nplay_by_play2['GameClock'] = clock_col\nplay_by_play2",
   "execution_count": null,
   "outputs": [
    {
     "output_type": "execute_result",
     "execution_count": 7,
     "data": {
      "application/vnd.deepnote.dataframe.v3+json": {
       "column_count": 22,
       "row_count": 509605,
       "columns": [
        {
         "name": "GameId",
         "dtype": "int64"
        },
        {
         "name": "SeasonYear",
         "dtype": "int64"
        },
        {
         "name": "PlayByPlayId",
         "dtype": "int64"
        },
        {
         "name": "EventNumber",
         "dtype": "int64"
        },
        {
         "name": "Period",
         "dtype": "int64"
        },
        {
         "name": "GameClock",
         "dtype": "float64"
        },
        {
         "name": "Description",
         "dtype": "object"
        },
        {
         "name": "EventTypeId",
         "dtype": "int64"
        },
        {
         "name": "EventType",
         "dtype": "object"
        },
        {
         "name": "ActionTypeIndex",
         "dtype": "int64"
        },
        {
         "name": "ActionTypeName",
         "dtype": "object"
        },
        {
         "name": "Points",
         "dtype": "int64"
        },
        {
         "name": "PlayLength_Seconds",
         "dtype": "int64"
        },
        {
         "name": "TeamScore_Offense",
         "dtype": "int64"
        },
        {
         "name": "TeamId_Offense",
         "dtype": "int64"
        },
        {
         "name": "TeamName_Offense",
         "dtype": "object"
        },
        {
         "name": "FloorLineupId_Offense",
         "dtype": "int64"
        },
        {
         "name": "TeamId_Defense",
         "dtype": "int64"
        },
        {
         "name": "TeamName_Defense",
         "dtype": "object"
        },
        {
         "name": "FloorLineupId_Defense",
         "dtype": "int64"
        },
        {
         "name": "Players_Offense",
         "dtype": "object"
        },
        {
         "name": "Players_Defense",
         "dtype": "object"
        },
        {
         "name": "_deepnote_index_column",
         "dtype": "int64"
        }
       ],
       "rows": [
        {
         "GameId": 416144,
         "SeasonYear": 2020,
         "PlayByPlayId": 13357924,
         "EventNumber": 4,
         "Period": 1,
         "GameClock": 11.58,
         "Description": "Jump Ball Jordan vs Wiseman",
         "EventTypeId": 10,
         "EventType": "Jump Ball",
         "ActionTypeIndex": 0,
         "ActionTypeName": "Jump Ball",
         "Points": 0,
         "PlayLength_Seconds": 2,
         "TeamScore_Offense": 0,
         "TeamId_Offense": 7,
         "TeamName_Offense": "Brooklyn Nets",
         "FloorLineupId_Offense": 349512,
         "TeamId_Defense": 27,
         "TeamName_Defense": "Golden State Warriors",
         "FloorLineupId_Defense": 350841,
         "Players_Offense": "Spencer Dinwiddie, Kyrie Irving, Joe Harris, Kevin Durant, DeAndre Jordan",
         "Players_Defense": "Kelly Oubre Jr., Stephen Curry, Andrew Wiggins, Eric Paschall, James Wiseman",
         "_deepnote_index_column": 1109873
        },
        {
         "GameId": 416144,
         "SeasonYear": 2020,
         "PlayByPlayId": 13357925,
         "EventNumber": 7,
         "Period": 1,
         "GameClock": 11.5,
         "Description": "[BKN] Jordan Turnover . Out of Bounds - Bad Pass Turnover (1 TO)",
         "EventTypeId": 5,
         "EventType": "Turnover",
         "ActionTypeIndex": 45,
         "ActionTypeName": "Out of Bounds - Bad Pass Turnover",
         "Points": 0,
         "PlayLength_Seconds": 8,
         "TeamScore_Offense": 0,
         "TeamId_Offense": 7,
         "TeamName_Offense": "Brooklyn Nets",
         "FloorLineupId_Offense": 349512,
         "TeamId_Defense": 27,
         "TeamName_Defense": "Golden State Warriors",
         "FloorLineupId_Defense": 350841,
         "Players_Offense": "Spencer Dinwiddie, Kyrie Irving, Joe Harris, Kevin Durant, DeAndre Jordan",
         "Players_Defense": "Kelly Oubre Jr., Stephen Curry, Andrew Wiggins, Eric Paschall, James Wiseman",
         "_deepnote_index_column": 1109874
        },
        {
         "GameId": 416144,
         "SeasonYear": 2020,
         "PlayByPlayId": 13357926,
         "EventNumber": 8,
         "Period": 1,
         "GameClock": 11.38,
         "Description": "[BKN] Irving Foul. Shooting (1 PF) (2 FTA) (S Twardoski)",
         "EventTypeId": 6,
         "EventType": "Foul",
         "ActionTypeIndex": 2,
         "ActionTypeName": "Shooting",
         "Points": 0,
         "PlayLength_Seconds": 12,
         "TeamScore_Offense": 0,
         "TeamId_Offense": 27,
         "TeamName_Offense": "Golden State Warriors",
         "FloorLineupId_Offense": 350841,
         "TeamId_Defense": 7,
         "TeamName_Defense": "Brooklyn Nets",
         "FloorLineupId_Defense": 349512,
         "Players_Offense": "Kelly Oubre Jr., Stephen Curry, Andrew Wiggins, Eric Paschall, James Wiseman",
         "Players_Defense": "Spencer Dinwiddie, Kyrie Irving, Joe Harris, Kevin Durant, DeAndre Jordan",
         "_deepnote_index_column": 1109875
        },
        {
         "GameId": 416144,
         "SeasonYear": 2020,
         "PlayByPlayId": 13357927,
         "EventNumber": 10,
         "Period": 1,
         "GameClock": 11.38,
         "Description": "[GSW 1-0] Curry Free Throw 1 of 2 (1 PTS)",
         "EventTypeId": 3,
         "EventType": "Free Throw",
         "ActionTypeIndex": 11,
         "ActionTypeName": "Free Throw 1 of 2",
         "Points": 1,
         "PlayLength_Seconds": 0,
         "TeamScore_Offense": 1,
         "TeamId_Offense": 27,
         "TeamName_Offense": "Golden State Warriors",
         "FloorLineupId_Offense": 350841,
         "TeamId_Defense": 7,
         "TeamName_Defense": "Brooklyn Nets",
         "FloorLineupId_Defense": 349512,
         "Players_Offense": "Kelly Oubre Jr., Stephen Curry, Andrew Wiggins, Eric Paschall, James Wiseman",
         "Players_Defense": "Spencer Dinwiddie, Kyrie Irving, Joe Harris, Kevin Durant, DeAndre Jordan",
         "_deepnote_index_column": 1109876
        },
        {
         "GameId": 416144,
         "SeasonYear": 2020,
         "PlayByPlayId": 13357928,
         "EventNumber": 11,
         "Period": 1,
         "GameClock": 11.38,
         "Description": "[GSW 2-0] Curry Free Throw 2 of 2 (2 PTS)",
         "EventTypeId": 3,
         "EventType": "Free Throw",
         "ActionTypeIndex": 12,
         "ActionTypeName": "Free Throw 2 of 2",
         "Points": 1,
         "PlayLength_Seconds": 0,
         "TeamScore_Offense": 2,
         "TeamId_Offense": 27,
         "TeamName_Offense": "Golden State Warriors",
         "FloorLineupId_Offense": 350841,
         "TeamId_Defense": 7,
         "TeamName_Defense": "Brooklyn Nets",
         "FloorLineupId_Defense": 349512,
         "Players_Offense": "Kelly Oubre Jr., Stephen Curry, Andrew Wiggins, Eric Paschall, James Wiseman",
         "Players_Defense": "Spencer Dinwiddie, Kyrie Irving, Joe Harris, Kevin Durant, DeAndre Jordan",
         "_deepnote_index_column": 1109877
        },
        {
         "GameId": 416144,
         "SeasonYear": 2020,
         "PlayByPlayId": 13357929,
         "EventNumber": 12,
         "Period": 1,
         "GameClock": 11.22,
         "Description": "[BKN 2-2] Irving Pullup Jump shot. Made (2 PTS) Assist. Durant (1 AST)",
         "EventTypeId": 1,
         "EventType": "Made Shot",
         "ActionTypeIndex": 79,
         "ActionTypeName": "Pullup Jump shot",
         "Points": 2,
         "PlayLength_Seconds": 16,
         "TeamScore_Offense": 2,
         "TeamId_Offense": 7,
         "TeamName_Offense": "Brooklyn Nets",
         "FloorLineupId_Offense": 349512,
         "TeamId_Defense": 27,
         "TeamName_Defense": "Golden State Warriors",
         "FloorLineupId_Defense": 350841,
         "Players_Offense": "Spencer Dinwiddie, Kyrie Irving, Joe Harris, Kevin Durant, DeAndre Jordan",
         "Players_Defense": "Kelly Oubre Jr., Stephen Curry, Andrew Wiggins, Eric Paschall, James Wiseman",
         "_deepnote_index_column": 1109878
        },
        {
         "GameId": 416144,
         "SeasonYear": 2020,
         "PlayByPlayId": 13357930,
         "EventNumber": 13,
         "Period": 1,
         "GameClock": 11.11,
         "Description": "[GSW 4-2] Wiseman Cutting Dunk Shot. Made (2 PTS) Assist. Wiggins (1 AST)",
         "EventTypeId": 1,
         "EventType": "Made Shot",
         "ActionTypeIndex": 108,
         "ActionTypeName": "Cutting Dunk Shot",
         "Points": 2,
         "PlayLength_Seconds": 11,
         "TeamScore_Offense": 4,
         "TeamId_Offense": 27,
         "TeamName_Offense": "Golden State Warriors",
         "FloorLineupId_Offense": 350841,
         "TeamId_Defense": 7,
         "TeamName_Defense": "Brooklyn Nets",
         "FloorLineupId_Defense": 349512,
         "Players_Offense": "Kelly Oubre Jr., Stephen Curry, Andrew Wiggins, Eric Paschall, James Wiseman",
         "Players_Defense": "Spencer Dinwiddie, Kyrie Irving, Joe Harris, Kevin Durant, DeAndre Jordan",
         "_deepnote_index_column": 1109879
        },
        {
         "GameId": 416144,
         "SeasonYear": 2020,
         "PlayByPlayId": 13357931,
         "EventNumber": 16,
         "Period": 1,
         "GameClock": 10.49,
         "Description": "[BKN 5-4] Durant 3pt Shot. Made (3 PTS) Assist. Harris (1 AST)",
         "EventTypeId": 1,
         "EventType": "Made Shot",
         "ActionTypeIndex": 79,
         "ActionTypeName": "Pullup Jump shot",
         "Points": 3,
         "PlayLength_Seconds": 22,
         "TeamScore_Offense": 5,
         "TeamId_Offense": 7,
         "TeamName_Offense": "Brooklyn Nets",
         "FloorLineupId_Offense": 349512,
         "TeamId_Defense": 27,
         "TeamName_Defense": "Golden State Warriors",
         "FloorLineupId_Defense": 350841,
         "Players_Offense": "Spencer Dinwiddie, Kyrie Irving, Joe Harris, Kevin Durant, DeAndre Jordan",
         "Players_Defense": "Kelly Oubre Jr., Stephen Curry, Andrew Wiggins, Eric Paschall, James Wiseman",
         "_deepnote_index_column": 1109880
        },
        {
         "GameId": 416144,
         "SeasonYear": 2020,
         "PlayByPlayId": 13357932,
         "EventNumber": 18,
         "Period": 1,
         "GameClock": 10.31,
         "Description": "[GSW] Wiggins 3pt Shot. Missed",
         "EventTypeId": 2,
         "EventType": "Missed Shot",
         "ActionTypeIndex": 1,
         "ActionTypeName": "Jump Shot",
         "Points": 0,
         "PlayLength_Seconds": 18,
         "TeamScore_Offense": 4,
         "TeamId_Offense": 27,
         "TeamName_Offense": "Golden State Warriors",
         "FloorLineupId_Offense": 350841,
         "TeamId_Defense": 7,
         "TeamName_Defense": "Brooklyn Nets",
         "FloorLineupId_Defense": 349512,
         "Players_Offense": "Kelly Oubre Jr., Stephen Curry, Andrew Wiggins, Eric Paschall, James Wiseman",
         "Players_Defense": "Spencer Dinwiddie, Kyrie Irving, Joe Harris, Kevin Durant, DeAndre Jordan",
         "_deepnote_index_column": 1109881
        },
        {
         "GameId": 416144,
         "SeasonYear": 2020,
         "PlayByPlayId": 13357933,
         "EventNumber": 19,
         "Period": 1,
         "GameClock": 10.25,
         "Description": "[BKN] Harris Rebound (Off.0 Def.1)",
         "EventTypeId": 4,
         "EventType": "Rebound",
         "ActionTypeIndex": 0,
         "ActionTypeName": "Rebound",
         "Points": 0,
         "PlayLength_Seconds": 6,
         "TeamScore_Offense": 4,
         "TeamId_Offense": 27,
         "TeamName_Offense": "Golden State Warriors",
         "FloorLineupId_Offense": 350841,
         "TeamId_Defense": 7,
         "TeamName_Defense": "Brooklyn Nets",
         "FloorLineupId_Defense": 349512,
         "Players_Offense": "Kelly Oubre Jr., Stephen Curry, Andrew Wiggins, Eric Paschall, James Wiseman",
         "Players_Defense": "Spencer Dinwiddie, Kyrie Irving, Joe Harris, Kevin Durant, DeAndre Jordan",
         "_deepnote_index_column": 1109882
        }
       ]
      },
      "text/plain": "         GameId  SeasonYear  PlayByPlayId  EventNumber  Period  GameClock  \\\n1109873  416144        2020      13357924            4       1      11.58   \n1109874  416144        2020      13357925            7       1      11.50   \n1109875  416144        2020      13357926            8       1      11.38   \n1109876  416144        2020      13357927           10       1      11.38   \n1109877  416144        2020      13357928           11       1      11.38   \n...         ...         ...           ...          ...     ...        ...   \n1619473  422723        2020      13948224          678       4       0.10   \n1619474  422723        2020      13948225          679       4       0.07   \n1619475  422723        2020      13948226          681       4       0.03   \n1619476  422723        2020      13948227          682       4       0.03   \n1619477  422723        2020      13948228          683       4       0.00   \n\n                                               Description  EventTypeId  \\\n1109873                        Jump Ball Jordan vs Wiseman           10   \n1109874  [BKN] Jordan Turnover . Out of Bounds - Bad Pa...            5   \n1109875  [BKN] Irving Foul. Shooting (1 PF) (2 FTA) (S ...            6   \n1109876          [GSW 1-0] Curry Free Throw 1 of 2 (1 PTS)            3   \n1109877          [GSW 2-0] Curry Free Throw 2 of 2 (2 PTS)            3   \n...                                                    ...          ...   \n1619473      [WAS 115-110] Beal Free Throw 2 of 2 (25 PTS)            3   \n1619474  [WAS] Westbrook Foul. Personal (4 PF) (L Richa...            6   \n1619475                      [CHA] Rozier 3pt Shot. Missed            2   \n1619476                  [WAS] Smith Rebound (Off.1 Def.7)            4   \n1619477                                         End Period           13   \n\n           EventType  ActionTypeIndex  ... PlayLength_Seconds  \\\n1109873    Jump Ball                0  ...                  2   \n1109874     Turnover               45  ...                  8   \n1109875         Foul                2  ...                 12   \n1109876   Free Throw               11  ...                  0   \n1109877   Free Throw               12  ...                  0   \n...              ...              ...  ...                ...   \n1619473   Free Throw               12  ...                  0   \n1619474         Foul                1  ...                  3   \n1619475  Missed Shot               79  ...                  4   \n1619476      Rebound                0  ...                  0   \n1619477   End Period                0  ...                  3   \n\n         TeamScore_Offense  TeamId_Offense       TeamName_Offense  \\\n1109873                  0               7          Brooklyn Nets   \n1109874                  0               7          Brooklyn Nets   \n1109875                  0              27  Golden State Warriors   \n1109876                  1              27  Golden State Warriors   \n1109877                  2              27  Golden State Warriors   \n...                    ...             ...                    ...   \n1619473                115              84     Washington Wizards   \n1619474                110              12      Charlotte Hornets   \n1619475                110              12      Charlotte Hornets   \n1619476                110              12      Charlotte Hornets   \n1619477                115              84     Washington Wizards   \n\n         FloorLineupId_Offense TeamId_Defense       TeamName_Defense  \\\n1109873                 349512             27  Golden State Warriors   \n1109874                 349512             27  Golden State Warriors   \n1109875                 350841              7          Brooklyn Nets   \n1109876                 350841              7          Brooklyn Nets   \n1109877                 350841              7          Brooklyn Nets   \n...                        ...            ...                    ...   \n1619473                 374858             12      Charlotte Hornets   \n1619474                 356034             84     Washington Wizards   \n1619475                 356034             84     Washington Wizards   \n1619476                 356034             84     Washington Wizards   \n1619477                 374858             12      Charlotte Hornets   \n\n         FloorLineupId_Defense  \\\n1109873                 350841   \n1109874                 350841   \n1109875                 349512   \n1109876                 349512   \n1109877                 349512   \n...                        ...   \n1619473                 356034   \n1619474                 374858   \n1619475                 374858   \n1619476                 374858   \n1619477                 356034   \n\n                                           Players_Offense  \\\n1109873  Spencer Dinwiddie, Kyrie Irving, Joe Harris, K...   \n1109874  Spencer Dinwiddie, Kyrie Irving, Joe Harris, K...   \n1109875  Kelly Oubre Jr., Stephen Curry, Andrew Wiggins...   \n1109876  Kelly Oubre Jr., Stephen Curry, Andrew Wiggins...   \n1109877  Kelly Oubre Jr., Stephen Curry, Andrew Wiggins...   \n...                                                    ...   \n1619473  Anthony Gill, Russell Westbrook, Ish Smith, Ru...   \n1619474  Devonte' Graham, LaMelo Ball, Terry Rozier, Co...   \n1619475  Devonte' Graham, LaMelo Ball, Terry Rozier, Co...   \n1619476  Devonte' Graham, LaMelo Ball, Terry Rozier, Co...   \n1619477  Anthony Gill, Russell Westbrook, Ish Smith, Ru...   \n\n                                           Players_Defense  \n1109873  Kelly Oubre Jr., Stephen Curry, Andrew Wiggins...  \n1109874  Kelly Oubre Jr., Stephen Curry, Andrew Wiggins...  \n1109875  Spencer Dinwiddie, Kyrie Irving, Joe Harris, K...  \n1109876  Spencer Dinwiddie, Kyrie Irving, Joe Harris, K...  \n1109877  Spencer Dinwiddie, Kyrie Irving, Joe Harris, K...  \n...                                                    ...  \n1619473  Devonte' Graham, LaMelo Ball, Terry Rozier, Co...  \n1619474  Anthony Gill, Russell Westbrook, Ish Smith, Ru...  \n1619475  Anthony Gill, Russell Westbrook, Ish Smith, Ru...  \n1619476  Anthony Gill, Russell Westbrook, Ish Smith, Ru...  \n1619477  Devonte' Graham, LaMelo Ball, Terry Rozier, Co...  \n\n[509605 rows x 22 columns]",
      "text/html": "<div>\n<style scoped>\n    .dataframe tbody tr th:only-of-type {\n        vertical-align: middle;\n    }\n\n    .dataframe tbody tr th {\n        vertical-align: top;\n    }\n\n    .dataframe thead th {\n        text-align: right;\n    }\n</style>\n<table border=\"1\" class=\"dataframe\">\n  <thead>\n    <tr style=\"text-align: right;\">\n      <th></th>\n      <th>GameId</th>\n      <th>SeasonYear</th>\n      <th>PlayByPlayId</th>\n      <th>EventNumber</th>\n      <th>Period</th>\n      <th>GameClock</th>\n      <th>Description</th>\n      <th>EventTypeId</th>\n      <th>EventType</th>\n      <th>ActionTypeIndex</th>\n      <th>...</th>\n      <th>PlayLength_Seconds</th>\n      <th>TeamScore_Offense</th>\n      <th>TeamId_Offense</th>\n      <th>TeamName_Offense</th>\n      <th>FloorLineupId_Offense</th>\n      <th>TeamId_Defense</th>\n      <th>TeamName_Defense</th>\n      <th>FloorLineupId_Defense</th>\n      <th>Players_Offense</th>\n      <th>Players_Defense</th>\n    </tr>\n  </thead>\n  <tbody>\n    <tr>\n      <th>1109873</th>\n      <td>416144</td>\n      <td>2020</td>\n      <td>13357924</td>\n      <td>4</td>\n      <td>1</td>\n      <td>11.58</td>\n      <td>Jump Ball Jordan vs Wiseman</td>\n      <td>10</td>\n      <td>Jump Ball</td>\n      <td>0</td>\n      <td>...</td>\n      <td>2</td>\n      <td>0</td>\n      <td>7</td>\n      <td>Brooklyn Nets</td>\n      <td>349512</td>\n      <td>27</td>\n      <td>Golden State Warriors</td>\n      <td>350841</td>\n      <td>Spencer Dinwiddie, Kyrie Irving, Joe Harris, K...</td>\n      <td>Kelly Oubre Jr., Stephen Curry, Andrew Wiggins...</td>\n    </tr>\n    <tr>\n      <th>1109874</th>\n      <td>416144</td>\n      <td>2020</td>\n      <td>13357925</td>\n      <td>7</td>\n      <td>1</td>\n      <td>11.50</td>\n      <td>[BKN] Jordan Turnover . Out of Bounds - Bad Pa...</td>\n      <td>5</td>\n      <td>Turnover</td>\n      <td>45</td>\n      <td>...</td>\n      <td>8</td>\n      <td>0</td>\n      <td>7</td>\n      <td>Brooklyn Nets</td>\n      <td>349512</td>\n      <td>27</td>\n      <td>Golden State Warriors</td>\n      <td>350841</td>\n      <td>Spencer Dinwiddie, Kyrie Irving, Joe Harris, K...</td>\n      <td>Kelly Oubre Jr., Stephen Curry, Andrew Wiggins...</td>\n    </tr>\n    <tr>\n      <th>1109875</th>\n      <td>416144</td>\n      <td>2020</td>\n      <td>13357926</td>\n      <td>8</td>\n      <td>1</td>\n      <td>11.38</td>\n      <td>[BKN] Irving Foul. Shooting (1 PF) (2 FTA) (S ...</td>\n      <td>6</td>\n      <td>Foul</td>\n      <td>2</td>\n      <td>...</td>\n      <td>12</td>\n      <td>0</td>\n      <td>27</td>\n      <td>Golden State Warriors</td>\n      <td>350841</td>\n      <td>7</td>\n      <td>Brooklyn Nets</td>\n      <td>349512</td>\n      <td>Kelly Oubre Jr., Stephen Curry, Andrew Wiggins...</td>\n      <td>Spencer Dinwiddie, Kyrie Irving, Joe Harris, K...</td>\n    </tr>\n    <tr>\n      <th>1109876</th>\n      <td>416144</td>\n      <td>2020</td>\n      <td>13357927</td>\n      <td>10</td>\n      <td>1</td>\n      <td>11.38</td>\n      <td>[GSW 1-0] Curry Free Throw 1 of 2 (1 PTS)</td>\n      <td>3</td>\n      <td>Free Throw</td>\n      <td>11</td>\n      <td>...</td>\n      <td>0</td>\n      <td>1</td>\n      <td>27</td>\n      <td>Golden State Warriors</td>\n      <td>350841</td>\n      <td>7</td>\n      <td>Brooklyn Nets</td>\n      <td>349512</td>\n      <td>Kelly Oubre Jr., Stephen Curry, Andrew Wiggins...</td>\n      <td>Spencer Dinwiddie, Kyrie Irving, Joe Harris, K...</td>\n    </tr>\n    <tr>\n      <th>1109877</th>\n      <td>416144</td>\n      <td>2020</td>\n      <td>13357928</td>\n      <td>11</td>\n      <td>1</td>\n      <td>11.38</td>\n      <td>[GSW 2-0] Curry Free Throw 2 of 2 (2 PTS)</td>\n      <td>3</td>\n      <td>Free Throw</td>\n      <td>12</td>\n      <td>...</td>\n      <td>0</td>\n      <td>2</td>\n      <td>27</td>\n      <td>Golden State Warriors</td>\n      <td>350841</td>\n      <td>7</td>\n      <td>Brooklyn Nets</td>\n      <td>349512</td>\n      <td>Kelly Oubre Jr., Stephen Curry, Andrew Wiggins...</td>\n      <td>Spencer Dinwiddie, Kyrie Irving, Joe Harris, K...</td>\n    </tr>\n    <tr>\n      <th>...</th>\n      <td>...</td>\n      <td>...</td>\n      <td>...</td>\n      <td>...</td>\n      <td>...</td>\n      <td>...</td>\n      <td>...</td>\n      <td>...</td>\n      <td>...</td>\n      <td>...</td>\n      <td>...</td>\n      <td>...</td>\n      <td>...</td>\n      <td>...</td>\n      <td>...</td>\n      <td>...</td>\n      <td>...</td>\n      <td>...</td>\n      <td>...</td>\n      <td>...</td>\n      <td>...</td>\n    </tr>\n    <tr>\n      <th>1619473</th>\n      <td>422723</td>\n      <td>2020</td>\n      <td>13948224</td>\n      <td>678</td>\n      <td>4</td>\n      <td>0.10</td>\n      <td>[WAS 115-110] Beal Free Throw 2 of 2 (25 PTS)</td>\n      <td>3</td>\n      <td>Free Throw</td>\n      <td>12</td>\n      <td>...</td>\n      <td>0</td>\n      <td>115</td>\n      <td>84</td>\n      <td>Washington Wizards</td>\n      <td>374858</td>\n      <td>12</td>\n      <td>Charlotte Hornets</td>\n      <td>356034</td>\n      <td>Anthony Gill, Russell Westbrook, Ish Smith, Ru...</td>\n      <td>Devonte' Graham, LaMelo Ball, Terry Rozier, Co...</td>\n    </tr>\n    <tr>\n      <th>1619474</th>\n      <td>422723</td>\n      <td>2020</td>\n      <td>13948225</td>\n      <td>679</td>\n      <td>4</td>\n      <td>0.07</td>\n      <td>[WAS] Westbrook Foul. Personal (4 PF) (L Richa...</td>\n      <td>6</td>\n      <td>Foul</td>\n      <td>1</td>\n      <td>...</td>\n      <td>3</td>\n      <td>110</td>\n      <td>12</td>\n      <td>Charlotte Hornets</td>\n      <td>356034</td>\n      <td>84</td>\n      <td>Washington Wizards</td>\n      <td>374858</td>\n      <td>Devonte' Graham, LaMelo Ball, Terry Rozier, Co...</td>\n      <td>Anthony Gill, Russell Westbrook, Ish Smith, Ru...</td>\n    </tr>\n    <tr>\n      <th>1619475</th>\n      <td>422723</td>\n      <td>2020</td>\n      <td>13948226</td>\n      <td>681</td>\n      <td>4</td>\n      <td>0.03</td>\n      <td>[CHA] Rozier 3pt Shot. Missed</td>\n      <td>2</td>\n      <td>Missed Shot</td>\n      <td>79</td>\n      <td>...</td>\n      <td>4</td>\n      <td>110</td>\n      <td>12</td>\n      <td>Charlotte Hornets</td>\n      <td>356034</td>\n      <td>84</td>\n      <td>Washington Wizards</td>\n      <td>374858</td>\n      <td>Devonte' Graham, LaMelo Ball, Terry Rozier, Co...</td>\n      <td>Anthony Gill, Russell Westbrook, Ish Smith, Ru...</td>\n    </tr>\n    <tr>\n      <th>1619476</th>\n      <td>422723</td>\n      <td>2020</td>\n      <td>13948227</td>\n      <td>682</td>\n      <td>4</td>\n      <td>0.03</td>\n      <td>[WAS] Smith Rebound (Off.1 Def.7)</td>\n      <td>4</td>\n      <td>Rebound</td>\n      <td>0</td>\n      <td>...</td>\n      <td>0</td>\n      <td>110</td>\n      <td>12</td>\n      <td>Charlotte Hornets</td>\n      <td>356034</td>\n      <td>84</td>\n      <td>Washington Wizards</td>\n      <td>374858</td>\n      <td>Devonte' Graham, LaMelo Ball, Terry Rozier, Co...</td>\n      <td>Anthony Gill, Russell Westbrook, Ish Smith, Ru...</td>\n    </tr>\n    <tr>\n      <th>1619477</th>\n      <td>422723</td>\n      <td>2020</td>\n      <td>13948228</td>\n      <td>683</td>\n      <td>4</td>\n      <td>0.00</td>\n      <td>End Period</td>\n      <td>13</td>\n      <td>End Period</td>\n      <td>0</td>\n      <td>...</td>\n      <td>3</td>\n      <td>115</td>\n      <td>84</td>\n      <td>Washington Wizards</td>\n      <td>374858</td>\n      <td>12</td>\n      <td>Charlotte Hornets</td>\n      <td>356034</td>\n      <td>Anthony Gill, Russell Westbrook, Ish Smith, Ru...</td>\n      <td>Devonte' Graham, LaMelo Ball, Terry Rozier, Co...</td>\n    </tr>\n  </tbody>\n</table>\n<p>509605 rows × 22 columns</p>\n</div>"
     },
     "metadata": {}
    }
   ]
  },
  {
   "cell_type": "code",
   "metadata": {
    "cell_id": "9e9fb30f-23ad-41cb-a14c-cc4efc3c2545",
    "tags": [],
    "deepnote_to_be_reexecuted": false,
    "source_hash": "597d93e3",
    "execution_start": 1646872226337,
    "execution_millis": 332,
    "deepnote_table_state": {
     "pageSize": 10,
     "pageIndex": 0,
     "filters": [],
     "sortBy": []
    },
    "deepnote_table_loading": false,
    "deepnote_table_invalid": false,
    "deepnote_cell_type": "code",
    "deepnote_cell_height": 1464
   },
   "source": "# play_by_play1 = play_by_play2.sort_values(['GameId', 'Period', 'GameClock'], ascending = (True, True, False))\n# play_by_play1['Possession'] = 0\n\n# change_possession = play_by_play1['TeamName_Offense'] != play_by_play1['TeamName_Offense'].shift(-1)\n# end_quarter = play_by_play1['ActionTypeName'] == 'End Period'\n\n# play_by_play1.loc[change_possession| end_quarter, 'Possession'] = 1\n# play_by_play1[['GameId', 'Period', 'GameClock', 'Description', 'EventType', 'ActionTypeName','Possession', 'TeamName_Offense', 'TeamId_Offense', 'Points']]\n\n# Possesion Changes are determined by the following:\n# 1. Made Field Goal Attempts\n# 2. Made Final Free Throw Attempt\n# 3. Missed Final Free Throw Attempt that results in a Defensive Rebound\n# 4. Missed Field Goal Attempt that results in a Defensive Rebound\n# 5. Turnover\n# 6. End of time period\n\n# 1\nmadeFG = play_by_play2['EventTypeId'] == 1\n\nfinalFt = play_by_play2['ActionTypeIndex'].isin([10, 12, 15, 16, 19, 20, 22, 26, 29])\n\n# defReb = (play_by_play['EventTypeId'] == 4) & (play_by_play['TeamId_Offense'].shift(-1).bfill().ne(play_by_play['TeamId_Offense']))\n\n# 2.\nmadeFinalFt = (play_by_play2['EventTypeId'] == 3) & finalFt & (play_by_play2['Points'] == 1)\n\ndefReb = (play_by_play2['EventTypeId'].shift(-1) == 4) & (play_by_play2['TeamId_Offense'].shift(-2).bfill().ne(play_by_play2['TeamId_Offense'].shift(-1).bfill()))\n\n# 3.\ndefRebFinalFt = finalFt & defReb\n\n# 4.\ndefRebMissedFg = (play_by_play2['EventTypeId'] == 2) & defReb\n\n# 5.\nturnovers = play_by_play2['EventTypeId'] == 5\n\n#6. \nendQuarter = play_by_play2['EventTypeId'] == 13\n\n#7\nandOne = play_by_play2['ActionTypeName'] == 'Free Throw 1 of 1'\n\nplay_by_play2['Possession'] = 0\nplay_by_play2.loc[madeFG | madeFinalFt | defRebFinalFt | defRebMissedFg | turnovers | endQuarter, 'Possession'] = 1\nplay_by_play2.loc[andOne, 'Possession'] = 0\n\nplay_by_play2[['GameId', 'GameClock', 'Description', 'EventType', 'ActionTypeName','Possession', 'TeamName_Offense', 'TeamId_Offense', 'TeamName_Defense', 'TeamId_Defense', 'Points']]",
   "execution_count": null,
   "outputs": [
    {
     "output_type": "execute_result",
     "execution_count": 8,
     "data": {
      "application/vnd.deepnote.dataframe.v3+json": {
       "column_count": 11,
       "row_count": 509605,
       "columns": [
        {
         "name": "GameId",
         "dtype": "int64"
        },
        {
         "name": "GameClock",
         "dtype": "float64"
        },
        {
         "name": "Description",
         "dtype": "object"
        },
        {
         "name": "EventType",
         "dtype": "object"
        },
        {
         "name": "ActionTypeName",
         "dtype": "object"
        },
        {
         "name": "Possession",
         "dtype": "int64"
        },
        {
         "name": "TeamName_Offense",
         "dtype": "object"
        },
        {
         "name": "TeamId_Offense",
         "dtype": "int64"
        },
        {
         "name": "TeamName_Defense",
         "dtype": "object"
        },
        {
         "name": "TeamId_Defense",
         "dtype": "int64"
        },
        {
         "name": "Points",
         "dtype": "int64"
        },
        {
         "name": "_deepnote_index_column",
         "dtype": "int64"
        }
       ],
       "rows": [
        {
         "GameId": 416144,
         "GameClock": 11.58,
         "Description": "Jump Ball Jordan vs Wiseman",
         "EventType": "Jump Ball",
         "ActionTypeName": "Jump Ball",
         "Possession": 0,
         "TeamName_Offense": "Brooklyn Nets",
         "TeamId_Offense": 7,
         "TeamName_Defense": "Golden State Warriors",
         "TeamId_Defense": 27,
         "Points": 0,
         "_deepnote_index_column": 1109873
        },
        {
         "GameId": 416144,
         "GameClock": 11.5,
         "Description": "[BKN] Jordan Turnover . Out of Bounds - Bad Pass Turnover (1 TO)",
         "EventType": "Turnover",
         "ActionTypeName": "Out of Bounds - Bad Pass Turnover",
         "Possession": 1,
         "TeamName_Offense": "Brooklyn Nets",
         "TeamId_Offense": 7,
         "TeamName_Defense": "Golden State Warriors",
         "TeamId_Defense": 27,
         "Points": 0,
         "_deepnote_index_column": 1109874
        },
        {
         "GameId": 416144,
         "GameClock": 11.38,
         "Description": "[BKN] Irving Foul. Shooting (1 PF) (2 FTA) (S Twardoski)",
         "EventType": "Foul",
         "ActionTypeName": "Shooting",
         "Possession": 0,
         "TeamName_Offense": "Golden State Warriors",
         "TeamId_Offense": 27,
         "TeamName_Defense": "Brooklyn Nets",
         "TeamId_Defense": 7,
         "Points": 0,
         "_deepnote_index_column": 1109875
        },
        {
         "GameId": 416144,
         "GameClock": 11.38,
         "Description": "[GSW 1-0] Curry Free Throw 1 of 2 (1 PTS)",
         "EventType": "Free Throw",
         "ActionTypeName": "Free Throw 1 of 2",
         "Possession": 0,
         "TeamName_Offense": "Golden State Warriors",
         "TeamId_Offense": 27,
         "TeamName_Defense": "Brooklyn Nets",
         "TeamId_Defense": 7,
         "Points": 1,
         "_deepnote_index_column": 1109876
        },
        {
         "GameId": 416144,
         "GameClock": 11.38,
         "Description": "[GSW 2-0] Curry Free Throw 2 of 2 (2 PTS)",
         "EventType": "Free Throw",
         "ActionTypeName": "Free Throw 2 of 2",
         "Possession": 1,
         "TeamName_Offense": "Golden State Warriors",
         "TeamId_Offense": 27,
         "TeamName_Defense": "Brooklyn Nets",
         "TeamId_Defense": 7,
         "Points": 1,
         "_deepnote_index_column": 1109877
        },
        {
         "GameId": 416144,
         "GameClock": 11.22,
         "Description": "[BKN 2-2] Irving Pullup Jump shot. Made (2 PTS) Assist. Durant (1 AST)",
         "EventType": "Made Shot",
         "ActionTypeName": "Pullup Jump shot",
         "Possession": 1,
         "TeamName_Offense": "Brooklyn Nets",
         "TeamId_Offense": 7,
         "TeamName_Defense": "Golden State Warriors",
         "TeamId_Defense": 27,
         "Points": 2,
         "_deepnote_index_column": 1109878
        },
        {
         "GameId": 416144,
         "GameClock": 11.11,
         "Description": "[GSW 4-2] Wiseman Cutting Dunk Shot. Made (2 PTS) Assist. Wiggins (1 AST)",
         "EventType": "Made Shot",
         "ActionTypeName": "Cutting Dunk Shot",
         "Possession": 1,
         "TeamName_Offense": "Golden State Warriors",
         "TeamId_Offense": 27,
         "TeamName_Defense": "Brooklyn Nets",
         "TeamId_Defense": 7,
         "Points": 2,
         "_deepnote_index_column": 1109879
        },
        {
         "GameId": 416144,
         "GameClock": 10.49,
         "Description": "[BKN 5-4] Durant 3pt Shot. Made (3 PTS) Assist. Harris (1 AST)",
         "EventType": "Made Shot",
         "ActionTypeName": "Pullup Jump shot",
         "Possession": 1,
         "TeamName_Offense": "Brooklyn Nets",
         "TeamId_Offense": 7,
         "TeamName_Defense": "Golden State Warriors",
         "TeamId_Defense": 27,
         "Points": 3,
         "_deepnote_index_column": 1109880
        },
        {
         "GameId": 416144,
         "GameClock": 10.31,
         "Description": "[GSW] Wiggins 3pt Shot. Missed",
         "EventType": "Missed Shot",
         "ActionTypeName": "Jump Shot",
         "Possession": 1,
         "TeamName_Offense": "Golden State Warriors",
         "TeamId_Offense": 27,
         "TeamName_Defense": "Brooklyn Nets",
         "TeamId_Defense": 7,
         "Points": 0,
         "_deepnote_index_column": 1109881
        },
        {
         "GameId": 416144,
         "GameClock": 10.25,
         "Description": "[BKN] Harris Rebound (Off.0 Def.1)",
         "EventType": "Rebound",
         "ActionTypeName": "Rebound",
         "Possession": 0,
         "TeamName_Offense": "Golden State Warriors",
         "TeamId_Offense": 27,
         "TeamName_Defense": "Brooklyn Nets",
         "TeamId_Defense": 7,
         "Points": 0,
         "_deepnote_index_column": 1109882
        }
       ]
      },
      "text/plain": "         GameId  GameClock                                        Description  \\\n1109873  416144      11.58                        Jump Ball Jordan vs Wiseman   \n1109874  416144      11.50  [BKN] Jordan Turnover . Out of Bounds - Bad Pa...   \n1109875  416144      11.38  [BKN] Irving Foul. Shooting (1 PF) (2 FTA) (S ...   \n1109876  416144      11.38          [GSW 1-0] Curry Free Throw 1 of 2 (1 PTS)   \n1109877  416144      11.38          [GSW 2-0] Curry Free Throw 2 of 2 (2 PTS)   \n...         ...        ...                                                ...   \n1619473  422723       0.10      [WAS 115-110] Beal Free Throw 2 of 2 (25 PTS)   \n1619474  422723       0.07  [WAS] Westbrook Foul. Personal (4 PF) (L Richa...   \n1619475  422723       0.03                      [CHA] Rozier 3pt Shot. Missed   \n1619476  422723       0.03                  [WAS] Smith Rebound (Off.1 Def.7)   \n1619477  422723       0.00                                         End Period   \n\n           EventType                     ActionTypeName  Possession  \\\n1109873    Jump Ball                          Jump Ball           0   \n1109874     Turnover  Out of Bounds - Bad Pass Turnover           1   \n1109875         Foul                           Shooting           0   \n1109876   Free Throw                  Free Throw 1 of 2           0   \n1109877   Free Throw                  Free Throw 2 of 2           1   \n...              ...                                ...         ...   \n1619473   Free Throw                  Free Throw 2 of 2           1   \n1619474         Foul                           Personal           0   \n1619475  Missed Shot                   Pullup Jump shot           1   \n1619476      Rebound                            Rebound           0   \n1619477   End Period                         End Period           1   \n\n              TeamName_Offense  TeamId_Offense       TeamName_Defense  \\\n1109873          Brooklyn Nets               7  Golden State Warriors   \n1109874          Brooklyn Nets               7  Golden State Warriors   \n1109875  Golden State Warriors              27          Brooklyn Nets   \n1109876  Golden State Warriors              27          Brooklyn Nets   \n1109877  Golden State Warriors              27          Brooklyn Nets   \n...                        ...             ...                    ...   \n1619473     Washington Wizards              84      Charlotte Hornets   \n1619474      Charlotte Hornets              12     Washington Wizards   \n1619475      Charlotte Hornets              12     Washington Wizards   \n1619476      Charlotte Hornets              12     Washington Wizards   \n1619477     Washington Wizards              84      Charlotte Hornets   \n\n         TeamId_Defense  Points  \n1109873              27       0  \n1109874              27       0  \n1109875               7       0  \n1109876               7       1  \n1109877               7       1  \n...                 ...     ...  \n1619473              12       1  \n1619474              84       0  \n1619475              84       0  \n1619476              84       0  \n1619477              12       0  \n\n[509605 rows x 11 columns]",
      "text/html": "<div>\n<style scoped>\n    .dataframe tbody tr th:only-of-type {\n        vertical-align: middle;\n    }\n\n    .dataframe tbody tr th {\n        vertical-align: top;\n    }\n\n    .dataframe thead th {\n        text-align: right;\n    }\n</style>\n<table border=\"1\" class=\"dataframe\">\n  <thead>\n    <tr style=\"text-align: right;\">\n      <th></th>\n      <th>GameId</th>\n      <th>GameClock</th>\n      <th>Description</th>\n      <th>EventType</th>\n      <th>ActionTypeName</th>\n      <th>Possession</th>\n      <th>TeamName_Offense</th>\n      <th>TeamId_Offense</th>\n      <th>TeamName_Defense</th>\n      <th>TeamId_Defense</th>\n      <th>Points</th>\n    </tr>\n  </thead>\n  <tbody>\n    <tr>\n      <th>1109873</th>\n      <td>416144</td>\n      <td>11.58</td>\n      <td>Jump Ball Jordan vs Wiseman</td>\n      <td>Jump Ball</td>\n      <td>Jump Ball</td>\n      <td>0</td>\n      <td>Brooklyn Nets</td>\n      <td>7</td>\n      <td>Golden State Warriors</td>\n      <td>27</td>\n      <td>0</td>\n    </tr>\n    <tr>\n      <th>1109874</th>\n      <td>416144</td>\n      <td>11.50</td>\n      <td>[BKN] Jordan Turnover . Out of Bounds - Bad Pa...</td>\n      <td>Turnover</td>\n      <td>Out of Bounds - Bad Pass Turnover</td>\n      <td>1</td>\n      <td>Brooklyn Nets</td>\n      <td>7</td>\n      <td>Golden State Warriors</td>\n      <td>27</td>\n      <td>0</td>\n    </tr>\n    <tr>\n      <th>1109875</th>\n      <td>416144</td>\n      <td>11.38</td>\n      <td>[BKN] Irving Foul. Shooting (1 PF) (2 FTA) (S ...</td>\n      <td>Foul</td>\n      <td>Shooting</td>\n      <td>0</td>\n      <td>Golden State Warriors</td>\n      <td>27</td>\n      <td>Brooklyn Nets</td>\n      <td>7</td>\n      <td>0</td>\n    </tr>\n    <tr>\n      <th>1109876</th>\n      <td>416144</td>\n      <td>11.38</td>\n      <td>[GSW 1-0] Curry Free Throw 1 of 2 (1 PTS)</td>\n      <td>Free Throw</td>\n      <td>Free Throw 1 of 2</td>\n      <td>0</td>\n      <td>Golden State Warriors</td>\n      <td>27</td>\n      <td>Brooklyn Nets</td>\n      <td>7</td>\n      <td>1</td>\n    </tr>\n    <tr>\n      <th>1109877</th>\n      <td>416144</td>\n      <td>11.38</td>\n      <td>[GSW 2-0] Curry Free Throw 2 of 2 (2 PTS)</td>\n      <td>Free Throw</td>\n      <td>Free Throw 2 of 2</td>\n      <td>1</td>\n      <td>Golden State Warriors</td>\n      <td>27</td>\n      <td>Brooklyn Nets</td>\n      <td>7</td>\n      <td>1</td>\n    </tr>\n    <tr>\n      <th>...</th>\n      <td>...</td>\n      <td>...</td>\n      <td>...</td>\n      <td>...</td>\n      <td>...</td>\n      <td>...</td>\n      <td>...</td>\n      <td>...</td>\n      <td>...</td>\n      <td>...</td>\n      <td>...</td>\n    </tr>\n    <tr>\n      <th>1619473</th>\n      <td>422723</td>\n      <td>0.10</td>\n      <td>[WAS 115-110] Beal Free Throw 2 of 2 (25 PTS)</td>\n      <td>Free Throw</td>\n      <td>Free Throw 2 of 2</td>\n      <td>1</td>\n      <td>Washington Wizards</td>\n      <td>84</td>\n      <td>Charlotte Hornets</td>\n      <td>12</td>\n      <td>1</td>\n    </tr>\n    <tr>\n      <th>1619474</th>\n      <td>422723</td>\n      <td>0.07</td>\n      <td>[WAS] Westbrook Foul. Personal (4 PF) (L Richa...</td>\n      <td>Foul</td>\n      <td>Personal</td>\n      <td>0</td>\n      <td>Charlotte Hornets</td>\n      <td>12</td>\n      <td>Washington Wizards</td>\n      <td>84</td>\n      <td>0</td>\n    </tr>\n    <tr>\n      <th>1619475</th>\n      <td>422723</td>\n      <td>0.03</td>\n      <td>[CHA] Rozier 3pt Shot. Missed</td>\n      <td>Missed Shot</td>\n      <td>Pullup Jump shot</td>\n      <td>1</td>\n      <td>Charlotte Hornets</td>\n      <td>12</td>\n      <td>Washington Wizards</td>\n      <td>84</td>\n      <td>0</td>\n    </tr>\n    <tr>\n      <th>1619476</th>\n      <td>422723</td>\n      <td>0.03</td>\n      <td>[WAS] Smith Rebound (Off.1 Def.7)</td>\n      <td>Rebound</td>\n      <td>Rebound</td>\n      <td>0</td>\n      <td>Charlotte Hornets</td>\n      <td>12</td>\n      <td>Washington Wizards</td>\n      <td>84</td>\n      <td>0</td>\n    </tr>\n    <tr>\n      <th>1619477</th>\n      <td>422723</td>\n      <td>0.00</td>\n      <td>End Period</td>\n      <td>End Period</td>\n      <td>End Period</td>\n      <td>1</td>\n      <td>Washington Wizards</td>\n      <td>84</td>\n      <td>Charlotte Hornets</td>\n      <td>12</td>\n      <td>0</td>\n    </tr>\n  </tbody>\n</table>\n<p>509605 rows × 11 columns</p>\n</div>"
     },
     "metadata": {}
    }
   ]
  },
  {
   "cell_type": "code",
   "metadata": {
    "cell_id": "85675275-0ac3-404a-b95d-dd046ae8b0e5",
    "tags": [],
    "deepnote_to_be_reexecuted": false,
    "source_hash": "86a3440d",
    "execution_start": 1646872226687,
    "execution_millis": 690,
    "deepnote_cell_type": "code",
    "deepnote_cell_height": 726
   },
   "source": "defense_cols = ['Points', 'Possession', 'Players_Defense', 'GameId']\ndrtg = play_by_play2.groupby(['FloorLineupId_Defense']).agg({\n    'Points': 'sum',\n    'Possession': 'sum',\n    'Players_Defense': 'first',\n    'GameId': 'nunique'\n    })[defense_cols].rename(columns={\"GameId\": \"GP\"}).reset_index()\ndrtg",
   "execution_count": null,
   "outputs": [
    {
     "output_type": "execute_result",
     "execution_count": 9,
     "data": {
      "application/vnd.deepnote.dataframe.v3+json": {
       "column_count": 5,
       "row_count": 16847,
       "columns": [
        {
         "name": "FloorLineupId_Defense",
         "dtype": "int64",
         "stats": {
          "unique_count": 16847,
          "nan_count": 0,
          "min": "120",
          "max": "375044",
          "histogram": [
           {
            "bin_start": 120,
            "bin_end": 37612.4,
            "count": 101
           },
           {
            "bin_start": 37612.4,
            "bin_end": 75104.8,
            "count": 0
           },
           {
            "bin_start": 75104.8,
            "bin_end": 112597.20000000001,
            "count": 272
           },
           {
            "bin_start": 112597.20000000001,
            "bin_end": 150089.6,
            "count": 267
           },
           {
            "bin_start": 150089.6,
            "bin_end": 187582,
            "count": 0
           },
           {
            "bin_start": 187582,
            "bin_end": 225074.40000000002,
            "count": 0
           },
           {
            "bin_start": 225074.40000000002,
            "bin_end": 262566.8,
            "count": 0
           },
           {
            "bin_start": 262566.8,
            "bin_end": 300059.2,
            "count": 0
           },
           {
            "bin_start": 300059.2,
            "bin_end": 337551.60000000003,
            "count": 110
           },
           {
            "bin_start": 337551.60000000003,
            "bin_end": 375044,
            "count": 16097
           }
          ]
         }
        },
        {
         "name": "Points",
         "dtype": "int64",
         "stats": {
          "unique_count": 271,
          "nan_count": 0,
          "min": "0",
          "max": "1633",
          "histogram": [
           {
            "bin_start": 0,
            "bin_end": 163.3,
            "count": 16696
           },
           {
            "bin_start": 163.3,
            "bin_end": 326.6,
            "count": 101
           },
           {
            "bin_start": 326.6,
            "bin_end": 489.90000000000003,
            "count": 22
           },
           {
            "bin_start": 489.90000000000003,
            "bin_end": 653.2,
            "count": 15
           },
           {
            "bin_start": 653.2,
            "bin_end": 816.5,
            "count": 3
           },
           {
            "bin_start": 816.5,
            "bin_end": 979.8000000000001,
            "count": 2
           },
           {
            "bin_start": 979.8000000000001,
            "bin_end": 1143.1000000000001,
            "count": 2
           },
           {
            "bin_start": 1143.1000000000001,
            "bin_end": 1306.4,
            "count": 3
           },
           {
            "bin_start": 1306.4,
            "bin_end": 1469.7,
            "count": 2
           },
           {
            "bin_start": 1469.7,
            "bin_end": 1633,
            "count": 1
           }
          ]
         }
        },
        {
         "name": "Possession",
         "dtype": "int64",
         "stats": {
          "unique_count": 250,
          "nan_count": 0,
          "min": "0",
          "max": "1451",
          "histogram": [
           {
            "bin_start": 0,
            "bin_end": 145.1,
            "count": 16692
           },
           {
            "bin_start": 145.1,
            "bin_end": 290.2,
            "count": 106
           },
           {
            "bin_start": 290.2,
            "bin_end": 435.29999999999995,
            "count": 23
           },
           {
            "bin_start": 435.29999999999995,
            "bin_end": 580.4,
            "count": 13
           },
           {
            "bin_start": 580.4,
            "bin_end": 725.5,
            "count": 2
           },
           {
            "bin_start": 725.5,
            "bin_end": 870.5999999999999,
            "count": 3
           },
           {
            "bin_start": 870.5999999999999,
            "bin_end": 1015.6999999999999,
            "count": 2
           },
           {
            "bin_start": 1015.6999999999999,
            "bin_end": 1160.8,
            "count": 2
           },
           {
            "bin_start": 1160.8,
            "bin_end": 1305.8999999999999,
            "count": 2
           },
           {
            "bin_start": 1305.8999999999999,
            "bin_end": 1451,
            "count": 2
           }
          ]
         }
        },
        {
         "name": "Players_Defense",
         "dtype": "object",
         "stats": {
          "unique_count": 16847,
          "nan_count": 0,
          "categories": [
           {
            "name": "Dejounte Murray, Patty Mills, DeMar DeRozan, LaMarcus Aldridge, Jakob Poeltl",
            "count": 1
           },
           {
            "name": "Jamal Murray, Gary Harris, Will Barton, Paul Millsap, Nikola Jokic",
            "count": 1
           },
           {
            "name": "16845 others",
            "count": 16845
           }
          ]
         }
        },
        {
         "name": "GP",
         "dtype": "int64",
         "stats": {
          "unique_count": 40,
          "nan_count": 0,
          "min": "1",
          "max": "52",
          "histogram": [
           {
            "bin_start": 1,
            "bin_end": 6.1,
            "count": 16068
           },
           {
            "bin_start": 6.1,
            "bin_end": 11.2,
            "count": 547
           },
           {
            "bin_start": 11.2,
            "bin_end": 16.299999999999997,
            "count": 134
           },
           {
            "bin_start": 16.299999999999997,
            "bin_end": 21.4,
            "count": 56
           },
           {
            "bin_start": 21.4,
            "bin_end": 26.5,
            "count": 20
           },
           {
            "bin_start": 26.5,
            "bin_end": 31.599999999999998,
            "count": 8
           },
           {
            "bin_start": 31.599999999999998,
            "bin_end": 36.699999999999996,
            "count": 5
           },
           {
            "bin_start": 36.699999999999996,
            "bin_end": 41.8,
            "count": 6
           },
           {
            "bin_start": 41.8,
            "bin_end": 46.9,
            "count": 2
           },
           {
            "bin_start": 46.9,
            "bin_end": 52,
            "count": 1
           }
          ]
         }
        },
        {
         "name": "_deepnote_index_column",
         "dtype": "int64"
        }
       ],
       "rows": [
        {
         "FloorLineupId_Defense": 120,
         "Points": 0,
         "Possession": 1,
         "Players_Defense": "Dejounte Murray, Patty Mills, DeMar DeRozan, LaMarcus Aldridge, Jakob Poeltl",
         "GP": 1,
         "_deepnote_index_column": 0
        },
        {
         "FloorLineupId_Defense": 227,
         "Points": 562,
         "Possession": 489,
         "Players_Defense": "Jamal Murray, Gary Harris, Will Barton, Paul Millsap, Nikola Jokic",
         "GP": 16,
         "_deepnote_index_column": 1
        },
        {
         "FloorLineupId_Defense": 240,
         "Points": 15,
         "Possession": 9,
         "Players_Defense": "Doug McDermott, Justin Holiday, Edmond Sumner, T.J. McConnell, Domantas Sabonis",
         "GP": 5,
         "_deepnote_index_column": 2
        },
        {
         "FloorLineupId_Defense": 251,
         "Points": 13,
         "Possession": 13,
         "Players_Defense": "Caleb Martin, Miles Bridges, Terry Rozier, Devonte' Graham, Bismack Biyombo",
         "GP": 2,
         "_deepnote_index_column": 3
        },
        {
         "FloorLineupId_Defense": 259,
         "Points": 1279,
         "Possession": 1213,
         "Players_Defense": "Donovan Mitchell Jr., Mike Conley Jr., Royce O'Neale, Bojan Bogdanovic, Rudy Gobert",
         "GP": 41,
         "_deepnote_index_column": 4
        },
        {
         "FloorLineupId_Defense": 262,
         "Points": 2,
         "Possession": 1,
         "Players_Defense": "Zion Williamson, Nicolo Melli, Lonzo Ball, Brandon Ingram, J.J. Redick",
         "GP": 1,
         "_deepnote_index_column": 5
        },
        {
         "FloorLineupId_Defense": 308,
         "Points": 30,
         "Possession": 31,
         "Players_Defense": "Zach LaVine, Tomas Satoransky, Otto Porter Jr., Lauri Markkanen, Wendell Carter Jr.",
         "GP": 3,
         "_deepnote_index_column": 6
        },
        {
         "FloorLineupId_Defense": 334,
         "Points": 15,
         "Possession": 8,
         "Players_Defense": "Grayson Allen, Jaren Jackson Jr., Ja Morant, Brandon Clarke, Dillon Brooks",
         "GP": 1,
         "_deepnote_index_column": 7
        },
        {
         "FloorLineupId_Defense": 351,
         "Points": 119,
         "Possession": 123,
         "Players_Defense": "Rudy Gobert, Donovan Mitchell Jr., Joe Ingles, Royce O'Neale, Mike Conley Jr.",
         "GP": 15,
         "_deepnote_index_column": 8
        },
        {
         "FloorLineupId_Defense": 391,
         "Points": 2,
         "Possession": 1,
         "Players_Defense": "Grayson Allen, Tyus Jones, Dillon Brooks, Kyle Anderson, Jaren Jackson Jr.",
         "GP": 1,
         "_deepnote_index_column": 9
        }
       ]
      },
      "text/plain": "       FloorLineupId_Defense  Points  Possession  \\\n0                        120       0           1   \n1                        227     562         489   \n2                        240      15           9   \n3                        251      13          13   \n4                        259    1279        1213   \n...                      ...     ...         ...   \n16842                 375039       7           7   \n16843                 375040       0           0   \n16844                 375041       4           7   \n16845                 375043       2           3   \n16846                 375044       0           2   \n\n                                         Players_Defense  GP  \n0      Dejounte Murray, Patty Mills, DeMar DeRozan, L...   1  \n1      Jamal Murray, Gary Harris, Will Barton, Paul M...  16  \n2      Doug McDermott, Justin Holiday, Edmond Sumner,...   5  \n3      Caleb Martin, Miles Bridges, Terry Rozier, Dev...   2  \n4      Donovan Mitchell Jr., Mike Conley Jr., Royce O...  41  \n...                                                  ...  ..  \n16842  James Nunnally, James Johnson, Nickeil Alexand...   1  \n16843  James Nunnally, James Johnson, Nickeil Alexand...   1  \n16844  Talen Horton-Tucker, Marc Gasol, Jared Dudley,...   1  \n16845  Talen Horton-Tucker, Marc Gasol, Jared Dudley,...   1  \n16846  Naji Marshall, James Nunnally, Nickeil Alexand...   1  \n\n[16847 rows x 5 columns]",
      "text/html": "<div>\n<style scoped>\n    .dataframe tbody tr th:only-of-type {\n        vertical-align: middle;\n    }\n\n    .dataframe tbody tr th {\n        vertical-align: top;\n    }\n\n    .dataframe thead th {\n        text-align: right;\n    }\n</style>\n<table border=\"1\" class=\"dataframe\">\n  <thead>\n    <tr style=\"text-align: right;\">\n      <th></th>\n      <th>FloorLineupId_Defense</th>\n      <th>Points</th>\n      <th>Possession</th>\n      <th>Players_Defense</th>\n      <th>GP</th>\n    </tr>\n  </thead>\n  <tbody>\n    <tr>\n      <th>0</th>\n      <td>120</td>\n      <td>0</td>\n      <td>1</td>\n      <td>Dejounte Murray, Patty Mills, DeMar DeRozan, L...</td>\n      <td>1</td>\n    </tr>\n    <tr>\n      <th>1</th>\n      <td>227</td>\n      <td>562</td>\n      <td>489</td>\n      <td>Jamal Murray, Gary Harris, Will Barton, Paul M...</td>\n      <td>16</td>\n    </tr>\n    <tr>\n      <th>2</th>\n      <td>240</td>\n      <td>15</td>\n      <td>9</td>\n      <td>Doug McDermott, Justin Holiday, Edmond Sumner,...</td>\n      <td>5</td>\n    </tr>\n    <tr>\n      <th>3</th>\n      <td>251</td>\n      <td>13</td>\n      <td>13</td>\n      <td>Caleb Martin, Miles Bridges, Terry Rozier, Dev...</td>\n      <td>2</td>\n    </tr>\n    <tr>\n      <th>4</th>\n      <td>259</td>\n      <td>1279</td>\n      <td>1213</td>\n      <td>Donovan Mitchell Jr., Mike Conley Jr., Royce O...</td>\n      <td>41</td>\n    </tr>\n    <tr>\n      <th>...</th>\n      <td>...</td>\n      <td>...</td>\n      <td>...</td>\n      <td>...</td>\n      <td>...</td>\n    </tr>\n    <tr>\n      <th>16842</th>\n      <td>375039</td>\n      <td>7</td>\n      <td>7</td>\n      <td>James Nunnally, James Johnson, Nickeil Alexand...</td>\n      <td>1</td>\n    </tr>\n    <tr>\n      <th>16843</th>\n      <td>375040</td>\n      <td>0</td>\n      <td>0</td>\n      <td>James Nunnally, James Johnson, Nickeil Alexand...</td>\n      <td>1</td>\n    </tr>\n    <tr>\n      <th>16844</th>\n      <td>375041</td>\n      <td>4</td>\n      <td>7</td>\n      <td>Talen Horton-Tucker, Marc Gasol, Jared Dudley,...</td>\n      <td>1</td>\n    </tr>\n    <tr>\n      <th>16845</th>\n      <td>375043</td>\n      <td>2</td>\n      <td>3</td>\n      <td>Talen Horton-Tucker, Marc Gasol, Jared Dudley,...</td>\n      <td>1</td>\n    </tr>\n    <tr>\n      <th>16846</th>\n      <td>375044</td>\n      <td>0</td>\n      <td>2</td>\n      <td>Naji Marshall, James Nunnally, Nickeil Alexand...</td>\n      <td>1</td>\n    </tr>\n  </tbody>\n</table>\n<p>16847 rows × 5 columns</p>\n</div>"
     },
     "metadata": {}
    }
   ]
  },
  {
   "cell_type": "code",
   "metadata": {
    "tags": [],
    "deepnote_to_be_reexecuted": false,
    "source_hash": "a719eba2",
    "execution_start": 1646872227111,
    "execution_millis": 274,
    "cell_id": "00008-bd051f29-636d-487b-b7f4-aee24f42fad4",
    "deepnote_cell_type": "code",
    "deepnote_cell_height": 726
   },
   "source": "offense_cols = ['Points', 'Possession', 'Players_Offense', 'GameId']\nortg = play_by_play2.groupby(['FloorLineupId_Offense']).agg({\n    'Points': 'sum',\n    'Possession': 'sum',\n    'Players_Offense': 'first',\n    'GameId': 'nunique'\n    })[offense_cols].rename(columns={\"GameId\": \"GP\"}).reset_index()\nortg",
   "execution_count": null,
   "outputs": [
    {
     "output_type": "execute_result",
     "execution_count": 10,
     "data": {
      "application/vnd.deepnote.dataframe.v3+json": {
       "column_count": 5,
       "row_count": 17123,
       "columns": [
        {
         "name": "FloorLineupId_Offense",
         "dtype": "int64",
         "stats": {
          "unique_count": 17123,
          "nan_count": 0,
          "min": "120",
          "max": "375044",
          "histogram": [
           {
            "bin_start": 120,
            "bin_end": 37612.4,
            "count": 103
           },
           {
            "bin_start": 37612.4,
            "bin_end": 75104.8,
            "count": 0
           },
           {
            "bin_start": 75104.8,
            "bin_end": 112597.20000000001,
            "count": 284
           },
           {
            "bin_start": 112597.20000000001,
            "bin_end": 150089.6,
            "count": 264
           },
           {
            "bin_start": 150089.6,
            "bin_end": 187582,
            "count": 0
           },
           {
            "bin_start": 187582,
            "bin_end": 225074.40000000002,
            "count": 0
           },
           {
            "bin_start": 225074.40000000002,
            "bin_end": 262566.8,
            "count": 0
           },
           {
            "bin_start": 262566.8,
            "bin_end": 300059.2,
            "count": 0
           },
           {
            "bin_start": 300059.2,
            "bin_end": 337551.60000000003,
            "count": 115
           },
           {
            "bin_start": 337551.60000000003,
            "bin_end": 375044,
            "count": 16357
           }
          ]
         }
        },
        {
         "name": "Points",
         "dtype": "int64",
         "stats": {
          "unique_count": 279,
          "nan_count": 0,
          "min": "0",
          "max": "1711",
          "histogram": [
           {
            "bin_start": 0,
            "bin_end": 171.1,
            "count": 16983
           },
           {
            "bin_start": 171.1,
            "bin_end": 342.2,
            "count": 94
           },
           {
            "bin_start": 342.2,
            "bin_end": 513.3,
            "count": 19
           },
           {
            "bin_start": 513.3,
            "bin_end": 684.4,
            "count": 11
           },
           {
            "bin_start": 684.4,
            "bin_end": 855.5,
            "count": 6
           },
           {
            "bin_start": 855.5,
            "bin_end": 1026.6,
            "count": 1
           },
           {
            "bin_start": 1026.6,
            "bin_end": 1197.7,
            "count": 3
           },
           {
            "bin_start": 1197.7,
            "bin_end": 1368.8,
            "count": 2
           },
           {
            "bin_start": 1368.8,
            "bin_end": 1539.8999999999999,
            "count": 2
           },
           {
            "bin_start": 1539.8999999999999,
            "bin_end": 1711,
            "count": 2
           }
          ]
         }
        },
        {
         "name": "Possession",
         "dtype": "int64",
         "stats": {
          "unique_count": 258,
          "nan_count": 0,
          "min": "0",
          "max": "1447",
          "histogram": [
           {
            "bin_start": 0,
            "bin_end": 144.7,
            "count": 16970
           },
           {
            "bin_start": 144.7,
            "bin_end": 289.4,
            "count": 104
           },
           {
            "bin_start": 289.4,
            "bin_end": 434.09999999999997,
            "count": 23
           },
           {
            "bin_start": 434.09999999999997,
            "bin_end": 578.8,
            "count": 12
           },
           {
            "bin_start": 578.8,
            "bin_end": 723.5,
            "count": 3
           },
           {
            "bin_start": 723.5,
            "bin_end": 868.1999999999999,
            "count": 3
           },
           {
            "bin_start": 868.1999999999999,
            "bin_end": 1012.8999999999999,
            "count": 2
           },
           {
            "bin_start": 1012.8999999999999,
            "bin_end": 1157.6,
            "count": 2
           },
           {
            "bin_start": 1157.6,
            "bin_end": 1302.3,
            "count": 2
           },
           {
            "bin_start": 1302.3,
            "bin_end": 1447,
            "count": 2
           }
          ]
         }
        },
        {
         "name": "Players_Offense",
         "dtype": "object",
         "stats": {
          "unique_count": 17123,
          "nan_count": 0,
          "categories": [
           {
            "name": "Dejounte Murray, Patty Mills, DeMar DeRozan, LaMarcus Aldridge, Jakob Poeltl",
            "count": 1
           },
           {
            "name": "Jamal Murray, Gary Harris, Will Barton, Paul Millsap, Nikola Jokic",
            "count": 1
           },
           {
            "name": "17121 others",
            "count": 17121
           }
          ]
         }
        },
        {
         "name": "GP",
         "dtype": "int64",
         "stats": {
          "unique_count": 40,
          "nan_count": 0,
          "min": "1",
          "max": "52",
          "histogram": [
           {
            "bin_start": 1,
            "bin_end": 6.1,
            "count": 16320
           },
           {
            "bin_start": 6.1,
            "bin_end": 11.2,
            "count": 564
           },
           {
            "bin_start": 11.2,
            "bin_end": 16.299999999999997,
            "count": 145
           },
           {
            "bin_start": 16.299999999999997,
            "bin_end": 21.4,
            "count": 48
           },
           {
            "bin_start": 21.4,
            "bin_end": 26.5,
            "count": 22
           },
           {
            "bin_start": 26.5,
            "bin_end": 31.599999999999998,
            "count": 10
           },
           {
            "bin_start": 31.599999999999998,
            "bin_end": 36.699999999999996,
            "count": 5
           },
           {
            "bin_start": 36.699999999999996,
            "bin_end": 41.8,
            "count": 5
           },
           {
            "bin_start": 41.8,
            "bin_end": 46.9,
            "count": 3
           },
           {
            "bin_start": 46.9,
            "bin_end": 52,
            "count": 1
           }
          ]
         }
        },
        {
         "name": "_deepnote_index_column",
         "dtype": "int64"
        }
       ],
       "rows": [
        {
         "FloorLineupId_Offense": 120,
         "Points": 2,
         "Possession": 2,
         "Players_Offense": "Dejounte Murray, Patty Mills, DeMar DeRozan, LaMarcus Aldridge, Jakob Poeltl",
         "GP": 1,
         "_deepnote_index_column": 0
        },
        {
         "FloorLineupId_Offense": 227,
         "Points": 615,
         "Possession": 491,
         "Players_Offense": "Jamal Murray, Gary Harris, Will Barton, Paul Millsap, Nikola Jokic",
         "GP": 16,
         "_deepnote_index_column": 1
        },
        {
         "FloorLineupId_Offense": 240,
         "Points": 10,
         "Possession": 9,
         "Players_Offense": "Doug McDermott, Justin Holiday, Edmond Sumner, T.J. McConnell, Domantas Sabonis",
         "GP": 6,
         "_deepnote_index_column": 2
        },
        {
         "FloorLineupId_Offense": 251,
         "Points": 12,
         "Possession": 14,
         "Players_Offense": "Caleb Martin, Miles Bridges, Terry Rozier, Devonte' Graham, Bismack Biyombo",
         "GP": 2,
         "_deepnote_index_column": 3
        },
        {
         "FloorLineupId_Offense": 259,
         "Points": 1407,
         "Possession": 1212,
         "Players_Offense": "Donovan Mitchell Jr., Mike Conley Jr., Royce O'Neale, Bojan Bogdanovic, Rudy Gobert",
         "GP": 41,
         "_deepnote_index_column": 4
        },
        {
         "FloorLineupId_Offense": 262,
         "Points": 1,
         "Possession": 1,
         "Players_Offense": "Zion Williamson, Nicolo Melli, Lonzo Ball, Brandon Ingram, J.J. Redick",
         "GP": 1,
         "_deepnote_index_column": 5
        },
        {
         "FloorLineupId_Offense": 308,
         "Points": 27,
         "Possession": 30,
         "Players_Offense": "Zach LaVine, Tomas Satoransky, Otto Porter Jr., Lauri Markkanen, Wendell Carter Jr.",
         "GP": 3,
         "_deepnote_index_column": 6
        },
        {
         "FloorLineupId_Offense": 334,
         "Points": 8,
         "Possession": 7,
         "Players_Offense": "Grayson Allen, Jaren Jackson Jr., Ja Morant, Brandon Clarke, Dillon Brooks",
         "GP": 1,
         "_deepnote_index_column": 7
        },
        {
         "FloorLineupId_Offense": 351,
         "Points": 164,
         "Possession": 125,
         "Players_Offense": "Rudy Gobert, Donovan Mitchell Jr., Joe Ingles, Royce O'Neale, Mike Conley Jr.",
         "GP": 14,
         "_deepnote_index_column": 8
        },
        {
         "FloorLineupId_Offense": 391,
         "Points": 5,
         "Possession": 2,
         "Players_Offense": "Grayson Allen, Tyus Jones, Dillon Brooks, Kyle Anderson, Jaren Jackson Jr.",
         "GP": 1,
         "_deepnote_index_column": 9
        }
       ]
      },
      "text/plain": "       FloorLineupId_Offense  Points  Possession  \\\n0                        120       2           2   \n1                        227     615         491   \n2                        240      10           9   \n3                        251      12          14   \n4                        259    1407        1212   \n...                      ...     ...         ...   \n17118                 375040       0           0   \n17119                 375041       2           5   \n17120                 375042       0           0   \n17121                 375043       3           4   \n17122                 375044       0           2   \n\n                                         Players_Offense  GP  \n0      Dejounte Murray, Patty Mills, DeMar DeRozan, L...   1  \n1      Jamal Murray, Gary Harris, Will Barton, Paul M...  16  \n2      Doug McDermott, Justin Holiday, Edmond Sumner,...   6  \n3      Caleb Martin, Miles Bridges, Terry Rozier, Dev...   2  \n4      Donovan Mitchell Jr., Mike Conley Jr., Royce O...  41  \n...                                                  ...  ..  \n17118  James Nunnally, James Johnson, Nickeil Alexand...   1  \n17119  Talen Horton-Tucker, Marc Gasol, Jared Dudley,...   1  \n17120  Talen Horton-Tucker, Marc Gasol, Jared Dudley,...   1  \n17121  Talen Horton-Tucker, Marc Gasol, Jared Dudley,...   1  \n17122  Naji Marshall, James Nunnally, Nickeil Alexand...   1  \n\n[17123 rows x 5 columns]",
      "text/html": "<div>\n<style scoped>\n    .dataframe tbody tr th:only-of-type {\n        vertical-align: middle;\n    }\n\n    .dataframe tbody tr th {\n        vertical-align: top;\n    }\n\n    .dataframe thead th {\n        text-align: right;\n    }\n</style>\n<table border=\"1\" class=\"dataframe\">\n  <thead>\n    <tr style=\"text-align: right;\">\n      <th></th>\n      <th>FloorLineupId_Offense</th>\n      <th>Points</th>\n      <th>Possession</th>\n      <th>Players_Offense</th>\n      <th>GP</th>\n    </tr>\n  </thead>\n  <tbody>\n    <tr>\n      <th>0</th>\n      <td>120</td>\n      <td>2</td>\n      <td>2</td>\n      <td>Dejounte Murray, Patty Mills, DeMar DeRozan, L...</td>\n      <td>1</td>\n    </tr>\n    <tr>\n      <th>1</th>\n      <td>227</td>\n      <td>615</td>\n      <td>491</td>\n      <td>Jamal Murray, Gary Harris, Will Barton, Paul M...</td>\n      <td>16</td>\n    </tr>\n    <tr>\n      <th>2</th>\n      <td>240</td>\n      <td>10</td>\n      <td>9</td>\n      <td>Doug McDermott, Justin Holiday, Edmond Sumner,...</td>\n      <td>6</td>\n    </tr>\n    <tr>\n      <th>3</th>\n      <td>251</td>\n      <td>12</td>\n      <td>14</td>\n      <td>Caleb Martin, Miles Bridges, Terry Rozier, Dev...</td>\n      <td>2</td>\n    </tr>\n    <tr>\n      <th>4</th>\n      <td>259</td>\n      <td>1407</td>\n      <td>1212</td>\n      <td>Donovan Mitchell Jr., Mike Conley Jr., Royce O...</td>\n      <td>41</td>\n    </tr>\n    <tr>\n      <th>...</th>\n      <td>...</td>\n      <td>...</td>\n      <td>...</td>\n      <td>...</td>\n      <td>...</td>\n    </tr>\n    <tr>\n      <th>17118</th>\n      <td>375040</td>\n      <td>0</td>\n      <td>0</td>\n      <td>James Nunnally, James Johnson, Nickeil Alexand...</td>\n      <td>1</td>\n    </tr>\n    <tr>\n      <th>17119</th>\n      <td>375041</td>\n      <td>2</td>\n      <td>5</td>\n      <td>Talen Horton-Tucker, Marc Gasol, Jared Dudley,...</td>\n      <td>1</td>\n    </tr>\n    <tr>\n      <th>17120</th>\n      <td>375042</td>\n      <td>0</td>\n      <td>0</td>\n      <td>Talen Horton-Tucker, Marc Gasol, Jared Dudley,...</td>\n      <td>1</td>\n    </tr>\n    <tr>\n      <th>17121</th>\n      <td>375043</td>\n      <td>3</td>\n      <td>4</td>\n      <td>Talen Horton-Tucker, Marc Gasol, Jared Dudley,...</td>\n      <td>1</td>\n    </tr>\n    <tr>\n      <th>17122</th>\n      <td>375044</td>\n      <td>0</td>\n      <td>2</td>\n      <td>Naji Marshall, James Nunnally, Nickeil Alexand...</td>\n      <td>1</td>\n    </tr>\n  </tbody>\n</table>\n<p>17123 rows × 5 columns</p>\n</div>"
     },
     "metadata": {}
    }
   ]
  },
  {
   "cell_type": "code",
   "metadata": {
    "tags": [],
    "deepnote_to_be_reexecuted": false,
    "source_hash": "aa2f0f14",
    "execution_start": 1646872306648,
    "execution_millis": 111,
    "cell_id": "00009-074c8459-9a9c-46f6-80e2-31050b7a6848",
    "deepnote_table_state": {
     "pageSize": 10,
     "pageIndex": 0,
     "filters": [],
     "sortBy": []
    },
    "deepnote_table_loading": false,
    "owner_user_id": "164b2f7e-3fa3-4553-8272-a09c4255c998",
    "deepnote_cell_type": "code",
    "deepnote_cell_height": 708
   },
   "source": "# NBA publishes the actual values here:\n# https://www.nba.com/stats/lineups/advanced/?Season=2020-21&SeasonType=Regular%20Season&sort=GROUP_NAME&dir=-1\n# Calculated values are still slightly off, not sure what's wrong\nortg['ORTG'] = 100 * ortg['Points'] / ortg['Possession']\n\nortg = ortg[['FloorLineupId_Offense', 'Players_Offense', 'ORTG', 'Points', 'Possession', 'GP']]\nortg.sort_values(by='GP', ascending=False)",
   "execution_count": null,
   "outputs": [
    {
     "output_type": "execute_result",
     "execution_count": 14,
     "data": {
      "application/vnd.deepnote.dataframe.v3+json": {
       "column_count": 6,
       "row_count": 17123,
       "columns": [
        {
         "name": "FloorLineupId_Offense",
         "dtype": "int64",
         "stats": {
          "unique_count": 17123,
          "nan_count": 0,
          "min": "120",
          "max": "375044",
          "histogram": [
           {
            "bin_start": 120,
            "bin_end": 37612.4,
            "count": 103
           },
           {
            "bin_start": 37612.4,
            "bin_end": 75104.8,
            "count": 0
           },
           {
            "bin_start": 75104.8,
            "bin_end": 112597.20000000001,
            "count": 284
           },
           {
            "bin_start": 112597.20000000001,
            "bin_end": 150089.6,
            "count": 264
           },
           {
            "bin_start": 150089.6,
            "bin_end": 187582,
            "count": 0
           },
           {
            "bin_start": 187582,
            "bin_end": 225074.40000000002,
            "count": 0
           },
           {
            "bin_start": 225074.40000000002,
            "bin_end": 262566.8,
            "count": 0
           },
           {
            "bin_start": 262566.8,
            "bin_end": 300059.2,
            "count": 0
           },
           {
            "bin_start": 300059.2,
            "bin_end": 337551.60000000003,
            "count": 115
           },
           {
            "bin_start": 337551.60000000003,
            "bin_end": 375044,
            "count": 16357
           }
          ]
         }
        },
        {
         "name": "Players_Offense",
         "dtype": "object",
         "stats": {
          "unique_count": 17123,
          "nan_count": 0,
          "categories": [
           {
            "name": "Devin Booker, Chris Paul, Mikal Bridges, Jae Crowder, Deandre Ayton",
            "count": 1
           },
           {
            "name": "Donovan Mitchell Jr., Jordan Clarkson, Derrick Favors, Royce O'Neale, Bojan Bogdanovic",
            "count": 1
           },
           {
            "name": "17121 others",
            "count": 17121
           }
          ]
         }
        },
        {
         "name": "ORTG",
         "dtype": "float64",
         "stats": {
          "unique_count": 1080,
          "nan_count": 2837,
          "min": "0.0",
          "max": "inf",
          "histogram": [
           {
            "bin_start": 0,
            "bin_end": 40,
            "count": 1998
           },
           {
            "bin_start": 40,
            "bin_end": 80,
            "count": 2145
           },
           {
            "bin_start": 80,
            "bin_end": 120,
            "count": 4799
           },
           {
            "bin_start": 120,
            "bin_end": 160,
            "count": 3291
           },
           {
            "bin_start": 160,
            "bin_end": 200,
            "count": 900
           },
           {
            "bin_start": 200,
            "bin_end": 240,
            "count": 839
           },
           {
            "bin_start": 240,
            "bin_end": 280,
            "count": 128
           },
           {
            "bin_start": 280,
            "bin_end": 320,
            "count": 181
           },
           {
            "bin_start": 320,
            "bin_end": 360,
            "count": 0
           },
           {
            "bin_start": 360,
            "bin_end": 400,
            "count": 3
           }
          ]
         }
        },
        {
         "name": "Points",
         "dtype": "int64",
         "stats": {
          "unique_count": 279,
          "nan_count": 0,
          "min": "0",
          "max": "1711",
          "histogram": [
           {
            "bin_start": 0,
            "bin_end": 171.1,
            "count": 16983
           },
           {
            "bin_start": 171.1,
            "bin_end": 342.2,
            "count": 94
           },
           {
            "bin_start": 342.2,
            "bin_end": 513.3,
            "count": 19
           },
           {
            "bin_start": 513.3,
            "bin_end": 684.4,
            "count": 11
           },
           {
            "bin_start": 684.4,
            "bin_end": 855.5,
            "count": 6
           },
           {
            "bin_start": 855.5,
            "bin_end": 1026.6,
            "count": 1
           },
           {
            "bin_start": 1026.6,
            "bin_end": 1197.7,
            "count": 3
           },
           {
            "bin_start": 1197.7,
            "bin_end": 1368.8,
            "count": 2
           },
           {
            "bin_start": 1368.8,
            "bin_end": 1539.8999999999999,
            "count": 2
           },
           {
            "bin_start": 1539.8999999999999,
            "bin_end": 1711,
            "count": 2
           }
          ]
         }
        },
        {
         "name": "Possession",
         "dtype": "int64",
         "stats": {
          "unique_count": 258,
          "nan_count": 0,
          "min": "0",
          "max": "1447",
          "histogram": [
           {
            "bin_start": 0,
            "bin_end": 144.7,
            "count": 16970
           },
           {
            "bin_start": 144.7,
            "bin_end": 289.4,
            "count": 104
           },
           {
            "bin_start": 289.4,
            "bin_end": 434.09999999999997,
            "count": 23
           },
           {
            "bin_start": 434.09999999999997,
            "bin_end": 578.8,
            "count": 12
           },
           {
            "bin_start": 578.8,
            "bin_end": 723.5,
            "count": 3
           },
           {
            "bin_start": 723.5,
            "bin_end": 868.1999999999999,
            "count": 3
           },
           {
            "bin_start": 868.1999999999999,
            "bin_end": 1012.8999999999999,
            "count": 2
           },
           {
            "bin_start": 1012.8999999999999,
            "bin_end": 1157.6,
            "count": 2
           },
           {
            "bin_start": 1157.6,
            "bin_end": 1302.3,
            "count": 2
           },
           {
            "bin_start": 1302.3,
            "bin_end": 1447,
            "count": 2
           }
          ]
         }
        },
        {
         "name": "GP",
         "dtype": "int64"
        },
        {
         "name": "_deepnote_index_column",
         "dtype": "int64"
        }
       ],
       "rows": [
        {
         "FloorLineupId_Offense": 350078,
         "Players_Offense": "Devin Booker, Chris Paul, Mikal Bridges, Jae Crowder, Deandre Ayton",
         "ORTG": 118.24464409122322,
         "Points": 1711,
         "Possession": 1447,
         "GP": 52,
         "_deepnote_index_column": 1108
        },
        {
         "FloorLineupId_Offense": 350400,
         "Players_Offense": "Donovan Mitchell Jr., Jordan Clarkson, Derrick Favors, Royce O'Neale, Bojan Bogdanovic",
         "ORTG": 124.27007299270073,
         "Points": 681,
         "Possession": 548,
         "GP": 45,
         "_deepnote_index_column": 1229
        },
        {
         "FloorLineupId_Offense": 349210,
         "Players_Offense": "Donte DiVincenzo, Jrue Holiday, Khris Middleton, Giannis Antetokounmpo, Brook Lopez",
         "ORTG": 120.67736185383244,
         "Points": 1354,
         "Possession": 1122,
         "GP": 45,
         "_deepnote_index_column": 863
        },
        {
         "FloorLineupId_Offense": 349037,
         "Players_Offense": "Reggie Bullock, Elfrid Payton, Julius Randle, Nerlens Noel, R.J. Barrett",
         "ORTG": 110.5691056910569,
         "Points": 1224,
         "Possession": 1107,
         "GP": 42,
         "_deepnote_index_column": 807
        },
        {
         "FloorLineupId_Offense": 350467,
         "Players_Offense": "Eric Bledsoe, Lonzo Ball, Brandon Ingram, Zion Williamson, Steven Adams",
         "ORTG": 118.38529176658673,
         "Points": 1481,
         "Possession": 1251,
         "GP": 41,
         "_deepnote_index_column": 1250
        },
        {
         "FloorLineupId_Offense": 259,
         "Players_Offense": "Donovan Mitchell Jr., Mike Conley Jr., Royce O'Neale, Bojan Bogdanovic, Rudy Gobert",
         "ORTG": 116.08910891089108,
         "Points": 1407,
         "Possession": 1212,
         "GP": 41,
         "_deepnote_index_column": 4
        },
        {
         "FloorLineupId_Offense": 349655,
         "Players_Offense": "De'Aaron Fox, Harrison Barnes, Buddy Hield, Richaun Holmes, Tyrese Haliburton",
         "ORTG": 122.09302325581395,
         "Points": 1050,
         "Possession": 860,
         "GP": 40,
         "_deepnote_index_column": 996
        },
        {
         "FloorLineupId_Offense": 351813,
         "Players_Offense": "Cameron Payne, Jae Crowder, Devin Booker, Mikal Bridges, Deandre Ayton",
         "ORTG": 126.8199233716475,
         "Points": 331,
         "Possession": 261,
         "GP": 40,
         "_deepnote_index_column": 2205
        },
        {
         "FloorLineupId_Offense": 350366,
         "Players_Offense": "Joe Ingles, Royce O'Neale, Derrick Favors, Bojan Bogdanovic, Donovan Mitchell Jr.",
         "ORTG": 112.63440860215054,
         "Points": 419,
         "Possession": 372,
         "GP": 39,
         "_deepnote_index_column": 1217
        },
        {
         "FloorLineupId_Offense": 77062,
         "Players_Offense": "Jonas Valanciunas, Dillon Brooks, Kyle Anderson, Grayson Allen, Ja Morant",
         "ORTG": 116.91995947315097,
         "Points": 1154,
         "Possession": 987,
         "GP": 35,
         "_deepnote_index_column": 114
        }
       ]
      },
      "text/plain": "       FloorLineupId_Offense  \\\n1108                  350078   \n1229                  350400   \n863                   349210   \n807                   349037   \n1250                  350467   \n...                      ...   \n7974                  360349   \n7975                  360350   \n7976                  360351   \n7978                  360353   \n17122                 375044   \n\n                                         Players_Offense        ORTG  Points  \\\n1108   Devin Booker, Chris Paul, Mikal Bridges, Jae C...  118.244644    1711   \n1229   Donovan Mitchell Jr., Jordan Clarkson, Derrick...  124.270073     681   \n863    Donte DiVincenzo, Jrue Holiday, Khris Middleto...  120.677362    1354   \n807    Reggie Bullock, Elfrid Payton, Julius Randle, ...  110.569106    1224   \n1250   Eric Bledsoe, Lonzo Ball, Brandon Ingram, Zion...  118.385292    1481   \n...                                                  ...         ...     ...   \n7974   Mason Plumlee, Wayne Ellington, Delon Wright, ...         NaN       0   \n7975   Michael Porter Jr., Jamal Murray, Isaiah Harte...         NaN       0   \n7976   Michael Porter Jr., Jamal Murray, Isaiah Harte...         NaN       0   \n7978   Ivica Zubac, Patrick Patterson, Amir Coffey, M...   33.333333       2   \n17122  Naji Marshall, James Nunnally, Nickeil Alexand...    0.000000       0   \n\n       Possession  GP  \n1108         1447  52  \n1229          548  45  \n863          1122  45  \n807          1107  42  \n1250         1251  41  \n...           ...  ..  \n7974            0   1  \n7975            0   1  \n7976            0   1  \n7978            6   1  \n17122           2   1  \n\n[17123 rows x 6 columns]",
      "text/html": "<div>\n<style scoped>\n    .dataframe tbody tr th:only-of-type {\n        vertical-align: middle;\n    }\n\n    .dataframe tbody tr th {\n        vertical-align: top;\n    }\n\n    .dataframe thead th {\n        text-align: right;\n    }\n</style>\n<table border=\"1\" class=\"dataframe\">\n  <thead>\n    <tr style=\"text-align: right;\">\n      <th></th>\n      <th>FloorLineupId_Offense</th>\n      <th>Players_Offense</th>\n      <th>ORTG</th>\n      <th>Points</th>\n      <th>Possession</th>\n      <th>GP</th>\n    </tr>\n  </thead>\n  <tbody>\n    <tr>\n      <th>1108</th>\n      <td>350078</td>\n      <td>Devin Booker, Chris Paul, Mikal Bridges, Jae C...</td>\n      <td>118.244644</td>\n      <td>1711</td>\n      <td>1447</td>\n      <td>52</td>\n    </tr>\n    <tr>\n      <th>1229</th>\n      <td>350400</td>\n      <td>Donovan Mitchell Jr., Jordan Clarkson, Derrick...</td>\n      <td>124.270073</td>\n      <td>681</td>\n      <td>548</td>\n      <td>45</td>\n    </tr>\n    <tr>\n      <th>863</th>\n      <td>349210</td>\n      <td>Donte DiVincenzo, Jrue Holiday, Khris Middleto...</td>\n      <td>120.677362</td>\n      <td>1354</td>\n      <td>1122</td>\n      <td>45</td>\n    </tr>\n    <tr>\n      <th>807</th>\n      <td>349037</td>\n      <td>Reggie Bullock, Elfrid Payton, Julius Randle, ...</td>\n      <td>110.569106</td>\n      <td>1224</td>\n      <td>1107</td>\n      <td>42</td>\n    </tr>\n    <tr>\n      <th>1250</th>\n      <td>350467</td>\n      <td>Eric Bledsoe, Lonzo Ball, Brandon Ingram, Zion...</td>\n      <td>118.385292</td>\n      <td>1481</td>\n      <td>1251</td>\n      <td>41</td>\n    </tr>\n    <tr>\n      <th>...</th>\n      <td>...</td>\n      <td>...</td>\n      <td>...</td>\n      <td>...</td>\n      <td>...</td>\n      <td>...</td>\n    </tr>\n    <tr>\n      <th>7974</th>\n      <td>360349</td>\n      <td>Mason Plumlee, Wayne Ellington, Delon Wright, ...</td>\n      <td>NaN</td>\n      <td>0</td>\n      <td>0</td>\n      <td>1</td>\n    </tr>\n    <tr>\n      <th>7975</th>\n      <td>360350</td>\n      <td>Michael Porter Jr., Jamal Murray, Isaiah Harte...</td>\n      <td>NaN</td>\n      <td>0</td>\n      <td>0</td>\n      <td>1</td>\n    </tr>\n    <tr>\n      <th>7976</th>\n      <td>360351</td>\n      <td>Michael Porter Jr., Jamal Murray, Isaiah Harte...</td>\n      <td>NaN</td>\n      <td>0</td>\n      <td>0</td>\n      <td>1</td>\n    </tr>\n    <tr>\n      <th>7978</th>\n      <td>360353</td>\n      <td>Ivica Zubac, Patrick Patterson, Amir Coffey, M...</td>\n      <td>33.333333</td>\n      <td>2</td>\n      <td>6</td>\n      <td>1</td>\n    </tr>\n    <tr>\n      <th>17122</th>\n      <td>375044</td>\n      <td>Naji Marshall, James Nunnally, Nickeil Alexand...</td>\n      <td>0.000000</td>\n      <td>0</td>\n      <td>2</td>\n      <td>1</td>\n    </tr>\n  </tbody>\n</table>\n<p>17123 rows × 6 columns</p>\n</div>"
     },
     "metadata": {}
    }
   ]
  },
  {
   "cell_type": "code",
   "metadata": {
    "cell_id": "755f5551-5ab4-4634-98e9-d67ad6a5e9ec",
    "tags": [],
    "deepnote_to_be_reexecuted": false,
    "source_hash": "47a6fdbe",
    "execution_start": 1646872350884,
    "execution_millis": 109,
    "deepnote_cell_type": "code",
    "deepnote_cell_height": 636
   },
   "source": "drtg['DRTG'] = 100 * drtg['Points'] / drtg['Possession']\ndrtg = drtg[['FloorLineupId_Defense', 'Players_Defense', 'DRTG', 'Points', 'Possession', 'GP']]\ndrtg.sort_values(by='GP', ascending=False)",
   "execution_count": null,
   "outputs": [
    {
     "output_type": "execute_result",
     "execution_count": 16,
     "data": {
      "application/vnd.deepnote.dataframe.v3+json": {
       "column_count": 6,
       "row_count": 16847,
       "columns": [
        {
         "name": "FloorLineupId_Defense",
         "dtype": "int64",
         "stats": {
          "unique_count": 16847,
          "nan_count": 0,
          "min": "120",
          "max": "375044",
          "histogram": [
           {
            "bin_start": 120,
            "bin_end": 37612.4,
            "count": 101
           },
           {
            "bin_start": 37612.4,
            "bin_end": 75104.8,
            "count": 0
           },
           {
            "bin_start": 75104.8,
            "bin_end": 112597.20000000001,
            "count": 272
           },
           {
            "bin_start": 112597.20000000001,
            "bin_end": 150089.6,
            "count": 267
           },
           {
            "bin_start": 150089.6,
            "bin_end": 187582,
            "count": 0
           },
           {
            "bin_start": 187582,
            "bin_end": 225074.40000000002,
            "count": 0
           },
           {
            "bin_start": 225074.40000000002,
            "bin_end": 262566.8,
            "count": 0
           },
           {
            "bin_start": 262566.8,
            "bin_end": 300059.2,
            "count": 0
           },
           {
            "bin_start": 300059.2,
            "bin_end": 337551.60000000003,
            "count": 110
           },
           {
            "bin_start": 337551.60000000003,
            "bin_end": 375044,
            "count": 16097
           }
          ]
         }
        },
        {
         "name": "Players_Defense",
         "dtype": "object",
         "stats": {
          "unique_count": 16847,
          "nan_count": 0,
          "categories": [
           {
            "name": "Devin Booker, Chris Paul, Mikal Bridges, Jae Crowder, Deandre Ayton",
            "count": 1
           },
           {
            "name": "Donte DiVincenzo, Jrue Holiday, Khris Middleton, Giannis Antetokounmpo, Brook Lopez",
            "count": 1
           },
           {
            "name": "16845 others",
            "count": 16845
           }
          ]
         }
        },
        {
         "name": "DRTG",
         "dtype": "float64",
         "stats": {
          "unique_count": 1063,
          "nan_count": 2431,
          "min": "0.0",
          "max": "inf",
          "histogram": [
           {
            "bin_start": 0,
            "bin_end": 40,
            "count": 1541
           },
           {
            "bin_start": 40,
            "bin_end": 80,
            "count": 1938
           },
           {
            "bin_start": 80,
            "bin_end": 120,
            "count": 4923
           },
           {
            "bin_start": 120,
            "bin_end": 160,
            "count": 3377
           },
           {
            "bin_start": 160,
            "bin_end": 200,
            "count": 1021
           },
           {
            "bin_start": 200,
            "bin_end": 240,
            "count": 1169
           },
           {
            "bin_start": 240,
            "bin_end": 280,
            "count": 196
           },
           {
            "bin_start": 280,
            "bin_end": 320,
            "count": 245
           },
           {
            "bin_start": 320,
            "bin_end": 360,
            "count": 0
           },
           {
            "bin_start": 360,
            "bin_end": 400,
            "count": 1
           }
          ]
         }
        },
        {
         "name": "Points",
         "dtype": "int64",
         "stats": {
          "unique_count": 271,
          "nan_count": 0,
          "min": "0",
          "max": "1633",
          "histogram": [
           {
            "bin_start": 0,
            "bin_end": 163.3,
            "count": 16696
           },
           {
            "bin_start": 163.3,
            "bin_end": 326.6,
            "count": 101
           },
           {
            "bin_start": 326.6,
            "bin_end": 489.90000000000003,
            "count": 22
           },
           {
            "bin_start": 489.90000000000003,
            "bin_end": 653.2,
            "count": 15
           },
           {
            "bin_start": 653.2,
            "bin_end": 816.5,
            "count": 3
           },
           {
            "bin_start": 816.5,
            "bin_end": 979.8000000000001,
            "count": 2
           },
           {
            "bin_start": 979.8000000000001,
            "bin_end": 1143.1000000000001,
            "count": 2
           },
           {
            "bin_start": 1143.1000000000001,
            "bin_end": 1306.4,
            "count": 3
           },
           {
            "bin_start": 1306.4,
            "bin_end": 1469.7,
            "count": 2
           },
           {
            "bin_start": 1469.7,
            "bin_end": 1633,
            "count": 1
           }
          ]
         }
        },
        {
         "name": "Possession",
         "dtype": "int64",
         "stats": {
          "unique_count": 250,
          "nan_count": 0,
          "min": "0",
          "max": "1451",
          "histogram": [
           {
            "bin_start": 0,
            "bin_end": 145.1,
            "count": 16692
           },
           {
            "bin_start": 145.1,
            "bin_end": 290.2,
            "count": 106
           },
           {
            "bin_start": 290.2,
            "bin_end": 435.29999999999995,
            "count": 23
           },
           {
            "bin_start": 435.29999999999995,
            "bin_end": 580.4,
            "count": 13
           },
           {
            "bin_start": 580.4,
            "bin_end": 725.5,
            "count": 2
           },
           {
            "bin_start": 725.5,
            "bin_end": 870.5999999999999,
            "count": 3
           },
           {
            "bin_start": 870.5999999999999,
            "bin_end": 1015.6999999999999,
            "count": 2
           },
           {
            "bin_start": 1015.6999999999999,
            "bin_end": 1160.8,
            "count": 2
           },
           {
            "bin_start": 1160.8,
            "bin_end": 1305.8999999999999,
            "count": 2
           },
           {
            "bin_start": 1305.8999999999999,
            "bin_end": 1451,
            "count": 2
           }
          ]
         }
        },
        {
         "name": "GP",
         "dtype": "int64"
        },
        {
         "name": "_deepnote_index_column",
         "dtype": "int64"
        }
       ],
       "rows": [
        {
         "FloorLineupId_Defense": 350078,
         "Players_Defense": "Devin Booker, Chris Paul, Mikal Bridges, Jae Crowder, Deandre Ayton",
         "DRTG": 112.54307374224673,
         "Points": 1633,
         "Possession": 1451,
         "GP": 52,
         "_deepnote_index_column": 1093
        },
        {
         "FloorLineupId_Defense": 349210,
         "Players_Defense": "Donte DiVincenzo, Jrue Holiday, Khris Middleton, Giannis Antetokounmpo, Brook Lopez",
         "DRTG": 111.57323688969258,
         "Points": 1234,
         "Possession": 1106,
         "GP": 45,
         "_deepnote_index_column": 843
        },
        {
         "FloorLineupId_Defense": 350400,
         "Players_Defense": "Donovan Mitchell Jr., Jordan Clarkson, Derrick Favors, Royce O'Neale, Bojan Bogdanovic",
         "DRTG": 116.78966789667896,
         "Points": 633,
         "Possession": 542,
         "GP": 45,
         "_deepnote_index_column": 1209
        },
        {
         "FloorLineupId_Defense": 349037,
         "Players_Defense": "Reggie Bullock, Elfrid Payton, Julius Randle, Nerlens Noel, R.J. Barrett",
         "DRTG": 115.23895401262399,
         "Points": 1278,
         "Possession": 1109,
         "GP": 41,
         "_deepnote_index_column": 790
        },
        {
         "FloorLineupId_Defense": 350467,
         "Players_Defense": "Eric Bledsoe, Lonzo Ball, Brandon Ingram, Zion Williamson, Steven Adams",
         "DRTG": 116.39871382636656,
         "Points": 1448,
         "Possession": 1244,
         "GP": 41,
         "_deepnote_index_column": 1230
        },
        {
         "FloorLineupId_Defense": 259,
         "Players_Defense": "Donovan Mitchell Jr., Mike Conley Jr., Royce O'Neale, Bojan Bogdanovic, Rudy Gobert",
         "DRTG": 105.44105523495466,
         "Points": 1279,
         "Possession": 1213,
         "GP": 41,
         "_deepnote_index_column": 4
        },
        {
         "FloorLineupId_Defense": 349655,
         "Players_Defense": "De'Aaron Fox, Harrison Barnes, Buddy Hield, Richaun Holmes, Tyrese Haliburton",
         "DRTG": 114.26900584795321,
         "Points": 977,
         "Possession": 855,
         "GP": 40,
         "_deepnote_index_column": 975
        },
        {
         "FloorLineupId_Defense": 350366,
         "Players_Defense": "Joe Ingles, Royce O'Neale, Derrick Favors, Bojan Bogdanovic, Donovan Mitchell Jr.",
         "DRTG": 114.36314363143632,
         "Points": 422,
         "Possession": 369,
         "GP": 39,
         "_deepnote_index_column": 1197
        },
        {
         "FloorLineupId_Defense": 351813,
         "Players_Defense": "Cameron Payne, Jae Crowder, Devin Booker, Mikal Bridges, Deandre Ayton",
         "DRTG": 116.66666666666667,
         "Points": 308,
         "Possession": 264,
         "GP": 37,
         "_deepnote_index_column": 2193
        },
        {
         "FloorLineupId_Defense": 77062,
         "Players_Defense": "Jonas Valanciunas, Dillon Brooks, Kyle Anderson, Grayson Allen, Ja Morant",
         "DRTG": 109.56256358087488,
         "Points": 1077,
         "Possession": 983,
         "GP": 35,
         "_deepnote_index_column": 110
        }
       ]
      },
      "text/plain": "       FloorLineupId_Defense  \\\n1093                  350078   \n843                   349210   \n1209                  350400   \n790                   349037   \n1230                  350467   \n...                      ...   \n7798                  359966   \n7801                  359981   \n7802                  359982   \n7803                  359983   \n16846                 375044   \n\n                                         Players_Defense        DRTG  Points  \\\n1093   Devin Booker, Chris Paul, Mikal Bridges, Jae C...  112.543074    1633   \n843    Donte DiVincenzo, Jrue Holiday, Khris Middleto...  111.573237    1234   \n1209   Donovan Mitchell Jr., Jordan Clarkson, Derrick...  116.789668     633   \n790    Reggie Bullock, Elfrid Payton, Julius Randle, ...  115.238954    1278   \n1230   Eric Bledsoe, Lonzo Ball, Brandon Ingram, Zion...  116.398714    1448   \n...                                                  ...         ...     ...   \n7798   Jaylen Brown, Semi Ojeleye, Javonte Green, Tri...  200.000000       4   \n7801   Al Horford, Justin Jackson, Luguentz Dort, Dar...  140.000000       7   \n7802   Isaiah Roby, Justin Jackson, Luguentz Dort, Da...  166.666667       5   \n7803   Isaiah Roby, Justin Jackson, Luguentz Dort, Ke...  200.000000       2   \n16846  Naji Marshall, James Nunnally, Nickeil Alexand...    0.000000       0   \n\n       Possession  GP  \n1093         1451  52  \n843          1106  45  \n1209          542  45  \n790          1109  41  \n1230         1244  41  \n...           ...  ..  \n7798            2   1  \n7801            5   1  \n7802            3   1  \n7803            1   1  \n16846           2   1  \n\n[16847 rows x 6 columns]",
      "text/html": "<div>\n<style scoped>\n    .dataframe tbody tr th:only-of-type {\n        vertical-align: middle;\n    }\n\n    .dataframe tbody tr th {\n        vertical-align: top;\n    }\n\n    .dataframe thead th {\n        text-align: right;\n    }\n</style>\n<table border=\"1\" class=\"dataframe\">\n  <thead>\n    <tr style=\"text-align: right;\">\n      <th></th>\n      <th>FloorLineupId_Defense</th>\n      <th>Players_Defense</th>\n      <th>DRTG</th>\n      <th>Points</th>\n      <th>Possession</th>\n      <th>GP</th>\n    </tr>\n  </thead>\n  <tbody>\n    <tr>\n      <th>1093</th>\n      <td>350078</td>\n      <td>Devin Booker, Chris Paul, Mikal Bridges, Jae C...</td>\n      <td>112.543074</td>\n      <td>1633</td>\n      <td>1451</td>\n      <td>52</td>\n    </tr>\n    <tr>\n      <th>843</th>\n      <td>349210</td>\n      <td>Donte DiVincenzo, Jrue Holiday, Khris Middleto...</td>\n      <td>111.573237</td>\n      <td>1234</td>\n      <td>1106</td>\n      <td>45</td>\n    </tr>\n    <tr>\n      <th>1209</th>\n      <td>350400</td>\n      <td>Donovan Mitchell Jr., Jordan Clarkson, Derrick...</td>\n      <td>116.789668</td>\n      <td>633</td>\n      <td>542</td>\n      <td>45</td>\n    </tr>\n    <tr>\n      <th>790</th>\n      <td>349037</td>\n      <td>Reggie Bullock, Elfrid Payton, Julius Randle, ...</td>\n      <td>115.238954</td>\n      <td>1278</td>\n      <td>1109</td>\n      <td>41</td>\n    </tr>\n    <tr>\n      <th>1230</th>\n      <td>350467</td>\n      <td>Eric Bledsoe, Lonzo Ball, Brandon Ingram, Zion...</td>\n      <td>116.398714</td>\n      <td>1448</td>\n      <td>1244</td>\n      <td>41</td>\n    </tr>\n    <tr>\n      <th>...</th>\n      <td>...</td>\n      <td>...</td>\n      <td>...</td>\n      <td>...</td>\n      <td>...</td>\n      <td>...</td>\n    </tr>\n    <tr>\n      <th>7798</th>\n      <td>359966</td>\n      <td>Jaylen Brown, Semi Ojeleye, Javonte Green, Tri...</td>\n      <td>200.000000</td>\n      <td>4</td>\n      <td>2</td>\n      <td>1</td>\n    </tr>\n    <tr>\n      <th>7801</th>\n      <td>359981</td>\n      <td>Al Horford, Justin Jackson, Luguentz Dort, Dar...</td>\n      <td>140.000000</td>\n      <td>7</td>\n      <td>5</td>\n      <td>1</td>\n    </tr>\n    <tr>\n      <th>7802</th>\n      <td>359982</td>\n      <td>Isaiah Roby, Justin Jackson, Luguentz Dort, Da...</td>\n      <td>166.666667</td>\n      <td>5</td>\n      <td>3</td>\n      <td>1</td>\n    </tr>\n    <tr>\n      <th>7803</th>\n      <td>359983</td>\n      <td>Isaiah Roby, Justin Jackson, Luguentz Dort, Ke...</td>\n      <td>200.000000</td>\n      <td>2</td>\n      <td>1</td>\n      <td>1</td>\n    </tr>\n    <tr>\n      <th>16846</th>\n      <td>375044</td>\n      <td>Naji Marshall, James Nunnally, Nickeil Alexand...</td>\n      <td>0.000000</td>\n      <td>0</td>\n      <td>2</td>\n      <td>1</td>\n    </tr>\n  </tbody>\n</table>\n<p>16847 rows × 6 columns</p>\n</div>"
     },
     "metadata": {}
    }
   ]
  },
  {
   "cell_type": "code",
   "metadata": {
    "cell_id": "c9824c5b-432a-4d5e-9149-7d22f9215e33",
    "tags": [],
    "deepnote_cell_type": "code",
    "deepnote_cell_height": 66
   },
   "source": "",
   "execution_count": null,
   "outputs": []
  },
  {
   "cell_type": "markdown",
   "source": "<a style='text-decoration:none;line-height:16px;display:flex;color:#5B5B62;padding:10px;justify-content:end;' href='https://deepnote.com?utm_source=created-in-deepnote-cell&projectId=5315bb81-8e59-4c5b-821c-2b4f7eb9c2e2' target=\"_blank\">\n<img alt='Created in deepnote.com' style='display:inline;max-height:16px;margin:0px;margin-right:7.5px;' src='data:image/svg+xml;base64,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' > </img>\nCreated in <span style='font-weight:600;margin-left:4px;'>Deepnote</span></a>",
   "metadata": {
    "tags": [],
    "created_in_deepnote_cell": true,
    "deepnote_cell_type": "markdown"
   }
  }
 ],
 "nbformat": 4,
 "nbformat_minor": 2,
 "metadata": {
  "orig_nbformat": 2,
  "deepnote": {
   "is_reactive": false
  },
  "deepnote_notebook_id": "836a40d9-2606-4d91-b1f5-380d696a77d7",
  "deepnote_execution_queue": []
 }
}