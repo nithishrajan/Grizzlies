{
 "cells": [
  {
   "cell_type": "code",
   "metadata": {
    "tags": [],
    "deepnote_to_be_reexecuted": false,
    "source_hash": "c76c7c51",
    "execution_start": 1648764117228,
    "execution_millis": 1,
    "cell_id": "82895119-fe18-4ca0-9c3f-e6be5d776fd4",
    "deepnote_cell_type": "code",
    "deepnote_cell_height": 99
   },
   "source": "import pandas as pd\nimport numpy as np",
   "execution_count": null,
   "outputs": []
  },
  {
   "cell_type": "code",
   "metadata": {
    "tags": [],
    "deepnote_to_be_reexecuted": false,
    "source_hash": "c788b90e",
    "execution_start": 1648764117229,
    "execution_millis": 15624,
    "deepnote_table_state": {
     "pageSize": 10,
     "pageIndex": 0,
     "filters": [],
     "sortBy": [
      {
       "id": "SeasonYear",
       "type": "desc"
      }
     ]
    },
    "deepnote_table_loading": false,
    "deepnote_table_invalid": false,
    "cell_id": "00001-d3b49335-8441-44c8-9b37-d2e781f3b9d5",
    "deepnote_cell_type": "code",
    "deepnote_cell_height": 445
   },
   "source": "play_by_play = pd.read_csv('PlayByPlay.csv')\nplay_by_play.head()",
   "execution_count": null,
   "outputs": [
    {
     "output_type": "execute_result",
     "execution_count": 2,
     "data": {
      "application/vnd.deepnote.dataframe.v3+json": {
       "column_count": 44,
       "row_count": 5,
       "columns": [
        {
         "name": "GameId",
         "dtype": "int64",
         "stats": {
          "unique_count": 1,
          "nan_count": 0,
          "min": "63864",
          "max": "63864",
          "histogram": [
           {
            "bin_start": 63863.5,
            "bin_end": 63863.6,
            "count": 0
           },
           {
            "bin_start": 63863.6,
            "bin_end": 63863.7,
            "count": 0
           },
           {
            "bin_start": 63863.7,
            "bin_end": 63863.8,
            "count": 0
           },
           {
            "bin_start": 63863.8,
            "bin_end": 63863.9,
            "count": 0
           },
           {
            "bin_start": 63863.9,
            "bin_end": 63864,
            "count": 0
           },
           {
            "bin_start": 63864,
            "bin_end": 63864.1,
            "count": 5
           },
           {
            "bin_start": 63864.1,
            "bin_end": 63864.2,
            "count": 0
           },
           {
            "bin_start": 63864.2,
            "bin_end": 63864.3,
            "count": 0
           },
           {
            "bin_start": 63864.3,
            "bin_end": 63864.4,
            "count": 0
           },
           {
            "bin_start": 63864.4,
            "bin_end": 63864.5,
            "count": 0
           }
          ]
         }
        },
        {
         "name": "GameDate_Only",
         "dtype": "object",
         "stats": {
          "unique_count": 1,
          "nan_count": 0,
          "categories": [
           {
            "name": "2018-10-16",
            "count": 5
           }
          ]
         }
        },
        {
         "name": "SeasonYear",
         "dtype": "int64",
         "stats": {
          "unique_count": 1,
          "nan_count": 0,
          "min": "2018",
          "max": "2018",
          "histogram": [
           {
            "bin_start": 2017.5,
            "bin_end": 2017.6,
            "count": 0
           },
           {
            "bin_start": 2017.6,
            "bin_end": 2017.7,
            "count": 0
           },
           {
            "bin_start": 2017.7,
            "bin_end": 2017.8,
            "count": 0
           },
           {
            "bin_start": 2017.8,
            "bin_end": 2017.9,
            "count": 0
           },
           {
            "bin_start": 2017.9,
            "bin_end": 2018,
            "count": 0
           },
           {
            "bin_start": 2018,
            "bin_end": 2018.1,
            "count": 5
           },
           {
            "bin_start": 2018.1,
            "bin_end": 2018.2,
            "count": 0
           },
           {
            "bin_start": 2018.2,
            "bin_end": 2018.3,
            "count": 0
           },
           {
            "bin_start": 2018.3,
            "bin_end": 2018.4,
            "count": 0
           },
           {
            "bin_start": 2018.4,
            "bin_end": 2018.5,
            "count": 0
           }
          ]
         }
        },
        {
         "name": "PlayByPlayId",
         "dtype": "int64",
         "stats": {
          "unique_count": 5,
          "nan_count": 0,
          "min": "79300",
          "max": "79304",
          "histogram": [
           {
            "bin_start": 79300,
            "bin_end": 79300.4,
            "count": 1
           },
           {
            "bin_start": 79300.4,
            "bin_end": 79300.8,
            "count": 0
           },
           {
            "bin_start": 79300.8,
            "bin_end": 79301.2,
            "count": 1
           },
           {
            "bin_start": 79301.2,
            "bin_end": 79301.6,
            "count": 0
           },
           {
            "bin_start": 79301.6,
            "bin_end": 79302,
            "count": 0
           },
           {
            "bin_start": 79302,
            "bin_end": 79302.4,
            "count": 1
           },
           {
            "bin_start": 79302.4,
            "bin_end": 79302.8,
            "count": 0
           },
           {
            "bin_start": 79302.8,
            "bin_end": 79303.2,
            "count": 1
           },
           {
            "bin_start": 79303.2,
            "bin_end": 79303.6,
            "count": 0
           },
           {
            "bin_start": 79303.6,
            "bin_end": 79304,
            "count": 1
           }
          ]
         }
        },
        {
         "name": "EventNumber",
         "dtype": "int64",
         "stats": {
          "unique_count": 5,
          "nan_count": 0,
          "min": "4",
          "max": "10",
          "histogram": [
           {
            "bin_start": 4,
            "bin_end": 4.6,
            "count": 1
           },
           {
            "bin_start": 4.6,
            "bin_end": 5.2,
            "count": 0
           },
           {
            "bin_start": 5.2,
            "bin_end": 5.8,
            "count": 0
           },
           {
            "bin_start": 5.8,
            "bin_end": 6.4,
            "count": 0
           },
           {
            "bin_start": 6.4,
            "bin_end": 7,
            "count": 0
           },
           {
            "bin_start": 7,
            "bin_end": 7.6,
            "count": 1
           },
           {
            "bin_start": 7.6,
            "bin_end": 8.2,
            "count": 1
           },
           {
            "bin_start": 8.2,
            "bin_end": 8.8,
            "count": 0
           },
           {
            "bin_start": 8.8,
            "bin_end": 9.399999999999999,
            "count": 1
           },
           {
            "bin_start": 9.399999999999999,
            "bin_end": 10,
            "count": 1
           }
          ]
         }
        },
        {
         "name": "Period",
         "dtype": "int64",
         "stats": {
          "unique_count": 1,
          "nan_count": 0,
          "min": "1",
          "max": "1",
          "histogram": [
           {
            "bin_start": 0.5,
            "bin_end": 0.6,
            "count": 0
           },
           {
            "bin_start": 0.6,
            "bin_end": 0.7,
            "count": 0
           },
           {
            "bin_start": 0.7,
            "bin_end": 0.8,
            "count": 0
           },
           {
            "bin_start": 0.8,
            "bin_end": 0.9,
            "count": 0
           },
           {
            "bin_start": 0.9,
            "bin_end": 1,
            "count": 0
           },
           {
            "bin_start": 1,
            "bin_end": 1.1,
            "count": 5
           },
           {
            "bin_start": 1.1,
            "bin_end": 1.2000000000000002,
            "count": 0
           },
           {
            "bin_start": 1.2000000000000002,
            "bin_end": 1.3,
            "count": 0
           },
           {
            "bin_start": 1.3,
            "bin_end": 1.4,
            "count": 0
           },
           {
            "bin_start": 1.4,
            "bin_end": 1.5,
            "count": 0
           }
          ]
         }
        },
        {
         "name": "GameClock_Minutes",
         "dtype": "int64",
         "stats": {
          "unique_count": 2,
          "nan_count": 0,
          "min": "11",
          "max": "12",
          "histogram": [
           {
            "bin_start": 11,
            "bin_end": 11.1,
            "count": 4
           },
           {
            "bin_start": 11.1,
            "bin_end": 11.2,
            "count": 0
           },
           {
            "bin_start": 11.2,
            "bin_end": 11.3,
            "count": 0
           },
           {
            "bin_start": 11.3,
            "bin_end": 11.4,
            "count": 0
           },
           {
            "bin_start": 11.4,
            "bin_end": 11.5,
            "count": 0
           },
           {
            "bin_start": 11.5,
            "bin_end": 11.6,
            "count": 0
           },
           {
            "bin_start": 11.6,
            "bin_end": 11.7,
            "count": 0
           },
           {
            "bin_start": 11.7,
            "bin_end": 11.8,
            "count": 0
           },
           {
            "bin_start": 11.8,
            "bin_end": 11.9,
            "count": 0
           },
           {
            "bin_start": 11.9,
            "bin_end": 12,
            "count": 1
           }
          ]
         }
        },
        {
         "name": "GameClock_Seconds",
         "dtype": "int64",
         "stats": {
          "unique_count": 4,
          "nan_count": 0,
          "min": "0",
          "max": "40",
          "histogram": [
           {
            "bin_start": 0,
            "bin_end": 4,
            "count": 1
           },
           {
            "bin_start": 4,
            "bin_end": 8,
            "count": 0
           },
           {
            "bin_start": 8,
            "bin_end": 12,
            "count": 0
           },
           {
            "bin_start": 12,
            "bin_end": 16,
            "count": 1
           },
           {
            "bin_start": 16,
            "bin_end": 20,
            "count": 1
           },
           {
            "bin_start": 20,
            "bin_end": 24,
            "count": 0
           },
           {
            "bin_start": 24,
            "bin_end": 28,
            "count": 0
           },
           {
            "bin_start": 28,
            "bin_end": 32,
            "count": 0
           },
           {
            "bin_start": 32,
            "bin_end": 36,
            "count": 0
           },
           {
            "bin_start": 36,
            "bin_end": 40,
            "count": 2
           }
          ]
         }
        },
        {
         "name": "GameClock",
         "dtype": "object",
         "stats": {
          "unique_count": 4,
          "nan_count": 0,
          "categories": [
           {
            "name": "11:40",
            "count": 2
           },
           {
            "name": "12:00",
            "count": 1
           },
           {
            "name": "2 others",
            "count": 2
           }
          ]
         }
        },
        {
         "name": "Description",
         "dtype": "object",
         "stats": {
          "unique_count": 5,
          "nan_count": 0,
          "categories": [
           {
            "name": "Jump Ball Embiid vs Horford (Simmons gains possession)",
            "count": 1
           },
           {
            "name": "[PHI] Covington 3pt Shot: Missed",
            "count": 1
           },
           {
            "name": "3 others",
            "count": 3
           }
          ]
         }
        },
        {
         "name": "EventTypeId",
         "dtype": "int64",
         "stats": {
          "unique_count": 4,
          "nan_count": 0,
          "min": "2",
          "max": "20",
          "histogram": [
           {
            "bin_start": 2,
            "bin_end": 3.8,
            "count": 2
           },
           {
            "bin_start": 3.8,
            "bin_end": 5.6,
            "count": 1
           },
           {
            "bin_start": 5.6,
            "bin_end": 7.4,
            "count": 0
           },
           {
            "bin_start": 7.4,
            "bin_end": 9.2,
            "count": 0
           },
           {
            "bin_start": 9.2,
            "bin_end": 11,
            "count": 1
           },
           {
            "bin_start": 11,
            "bin_end": 12.8,
            "count": 0
           },
           {
            "bin_start": 12.8,
            "bin_end": 14.6,
            "count": 0
           },
           {
            "bin_start": 14.6,
            "bin_end": 16.4,
            "count": 0
           },
           {
            "bin_start": 16.4,
            "bin_end": 18.2,
            "count": 0
           },
           {
            "bin_start": 18.2,
            "bin_end": 20,
            "count": 1
           }
          ]
         }
        },
        {
         "name": "EventType",
         "dtype": "object",
         "stats": {
          "unique_count": 4,
          "nan_count": 0,
          "categories": [
           {
            "name": "Missed Shot",
            "count": 2
           },
           {
            "name": "Jump Ball",
            "count": 1
           },
           {
            "name": "2 others",
            "count": 2
           }
          ]
         }
        },
        {
         "name": "ActionTypeIndex",
         "dtype": "int64",
         "stats": {
          "unique_count": 3,
          "nan_count": 0,
          "min": "0",
          "max": "3",
          "histogram": [
           {
            "bin_start": 0,
            "bin_end": 0.3,
            "count": 2
           },
           {
            "bin_start": 0.3,
            "bin_end": 0.6,
            "count": 0
           },
           {
            "bin_start": 0.6,
            "bin_end": 0.8999999999999999,
            "count": 0
           },
           {
            "bin_start": 0.8999999999999999,
            "bin_end": 1.2,
            "count": 2
           },
           {
            "bin_start": 1.2,
            "bin_end": 1.5,
            "count": 0
           },
           {
            "bin_start": 1.5,
            "bin_end": 1.7999999999999998,
            "count": 0
           },
           {
            "bin_start": 1.7999999999999998,
            "bin_end": 2.1,
            "count": 0
           },
           {
            "bin_start": 2.1,
            "bin_end": 2.4,
            "count": 0
           },
           {
            "bin_start": 2.4,
            "bin_end": 2.6999999999999997,
            "count": 0
           },
           {
            "bin_start": 2.6999999999999997,
            "bin_end": 3,
            "count": 1
           }
          ]
         }
        },
        {
         "name": "ActionTypeName",
         "dtype": "object",
         "stats": {
          "unique_count": 4,
          "nan_count": 0,
          "categories": [
           {
            "name": "Jump Shot",
            "count": 2
           },
           {
            "name": "Jump Ball",
            "count": 1
           },
           {
            "name": "2 others",
            "count": 2
           }
          ]
         }
        },
        {
         "name": "Points",
         "dtype": "int64",
         "stats": {
          "unique_count": 1,
          "nan_count": 0,
          "min": "0",
          "max": "0",
          "histogram": [
           {
            "bin_start": -0.5,
            "bin_end": -0.4,
            "count": 0
           },
           {
            "bin_start": -0.4,
            "bin_end": -0.3,
            "count": 0
           },
           {
            "bin_start": -0.3,
            "bin_end": -0.19999999999999996,
            "count": 0
           },
           {
            "bin_start": -0.19999999999999996,
            "bin_end": -0.09999999999999998,
            "count": 0
           },
           {
            "bin_start": -0.09999999999999998,
            "bin_end": 0,
            "count": 0
           },
           {
            "bin_start": 0,
            "bin_end": 0.10000000000000009,
            "count": 5
           },
           {
            "bin_start": 0.10000000000000009,
            "bin_end": 0.20000000000000007,
            "count": 0
           },
           {
            "bin_start": 0.20000000000000007,
            "bin_end": 0.30000000000000004,
            "count": 0
           },
           {
            "bin_start": 0.30000000000000004,
            "bin_end": 0.4,
            "count": 0
           },
           {
            "bin_start": 0.4,
            "bin_end": 0.5,
            "count": 0
           }
          ]
         }
        },
        {
         "name": "PlayLength_Seconds",
         "dtype": "int64",
         "stats": {
          "unique_count": 4,
          "nan_count": 0,
          "min": "0",
          "max": "22",
          "histogram": [
           {
            "bin_start": 0,
            "bin_end": 2.2,
            "count": 2
           },
           {
            "bin_start": 2.2,
            "bin_end": 4.4,
            "count": 1
           },
           {
            "bin_start": 4.4,
            "bin_end": 6.6000000000000005,
            "count": 0
           },
           {
            "bin_start": 6.6000000000000005,
            "bin_end": 8.8,
            "count": 0
           },
           {
            "bin_start": 8.8,
            "bin_end": 11,
            "count": 0
           },
           {
            "bin_start": 11,
            "bin_end": 13.200000000000001,
            "count": 0
           },
           {
            "bin_start": 13.200000000000001,
            "bin_end": 15.400000000000002,
            "count": 0
           },
           {
            "bin_start": 15.400000000000002,
            "bin_end": 17.6,
            "count": 0
           },
           {
            "bin_start": 17.6,
            "bin_end": 19.8,
            "count": 0
           },
           {
            "bin_start": 19.8,
            "bin_end": 22,
            "count": 2
           }
          ]
         }
        },
        {
         "name": "TeamScore_Offense",
         "dtype": "int64",
         "stats": {
          "unique_count": 1,
          "nan_count": 0,
          "min": "0",
          "max": "0",
          "histogram": [
           {
            "bin_start": -0.5,
            "bin_end": -0.4,
            "count": 0
           },
           {
            "bin_start": -0.4,
            "bin_end": -0.3,
            "count": 0
           },
           {
            "bin_start": -0.3,
            "bin_end": -0.19999999999999996,
            "count": 0
           },
           {
            "bin_start": -0.19999999999999996,
            "bin_end": -0.09999999999999998,
            "count": 0
           },
           {
            "bin_start": -0.09999999999999998,
            "bin_end": 0,
            "count": 0
           },
           {
            "bin_start": 0,
            "bin_end": 0.10000000000000009,
            "count": 5
           },
           {
            "bin_start": 0.10000000000000009,
            "bin_end": 0.20000000000000007,
            "count": 0
           },
           {
            "bin_start": 0.20000000000000007,
            "bin_end": 0.30000000000000004,
            "count": 0
           },
           {
            "bin_start": 0.30000000000000004,
            "bin_end": 0.4,
            "count": 0
           },
           {
            "bin_start": 0.4,
            "bin_end": 0.5,
            "count": 0
           }
          ]
         }
        },
        {
         "name": "TeamId_Offense",
         "dtype": "int64",
         "stats": {
          "unique_count": 2,
          "nan_count": 0,
          "min": "5",
          "max": "54",
          "histogram": [
           {
            "bin_start": 5,
            "bin_end": 9.9,
            "count": 2
           },
           {
            "bin_start": 9.9,
            "bin_end": 14.8,
            "count": 0
           },
           {
            "bin_start": 14.8,
            "bin_end": 19.700000000000003,
            "count": 0
           },
           {
            "bin_start": 19.700000000000003,
            "bin_end": 24.6,
            "count": 0
           },
           {
            "bin_start": 24.6,
            "bin_end": 29.5,
            "count": 0
           },
           {
            "bin_start": 29.5,
            "bin_end": 34.400000000000006,
            "count": 0
           },
           {
            "bin_start": 34.400000000000006,
            "bin_end": 39.300000000000004,
            "count": 0
           },
           {
            "bin_start": 39.300000000000004,
            "bin_end": 44.2,
            "count": 0
           },
           {
            "bin_start": 44.2,
            "bin_end": 49.1,
            "count": 0
           },
           {
            "bin_start": 49.1,
            "bin_end": 54,
            "count": 3
           }
          ]
         }
        },
        {
         "name": "TeamName_Offense",
         "dtype": "object",
         "stats": {
          "unique_count": 2,
          "nan_count": 0,
          "categories": [
           {
            "name": "Philadelphia 76ers",
            "count": 3
           },
           {
            "name": "Boston Celtics",
            "count": 2
           }
          ]
         }
        },
        {
         "name": "FloorLineupId_Offense",
         "dtype": "int64",
         "stats": {
          "unique_count": 2,
          "nan_count": 0,
          "min": "3234",
          "max": "3242",
          "histogram": [
           {
            "bin_start": 3234,
            "bin_end": 3234.8,
            "count": 3
           },
           {
            "bin_start": 3234.8,
            "bin_end": 3235.6,
            "count": 0
           },
           {
            "bin_start": 3235.6,
            "bin_end": 3236.4,
            "count": 0
           },
           {
            "bin_start": 3236.4,
            "bin_end": 3237.2,
            "count": 0
           },
           {
            "bin_start": 3237.2,
            "bin_end": 3238,
            "count": 0
           },
           {
            "bin_start": 3238,
            "bin_end": 3238.8,
            "count": 0
           },
           {
            "bin_start": 3238.8,
            "bin_end": 3239.6,
            "count": 0
           },
           {
            "bin_start": 3239.6,
            "bin_end": 3240.4,
            "count": 0
           },
           {
            "bin_start": 3240.4,
            "bin_end": 3241.2,
            "count": 0
           },
           {
            "bin_start": 3241.2,
            "bin_end": 3242,
            "count": 2
           }
          ]
         }
        },
        {
         "name": "PlayerId1_Offense",
         "dtype": "int64",
         "stats": {
          "unique_count": 2,
          "nan_count": 0,
          "min": "642",
          "max": "1627",
          "histogram": [
           {
            "bin_start": 642,
            "bin_end": 740.5,
            "count": 2
           },
           {
            "bin_start": 740.5,
            "bin_end": 839,
            "count": 0
           },
           {
            "bin_start": 839,
            "bin_end": 937.5,
            "count": 0
           },
           {
            "bin_start": 937.5,
            "bin_end": 1036,
            "count": 0
           },
           {
            "bin_start": 1036,
            "bin_end": 1134.5,
            "count": 0
           },
           {
            "bin_start": 1134.5,
            "bin_end": 1233,
            "count": 0
           },
           {
            "bin_start": 1233,
            "bin_end": 1331.5,
            "count": 0
           },
           {
            "bin_start": 1331.5,
            "bin_end": 1430,
            "count": 0
           },
           {
            "bin_start": 1430,
            "bin_end": 1528.5,
            "count": 0
           },
           {
            "bin_start": 1528.5,
            "bin_end": 1627,
            "count": 3
           }
          ]
         }
        },
        {
         "name": "PlayerName1_Offense",
         "dtype": "object",
         "stats": {
          "unique_count": 2,
          "nan_count": 0,
          "categories": [
           {
            "name": "Markelle Fultz",
            "count": 3
           },
           {
            "name": "Gordon Hayward",
            "count": 2
           }
          ]
         }
        },
        {
         "name": "PlayerId2_Offense",
         "dtype": "int64",
         "stats": {
          "unique_count": 2,
          "nan_count": 0,
          "min": "1088",
          "max": "1358",
          "histogram": [
           {
            "bin_start": 1088,
            "bin_end": 1115,
            "count": 2
           },
           {
            "bin_start": 1115,
            "bin_end": 1142,
            "count": 0
           },
           {
            "bin_start": 1142,
            "bin_end": 1169,
            "count": 0
           },
           {
            "bin_start": 1169,
            "bin_end": 1196,
            "count": 0
           },
           {
            "bin_start": 1196,
            "bin_end": 1223,
            "count": 0
           },
           {
            "bin_start": 1223,
            "bin_end": 1250,
            "count": 0
           },
           {
            "bin_start": 1250,
            "bin_end": 1277,
            "count": 0
           },
           {
            "bin_start": 1277,
            "bin_end": 1304,
            "count": 0
           },
           {
            "bin_start": 1304,
            "bin_end": 1331,
            "count": 0
           },
           {
            "bin_start": 1331,
            "bin_end": 1358,
            "count": 3
           }
          ]
         }
        },
        {
         "name": "PlayerName2_Offense",
         "dtype": "object",
         "stats": {
          "unique_count": 2,
          "nan_count": 0,
          "categories": [
           {
            "name": "Ben Simmons",
            "count": 3
           },
           {
            "name": "Kyrie Irving",
            "count": 2
           }
          ]
         }
        },
        {
         "name": "PlayerId3_Offense",
         "dtype": "int64",
         "stats": {
          "unique_count": 2,
          "nan_count": 0,
          "min": "1068",
          "max": "1556",
          "histogram": [
           {
            "bin_start": 1068,
            "bin_end": 1116.8,
            "count": 3
           },
           {
            "bin_start": 1116.8,
            "bin_end": 1165.6,
            "count": 0
           },
           {
            "bin_start": 1165.6,
            "bin_end": 1214.4,
            "count": 0
           },
           {
            "bin_start": 1214.4,
            "bin_end": 1263.2,
            "count": 0
           },
           {
            "bin_start": 1263.2,
            "bin_end": 1312,
            "count": 0
           },
           {
            "bin_start": 1312,
            "bin_end": 1360.8,
            "count": 0
           },
           {
            "bin_start": 1360.8,
            "bin_end": 1409.6,
            "count": 0
           },
           {
            "bin_start": 1409.6,
            "bin_end": 1458.4,
            "count": 0
           },
           {
            "bin_start": 1458.4,
            "bin_end": 1507.2,
            "count": 0
           },
           {
            "bin_start": 1507.2,
            "bin_end": 1556,
            "count": 2
           }
          ]
         }
        },
        {
         "name": "PlayerName3_Offense",
         "dtype": "object",
         "stats": {
          "unique_count": 2,
          "nan_count": 0,
          "categories": [
           {
            "name": "Robert Covington",
            "count": 3
           },
           {
            "name": "Jayson Tatum",
            "count": 2
           }
          ]
         }
        },
        {
         "name": "PlayerId4_Offense",
         "dtype": "int64",
         "stats": {
          "unique_count": 2,
          "nan_count": 0,
          "min": "1253",
          "max": "1498",
          "histogram": [
           {
            "bin_start": 1253,
            "bin_end": 1277.5,
            "count": 3
           },
           {
            "bin_start": 1277.5,
            "bin_end": 1302,
            "count": 0
           },
           {
            "bin_start": 1302,
            "bin_end": 1326.5,
            "count": 0
           },
           {
            "bin_start": 1326.5,
            "bin_end": 1351,
            "count": 0
           },
           {
            "bin_start": 1351,
            "bin_end": 1375.5,
            "count": 0
           },
           {
            "bin_start": 1375.5,
            "bin_end": 1400,
            "count": 0
           },
           {
            "bin_start": 1400,
            "bin_end": 1424.5,
            "count": 0
           },
           {
            "bin_start": 1424.5,
            "bin_end": 1449,
            "count": 0
           },
           {
            "bin_start": 1449,
            "bin_end": 1473.5,
            "count": 0
           },
           {
            "bin_start": 1473.5,
            "bin_end": 1498,
            "count": 2
           }
          ]
         }
        },
        {
         "name": "PlayerName4_Offense",
         "dtype": "object",
         "stats": {
          "unique_count": 2,
          "nan_count": 0,
          "categories": [
           {
            "name": "Dario Saric",
            "count": 3
           },
           {
            "name": "Jaylen Brown",
            "count": 2
           }
          ]
         }
        },
        {
         "name": "PlayerId5_Offense",
         "dtype": "int64",
         "stats": {
          "unique_count": 2,
          "nan_count": 0,
          "min": "527",
          "max": "1461",
          "histogram": [
           {
            "bin_start": 527,
            "bin_end": 620.4,
            "count": 2
           },
           {
            "bin_start": 620.4,
            "bin_end": 713.8,
            "count": 0
           },
           {
            "bin_start": 713.8,
            "bin_end": 807.2,
            "count": 0
           },
           {
            "bin_start": 807.2,
            "bin_end": 900.6,
            "count": 0
           },
           {
            "bin_start": 900.6,
            "bin_end": 994,
            "count": 0
           },
           {
            "bin_start": 994,
            "bin_end": 1087.4,
            "count": 0
           },
           {
            "bin_start": 1087.4,
            "bin_end": 1180.8000000000002,
            "count": 0
           },
           {
            "bin_start": 1180.8000000000002,
            "bin_end": 1274.2,
            "count": 0
           },
           {
            "bin_start": 1274.2,
            "bin_end": 1367.6,
            "count": 0
           },
           {
            "bin_start": 1367.6,
            "bin_end": 1461,
            "count": 3
           }
          ]
         }
        },
        {
         "name": "PlayerName5_Offense",
         "dtype": "object",
         "stats": {
          "unique_count": 2,
          "nan_count": 0,
          "categories": [
           {
            "name": "Joel Embiid",
            "count": 3
           },
           {
            "name": "Al Horford",
            "count": 2
           }
          ]
         }
        },
        {
         "name": "TeamScore_Defense",
         "dtype": "int64",
         "stats": {
          "unique_count": 1,
          "nan_count": 0,
          "min": "0",
          "max": "0",
          "histogram": [
           {
            "bin_start": -0.5,
            "bin_end": -0.4,
            "count": 0
           },
           {
            "bin_start": -0.4,
            "bin_end": -0.3,
            "count": 0
           },
           {
            "bin_start": -0.3,
            "bin_end": -0.19999999999999996,
            "count": 0
           },
           {
            "bin_start": -0.19999999999999996,
            "bin_end": -0.09999999999999998,
            "count": 0
           },
           {
            "bin_start": -0.09999999999999998,
            "bin_end": 0,
            "count": 0
           },
           {
            "bin_start": 0,
            "bin_end": 0.10000000000000009,
            "count": 5
           },
           {
            "bin_start": 0.10000000000000009,
            "bin_end": 0.20000000000000007,
            "count": 0
           },
           {
            "bin_start": 0.20000000000000007,
            "bin_end": 0.30000000000000004,
            "count": 0
           },
           {
            "bin_start": 0.30000000000000004,
            "bin_end": 0.4,
            "count": 0
           },
           {
            "bin_start": 0.4,
            "bin_end": 0.5,
            "count": 0
           }
          ]
         }
        },
        {
         "name": "TeamId_Defense",
         "dtype": "int64",
         "stats": {
          "unique_count": 2,
          "nan_count": 0,
          "min": "5",
          "max": "54",
          "histogram": [
           {
            "bin_start": 5,
            "bin_end": 9.9,
            "count": 3
           },
           {
            "bin_start": 9.9,
            "bin_end": 14.8,
            "count": 0
           },
           {
            "bin_start": 14.8,
            "bin_end": 19.700000000000003,
            "count": 0
           },
           {
            "bin_start": 19.700000000000003,
            "bin_end": 24.6,
            "count": 0
           },
           {
            "bin_start": 24.6,
            "bin_end": 29.5,
            "count": 0
           },
           {
            "bin_start": 29.5,
            "bin_end": 34.400000000000006,
            "count": 0
           },
           {
            "bin_start": 34.400000000000006,
            "bin_end": 39.300000000000004,
            "count": 0
           },
           {
            "bin_start": 39.300000000000004,
            "bin_end": 44.2,
            "count": 0
           },
           {
            "bin_start": 44.2,
            "bin_end": 49.1,
            "count": 0
           },
           {
            "bin_start": 49.1,
            "bin_end": 54,
            "count": 2
           }
          ]
         }
        },
        {
         "name": "TeamName_Defense",
         "dtype": "object",
         "stats": {
          "unique_count": 2,
          "nan_count": 0,
          "categories": [
           {
            "name": "Boston Celtics",
            "count": 3
           },
           {
            "name": "Philadelphia 76ers",
            "count": 2
           }
          ]
         }
        },
        {
         "name": "FloorLineupId_Defense",
         "dtype": "int64",
         "stats": {
          "unique_count": 2,
          "nan_count": 0,
          "min": "3234",
          "max": "3242",
          "histogram": [
           {
            "bin_start": 3234,
            "bin_end": 3234.8,
            "count": 2
           },
           {
            "bin_start": 3234.8,
            "bin_end": 3235.6,
            "count": 0
           },
           {
            "bin_start": 3235.6,
            "bin_end": 3236.4,
            "count": 0
           },
           {
            "bin_start": 3236.4,
            "bin_end": 3237.2,
            "count": 0
           },
           {
            "bin_start": 3237.2,
            "bin_end": 3238,
            "count": 0
           },
           {
            "bin_start": 3238,
            "bin_end": 3238.8,
            "count": 0
           },
           {
            "bin_start": 3238.8,
            "bin_end": 3239.6,
            "count": 0
           },
           {
            "bin_start": 3239.6,
            "bin_end": 3240.4,
            "count": 0
           },
           {
            "bin_start": 3240.4,
            "bin_end": 3241.2,
            "count": 0
           },
           {
            "bin_start": 3241.2,
            "bin_end": 3242,
            "count": 3
           }
          ]
         }
        },
        {
         "name": "PlayerId1_Defense",
         "dtype": "int64",
         "stats": {
          "unique_count": 2,
          "nan_count": 0,
          "min": "642",
          "max": "1627",
          "histogram": [
           {
            "bin_start": 642,
            "bin_end": 740.5,
            "count": 3
           },
           {
            "bin_start": 740.5,
            "bin_end": 839,
            "count": 0
           },
           {
            "bin_start": 839,
            "bin_end": 937.5,
            "count": 0
           },
           {
            "bin_start": 937.5,
            "bin_end": 1036,
            "count": 0
           },
           {
            "bin_start": 1036,
            "bin_end": 1134.5,
            "count": 0
           },
           {
            "bin_start": 1134.5,
            "bin_end": 1233,
            "count": 0
           },
           {
            "bin_start": 1233,
            "bin_end": 1331.5,
            "count": 0
           },
           {
            "bin_start": 1331.5,
            "bin_end": 1430,
            "count": 0
           },
           {
            "bin_start": 1430,
            "bin_end": 1528.5,
            "count": 0
           },
           {
            "bin_start": 1528.5,
            "bin_end": 1627,
            "count": 2
           }
          ]
         }
        },
        {
         "name": "PlayerName1_Defense",
         "dtype": "object",
         "stats": {
          "unique_count": 2,
          "nan_count": 0,
          "categories": [
           {
            "name": "Gordon Hayward",
            "count": 3
           },
           {
            "name": "Markelle Fultz",
            "count": 2
           }
          ]
         }
        },
        {
         "name": "PlayerId2_Defense",
         "dtype": "int64",
         "stats": {
          "unique_count": 2,
          "nan_count": 0,
          "min": "1088",
          "max": "1358",
          "histogram": [
           {
            "bin_start": 1088,
            "bin_end": 1115,
            "count": 3
           },
           {
            "bin_start": 1115,
            "bin_end": 1142,
            "count": 0
           },
           {
            "bin_start": 1142,
            "bin_end": 1169,
            "count": 0
           },
           {
            "bin_start": 1169,
            "bin_end": 1196,
            "count": 0
           },
           {
            "bin_start": 1196,
            "bin_end": 1223,
            "count": 0
           },
           {
            "bin_start": 1223,
            "bin_end": 1250,
            "count": 0
           },
           {
            "bin_start": 1250,
            "bin_end": 1277,
            "count": 0
           },
           {
            "bin_start": 1277,
            "bin_end": 1304,
            "count": 0
           },
           {
            "bin_start": 1304,
            "bin_end": 1331,
            "count": 0
           },
           {
            "bin_start": 1331,
            "bin_end": 1358,
            "count": 2
           }
          ]
         }
        },
        {
         "name": "PlayerName2_Defense",
         "dtype": "object",
         "stats": {
          "unique_count": 2,
          "nan_count": 0,
          "categories": [
           {
            "name": "Kyrie Irving",
            "count": 3
           },
           {
            "name": "Ben Simmons",
            "count": 2
           }
          ]
         }
        },
        {
         "name": "PlayerId3_Defense",
         "dtype": "int64",
         "stats": {
          "unique_count": 2,
          "nan_count": 0,
          "min": "1068",
          "max": "1556",
          "histogram": [
           {
            "bin_start": 1068,
            "bin_end": 1116.8,
            "count": 2
           },
           {
            "bin_start": 1116.8,
            "bin_end": 1165.6,
            "count": 0
           },
           {
            "bin_start": 1165.6,
            "bin_end": 1214.4,
            "count": 0
           },
           {
            "bin_start": 1214.4,
            "bin_end": 1263.2,
            "count": 0
           },
           {
            "bin_start": 1263.2,
            "bin_end": 1312,
            "count": 0
           },
           {
            "bin_start": 1312,
            "bin_end": 1360.8,
            "count": 0
           },
           {
            "bin_start": 1360.8,
            "bin_end": 1409.6,
            "count": 0
           },
           {
            "bin_start": 1409.6,
            "bin_end": 1458.4,
            "count": 0
           },
           {
            "bin_start": 1458.4,
            "bin_end": 1507.2,
            "count": 0
           },
           {
            "bin_start": 1507.2,
            "bin_end": 1556,
            "count": 3
           }
          ]
         }
        },
        {
         "name": "PlayerName3_Defense",
         "dtype": "object",
         "stats": {
          "unique_count": 2,
          "nan_count": 0,
          "categories": [
           {
            "name": "Jayson Tatum",
            "count": 3
           },
           {
            "name": "Robert Covington",
            "count": 2
           }
          ]
         }
        },
        {
         "name": "PlayerId4_Defense",
         "dtype": "int64",
         "stats": {
          "unique_count": 2,
          "nan_count": 0,
          "min": "1253",
          "max": "1498",
          "histogram": [
           {
            "bin_start": 1253,
            "bin_end": 1277.5,
            "count": 2
           },
           {
            "bin_start": 1277.5,
            "bin_end": 1302,
            "count": 0
           },
           {
            "bin_start": 1302,
            "bin_end": 1326.5,
            "count": 0
           },
           {
            "bin_start": 1326.5,
            "bin_end": 1351,
            "count": 0
           },
           {
            "bin_start": 1351,
            "bin_end": 1375.5,
            "count": 0
           },
           {
            "bin_start": 1375.5,
            "bin_end": 1400,
            "count": 0
           },
           {
            "bin_start": 1400,
            "bin_end": 1424.5,
            "count": 0
           },
           {
            "bin_start": 1424.5,
            "bin_end": 1449,
            "count": 0
           },
           {
            "bin_start": 1449,
            "bin_end": 1473.5,
            "count": 0
           },
           {
            "bin_start": 1473.5,
            "bin_end": 1498,
            "count": 3
           }
          ]
         }
        },
        {
         "name": "PlayerName4_Defense",
         "dtype": "object",
         "stats": {
          "unique_count": 2,
          "nan_count": 0,
          "categories": [
           {
            "name": "Jaylen Brown",
            "count": 3
           },
           {
            "name": "Dario Saric",
            "count": 2
           }
          ]
         }
        },
        {
         "name": "PlayerId5_Defense",
         "dtype": "int64",
         "stats": {
          "unique_count": 2,
          "nan_count": 0,
          "min": "527",
          "max": "1461",
          "histogram": [
           {
            "bin_start": 527,
            "bin_end": 620.4,
            "count": 3
           },
           {
            "bin_start": 620.4,
            "bin_end": 713.8,
            "count": 0
           },
           {
            "bin_start": 713.8,
            "bin_end": 807.2,
            "count": 0
           },
           {
            "bin_start": 807.2,
            "bin_end": 900.6,
            "count": 0
           },
           {
            "bin_start": 900.6,
            "bin_end": 994,
            "count": 0
           },
           {
            "bin_start": 994,
            "bin_end": 1087.4,
            "count": 0
           },
           {
            "bin_start": 1087.4,
            "bin_end": 1180.8000000000002,
            "count": 0
           },
           {
            "bin_start": 1180.8000000000002,
            "bin_end": 1274.2,
            "count": 0
           },
           {
            "bin_start": 1274.2,
            "bin_end": 1367.6,
            "count": 0
           },
           {
            "bin_start": 1367.6,
            "bin_end": 1461,
            "count": 2
           }
          ]
         }
        },
        {
         "name": "PlayerName5_Defense",
         "dtype": "object",
         "stats": {
          "unique_count": 2,
          "nan_count": 0,
          "categories": [
           {
            "name": "Al Horford",
            "count": 3
           },
           {
            "name": "Joel Embiid",
            "count": 2
           }
          ]
         }
        },
        {
         "name": "_deepnote_index_column",
         "dtype": "int64"
        }
       ],
       "rows": [
        {
         "GameId": 63864,
         "GameDate_Only": "2018-10-16",
         "SeasonYear": 2018,
         "PlayByPlayId": 79300,
         "EventNumber": 4,
         "Period": 1,
         "GameClock_Minutes": 12,
         "GameClock_Seconds": 0,
         "GameClock": "12:00",
         "Description": "Jump Ball Embiid vs Horford (Simmons gains possession)",
         "EventTypeId": 10,
         "EventType": "Jump Ball",
         "ActionTypeIndex": 0,
         "ActionTypeName": "Jump Ball",
         "Points": 0,
         "PlayLength_Seconds": 0,
         "TeamScore_Offense": 0,
         "TeamId_Offense": 54,
         "TeamName_Offense": "Philadelphia 76ers",
         "FloorLineupId_Offense": 3234,
         "PlayerId1_Offense": 1627,
         "PlayerName1_Offense": "Markelle Fultz",
         "PlayerId2_Offense": 1358,
         "PlayerName2_Offense": "Ben Simmons",
         "PlayerId3_Offense": 1068,
         "PlayerName3_Offense": "Robert Covington",
         "PlayerId4_Offense": 1253,
         "PlayerName4_Offense": "Dario Saric",
         "PlayerId5_Offense": 1461,
         "PlayerName5_Offense": "Joel Embiid",
         "TeamScore_Defense": 0,
         "TeamId_Defense": 5,
         "TeamName_Defense": "Boston Celtics",
         "FloorLineupId_Defense": 3242,
         "PlayerId1_Defense": 642,
         "PlayerName1_Defense": "Gordon Hayward",
         "PlayerId2_Defense": 1088,
         "PlayerName2_Defense": "Kyrie Irving",
         "PlayerId3_Defense": 1556,
         "PlayerName3_Defense": "Jayson Tatum",
         "PlayerId4_Defense": 1498,
         "PlayerName4_Defense": "Jaylen Brown",
         "PlayerId5_Defense": 527,
         "PlayerName5_Defense": "Al Horford",
         "_deepnote_index_column": 0
        },
        {
         "GameId": 63864,
         "GameDate_Only": "2018-10-16",
         "SeasonYear": 2018,
         "PlayByPlayId": 79301,
         "EventNumber": 7,
         "Period": 1,
         "GameClock_Minutes": 11,
         "GameClock_Seconds": 40,
         "GameClock": "11:40",
         "Description": "[PHI] Covington 3pt Shot: Missed",
         "EventTypeId": 2,
         "EventType": "Missed Shot",
         "ActionTypeIndex": 1,
         "ActionTypeName": "Jump Shot",
         "Points": 0,
         "PlayLength_Seconds": 20,
         "TeamScore_Offense": 0,
         "TeamId_Offense": 54,
         "TeamName_Offense": "Philadelphia 76ers",
         "FloorLineupId_Offense": 3234,
         "PlayerId1_Offense": 1627,
         "PlayerName1_Offense": "Markelle Fultz",
         "PlayerId2_Offense": 1358,
         "PlayerName2_Offense": "Ben Simmons",
         "PlayerId3_Offense": 1068,
         "PlayerName3_Offense": "Robert Covington",
         "PlayerId4_Offense": 1253,
         "PlayerName4_Offense": "Dario Saric",
         "PlayerId5_Offense": 1461,
         "PlayerName5_Offense": "Joel Embiid",
         "TeamScore_Defense": 0,
         "TeamId_Defense": 5,
         "TeamName_Defense": "Boston Celtics",
         "FloorLineupId_Defense": 3242,
         "PlayerId1_Defense": 642,
         "PlayerName1_Defense": "Gordon Hayward",
         "PlayerId2_Defense": 1088,
         "PlayerName2_Defense": "Kyrie Irving",
         "PlayerId3_Defense": 1556,
         "PlayerName3_Defense": "Jayson Tatum",
         "PlayerId4_Defense": 1498,
         "PlayerName4_Defense": "Jaylen Brown",
         "PlayerId5_Defense": 527,
         "PlayerName5_Defense": "Al Horford",
         "_deepnote_index_column": 1
        },
        {
         "GameId": 63864,
         "GameDate_Only": "2018-10-16",
         "SeasonYear": 2018,
         "PlayByPlayId": 79302,
         "EventNumber": 8,
         "Period": 1,
         "GameClock_Minutes": 11,
         "GameClock_Seconds": 40,
         "GameClock": "11:40",
         "Description": "[BOS] Team Rebound",
         "EventTypeId": 4,
         "EventType": "Rebound",
         "ActionTypeIndex": 0,
         "ActionTypeName": "Rebound",
         "Points": 0,
         "PlayLength_Seconds": 0,
         "TeamScore_Offense": 0,
         "TeamId_Offense": 54,
         "TeamName_Offense": "Philadelphia 76ers",
         "FloorLineupId_Offense": 3234,
         "PlayerId1_Offense": 1627,
         "PlayerName1_Offense": "Markelle Fultz",
         "PlayerId2_Offense": 1358,
         "PlayerName2_Offense": "Ben Simmons",
         "PlayerId3_Offense": 1068,
         "PlayerName3_Offense": "Robert Covington",
         "PlayerId4_Offense": 1253,
         "PlayerName4_Offense": "Dario Saric",
         "PlayerId5_Offense": 1461,
         "PlayerName5_Offense": "Joel Embiid",
         "TeamScore_Defense": 0,
         "TeamId_Defense": 5,
         "TeamName_Defense": "Boston Celtics",
         "FloorLineupId_Defense": 3242,
         "PlayerId1_Defense": 642,
         "PlayerName1_Defense": "Gordon Hayward",
         "PlayerId2_Defense": 1088,
         "PlayerName2_Defense": "Kyrie Irving",
         "PlayerId3_Defense": 1556,
         "PlayerName3_Defense": "Jayson Tatum",
         "PlayerId4_Defense": 1498,
         "PlayerName4_Defense": "Jaylen Brown",
         "PlayerId5_Defense": 527,
         "PlayerName5_Defense": "Al Horford",
         "_deepnote_index_column": 2
        },
        {
         "GameId": 63864,
         "GameDate_Only": "2018-10-16",
         "SeasonYear": 2018,
         "PlayByPlayId": 79303,
         "EventNumber": 9,
         "Period": 1,
         "GameClock_Minutes": 11,
         "GameClock_Seconds": 18,
         "GameClock": "11:18",
         "Description": "Stoppage: Out-of-Bounds",
         "EventTypeId": 20,
         "EventType": "Stoppage",
         "ActionTypeIndex": 3,
         "ActionTypeName": "Out of Bounds",
         "Points": 0,
         "PlayLength_Seconds": 22,
         "TeamScore_Offense": 0,
         "TeamId_Offense": 5,
         "TeamName_Offense": "Boston Celtics",
         "FloorLineupId_Offense": 3242,
         "PlayerId1_Offense": 642,
         "PlayerName1_Offense": "Gordon Hayward",
         "PlayerId2_Offense": 1088,
         "PlayerName2_Offense": "Kyrie Irving",
         "PlayerId3_Offense": 1556,
         "PlayerName3_Offense": "Jayson Tatum",
         "PlayerId4_Offense": 1498,
         "PlayerName4_Offense": "Jaylen Brown",
         "PlayerId5_Offense": 527,
         "PlayerName5_Offense": "Al Horford",
         "TeamScore_Defense": 0,
         "TeamId_Defense": 54,
         "TeamName_Defense": "Philadelphia 76ers",
         "FloorLineupId_Defense": 3234,
         "PlayerId1_Defense": 1627,
         "PlayerName1_Defense": "Markelle Fultz",
         "PlayerId2_Defense": 1358,
         "PlayerName2_Defense": "Ben Simmons",
         "PlayerId3_Defense": 1068,
         "PlayerName3_Defense": "Robert Covington",
         "PlayerId4_Defense": 1253,
         "PlayerName4_Defense": "Dario Saric",
         "PlayerId5_Defense": 1461,
         "PlayerName5_Defense": "Joel Embiid",
         "_deepnote_index_column": 3
        },
        {
         "GameId": 63864,
         "GameDate_Only": "2018-10-16",
         "SeasonYear": 2018,
         "PlayByPlayId": 79304,
         "EventNumber": 10,
         "Period": 1,
         "GameClock_Minutes": 11,
         "GameClock_Seconds": 15,
         "GameClock": "11:15",
         "Description": "[BOS] Tatum 3pt Shot: Missed",
         "EventTypeId": 2,
         "EventType": "Missed Shot",
         "ActionTypeIndex": 1,
         "ActionTypeName": "Jump Shot",
         "Points": 0,
         "PlayLength_Seconds": 3,
         "TeamScore_Offense": 0,
         "TeamId_Offense": 5,
         "TeamName_Offense": "Boston Celtics",
         "FloorLineupId_Offense": 3242,
         "PlayerId1_Offense": 642,
         "PlayerName1_Offense": "Gordon Hayward",
         "PlayerId2_Offense": 1088,
         "PlayerName2_Offense": "Kyrie Irving",
         "PlayerId3_Offense": 1556,
         "PlayerName3_Offense": "Jayson Tatum",
         "PlayerId4_Offense": 1498,
         "PlayerName4_Offense": "Jaylen Brown",
         "PlayerId5_Offense": 527,
         "PlayerName5_Offense": "Al Horford",
         "TeamScore_Defense": 0,
         "TeamId_Defense": 54,
         "TeamName_Defense": "Philadelphia 76ers",
         "FloorLineupId_Defense": 3234,
         "PlayerId1_Defense": 1627,
         "PlayerName1_Defense": "Markelle Fultz",
         "PlayerId2_Defense": 1358,
         "PlayerName2_Defense": "Ben Simmons",
         "PlayerId3_Defense": 1068,
         "PlayerName3_Defense": "Robert Covington",
         "PlayerId4_Defense": 1253,
         "PlayerName4_Defense": "Dario Saric",
         "PlayerId5_Defense": 1461,
         "PlayerName5_Defense": "Joel Embiid",
         "_deepnote_index_column": 4
        }
       ]
      },
      "text/plain": "   GameId GameDate_Only  SeasonYear  PlayByPlayId  EventNumber  Period  \\\n0   63864    2018-10-16        2018         79300            4       1   \n1   63864    2018-10-16        2018         79301            7       1   \n2   63864    2018-10-16        2018         79302            8       1   \n3   63864    2018-10-16        2018         79303            9       1   \n4   63864    2018-10-16        2018         79304           10       1   \n\n   GameClock_Minutes  GameClock_Seconds GameClock  \\\n0                 12                  0     12:00   \n1                 11                 40     11:40   \n2                 11                 40     11:40   \n3                 11                 18     11:18   \n4                 11                 15     11:15   \n\n                                         Description  ...  PlayerId1_Defense  \\\n0  Jump Ball Embiid vs Horford (Simmons gains pos...  ...                642   \n1                   [PHI] Covington 3pt Shot: Missed  ...                642   \n2                                 [BOS] Team Rebound  ...                642   \n3                            Stoppage: Out-of-Bounds  ...               1627   \n4                       [BOS] Tatum 3pt Shot: Missed  ...               1627   \n\n  PlayerName1_Defense  PlayerId2_Defense PlayerName2_Defense  \\\n0      Gordon Hayward               1088        Kyrie Irving   \n1      Gordon Hayward               1088        Kyrie Irving   \n2      Gordon Hayward               1088        Kyrie Irving   \n3      Markelle Fultz               1358         Ben Simmons   \n4      Markelle Fultz               1358         Ben Simmons   \n\n   PlayerId3_Defense  PlayerName3_Defense  PlayerId4_Defense  \\\n0               1556         Jayson Tatum               1498   \n1               1556         Jayson Tatum               1498   \n2               1556         Jayson Tatum               1498   \n3               1068     Robert Covington               1253   \n4               1068     Robert Covington               1253   \n\n   PlayerName4_Defense PlayerId5_Defense  PlayerName5_Defense  \n0         Jaylen Brown               527           Al Horford  \n1         Jaylen Brown               527           Al Horford  \n2         Jaylen Brown               527           Al Horford  \n3          Dario Saric              1461          Joel Embiid  \n4          Dario Saric              1461          Joel Embiid  \n\n[5 rows x 44 columns]",
      "text/html": "<div>\n<style scoped>\n    .dataframe tbody tr th:only-of-type {\n        vertical-align: middle;\n    }\n\n    .dataframe tbody tr th {\n        vertical-align: top;\n    }\n\n    .dataframe thead th {\n        text-align: right;\n    }\n</style>\n<table border=\"1\" class=\"dataframe\">\n  <thead>\n    <tr style=\"text-align: right;\">\n      <th></th>\n      <th>GameId</th>\n      <th>GameDate_Only</th>\n      <th>SeasonYear</th>\n      <th>PlayByPlayId</th>\n      <th>EventNumber</th>\n      <th>Period</th>\n      <th>GameClock_Minutes</th>\n      <th>GameClock_Seconds</th>\n      <th>GameClock</th>\n      <th>Description</th>\n      <th>...</th>\n      <th>PlayerId1_Defense</th>\n      <th>PlayerName1_Defense</th>\n      <th>PlayerId2_Defense</th>\n      <th>PlayerName2_Defense</th>\n      <th>PlayerId3_Defense</th>\n      <th>PlayerName3_Defense</th>\n      <th>PlayerId4_Defense</th>\n      <th>PlayerName4_Defense</th>\n      <th>PlayerId5_Defense</th>\n      <th>PlayerName5_Defense</th>\n    </tr>\n  </thead>\n  <tbody>\n    <tr>\n      <th>0</th>\n      <td>63864</td>\n      <td>2018-10-16</td>\n      <td>2018</td>\n      <td>79300</td>\n      <td>4</td>\n      <td>1</td>\n      <td>12</td>\n      <td>0</td>\n      <td>12:00</td>\n      <td>Jump Ball Embiid vs Horford (Simmons gains pos...</td>\n      <td>...</td>\n      <td>642</td>\n      <td>Gordon Hayward</td>\n      <td>1088</td>\n      <td>Kyrie Irving</td>\n      <td>1556</td>\n      <td>Jayson Tatum</td>\n      <td>1498</td>\n      <td>Jaylen Brown</td>\n      <td>527</td>\n      <td>Al Horford</td>\n    </tr>\n    <tr>\n      <th>1</th>\n      <td>63864</td>\n      <td>2018-10-16</td>\n      <td>2018</td>\n      <td>79301</td>\n      <td>7</td>\n      <td>1</td>\n      <td>11</td>\n      <td>40</td>\n      <td>11:40</td>\n      <td>[PHI] Covington 3pt Shot: Missed</td>\n      <td>...</td>\n      <td>642</td>\n      <td>Gordon Hayward</td>\n      <td>1088</td>\n      <td>Kyrie Irving</td>\n      <td>1556</td>\n      <td>Jayson Tatum</td>\n      <td>1498</td>\n      <td>Jaylen Brown</td>\n      <td>527</td>\n      <td>Al Horford</td>\n    </tr>\n    <tr>\n      <th>2</th>\n      <td>63864</td>\n      <td>2018-10-16</td>\n      <td>2018</td>\n      <td>79302</td>\n      <td>8</td>\n      <td>1</td>\n      <td>11</td>\n      <td>40</td>\n      <td>11:40</td>\n      <td>[BOS] Team Rebound</td>\n      <td>...</td>\n      <td>642</td>\n      <td>Gordon Hayward</td>\n      <td>1088</td>\n      <td>Kyrie Irving</td>\n      <td>1556</td>\n      <td>Jayson Tatum</td>\n      <td>1498</td>\n      <td>Jaylen Brown</td>\n      <td>527</td>\n      <td>Al Horford</td>\n    </tr>\n    <tr>\n      <th>3</th>\n      <td>63864</td>\n      <td>2018-10-16</td>\n      <td>2018</td>\n      <td>79303</td>\n      <td>9</td>\n      <td>1</td>\n      <td>11</td>\n      <td>18</td>\n      <td>11:18</td>\n      <td>Stoppage: Out-of-Bounds</td>\n      <td>...</td>\n      <td>1627</td>\n      <td>Markelle Fultz</td>\n      <td>1358</td>\n      <td>Ben Simmons</td>\n      <td>1068</td>\n      <td>Robert Covington</td>\n      <td>1253</td>\n      <td>Dario Saric</td>\n      <td>1461</td>\n      <td>Joel Embiid</td>\n    </tr>\n    <tr>\n      <th>4</th>\n      <td>63864</td>\n      <td>2018-10-16</td>\n      <td>2018</td>\n      <td>79304</td>\n      <td>10</td>\n      <td>1</td>\n      <td>11</td>\n      <td>15</td>\n      <td>11:15</td>\n      <td>[BOS] Tatum 3pt Shot: Missed</td>\n      <td>...</td>\n      <td>1627</td>\n      <td>Markelle Fultz</td>\n      <td>1358</td>\n      <td>Ben Simmons</td>\n      <td>1068</td>\n      <td>Robert Covington</td>\n      <td>1253</td>\n      <td>Dario Saric</td>\n      <td>1461</td>\n      <td>Joel Embiid</td>\n    </tr>\n  </tbody>\n</table>\n<p>5 rows × 44 columns</p>\n</div>"
     },
     "metadata": {}
    }
   ]
  },
  {
   "cell_type": "code",
   "metadata": {
    "tags": [],
    "deepnote_to_be_reexecuted": false,
    "source_hash": "4154b2db",
    "execution_start": 1648764132861,
    "execution_millis": 93180,
    "deepnote_table_state": {
     "pageSize": 10,
     "pageIndex": 1,
     "filters": [],
     "sortBy": []
    },
    "deepnote_table_loading": false,
    "cell_id": "00002-8762dc87-a763-4021-be59-f0ebd3535ee9",
    "deepnote_cell_type": "code",
    "deepnote_cell_height": 1266
   },
   "source": "# only look at 2020 to make dataframe way smaller, delete this later\nplay_by_play1 = play_by_play[play_by_play['SeasonYear'] == 2018]\n\ncols = ['GameId', 'SeasonYear', 'PlayByPlayId', 'EventNumber',\n       'Period', 'GameClock', 'Description', 'EventTypeId', 'EventType', 'ActionTypeIndex',\n       'ActionTypeName', 'Points', 'PlayLength_Seconds', 'TeamScore_Offense',\n       'TeamId_Offense', 'TeamName_Offense', 'FloorLineupId_Offense',  'TeamId_Defense',\n       'TeamName_Defense', 'FloorLineupId_Defense',  'PlayerId1_Offense', \n       'PlayerName1_Defense', 'PlayerName2_Defense', 'PlayerName3_Defense', 'PlayerName4_Defense','PlayerName5_Defense'\n       ]\n       \nplay_by_play1 = play_by_play1[cols]\n\n# combine offensive players into single col\nplayers_defense = play_by_play1.iloc[:, -5:].agg(', '.join, axis=1)\n\ncols1 = ['GameId', 'SeasonYear', 'PlayByPlayId', 'EventNumber',\n       'Period', 'GameClock', 'Description', 'EventTypeId', 'EventType', 'ActionTypeIndex',\n       'ActionTypeName', 'Points', 'PlayLength_Seconds', 'TeamScore_Offense',\n       'TeamId_Offense', 'TeamName_Offense', 'FloorLineupId_Offense',  'TeamId_Defense',\n       'TeamName_Defense', 'FloorLineupId_Defense',  'PlayerId1_Offense', \n       'PlayerName1_Offense', 'PlayerName2_Offense', 'PlayerName3_Offense', 'PlayerName4_Offense','PlayerName5_Offense']\n\nplay_by_play1 = play_by_play[play_by_play['SeasonYear'] == 2018]\nplay_by_play1 = play_by_play1[cols1]\nplayers_offense = play_by_play1.iloc[:, -5:].agg(', '.join, axis=1)\n\nplay_by_play1['Players_Offense'] = players_offense\nplay_by_play1['Players_Defense'] = players_defense\n\ncols2 = ['GameId', 'SeasonYear', 'PlayByPlayId', 'EventNumber',\n       'Period', 'GameClock', 'Description', 'EventTypeId', 'EventType', 'ActionTypeIndex',\n       'ActionTypeName', 'Points', 'PlayLength_Seconds', 'TeamScore_Offense',\n       'TeamId_Offense', 'TeamName_Offense', 'FloorLineupId_Offense',  'TeamId_Defense',\n       'TeamName_Defense', 'FloorLineupId_Defense', 'Players_Offense', 'Players_Defense']\nplay_by_play1 = play_by_play1[cols2]\n\nplay_by_play1",
   "execution_count": null,
   "outputs": [
    {
     "output_type": "execute_result",
     "execution_count": 3,
     "data": {
      "application/vnd.deepnote.dataframe.v3+json": {
       "column_count": 22,
       "row_count": 594835,
       "columns": [
        {
         "name": "GameId",
         "dtype": "int64"
        },
        {
         "name": "SeasonYear",
         "dtype": "int64"
        },
        {
         "name": "PlayByPlayId",
         "dtype": "int64"
        },
        {
         "name": "EventNumber",
         "dtype": "int64"
        },
        {
         "name": "Period",
         "dtype": "int64"
        },
        {
         "name": "GameClock",
         "dtype": "object"
        },
        {
         "name": "Description",
         "dtype": "object"
        },
        {
         "name": "EventTypeId",
         "dtype": "int64"
        },
        {
         "name": "EventType",
         "dtype": "object"
        },
        {
         "name": "ActionTypeIndex",
         "dtype": "int64"
        },
        {
         "name": "ActionTypeName",
         "dtype": "object"
        },
        {
         "name": "Points",
         "dtype": "int64"
        },
        {
         "name": "PlayLength_Seconds",
         "dtype": "int64"
        },
        {
         "name": "TeamScore_Offense",
         "dtype": "int64"
        },
        {
         "name": "TeamId_Offense",
         "dtype": "int64"
        },
        {
         "name": "TeamName_Offense",
         "dtype": "object"
        },
        {
         "name": "FloorLineupId_Offense",
         "dtype": "int64"
        },
        {
         "name": "TeamId_Defense",
         "dtype": "int64"
        },
        {
         "name": "TeamName_Defense",
         "dtype": "object"
        },
        {
         "name": "FloorLineupId_Defense",
         "dtype": "int64"
        },
        {
         "name": "Players_Offense",
         "dtype": "object"
        },
        {
         "name": "Players_Defense",
         "dtype": "object"
        },
        {
         "name": "_deepnote_index_column",
         "dtype": "int64"
        }
       ],
       "rows": [
        {
         "GameId": 63864,
         "SeasonYear": 2018,
         "PlayByPlayId": 79310,
         "EventNumber": 19,
         "Period": 1,
         "GameClock": "10:36",
         "Description": "[BOS] Tatum Driving Layup Shot: Missed",
         "EventTypeId": 2,
         "EventType": "Missed Shot",
         "ActionTypeIndex": 6,
         "ActionTypeName": "Driving Layup Shot",
         "Points": 0,
         "PlayLength_Seconds": 19,
         "TeamScore_Offense": 0,
         "TeamId_Offense": 5,
         "TeamName_Offense": "Boston Celtics",
         "FloorLineupId_Offense": 3242,
         "TeamId_Defense": 54,
         "TeamName_Defense": "Philadelphia 76ers",
         "FloorLineupId_Defense": 3234,
         "Players_Offense": "Gordon Hayward, Kyrie Irving, Jayson Tatum, Jaylen Brown, Al Horford",
         "Players_Defense": "Markelle Fultz, Ben Simmons, Robert Covington, Dario Saric, Joel Embiid",
         "_deepnote_index_column": 10
        },
        {
         "GameId": 63864,
         "SeasonYear": 2018,
         "PlayByPlayId": 79311,
         "EventNumber": 20,
         "Period": 1,
         "GameClock": "10:35",
         "Description": "[PHI] Simmons Rebound (Off:0 Def:2)",
         "EventTypeId": 4,
         "EventType": "Rebound",
         "ActionTypeIndex": 0,
         "ActionTypeName": "Rebound",
         "Points": 0,
         "PlayLength_Seconds": 1,
         "TeamScore_Offense": 0,
         "TeamId_Offense": 5,
         "TeamName_Offense": "Boston Celtics",
         "FloorLineupId_Offense": 3242,
         "TeamId_Defense": 54,
         "TeamName_Defense": "Philadelphia 76ers",
         "FloorLineupId_Defense": 3234,
         "Players_Offense": "Gordon Hayward, Kyrie Irving, Jayson Tatum, Jaylen Brown, Al Horford",
         "Players_Defense": "Markelle Fultz, Ben Simmons, Robert Covington, Dario Saric, Joel Embiid",
         "_deepnote_index_column": 11
        },
        {
         "GameId": 63864,
         "SeasonYear": 2018,
         "PlayByPlayId": 79312,
         "EventNumber": 21,
         "Period": 1,
         "GameClock": "10:32",
         "Description": "[PHI] Saric 3pt Shot: Missed",
         "EventTypeId": 2,
         "EventType": "Missed Shot",
         "ActionTypeIndex": 79,
         "ActionTypeName": "Pullup Jump shot",
         "Points": 0,
         "PlayLength_Seconds": 3,
         "TeamScore_Offense": 2,
         "TeamId_Offense": 54,
         "TeamName_Offense": "Philadelphia 76ers",
         "FloorLineupId_Offense": 3234,
         "TeamId_Defense": 5,
         "TeamName_Defense": "Boston Celtics",
         "FloorLineupId_Defense": 3242,
         "Players_Offense": "Markelle Fultz, Ben Simmons, Robert Covington, Dario Saric, Joel Embiid",
         "Players_Defense": "Gordon Hayward, Kyrie Irving, Jayson Tatum, Jaylen Brown, Al Horford",
         "_deepnote_index_column": 12
        },
        {
         "GameId": 63864,
         "SeasonYear": 2018,
         "PlayByPlayId": 79313,
         "EventNumber": 22,
         "Period": 1,
         "GameClock": "10:29",
         "Description": "[BOS] Horford Rebound (Off:0 Def:1)",
         "EventTypeId": 4,
         "EventType": "Rebound",
         "ActionTypeIndex": 0,
         "ActionTypeName": "Rebound",
         "Points": 0,
         "PlayLength_Seconds": 3,
         "TeamScore_Offense": 2,
         "TeamId_Offense": 54,
         "TeamName_Offense": "Philadelphia 76ers",
         "FloorLineupId_Offense": 3234,
         "TeamId_Defense": 5,
         "TeamName_Defense": "Boston Celtics",
         "FloorLineupId_Defense": 3242,
         "Players_Offense": "Markelle Fultz, Ben Simmons, Robert Covington, Dario Saric, Joel Embiid",
         "Players_Defense": "Gordon Hayward, Kyrie Irving, Jayson Tatum, Jaylen Brown, Al Horford",
         "_deepnote_index_column": 13
        },
        {
         "GameId": 63864,
         "SeasonYear": 2018,
         "PlayByPlayId": 79314,
         "EventNumber": 23,
         "Period": 1,
         "GameClock": "10:22",
         "Description": "[BOS] Hayward Driving Reverse Layup Shot: Missed",
         "EventTypeId": 2,
         "EventType": "Missed Shot",
         "ActionTypeIndex": 73,
         "ActionTypeName": "Driving Reverse Layup Shot",
         "Points": 0,
         "PlayLength_Seconds": 7,
         "TeamScore_Offense": 0,
         "TeamId_Offense": 5,
         "TeamName_Offense": "Boston Celtics",
         "FloorLineupId_Offense": 3242,
         "TeamId_Defense": 54,
         "TeamName_Defense": "Philadelphia 76ers",
         "FloorLineupId_Defense": 3234,
         "Players_Offense": "Gordon Hayward, Kyrie Irving, Jayson Tatum, Jaylen Brown, Al Horford",
         "Players_Defense": "Markelle Fultz, Ben Simmons, Robert Covington, Dario Saric, Joel Embiid",
         "_deepnote_index_column": 14
        },
        {
         "GameId": 63864,
         "SeasonYear": 2018,
         "PlayByPlayId": 79315,
         "EventNumber": 24,
         "Period": 1,
         "GameClock": "10:20",
         "Description": "[PHI] Embiid Rebound (Off:0 Def:1)",
         "EventTypeId": 4,
         "EventType": "Rebound",
         "ActionTypeIndex": 0,
         "ActionTypeName": "Rebound",
         "Points": 0,
         "PlayLength_Seconds": 2,
         "TeamScore_Offense": 0,
         "TeamId_Offense": 5,
         "TeamName_Offense": "Boston Celtics",
         "FloorLineupId_Offense": 3242,
         "TeamId_Defense": 54,
         "TeamName_Defense": "Philadelphia 76ers",
         "FloorLineupId_Defense": 3234,
         "Players_Offense": "Gordon Hayward, Kyrie Irving, Jayson Tatum, Jaylen Brown, Al Horford",
         "Players_Defense": "Markelle Fultz, Ben Simmons, Robert Covington, Dario Saric, Joel Embiid",
         "_deepnote_index_column": 15
        },
        {
         "GameId": 63864,
         "SeasonYear": 2018,
         "PlayByPlayId": 79316,
         "EventNumber": 25,
         "Period": 1,
         "GameClock": "10:15",
         "Description": "[PHI] Embiid Driving Layup Shot: Missed",
         "EventTypeId": 2,
         "EventType": "Missed Shot",
         "ActionTypeIndex": 6,
         "ActionTypeName": "Driving Layup Shot",
         "Points": 0,
         "PlayLength_Seconds": 5,
         "TeamScore_Offense": 2,
         "TeamId_Offense": 54,
         "TeamName_Offense": "Philadelphia 76ers",
         "FloorLineupId_Offense": 3234,
         "TeamId_Defense": 5,
         "TeamName_Defense": "Boston Celtics",
         "FloorLineupId_Defense": 3242,
         "Players_Offense": "Markelle Fultz, Ben Simmons, Robert Covington, Dario Saric, Joel Embiid",
         "Players_Defense": "Gordon Hayward, Kyrie Irving, Jayson Tatum, Jaylen Brown, Al Horford",
         "_deepnote_index_column": 16
        },
        {
         "GameId": 63864,
         "SeasonYear": 2018,
         "PlayByPlayId": 79317,
         "EventNumber": 26,
         "Period": 1,
         "GameClock": "10:12",
         "Description": "[BOS] Irving Rebound (Off:0 Def:1)",
         "EventTypeId": 4,
         "EventType": "Rebound",
         "ActionTypeIndex": 0,
         "ActionTypeName": "Rebound",
         "Points": 0,
         "PlayLength_Seconds": 3,
         "TeamScore_Offense": 2,
         "TeamId_Offense": 54,
         "TeamName_Offense": "Philadelphia 76ers",
         "FloorLineupId_Offense": 3234,
         "TeamId_Defense": 5,
         "TeamName_Defense": "Boston Celtics",
         "FloorLineupId_Defense": 3242,
         "Players_Offense": "Markelle Fultz, Ben Simmons, Robert Covington, Dario Saric, Joel Embiid",
         "Players_Defense": "Gordon Hayward, Kyrie Irving, Jayson Tatum, Jaylen Brown, Al Horford",
         "_deepnote_index_column": 17
        },
        {
         "GameId": 63864,
         "SeasonYear": 2018,
         "PlayByPlayId": 79318,
         "EventNumber": 27,
         "Period": 1,
         "GameClock": "10:06",
         "Description": "[BOS] Brown Running Layup Shot: Missed",
         "EventTypeId": 2,
         "EventType": "Missed Shot",
         "ActionTypeIndex": 41,
         "ActionTypeName": "Running Layup Shot",
         "Points": 0,
         "PlayLength_Seconds": 6,
         "TeamScore_Offense": 0,
         "TeamId_Offense": 5,
         "TeamName_Offense": "Boston Celtics",
         "FloorLineupId_Offense": 3242,
         "TeamId_Defense": 54,
         "TeamName_Defense": "Philadelphia 76ers",
         "FloorLineupId_Defense": 3234,
         "Players_Offense": "Gordon Hayward, Kyrie Irving, Jayson Tatum, Jaylen Brown, Al Horford",
         "Players_Defense": "Markelle Fultz, Ben Simmons, Robert Covington, Dario Saric, Joel Embiid",
         "_deepnote_index_column": 18
        },
        {
         "GameId": 63864,
         "SeasonYear": 2018,
         "PlayByPlayId": 79319,
         "EventNumber": 28,
         "Period": 1,
         "GameClock": "10:02",
         "Description": "[PHI] Saric Rebound (Off:0 Def:2)",
         "EventTypeId": 4,
         "EventType": "Rebound",
         "ActionTypeIndex": 0,
         "ActionTypeName": "Rebound",
         "Points": 0,
         "PlayLength_Seconds": 4,
         "TeamScore_Offense": 0,
         "TeamId_Offense": 5,
         "TeamName_Offense": "Boston Celtics",
         "FloorLineupId_Offense": 3242,
         "TeamId_Defense": 54,
         "TeamName_Defense": "Philadelphia 76ers",
         "FloorLineupId_Defense": 3234,
         "Players_Offense": "Gordon Hayward, Kyrie Irving, Jayson Tatum, Jaylen Brown, Al Horford",
         "Players_Defense": "Markelle Fultz, Ben Simmons, Robert Covington, Dario Saric, Joel Embiid",
         "_deepnote_index_column": 19
        }
       ]
      },
      "text/plain": "        GameId  SeasonYear  PlayByPlayId  EventNumber  Period GameClock  \\\n0        63864        2018         79300            4       1     12:00   \n1        63864        2018         79301            7       1     11:40   \n2        63864        2018         79302            8       1     11:40   \n3        63864        2018         79303            9       1     11:18   \n4        63864        2018         79304           10       1     11:15   \n...        ...         ...           ...          ...     ...       ...   \n594830   65172        2018        673990          565       4      0:21   \n594831   65172        2018        673991          566       4      0:21   \n594832   65172        2018        673992          567       4      0:15   \n594833   65172        2018        673993          568       4      0:12   \n594834   65172        2018        673994          569       4      0:00   \n\n                                              Description  EventTypeId  \\\n0       Jump Ball Embiid vs Horford (Simmons gains pos...           10   \n1                        [PHI] Covington 3pt Shot: Missed            2   \n2                                      [BOS] Team Rebound            4   \n3                                 Stoppage: Out-of-Bounds           20   \n4                            [BOS] Tatum 3pt Shot: Missed            2   \n...                                                   ...          ...   \n594830               [SAC] Swanigan Rebound (Off:3 Def:4)            4   \n594831                       [SAC] Team Timeout : Regular            9   \n594832                     [SAC] Ferrell 3pt Shot: Missed            2   \n594833            [POR] Labissiere Rebound (Off:4 Def:11)            4   \n594834                                         End Period           13   \n\n          EventType  ActionTypeIndex  ... PlayLength_Seconds  \\\n0         Jump Ball                0  ...                  0   \n1       Missed Shot                1  ...                 20   \n2           Rebound                0  ...                  0   \n3          Stoppage                3  ...                 22   \n4       Missed Shot                1  ...                  3   \n...             ...              ...  ...                ...   \n594830      Rebound                0  ...                  1   \n594831     Time Out                1  ...                  0   \n594832  Missed Shot               79  ...                  6   \n594833      Rebound                0  ...                  3   \n594834   End Period                0  ...                 12   \n\n        TeamScore_Offense  TeamId_Offense        TeamName_Offense  \\\n0                       0              54      Philadelphia 76ers   \n1                       0              54      Philadelphia 76ers   \n2                       0              54      Philadelphia 76ers   \n3                       0               5          Boston Celtics   \n4                       0               5          Boston Celtics   \n...                   ...             ...                     ...   \n594830                136              58  Portland Trail Blazers   \n594831                131              61        Sacramento Kings   \n594832                131              61        Sacramento Kings   \n594833                131              61        Sacramento Kings   \n594834                136              58  Portland Trail Blazers   \n\n        FloorLineupId_Offense TeamId_Defense        TeamName_Defense  \\\n0                        3234              5          Boston Celtics   \n1                        3234              5          Boston Celtics   \n2                        3234              5          Boston Celtics   \n3                        3242             54      Philadelphia 76ers   \n4                        3242             54      Philadelphia 76ers   \n...                       ...            ...                     ...   \n594830                   7595             61        Sacramento Kings   \n594831                  28797             58  Portland Trail Blazers   \n594832                  28797             58  Portland Trail Blazers   \n594833                  28797             58  Portland Trail Blazers   \n594834                   7595             61        Sacramento Kings   \n\n        FloorLineupId_Defense  \\\n0                        3242   \n1                        3242   \n2                        3242   \n3                        3234   \n4                        3234   \n...                       ...   \n594830                  28797   \n594831                   7595   \n594832                   7595   \n594833                   7595   \n594834                  28797   \n\n                                          Players_Offense  \\\n0       Markelle Fultz, Ben Simmons, Robert Covington,...   \n1       Markelle Fultz, Ben Simmons, Robert Covington,...   \n2       Markelle Fultz, Ben Simmons, Robert Covington,...   \n3       Gordon Hayward, Kyrie Irving, Jayson Tatum, Ja...   \n4       Gordon Hayward, Kyrie Irving, Jayson Tatum, Ja...   \n...                                                   ...   \n594830  Gary Trent Jr., Anfernee Simons, Jake Layman, ...   \n594831  B.J. Johnson, Caleb Swanigan, Yogi Ferrell, Fr...   \n594832  B.J. Johnson, Caleb Swanigan, Yogi Ferrell, Fr...   \n594833  B.J. Johnson, Caleb Swanigan, Yogi Ferrell, Fr...   \n594834  Gary Trent Jr., Anfernee Simons, Jake Layman, ...   \n\n                                          Players_Defense  \n0       Gordon Hayward, Kyrie Irving, Jayson Tatum, Ja...  \n1       Gordon Hayward, Kyrie Irving, Jayson Tatum, Ja...  \n2       Gordon Hayward, Kyrie Irving, Jayson Tatum, Ja...  \n3       Markelle Fultz, Ben Simmons, Robert Covington,...  \n4       Markelle Fultz, Ben Simmons, Robert Covington,...  \n...                                                   ...  \n594830  B.J. Johnson, Caleb Swanigan, Yogi Ferrell, Fr...  \n594831  Gary Trent Jr., Anfernee Simons, Jake Layman, ...  \n594832  Gary Trent Jr., Anfernee Simons, Jake Layman, ...  \n594833  Gary Trent Jr., Anfernee Simons, Jake Layman, ...  \n594834  B.J. Johnson, Caleb Swanigan, Yogi Ferrell, Fr...  \n\n[594835 rows x 22 columns]",
      "text/html": "<div>\n<style scoped>\n    .dataframe tbody tr th:only-of-type {\n        vertical-align: middle;\n    }\n\n    .dataframe tbody tr th {\n        vertical-align: top;\n    }\n\n    .dataframe thead th {\n        text-align: right;\n    }\n</style>\n<table border=\"1\" class=\"dataframe\">\n  <thead>\n    <tr style=\"text-align: right;\">\n      <th></th>\n      <th>GameId</th>\n      <th>SeasonYear</th>\n      <th>PlayByPlayId</th>\n      <th>EventNumber</th>\n      <th>Period</th>\n      <th>GameClock</th>\n      <th>Description</th>\n      <th>EventTypeId</th>\n      <th>EventType</th>\n      <th>ActionTypeIndex</th>\n      <th>...</th>\n      <th>PlayLength_Seconds</th>\n      <th>TeamScore_Offense</th>\n      <th>TeamId_Offense</th>\n      <th>TeamName_Offense</th>\n      <th>FloorLineupId_Offense</th>\n      <th>TeamId_Defense</th>\n      <th>TeamName_Defense</th>\n      <th>FloorLineupId_Defense</th>\n      <th>Players_Offense</th>\n      <th>Players_Defense</th>\n    </tr>\n  </thead>\n  <tbody>\n    <tr>\n      <th>0</th>\n      <td>63864</td>\n      <td>2018</td>\n      <td>79300</td>\n      <td>4</td>\n      <td>1</td>\n      <td>12:00</td>\n      <td>Jump Ball Embiid vs Horford (Simmons gains pos...</td>\n      <td>10</td>\n      <td>Jump Ball</td>\n      <td>0</td>\n      <td>...</td>\n      <td>0</td>\n      <td>0</td>\n      <td>54</td>\n      <td>Philadelphia 76ers</td>\n      <td>3234</td>\n      <td>5</td>\n      <td>Boston Celtics</td>\n      <td>3242</td>\n      <td>Markelle Fultz, Ben Simmons, Robert Covington,...</td>\n      <td>Gordon Hayward, Kyrie Irving, Jayson Tatum, Ja...</td>\n    </tr>\n    <tr>\n      <th>1</th>\n      <td>63864</td>\n      <td>2018</td>\n      <td>79301</td>\n      <td>7</td>\n      <td>1</td>\n      <td>11:40</td>\n      <td>[PHI] Covington 3pt Shot: Missed</td>\n      <td>2</td>\n      <td>Missed Shot</td>\n      <td>1</td>\n      <td>...</td>\n      <td>20</td>\n      <td>0</td>\n      <td>54</td>\n      <td>Philadelphia 76ers</td>\n      <td>3234</td>\n      <td>5</td>\n      <td>Boston Celtics</td>\n      <td>3242</td>\n      <td>Markelle Fultz, Ben Simmons, Robert Covington,...</td>\n      <td>Gordon Hayward, Kyrie Irving, Jayson Tatum, Ja...</td>\n    </tr>\n    <tr>\n      <th>2</th>\n      <td>63864</td>\n      <td>2018</td>\n      <td>79302</td>\n      <td>8</td>\n      <td>1</td>\n      <td>11:40</td>\n      <td>[BOS] Team Rebound</td>\n      <td>4</td>\n      <td>Rebound</td>\n      <td>0</td>\n      <td>...</td>\n      <td>0</td>\n      <td>0</td>\n      <td>54</td>\n      <td>Philadelphia 76ers</td>\n      <td>3234</td>\n      <td>5</td>\n      <td>Boston Celtics</td>\n      <td>3242</td>\n      <td>Markelle Fultz, Ben Simmons, Robert Covington,...</td>\n      <td>Gordon Hayward, Kyrie Irving, Jayson Tatum, Ja...</td>\n    </tr>\n    <tr>\n      <th>3</th>\n      <td>63864</td>\n      <td>2018</td>\n      <td>79303</td>\n      <td>9</td>\n      <td>1</td>\n      <td>11:18</td>\n      <td>Stoppage: Out-of-Bounds</td>\n      <td>20</td>\n      <td>Stoppage</td>\n      <td>3</td>\n      <td>...</td>\n      <td>22</td>\n      <td>0</td>\n      <td>5</td>\n      <td>Boston Celtics</td>\n      <td>3242</td>\n      <td>54</td>\n      <td>Philadelphia 76ers</td>\n      <td>3234</td>\n      <td>Gordon Hayward, Kyrie Irving, Jayson Tatum, Ja...</td>\n      <td>Markelle Fultz, Ben Simmons, Robert Covington,...</td>\n    </tr>\n    <tr>\n      <th>4</th>\n      <td>63864</td>\n      <td>2018</td>\n      <td>79304</td>\n      <td>10</td>\n      <td>1</td>\n      <td>11:15</td>\n      <td>[BOS] Tatum 3pt Shot: Missed</td>\n      <td>2</td>\n      <td>Missed Shot</td>\n      <td>1</td>\n      <td>...</td>\n      <td>3</td>\n      <td>0</td>\n      <td>5</td>\n      <td>Boston Celtics</td>\n      <td>3242</td>\n      <td>54</td>\n      <td>Philadelphia 76ers</td>\n      <td>3234</td>\n      <td>Gordon Hayward, Kyrie Irving, Jayson Tatum, Ja...</td>\n      <td>Markelle Fultz, Ben Simmons, Robert Covington,...</td>\n    </tr>\n    <tr>\n      <th>...</th>\n      <td>...</td>\n      <td>...</td>\n      <td>...</td>\n      <td>...</td>\n      <td>...</td>\n      <td>...</td>\n      <td>...</td>\n      <td>...</td>\n      <td>...</td>\n      <td>...</td>\n      <td>...</td>\n      <td>...</td>\n      <td>...</td>\n      <td>...</td>\n      <td>...</td>\n      <td>...</td>\n      <td>...</td>\n      <td>...</td>\n      <td>...</td>\n      <td>...</td>\n      <td>...</td>\n    </tr>\n    <tr>\n      <th>594830</th>\n      <td>65172</td>\n      <td>2018</td>\n      <td>673990</td>\n      <td>565</td>\n      <td>4</td>\n      <td>0:21</td>\n      <td>[SAC] Swanigan Rebound (Off:3 Def:4)</td>\n      <td>4</td>\n      <td>Rebound</td>\n      <td>0</td>\n      <td>...</td>\n      <td>1</td>\n      <td>136</td>\n      <td>58</td>\n      <td>Portland Trail Blazers</td>\n      <td>7595</td>\n      <td>61</td>\n      <td>Sacramento Kings</td>\n      <td>28797</td>\n      <td>Gary Trent Jr., Anfernee Simons, Jake Layman, ...</td>\n      <td>B.J. Johnson, Caleb Swanigan, Yogi Ferrell, Fr...</td>\n    </tr>\n    <tr>\n      <th>594831</th>\n      <td>65172</td>\n      <td>2018</td>\n      <td>673991</td>\n      <td>566</td>\n      <td>4</td>\n      <td>0:21</td>\n      <td>[SAC] Team Timeout : Regular</td>\n      <td>9</td>\n      <td>Time Out</td>\n      <td>1</td>\n      <td>...</td>\n      <td>0</td>\n      <td>131</td>\n      <td>61</td>\n      <td>Sacramento Kings</td>\n      <td>28797</td>\n      <td>58</td>\n      <td>Portland Trail Blazers</td>\n      <td>7595</td>\n      <td>B.J. Johnson, Caleb Swanigan, Yogi Ferrell, Fr...</td>\n      <td>Gary Trent Jr., Anfernee Simons, Jake Layman, ...</td>\n    </tr>\n    <tr>\n      <th>594832</th>\n      <td>65172</td>\n      <td>2018</td>\n      <td>673992</td>\n      <td>567</td>\n      <td>4</td>\n      <td>0:15</td>\n      <td>[SAC] Ferrell 3pt Shot: Missed</td>\n      <td>2</td>\n      <td>Missed Shot</td>\n      <td>79</td>\n      <td>...</td>\n      <td>6</td>\n      <td>131</td>\n      <td>61</td>\n      <td>Sacramento Kings</td>\n      <td>28797</td>\n      <td>58</td>\n      <td>Portland Trail Blazers</td>\n      <td>7595</td>\n      <td>B.J. Johnson, Caleb Swanigan, Yogi Ferrell, Fr...</td>\n      <td>Gary Trent Jr., Anfernee Simons, Jake Layman, ...</td>\n    </tr>\n    <tr>\n      <th>594833</th>\n      <td>65172</td>\n      <td>2018</td>\n      <td>673993</td>\n      <td>568</td>\n      <td>4</td>\n      <td>0:12</td>\n      <td>[POR] Labissiere Rebound (Off:4 Def:11)</td>\n      <td>4</td>\n      <td>Rebound</td>\n      <td>0</td>\n      <td>...</td>\n      <td>3</td>\n      <td>131</td>\n      <td>61</td>\n      <td>Sacramento Kings</td>\n      <td>28797</td>\n      <td>58</td>\n      <td>Portland Trail Blazers</td>\n      <td>7595</td>\n      <td>B.J. Johnson, Caleb Swanigan, Yogi Ferrell, Fr...</td>\n      <td>Gary Trent Jr., Anfernee Simons, Jake Layman, ...</td>\n    </tr>\n    <tr>\n      <th>594834</th>\n      <td>65172</td>\n      <td>2018</td>\n      <td>673994</td>\n      <td>569</td>\n      <td>4</td>\n      <td>0:00</td>\n      <td>End Period</td>\n      <td>13</td>\n      <td>End Period</td>\n      <td>0</td>\n      <td>...</td>\n      <td>12</td>\n      <td>136</td>\n      <td>58</td>\n      <td>Portland Trail Blazers</td>\n      <td>7595</td>\n      <td>61</td>\n      <td>Sacramento Kings</td>\n      <td>28797</td>\n      <td>Gary Trent Jr., Anfernee Simons, Jake Layman, ...</td>\n      <td>B.J. Johnson, Caleb Swanigan, Yogi Ferrell, Fr...</td>\n    </tr>\n  </tbody>\n</table>\n<p>594835 rows × 22 columns</p>\n</div>"
     },
     "metadata": {}
    }
   ]
  },
  {
   "cell_type": "code",
   "metadata": {
    "cell_id": "1e610c59-1c82-44e7-b93e-59e17ce250bf",
    "tags": [],
    "deepnote_to_be_reexecuted": false,
    "source_hash": "7074d60",
    "execution_start": 1648764226041,
    "execution_millis": 6652,
    "deepnote_cell_type": "code",
    "deepnote_cell_height": 81
   },
   "source": "play_by_play1.to_csv('pbp_2018_noPossessions.csv')",
   "execution_count": null,
   "outputs": []
  },
  {
   "cell_type": "markdown",
   "source": "### ",
   "metadata": {
    "tags": [],
    "is_collapsed": false,
    "cell_id": "00003-8ec7cfeb-2d53-4a81-87a5-4cb8e23736bf",
    "deepnote_cell_type": "text-cell-h3"
   }
  },
  {
   "cell_type": "code",
   "metadata": {
    "tags": [],
    "deepnote_to_be_reexecuted": false,
    "source_hash": "603c8c8b",
    "execution_start": 1648764232701,
    "execution_millis": 12592,
    "cell_id": "00004-c095c134-befd-42ae-b998-8ffb02652ed9",
    "deepnote_cell_type": "code",
    "deepnote_cell_height": 672
   },
   "source": "play_by_play2 = play_by_play1.copy()\nplay_by_play2 = play_by_play2.replace(to_replace = ':', value = '.', regex = True)\nclock_col = pd.to_numeric(play_by_play2['GameClock'])\nplay_by_play2['GameClock'] = clock_col\nplay_by_play2",
   "execution_count": null,
   "outputs": [
    {
     "output_type": "execute_result",
     "execution_count": 5,
     "data": {
      "application/vnd.deepnote.dataframe.v3+json": {
       "column_count": 22,
       "row_count": 594835,
       "columns": [
        {
         "name": "GameId",
         "dtype": "int64"
        },
        {
         "name": "SeasonYear",
         "dtype": "int64"
        },
        {
         "name": "PlayByPlayId",
         "dtype": "int64"
        },
        {
         "name": "EventNumber",
         "dtype": "int64"
        },
        {
         "name": "Period",
         "dtype": "int64"
        },
        {
         "name": "GameClock",
         "dtype": "float64"
        },
        {
         "name": "Description",
         "dtype": "object"
        },
        {
         "name": "EventTypeId",
         "dtype": "int64"
        },
        {
         "name": "EventType",
         "dtype": "object"
        },
        {
         "name": "ActionTypeIndex",
         "dtype": "int64"
        },
        {
         "name": "ActionTypeName",
         "dtype": "object"
        },
        {
         "name": "Points",
         "dtype": "int64"
        },
        {
         "name": "PlayLength_Seconds",
         "dtype": "int64"
        },
        {
         "name": "TeamScore_Offense",
         "dtype": "int64"
        },
        {
         "name": "TeamId_Offense",
         "dtype": "int64"
        },
        {
         "name": "TeamName_Offense",
         "dtype": "object"
        },
        {
         "name": "FloorLineupId_Offense",
         "dtype": "int64"
        },
        {
         "name": "TeamId_Defense",
         "dtype": "int64"
        },
        {
         "name": "TeamName_Defense",
         "dtype": "object"
        },
        {
         "name": "FloorLineupId_Defense",
         "dtype": "int64"
        },
        {
         "name": "Players_Offense",
         "dtype": "object"
        },
        {
         "name": "Players_Defense",
         "dtype": "object"
        },
        {
         "name": "_deepnote_index_column",
         "dtype": "int64"
        }
       ],
       "rows": [
        {
         "GameId": 63864,
         "SeasonYear": 2018,
         "PlayByPlayId": 79300,
         "EventNumber": 4,
         "Period": 1,
         "GameClock": 12,
         "Description": "Jump Ball Embiid vs Horford (Simmons gains possession)",
         "EventTypeId": 10,
         "EventType": "Jump Ball",
         "ActionTypeIndex": 0,
         "ActionTypeName": "Jump Ball",
         "Points": 0,
         "PlayLength_Seconds": 0,
         "TeamScore_Offense": 0,
         "TeamId_Offense": 54,
         "TeamName_Offense": "Philadelphia 76ers",
         "FloorLineupId_Offense": 3234,
         "TeamId_Defense": 5,
         "TeamName_Defense": "Boston Celtics",
         "FloorLineupId_Defense": 3242,
         "Players_Offense": "Markelle Fultz, Ben Simmons, Robert Covington, Dario Saric, Joel Embiid",
         "Players_Defense": "Gordon Hayward, Kyrie Irving, Jayson Tatum, Jaylen Brown, Al Horford",
         "_deepnote_index_column": 0
        },
        {
         "GameId": 63864,
         "SeasonYear": 2018,
         "PlayByPlayId": 79301,
         "EventNumber": 7,
         "Period": 1,
         "GameClock": 11.4,
         "Description": "[PHI] Covington 3pt Shot. Missed",
         "EventTypeId": 2,
         "EventType": "Missed Shot",
         "ActionTypeIndex": 1,
         "ActionTypeName": "Jump Shot",
         "Points": 0,
         "PlayLength_Seconds": 20,
         "TeamScore_Offense": 0,
         "TeamId_Offense": 54,
         "TeamName_Offense": "Philadelphia 76ers",
         "FloorLineupId_Offense": 3234,
         "TeamId_Defense": 5,
         "TeamName_Defense": "Boston Celtics",
         "FloorLineupId_Defense": 3242,
         "Players_Offense": "Markelle Fultz, Ben Simmons, Robert Covington, Dario Saric, Joel Embiid",
         "Players_Defense": "Gordon Hayward, Kyrie Irving, Jayson Tatum, Jaylen Brown, Al Horford",
         "_deepnote_index_column": 1
        },
        {
         "GameId": 63864,
         "SeasonYear": 2018,
         "PlayByPlayId": 79302,
         "EventNumber": 8,
         "Period": 1,
         "GameClock": 11.4,
         "Description": "[BOS] Team Rebound",
         "EventTypeId": 4,
         "EventType": "Rebound",
         "ActionTypeIndex": 0,
         "ActionTypeName": "Rebound",
         "Points": 0,
         "PlayLength_Seconds": 0,
         "TeamScore_Offense": 0,
         "TeamId_Offense": 54,
         "TeamName_Offense": "Philadelphia 76ers",
         "FloorLineupId_Offense": 3234,
         "TeamId_Defense": 5,
         "TeamName_Defense": "Boston Celtics",
         "FloorLineupId_Defense": 3242,
         "Players_Offense": "Markelle Fultz, Ben Simmons, Robert Covington, Dario Saric, Joel Embiid",
         "Players_Defense": "Gordon Hayward, Kyrie Irving, Jayson Tatum, Jaylen Brown, Al Horford",
         "_deepnote_index_column": 2
        },
        {
         "GameId": 63864,
         "SeasonYear": 2018,
         "PlayByPlayId": 79303,
         "EventNumber": 9,
         "Period": 1,
         "GameClock": 11.18,
         "Description": "Stoppage. Out-of-Bounds",
         "EventTypeId": 20,
         "EventType": "Stoppage",
         "ActionTypeIndex": 3,
         "ActionTypeName": "Out of Bounds",
         "Points": 0,
         "PlayLength_Seconds": 22,
         "TeamScore_Offense": 0,
         "TeamId_Offense": 5,
         "TeamName_Offense": "Boston Celtics",
         "FloorLineupId_Offense": 3242,
         "TeamId_Defense": 54,
         "TeamName_Defense": "Philadelphia 76ers",
         "FloorLineupId_Defense": 3234,
         "Players_Offense": "Gordon Hayward, Kyrie Irving, Jayson Tatum, Jaylen Brown, Al Horford",
         "Players_Defense": "Markelle Fultz, Ben Simmons, Robert Covington, Dario Saric, Joel Embiid",
         "_deepnote_index_column": 3
        },
        {
         "GameId": 63864,
         "SeasonYear": 2018,
         "PlayByPlayId": 79304,
         "EventNumber": 10,
         "Period": 1,
         "GameClock": 11.15,
         "Description": "[BOS] Tatum 3pt Shot. Missed",
         "EventTypeId": 2,
         "EventType": "Missed Shot",
         "ActionTypeIndex": 1,
         "ActionTypeName": "Jump Shot",
         "Points": 0,
         "PlayLength_Seconds": 3,
         "TeamScore_Offense": 0,
         "TeamId_Offense": 5,
         "TeamName_Offense": "Boston Celtics",
         "FloorLineupId_Offense": 3242,
         "TeamId_Defense": 54,
         "TeamName_Defense": "Philadelphia 76ers",
         "FloorLineupId_Defense": 3234,
         "Players_Offense": "Gordon Hayward, Kyrie Irving, Jayson Tatum, Jaylen Brown, Al Horford",
         "Players_Defense": "Markelle Fultz, Ben Simmons, Robert Covington, Dario Saric, Joel Embiid",
         "_deepnote_index_column": 4
        },
        {
         "GameId": 63864,
         "SeasonYear": 2018,
         "PlayByPlayId": 79305,
         "EventNumber": 11,
         "Period": 1,
         "GameClock": 11.13,
         "Description": "[PHI] Saric Rebound (Off.0 Def.1)",
         "EventTypeId": 4,
         "EventType": "Rebound",
         "ActionTypeIndex": 0,
         "ActionTypeName": "Rebound",
         "Points": 0,
         "PlayLength_Seconds": 2,
         "TeamScore_Offense": 0,
         "TeamId_Offense": 5,
         "TeamName_Offense": "Boston Celtics",
         "FloorLineupId_Offense": 3242,
         "TeamId_Defense": 54,
         "TeamName_Defense": "Philadelphia 76ers",
         "FloorLineupId_Defense": 3234,
         "Players_Offense": "Gordon Hayward, Kyrie Irving, Jayson Tatum, Jaylen Brown, Al Horford",
         "Players_Defense": "Markelle Fultz, Ben Simmons, Robert Covington, Dario Saric, Joel Embiid",
         "_deepnote_index_column": 5
        },
        {
         "GameId": 63864,
         "SeasonYear": 2018,
         "PlayByPlayId": 79306,
         "EventNumber": 12,
         "Period": 1,
         "GameClock": 11.08,
         "Description": "[PHI] Simmons Turnover . Bad Pass (1 TO) Steal.Hayward (1 ST)",
         "EventTypeId": 5,
         "EventType": "Turnover",
         "ActionTypeIndex": 1,
         "ActionTypeName": "Bad Pass",
         "Points": 0,
         "PlayLength_Seconds": 5,
         "TeamScore_Offense": 0,
         "TeamId_Offense": 54,
         "TeamName_Offense": "Philadelphia 76ers",
         "FloorLineupId_Offense": 3234,
         "TeamId_Defense": 5,
         "TeamName_Defense": "Boston Celtics",
         "FloorLineupId_Defense": 3242,
         "Players_Offense": "Markelle Fultz, Ben Simmons, Robert Covington, Dario Saric, Joel Embiid",
         "Players_Defense": "Gordon Hayward, Kyrie Irving, Jayson Tatum, Jaylen Brown, Al Horford",
         "_deepnote_index_column": 6
        },
        {
         "GameId": 63864,
         "SeasonYear": 2018,
         "PlayByPlayId": 79307,
         "EventNumber": 14,
         "Period": 1,
         "GameClock": 11.03,
         "Description": "[BOS] Brown Running Layup Shot. Missed",
         "EventTypeId": 2,
         "EventType": "Missed Shot",
         "ActionTypeIndex": 41,
         "ActionTypeName": "Running Layup Shot",
         "Points": 0,
         "PlayLength_Seconds": 5,
         "TeamScore_Offense": 0,
         "TeamId_Offense": 5,
         "TeamName_Offense": "Boston Celtics",
         "FloorLineupId_Offense": 3242,
         "TeamId_Defense": 54,
         "TeamName_Defense": "Philadelphia 76ers",
         "FloorLineupId_Defense": 3234,
         "Players_Offense": "Gordon Hayward, Kyrie Irving, Jayson Tatum, Jaylen Brown, Al Horford",
         "Players_Defense": "Markelle Fultz, Ben Simmons, Robert Covington, Dario Saric, Joel Embiid",
         "_deepnote_index_column": 7
        },
        {
         "GameId": 63864,
         "SeasonYear": 2018,
         "PlayByPlayId": 79308,
         "EventNumber": 16,
         "Period": 1,
         "GameClock": 10.58,
         "Description": "[PHI] Simmons Rebound (Off.0 Def.1)",
         "EventTypeId": 4,
         "EventType": "Rebound",
         "ActionTypeIndex": 0,
         "ActionTypeName": "Rebound",
         "Points": 0,
         "PlayLength_Seconds": 5,
         "TeamScore_Offense": 0,
         "TeamId_Offense": 5,
         "TeamName_Offense": "Boston Celtics",
         "FloorLineupId_Offense": 3242,
         "TeamId_Defense": 54,
         "TeamName_Defense": "Philadelphia 76ers",
         "FloorLineupId_Defense": 3234,
         "Players_Offense": "Gordon Hayward, Kyrie Irving, Jayson Tatum, Jaylen Brown, Al Horford",
         "Players_Defense": "Markelle Fultz, Ben Simmons, Robert Covington, Dario Saric, Joel Embiid",
         "_deepnote_index_column": 8
        },
        {
         "GameId": 63864,
         "SeasonYear": 2018,
         "PlayByPlayId": 79309,
         "EventNumber": 17,
         "Period": 1,
         "GameClock": 10.55,
         "Description": "[PHI 2-0] Embiid Running Layup Shot. Made (2 PTS) Assist. Simmons (1 AST)",
         "EventTypeId": 1,
         "EventType": "Made Shot",
         "ActionTypeIndex": 41,
         "ActionTypeName": "Running Layup Shot",
         "Points": 2,
         "PlayLength_Seconds": 3,
         "TeamScore_Offense": 2,
         "TeamId_Offense": 54,
         "TeamName_Offense": "Philadelphia 76ers",
         "FloorLineupId_Offense": 3234,
         "TeamId_Defense": 5,
         "TeamName_Defense": "Boston Celtics",
         "FloorLineupId_Defense": 3242,
         "Players_Offense": "Markelle Fultz, Ben Simmons, Robert Covington, Dario Saric, Joel Embiid",
         "Players_Defense": "Gordon Hayward, Kyrie Irving, Jayson Tatum, Jaylen Brown, Al Horford",
         "_deepnote_index_column": 9
        }
       ]
      },
      "text/plain": "        GameId  SeasonYear  PlayByPlayId  EventNumber  Period  GameClock  \\\n0        63864        2018         79300            4       1      12.00   \n1        63864        2018         79301            7       1      11.40   \n2        63864        2018         79302            8       1      11.40   \n3        63864        2018         79303            9       1      11.18   \n4        63864        2018         79304           10       1      11.15   \n...        ...         ...           ...          ...     ...        ...   \n594830   65172        2018        673990          565       4       0.21   \n594831   65172        2018        673991          566       4       0.21   \n594832   65172        2018        673992          567       4       0.15   \n594833   65172        2018        673993          568       4       0.12   \n594834   65172        2018        673994          569       4       0.00   \n\n                                              Description  EventTypeId  \\\n0       Jump Ball Embiid vs Horford (Simmons gains pos...           10   \n1                        [PHI] Covington 3pt Shot. Missed            2   \n2                                      [BOS] Team Rebound            4   \n3                                 Stoppage. Out-of-Bounds           20   \n4                            [BOS] Tatum 3pt Shot. Missed            2   \n...                                                   ...          ...   \n594830               [SAC] Swanigan Rebound (Off.3 Def.4)            4   \n594831                       [SAC] Team Timeout . Regular            9   \n594832                     [SAC] Ferrell 3pt Shot. Missed            2   \n594833            [POR] Labissiere Rebound (Off.4 Def.11)            4   \n594834                                         End Period           13   \n\n          EventType  ActionTypeIndex  ... PlayLength_Seconds  \\\n0         Jump Ball                0  ...                  0   \n1       Missed Shot                1  ...                 20   \n2           Rebound                0  ...                  0   \n3          Stoppage                3  ...                 22   \n4       Missed Shot                1  ...                  3   \n...             ...              ...  ...                ...   \n594830      Rebound                0  ...                  1   \n594831     Time Out                1  ...                  0   \n594832  Missed Shot               79  ...                  6   \n594833      Rebound                0  ...                  3   \n594834   End Period                0  ...                 12   \n\n        TeamScore_Offense  TeamId_Offense        TeamName_Offense  \\\n0                       0              54      Philadelphia 76ers   \n1                       0              54      Philadelphia 76ers   \n2                       0              54      Philadelphia 76ers   \n3                       0               5          Boston Celtics   \n4                       0               5          Boston Celtics   \n...                   ...             ...                     ...   \n594830                136              58  Portland Trail Blazers   \n594831                131              61        Sacramento Kings   \n594832                131              61        Sacramento Kings   \n594833                131              61        Sacramento Kings   \n594834                136              58  Portland Trail Blazers   \n\n        FloorLineupId_Offense TeamId_Defense        TeamName_Defense  \\\n0                        3234              5          Boston Celtics   \n1                        3234              5          Boston Celtics   \n2                        3234              5          Boston Celtics   \n3                        3242             54      Philadelphia 76ers   \n4                        3242             54      Philadelphia 76ers   \n...                       ...            ...                     ...   \n594830                   7595             61        Sacramento Kings   \n594831                  28797             58  Portland Trail Blazers   \n594832                  28797             58  Portland Trail Blazers   \n594833                  28797             58  Portland Trail Blazers   \n594834                   7595             61        Sacramento Kings   \n\n        FloorLineupId_Defense  \\\n0                        3242   \n1                        3242   \n2                        3242   \n3                        3234   \n4                        3234   \n...                       ...   \n594830                  28797   \n594831                   7595   \n594832                   7595   \n594833                   7595   \n594834                  28797   \n\n                                          Players_Offense  \\\n0       Markelle Fultz, Ben Simmons, Robert Covington,...   \n1       Markelle Fultz, Ben Simmons, Robert Covington,...   \n2       Markelle Fultz, Ben Simmons, Robert Covington,...   \n3       Gordon Hayward, Kyrie Irving, Jayson Tatum, Ja...   \n4       Gordon Hayward, Kyrie Irving, Jayson Tatum, Ja...   \n...                                                   ...   \n594830  Gary Trent Jr., Anfernee Simons, Jake Layman, ...   \n594831  B.J. Johnson, Caleb Swanigan, Yogi Ferrell, Fr...   \n594832  B.J. Johnson, Caleb Swanigan, Yogi Ferrell, Fr...   \n594833  B.J. Johnson, Caleb Swanigan, Yogi Ferrell, Fr...   \n594834  Gary Trent Jr., Anfernee Simons, Jake Layman, ...   \n\n                                          Players_Defense  \n0       Gordon Hayward, Kyrie Irving, Jayson Tatum, Ja...  \n1       Gordon Hayward, Kyrie Irving, Jayson Tatum, Ja...  \n2       Gordon Hayward, Kyrie Irving, Jayson Tatum, Ja...  \n3       Markelle Fultz, Ben Simmons, Robert Covington,...  \n4       Markelle Fultz, Ben Simmons, Robert Covington,...  \n...                                                   ...  \n594830  B.J. Johnson, Caleb Swanigan, Yogi Ferrell, Fr...  \n594831  Gary Trent Jr., Anfernee Simons, Jake Layman, ...  \n594832  Gary Trent Jr., Anfernee Simons, Jake Layman, ...  \n594833  Gary Trent Jr., Anfernee Simons, Jake Layman, ...  \n594834  B.J. Johnson, Caleb Swanigan, Yogi Ferrell, Fr...  \n\n[594835 rows x 22 columns]",
      "text/html": "<div>\n<style scoped>\n    .dataframe tbody tr th:only-of-type {\n        vertical-align: middle;\n    }\n\n    .dataframe tbody tr th {\n        vertical-align: top;\n    }\n\n    .dataframe thead th {\n        text-align: right;\n    }\n</style>\n<table border=\"1\" class=\"dataframe\">\n  <thead>\n    <tr style=\"text-align: right;\">\n      <th></th>\n      <th>GameId</th>\n      <th>SeasonYear</th>\n      <th>PlayByPlayId</th>\n      <th>EventNumber</th>\n      <th>Period</th>\n      <th>GameClock</th>\n      <th>Description</th>\n      <th>EventTypeId</th>\n      <th>EventType</th>\n      <th>ActionTypeIndex</th>\n      <th>...</th>\n      <th>PlayLength_Seconds</th>\n      <th>TeamScore_Offense</th>\n      <th>TeamId_Offense</th>\n      <th>TeamName_Offense</th>\n      <th>FloorLineupId_Offense</th>\n      <th>TeamId_Defense</th>\n      <th>TeamName_Defense</th>\n      <th>FloorLineupId_Defense</th>\n      <th>Players_Offense</th>\n      <th>Players_Defense</th>\n    </tr>\n  </thead>\n  <tbody>\n    <tr>\n      <th>0</th>\n      <td>63864</td>\n      <td>2018</td>\n      <td>79300</td>\n      <td>4</td>\n      <td>1</td>\n      <td>12.00</td>\n      <td>Jump Ball Embiid vs Horford (Simmons gains pos...</td>\n      <td>10</td>\n      <td>Jump Ball</td>\n      <td>0</td>\n      <td>...</td>\n      <td>0</td>\n      <td>0</td>\n      <td>54</td>\n      <td>Philadelphia 76ers</td>\n      <td>3234</td>\n      <td>5</td>\n      <td>Boston Celtics</td>\n      <td>3242</td>\n      <td>Markelle Fultz, Ben Simmons, Robert Covington,...</td>\n      <td>Gordon Hayward, Kyrie Irving, Jayson Tatum, Ja...</td>\n    </tr>\n    <tr>\n      <th>1</th>\n      <td>63864</td>\n      <td>2018</td>\n      <td>79301</td>\n      <td>7</td>\n      <td>1</td>\n      <td>11.40</td>\n      <td>[PHI] Covington 3pt Shot. Missed</td>\n      <td>2</td>\n      <td>Missed Shot</td>\n      <td>1</td>\n      <td>...</td>\n      <td>20</td>\n      <td>0</td>\n      <td>54</td>\n      <td>Philadelphia 76ers</td>\n      <td>3234</td>\n      <td>5</td>\n      <td>Boston Celtics</td>\n      <td>3242</td>\n      <td>Markelle Fultz, Ben Simmons, Robert Covington,...</td>\n      <td>Gordon Hayward, Kyrie Irving, Jayson Tatum, Ja...</td>\n    </tr>\n    <tr>\n      <th>2</th>\n      <td>63864</td>\n      <td>2018</td>\n      <td>79302</td>\n      <td>8</td>\n      <td>1</td>\n      <td>11.40</td>\n      <td>[BOS] Team Rebound</td>\n      <td>4</td>\n      <td>Rebound</td>\n      <td>0</td>\n      <td>...</td>\n      <td>0</td>\n      <td>0</td>\n      <td>54</td>\n      <td>Philadelphia 76ers</td>\n      <td>3234</td>\n      <td>5</td>\n      <td>Boston Celtics</td>\n      <td>3242</td>\n      <td>Markelle Fultz, Ben Simmons, Robert Covington,...</td>\n      <td>Gordon Hayward, Kyrie Irving, Jayson Tatum, Ja...</td>\n    </tr>\n    <tr>\n      <th>3</th>\n      <td>63864</td>\n      <td>2018</td>\n      <td>79303</td>\n      <td>9</td>\n      <td>1</td>\n      <td>11.18</td>\n      <td>Stoppage. Out-of-Bounds</td>\n      <td>20</td>\n      <td>Stoppage</td>\n      <td>3</td>\n      <td>...</td>\n      <td>22</td>\n      <td>0</td>\n      <td>5</td>\n      <td>Boston Celtics</td>\n      <td>3242</td>\n      <td>54</td>\n      <td>Philadelphia 76ers</td>\n      <td>3234</td>\n      <td>Gordon Hayward, Kyrie Irving, Jayson Tatum, Ja...</td>\n      <td>Markelle Fultz, Ben Simmons, Robert Covington,...</td>\n    </tr>\n    <tr>\n      <th>4</th>\n      <td>63864</td>\n      <td>2018</td>\n      <td>79304</td>\n      <td>10</td>\n      <td>1</td>\n      <td>11.15</td>\n      <td>[BOS] Tatum 3pt Shot. Missed</td>\n      <td>2</td>\n      <td>Missed Shot</td>\n      <td>1</td>\n      <td>...</td>\n      <td>3</td>\n      <td>0</td>\n      <td>5</td>\n      <td>Boston Celtics</td>\n      <td>3242</td>\n      <td>54</td>\n      <td>Philadelphia 76ers</td>\n      <td>3234</td>\n      <td>Gordon Hayward, Kyrie Irving, Jayson Tatum, Ja...</td>\n      <td>Markelle Fultz, Ben Simmons, Robert Covington,...</td>\n    </tr>\n    <tr>\n      <th>...</th>\n      <td>...</td>\n      <td>...</td>\n      <td>...</td>\n      <td>...</td>\n      <td>...</td>\n      <td>...</td>\n      <td>...</td>\n      <td>...</td>\n      <td>...</td>\n      <td>...</td>\n      <td>...</td>\n      <td>...</td>\n      <td>...</td>\n      <td>...</td>\n      <td>...</td>\n      <td>...</td>\n      <td>...</td>\n      <td>...</td>\n      <td>...</td>\n      <td>...</td>\n      <td>...</td>\n    </tr>\n    <tr>\n      <th>594830</th>\n      <td>65172</td>\n      <td>2018</td>\n      <td>673990</td>\n      <td>565</td>\n      <td>4</td>\n      <td>0.21</td>\n      <td>[SAC] Swanigan Rebound (Off.3 Def.4)</td>\n      <td>4</td>\n      <td>Rebound</td>\n      <td>0</td>\n      <td>...</td>\n      <td>1</td>\n      <td>136</td>\n      <td>58</td>\n      <td>Portland Trail Blazers</td>\n      <td>7595</td>\n      <td>61</td>\n      <td>Sacramento Kings</td>\n      <td>28797</td>\n      <td>Gary Trent Jr., Anfernee Simons, Jake Layman, ...</td>\n      <td>B.J. Johnson, Caleb Swanigan, Yogi Ferrell, Fr...</td>\n    </tr>\n    <tr>\n      <th>594831</th>\n      <td>65172</td>\n      <td>2018</td>\n      <td>673991</td>\n      <td>566</td>\n      <td>4</td>\n      <td>0.21</td>\n      <td>[SAC] Team Timeout . Regular</td>\n      <td>9</td>\n      <td>Time Out</td>\n      <td>1</td>\n      <td>...</td>\n      <td>0</td>\n      <td>131</td>\n      <td>61</td>\n      <td>Sacramento Kings</td>\n      <td>28797</td>\n      <td>58</td>\n      <td>Portland Trail Blazers</td>\n      <td>7595</td>\n      <td>B.J. Johnson, Caleb Swanigan, Yogi Ferrell, Fr...</td>\n      <td>Gary Trent Jr., Anfernee Simons, Jake Layman, ...</td>\n    </tr>\n    <tr>\n      <th>594832</th>\n      <td>65172</td>\n      <td>2018</td>\n      <td>673992</td>\n      <td>567</td>\n      <td>4</td>\n      <td>0.15</td>\n      <td>[SAC] Ferrell 3pt Shot. Missed</td>\n      <td>2</td>\n      <td>Missed Shot</td>\n      <td>79</td>\n      <td>...</td>\n      <td>6</td>\n      <td>131</td>\n      <td>61</td>\n      <td>Sacramento Kings</td>\n      <td>28797</td>\n      <td>58</td>\n      <td>Portland Trail Blazers</td>\n      <td>7595</td>\n      <td>B.J. Johnson, Caleb Swanigan, Yogi Ferrell, Fr...</td>\n      <td>Gary Trent Jr., Anfernee Simons, Jake Layman, ...</td>\n    </tr>\n    <tr>\n      <th>594833</th>\n      <td>65172</td>\n      <td>2018</td>\n      <td>673993</td>\n      <td>568</td>\n      <td>4</td>\n      <td>0.12</td>\n      <td>[POR] Labissiere Rebound (Off.4 Def.11)</td>\n      <td>4</td>\n      <td>Rebound</td>\n      <td>0</td>\n      <td>...</td>\n      <td>3</td>\n      <td>131</td>\n      <td>61</td>\n      <td>Sacramento Kings</td>\n      <td>28797</td>\n      <td>58</td>\n      <td>Portland Trail Blazers</td>\n      <td>7595</td>\n      <td>B.J. Johnson, Caleb Swanigan, Yogi Ferrell, Fr...</td>\n      <td>Gary Trent Jr., Anfernee Simons, Jake Layman, ...</td>\n    </tr>\n    <tr>\n      <th>594834</th>\n      <td>65172</td>\n      <td>2018</td>\n      <td>673994</td>\n      <td>569</td>\n      <td>4</td>\n      <td>0.00</td>\n      <td>End Period</td>\n      <td>13</td>\n      <td>End Period</td>\n      <td>0</td>\n      <td>...</td>\n      <td>12</td>\n      <td>136</td>\n      <td>58</td>\n      <td>Portland Trail Blazers</td>\n      <td>7595</td>\n      <td>61</td>\n      <td>Sacramento Kings</td>\n      <td>28797</td>\n      <td>Gary Trent Jr., Anfernee Simons, Jake Layman, ...</td>\n      <td>B.J. Johnson, Caleb Swanigan, Yogi Ferrell, Fr...</td>\n    </tr>\n  </tbody>\n</table>\n<p>594835 rows × 22 columns</p>\n</div>"
     },
     "metadata": {}
    }
   ]
  },
  {
   "cell_type": "code",
   "metadata": {
    "tags": [],
    "deepnote_to_be_reexecuted": false,
    "source_hash": "597d93e3",
    "execution_start": 1648764245301,
    "execution_millis": 409,
    "deepnote_table_state": {
     "pageSize": 10,
     "pageIndex": 0,
     "filters": [],
     "sortBy": []
    },
    "deepnote_table_loading": false,
    "deepnote_table_invalid": false,
    "cell_id": "00005-3ebfb7a3-b39c-4d60-b5b2-c55af6b7cdef",
    "deepnote_cell_type": "code",
    "deepnote_cell_height": 1464
   },
   "source": "# play_by_play1 = play_by_play2.sort_values(['GameId', 'Period', 'GameClock'], ascending = (True, True, False))\n# play_by_play1['Possession'] = 0\n\n# change_possession = play_by_play1['TeamName_Offense'] != play_by_play1['TeamName_Offense'].shift(-1)\n# end_quarter = play_by_play1['ActionTypeName'] == 'End Period'\n\n# play_by_play1.loc[change_possession| end_quarter, 'Possession'] = 1\n# play_by_play1[['GameId', 'Period', 'GameClock', 'Description', 'EventType', 'ActionTypeName','Possession', 'TeamName_Offense', 'TeamId_Offense', 'Points']]\n\n# Possesion Changes are determined by the following:\n# 1. Made Field Goal Attempts\n# 2. Made Final Free Throw Attempt\n# 3. Missed Final Free Throw Attempt that results in a Defensive Rebound\n# 4. Missed Field Goal Attempt that results in a Defensive Rebound\n# 5. Turnover\n# 6. End of time period\n\n# 1\nmadeFG = play_by_play2['EventTypeId'] == 1\n\nfinalFt = play_by_play2['ActionTypeIndex'].isin([10, 12, 15, 16, 19, 20, 22, 26, 29])\n\n# defReb = (play_by_play['EventTypeId'] == 4) & (play_by_play['TeamId_Offense'].shift(-1).bfill().ne(play_by_play['TeamId_Offense']))\n\n# 2.\nmadeFinalFt = (play_by_play2['EventTypeId'] == 3) & finalFt & (play_by_play2['Points'] == 1)\n\ndefReb = (play_by_play2['EventTypeId'].shift(-1) == 4) & (play_by_play2['TeamId_Offense'].shift(-2).bfill().ne(play_by_play2['TeamId_Offense'].shift(-1).bfill()))\n\n# 3.\ndefRebFinalFt = finalFt & defReb\n\n# 4.\ndefRebMissedFg = (play_by_play2['EventTypeId'] == 2) & defReb\n\n# 5.\nturnovers = play_by_play2['EventTypeId'] == 5\n\n#6. \nendQuarter = play_by_play2['EventTypeId'] == 13\n\n#7\nandOne = play_by_play2['ActionTypeName'] == 'Free Throw 1 of 1'\n\nplay_by_play2['Possession'] = 0\nplay_by_play2.loc[madeFG | madeFinalFt | defRebFinalFt | defRebMissedFg | turnovers | endQuarter, 'Possession'] = 1\nplay_by_play2.loc[andOne, 'Possession'] = 0\n\nplay_by_play2[['GameId', 'GameClock', 'Description', 'EventType', 'ActionTypeName','Possession', 'TeamName_Offense', 'TeamId_Offense', 'TeamName_Defense', 'TeamId_Defense', 'Points']]",
   "execution_count": null,
   "outputs": [
    {
     "output_type": "execute_result",
     "execution_count": 6,
     "data": {
      "application/vnd.deepnote.dataframe.v3+json": {
       "column_count": 11,
       "row_count": 594835,
       "columns": [
        {
         "name": "GameId",
         "dtype": "int64"
        },
        {
         "name": "GameClock",
         "dtype": "float64"
        },
        {
         "name": "Description",
         "dtype": "object"
        },
        {
         "name": "EventType",
         "dtype": "object"
        },
        {
         "name": "ActionTypeName",
         "dtype": "object"
        },
        {
         "name": "Possession",
         "dtype": "int64"
        },
        {
         "name": "TeamName_Offense",
         "dtype": "object"
        },
        {
         "name": "TeamId_Offense",
         "dtype": "int64"
        },
        {
         "name": "TeamName_Defense",
         "dtype": "object"
        },
        {
         "name": "TeamId_Defense",
         "dtype": "int64"
        },
        {
         "name": "Points",
         "dtype": "int64"
        },
        {
         "name": "_deepnote_index_column",
         "dtype": "int64"
        }
       ],
       "rows": [
        {
         "GameId": 63864,
         "GameClock": 12,
         "Description": "Jump Ball Embiid vs Horford (Simmons gains possession)",
         "EventType": "Jump Ball",
         "ActionTypeName": "Jump Ball",
         "Possession": 0,
         "TeamName_Offense": "Philadelphia 76ers",
         "TeamId_Offense": 54,
         "TeamName_Defense": "Boston Celtics",
         "TeamId_Defense": 5,
         "Points": 0,
         "_deepnote_index_column": 0
        },
        {
         "GameId": 63864,
         "GameClock": 11.4,
         "Description": "[PHI] Covington 3pt Shot. Missed",
         "EventType": "Missed Shot",
         "ActionTypeName": "Jump Shot",
         "Possession": 1,
         "TeamName_Offense": "Philadelphia 76ers",
         "TeamId_Offense": 54,
         "TeamName_Defense": "Boston Celtics",
         "TeamId_Defense": 5,
         "Points": 0,
         "_deepnote_index_column": 1
        },
        {
         "GameId": 63864,
         "GameClock": 11.4,
         "Description": "[BOS] Team Rebound",
         "EventType": "Rebound",
         "ActionTypeName": "Rebound",
         "Possession": 0,
         "TeamName_Offense": "Philadelphia 76ers",
         "TeamId_Offense": 54,
         "TeamName_Defense": "Boston Celtics",
         "TeamId_Defense": 5,
         "Points": 0,
         "_deepnote_index_column": 2
        },
        {
         "GameId": 63864,
         "GameClock": 11.18,
         "Description": "Stoppage. Out-of-Bounds",
         "EventType": "Stoppage",
         "ActionTypeName": "Out of Bounds",
         "Possession": 0,
         "TeamName_Offense": "Boston Celtics",
         "TeamId_Offense": 5,
         "TeamName_Defense": "Philadelphia 76ers",
         "TeamId_Defense": 54,
         "Points": 0,
         "_deepnote_index_column": 3
        },
        {
         "GameId": 63864,
         "GameClock": 11.15,
         "Description": "[BOS] Tatum 3pt Shot. Missed",
         "EventType": "Missed Shot",
         "ActionTypeName": "Jump Shot",
         "Possession": 1,
         "TeamName_Offense": "Boston Celtics",
         "TeamId_Offense": 5,
         "TeamName_Defense": "Philadelphia 76ers",
         "TeamId_Defense": 54,
         "Points": 0,
         "_deepnote_index_column": 4
        },
        {
         "GameId": 63864,
         "GameClock": 11.13,
         "Description": "[PHI] Saric Rebound (Off.0 Def.1)",
         "EventType": "Rebound",
         "ActionTypeName": "Rebound",
         "Possession": 0,
         "TeamName_Offense": "Boston Celtics",
         "TeamId_Offense": 5,
         "TeamName_Defense": "Philadelphia 76ers",
         "TeamId_Defense": 54,
         "Points": 0,
         "_deepnote_index_column": 5
        },
        {
         "GameId": 63864,
         "GameClock": 11.08,
         "Description": "[PHI] Simmons Turnover . Bad Pass (1 TO) Steal.Hayward (1 ST)",
         "EventType": "Turnover",
         "ActionTypeName": "Bad Pass",
         "Possession": 1,
         "TeamName_Offense": "Philadelphia 76ers",
         "TeamId_Offense": 54,
         "TeamName_Defense": "Boston Celtics",
         "TeamId_Defense": 5,
         "Points": 0,
         "_deepnote_index_column": 6
        },
        {
         "GameId": 63864,
         "GameClock": 11.03,
         "Description": "[BOS] Brown Running Layup Shot. Missed",
         "EventType": "Missed Shot",
         "ActionTypeName": "Running Layup Shot",
         "Possession": 1,
         "TeamName_Offense": "Boston Celtics",
         "TeamId_Offense": 5,
         "TeamName_Defense": "Philadelphia 76ers",
         "TeamId_Defense": 54,
         "Points": 0,
         "_deepnote_index_column": 7
        },
        {
         "GameId": 63864,
         "GameClock": 10.58,
         "Description": "[PHI] Simmons Rebound (Off.0 Def.1)",
         "EventType": "Rebound",
         "ActionTypeName": "Rebound",
         "Possession": 0,
         "TeamName_Offense": "Boston Celtics",
         "TeamId_Offense": 5,
         "TeamName_Defense": "Philadelphia 76ers",
         "TeamId_Defense": 54,
         "Points": 0,
         "_deepnote_index_column": 8
        },
        {
         "GameId": 63864,
         "GameClock": 10.55,
         "Description": "[PHI 2-0] Embiid Running Layup Shot. Made (2 PTS) Assist. Simmons (1 AST)",
         "EventType": "Made Shot",
         "ActionTypeName": "Running Layup Shot",
         "Possession": 1,
         "TeamName_Offense": "Philadelphia 76ers",
         "TeamId_Offense": 54,
         "TeamName_Defense": "Boston Celtics",
         "TeamId_Defense": 5,
         "Points": 2,
         "_deepnote_index_column": 9
        }
       ]
      },
      "text/plain": "        GameId  GameClock                                        Description  \\\n0        63864      12.00  Jump Ball Embiid vs Horford (Simmons gains pos...   \n1        63864      11.40                   [PHI] Covington 3pt Shot. Missed   \n2        63864      11.40                                 [BOS] Team Rebound   \n3        63864      11.18                            Stoppage. Out-of-Bounds   \n4        63864      11.15                       [BOS] Tatum 3pt Shot. Missed   \n...        ...        ...                                                ...   \n594830   65172       0.21               [SAC] Swanigan Rebound (Off.3 Def.4)   \n594831   65172       0.21                       [SAC] Team Timeout . Regular   \n594832   65172       0.15                     [SAC] Ferrell 3pt Shot. Missed   \n594833   65172       0.12            [POR] Labissiere Rebound (Off.4 Def.11)   \n594834   65172       0.00                                         End Period   \n\n          EventType    ActionTypeName  Possession        TeamName_Offense  \\\n0         Jump Ball         Jump Ball           0      Philadelphia 76ers   \n1       Missed Shot         Jump Shot           1      Philadelphia 76ers   \n2           Rebound           Rebound           0      Philadelphia 76ers   \n3          Stoppage     Out of Bounds           0          Boston Celtics   \n4       Missed Shot         Jump Shot           1          Boston Celtics   \n...             ...               ...         ...                     ...   \n594830      Rebound           Rebound           0  Portland Trail Blazers   \n594831     Time Out           Regular           0        Sacramento Kings   \n594832  Missed Shot  Pullup Jump shot           1        Sacramento Kings   \n594833      Rebound           Rebound           0        Sacramento Kings   \n594834   End Period        End Period           1  Portland Trail Blazers   \n\n        TeamId_Offense        TeamName_Defense  TeamId_Defense  Points  \n0                   54          Boston Celtics               5       0  \n1                   54          Boston Celtics               5       0  \n2                   54          Boston Celtics               5       0  \n3                    5      Philadelphia 76ers              54       0  \n4                    5      Philadelphia 76ers              54       0  \n...                ...                     ...             ...     ...  \n594830              58        Sacramento Kings              61       0  \n594831              61  Portland Trail Blazers              58       0  \n594832              61  Portland Trail Blazers              58       0  \n594833              61  Portland Trail Blazers              58       0  \n594834              58        Sacramento Kings              61       0  \n\n[594835 rows x 11 columns]",
      "text/html": "<div>\n<style scoped>\n    .dataframe tbody tr th:only-of-type {\n        vertical-align: middle;\n    }\n\n    .dataframe tbody tr th {\n        vertical-align: top;\n    }\n\n    .dataframe thead th {\n        text-align: right;\n    }\n</style>\n<table border=\"1\" class=\"dataframe\">\n  <thead>\n    <tr style=\"text-align: right;\">\n      <th></th>\n      <th>GameId</th>\n      <th>GameClock</th>\n      <th>Description</th>\n      <th>EventType</th>\n      <th>ActionTypeName</th>\n      <th>Possession</th>\n      <th>TeamName_Offense</th>\n      <th>TeamId_Offense</th>\n      <th>TeamName_Defense</th>\n      <th>TeamId_Defense</th>\n      <th>Points</th>\n    </tr>\n  </thead>\n  <tbody>\n    <tr>\n      <th>0</th>\n      <td>63864</td>\n      <td>12.00</td>\n      <td>Jump Ball Embiid vs Horford (Simmons gains pos...</td>\n      <td>Jump Ball</td>\n      <td>Jump Ball</td>\n      <td>0</td>\n      <td>Philadelphia 76ers</td>\n      <td>54</td>\n      <td>Boston Celtics</td>\n      <td>5</td>\n      <td>0</td>\n    </tr>\n    <tr>\n      <th>1</th>\n      <td>63864</td>\n      <td>11.40</td>\n      <td>[PHI] Covington 3pt Shot. Missed</td>\n      <td>Missed Shot</td>\n      <td>Jump Shot</td>\n      <td>1</td>\n      <td>Philadelphia 76ers</td>\n      <td>54</td>\n      <td>Boston Celtics</td>\n      <td>5</td>\n      <td>0</td>\n    </tr>\n    <tr>\n      <th>2</th>\n      <td>63864</td>\n      <td>11.40</td>\n      <td>[BOS] Team Rebound</td>\n      <td>Rebound</td>\n      <td>Rebound</td>\n      <td>0</td>\n      <td>Philadelphia 76ers</td>\n      <td>54</td>\n      <td>Boston Celtics</td>\n      <td>5</td>\n      <td>0</td>\n    </tr>\n    <tr>\n      <th>3</th>\n      <td>63864</td>\n      <td>11.18</td>\n      <td>Stoppage. Out-of-Bounds</td>\n      <td>Stoppage</td>\n      <td>Out of Bounds</td>\n      <td>0</td>\n      <td>Boston Celtics</td>\n      <td>5</td>\n      <td>Philadelphia 76ers</td>\n      <td>54</td>\n      <td>0</td>\n    </tr>\n    <tr>\n      <th>4</th>\n      <td>63864</td>\n      <td>11.15</td>\n      <td>[BOS] Tatum 3pt Shot. Missed</td>\n      <td>Missed Shot</td>\n      <td>Jump Shot</td>\n      <td>1</td>\n      <td>Boston Celtics</td>\n      <td>5</td>\n      <td>Philadelphia 76ers</td>\n      <td>54</td>\n      <td>0</td>\n    </tr>\n    <tr>\n      <th>...</th>\n      <td>...</td>\n      <td>...</td>\n      <td>...</td>\n      <td>...</td>\n      <td>...</td>\n      <td>...</td>\n      <td>...</td>\n      <td>...</td>\n      <td>...</td>\n      <td>...</td>\n      <td>...</td>\n    </tr>\n    <tr>\n      <th>594830</th>\n      <td>65172</td>\n      <td>0.21</td>\n      <td>[SAC] Swanigan Rebound (Off.3 Def.4)</td>\n      <td>Rebound</td>\n      <td>Rebound</td>\n      <td>0</td>\n      <td>Portland Trail Blazers</td>\n      <td>58</td>\n      <td>Sacramento Kings</td>\n      <td>61</td>\n      <td>0</td>\n    </tr>\n    <tr>\n      <th>594831</th>\n      <td>65172</td>\n      <td>0.21</td>\n      <td>[SAC] Team Timeout . Regular</td>\n      <td>Time Out</td>\n      <td>Regular</td>\n      <td>0</td>\n      <td>Sacramento Kings</td>\n      <td>61</td>\n      <td>Portland Trail Blazers</td>\n      <td>58</td>\n      <td>0</td>\n    </tr>\n    <tr>\n      <th>594832</th>\n      <td>65172</td>\n      <td>0.15</td>\n      <td>[SAC] Ferrell 3pt Shot. Missed</td>\n      <td>Missed Shot</td>\n      <td>Pullup Jump shot</td>\n      <td>1</td>\n      <td>Sacramento Kings</td>\n      <td>61</td>\n      <td>Portland Trail Blazers</td>\n      <td>58</td>\n      <td>0</td>\n    </tr>\n    <tr>\n      <th>594833</th>\n      <td>65172</td>\n      <td>0.12</td>\n      <td>[POR] Labissiere Rebound (Off.4 Def.11)</td>\n      <td>Rebound</td>\n      <td>Rebound</td>\n      <td>0</td>\n      <td>Sacramento Kings</td>\n      <td>61</td>\n      <td>Portland Trail Blazers</td>\n      <td>58</td>\n      <td>0</td>\n    </tr>\n    <tr>\n      <th>594834</th>\n      <td>65172</td>\n      <td>0.00</td>\n      <td>End Period</td>\n      <td>End Period</td>\n      <td>End Period</td>\n      <td>1</td>\n      <td>Portland Trail Blazers</td>\n      <td>58</td>\n      <td>Sacramento Kings</td>\n      <td>61</td>\n      <td>0</td>\n    </tr>\n  </tbody>\n</table>\n<p>594835 rows × 11 columns</p>\n</div>"
     },
     "metadata": {}
    }
   ]
  },
  {
   "cell_type": "code",
   "metadata": {
    "cell_id": "f03d4696-0f55-4543-8eb1-965904b40e28",
    "tags": [],
    "deepnote_to_be_reexecuted": false,
    "source_hash": "ec981e97",
    "execution_start": 1648764245710,
    "execution_millis": 7344,
    "deepnote_cell_type": "code",
    "deepnote_cell_height": 81
   },
   "source": "play_by_play2.to_csv('pbp_2018_withPossesions.csv')",
   "execution_count": null,
   "outputs": []
  },
  {
   "cell_type": "code",
   "metadata": {
    "tags": [],
    "deepnote_to_be_reexecuted": false,
    "source_hash": "86a3440d",
    "execution_start": 1648764253057,
    "execution_millis": 227,
    "cell_id": "00006-ec8309df-4f78-4b92-9d0b-22c870d605d4",
    "deepnote_cell_type": "code"
   },
   "source": "defense_cols = ['Points', 'Possession', 'Players_Defense', 'GameId']\ndrtg = play_by_play2.groupby(['FloorLineupId_Defense']).agg({\n    'Points': 'sum',\n    'Possession': 'sum',\n    'Players_Defense': 'first',\n    'GameId': 'nunique'\n    })[defense_cols].rename(columns={\"GameId\": \"GP\"}).reset_index()\ndrtg",
   "execution_count": null,
   "outputs": [
    {
     "output_type": "execute_result",
     "execution_count": 8,
     "data": {
      "application/vnd.deepnote.dataframe.v3+json": {
       "column_count": 5,
       "row_count": 16805,
       "columns": [
        {
         "name": "FloorLineupId_Defense",
         "dtype": "int64",
         "stats": {
          "unique_count": 16805,
          "nan_count": 0,
          "min": "13",
          "max": "348938",
          "histogram": [
           {
            "bin_start": 13,
            "bin_end": 34905.5,
            "count": 16790
           },
           {
            "bin_start": 34905.5,
            "bin_end": 69798,
            "count": 2
           },
           {
            "bin_start": 69798,
            "bin_end": 104690.5,
            "count": 9
           },
           {
            "bin_start": 104690.5,
            "bin_end": 139583,
            "count": 3
           },
           {
            "bin_start": 139583,
            "bin_end": 174475.5,
            "count": 0
           },
           {
            "bin_start": 174475.5,
            "bin_end": 209368,
            "count": 0
           },
           {
            "bin_start": 209368,
            "bin_end": 244260.5,
            "count": 0
           },
           {
            "bin_start": 244260.5,
            "bin_end": 279153,
            "count": 0
           },
           {
            "bin_start": 279153,
            "bin_end": 314045.5,
            "count": 0
           },
           {
            "bin_start": 314045.5,
            "bin_end": 348938,
            "count": 1
           }
          ]
         }
        },
        {
         "name": "Points",
         "dtype": "int64",
         "stats": {
          "unique_count": 316,
          "nan_count": 0,
          "min": "0",
          "max": "2088",
          "histogram": [
           {
            "bin_start": 0,
            "bin_end": 208.8,
            "count": 16666
           },
           {
            "bin_start": 208.8,
            "bin_end": 417.6,
            "count": 92
           },
           {
            "bin_start": 417.6,
            "bin_end": 626.4000000000001,
            "count": 20
           },
           {
            "bin_start": 626.4000000000001,
            "bin_end": 835.2,
            "count": 9
           },
           {
            "bin_start": 835.2,
            "bin_end": 1044,
            "count": 6
           },
           {
            "bin_start": 1044,
            "bin_end": 1252.8000000000002,
            "count": 7
           },
           {
            "bin_start": 1252.8000000000002,
            "bin_end": 1461.6000000000001,
            "count": 2
           },
           {
            "bin_start": 1461.6000000000001,
            "bin_end": 1670.4,
            "count": 0
           },
           {
            "bin_start": 1670.4,
            "bin_end": 1879.2,
            "count": 1
           },
           {
            "bin_start": 1879.2,
            "bin_end": 2088,
            "count": 2
           }
          ]
         }
        },
        {
         "name": "Possession",
         "dtype": "int64",
         "stats": {
          "unique_count": 292,
          "nan_count": 0,
          "min": "0",
          "max": "1979",
          "histogram": [
           {
            "bin_start": 0,
            "bin_end": 197.9,
            "count": 16675
           },
           {
            "bin_start": 197.9,
            "bin_end": 395.8,
            "count": 83
           },
           {
            "bin_start": 395.8,
            "bin_end": 593.7,
            "count": 21
           },
           {
            "bin_start": 593.7,
            "bin_end": 791.6,
            "count": 10
           },
           {
            "bin_start": 791.6,
            "bin_end": 989.5,
            "count": 5
           },
           {
            "bin_start": 989.5,
            "bin_end": 1187.4,
            "count": 6
           },
           {
            "bin_start": 1187.4,
            "bin_end": 1385.3,
            "count": 2
           },
           {
            "bin_start": 1385.3,
            "bin_end": 1583.2,
            "count": 1
           },
           {
            "bin_start": 1583.2,
            "bin_end": 1781.1000000000001,
            "count": 1
           },
           {
            "bin_start": 1781.1000000000001,
            "bin_end": 1979,
            "count": 1
           }
          ]
         }
        },
        {
         "name": "Players_Defense",
         "dtype": "object",
         "stats": {
          "unique_count": 16805,
          "nan_count": 0,
          "categories": [
           {
            "name": "Harrison Barnes, Bogdan Bogdanovic, De'Aaron Fox, Buddy Hield, Marvin Bagley III",
            "count": 1
           },
           {
            "name": "Evan Fournier, D.J. Augustin Jr., Aaron Gordon, Jonathan Isaac, Nikola Vucevic",
            "count": 1
           },
           {
            "name": "16803 others",
            "count": 16803
           }
          ]
         }
        },
        {
         "name": "GP",
         "dtype": "int64",
         "stats": {
          "unique_count": 48,
          "nan_count": 0,
          "min": "1",
          "max": "67",
          "histogram": [
           {
            "bin_start": 1,
            "bin_end": 7.6,
            "count": 15930
           },
           {
            "bin_start": 7.6,
            "bin_end": 14.2,
            "count": 629
           },
           {
            "bin_start": 14.2,
            "bin_end": 20.799999999999997,
            "count": 153
           },
           {
            "bin_start": 20.799999999999997,
            "bin_end": 27.4,
            "count": 53
           },
           {
            "bin_start": 27.4,
            "bin_end": 34,
            "count": 15
           },
           {
            "bin_start": 34,
            "bin_end": 40.599999999999994,
            "count": 12
           },
           {
            "bin_start": 40.599999999999994,
            "bin_end": 47.199999999999996,
            "count": 5
           },
           {
            "bin_start": 47.199999999999996,
            "bin_end": 53.8,
            "count": 2
           },
           {
            "bin_start": 53.8,
            "bin_end": 60.4,
            "count": 5
           },
           {
            "bin_start": 60.4,
            "bin_end": 67,
            "count": 1
           }
          ]
         }
        },
        {
         "name": "_deepnote_index_column",
         "dtype": "int64"
        }
       ],
       "rows": [
        {
         "FloorLineupId_Defense": 13,
         "Points": 98,
         "Possession": 70,
         "Players_Defense": "Harrison Barnes, Bogdan Bogdanovic, De'Aaron Fox, Buddy Hield, Marvin Bagley III",
         "GP": 7,
         "_deepnote_index_column": 0
        },
        {
         "FloorLineupId_Defense": 36,
         "Points": 1880,
         "Possession": 1764,
         "Players_Defense": "Evan Fournier, D.J. Augustin Jr., Aaron Gordon, Jonathan Isaac, Nikola Vucevic",
         "GP": 67,
         "_deepnote_index_column": 1
        },
        {
         "FloorLineupId_Defense": 40,
         "Points": 45,
         "Possession": 50,
         "Players_Defense": "D.J. Augustin Jr., Wes Iwundu, Aaron Gordon, Jonathan Isaac, Nikola Vucevic",
         "GP": 10,
         "_deepnote_index_column": 2
        },
        {
         "FloorLineupId_Defense": 68,
         "Points": 67,
         "Possession": 55,
         "Players_Defense": "Brandon Knight, Collin Sexton, Cedi Osman, Kevin Love, Tristan Thompson",
         "GP": 3,
         "_deepnote_index_column": 3
        },
        {
         "FloorLineupId_Defense": 72,
         "Points": 103,
         "Possession": 73,
         "Players_Defense": "Tristan Thompson, Brandon Knight, Cedi Osman, Larry Nance Jr., Collin Sexton",
         "GP": 3,
         "_deepnote_index_column": 4
        },
        {
         "FloorLineupId_Defense": 94,
         "Points": 7,
         "Possession": 6,
         "Players_Defense": "Zach LaVine, Kris Dunn, Otto Porter Jr., Lauri Markkanen, Cristiano Felicio",
         "GP": 1,
         "_deepnote_index_column": 5
        },
        {
         "FloorLineupId_Defense": 101,
         "Points": 37,
         "Possession": 34,
         "Players_Defense": "Norman Powell, Fred VanVleet, O.G. Anunoby, Pascal Siakam, Serge Ibaka",
         "GP": 6,
         "_deepnote_index_column": 6
        },
        {
         "FloorLineupId_Defense": 119,
         "Points": 46,
         "Possession": 41,
         "Players_Defense": "Rudy Gay, Jakob Poeltl, Derrick White, Patty Mills, Marco Belinelli",
         "GP": 10,
         "_deepnote_index_column": 7
        },
        {
         "FloorLineupId_Defense": 145,
         "Points": 76,
         "Possession": 74,
         "Players_Defense": "Gary Harris, Jamal Murray, Will Barton, Paul Millsap, Mason Plumlee",
         "GP": 13,
         "_deepnote_index_column": 8
        },
        {
         "FloorLineupId_Defense": 149,
         "Points": 14,
         "Possession": 10,
         "Players_Defense": "Mason Plumlee, Juancho Hernangomez, Paul Millsap, Gary Harris, Jamal Murray",
         "GP": 3,
         "_deepnote_index_column": 9
        }
       ]
      },
      "text/plain": "       FloorLineupId_Defense  Points  Possession  \\\n0                         13      98          70   \n1                         36    1880        1764   \n2                         40      45          50   \n3                         68      67          55   \n4                         72     103          73   \n...                      ...     ...         ...   \n16800                  99745       0           1   \n16801                 113803       0           0   \n16802                 113805       0           0   \n16803                 113806       0           0   \n16804                 348938       0           0   \n\n                                         Players_Defense  GP  \n0      Harrison Barnes, Bogdan Bogdanovic, De'Aaron F...   7  \n1      Evan Fournier, D.J. Augustin Jr., Aaron Gordon...  67  \n2      D.J. Augustin Jr., Wes Iwundu, Aaron Gordon, J...  10  \n3      Brandon Knight, Collin Sexton, Cedi Osman, Kev...   3  \n4      Tristan Thompson, Brandon Knight, Cedi Osman, ...   3  \n...                                                  ...  ..  \n16800  Andre Iguodala, Shaun Livingston, Jonas Jerebk...   1  \n16801  Rodney Hood, Damian Lillard, C.J. McCollum, Ma...   1  \n16802  Kevin Durant, Andre Iguodala, Kevon Looney, Da...   1  \n16803  Dion Waiters, Bam Adebayo, Josh Richardson, Ro...   1  \n16804  Evan Turner, Seth Curry, Nik Stauskas, Caleb S...   1  \n\n[16805 rows x 5 columns]",
      "text/html": "<div>\n<style scoped>\n    .dataframe tbody tr th:only-of-type {\n        vertical-align: middle;\n    }\n\n    .dataframe tbody tr th {\n        vertical-align: top;\n    }\n\n    .dataframe thead th {\n        text-align: right;\n    }\n</style>\n<table border=\"1\" class=\"dataframe\">\n  <thead>\n    <tr style=\"text-align: right;\">\n      <th></th>\n      <th>FloorLineupId_Defense</th>\n      <th>Points</th>\n      <th>Possession</th>\n      <th>Players_Defense</th>\n      <th>GP</th>\n    </tr>\n  </thead>\n  <tbody>\n    <tr>\n      <th>0</th>\n      <td>13</td>\n      <td>98</td>\n      <td>70</td>\n      <td>Harrison Barnes, Bogdan Bogdanovic, De'Aaron F...</td>\n      <td>7</td>\n    </tr>\n    <tr>\n      <th>1</th>\n      <td>36</td>\n      <td>1880</td>\n      <td>1764</td>\n      <td>Evan Fournier, D.J. Augustin Jr., Aaron Gordon...</td>\n      <td>67</td>\n    </tr>\n    <tr>\n      <th>2</th>\n      <td>40</td>\n      <td>45</td>\n      <td>50</td>\n      <td>D.J. Augustin Jr., Wes Iwundu, Aaron Gordon, J...</td>\n      <td>10</td>\n    </tr>\n    <tr>\n      <th>3</th>\n      <td>68</td>\n      <td>67</td>\n      <td>55</td>\n      <td>Brandon Knight, Collin Sexton, Cedi Osman, Kev...</td>\n      <td>3</td>\n    </tr>\n    <tr>\n      <th>4</th>\n      <td>72</td>\n      <td>103</td>\n      <td>73</td>\n      <td>Tristan Thompson, Brandon Knight, Cedi Osman, ...</td>\n      <td>3</td>\n    </tr>\n    <tr>\n      <th>...</th>\n      <td>...</td>\n      <td>...</td>\n      <td>...</td>\n      <td>...</td>\n      <td>...</td>\n    </tr>\n    <tr>\n      <th>16800</th>\n      <td>99745</td>\n      <td>0</td>\n      <td>1</td>\n      <td>Andre Iguodala, Shaun Livingston, Jonas Jerebk...</td>\n      <td>1</td>\n    </tr>\n    <tr>\n      <th>16801</th>\n      <td>113803</td>\n      <td>0</td>\n      <td>0</td>\n      <td>Rodney Hood, Damian Lillard, C.J. McCollum, Ma...</td>\n      <td>1</td>\n    </tr>\n    <tr>\n      <th>16802</th>\n      <td>113805</td>\n      <td>0</td>\n      <td>0</td>\n      <td>Kevin Durant, Andre Iguodala, Kevon Looney, Da...</td>\n      <td>1</td>\n    </tr>\n    <tr>\n      <th>16803</th>\n      <td>113806</td>\n      <td>0</td>\n      <td>0</td>\n      <td>Dion Waiters, Bam Adebayo, Josh Richardson, Ro...</td>\n      <td>1</td>\n    </tr>\n    <tr>\n      <th>16804</th>\n      <td>348938</td>\n      <td>0</td>\n      <td>0</td>\n      <td>Evan Turner, Seth Curry, Nik Stauskas, Caleb S...</td>\n      <td>1</td>\n    </tr>\n  </tbody>\n</table>\n<p>16805 rows × 5 columns</p>\n</div>"
     },
     "metadata": {}
    }
   ]
  },
  {
   "cell_type": "code",
   "metadata": {
    "tags": [],
    "deepnote_to_be_reexecuted": false,
    "source_hash": "a719eba2",
    "execution_start": 1648764253289,
    "execution_millis": 210,
    "cell_id": "00007-ba4cd22f-bc43-451b-9323-18a93b1b3ebe",
    "deepnote_cell_type": "code"
   },
   "source": "offense_cols = ['Points', 'Possession', 'Players_Offense', 'GameId']\nortg = play_by_play2.groupby(['FloorLineupId_Offense']).agg({\n    'Points': 'sum',\n    'Possession': 'sum',\n    'Players_Offense': 'first',\n    'GameId': 'nunique'\n    })[offense_cols].rename(columns={\"GameId\": \"GP\"}).reset_index()\nortg",
   "execution_count": null,
   "outputs": [
    {
     "output_type": "execute_result",
     "execution_count": 9,
     "data": {
      "application/vnd.deepnote.dataframe.v3+json": {
       "column_count": 5,
       "row_count": 17157,
       "columns": [
        {
         "name": "FloorLineupId_Offense",
         "dtype": "int64",
         "stats": {
          "unique_count": 17157,
          "nan_count": 0,
          "min": "13",
          "max": "348946",
          "histogram": [
           {
            "bin_start": 13,
            "bin_end": 34906.3,
            "count": 17139
           },
           {
            "bin_start": 34906.3,
            "bin_end": 69799.6,
            "count": 2
           },
           {
            "bin_start": 69799.6,
            "bin_end": 104692.90000000001,
            "count": 9
           },
           {
            "bin_start": 104692.90000000001,
            "bin_end": 139586.2,
            "count": 0
           },
           {
            "bin_start": 139586.2,
            "bin_end": 174479.5,
            "count": 0
           },
           {
            "bin_start": 174479.5,
            "bin_end": 209372.80000000002,
            "count": 0
           },
           {
            "bin_start": 209372.80000000002,
            "bin_end": 244266.10000000003,
            "count": 0
           },
           {
            "bin_start": 244266.10000000003,
            "bin_end": 279159.4,
            "count": 0
           },
           {
            "bin_start": 279159.4,
            "bin_end": 314052.7,
            "count": 0
           },
           {
            "bin_start": 314052.7,
            "bin_end": 348946,
            "count": 7
           }
          ]
         }
        },
        {
         "name": "Points",
         "dtype": "int64",
         "stats": {
          "unique_count": 311,
          "nan_count": 0,
          "min": "0",
          "max": "2250",
          "histogram": [
           {
            "bin_start": 0,
            "bin_end": 225,
            "count": 17032
           },
           {
            "bin_start": 225,
            "bin_end": 450,
            "count": 80
           },
           {
            "bin_start": 450,
            "bin_end": 675,
            "count": 18
           },
           {
            "bin_start": 675,
            "bin_end": 900,
            "count": 11
           },
           {
            "bin_start": 900,
            "bin_end": 1125,
            "count": 5
           },
           {
            "bin_start": 1125,
            "bin_end": 1350,
            "count": 6
           },
           {
            "bin_start": 1350,
            "bin_end": 1575,
            "count": 2
           },
           {
            "bin_start": 1575,
            "bin_end": 1800,
            "count": 0
           },
           {
            "bin_start": 1800,
            "bin_end": 2025,
            "count": 2
           },
           {
            "bin_start": 2025,
            "bin_end": 2250,
            "count": 1
           }
          ]
         }
        },
        {
         "name": "Possession",
         "dtype": "int64",
         "stats": {
          "unique_count": 306,
          "nan_count": 0,
          "min": "0",
          "max": "1976",
          "histogram": [
           {
            "bin_start": 0,
            "bin_end": 197.6,
            "count": 17027
           },
           {
            "bin_start": 197.6,
            "bin_end": 395.2,
            "count": 83
           },
           {
            "bin_start": 395.2,
            "bin_end": 592.8,
            "count": 21
           },
           {
            "bin_start": 592.8,
            "bin_end": 790.4,
            "count": 10
           },
           {
            "bin_start": 790.4,
            "bin_end": 988,
            "count": 5
           },
           {
            "bin_start": 988,
            "bin_end": 1185.6,
            "count": 6
           },
           {
            "bin_start": 1185.6,
            "bin_end": 1383.2,
            "count": 2
           },
           {
            "bin_start": 1383.2,
            "bin_end": 1580.8,
            "count": 1
           },
           {
            "bin_start": 1580.8,
            "bin_end": 1778.3999999999999,
            "count": 1
           },
           {
            "bin_start": 1778.3999999999999,
            "bin_end": 1976,
            "count": 1
           }
          ]
         }
        },
        {
         "name": "Players_Offense",
         "dtype": "object",
         "stats": {
          "unique_count": 17157,
          "nan_count": 0,
          "categories": [
           {
            "name": "Harrison Barnes, Bogdan Bogdanovic, De'Aaron Fox, Buddy Hield, Marvin Bagley III",
            "count": 1
           },
           {
            "name": "Evan Fournier, D.J. Augustin Jr., Aaron Gordon, Jonathan Isaac, Nikola Vucevic",
            "count": 1
           },
           {
            "name": "17155 others",
            "count": 17155
           }
          ]
         }
        },
        {
         "name": "GP",
         "dtype": "int64",
         "stats": {
          "unique_count": 48,
          "nan_count": 0,
          "min": "1",
          "max": "66",
          "histogram": [
           {
            "bin_start": 1,
            "bin_end": 7.5,
            "count": 16253
           },
           {
            "bin_start": 7.5,
            "bin_end": 14,
            "count": 630
           },
           {
            "bin_start": 14,
            "bin_end": 20.5,
            "count": 180
           },
           {
            "bin_start": 20.5,
            "bin_end": 27,
            "count": 51
           },
           {
            "bin_start": 27,
            "bin_end": 33.5,
            "count": 18
           },
           {
            "bin_start": 33.5,
            "bin_end": 40,
            "count": 7
           },
           {
            "bin_start": 40,
            "bin_end": 46.5,
            "count": 10
           },
           {
            "bin_start": 46.5,
            "bin_end": 53,
            "count": 2
           },
           {
            "bin_start": 53,
            "bin_end": 59.5,
            "count": 4
           },
           {
            "bin_start": 59.5,
            "bin_end": 66,
            "count": 2
           }
          ]
         }
        },
        {
         "name": "_deepnote_index_column",
         "dtype": "int64"
        }
       ],
       "rows": [
        {
         "FloorLineupId_Offense": 13,
         "Points": 72,
         "Possession": 71,
         "Players_Offense": "Harrison Barnes, Bogdan Bogdanovic, De'Aaron Fox, Buddy Hield, Marvin Bagley III",
         "GP": 8,
         "_deepnote_index_column": 0
        },
        {
         "FloorLineupId_Offense": 36,
         "Points": 1954,
         "Possession": 1754,
         "Players_Offense": "Evan Fournier, D.J. Augustin Jr., Aaron Gordon, Jonathan Isaac, Nikola Vucevic",
         "GP": 66,
         "_deepnote_index_column": 1
        },
        {
         "FloorLineupId_Offense": 40,
         "Points": 44,
         "Possession": 46,
         "Players_Offense": "D.J. Augustin Jr., Wes Iwundu, Aaron Gordon, Jonathan Isaac, Nikola Vucevic",
         "GP": 10,
         "_deepnote_index_column": 2
        },
        {
         "FloorLineupId_Offense": 68,
         "Points": 55,
         "Possession": 56,
         "Players_Offense": "Brandon Knight, Collin Sexton, Cedi Osman, Kevin Love, Tristan Thompson",
         "GP": 2,
         "_deepnote_index_column": 3
        },
        {
         "FloorLineupId_Offense": 72,
         "Points": 74,
         "Possession": 72,
         "Players_Offense": "Tristan Thompson, Brandon Knight, Cedi Osman, Larry Nance Jr., Collin Sexton",
         "GP": 3,
         "_deepnote_index_column": 4
        },
        {
         "FloorLineupId_Offense": 94,
         "Points": 11,
         "Possession": 6,
         "Players_Offense": "Zach LaVine, Kris Dunn, Otto Porter Jr., Lauri Markkanen, Cristiano Felicio",
         "GP": 1,
         "_deepnote_index_column": 5
        },
        {
         "FloorLineupId_Offense": 101,
         "Points": 40,
         "Possession": 35,
         "Players_Offense": "Norman Powell, Fred VanVleet, O.G. Anunoby, Pascal Siakam, Serge Ibaka",
         "GP": 5,
         "_deepnote_index_column": 6
        },
        {
         "FloorLineupId_Offense": 105,
         "Points": 0,
         "Possession": 0,
         "Players_Offense": "Patrick McCaw, O.G. Anunoby, Serge Ibaka, Fred VanVleet, Pascal Siakam",
         "GP": 1,
         "_deepnote_index_column": 7
        },
        {
         "FloorLineupId_Offense": 119,
         "Points": 46,
         "Possession": 41,
         "Players_Offense": "Rudy Gay, Jakob Poeltl, Derrick White, Patty Mills, Marco Belinelli",
         "GP": 10,
         "_deepnote_index_column": 8
        },
        {
         "FloorLineupId_Offense": 145,
         "Points": 73,
         "Possession": 66,
         "Players_Offense": "Gary Harris, Jamal Murray, Will Barton, Paul Millsap, Mason Plumlee",
         "GP": 11,
         "_deepnote_index_column": 9
        }
       ]
      },
      "text/plain": "       FloorLineupId_Offense  Points  Possession  \\\n0                         13      72          71   \n1                         36    1954        1754   \n2                         40      44          46   \n3                         68      55          56   \n4                         72      74          72   \n...                      ...     ...         ...   \n17152                 348942       0           0   \n17153                 348943       0           0   \n17154                 348944       0           0   \n17155                 348945       0           0   \n17156                 348946       0           0   \n\n                                         Players_Offense  GP  \n0      Harrison Barnes, Bogdan Bogdanovic, De'Aaron F...   8  \n1      Evan Fournier, D.J. Augustin Jr., Aaron Gordon...  66  \n2      D.J. Augustin Jr., Wes Iwundu, Aaron Gordon, J...  10  \n3      Brandon Knight, Collin Sexton, Cedi Osman, Kev...   2  \n4      Tristan Thompson, Brandon Knight, Cedi Osman, ...   3  \n...                                                  ...  ..  \n17152  Cheick Diallo, E'Twaun Moore, Ian Clark, Kenri...   1  \n17153  Cheick Diallo, E'Twaun Moore, Ian Clark, Kenri...   1  \n17154  Wade Baldwin IV, C.J. McCollum, Caleb Swanigan...   1  \n17155  Wade Baldwin IV, Anfernee Simons, Caleb Swanig...   1  \n17156  Wade Baldwin IV, Anfernee Simons, Caleb Swanig...   1  \n\n[17157 rows x 5 columns]",
      "text/html": "<div>\n<style scoped>\n    .dataframe tbody tr th:only-of-type {\n        vertical-align: middle;\n    }\n\n    .dataframe tbody tr th {\n        vertical-align: top;\n    }\n\n    .dataframe thead th {\n        text-align: right;\n    }\n</style>\n<table border=\"1\" class=\"dataframe\">\n  <thead>\n    <tr style=\"text-align: right;\">\n      <th></th>\n      <th>FloorLineupId_Offense</th>\n      <th>Points</th>\n      <th>Possession</th>\n      <th>Players_Offense</th>\n      <th>GP</th>\n    </tr>\n  </thead>\n  <tbody>\n    <tr>\n      <th>0</th>\n      <td>13</td>\n      <td>72</td>\n      <td>71</td>\n      <td>Harrison Barnes, Bogdan Bogdanovic, De'Aaron F...</td>\n      <td>8</td>\n    </tr>\n    <tr>\n      <th>1</th>\n      <td>36</td>\n      <td>1954</td>\n      <td>1754</td>\n      <td>Evan Fournier, D.J. Augustin Jr., Aaron Gordon...</td>\n      <td>66</td>\n    </tr>\n    <tr>\n      <th>2</th>\n      <td>40</td>\n      <td>44</td>\n      <td>46</td>\n      <td>D.J. Augustin Jr., Wes Iwundu, Aaron Gordon, J...</td>\n      <td>10</td>\n    </tr>\n    <tr>\n      <th>3</th>\n      <td>68</td>\n      <td>55</td>\n      <td>56</td>\n      <td>Brandon Knight, Collin Sexton, Cedi Osman, Kev...</td>\n      <td>2</td>\n    </tr>\n    <tr>\n      <th>4</th>\n      <td>72</td>\n      <td>74</td>\n      <td>72</td>\n      <td>Tristan Thompson, Brandon Knight, Cedi Osman, ...</td>\n      <td>3</td>\n    </tr>\n    <tr>\n      <th>...</th>\n      <td>...</td>\n      <td>...</td>\n      <td>...</td>\n      <td>...</td>\n      <td>...</td>\n    </tr>\n    <tr>\n      <th>17152</th>\n      <td>348942</td>\n      <td>0</td>\n      <td>0</td>\n      <td>Cheick Diallo, E'Twaun Moore, Ian Clark, Kenri...</td>\n      <td>1</td>\n    </tr>\n    <tr>\n      <th>17153</th>\n      <td>348943</td>\n      <td>0</td>\n      <td>0</td>\n      <td>Cheick Diallo, E'Twaun Moore, Ian Clark, Kenri...</td>\n      <td>1</td>\n    </tr>\n    <tr>\n      <th>17154</th>\n      <td>348944</td>\n      <td>0</td>\n      <td>0</td>\n      <td>Wade Baldwin IV, C.J. McCollum, Caleb Swanigan...</td>\n      <td>1</td>\n    </tr>\n    <tr>\n      <th>17155</th>\n      <td>348945</td>\n      <td>0</td>\n      <td>0</td>\n      <td>Wade Baldwin IV, Anfernee Simons, Caleb Swanig...</td>\n      <td>1</td>\n    </tr>\n    <tr>\n      <th>17156</th>\n      <td>348946</td>\n      <td>0</td>\n      <td>0</td>\n      <td>Wade Baldwin IV, Anfernee Simons, Caleb Swanig...</td>\n      <td>1</td>\n    </tr>\n  </tbody>\n</table>\n<p>17157 rows × 5 columns</p>\n</div>"
     },
     "metadata": {}
    }
   ]
  },
  {
   "cell_type": "code",
   "metadata": {
    "tags": [],
    "deepnote_to_be_reexecuted": false,
    "source_hash": "aa2f0f14",
    "execution_start": 1648764253502,
    "execution_millis": 120,
    "deepnote_table_state": {
     "pageSize": 10,
     "pageIndex": 0,
     "filters": [],
     "sortBy": []
    },
    "deepnote_table_loading": false,
    "cell_id": "00008-39f50914-df22-4241-bdd9-a7b4df5d723b",
    "deepnote_cell_type": "code"
   },
   "source": "# NBA publishes the actual values here:\n# https://www.nba.com/stats/lineups/advanced/?Season=2020-21&SeasonType=Regular%20Season&sort=GROUP_NAME&dir=-1\n# Calculated values are still slightly off, not sure what's wrong\nortg['ORTG'] = 100 * ortg['Points'] / ortg['Possession']\n\nortg = ortg[['FloorLineupId_Offense', 'Players_Offense', 'ORTG', 'Points', 'Possession', 'GP']]\nortg.sort_values(by='GP', ascending=False)",
   "execution_count": null,
   "outputs": [
    {
     "output_type": "execute_result",
     "execution_count": 10,
     "data": {
      "application/vnd.deepnote.dataframe.v3+json": {
       "column_count": 6,
       "row_count": 17157,
       "columns": [
        {
         "name": "FloorLineupId_Offense",
         "dtype": "int64",
         "stats": {
          "unique_count": 17157,
          "nan_count": 0,
          "min": "13",
          "max": "348946",
          "histogram": [
           {
            "bin_start": 13,
            "bin_end": 34906.3,
            "count": 17139
           },
           {
            "bin_start": 34906.3,
            "bin_end": 69799.6,
            "count": 2
           },
           {
            "bin_start": 69799.6,
            "bin_end": 104692.90000000001,
            "count": 9
           },
           {
            "bin_start": 104692.90000000001,
            "bin_end": 139586.2,
            "count": 0
           },
           {
            "bin_start": 139586.2,
            "bin_end": 174479.5,
            "count": 0
           },
           {
            "bin_start": 174479.5,
            "bin_end": 209372.80000000002,
            "count": 0
           },
           {
            "bin_start": 209372.80000000002,
            "bin_end": 244266.10000000003,
            "count": 0
           },
           {
            "bin_start": 244266.10000000003,
            "bin_end": 279159.4,
            "count": 0
           },
           {
            "bin_start": 279159.4,
            "bin_end": 314052.7,
            "count": 0
           },
           {
            "bin_start": 314052.7,
            "bin_end": 348946,
            "count": 7
           }
          ]
         }
        },
        {
         "name": "Players_Offense",
         "dtype": "object",
         "stats": {
          "unique_count": 17157,
          "nan_count": 0,
          "categories": [
           {
            "name": "Evan Fournier, D.J. Augustin Jr., Aaron Gordon, Jonathan Isaac, Nikola Vucevic",
            "count": 1
           },
           {
            "name": "Donovan Mitchell Jr., Ricky Rubio, Joe Ingles, Jae Crowder, Rudy Gobert",
            "count": 1
           },
           {
            "name": "17155 others",
            "count": 17155
           }
          ]
         }
        },
        {
         "name": "ORTG",
         "dtype": "float64",
         "stats": {
          "unique_count": 1187,
          "nan_count": 2834,
          "min": "0.0",
          "max": "inf",
          "histogram": [
           {
            "bin_start": 0,
            "bin_end": 50,
            "count": 2226
           },
           {
            "bin_start": 50,
            "bin_end": 100,
            "count": 3423
           },
           {
            "bin_start": 100,
            "bin_end": 150,
            "count": 6169
           },
           {
            "bin_start": 150,
            "bin_end": 200,
            "count": 1478
           },
           {
            "bin_start": 200,
            "bin_end": 250,
            "count": 755
           },
           {
            "bin_start": 250,
            "bin_end": 300,
            "count": 117
           },
           {
            "bin_start": 300,
            "bin_end": 350,
            "count": 146
           },
           {
            "bin_start": 350,
            "bin_end": 400,
            "count": 1
           },
           {
            "bin_start": 400,
            "bin_end": 450,
            "count": 1
           },
           {
            "bin_start": 450,
            "bin_end": 500,
            "count": 1
           }
          ]
         }
        },
        {
         "name": "Points",
         "dtype": "int64",
         "stats": {
          "unique_count": 311,
          "nan_count": 0,
          "min": "0",
          "max": "2250",
          "histogram": [
           {
            "bin_start": 0,
            "bin_end": 225,
            "count": 17032
           },
           {
            "bin_start": 225,
            "bin_end": 450,
            "count": 80
           },
           {
            "bin_start": 450,
            "bin_end": 675,
            "count": 18
           },
           {
            "bin_start": 675,
            "bin_end": 900,
            "count": 11
           },
           {
            "bin_start": 900,
            "bin_end": 1125,
            "count": 5
           },
           {
            "bin_start": 1125,
            "bin_end": 1350,
            "count": 6
           },
           {
            "bin_start": 1350,
            "bin_end": 1575,
            "count": 2
           },
           {
            "bin_start": 1575,
            "bin_end": 1800,
            "count": 0
           },
           {
            "bin_start": 1800,
            "bin_end": 2025,
            "count": 2
           },
           {
            "bin_start": 2025,
            "bin_end": 2250,
            "count": 1
           }
          ]
         }
        },
        {
         "name": "Possession",
         "dtype": "int64",
         "stats": {
          "unique_count": 306,
          "nan_count": 0,
          "min": "0",
          "max": "1976",
          "histogram": [
           {
            "bin_start": 0,
            "bin_end": 197.6,
            "count": 17027
           },
           {
            "bin_start": 197.6,
            "bin_end": 395.2,
            "count": 83
           },
           {
            "bin_start": 395.2,
            "bin_end": 592.8,
            "count": 21
           },
           {
            "bin_start": 592.8,
            "bin_end": 790.4,
            "count": 10
           },
           {
            "bin_start": 790.4,
            "bin_end": 988,
            "count": 5
           },
           {
            "bin_start": 988,
            "bin_end": 1185.6,
            "count": 6
           },
           {
            "bin_start": 1185.6,
            "bin_end": 1383.2,
            "count": 2
           },
           {
            "bin_start": 1383.2,
            "bin_end": 1580.8,
            "count": 1
           },
           {
            "bin_start": 1580.8,
            "bin_end": 1778.3999999999999,
            "count": 1
           },
           {
            "bin_start": 1778.3999999999999,
            "bin_end": 1976,
            "count": 1
           }
          ]
         }
        },
        {
         "name": "GP",
         "dtype": "int64"
        },
        {
         "name": "_deepnote_index_column",
         "dtype": "int64"
        }
       ],
       "rows": [
        {
         "FloorLineupId_Offense": 36,
         "Players_Offense": "Evan Fournier, D.J. Augustin Jr., Aaron Gordon, Jonathan Isaac, Nikola Vucevic",
         "ORTG": 111.40250855188141,
         "Points": 1954,
         "Possession": 1754,
         "GP": 66,
         "_deepnote_index_column": 1
        },
        {
         "FloorLineupId_Offense": 3905,
         "Players_Offense": "Donovan Mitchell Jr., Ricky Rubio, Joe Ingles, Jae Crowder, Rudy Gobert",
         "ORTG": 118.06640625,
         "Points": 1209,
         "Possession": 1024,
         "GP": 60,
         "_deepnote_index_column": 487
        },
        {
         "FloorLineupId_Offense": 3850,
         "Players_Offense": "Terrance Ferguson Jr., Russell Westbrook, Paul George, Jerami Grant, Steven Adams",
         "ORTG": 113.8663967611336,
         "Points": 2250,
         "Possession": 1976,
         "GP": 58,
         "_deepnote_index_column": 432
        },
        {
         "FloorLineupId_Offense": 4438,
         "Players_Offense": "Dennis Schroder, Russell Westbrook, Paul George, Jerami Grant, Steven Adams",
         "ORTG": 116.10942249240122,
         "Points": 1146,
         "Possession": 987,
         "GP": 58,
         "_deepnote_index_column": 1019
        },
        {
         "FloorLineupId_Offense": 3346,
         "Players_Offense": "Donovan Mitchell Jr., Ricky Rubio, Joe Ingles, Derrick Favors, Rudy Gobert",
         "ORTG": 107.03953712632594,
         "Points": 1110,
         "Possession": 1037,
         "GP": 56,
         "_deepnote_index_column": 120
        },
        {
         "FloorLineupId_Offense": 3363,
         "Players_Offense": "Malcolm Brogdon, Eric Bledsoe, Khris Middleton, Giannis Antetokounmpo, Brook Lopez",
         "ORTG": 114.33990895295904,
         "Points": 1507,
         "Possession": 1318,
         "GP": 56,
         "_deepnote_index_column": 130
        },
        {
         "FloorLineupId_Offense": 909,
         "Players_Offense": "Aaron Gordon, Terrence Ross, D.J. Augustin Jr., Evan Fournier, Nikola Vucevic",
         "ORTG": 109.39334637964775,
         "Points": 559,
         "Possession": 511,
         "GP": 49,
         "_deepnote_index_column": 25
        },
        {
         "FloorLineupId_Offense": 3241,
         "Players_Offense": "Jeremy Lamb, Kemba Walker, Nicolas Batum, Marvin Williams Jr., Cody Zeller",
         "ORTG": 117.73927392739274,
         "Points": 1427,
         "Possession": 1212,
         "GP": 48,
         "_deepnote_index_column": 69
        },
        {
         "FloorLineupId_Offense": 5119,
         "Players_Offense": "C.J. McCollum, Damian Lillard, Evan Turner, Al-Farouq Aminu, Jusuf Nurkic",
         "ORTG": 120.79566003616637,
         "Points": 668,
         "Possession": 553,
         "GP": 46,
         "_deepnote_index_column": 1700
        },
        {
         "FloorLineupId_Offense": 4762,
         "Players_Offense": "Klay Thompson, Stephen Curry, Kevin Durant, Draymond Green, Kevon Looney",
         "ORTG": 125.33333333333333,
         "Points": 846,
         "Possession": 675,
         "GP": 43,
         "_deepnote_index_column": 1343
        }
       ]
      },
      "text/plain": "       FloorLineupId_Offense  \\\n1                         36   \n487                     3905   \n432                     3850   \n1019                    4438   \n120                     3346   \n...                      ...   \n8891                   14909   \n8893                   14911   \n8894                   14912   \n8895                   14913   \n17156                 348946   \n\n                                         Players_Offense        ORTG  Points  \\\n1      Evan Fournier, D.J. Augustin Jr., Aaron Gordon...  111.402509    1954   \n487    Donovan Mitchell Jr., Ricky Rubio, Joe Ingles,...  118.066406    1209   \n432    Terrance Ferguson Jr., Russell Westbrook, Paul...  113.866397    2250   \n1019   Dennis Schroder, Russell Westbrook, Paul Georg...  116.109422    1146   \n120    Donovan Mitchell Jr., Ricky Rubio, Joe Ingles,...  107.039537    1110   \n...                                                  ...         ...     ...   \n8891   Shelvin Mack Jr., Marc Gasol, MarShon Brooks, ...    0.000000       0   \n8893   Joakim Noah, Marc Gasol, Omri Casspi, Wayne Se...         NaN       0   \n8894   Joakim Noah, Marc Gasol, Omri Casspi, Wayne Se...         NaN       0   \n8895   Joakim Noah, D.J. Stephens, Omri Casspi, Wayne...   70.588235      12   \n17156  Wade Baldwin IV, Anfernee Simons, Caleb Swanig...         NaN       0   \n\n       Possession  GP  \n1            1754  66  \n487          1024  60  \n432          1976  58  \n1019          987  58  \n120          1037  56  \n...           ...  ..  \n8891            1   1  \n8893            0   1  \n8894            0   1  \n8895           17   1  \n17156           0   1  \n\n[17157 rows x 6 columns]",
      "text/html": "<div>\n<style scoped>\n    .dataframe tbody tr th:only-of-type {\n        vertical-align: middle;\n    }\n\n    .dataframe tbody tr th {\n        vertical-align: top;\n    }\n\n    .dataframe thead th {\n        text-align: right;\n    }\n</style>\n<table border=\"1\" class=\"dataframe\">\n  <thead>\n    <tr style=\"text-align: right;\">\n      <th></th>\n      <th>FloorLineupId_Offense</th>\n      <th>Players_Offense</th>\n      <th>ORTG</th>\n      <th>Points</th>\n      <th>Possession</th>\n      <th>GP</th>\n    </tr>\n  </thead>\n  <tbody>\n    <tr>\n      <th>1</th>\n      <td>36</td>\n      <td>Evan Fournier, D.J. Augustin Jr., Aaron Gordon...</td>\n      <td>111.402509</td>\n      <td>1954</td>\n      <td>1754</td>\n      <td>66</td>\n    </tr>\n    <tr>\n      <th>487</th>\n      <td>3905</td>\n      <td>Donovan Mitchell Jr., Ricky Rubio, Joe Ingles,...</td>\n      <td>118.066406</td>\n      <td>1209</td>\n      <td>1024</td>\n      <td>60</td>\n    </tr>\n    <tr>\n      <th>432</th>\n      <td>3850</td>\n      <td>Terrance Ferguson Jr., Russell Westbrook, Paul...</td>\n      <td>113.866397</td>\n      <td>2250</td>\n      <td>1976</td>\n      <td>58</td>\n    </tr>\n    <tr>\n      <th>1019</th>\n      <td>4438</td>\n      <td>Dennis Schroder, Russell Westbrook, Paul Georg...</td>\n      <td>116.109422</td>\n      <td>1146</td>\n      <td>987</td>\n      <td>58</td>\n    </tr>\n    <tr>\n      <th>120</th>\n      <td>3346</td>\n      <td>Donovan Mitchell Jr., Ricky Rubio, Joe Ingles,...</td>\n      <td>107.039537</td>\n      <td>1110</td>\n      <td>1037</td>\n      <td>56</td>\n    </tr>\n    <tr>\n      <th>...</th>\n      <td>...</td>\n      <td>...</td>\n      <td>...</td>\n      <td>...</td>\n      <td>...</td>\n      <td>...</td>\n    </tr>\n    <tr>\n      <th>8891</th>\n      <td>14909</td>\n      <td>Shelvin Mack Jr., Marc Gasol, MarShon Brooks, ...</td>\n      <td>0.000000</td>\n      <td>0</td>\n      <td>1</td>\n      <td>1</td>\n    </tr>\n    <tr>\n      <th>8893</th>\n      <td>14911</td>\n      <td>Joakim Noah, Marc Gasol, Omri Casspi, Wayne Se...</td>\n      <td>NaN</td>\n      <td>0</td>\n      <td>0</td>\n      <td>1</td>\n    </tr>\n    <tr>\n      <th>8894</th>\n      <td>14912</td>\n      <td>Joakim Noah, Marc Gasol, Omri Casspi, Wayne Se...</td>\n      <td>NaN</td>\n      <td>0</td>\n      <td>0</td>\n      <td>1</td>\n    </tr>\n    <tr>\n      <th>8895</th>\n      <td>14913</td>\n      <td>Joakim Noah, D.J. Stephens, Omri Casspi, Wayne...</td>\n      <td>70.588235</td>\n      <td>12</td>\n      <td>17</td>\n      <td>1</td>\n    </tr>\n    <tr>\n      <th>17156</th>\n      <td>348946</td>\n      <td>Wade Baldwin IV, Anfernee Simons, Caleb Swanig...</td>\n      <td>NaN</td>\n      <td>0</td>\n      <td>0</td>\n      <td>1</td>\n    </tr>\n  </tbody>\n</table>\n<p>17157 rows × 6 columns</p>\n</div>"
     },
     "metadata": {}
    }
   ]
  },
  {
   "cell_type": "code",
   "metadata": {
    "tags": [],
    "deepnote_to_be_reexecuted": false,
    "source_hash": "47a6fdbe",
    "execution_start": 1648764253625,
    "execution_millis": 100,
    "cell_id": "00009-59a17b32-53a2-4a8f-a754-6c0f7666ce8c",
    "deepnote_cell_type": "code"
   },
   "source": "drtg['DRTG'] = 100 * drtg['Points'] / drtg['Possession']\ndrtg = drtg[['FloorLineupId_Defense', 'Players_Defense', 'DRTG', 'Points', 'Possession', 'GP']]\ndrtg.sort_values(by='GP', ascending=False)",
   "execution_count": null,
   "outputs": [
    {
     "output_type": "execute_result",
     "execution_count": 11,
     "data": {
      "application/vnd.deepnote.dataframe.v3+json": {
       "column_count": 6,
       "row_count": 16805,
       "columns": [
        {
         "name": "FloorLineupId_Defense",
         "dtype": "int64",
         "stats": {
          "unique_count": 16805,
          "nan_count": 0,
          "min": "13",
          "max": "348938",
          "histogram": [
           {
            "bin_start": 13,
            "bin_end": 34905.5,
            "count": 16790
           },
           {
            "bin_start": 34905.5,
            "bin_end": 69798,
            "count": 2
           },
           {
            "bin_start": 69798,
            "bin_end": 104690.5,
            "count": 9
           },
           {
            "bin_start": 104690.5,
            "bin_end": 139583,
            "count": 3
           },
           {
            "bin_start": 139583,
            "bin_end": 174475.5,
            "count": 0
           },
           {
            "bin_start": 174475.5,
            "bin_end": 209368,
            "count": 0
           },
           {
            "bin_start": 209368,
            "bin_end": 244260.5,
            "count": 0
           },
           {
            "bin_start": 244260.5,
            "bin_end": 279153,
            "count": 0
           },
           {
            "bin_start": 279153,
            "bin_end": 314045.5,
            "count": 0
           },
           {
            "bin_start": 314045.5,
            "bin_end": 348938,
            "count": 1
           }
          ]
         }
        },
        {
         "name": "Players_Defense",
         "dtype": "object",
         "stats": {
          "unique_count": 16805,
          "nan_count": 0,
          "categories": [
           {
            "name": "Evan Fournier, D.J. Augustin Jr., Aaron Gordon, Jonathan Isaac, Nikola Vucevic",
            "count": 1
           },
           {
            "name": "Donovan Mitchell Jr., Ricky Rubio, Joe Ingles, Jae Crowder, Rudy Gobert",
            "count": 1
           },
           {
            "name": "16803 others",
            "count": 16803
           }
          ]
         }
        },
        {
         "name": "DRTG",
         "dtype": "float64",
         "stats": {
          "unique_count": 1192,
          "nan_count": 2353,
          "min": "0.0",
          "max": "inf",
          "histogram": [
           {
            "bin_start": 0,
            "bin_end": 40,
            "count": 1483
           },
           {
            "bin_start": 40,
            "bin_end": 80,
            "count": 2025
           },
           {
            "bin_start": 80,
            "bin_end": 120,
            "count": 5187
           },
           {
            "bin_start": 120,
            "bin_end": 160,
            "count": 3268
           },
           {
            "bin_start": 160,
            "bin_end": 200,
            "count": 909
           },
           {
            "bin_start": 200,
            "bin_end": 240,
            "count": 1143
           },
           {
            "bin_start": 240,
            "bin_end": 280,
            "count": 211
           },
           {
            "bin_start": 280,
            "bin_end": 320,
            "count": 215
           },
           {
            "bin_start": 320,
            "bin_end": 360,
            "count": 0
           },
           {
            "bin_start": 360,
            "bin_end": 400,
            "count": 8
           }
          ]
         }
        },
        {
         "name": "Points",
         "dtype": "int64",
         "stats": {
          "unique_count": 316,
          "nan_count": 0,
          "min": "0",
          "max": "2088",
          "histogram": [
           {
            "bin_start": 0,
            "bin_end": 208.8,
            "count": 16666
           },
           {
            "bin_start": 208.8,
            "bin_end": 417.6,
            "count": 92
           },
           {
            "bin_start": 417.6,
            "bin_end": 626.4000000000001,
            "count": 20
           },
           {
            "bin_start": 626.4000000000001,
            "bin_end": 835.2,
            "count": 9
           },
           {
            "bin_start": 835.2,
            "bin_end": 1044,
            "count": 6
           },
           {
            "bin_start": 1044,
            "bin_end": 1252.8000000000002,
            "count": 7
           },
           {
            "bin_start": 1252.8000000000002,
            "bin_end": 1461.6000000000001,
            "count": 2
           },
           {
            "bin_start": 1461.6000000000001,
            "bin_end": 1670.4,
            "count": 0
           },
           {
            "bin_start": 1670.4,
            "bin_end": 1879.2,
            "count": 1
           },
           {
            "bin_start": 1879.2,
            "bin_end": 2088,
            "count": 2
           }
          ]
         }
        },
        {
         "name": "Possession",
         "dtype": "int64",
         "stats": {
          "unique_count": 292,
          "nan_count": 0,
          "min": "0",
          "max": "1979",
          "histogram": [
           {
            "bin_start": 0,
            "bin_end": 197.9,
            "count": 16675
           },
           {
            "bin_start": 197.9,
            "bin_end": 395.8,
            "count": 83
           },
           {
            "bin_start": 395.8,
            "bin_end": 593.7,
            "count": 21
           },
           {
            "bin_start": 593.7,
            "bin_end": 791.6,
            "count": 10
           },
           {
            "bin_start": 791.6,
            "bin_end": 989.5,
            "count": 5
           },
           {
            "bin_start": 989.5,
            "bin_end": 1187.4,
            "count": 6
           },
           {
            "bin_start": 1187.4,
            "bin_end": 1385.3,
            "count": 2
           },
           {
            "bin_start": 1385.3,
            "bin_end": 1583.2,
            "count": 1
           },
           {
            "bin_start": 1583.2,
            "bin_end": 1781.1000000000001,
            "count": 1
           },
           {
            "bin_start": 1781.1000000000001,
            "bin_end": 1979,
            "count": 1
           }
          ]
         }
        },
        {
         "name": "GP",
         "dtype": "int64"
        },
        {
         "name": "_deepnote_index_column",
         "dtype": "int64"
        }
       ],
       "rows": [
        {
         "FloorLineupId_Defense": 36,
         "Players_Defense": "Evan Fournier, D.J. Augustin Jr., Aaron Gordon, Jonathan Isaac, Nikola Vucevic",
         "DRTG": 106.57596371882086,
         "Points": 1880,
         "Possession": 1764,
         "GP": 67,
         "_deepnote_index_column": 1
        },
        {
         "FloorLineupId_Defense": 3905,
         "Players_Defense": "Donovan Mitchell Jr., Ricky Rubio, Joe Ingles, Jae Crowder, Rudy Gobert",
         "DRTG": 106.48330058939096,
         "Points": 1084,
         "Possession": 1018,
         "GP": 60,
         "_deepnote_index_column": 483
        },
        {
         "FloorLineupId_Defense": 4438,
         "Players_Defense": "Dennis Schroder, Russell Westbrook, Paul George, Jerami Grant, Steven Adams",
         "DRTG": 108.96907216494846,
         "Points": 1057,
         "Possession": 970,
         "GP": 58,
         "_deepnote_index_column": 1016
        },
        {
         "FloorLineupId_Defense": 3850,
         "Players_Defense": "Terrance Ferguson Jr., Russell Westbrook, Paul George, Jerami Grant, Steven Adams",
         "DRTG": 105.50783223850429,
         "Points": 2088,
         "Possession": 1979,
         "GP": 58,
         "_deepnote_index_column": 428
        },
        {
         "FloorLineupId_Defense": 3346,
         "Players_Defense": "Donovan Mitchell Jr., Ricky Rubio, Joe Ingles, Derrick Favors, Rudy Gobert",
         "DRTG": 101.34874759152216,
         "Points": 1052,
         "Possession": 1038,
         "GP": 56,
         "_deepnote_index_column": 119
        },
        {
         "FloorLineupId_Defense": 3363,
         "Players_Defense": "Malcolm Brogdon, Eric Bledsoe, Khris Middleton, Giannis Antetokounmpo, Brook Lopez",
         "DRTG": 109.50540958268934,
         "Points": 1417,
         "Possession": 1294,
         "GP": 56,
         "_deepnote_index_column": 129
        },
        {
         "FloorLineupId_Defense": 909,
         "Players_Defense": "Aaron Gordon, Terrence Ross, D.J. Augustin Jr., Evan Fournier, Nikola Vucevic",
         "DRTG": 104.87288135593221,
         "Points": 495,
         "Possession": 472,
         "GP": 50,
         "_deepnote_index_column": 24
        },
        {
         "FloorLineupId_Defense": 3241,
         "Players_Defense": "Jeremy Lamb, Kemba Walker, Nicolas Batum, Marvin Williams Jr., Cody Zeller",
         "DRTG": 109.26989335520919,
         "Points": 1332,
         "Possession": 1219,
         "GP": 48,
         "_deepnote_index_column": 67
        },
        {
         "FloorLineupId_Defense": 5119,
         "Players_Defense": "C.J. McCollum, Damian Lillard, Evan Turner, Al-Farouq Aminu, Jusuf Nurkic",
         "DRTG": 104.56204379562044,
         "Points": 573,
         "Possession": 548,
         "GP": 45,
         "_deepnote_index_column": 1697
        },
        {
         "FloorLineupId_Defense": 4762,
         "Players_Defense": "Klay Thompson, Stephen Curry, Kevin Durant, Draymond Green, Kevon Looney",
         "DRTG": 107.06921944035346,
         "Points": 727,
         "Possession": 679,
         "GP": 44,
         "_deepnote_index_column": 1340
        }
       ]
      },
      "text/plain": "       FloorLineupId_Defense  \\\n1                         36   \n483                     3905   \n1016                    4438   \n428                     3850   \n119                     3346   \n...                      ...   \n8551                   14721   \n8552                   14722   \n8553                   14723   \n8554                   14724   \n16804                 348938   \n\n                                         Players_Defense        DRTG  Points  \\\n1      Evan Fournier, D.J. Augustin Jr., Aaron Gordon...  106.575964    1880   \n483    Donovan Mitchell Jr., Ricky Rubio, Joe Ingles,...  106.483301    1084   \n1016   Dennis Schroder, Russell Westbrook, Paul Georg...  108.969072    1057   \n428    Terrance Ferguson Jr., Russell Westbrook, Paul...  105.507832    2088   \n119    Donovan Mitchell Jr., Ricky Rubio, Joe Ingles,...  101.348748    1052   \n...                                                  ...         ...     ...   \n8551   Kyle Korver, Thabo Sefolosha, Ekpe Udoh, Joe I...  125.000000       5   \n8552   Royce O'Neale, Thabo Sefolosha, Ekpe Udoh, Joe...    0.000000       0   \n8553   Royce O'Neale, Thabo Sefolosha, Ekpe Udoh, Joe...    0.000000       0   \n8554   Eric Gordon Jr., Danuel House Jr., Chris Paul,...    0.000000       0   \n16804  Evan Turner, Seth Curry, Nik Stauskas, Caleb S...         NaN       0   \n\n       Possession  GP  \n1            1764  67  \n483          1018  60  \n1016          970  58  \n428          1979  58  \n119          1038  56  \n...           ...  ..  \n8551            4   1  \n8552            1   1  \n8553            1   1  \n8554            1   1  \n16804           0   1  \n\n[16805 rows x 6 columns]",
      "text/html": "<div>\n<style scoped>\n    .dataframe tbody tr th:only-of-type {\n        vertical-align: middle;\n    }\n\n    .dataframe tbody tr th {\n        vertical-align: top;\n    }\n\n    .dataframe thead th {\n        text-align: right;\n    }\n</style>\n<table border=\"1\" class=\"dataframe\">\n  <thead>\n    <tr style=\"text-align: right;\">\n      <th></th>\n      <th>FloorLineupId_Defense</th>\n      <th>Players_Defense</th>\n      <th>DRTG</th>\n      <th>Points</th>\n      <th>Possession</th>\n      <th>GP</th>\n    </tr>\n  </thead>\n  <tbody>\n    <tr>\n      <th>1</th>\n      <td>36</td>\n      <td>Evan Fournier, D.J. Augustin Jr., Aaron Gordon...</td>\n      <td>106.575964</td>\n      <td>1880</td>\n      <td>1764</td>\n      <td>67</td>\n    </tr>\n    <tr>\n      <th>483</th>\n      <td>3905</td>\n      <td>Donovan Mitchell Jr., Ricky Rubio, Joe Ingles,...</td>\n      <td>106.483301</td>\n      <td>1084</td>\n      <td>1018</td>\n      <td>60</td>\n    </tr>\n    <tr>\n      <th>1016</th>\n      <td>4438</td>\n      <td>Dennis Schroder, Russell Westbrook, Paul Georg...</td>\n      <td>108.969072</td>\n      <td>1057</td>\n      <td>970</td>\n      <td>58</td>\n    </tr>\n    <tr>\n      <th>428</th>\n      <td>3850</td>\n      <td>Terrance Ferguson Jr., Russell Westbrook, Paul...</td>\n      <td>105.507832</td>\n      <td>2088</td>\n      <td>1979</td>\n      <td>58</td>\n    </tr>\n    <tr>\n      <th>119</th>\n      <td>3346</td>\n      <td>Donovan Mitchell Jr., Ricky Rubio, Joe Ingles,...</td>\n      <td>101.348748</td>\n      <td>1052</td>\n      <td>1038</td>\n      <td>56</td>\n    </tr>\n    <tr>\n      <th>...</th>\n      <td>...</td>\n      <td>...</td>\n      <td>...</td>\n      <td>...</td>\n      <td>...</td>\n      <td>...</td>\n    </tr>\n    <tr>\n      <th>8551</th>\n      <td>14721</td>\n      <td>Kyle Korver, Thabo Sefolosha, Ekpe Udoh, Joe I...</td>\n      <td>125.000000</td>\n      <td>5</td>\n      <td>4</td>\n      <td>1</td>\n    </tr>\n    <tr>\n      <th>8552</th>\n      <td>14722</td>\n      <td>Royce O'Neale, Thabo Sefolosha, Ekpe Udoh, Joe...</td>\n      <td>0.000000</td>\n      <td>0</td>\n      <td>1</td>\n      <td>1</td>\n    </tr>\n    <tr>\n      <th>8553</th>\n      <td>14723</td>\n      <td>Royce O'Neale, Thabo Sefolosha, Ekpe Udoh, Joe...</td>\n      <td>0.000000</td>\n      <td>0</td>\n      <td>1</td>\n      <td>1</td>\n    </tr>\n    <tr>\n      <th>8554</th>\n      <td>14724</td>\n      <td>Eric Gordon Jr., Danuel House Jr., Chris Paul,...</td>\n      <td>0.000000</td>\n      <td>0</td>\n      <td>1</td>\n      <td>1</td>\n    </tr>\n    <tr>\n      <th>16804</th>\n      <td>348938</td>\n      <td>Evan Turner, Seth Curry, Nik Stauskas, Caleb S...</td>\n      <td>NaN</td>\n      <td>0</td>\n      <td>0</td>\n      <td>1</td>\n    </tr>\n  </tbody>\n</table>\n<p>16805 rows × 6 columns</p>\n</div>"
     },
     "metadata": {}
    }
   ]
  },
  {
   "cell_type": "code",
   "metadata": {
    "tags": [],
    "cell_id": "00010-ee0ee199-cb48-4854-91e7-95480e5da7a5",
    "deepnote_to_be_reexecuted": false,
    "source_hash": "b623e53d",
    "execution_start": 1648764253727,
    "deepnote_cell_type": "code"
   },
   "source": "",
   "execution_count": null,
   "outputs": []
  },
  {
   "cell_type": "markdown",
   "source": "<a style='text-decoration:none;line-height:16px;display:flex;color:#5B5B62;padding:10px;justify-content:end;' href='https://deepnote.com?utm_source=created-in-deepnote-cell&projectId=5315bb81-8e59-4c5b-821c-2b4f7eb9c2e2' target=\"_blank\">\n<img alt='Created in deepnote.com' style='display:inline;max-height:16px;margin:0px;margin-right:7.5px;' src='data:image/svg+xml;base64,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' > </img>\nCreated in <span style='font-weight:600;margin-left:4px;'>Deepnote</span></a>",
   "metadata": {
    "tags": [],
    "created_in_deepnote_cell": true,
    "deepnote_cell_type": "markdown"
   }
  }
 ],
 "nbformat": 4,
 "nbformat_minor": 2,
 "metadata": {
  "orig_nbformat": 2,
  "deepnote": {
   "is_reactive": false
  },
  "deepnote_notebook_id": "145bf6ce-5b2c-43da-9215-9f6216370b28",
  "deepnote_execution_queue": []
 }
}