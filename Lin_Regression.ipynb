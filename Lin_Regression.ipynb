{
 "cells": [
  {
   "cell_type": "code",
   "metadata": {
    "deepnote_to_be_reexecuted": false,
    "execution_millis": 45,
    "execution_start": 1651808975785,
    "source_hash": "c76c7c51",
    "tags": [],
    "cell_id": "0fd992cf-4a58-4855-9fcc-84f592bd0a13",
    "deepnote_cell_type": "code",
    "deepnote_cell_height": 99
   },
   "source": "import pandas as pd\nimport numpy as np",
   "outputs": [],
   "execution_count": null
  },
  {
   "cell_type": "code",
   "metadata": {
    "deepnote_to_be_reexecuted": false,
    "execution_millis": 145,
    "execution_start": 1651808975830,
    "source_hash": "b3fe7436",
    "tags": [],
    "cell_id": "00001-ee219935-8f07-4f04-9390-e8353c7ac3b7",
    "deepnote_cell_type": "code",
    "deepnote_cell_height": 618
   },
   "source": "player_box = pd.read_csv('PlayerBox.csv', sep='\\t')\nplayer_box",
   "outputs": [
    {
     "output_type": "execute_result",
     "execution_count": 2,
     "data": {
      "application/vnd.deepnote.dataframe.v3+json": {
       "column_count": 40,
       "row_count": 1599,
       "columns": [
        {
         "name": "PlayerId",
         "dtype": "int64",
         "stats": {
          "unique_count": 756,
          "nan_count": 0,
          "min": "1",
          "max": "115985",
          "histogram": [
           {
            "bin_start": 1,
            "bin_end": 11599.4,
            "count": 1526
           },
           {
            "bin_start": 11599.4,
            "bin_end": 23197.8,
            "count": 8
           },
           {
            "bin_start": 23197.8,
            "bin_end": 34796.2,
            "count": 11
           },
           {
            "bin_start": 34796.2,
            "bin_end": 46394.6,
            "count": 13
           },
           {
            "bin_start": 46394.6,
            "bin_end": 57993,
            "count": 6
           },
           {
            "bin_start": 57993,
            "bin_end": 69591.4,
            "count": 8
           },
           {
            "bin_start": 69591.4,
            "bin_end": 81189.8,
            "count": 12
           },
           {
            "bin_start": 81189.8,
            "bin_end": 92788.2,
            "count": 6
           },
           {
            "bin_start": 92788.2,
            "bin_end": 104386.59999999999,
            "count": 3
           },
           {
            "bin_start": 104386.59999999999,
            "bin_end": 115985,
            "count": 6
           }
          ]
         }
        },
        {
         "name": "Player",
         "dtype": "object",
         "stats": {
          "unique_count": 756,
          "nan_count": 0,
          "categories": [
           {
            "name": "Aaron Gordon",
            "count": 3
           },
           {
            "name": "Aaron Holiday",
            "count": 3
           },
           {
            "name": "754 others",
            "count": 1593
           }
          ]
         }
        },
        {
         "name": "LeagueId",
         "dtype": "object",
         "stats": {
          "unique_count": 1,
          "nan_count": 0,
          "categories": [
           {
            "name": "NBA",
            "count": 1599
           }
          ]
         }
        },
        {
         "name": "SeasonYear",
         "dtype": "int64",
         "stats": {
          "unique_count": 3,
          "nan_count": 0,
          "min": "2018",
          "max": "2020",
          "histogram": [
           {
            "bin_start": 2018,
            "bin_end": 2018.2,
            "count": 530
           },
           {
            "bin_start": 2018.2,
            "bin_end": 2018.4,
            "count": 0
           },
           {
            "bin_start": 2018.4,
            "bin_end": 2018.6,
            "count": 0
           },
           {
            "bin_start": 2018.6,
            "bin_end": 2018.8,
            "count": 0
           },
           {
            "bin_start": 2018.8,
            "bin_end": 2019,
            "count": 0
           },
           {
            "bin_start": 2019,
            "bin_end": 2019.2,
            "count": 529
           },
           {
            "bin_start": 2019.2,
            "bin_end": 2019.4,
            "count": 0
           },
           {
            "bin_start": 2019.4,
            "bin_end": 2019.6,
            "count": 0
           },
           {
            "bin_start": 2019.6,
            "bin_end": 2019.8,
            "count": 0
           },
           {
            "bin_start": 2019.8,
            "bin_end": 2020,
            "count": 540
           }
          ]
         }
        },
        {
         "name": "GameTypeId",
         "dtype": "object",
         "stats": {
          "unique_count": 1,
          "nan_count": 0,
          "categories": [
           {
            "name": "S",
            "count": 1599
           }
          ]
         }
        },
        {
         "name": "GP",
         "dtype": "int64",
         "stats": {
          "unique_count": 82,
          "nan_count": 0,
          "min": "1",
          "max": "82",
          "histogram": [
           {
            "bin_start": 1,
            "bin_end": 9.1,
            "count": 180
           },
           {
            "bin_start": 9.1,
            "bin_end": 17.2,
            "count": 116
           },
           {
            "bin_start": 17.2,
            "bin_end": 25.299999999999997,
            "count": 106
           },
           {
            "bin_start": 25.299999999999997,
            "bin_end": 33.4,
            "count": 113
           },
           {
            "bin_start": 33.4,
            "bin_end": 41.5,
            "count": 122
           },
           {
            "bin_start": 41.5,
            "bin_end": 49.599999999999994,
            "count": 155
           },
           {
            "bin_start": 49.599999999999994,
            "bin_end": 57.699999999999996,
            "count": 190
           },
           {
            "bin_start": 57.699999999999996,
            "bin_end": 65.8,
            "count": 258
           },
           {
            "bin_start": 65.8,
            "bin_end": 73.89999999999999,
            "count": 235
           },
           {
            "bin_start": 73.89999999999999,
            "bin_end": 82,
            "count": 124
           }
          ]
         }
        },
        {
         "name": "GS",
         "dtype": "int64",
         "stats": {
          "unique_count": 83,
          "nan_count": 0,
          "min": "0",
          "max": "82",
          "histogram": [
           {
            "bin_start": 0,
            "bin_end": 8.2,
            "count": 823
           },
           {
            "bin_start": 8.2,
            "bin_end": 16.4,
            "count": 143
           },
           {
            "bin_start": 16.4,
            "bin_end": 24.599999999999998,
            "count": 92
           },
           {
            "bin_start": 24.599999999999998,
            "bin_end": 32.8,
            "count": 82
           },
           {
            "bin_start": 32.8,
            "bin_end": 41,
            "count": 65
           },
           {
            "bin_start": 41,
            "bin_end": 49.199999999999996,
            "count": 68
           },
           {
            "bin_start": 49.199999999999996,
            "bin_end": 57.39999999999999,
            "count": 91
           },
           {
            "bin_start": 57.39999999999999,
            "bin_end": 65.6,
            "count": 94
           },
           {
            "bin_start": 65.6,
            "bin_end": 73.8,
            "count": 90
           },
           {
            "bin_start": 73.8,
            "bin_end": 82,
            "count": 51
           }
          ]
         }
        },
        {
         "name": "MP",
         "dtype": "float64",
         "stats": {
          "unique_count": 1590,
          "nan_count": 0,
          "min": "0.62",
          "max": "3027.5",
          "histogram": [
           {
            "bin_start": 0.62,
            "bin_end": 303.308,
            "count": 405
           },
           {
            "bin_start": 303.308,
            "bin_end": 605.996,
            "count": 189
           },
           {
            "bin_start": 605.996,
            "bin_end": 908.684,
            "count": 177
           },
           {
            "bin_start": 908.684,
            "bin_end": 1211.3719999999998,
            "count": 178
           },
           {
            "bin_start": 1211.3719999999998,
            "bin_end": 1514.06,
            "count": 193
           },
           {
            "bin_start": 1514.06,
            "bin_end": 1816.7479999999998,
            "count": 151
           },
           {
            "bin_start": 1816.7479999999998,
            "bin_end": 2119.4359999999997,
            "count": 160
           },
           {
            "bin_start": 2119.4359999999997,
            "bin_end": 2422.124,
            "count": 93
           },
           {
            "bin_start": 2422.124,
            "bin_end": 2724.812,
            "count": 46
           },
           {
            "bin_start": 2724.812,
            "bin_end": 3027.5,
            "count": 7
           }
          ]
         }
        },
        {
         "name": "FGM",
         "dtype": "int64",
         "stats": {
          "unique_count": 501,
          "nan_count": 0,
          "min": "0",
          "max": "843",
          "histogram": [
           {
            "bin_start": 0,
            "bin_end": 84.3,
            "count": 606
           },
           {
            "bin_start": 84.3,
            "bin_end": 168.6,
            "count": 315
           },
           {
            "bin_start": 168.6,
            "bin_end": 252.89999999999998,
            "count": 254
           },
           {
            "bin_start": 252.89999999999998,
            "bin_end": 337.2,
            "count": 181
           },
           {
            "bin_start": 337.2,
            "bin_end": 421.5,
            "count": 92
           },
           {
            "bin_start": 421.5,
            "bin_end": 505.79999999999995,
            "count": 68
           },
           {
            "bin_start": 505.79999999999995,
            "bin_end": 590.1,
            "count": 42
           },
           {
            "bin_start": 590.1,
            "bin_end": 674.4,
            "count": 29
           },
           {
            "bin_start": 674.4,
            "bin_end": 758.6999999999999,
            "count": 10
           },
           {
            "bin_start": 758.6999999999999,
            "bin_end": 843,
            "count": 2
           }
          ]
         }
        },
        {
         "name": "FGA",
         "dtype": "int64",
         "stats": {
          "unique_count": 763,
          "nan_count": 0,
          "min": "0",
          "max": "1909",
          "histogram": [
           {
            "bin_start": 0,
            "bin_end": 190.9,
            "count": 617
           },
           {
            "bin_start": 190.9,
            "bin_end": 381.8,
            "count": 337
           },
           {
            "bin_start": 381.8,
            "bin_end": 572.7,
            "count": 247
           },
           {
            "bin_start": 572.7,
            "bin_end": 763.6,
            "count": 187
           },
           {
            "bin_start": 763.6,
            "bin_end": 954.5,
            "count": 90
           },
           {
            "bin_start": 954.5,
            "bin_end": 1145.4,
            "count": 63
           },
           {
            "bin_start": 1145.4,
            "bin_end": 1336.3,
            "count": 36
           },
           {
            "bin_start": 1336.3,
            "bin_end": 1527.2,
            "count": 16
           },
           {
            "bin_start": 1527.2,
            "bin_end": 1718.1000000000001,
            "count": 5
           },
           {
            "bin_start": 1718.1000000000001,
            "bin_end": 1909,
            "count": 1
           }
          ]
         }
        },
        {
         "name": "FG%",
         "dtype": "float64",
         "stats": {
          "unique_count": 1253,
          "nan_count": 0,
          "min": "0.0",
          "max": "1.0",
          "histogram": [
           {
            "bin_start": 0,
            "bin_end": 0.1,
            "count": 27
           },
           {
            "bin_start": 0.1,
            "bin_end": 0.2,
            "count": 8
           },
           {
            "bin_start": 0.2,
            "bin_end": 0.30000000000000004,
            "count": 59
           },
           {
            "bin_start": 0.30000000000000004,
            "bin_end": 0.4,
            "count": 275
           },
           {
            "bin_start": 0.4,
            "bin_end": 0.5,
            "count": 865
           },
           {
            "bin_start": 0.5,
            "bin_end": 0.6000000000000001,
            "count": 257
           },
           {
            "bin_start": 0.6000000000000001,
            "bin_end": 0.7000000000000001,
            "count": 88
           },
           {
            "bin_start": 0.7000000000000001,
            "bin_end": 0.8,
            "count": 15
           },
           {
            "bin_start": 0.8,
            "bin_end": 0.9,
            "count": 0
           },
           {
            "bin_start": 0.9,
            "bin_end": 1,
            "count": 5
           }
          ]
         }
        },
        {
         "name": "2FGM",
         "dtype": "int64",
         "stats": {
          "unique_count": 406,
          "nan_count": 0,
          "min": "0",
          "max": "674",
          "histogram": [
           {
            "bin_start": 0,
            "bin_end": 67.4,
            "count": 726
           },
           {
            "bin_start": 67.4,
            "bin_end": 134.8,
            "count": 317
           },
           {
            "bin_start": 134.8,
            "bin_end": 202.20000000000002,
            "count": 228
           },
           {
            "bin_start": 202.20000000000002,
            "bin_end": 269.6,
            "count": 123
           },
           {
            "bin_start": 269.6,
            "bin_end": 337,
            "count": 69
           },
           {
            "bin_start": 337,
            "bin_end": 404.40000000000003,
            "count": 58
           },
           {
            "bin_start": 404.40000000000003,
            "bin_end": 471.80000000000007,
            "count": 45
           },
           {
            "bin_start": 471.80000000000007,
            "bin_end": 539.2,
            "count": 17
           },
           {
            "bin_start": 539.2,
            "bin_end": 606.6,
            "count": 10
           },
           {
            "bin_start": 606.6,
            "bin_end": 674,
            "count": 6
           }
          ]
         }
        },
        {
         "name": "2FGA",
         "dtype": "int64",
         "stats": {
          "unique_count": 597,
          "nan_count": 0,
          "min": "0",
          "max": "1277",
          "histogram": [
           {
            "bin_start": 0,
            "bin_end": 127.7,
            "count": 703
           },
           {
            "bin_start": 127.7,
            "bin_end": 255.4,
            "count": 327
           },
           {
            "bin_start": 255.4,
            "bin_end": 383.1,
            "count": 237
           },
           {
            "bin_start": 383.1,
            "bin_end": 510.8,
            "count": 117
           },
           {
            "bin_start": 510.8,
            "bin_end": 638.5,
            "count": 80
           },
           {
            "bin_start": 638.5,
            "bin_end": 766.2,
            "count": 63
           },
           {
            "bin_start": 766.2,
            "bin_end": 893.9,
            "count": 46
           },
           {
            "bin_start": 893.9,
            "bin_end": 1021.6,
            "count": 19
           },
           {
            "bin_start": 1021.6,
            "bin_end": 1149.3,
            "count": 5
           },
           {
            "bin_start": 1149.3,
            "bin_end": 1277,
            "count": 2
           }
          ]
         }
        },
        {
         "name": "2FG%",
         "dtype": "float64",
         "stats": {
          "unique_count": 1120,
          "nan_count": 0,
          "min": "0.0",
          "max": "1.0",
          "histogram": [
           {
            "bin_start": 0,
            "bin_end": 0.1,
            "count": 38
           },
           {
            "bin_start": 0.1,
            "bin_end": 0.2,
            "count": 9
           },
           {
            "bin_start": 0.2,
            "bin_end": 0.30000000000000004,
            "count": 28
           },
           {
            "bin_start": 0.30000000000000004,
            "bin_end": 0.4,
            "count": 92
           },
           {
            "bin_start": 0.4,
            "bin_end": 0.5,
            "count": 536
           },
           {
            "bin_start": 0.5,
            "bin_end": 0.6000000000000001,
            "count": 664
           },
           {
            "bin_start": 0.6000000000000001,
            "bin_end": 0.7000000000000001,
            "count": 186
           },
           {
            "bin_start": 0.7000000000000001,
            "bin_end": 0.8,
            "count": 32
           },
           {
            "bin_start": 0.8,
            "bin_end": 0.9,
            "count": 4
           },
           {
            "bin_start": 0.9,
            "bin_end": 1,
            "count": 10
           }
          ]
         }
        },
        {
         "name": "3FGM",
         "dtype": "int64",
         "stats": {
          "unique_count": 214,
          "nan_count": 0,
          "min": "0",
          "max": "378",
          "histogram": [
           {
            "bin_start": 0,
            "bin_end": 37.8,
            "count": 866
           },
           {
            "bin_start": 37.8,
            "bin_end": 75.6,
            "count": 300
           },
           {
            "bin_start": 75.6,
            "bin_end": 113.39999999999999,
            "count": 193
           },
           {
            "bin_start": 113.39999999999999,
            "bin_end": 151.2,
            "count": 134
           },
           {
            "bin_start": 151.2,
            "bin_end": 189,
            "count": 70
           },
           {
            "bin_start": 189,
            "bin_end": 226.79999999999998,
            "count": 19
           },
           {
            "bin_start": 226.79999999999998,
            "bin_end": 264.59999999999997,
            "count": 6
           },
           {
            "bin_start": 264.59999999999997,
            "bin_end": 302.4,
            "count": 8
           },
           {
            "bin_start": 302.4,
            "bin_end": 340.2,
            "count": 1
           },
           {
            "bin_start": 340.2,
            "bin_end": 378,
            "count": 2
           }
          ]
         }
        },
        {
         "name": "3FGA",
         "dtype": "int64",
         "stats": {
          "unique_count": 433,
          "nan_count": 0,
          "min": "0",
          "max": "1028",
          "histogram": [
           {
            "bin_start": 0,
            "bin_end": 102.8,
            "count": 828
           },
           {
            "bin_start": 102.8,
            "bin_end": 205.6,
            "count": 321
           },
           {
            "bin_start": 205.6,
            "bin_end": 308.4,
            "count": 215
           },
           {
            "bin_start": 308.4,
            "bin_end": 411.2,
            "count": 140
           },
           {
            "bin_start": 411.2,
            "bin_end": 514,
            "count": 63
           },
           {
            "bin_start": 514,
            "bin_end": 616.8,
            "count": 19
           },
           {
            "bin_start": 616.8,
            "bin_end": 719.6,
            "count": 6
           },
           {
            "bin_start": 719.6,
            "bin_end": 822.4,
            "count": 5
           },
           {
            "bin_start": 822.4,
            "bin_end": 925.1999999999999,
            "count": 1
           },
           {
            "bin_start": 925.1999999999999,
            "bin_end": 1028,
            "count": 1
           }
          ]
         }
        },
        {
         "name": "3FG%",
         "dtype": "float64",
         "stats": {
          "unique_count": 885,
          "nan_count": 0,
          "min": "0.0",
          "max": "1.0",
          "histogram": [
           {
            "bin_start": 0,
            "bin_end": 0.1,
            "count": 213
           },
           {
            "bin_start": 0.1,
            "bin_end": 0.2,
            "count": 67
           },
           {
            "bin_start": 0.2,
            "bin_end": 0.30000000000000004,
            "count": 281
           },
           {
            "bin_start": 0.30000000000000004,
            "bin_end": 0.4,
            "count": 800
           },
           {
            "bin_start": 0.4,
            "bin_end": 0.5,
            "count": 196
           },
           {
            "bin_start": 0.5,
            "bin_end": 0.6000000000000001,
            "count": 31
           },
           {
            "bin_start": 0.6000000000000001,
            "bin_end": 0.7000000000000001,
            "count": 2
           },
           {
            "bin_start": 0.7000000000000001,
            "bin_end": 0.8,
            "count": 0
           },
           {
            "bin_start": 0.8,
            "bin_end": 0.9,
            "count": 0
           },
           {
            "bin_start": 0.9,
            "bin_end": 1,
            "count": 9
           }
          ]
         }
        },
        {
         "name": "eFG%",
         "dtype": "float64",
         "stats": {
          "unique_count": 1267,
          "nan_count": 0,
          "min": "0.0",
          "max": "1.0",
          "histogram": [
           {
            "bin_start": 0,
            "bin_end": 0.1,
            "count": 27
           },
           {
            "bin_start": 0.1,
            "bin_end": 0.2,
            "count": 8
           },
           {
            "bin_start": 0.2,
            "bin_end": 0.30000000000000004,
            "count": 35
           },
           {
            "bin_start": 0.30000000000000004,
            "bin_end": 0.4,
            "count": 91
           },
           {
            "bin_start": 0.4,
            "bin_end": 0.5,
            "count": 450
           },
           {
            "bin_start": 0.5,
            "bin_end": 0.6000000000000001,
            "count": 822
           },
           {
            "bin_start": 0.6000000000000001,
            "bin_end": 0.7000000000000001,
            "count": 143
           },
           {
            "bin_start": 0.7000000000000001,
            "bin_end": 0.8,
            "count": 17
           },
           {
            "bin_start": 0.8,
            "bin_end": 0.9,
            "count": 1
           },
           {
            "bin_start": 0.9,
            "bin_end": 1,
            "count": 5
           }
          ]
         }
        },
        {
         "name": "TS%",
         "dtype": "float64",
         "stats": {
          "unique_count": 1537,
          "nan_count": 0,
          "min": "0.0",
          "max": "1.5",
          "histogram": [
           {
            "bin_start": 0,
            "bin_end": 0.15,
            "count": 25
           },
           {
            "bin_start": 0.15,
            "bin_end": 0.3,
            "count": 18
           },
           {
            "bin_start": 0.3,
            "bin_end": 0.44999999999999996,
            "count": 134
           },
           {
            "bin_start": 0.44999999999999996,
            "bin_end": 0.6,
            "count": 1100
           },
           {
            "bin_start": 0.6,
            "bin_end": 0.75,
            "count": 309
           },
           {
            "bin_start": 0.75,
            "bin_end": 0.8999999999999999,
            "count": 8
           },
           {
            "bin_start": 0.8999999999999999,
            "bin_end": 1.05,
            "count": 3
           },
           {
            "bin_start": 1.05,
            "bin_end": 1.2,
            "count": 1
           },
           {
            "bin_start": 1.2,
            "bin_end": 1.3499999999999999,
            "count": 0
           },
           {
            "bin_start": 1.3499999999999999,
            "bin_end": 1.5,
            "count": 1
           }
          ]
         }
        },
        {
         "name": "FTM",
         "dtype": "int64",
         "stats": {
          "unique_count": 295,
          "nan_count": 0,
          "min": "0",
          "max": "754",
          "histogram": [
           {
            "bin_start": 0,
            "bin_end": 75.4,
            "count": 1067
           },
           {
            "bin_start": 75.4,
            "bin_end": 150.8,
            "count": 304
           },
           {
            "bin_start": 150.8,
            "bin_end": 226.20000000000002,
            "count": 121
           },
           {
            "bin_start": 226.20000000000002,
            "bin_end": 301.6,
            "count": 53
           },
           {
            "bin_start": 301.6,
            "bin_end": 377,
            "count": 28
           },
           {
            "bin_start": 377,
            "bin_end": 452.40000000000003,
            "count": 15
           },
           {
            "bin_start": 452.40000000000003,
            "bin_end": 527.8000000000001,
            "count": 9
           },
           {
            "bin_start": 527.8000000000001,
            "bin_end": 603.2,
            "count": 0
           },
           {
            "bin_start": 603.2,
            "bin_end": 678.6,
            "count": 0
           },
           {
            "bin_start": 678.6,
            "bin_end": 754,
            "count": 2
           }
          ]
         }
        },
        {
         "name": "FTA",
         "dtype": "int64",
         "stats": {
          "unique_count": 345,
          "nan_count": 0,
          "min": "0",
          "max": "858",
          "histogram": [
           {
            "bin_start": 0,
            "bin_end": 85.8,
            "count": 980
           },
           {
            "bin_start": 85.8,
            "bin_end": 171.6,
            "count": 339
           },
           {
            "bin_start": 171.6,
            "bin_end": 257.4,
            "count": 151
           },
           {
            "bin_start": 257.4,
            "bin_end": 343.2,
            "count": 55
           },
           {
            "bin_start": 343.2,
            "bin_end": 429,
            "count": 35
           },
           {
            "bin_start": 429,
            "bin_end": 514.8,
            "count": 22
           },
           {
            "bin_start": 514.8,
            "bin_end": 600.6,
            "count": 12
           },
           {
            "bin_start": 600.6,
            "bin_end": 686.4,
            "count": 3
           },
           {
            "bin_start": 686.4,
            "bin_end": 772.1999999999999,
            "count": 0
           },
           {
            "bin_start": 772.1999999999999,
            "bin_end": 858,
            "count": 2
           }
          ]
         }
        },
        {
         "name": "FT%",
         "dtype": "float64",
         "stats": {
          "unique_count": 815,
          "nan_count": 0,
          "min": "0.0",
          "max": "1.0",
          "histogram": [
           {
            "bin_start": 0,
            "bin_end": 0.1,
            "count": 82
           },
           {
            "bin_start": 0.1,
            "bin_end": 0.2,
            "count": 0
           },
           {
            "bin_start": 0.2,
            "bin_end": 0.30000000000000004,
            "count": 3
           },
           {
            "bin_start": 0.30000000000000004,
            "bin_end": 0.4,
            "count": 18
           },
           {
            "bin_start": 0.4,
            "bin_end": 0.5,
            "count": 23
           },
           {
            "bin_start": 0.5,
            "bin_end": 0.6000000000000001,
            "count": 149
           },
           {
            "bin_start": 0.6000000000000001,
            "bin_end": 0.7000000000000001,
            "count": 248
           },
           {
            "bin_start": 0.7000000000000001,
            "bin_end": 0.8,
            "count": 471
           },
           {
            "bin_start": 0.8,
            "bin_end": 0.9,
            "count": 490
           },
           {
            "bin_start": 0.9,
            "bin_end": 1,
            "count": 115
           }
          ]
         }
        },
        {
         "name": "OR",
         "dtype": "int64",
         "stats": {
          "unique_count": 196,
          "nan_count": 0,
          "min": "0",
          "max": "423",
          "histogram": [
           {
            "bin_start": 0,
            "bin_end": 42.3,
            "count": 1056
           },
           {
            "bin_start": 42.3,
            "bin_end": 84.6,
            "count": 325
           },
           {
            "bin_start": 84.6,
            "bin_end": 126.89999999999999,
            "count": 112
           },
           {
            "bin_start": 126.89999999999999,
            "bin_end": 169.2,
            "count": 53
           },
           {
            "bin_start": 169.2,
            "bin_end": 211.5,
            "count": 25
           },
           {
            "bin_start": 211.5,
            "bin_end": 253.79999999999998,
            "count": 18
           },
           {
            "bin_start": 253.79999999999998,
            "bin_end": 296.09999999999997,
            "count": 5
           },
           {
            "bin_start": 296.09999999999997,
            "bin_end": 338.4,
            "count": 3
           },
           {
            "bin_start": 338.4,
            "bin_end": 380.7,
            "count": 0
           },
           {
            "bin_start": 380.7,
            "bin_end": 423,
            "count": 2
           }
          ]
         }
        },
        {
         "name": "DR",
         "dtype": "int64",
         "stats": {
          "unique_count": 420,
          "nan_count": 0,
          "min": "0",
          "max": "809",
          "histogram": [
           {
            "bin_start": 0,
            "bin_end": 80.9,
            "count": 619
           },
           {
            "bin_start": 80.9,
            "bin_end": 161.8,
            "count": 374
           },
           {
            "bin_start": 161.8,
            "bin_end": 242.70000000000002,
            "count": 290
           },
           {
            "bin_start": 242.70000000000002,
            "bin_end": 323.6,
            "count": 166
           },
           {
            "bin_start": 323.6,
            "bin_end": 404.5,
            "count": 72
           },
           {
            "bin_start": 404.5,
            "bin_end": 485.40000000000003,
            "count": 34
           },
           {
            "bin_start": 485.40000000000003,
            "bin_end": 566.3000000000001,
            "count": 20
           },
           {
            "bin_start": 566.3000000000001,
            "bin_end": 647.2,
            "count": 12
           },
           {
            "bin_start": 647.2,
            "bin_end": 728.1,
            "count": 8
           },
           {
            "bin_start": 728.1,
            "bin_end": 809,
            "count": 4
           }
          ]
         }
        },
        {
         "name": "TR",
         "dtype": "int64",
         "stats": {
          "unique_count": 514,
          "nan_count": 0,
          "min": "0",
          "max": "1232",
          "histogram": [
           {
            "bin_start": 0,
            "bin_end": 123.2,
            "count": 704
           },
           {
            "bin_start": 123.2,
            "bin_end": 246.4,
            "count": 419
           },
           {
            "bin_start": 246.4,
            "bin_end": 369.6,
            "count": 259
           },
           {
            "bin_start": 369.6,
            "bin_end": 492.8,
            "count": 124
           },
           {
            "bin_start": 492.8,
            "bin_end": 616,
            "count": 44
           },
           {
            "bin_start": 616,
            "bin_end": 739.2,
            "count": 21
           },
           {
            "bin_start": 739.2,
            "bin_end": 862.4,
            "count": 15
           },
           {
            "bin_start": 862.4,
            "bin_end": 985.6,
            "count": 11
           },
           {
            "bin_start": 985.6,
            "bin_end": 1108.8,
            "count": 1
           },
           {
            "bin_start": 1108.8,
            "bin_end": 1232,
            "count": 1
           }
          ]
         }
        },
        {
         "name": "AST",
         "dtype": "int64",
         "stats": {
          "unique_count": 359,
          "nan_count": 0,
          "min": "0",
          "max": "784",
          "histogram": [
           {
            "bin_start": 0,
            "bin_end": 78.4,
            "count": 886
           },
           {
            "bin_start": 78.4,
            "bin_end": 156.8,
            "count": 371
           },
           {
            "bin_start": 156.8,
            "bin_end": 235.20000000000002,
            "count": 143
           },
           {
            "bin_start": 235.20000000000002,
            "bin_end": 313.6,
            "count": 89
           },
           {
            "bin_start": 313.6,
            "bin_end": 392,
            "count": 47
           },
           {
            "bin_start": 392,
            "bin_end": 470.40000000000003,
            "count": 32
           },
           {
            "bin_start": 470.40000000000003,
            "bin_end": 548.8000000000001,
            "count": 13
           },
           {
            "bin_start": 548.8000000000001,
            "bin_end": 627.2,
            "count": 14
           },
           {
            "bin_start": 627.2,
            "bin_end": 705.6,
            "count": 2
           },
           {
            "bin_start": 705.6,
            "bin_end": 784,
            "count": 2
           }
          ]
         }
        },
        {
         "name": "STL",
         "dtype": "int64",
         "stats": {
          "unique_count": 128,
          "nan_count": 0,
          "min": "0",
          "max": "170",
          "histogram": [
           {
            "bin_start": 0,
            "bin_end": 17,
            "count": 605
           },
           {
            "bin_start": 17,
            "bin_end": 34,
            "count": 338
           },
           {
            "bin_start": 34,
            "bin_end": 51,
            "count": 275
           },
           {
            "bin_start": 51,
            "bin_end": 68,
            "count": 191
           },
           {
            "bin_start": 68,
            "bin_end": 85,
            "count": 98
           },
           {
            "bin_start": 85,
            "bin_end": 102,
            "count": 55
           },
           {
            "bin_start": 102,
            "bin_end": 119,
            "count": 22
           },
           {
            "bin_start": 119,
            "bin_end": 136,
            "count": 10
           },
           {
            "bin_start": 136,
            "bin_end": 153,
            "count": 3
           },
           {
            "bin_start": 153,
            "bin_end": 170,
            "count": 2
           }
          ]
         }
        },
        {
         "name": "BLK",
         "dtype": "int64",
         "stats": {
          "unique_count": 123,
          "nan_count": 0,
          "min": "0",
          "max": "199",
          "histogram": [
           {
            "bin_start": 0,
            "bin_end": 19.9,
            "count": 1024
           },
           {
            "bin_start": 19.9,
            "bin_end": 39.8,
            "count": 329
           },
           {
            "bin_start": 39.8,
            "bin_end": 59.699999999999996,
            "count": 138
           },
           {
            "bin_start": 59.699999999999996,
            "bin_end": 79.6,
            "count": 50
           },
           {
            "bin_start": 79.6,
            "bin_end": 99.5,
            "count": 25
           },
           {
            "bin_start": 99.5,
            "bin_end": 119.39999999999999,
            "count": 12
           },
           {
            "bin_start": 119.39999999999999,
            "bin_end": 139.29999999999998,
            "count": 10
           },
           {
            "bin_start": 139.29999999999998,
            "bin_end": 159.2,
            "count": 4
           },
           {
            "bin_start": 159.2,
            "bin_end": 179.1,
            "count": 3
           },
           {
            "bin_start": 179.1,
            "bin_end": 199,
            "count": 4
           }
          ]
         }
        },
        {
         "name": "TOV",
         "dtype": "int64",
         "stats": {
          "unique_count": 223,
          "nan_count": 0,
          "min": "0",
          "max": "387",
          "histogram": [
           {
            "bin_start": 0,
            "bin_end": 38.7,
            "count": 746
           },
           {
            "bin_start": 38.7,
            "bin_end": 77.4,
            "count": 423
           },
           {
            "bin_start": 77.4,
            "bin_end": 116.10000000000001,
            "count": 210
           },
           {
            "bin_start": 116.10000000000001,
            "bin_end": 154.8,
            "count": 109
           },
           {
            "bin_start": 154.8,
            "bin_end": 193.5,
            "count": 60
           },
           {
            "bin_start": 193.5,
            "bin_end": 232.20000000000002,
            "count": 30
           },
           {
            "bin_start": 232.20000000000002,
            "bin_end": 270.90000000000003,
            "count": 13
           },
           {
            "bin_start": 270.90000000000003,
            "bin_end": 309.6,
            "count": 5
           },
           {
            "bin_start": 309.6,
            "bin_end": 348.3,
            "count": 2
           },
           {
            "bin_start": 348.3,
            "bin_end": 387,
            "count": 1
           }
          ]
         }
        },
        {
         "name": "PF",
         "dtype": "int64",
         "stats": {
          "unique_count": 235,
          "nan_count": 0,
          "min": "0",
          "max": "292",
          "histogram": [
           {
            "bin_start": 0,
            "bin_end": 29.2,
            "count": 396
           },
           {
            "bin_start": 29.2,
            "bin_end": 58.4,
            "count": 231
           },
           {
            "bin_start": 58.4,
            "bin_end": 87.6,
            "count": 197
           },
           {
            "bin_start": 87.6,
            "bin_end": 116.8,
            "count": 272
           },
           {
            "bin_start": 116.8,
            "bin_end": 146,
            "count": 219
           },
           {
            "bin_start": 146,
            "bin_end": 175.2,
            "count": 141
           },
           {
            "bin_start": 175.2,
            "bin_end": 204.4,
            "count": 91
           },
           {
            "bin_start": 204.4,
            "bin_end": 233.6,
            "count": 38
           },
           {
            "bin_start": 233.6,
            "bin_end": 262.8,
            "count": 10
           },
           {
            "bin_start": 262.8,
            "bin_end": 292,
            "count": 4
           }
          ]
         }
        },
        {
         "name": "PTS",
         "dtype": "int64",
         "stats": {
          "unique_count": 859,
          "nan_count": 0,
          "min": "0",
          "max": "2818",
          "histogram": [
           {
            "bin_start": 0,
            "bin_end": 281.8,
            "count": 698
           },
           {
            "bin_start": 281.8,
            "bin_end": 563.6,
            "count": 363
           },
           {
            "bin_start": 563.6,
            "bin_end": 845.4000000000001,
            "count": 248
           },
           {
            "bin_start": 845.4000000000001,
            "bin_end": 1127.2,
            "count": 133
           },
           {
            "bin_start": 1127.2,
            "bin_end": 1409,
            "count": 83
           },
           {
            "bin_start": 1409,
            "bin_end": 1690.8000000000002,
            "count": 41
           },
           {
            "bin_start": 1690.8000000000002,
            "bin_end": 1972.6000000000001,
            "count": 23
           },
           {
            "bin_start": 1972.6000000000001,
            "bin_end": 2254.4,
            "count": 8
           },
           {
            "bin_start": 2254.4,
            "bin_end": 2536.2000000000003,
            "count": 1
           },
           {
            "bin_start": 2536.2000000000003,
            "bin_end": 2818,
            "count": 1
           }
          ]
         }
        },
        {
         "name": "BPM_O",
         "dtype": "float64",
         "stats": {
          "unique_count": 196,
          "nan_count": 0,
          "min": "-40.1",
          "max": "40.1",
          "histogram": [
           {
            "bin_start": -40.1,
            "bin_end": -32.08,
            "count": 1
           },
           {
            "bin_start": -32.08,
            "bin_end": -24.060000000000002,
            "count": 2
           },
           {
            "bin_start": -24.060000000000002,
            "bin_end": -16.040000000000003,
            "count": 5
           },
           {
            "bin_start": -16.040000000000003,
            "bin_end": -8.020000000000003,
            "count": 50
           },
           {
            "bin_start": -8.020000000000003,
            "bin_end": -7.105427357601002e-15,
            "count": 1044
           },
           {
            "bin_start": -7.105427357601002e-15,
            "bin_end": 8.019999999999996,
            "count": 484
           },
           {
            "bin_start": 8.019999999999996,
            "bin_end": 16.04,
            "count": 10
           },
           {
            "bin_start": 16.04,
            "bin_end": 24.059999999999995,
            "count": 1
           },
           {
            "bin_start": 24.059999999999995,
            "bin_end": 32.07999999999999,
            "count": 1
           },
           {
            "bin_start": 32.07999999999999,
            "bin_end": 40.1,
            "count": 1
           }
          ]
         }
        },
        {
         "name": "BPM_D",
         "dtype": "float64",
         "stats": {
          "unique_count": 114,
          "nan_count": 0,
          "min": "-31.1",
          "max": "11.9",
          "histogram": [
           {
            "bin_start": -31.1,
            "bin_end": -26.8,
            "count": 1
           },
           {
            "bin_start": -26.8,
            "bin_end": -22.5,
            "count": 0
           },
           {
            "bin_start": -22.5,
            "bin_end": -18.200000000000003,
            "count": 1
           },
           {
            "bin_start": -18.200000000000003,
            "bin_end": -13.900000000000002,
            "count": 1
           },
           {
            "bin_start": -13.900000000000002,
            "bin_end": -9.600000000000001,
            "count": 1
           },
           {
            "bin_start": -9.600000000000001,
            "bin_end": -5.300000000000004,
            "count": 13
           },
           {
            "bin_start": -5.300000000000004,
            "bin_end": -1.0000000000000036,
            "count": 420
           },
           {
            "bin_start": -1.0000000000000036,
            "bin_end": 3.299999999999997,
            "count": 1133
           },
           {
            "bin_start": 3.299999999999997,
            "bin_end": 7.599999999999994,
            "count": 25
           },
           {
            "bin_start": 7.599999999999994,
            "bin_end": 11.9,
            "count": 4
           }
          ]
         }
        },
        {
         "name": "BPM",
         "dtype": "float64",
         "stats": {
          "unique_count": 232,
          "nan_count": 0,
          "min": "-47.1",
          "max": "52.0",
          "histogram": [
           {
            "bin_start": -47.1,
            "bin_end": -37.19,
            "count": 4
           },
           {
            "bin_start": -37.19,
            "bin_end": -27.28,
            "count": 2
           },
           {
            "bin_start": -27.28,
            "bin_end": -17.37,
            "count": 9
           },
           {
            "bin_start": -17.37,
            "bin_end": -7.460000000000001,
            "count": 98
           },
           {
            "bin_start": -7.460000000000001,
            "bin_end": 2.4499999999999957,
            "count": 1317
           },
           {
            "bin_start": 2.4499999999999957,
            "bin_end": 12.36,
            "count": 161
           },
           {
            "bin_start": 12.36,
            "bin_end": 22.270000000000003,
            "count": 5
           },
           {
            "bin_start": 22.270000000000003,
            "bin_end": 32.18,
            "count": 2
           },
           {
            "bin_start": 32.18,
            "bin_end": 42.089999999999996,
            "count": 0
           },
           {
            "bin_start": 42.089999999999996,
            "bin_end": 52,
            "count": 1
           }
          ]
         }
        },
        {
         "name": "EPM_O",
         "dtype": "object",
         "stats": {
          "unique_count": 405,
          "nan_count": 0,
          "categories": [
           {
            "name": "(null)",
            "count": 15
           },
           {
            "name": "-1.7370",
            "count": 14
           },
           {
            "name": "403 others",
            "count": 1570
           }
          ]
         }
        },
        {
         "name": "EPM_D",
         "dtype": "object",
         "stats": {
          "unique_count": 364,
          "nan_count": 0,
          "categories": [
           {
            "name": "0.1600",
            "count": 16
           },
           {
            "name": "-0.0570",
            "count": 15
           },
           {
            "name": "362 others",
            "count": 1568
           }
          ]
         }
        },
        {
         "name": "EPM",
         "dtype": "object",
         "stats": {
          "unique_count": 501,
          "nan_count": 0,
          "categories": [
           {
            "name": "(null)",
            "count": 15
           },
           {
            "name": "-3.8170",
            "count": 11
           },
           {
            "name": "499 others",
            "count": 1573
           }
          ]
         }
        },
        {
         "name": "RPM_O",
         "dtype": "object",
         "stats": {
          "unique_count": 610,
          "nan_count": 0,
          "categories": [
           {
            "name": "(null)",
            "count": 33
           },
           {
            "name": "-1.0400",
            "count": 11
           },
           {
            "name": "608 others",
            "count": 1555
           }
          ]
         }
        },
        {
         "name": "RPM_D",
         "dtype": "object",
         "stats": {
          "unique_count": 531,
          "nan_count": 0,
          "categories": [
           {
            "name": "(null)",
            "count": 33
           },
           {
            "name": "-1.1000",
            "count": 12
           },
           {
            "name": "529 others",
            "count": 1554
           }
          ]
         }
        },
        {
         "name": "RPM",
         "dtype": "object",
         "stats": {
          "unique_count": 649,
          "nan_count": 0,
          "categories": [
           {
            "name": "(null)",
            "count": 33
           },
           {
            "name": "-1.7500",
            "count": 8
           },
           {
            "name": "647 others",
            "count": 1558
           }
          ]
         }
        },
        {
         "name": "_deepnote_index_column",
         "dtype": "int64"
        }
       ],
       "rows": [
        {
         "PlayerId": 1342,
         "Player": "Aaron Gordon",
         "LeagueId": "NBA",
         "SeasonYear": 2018,
         "GameTypeId": "S",
         "GP": 78,
         "GS": 78,
         "MP": 2632.42,
         "FGM": 470,
         "FGA": 1046,
         "FG%": 0.449330783,
         "2FGM": 349,
         "2FGA": 699,
         "2FG%": 0.499284692,
         "3FGM": 121,
         "3FGA": 347,
         "3FG%": 0.34870317,
         "eFG%": 0.50669216,
         "TS%": 0.538313,
         "FTM": 185,
         "FTA": 253,
         "FT%": 0.731225296,
         "OR": 129,
         "DR": 445,
         "TR": 574,
         "AST": 289,
         "STL": 57,
         "BLK": 56,
         "TOV": 162,
         "PF": 172,
         "PTS": 1246,
         "BPM_O": 0.3,
         "BPM_D": 0.3,
         "BPM": 0.6,
         "EPM_O": "0.0690",
         "EPM_D": "0.9780",
         "EPM": "0.9780",
         "RPM_O": "-0.7900",
         "RPM_D": "1.1100",
         "RPM": "0.3200",
         "_deepnote_index_column": 0
        },
        {
         "PlayerId": 1342,
         "Player": "Aaron Gordon",
         "LeagueId": "NBA",
         "SeasonYear": 2019,
         "GameTypeId": "S",
         "GP": 62,
         "GS": 62,
         "MP": 2017.05,
         "FGM": 335,
         "FGA": 767,
         "FG%": 0.436766623,
         "2FGM": 262,
         "2FGA": 530,
         "2FG%": 0.494339622,
         "3FGM": 73,
         "3FGA": 237,
         "3FG%": 0.308016877,
         "eFG%": 0.483702737,
         "TS%": 0.516429,
         "FTM": 151,
         "FTA": 224,
         "FT%": 0.674107142,
         "OR": 107,
         "DR": 368,
         "TR": 475,
         "AST": 228,
         "STL": 51,
         "BLK": 39,
         "TOV": 100,
         "PF": 125,
         "PTS": 894,
         "BPM_O": -0.1,
         "BPM_D": 0.1,
         "BPM": 0,
         "EPM_O": "0.2710",
         "EPM_D": "-0.2530",
         "EPM": "-0.0660",
         "RPM_O": "-1.0500",
         "RPM_D": "2.0200",
         "RPM": "0.9700",
         "_deepnote_index_column": 1
        },
        {
         "PlayerId": 1342,
         "Player": "Aaron Gordon",
         "LeagueId": "NBA",
         "SeasonYear": 2020,
         "GameTypeId": "S",
         "GP": 50,
         "GS": 50,
         "MP": 1383.71,
         "FGM": 231,
         "FGA": 499,
         "FG%": 0.462925851,
         "2FGM": 172,
         "2FGA": 323,
         "2FG%": 0.532507739,
         "3FGM": 59,
         "3FGA": 176,
         "3FG%": 0.335227272,
         "eFG%": 0.521042084,
         "TS%": 0.547329,
         "FTM": 97,
         "FTA": 149,
         "FT%": 0.651006711,
         "OR": 77,
         "DR": 207,
         "TR": 284,
         "AST": 161,
         "STL": 33,
         "BLK": 34,
         "TOV": 97,
         "PF": 89,
         "PTS": 618,
         "BPM_O": 0.2,
         "BPM_D": -0.2,
         "BPM": 0,
         "EPM_O": "0.3730",
         "EPM_D": "0.6710",
         "EPM": "0.8750",
         "RPM_O": "-1.5700",
         "RPM_D": "2.1100",
         "RPM": "0.5400",
         "_deepnote_index_column": 2
        },
        {
         "PlayerId": 1341,
         "Player": "Aaron Holiday",
         "LeagueId": "NBA",
         "SeasonYear": 2018,
         "GameTypeId": "S",
         "GP": 50,
         "GS": 0,
         "MP": 645.78,
         "FGM": 105,
         "FGA": 262,
         "FG%": 0.400763358,
         "2FGM": 62,
         "2FGA": 135,
         "2FG%": 0.459259259,
         "3FGM": 43,
         "3FGA": 127,
         "3FG%": 0.338582677,
         "eFG%": 0.48091603,
         "TS%": 0.517606,
         "FTM": 41,
         "FTA": 50,
         "FT%": 0.82,
         "OR": 5,
         "DR": 62,
         "TR": 67,
         "AST": 87,
         "STL": 21,
         "BLK": 13,
         "TOV": 40,
         "PF": 71,
         "PTS": 294,
         "BPM_O": -1.7,
         "BPM_D": 0.1,
         "BPM": -1.6,
         "EPM_O": "-1.3470",
         "EPM_D": "0.2620",
         "EPM": "-1.1530",
         "RPM_O": "1.6200",
         "RPM_D": "2.3700",
         "RPM": "3.9900",
         "_deepnote_index_column": 3
        },
        {
         "PlayerId": 1341,
         "Player": "Aaron Holiday",
         "LeagueId": "NBA",
         "SeasonYear": 2019,
         "GameTypeId": "S",
         "GP": 66,
         "GS": 33,
         "MP": 1617.24,
         "FGM": 233,
         "FGA": 563,
         "FG%": 0.413854351,
         "2FGM": 146,
         "2FGA": 342,
         "2FG%": 0.426900584,
         "3FGM": 87,
         "3FGA": 221,
         "3FG%": 0.393665158,
         "eFG%": 0.490230905,
         "TS%": 0.521388,
         "FTM": 74,
         "FTA": 87,
         "FT%": 0.850574712,
         "OR": 22,
         "DR": 134,
         "TR": 156,
         "AST": 225,
         "STL": 55,
         "BLK": 16,
         "TOV": 88,
         "PF": 120,
         "PTS": 627,
         "BPM_O": -1.6,
         "BPM_D": 0,
         "BPM": -1.6,
         "EPM_O": "-0.5590",
         "EPM_D": "-0.3500",
         "EPM": "-0.8550",
         "RPM_O": "-0.8400",
         "RPM_D": "1.7600",
         "RPM": "0.9200",
         "_deepnote_index_column": 4
        },
        {
         "PlayerId": 1341,
         "Player": "Aaron Holiday",
         "LeagueId": "NBA",
         "SeasonYear": 2020,
         "GameTypeId": "S",
         "GP": 66,
         "GS": 8,
         "MP": 1175.98,
         "FGM": 170,
         "FGA": 436,
         "FG%": 0.389908256,
         "2FGM": 103,
         "2FGA": 254,
         "2FG%": 0.405511811,
         "3FGM": 67,
         "3FGA": 182,
         "3FG%": 0.368131868,
         "eFG%": 0.46559633,
         "TS%": 0.502624,
         "FTM": 68,
         "FTA": 83,
         "FT%": 0.819277108,
         "OR": 15,
         "DR": 74,
         "TR": 89,
         "AST": 123,
         "STL": 46,
         "BLK": 13,
         "TOV": 66,
         "PF": 94,
         "PTS": 475,
         "BPM_O": -3.2,
         "BPM_D": -1,
         "BPM": -4.1,
         "EPM_O": "-2.5240",
         "EPM_D": "-0.1560",
         "EPM": "-2.5310",
         "RPM_O": "0.0600",
         "RPM_D": "-1.8300",
         "RPM": "-1.7700",
         "_deepnote_index_column": 5
        },
        {
         "PlayerId": 41626,
         "Player": "Aaron Nesmith",
         "LeagueId": "NBA",
         "SeasonYear": 2020,
         "GameTypeId": "S",
         "GP": 46,
         "GS": 1,
         "MP": 668.66,
         "FGM": 78,
         "FGA": 178,
         "FG%": 0.438202247,
         "2FGM": 38,
         "2FGA": 70,
         "2FG%": 0.542857142,
         "3FGM": 40,
         "3FGA": 108,
         "3FG%": 0.37037037,
         "eFG%": 0.550561797,
         "TS%": 0.57272,
         "FTM": 22,
         "FTA": 28,
         "FT%": 0.785714285,
         "OR": 28,
         "DR": 99,
         "TR": 127,
         "AST": 23,
         "STL": 15,
         "BLK": 9,
         "TOV": 23,
         "PF": 87,
         "PTS": 218,
         "BPM_O": -2.9,
         "BPM_D": -0.4,
         "BPM": -3.2,
         "EPM_O": "-2.4260",
         "EPM_D": "-1.0280",
         "EPM": "-3.4210",
         "RPM_O": "-0.0500",
         "RPM_D": "-2.2100",
         "RPM": "-2.2500",
         "_deepnote_index_column": 6
        },
        {
         "PlayerId": 1195,
         "Player": "Abdel Nader",
         "LeagueId": "NBA",
         "SeasonYear": 2018,
         "GameTypeId": "S",
         "GP": 61,
         "GS": 1,
         "MP": 693.51,
         "FGM": 91,
         "FGA": 215,
         "FG%": 0.423255813,
         "2FGM": 59,
         "2FGA": 115,
         "2FG%": 0.513043478,
         "3FGM": 32,
         "3FGA": 100,
         "3FG%": 0.32,
         "eFG%": 0.497674418,
         "TS%": 0.522007,
         "FTM": 27,
         "FTA": 36,
         "FT%": 0.75,
         "OR": 14,
         "DR": 102,
         "TR": 116,
         "AST": 20,
         "STL": 20,
         "BLK": 12,
         "TOV": 26,
         "PF": 68,
         "PTS": 241,
         "BPM_O": -3.6,
         "BPM_D": 0.3,
         "BPM": -3.2,
         "EPM_O": "-4.0400",
         "EPM_D": "-1.3230",
         "EPM": "-5.3600",
         "RPM_O": "-2.1900",
         "RPM_D": "0.2100",
         "RPM": "-1.9800",
         "_deepnote_index_column": 7
        },
        {
         "PlayerId": 1195,
         "Player": "Abdel Nader",
         "LeagueId": "NBA",
         "SeasonYear": 2019,
         "GameTypeId": "S",
         "GP": 55,
         "GS": 6,
         "MP": 866.89,
         "FGM": 123,
         "FGA": 263,
         "FG%": 0.467680608,
         "2FGM": 75,
         "2FGA": 135,
         "2FG%": 0.555555555,
         "3FGM": 48,
         "3FGA": 128,
         "3FG%": 0.375,
         "eFG%": 0.558935361,
         "TS%": 0.590673,
         "FTM": 51,
         "FTA": 66,
         "FT%": 0.772727272,
         "OR": 14,
         "DR": 86,
         "TR": 100,
         "AST": 38,
         "STL": 23,
         "BLK": 20,
         "TOV": 43,
         "PF": 78,
         "PTS": 345,
         "BPM_O": -1.1,
         "BPM_D": 0.2,
         "BPM": -1,
         "EPM_O": "-2.6190",
         "EPM_D": "-0.3500",
         "EPM": "-2.9230",
         "RPM_O": "-1.2400",
         "RPM_D": "0.6500",
         "RPM": "-0.5900",
         "_deepnote_index_column": 8
        },
        {
         "PlayerId": 1195,
         "Player": "Abdel Nader",
         "LeagueId": "NBA",
         "SeasonYear": 2020,
         "GameTypeId": "S",
         "GP": 24,
         "GS": 0,
         "MP": 355.21,
         "FGM": 57,
         "FGA": 116,
         "FG%": 0.49137931,
         "2FGM": 39,
         "2FGA": 73,
         "2FG%": 0.534246575,
         "3FGM": 18,
         "3FGA": 43,
         "3FG%": 0.418604651,
         "eFG%": 0.568965517,
         "TS%": 0.604778,
         "FTM": 28,
         "FTA": 37,
         "FT%": 0.756756756,
         "OR": 7,
         "DR": 55,
         "TR": 62,
         "AST": 19,
         "STL": 10,
         "BLK": 9,
         "TOV": 19,
         "PF": 34,
         "PTS": 160,
         "BPM_O": -1.2,
         "BPM_D": 0.8,
         "BPM": -0.4,
         "EPM_O": "-2.4250",
         "EPM_D": "1.4870",
         "EPM": "-1.0510",
         "RPM_O": "0.1000",
         "RPM_D": "-1.0200",
         "RPM": "-0.9200",
         "_deepnote_index_column": 9
        }
       ]
      },
      "text/plain": "      PlayerId           Player LeagueId  SeasonYear GameTypeId  GP  GS  \\\n0         1342     Aaron Gordon      NBA        2018          S  78  78   \n1         1342     Aaron Gordon      NBA        2019          S  62  62   \n2         1342     Aaron Gordon      NBA        2020          S  50  50   \n3         1341    Aaron Holiday      NBA        2018          S  50   0   \n4         1341    Aaron Holiday      NBA        2019          S  66  33   \n...        ...              ...      ...         ...        ...  ..  ..   \n1594      1626     Zhaire Smith      NBA        2019          S   7   0   \n1595      1294          Zhou Qi      NBA        2018          S   1   0   \n1596      2267  Zion Williamson      NBA        2019          S  24  24   \n1597      2267  Zion Williamson      NBA        2020          S  61  61   \n1598      3352   Zylan Cheatham      NBA        2019          S   4   0   \n\n           MP  FGM   FGA  ...   PTS  BPM_O  BPM_D   BPM    EPM_O    EPM_D  \\\n0     2632.42  470  1046  ...  1246    0.3    0.3   0.6   0.0690   0.9780   \n1     2017.05  335   767  ...   894   -0.1    0.1   0.0   0.2710  -0.2530   \n2     1383.71  231   499  ...   618    0.2   -0.2   0.0   0.3730   0.6710   \n3      645.78  105   262  ...   294   -1.7    0.1  -1.6  -1.3470   0.2620   \n4     1617.24  233   563  ...   627   -1.6    0.0  -1.6  -0.5590  -0.3500   \n...       ...  ...   ...  ...   ...    ...    ...   ...      ...      ...   \n1594    32.32    3    11  ...     8  -10.8    0.8 -10.0  -4.1000  -1.2000   \n1595     0.95    1     1  ...     2   40.1   11.9  52.0   (null)   (null)   \n1596   668.12  210   360  ...   540    3.5   -1.4   2.1   2.4930  -0.8400   \n1597  2025.77  634  1037  ...  1647    5.8   -0.4   5.4   4.3960   0.1590   \n1598    51.04    6     9  ...    12   -6.5   -0.6  -7.1  -2.7190  -2.0100   \n\n          EPM    RPM_O    RPM_D      RPM  \n0      0.9780  -0.7900   1.1100   0.3200  \n1     -0.0660  -1.0500   2.0200   0.9700  \n2      0.8750  -1.5700   2.1100   0.5400  \n3     -1.1530   1.6200   2.3700   3.9900  \n4     -0.8550  -0.8400   1.7600   0.9200  \n...       ...      ...      ...      ...  \n1594  -5.4000  -2.2300  -0.4300  -2.6600  \n1595   (null)   (null)   (null)   (null)  \n1596   1.6830   2.7300   0.5700   3.2900  \n1597   4.3960   1.0700   2.1300   3.2000  \n1598  -4.7900  -1.8700  -0.3900  -2.2600  \n\n[1599 rows x 40 columns]",
      "text/html": "<div>\n<style scoped>\n    .dataframe tbody tr th:only-of-type {\n        vertical-align: middle;\n    }\n\n    .dataframe tbody tr th {\n        vertical-align: top;\n    }\n\n    .dataframe thead th {\n        text-align: right;\n    }\n</style>\n<table border=\"1\" class=\"dataframe\">\n  <thead>\n    <tr style=\"text-align: right;\">\n      <th></th>\n      <th>PlayerId</th>\n      <th>Player</th>\n      <th>LeagueId</th>\n      <th>SeasonYear</th>\n      <th>GameTypeId</th>\n      <th>GP</th>\n      <th>GS</th>\n      <th>MP</th>\n      <th>FGM</th>\n      <th>FGA</th>\n      <th>...</th>\n      <th>PTS</th>\n      <th>BPM_O</th>\n      <th>BPM_D</th>\n      <th>BPM</th>\n      <th>EPM_O</th>\n      <th>EPM_D</th>\n      <th>EPM</th>\n      <th>RPM_O</th>\n      <th>RPM_D</th>\n      <th>RPM</th>\n    </tr>\n  </thead>\n  <tbody>\n    <tr>\n      <th>0</th>\n      <td>1342</td>\n      <td>Aaron Gordon</td>\n      <td>NBA</td>\n      <td>2018</td>\n      <td>S</td>\n      <td>78</td>\n      <td>78</td>\n      <td>2632.42</td>\n      <td>470</td>\n      <td>1046</td>\n      <td>...</td>\n      <td>1246</td>\n      <td>0.3</td>\n      <td>0.3</td>\n      <td>0.6</td>\n      <td>0.0690</td>\n      <td>0.9780</td>\n      <td>0.9780</td>\n      <td>-0.7900</td>\n      <td>1.1100</td>\n      <td>0.3200</td>\n    </tr>\n    <tr>\n      <th>1</th>\n      <td>1342</td>\n      <td>Aaron Gordon</td>\n      <td>NBA</td>\n      <td>2019</td>\n      <td>S</td>\n      <td>62</td>\n      <td>62</td>\n      <td>2017.05</td>\n      <td>335</td>\n      <td>767</td>\n      <td>...</td>\n      <td>894</td>\n      <td>-0.1</td>\n      <td>0.1</td>\n      <td>0.0</td>\n      <td>0.2710</td>\n      <td>-0.2530</td>\n      <td>-0.0660</td>\n      <td>-1.0500</td>\n      <td>2.0200</td>\n      <td>0.9700</td>\n    </tr>\n    <tr>\n      <th>2</th>\n      <td>1342</td>\n      <td>Aaron Gordon</td>\n      <td>NBA</td>\n      <td>2020</td>\n      <td>S</td>\n      <td>50</td>\n      <td>50</td>\n      <td>1383.71</td>\n      <td>231</td>\n      <td>499</td>\n      <td>...</td>\n      <td>618</td>\n      <td>0.2</td>\n      <td>-0.2</td>\n      <td>0.0</td>\n      <td>0.3730</td>\n      <td>0.6710</td>\n      <td>0.8750</td>\n      <td>-1.5700</td>\n      <td>2.1100</td>\n      <td>0.5400</td>\n    </tr>\n    <tr>\n      <th>3</th>\n      <td>1341</td>\n      <td>Aaron Holiday</td>\n      <td>NBA</td>\n      <td>2018</td>\n      <td>S</td>\n      <td>50</td>\n      <td>0</td>\n      <td>645.78</td>\n      <td>105</td>\n      <td>262</td>\n      <td>...</td>\n      <td>294</td>\n      <td>-1.7</td>\n      <td>0.1</td>\n      <td>-1.6</td>\n      <td>-1.3470</td>\n      <td>0.2620</td>\n      <td>-1.1530</td>\n      <td>1.6200</td>\n      <td>2.3700</td>\n      <td>3.9900</td>\n    </tr>\n    <tr>\n      <th>4</th>\n      <td>1341</td>\n      <td>Aaron Holiday</td>\n      <td>NBA</td>\n      <td>2019</td>\n      <td>S</td>\n      <td>66</td>\n      <td>33</td>\n      <td>1617.24</td>\n      <td>233</td>\n      <td>563</td>\n      <td>...</td>\n      <td>627</td>\n      <td>-1.6</td>\n      <td>0.0</td>\n      <td>-1.6</td>\n      <td>-0.5590</td>\n      <td>-0.3500</td>\n      <td>-0.8550</td>\n      <td>-0.8400</td>\n      <td>1.7600</td>\n      <td>0.9200</td>\n    </tr>\n    <tr>\n      <th>...</th>\n      <td>...</td>\n      <td>...</td>\n      <td>...</td>\n      <td>...</td>\n      <td>...</td>\n      <td>...</td>\n      <td>...</td>\n      <td>...</td>\n      <td>...</td>\n      <td>...</td>\n      <td>...</td>\n      <td>...</td>\n      <td>...</td>\n      <td>...</td>\n      <td>...</td>\n      <td>...</td>\n      <td>...</td>\n      <td>...</td>\n      <td>...</td>\n      <td>...</td>\n      <td>...</td>\n    </tr>\n    <tr>\n      <th>1594</th>\n      <td>1626</td>\n      <td>Zhaire Smith</td>\n      <td>NBA</td>\n      <td>2019</td>\n      <td>S</td>\n      <td>7</td>\n      <td>0</td>\n      <td>32.32</td>\n      <td>3</td>\n      <td>11</td>\n      <td>...</td>\n      <td>8</td>\n      <td>-10.8</td>\n      <td>0.8</td>\n      <td>-10.0</td>\n      <td>-4.1000</td>\n      <td>-1.2000</td>\n      <td>-5.4000</td>\n      <td>-2.2300</td>\n      <td>-0.4300</td>\n      <td>-2.6600</td>\n    </tr>\n    <tr>\n      <th>1595</th>\n      <td>1294</td>\n      <td>Zhou Qi</td>\n      <td>NBA</td>\n      <td>2018</td>\n      <td>S</td>\n      <td>1</td>\n      <td>0</td>\n      <td>0.95</td>\n      <td>1</td>\n      <td>1</td>\n      <td>...</td>\n      <td>2</td>\n      <td>40.1</td>\n      <td>11.9</td>\n      <td>52.0</td>\n      <td>(null)</td>\n      <td>(null)</td>\n      <td>(null)</td>\n      <td>(null)</td>\n      <td>(null)</td>\n      <td>(null)</td>\n    </tr>\n    <tr>\n      <th>1596</th>\n      <td>2267</td>\n      <td>Zion Williamson</td>\n      <td>NBA</td>\n      <td>2019</td>\n      <td>S</td>\n      <td>24</td>\n      <td>24</td>\n      <td>668.12</td>\n      <td>210</td>\n      <td>360</td>\n      <td>...</td>\n      <td>540</td>\n      <td>3.5</td>\n      <td>-1.4</td>\n      <td>2.1</td>\n      <td>2.4930</td>\n      <td>-0.8400</td>\n      <td>1.6830</td>\n      <td>2.7300</td>\n      <td>0.5700</td>\n      <td>3.2900</td>\n    </tr>\n    <tr>\n      <th>1597</th>\n      <td>2267</td>\n      <td>Zion Williamson</td>\n      <td>NBA</td>\n      <td>2020</td>\n      <td>S</td>\n      <td>61</td>\n      <td>61</td>\n      <td>2025.77</td>\n      <td>634</td>\n      <td>1037</td>\n      <td>...</td>\n      <td>1647</td>\n      <td>5.8</td>\n      <td>-0.4</td>\n      <td>5.4</td>\n      <td>4.3960</td>\n      <td>0.1590</td>\n      <td>4.3960</td>\n      <td>1.0700</td>\n      <td>2.1300</td>\n      <td>3.2000</td>\n    </tr>\n    <tr>\n      <th>1598</th>\n      <td>3352</td>\n      <td>Zylan Cheatham</td>\n      <td>NBA</td>\n      <td>2019</td>\n      <td>S</td>\n      <td>4</td>\n      <td>0</td>\n      <td>51.04</td>\n      <td>6</td>\n      <td>9</td>\n      <td>...</td>\n      <td>12</td>\n      <td>-6.5</td>\n      <td>-0.6</td>\n      <td>-7.1</td>\n      <td>-2.7190</td>\n      <td>-2.0100</td>\n      <td>-4.7900</td>\n      <td>-1.8700</td>\n      <td>-0.3900</td>\n      <td>-2.2600</td>\n    </tr>\n  </tbody>\n</table>\n<p>1599 rows × 40 columns</p>\n</div>"
     },
     "metadata": {}
    }
   ],
   "execution_count": null
  },
  {
   "cell_type": "code",
   "metadata": {
    "deepnote_table_invalid": false,
    "deepnote_table_loading": false,
    "deepnote_table_state": {
     "pageSize": 10,
     "pageIndex": 1,
     "filters": [],
     "sortBy": [
      {
       "id": "SeasonYear",
       "type": "desc"
      }
     ]
    },
    "deepnote_to_be_reexecuted": false,
    "execution_millis": 14287,
    "execution_start": 1651808975979,
    "source_hash": "b52ecdae",
    "tags": [],
    "cell_id": "00002-8e220a89-c0ca-4541-a35a-cd6621dbc5a0",
    "deepnote_cell_type": "code",
    "deepnote_cell_height": 650
   },
   "source": "play_by_play = pd.read_csv('PlayByPlay.csv')\nplay_by_play",
   "outputs": [
    {
     "output_type": "execute_result",
     "execution_count": 3,
     "data": {
      "application/vnd.deepnote.dataframe.v3+json": {
       "column_count": 44,
       "row_count": 2038400,
       "columns": [
        {
         "name": "GameId",
         "dtype": "int64"
        },
        {
         "name": "GameDate_Only",
         "dtype": "object"
        },
        {
         "name": "SeasonYear",
         "dtype": "int64"
        },
        {
         "name": "PlayByPlayId",
         "dtype": "int64"
        },
        {
         "name": "EventNumber",
         "dtype": "int64"
        },
        {
         "name": "Period",
         "dtype": "int64"
        },
        {
         "name": "GameClock_Minutes",
         "dtype": "int64"
        },
        {
         "name": "GameClock_Seconds",
         "dtype": "int64"
        },
        {
         "name": "GameClock",
         "dtype": "object"
        },
        {
         "name": "Description",
         "dtype": "object"
        },
        {
         "name": "EventTypeId",
         "dtype": "int64"
        },
        {
         "name": "EventType",
         "dtype": "object"
        },
        {
         "name": "ActionTypeIndex",
         "dtype": "int64"
        },
        {
         "name": "ActionTypeName",
         "dtype": "object"
        },
        {
         "name": "Points",
         "dtype": "int64"
        },
        {
         "name": "PlayLength_Seconds",
         "dtype": "int64"
        },
        {
         "name": "TeamScore_Offense",
         "dtype": "int64"
        },
        {
         "name": "TeamId_Offense",
         "dtype": "int64"
        },
        {
         "name": "TeamName_Offense",
         "dtype": "object"
        },
        {
         "name": "FloorLineupId_Offense",
         "dtype": "int64"
        },
        {
         "name": "PlayerId1_Offense",
         "dtype": "int64"
        },
        {
         "name": "PlayerName1_Offense",
         "dtype": "object"
        },
        {
         "name": "PlayerId2_Offense",
         "dtype": "int64"
        },
        {
         "name": "PlayerName2_Offense",
         "dtype": "object"
        },
        {
         "name": "PlayerId3_Offense",
         "dtype": "int64"
        },
        {
         "name": "PlayerName3_Offense",
         "dtype": "object"
        },
        {
         "name": "PlayerId4_Offense",
         "dtype": "int64"
        },
        {
         "name": "PlayerName4_Offense",
         "dtype": "object"
        },
        {
         "name": "PlayerId5_Offense",
         "dtype": "int64"
        },
        {
         "name": "PlayerName5_Offense",
         "dtype": "object"
        },
        {
         "name": "TeamScore_Defense",
         "dtype": "int64"
        },
        {
         "name": "TeamId_Defense",
         "dtype": "int64"
        },
        {
         "name": "TeamName_Defense",
         "dtype": "object"
        },
        {
         "name": "FloorLineupId_Defense",
         "dtype": "int64"
        },
        {
         "name": "PlayerId1_Defense",
         "dtype": "int64"
        },
        {
         "name": "PlayerName1_Defense",
         "dtype": "object"
        },
        {
         "name": "PlayerId2_Defense",
         "dtype": "int64"
        },
        {
         "name": "PlayerName2_Defense",
         "dtype": "object"
        },
        {
         "name": "PlayerId3_Defense",
         "dtype": "int64"
        },
        {
         "name": "PlayerName3_Defense",
         "dtype": "object"
        },
        {
         "name": "PlayerId4_Defense",
         "dtype": "int64"
        },
        {
         "name": "PlayerName4_Defense",
         "dtype": "object"
        },
        {
         "name": "PlayerId5_Defense",
         "dtype": "int64"
        },
        {
         "name": "PlayerName5_Defense",
         "dtype": "object"
        },
        {
         "name": "_deepnote_index_column",
         "dtype": "int64"
        }
       ],
       "rows": [
        {
         "GameId": 435091,
         "GameDate_Only": "2021-11-27",
         "SeasonYear": 2021,
         "PlayByPlayId": 14647039,
         "EventNumber": 160,
         "Period": 2,
         "GameClock_Minutes": 11,
         "GameClock_Seconds": 17,
         "GameClock": "11:17",
         "Description": "[BKN] Millsap Foul: Shooting (2 PF) (2 FTA) (A Smith)",
         "EventTypeId": 6,
         "EventType": "Foul",
         "ActionTypeIndex": 2,
         "ActionTypeName": "Shooting",
         "Points": 0,
         "PlayLength_Seconds": 0,
         "TeamScore_Offense": 34,
         "TeamId_Offense": 56,
         "TeamName_Offense": "Phoenix Suns",
         "FloorLineupId_Offense": 400543,
         "PlayerId1_Offense": 1374,
         "PlayerName1_Offense": "Cameron Payne",
         "PlayerId2_Offense": 654,
         "PlayerName2_Offense": "JaVale McGee",
         "PlayerId3_Offense": 1478,
         "PlayerName3_Offense": "Mikal Bridges",
         "PlayerId4_Offense": 2651,
         "PlayerName4_Offense": "Cameron Johnson",
         "PlayerId5_Offense": 1640,
         "PlayerName5_Offense": "Landry Shamet",
         "TeamScore_Defense": 20,
         "TeamId_Defense": 7,
         "TeamName_Defense": "Brooklyn Nets",
         "FloorLineupId_Defense": 411400,
         "PlayerId1_Defense": 706,
         "PlayerName1_Defense": "James Johnson",
         "PlayerId2_Defense": 1576,
         "PlayerName2_Defense": "Jevon Carter",
         "PlayerId3_Defense": 608,
         "PlayerName3_Defense": "Patty Mills",
         "PlayerId4_Defense": 627,
         "PlayerName4_Defense": "James Harden",
         "PlayerId5_Defense": 464,
         "PlayerName5_Defense": "Paul Millsap",
         "_deepnote_index_column": 1759120
        },
        {
         "GameId": 435091,
         "GameDate_Only": "2021-11-27",
         "SeasonYear": 2021,
         "PlayByPlayId": 14647040,
         "EventNumber": 162,
         "Period": 2,
         "GameClock_Minutes": 11,
         "GameClock_Seconds": 17,
         "GameClock": "11:17",
         "Description": "[PHX 35-20] McGee Free Throw 1 of 2 (5 PTS)",
         "EventTypeId": 3,
         "EventType": "Free Throw",
         "ActionTypeIndex": 11,
         "ActionTypeName": "Free Throw 1 of 2",
         "Points": 1,
         "PlayLength_Seconds": 0,
         "TeamScore_Offense": 35,
         "TeamId_Offense": 56,
         "TeamName_Offense": "Phoenix Suns",
         "FloorLineupId_Offense": 400543,
         "PlayerId1_Offense": 1374,
         "PlayerName1_Offense": "Cameron Payne",
         "PlayerId2_Offense": 654,
         "PlayerName2_Offense": "JaVale McGee",
         "PlayerId3_Offense": 1478,
         "PlayerName3_Offense": "Mikal Bridges",
         "PlayerId4_Offense": 2651,
         "PlayerName4_Offense": "Cameron Johnson",
         "PlayerId5_Offense": 1640,
         "PlayerName5_Offense": "Landry Shamet",
         "TeamScore_Defense": 20,
         "TeamId_Defense": 7,
         "TeamName_Defense": "Brooklyn Nets",
         "FloorLineupId_Defense": 411400,
         "PlayerId1_Defense": 706,
         "PlayerName1_Defense": "James Johnson",
         "PlayerId2_Defense": 1576,
         "PlayerName2_Defense": "Jevon Carter",
         "PlayerId3_Defense": 608,
         "PlayerName3_Defense": "Patty Mills",
         "PlayerId4_Defense": 627,
         "PlayerName4_Defense": "James Harden",
         "PlayerId5_Defense": 464,
         "PlayerName5_Defense": "Paul Millsap",
         "_deepnote_index_column": 1759121
        },
        {
         "GameId": 435091,
         "GameDate_Only": "2021-11-27",
         "SeasonYear": 2021,
         "PlayByPlayId": 14647042,
         "EventNumber": 164,
         "Period": 2,
         "GameClock_Minutes": 11,
         "GameClock_Seconds": 14,
         "GameClock": "11:14",
         "Description": "[BKN] Harden Rebound (Off:0 Def:3)",
         "EventTypeId": 4,
         "EventType": "Rebound",
         "ActionTypeIndex": 0,
         "ActionTypeName": "Rebound",
         "Points": 0,
         "PlayLength_Seconds": 3,
         "TeamScore_Offense": 35,
         "TeamId_Offense": 56,
         "TeamName_Offense": "Phoenix Suns",
         "FloorLineupId_Offense": 400543,
         "PlayerId1_Offense": 1374,
         "PlayerName1_Offense": "Cameron Payne",
         "PlayerId2_Offense": 654,
         "PlayerName2_Offense": "JaVale McGee",
         "PlayerId3_Offense": 1478,
         "PlayerName3_Offense": "Mikal Bridges",
         "PlayerId4_Offense": 2651,
         "PlayerName4_Offense": "Cameron Johnson",
         "PlayerId5_Offense": 1640,
         "PlayerName5_Offense": "Landry Shamet",
         "TeamScore_Defense": 20,
         "TeamId_Defense": 7,
         "TeamName_Defense": "Brooklyn Nets",
         "FloorLineupId_Defense": 411400,
         "PlayerId1_Defense": 706,
         "PlayerName1_Defense": "James Johnson",
         "PlayerId2_Defense": 1576,
         "PlayerName2_Defense": "Jevon Carter",
         "PlayerId3_Defense": 608,
         "PlayerName3_Defense": "Patty Mills",
         "PlayerId4_Defense": 627,
         "PlayerName4_Defense": "James Harden",
         "PlayerId5_Defense": 464,
         "PlayerName5_Defense": "Paul Millsap",
         "_deepnote_index_column": 1759123
        },
        {
         "GameId": 435091,
         "GameDate_Only": "2021-11-27",
         "SeasonYear": 2021,
         "PlayByPlayId": 14646466,
         "EventNumber": 142,
         "Period": 1,
         "GameClock_Minutes": 0,
         "GameClock_Seconds": 4,
         "GameClock": "0:04",
         "Description": "Stoppage: Out-of-Bounds",
         "EventTypeId": 20,
         "EventType": "Stoppage",
         "ActionTypeIndex": 3,
         "ActionTypeName": "Out of Bounds",
         "Points": 0,
         "PlayLength_Seconds": 0,
         "TeamScore_Offense": 34,
         "TeamId_Offense": 56,
         "TeamName_Offense": "Phoenix Suns",
         "FloorLineupId_Offense": 401830,
         "PlayerId1_Offense": 654,
         "PlayerName1_Offense": "JaVale McGee",
         "PlayerId2_Offense": 1374,
         "PlayerName2_Offense": "Cameron Payne",
         "PlayerId3_Offense": 1376,
         "PlayerName3_Offense": "Devin Booker",
         "PlayerId4_Offense": 1640,
         "PlayerName4_Offense": "Landry Shamet",
         "PlayerId5_Offense": 2651,
         "PlayerName5_Offense": "Cameron Johnson",
         "TeamScore_Defense": 20,
         "TeamId_Defense": 7,
         "TeamName_Defense": "Brooklyn Nets",
         "FloorLineupId_Defense": 412111,
         "PlayerId1_Defense": 464,
         "PlayerName1_Defense": "Paul Millsap",
         "PlayerId2_Defense": 1600,
         "PlayerName2_Defense": "Bruce Brown Jr.",
         "PlayerId3_Defense": 625,
         "PlayerName3_Defense": "Kevin Durant",
         "PlayerId4_Defense": 608,
         "PlayerName4_Defense": "Patty Mills",
         "PlayerId5_Defense": 114772,
         "PlayerName5_Defense": "Cam Thomas",
         "_deepnote_index_column": 1759110
        },
        {
         "GameId": 435091,
         "GameDate_Only": "2021-11-27",
         "SeasonYear": 2021,
         "PlayByPlayId": 14647043,
         "EventNumber": 165,
         "Period": 2,
         "GameClock_Minutes": 11,
         "GameClock_Seconds": 5,
         "GameClock": "11:05",
         "Description": "[BKN 22-35] Harden Driving Layup Shot: Made (2 PTS)",
         "EventTypeId": 1,
         "EventType": "Made Shot",
         "ActionTypeIndex": 6,
         "ActionTypeName": "Driving Layup Shot",
         "Points": 2,
         "PlayLength_Seconds": 9,
         "TeamScore_Offense": 22,
         "TeamId_Offense": 7,
         "TeamName_Offense": "Brooklyn Nets",
         "FloorLineupId_Offense": 411400,
         "PlayerId1_Offense": 706,
         "PlayerName1_Offense": "James Johnson",
         "PlayerId2_Offense": 1576,
         "PlayerName2_Offense": "Jevon Carter",
         "PlayerId3_Offense": 608,
         "PlayerName3_Offense": "Patty Mills",
         "PlayerId4_Offense": 627,
         "PlayerName4_Offense": "James Harden",
         "PlayerId5_Offense": 464,
         "PlayerName5_Offense": "Paul Millsap",
         "TeamScore_Defense": 35,
         "TeamId_Defense": 56,
         "TeamName_Defense": "Phoenix Suns",
         "FloorLineupId_Defense": 400543,
         "PlayerId1_Defense": 1374,
         "PlayerName1_Defense": "Cameron Payne",
         "PlayerId2_Defense": 654,
         "PlayerName2_Defense": "JaVale McGee",
         "PlayerId3_Defense": 1478,
         "PlayerName3_Defense": "Mikal Bridges",
         "PlayerId4_Defense": 2651,
         "PlayerName4_Defense": "Cameron Johnson",
         "PlayerId5_Defense": 1640,
         "PlayerName5_Defense": "Landry Shamet",
         "_deepnote_index_column": 1759124
        },
        {
         "GameId": 435091,
         "GameDate_Only": "2021-11-27",
         "SeasonYear": 2021,
         "PlayByPlayId": 14647044,
         "EventNumber": 166,
         "Period": 2,
         "GameClock_Minutes": 10,
         "GameClock_Seconds": 48,
         "GameClock": "10:48",
         "Description": "[PHX 38-22] Johnson 3pt Shot: Made (3 PTS) Assist: Payne (1 AST)",
         "EventTypeId": 1,
         "EventType": "Made Shot",
         "ActionTypeIndex": 1,
         "ActionTypeName": "Jump Shot",
         "Points": 3,
         "PlayLength_Seconds": 17,
         "TeamScore_Offense": 38,
         "TeamId_Offense": 56,
         "TeamName_Offense": "Phoenix Suns",
         "FloorLineupId_Offense": 400543,
         "PlayerId1_Offense": 1374,
         "PlayerName1_Offense": "Cameron Payne",
         "PlayerId2_Offense": 654,
         "PlayerName2_Offense": "JaVale McGee",
         "PlayerId3_Offense": 1478,
         "PlayerName3_Offense": "Mikal Bridges",
         "PlayerId4_Offense": 2651,
         "PlayerName4_Offense": "Cameron Johnson",
         "PlayerId5_Offense": 1640,
         "PlayerName5_Offense": "Landry Shamet",
         "TeamScore_Defense": 22,
         "TeamId_Defense": 7,
         "TeamName_Defense": "Brooklyn Nets",
         "FloorLineupId_Defense": 411400,
         "PlayerId1_Defense": 706,
         "PlayerName1_Defense": "James Johnson",
         "PlayerId2_Defense": 1576,
         "PlayerName2_Defense": "Jevon Carter",
         "PlayerId3_Defense": 608,
         "PlayerName3_Defense": "Patty Mills",
         "PlayerId4_Defense": 627,
         "PlayerName4_Defense": "James Harden",
         "PlayerId5_Defense": 464,
         "PlayerName5_Defense": "Paul Millsap",
         "_deepnote_index_column": 1759125
        },
        {
         "GameId": 435091,
         "GameDate_Only": "2021-11-27",
         "SeasonYear": 2021,
         "PlayByPlayId": 14647045,
         "EventNumber": 168,
         "Period": 2,
         "GameClock_Minutes": 10,
         "GameClock_Seconds": 25,
         "GameClock": "10:25",
         "Description": "[BKN] Carter Turnover : Bad Pass (1 TO) Steal:Bridges (2 ST)",
         "EventTypeId": 5,
         "EventType": "Turnover",
         "ActionTypeIndex": 1,
         "ActionTypeName": "Bad Pass",
         "Points": 0,
         "PlayLength_Seconds": 23,
         "TeamScore_Offense": 22,
         "TeamId_Offense": 7,
         "TeamName_Offense": "Brooklyn Nets",
         "FloorLineupId_Offense": 411400,
         "PlayerId1_Offense": 706,
         "PlayerName1_Offense": "James Johnson",
         "PlayerId2_Offense": 1576,
         "PlayerName2_Offense": "Jevon Carter",
         "PlayerId3_Offense": 608,
         "PlayerName3_Offense": "Patty Mills",
         "PlayerId4_Offense": 627,
         "PlayerName4_Offense": "James Harden",
         "PlayerId5_Offense": 464,
         "PlayerName5_Offense": "Paul Millsap",
         "TeamScore_Defense": 38,
         "TeamId_Defense": 56,
         "TeamName_Defense": "Phoenix Suns",
         "FloorLineupId_Defense": 400543,
         "PlayerId1_Defense": 1374,
         "PlayerName1_Defense": "Cameron Payne",
         "PlayerId2_Defense": 654,
         "PlayerName2_Defense": "JaVale McGee",
         "PlayerId3_Defense": 1478,
         "PlayerName3_Defense": "Mikal Bridges",
         "PlayerId4_Defense": 2651,
         "PlayerName4_Defense": "Cameron Johnson",
         "PlayerId5_Defense": 1640,
         "PlayerName5_Defense": "Landry Shamet",
         "_deepnote_index_column": 1759126
        },
        {
         "GameId": 435091,
         "GameDate_Only": "2021-11-27",
         "SeasonYear": 2021,
         "PlayByPlayId": 14647046,
         "EventNumber": 170,
         "Period": 2,
         "GameClock_Minutes": 10,
         "GameClock_Seconds": 21,
         "GameClock": "10:21",
         "Description": "[PHX 40-22] Bridges Running Layup Shot: Made (5 PTS)",
         "EventTypeId": 1,
         "EventType": "Made Shot",
         "ActionTypeIndex": 41,
         "ActionTypeName": "Running Layup Shot",
         "Points": 2,
         "PlayLength_Seconds": 4,
         "TeamScore_Offense": 40,
         "TeamId_Offense": 56,
         "TeamName_Offense": "Phoenix Suns",
         "FloorLineupId_Offense": 400543,
         "PlayerId1_Offense": 1374,
         "PlayerName1_Offense": "Cameron Payne",
         "PlayerId2_Offense": 654,
         "PlayerName2_Offense": "JaVale McGee",
         "PlayerId3_Offense": 1478,
         "PlayerName3_Offense": "Mikal Bridges",
         "PlayerId4_Offense": 2651,
         "PlayerName4_Offense": "Cameron Johnson",
         "PlayerId5_Offense": 1640,
         "PlayerName5_Offense": "Landry Shamet",
         "TeamScore_Defense": 22,
         "TeamId_Defense": 7,
         "TeamName_Defense": "Brooklyn Nets",
         "FloorLineupId_Defense": 411400,
         "PlayerId1_Defense": 706,
         "PlayerName1_Defense": "James Johnson",
         "PlayerId2_Defense": 1576,
         "PlayerName2_Defense": "Jevon Carter",
         "PlayerId3_Defense": 608,
         "PlayerName3_Defense": "Patty Mills",
         "PlayerId4_Defense": 627,
         "PlayerName4_Defense": "James Harden",
         "PlayerId5_Defense": 464,
         "PlayerName5_Defense": "Paul Millsap",
         "_deepnote_index_column": 1759127
        },
        {
         "GameId": 435091,
         "GameDate_Only": "2021-11-27",
         "SeasonYear": 2021,
         "PlayByPlayId": 14647047,
         "EventNumber": 171,
         "Period": 2,
         "GameClock_Minutes": 10,
         "GameClock_Seconds": 6,
         "GameClock": "10:06",
         "Description": "[BKN] Harden Floating Jump shot: Missed",
         "EventTypeId": 2,
         "EventType": "Missed Shot",
         "ActionTypeIndex": 78,
         "ActionTypeName": "Floating Jump shot",
         "Points": 0,
         "PlayLength_Seconds": 15,
         "TeamScore_Offense": 22,
         "TeamId_Offense": 7,
         "TeamName_Offense": "Brooklyn Nets",
         "FloorLineupId_Offense": 411400,
         "PlayerId1_Offense": 706,
         "PlayerName1_Offense": "James Johnson",
         "PlayerId2_Offense": 1576,
         "PlayerName2_Offense": "Jevon Carter",
         "PlayerId3_Offense": 608,
         "PlayerName3_Offense": "Patty Mills",
         "PlayerId4_Offense": 627,
         "PlayerName4_Offense": "James Harden",
         "PlayerId5_Offense": 464,
         "PlayerName5_Offense": "Paul Millsap",
         "TeamScore_Defense": 40,
         "TeamId_Defense": 56,
         "TeamName_Defense": "Phoenix Suns",
         "FloorLineupId_Defense": 400543,
         "PlayerId1_Defense": 1374,
         "PlayerName1_Defense": "Cameron Payne",
         "PlayerId2_Defense": 654,
         "PlayerName2_Defense": "JaVale McGee",
         "PlayerId3_Defense": 1478,
         "PlayerName3_Defense": "Mikal Bridges",
         "PlayerId4_Defense": 2651,
         "PlayerName4_Defense": "Cameron Johnson",
         "PlayerId5_Defense": 1640,
         "PlayerName5_Defense": "Landry Shamet",
         "_deepnote_index_column": 1759128
        },
        {
         "GameId": 435091,
         "GameDate_Only": "2021-11-27",
         "SeasonYear": 2021,
         "PlayByPlayId": 14647048,
         "EventNumber": 172,
         "Period": 2,
         "GameClock_Minutes": 10,
         "GameClock_Seconds": 6,
         "GameClock": "10:06",
         "Description": "[BKN] Team Rebound",
         "EventTypeId": 4,
         "EventType": "Rebound",
         "ActionTypeIndex": 0,
         "ActionTypeName": "Rebound",
         "Points": 0,
         "PlayLength_Seconds": 0,
         "TeamScore_Offense": 22,
         "TeamId_Offense": 7,
         "TeamName_Offense": "Brooklyn Nets",
         "FloorLineupId_Offense": 411400,
         "PlayerId1_Offense": 706,
         "PlayerName1_Offense": "James Johnson",
         "PlayerId2_Offense": 1576,
         "PlayerName2_Offense": "Jevon Carter",
         "PlayerId3_Offense": 608,
         "PlayerName3_Offense": "Patty Mills",
         "PlayerId4_Offense": 627,
         "PlayerName4_Offense": "James Harden",
         "PlayerId5_Offense": 464,
         "PlayerName5_Offense": "Paul Millsap",
         "TeamScore_Defense": 40,
         "TeamId_Defense": 56,
         "TeamName_Defense": "Phoenix Suns",
         "FloorLineupId_Defense": 400543,
         "PlayerId1_Defense": 1374,
         "PlayerName1_Defense": "Cameron Payne",
         "PlayerId2_Defense": 654,
         "PlayerName2_Defense": "JaVale McGee",
         "PlayerId3_Defense": 1478,
         "PlayerName3_Defense": "Mikal Bridges",
         "PlayerId4_Defense": 2651,
         "PlayerName4_Defense": "Cameron Johnson",
         "PlayerId5_Defense": 1640,
         "PlayerName5_Defense": "Landry Shamet",
         "_deepnote_index_column": 1759129
        }
       ]
      },
      "text/plain": "         GameId GameDate_Only  SeasonYear  PlayByPlayId  EventNumber  Period  \\\n0         63864    2018-10-16        2018         79300            4       1   \n1         63864    2018-10-16        2018         79301            7       1   \n2         63864    2018-10-16        2018         79302            8       1   \n3         63864    2018-10-16        2018         79303            9       1   \n4         63864    2018-10-16        2018         79304           10       1   \n...         ...           ...         ...           ...          ...     ...   \n2038395  435685    2022-02-17        2021      16627333          647       4   \n2038396  435685    2022-02-17        2021      16627334          648       4   \n2038397  435685    2022-02-17        2021      16627335          650       4   \n2038398  435685    2022-02-17        2021      16627336          652       4   \n2038399  435685    2022-02-17        2021      16627337          654       4   \n\n         GameClock_Minutes  GameClock_Seconds GameClock  \\\n0                       12                  0     12:00   \n1                       11                 40     11:40   \n2                       11                 40     11:40   \n3                       11                 18     11:18   \n4                       11                 15     11:15   \n...                    ...                ...       ...   \n2038395                  1                  1      1:01   \n2038396                  0                 50      0:50   \n2038397                  0                 27      0:27   \n2038398                  0                 16      0:16   \n2038399                  0                  0      0:00   \n\n                                               Description  ...  \\\n0        Jump Ball Embiid vs Horford (Simmons gains pos...  ...   \n1                         [PHI] Covington 3pt Shot: Missed  ...   \n2                                       [BOS] Team Rebound  ...   \n3                                  Stoppage: Out-of-Bounds  ...   \n4                             [BOS] Tatum 3pt Shot: Missed  ...   \n...                                                    ...  ...   \n2038395  [LAC 140-106] Hartenstein Free Throw 2 of 2 (1...  ...   \n2038396  [HOU 108-140] Fernando Layup Shot: Made (10 PT...  ...   \n2038397  [LAC 142-108] Hartenstein Cutting Dunk Shot: M...  ...   \n2038398  [HOU 111-142] Martin Jr. 3pt Shot: Made (12 PT...  ...   \n2038399                                         End Period  ...   \n\n         PlayerId1_Defense PlayerName1_Defense  PlayerId2_Defense  \\\n0                      642      Gordon Hayward               1088   \n1                      642      Gordon Hayward               1088   \n2                      642      Gordon Hayward               1088   \n3                     1627      Markelle Fultz               1358   \n4                     1627      Markelle Fultz               1358   \n...                    ...                 ...                ...   \n2038395               1519         David Nwaba               5149   \n2038396               1209         Rodney Hood               1325   \n2038397               1519         David Nwaba               5149   \n2038398               1209         Rodney Hood               1325   \n2038399               1519         David Nwaba               5149   \n\n        PlayerName2_Defense  PlayerId3_Defense  PlayerName3_Defense  \\\n0              Kyrie Irving               1556         Jayson Tatum   \n1              Kyrie Irving               1556         Jayson Tatum   \n2              Kyrie Irving               1556         Jayson Tatum   \n3               Ben Simmons               1068     Robert Covington   \n4               Ben Simmons               1068     Robert Covington   \n...                     ...                ...                  ...   \n2038395    Garrison Mathews             115539     Josh Christopher   \n2038396        Semi Ojeleye               1554   Isaiah Hartenstein   \n2038397    Garrison Mathews             115539     Josh Christopher   \n2038398        Semi Ojeleye               1554   Isaiah Hartenstein   \n2038399    Garrison Mathews             115539     Josh Christopher   \n\n         PlayerId4_Defense  PlayerName4_Defense PlayerId5_Defense  \\\n0                     1498         Jaylen Brown               527   \n1                     1498         Jaylen Brown               527   \n2                     1498         Jaylen Brown               527   \n3                     1253          Dario Saric              1461   \n4                     1253          Dario Saric              1461   \n...                    ...                  ...               ...   \n2038395               2253       Bruno Fernando            110715   \n2038396             116055          B.J. Boston              4515   \n2038397               2253       Bruno Fernando            110715   \n2038398             116055          B.J. Boston              4515   \n2038399               2253       Bruno Fernando            110715   \n\n         PlayerName5_Defense  \n0                 Al Horford  \n1                 Al Horford  \n2                 Al Horford  \n3                Joel Embiid  \n4                Joel Embiid  \n...                      ...  \n2038395          K.J. Martin  \n2038396          Amir Coffey  \n2038397          K.J. Martin  \n2038398          Amir Coffey  \n2038399          K.J. Martin  \n\n[2038400 rows x 44 columns]",
      "text/html": "<div>\n<style scoped>\n    .dataframe tbody tr th:only-of-type {\n        vertical-align: middle;\n    }\n\n    .dataframe tbody tr th {\n        vertical-align: top;\n    }\n\n    .dataframe thead th {\n        text-align: right;\n    }\n</style>\n<table border=\"1\" class=\"dataframe\">\n  <thead>\n    <tr style=\"text-align: right;\">\n      <th></th>\n      <th>GameId</th>\n      <th>GameDate_Only</th>\n      <th>SeasonYear</th>\n      <th>PlayByPlayId</th>\n      <th>EventNumber</th>\n      <th>Period</th>\n      <th>GameClock_Minutes</th>\n      <th>GameClock_Seconds</th>\n      <th>GameClock</th>\n      <th>Description</th>\n      <th>...</th>\n      <th>PlayerId1_Defense</th>\n      <th>PlayerName1_Defense</th>\n      <th>PlayerId2_Defense</th>\n      <th>PlayerName2_Defense</th>\n      <th>PlayerId3_Defense</th>\n      <th>PlayerName3_Defense</th>\n      <th>PlayerId4_Defense</th>\n      <th>PlayerName4_Defense</th>\n      <th>PlayerId5_Defense</th>\n      <th>PlayerName5_Defense</th>\n    </tr>\n  </thead>\n  <tbody>\n    <tr>\n      <th>0</th>\n      <td>63864</td>\n      <td>2018-10-16</td>\n      <td>2018</td>\n      <td>79300</td>\n      <td>4</td>\n      <td>1</td>\n      <td>12</td>\n      <td>0</td>\n      <td>12:00</td>\n      <td>Jump Ball Embiid vs Horford (Simmons gains pos...</td>\n      <td>...</td>\n      <td>642</td>\n      <td>Gordon Hayward</td>\n      <td>1088</td>\n      <td>Kyrie Irving</td>\n      <td>1556</td>\n      <td>Jayson Tatum</td>\n      <td>1498</td>\n      <td>Jaylen Brown</td>\n      <td>527</td>\n      <td>Al Horford</td>\n    </tr>\n    <tr>\n      <th>1</th>\n      <td>63864</td>\n      <td>2018-10-16</td>\n      <td>2018</td>\n      <td>79301</td>\n      <td>7</td>\n      <td>1</td>\n      <td>11</td>\n      <td>40</td>\n      <td>11:40</td>\n      <td>[PHI] Covington 3pt Shot: Missed</td>\n      <td>...</td>\n      <td>642</td>\n      <td>Gordon Hayward</td>\n      <td>1088</td>\n      <td>Kyrie Irving</td>\n      <td>1556</td>\n      <td>Jayson Tatum</td>\n      <td>1498</td>\n      <td>Jaylen Brown</td>\n      <td>527</td>\n      <td>Al Horford</td>\n    </tr>\n    <tr>\n      <th>2</th>\n      <td>63864</td>\n      <td>2018-10-16</td>\n      <td>2018</td>\n      <td>79302</td>\n      <td>8</td>\n      <td>1</td>\n      <td>11</td>\n      <td>40</td>\n      <td>11:40</td>\n      <td>[BOS] Team Rebound</td>\n      <td>...</td>\n      <td>642</td>\n      <td>Gordon Hayward</td>\n      <td>1088</td>\n      <td>Kyrie Irving</td>\n      <td>1556</td>\n      <td>Jayson Tatum</td>\n      <td>1498</td>\n      <td>Jaylen Brown</td>\n      <td>527</td>\n      <td>Al Horford</td>\n    </tr>\n    <tr>\n      <th>3</th>\n      <td>63864</td>\n      <td>2018-10-16</td>\n      <td>2018</td>\n      <td>79303</td>\n      <td>9</td>\n      <td>1</td>\n      <td>11</td>\n      <td>18</td>\n      <td>11:18</td>\n      <td>Stoppage: Out-of-Bounds</td>\n      <td>...</td>\n      <td>1627</td>\n      <td>Markelle Fultz</td>\n      <td>1358</td>\n      <td>Ben Simmons</td>\n      <td>1068</td>\n      <td>Robert Covington</td>\n      <td>1253</td>\n      <td>Dario Saric</td>\n      <td>1461</td>\n      <td>Joel Embiid</td>\n    </tr>\n    <tr>\n      <th>4</th>\n      <td>63864</td>\n      <td>2018-10-16</td>\n      <td>2018</td>\n      <td>79304</td>\n      <td>10</td>\n      <td>1</td>\n      <td>11</td>\n      <td>15</td>\n      <td>11:15</td>\n      <td>[BOS] Tatum 3pt Shot: Missed</td>\n      <td>...</td>\n      <td>1627</td>\n      <td>Markelle Fultz</td>\n      <td>1358</td>\n      <td>Ben Simmons</td>\n      <td>1068</td>\n      <td>Robert Covington</td>\n      <td>1253</td>\n      <td>Dario Saric</td>\n      <td>1461</td>\n      <td>Joel Embiid</td>\n    </tr>\n    <tr>\n      <th>...</th>\n      <td>...</td>\n      <td>...</td>\n      <td>...</td>\n      <td>...</td>\n      <td>...</td>\n      <td>...</td>\n      <td>...</td>\n      <td>...</td>\n      <td>...</td>\n      <td>...</td>\n      <td>...</td>\n      <td>...</td>\n      <td>...</td>\n      <td>...</td>\n      <td>...</td>\n      <td>...</td>\n      <td>...</td>\n      <td>...</td>\n      <td>...</td>\n      <td>...</td>\n      <td>...</td>\n    </tr>\n    <tr>\n      <th>2038395</th>\n      <td>435685</td>\n      <td>2022-02-17</td>\n      <td>2021</td>\n      <td>16627333</td>\n      <td>647</td>\n      <td>4</td>\n      <td>1</td>\n      <td>1</td>\n      <td>1:01</td>\n      <td>[LAC 140-106] Hartenstein Free Throw 2 of 2 (1...</td>\n      <td>...</td>\n      <td>1519</td>\n      <td>David Nwaba</td>\n      <td>5149</td>\n      <td>Garrison Mathews</td>\n      <td>115539</td>\n      <td>Josh Christopher</td>\n      <td>2253</td>\n      <td>Bruno Fernando</td>\n      <td>110715</td>\n      <td>K.J. Martin</td>\n    </tr>\n    <tr>\n      <th>2038396</th>\n      <td>435685</td>\n      <td>2022-02-17</td>\n      <td>2021</td>\n      <td>16627334</td>\n      <td>648</td>\n      <td>4</td>\n      <td>0</td>\n      <td>50</td>\n      <td>0:50</td>\n      <td>[HOU 108-140] Fernando Layup Shot: Made (10 PT...</td>\n      <td>...</td>\n      <td>1209</td>\n      <td>Rodney Hood</td>\n      <td>1325</td>\n      <td>Semi Ojeleye</td>\n      <td>1554</td>\n      <td>Isaiah Hartenstein</td>\n      <td>116055</td>\n      <td>B.J. Boston</td>\n      <td>4515</td>\n      <td>Amir Coffey</td>\n    </tr>\n    <tr>\n      <th>2038397</th>\n      <td>435685</td>\n      <td>2022-02-17</td>\n      <td>2021</td>\n      <td>16627335</td>\n      <td>650</td>\n      <td>4</td>\n      <td>0</td>\n      <td>27</td>\n      <td>0:27</td>\n      <td>[LAC 142-108] Hartenstein Cutting Dunk Shot: M...</td>\n      <td>...</td>\n      <td>1519</td>\n      <td>David Nwaba</td>\n      <td>5149</td>\n      <td>Garrison Mathews</td>\n      <td>115539</td>\n      <td>Josh Christopher</td>\n      <td>2253</td>\n      <td>Bruno Fernando</td>\n      <td>110715</td>\n      <td>K.J. Martin</td>\n    </tr>\n    <tr>\n      <th>2038398</th>\n      <td>435685</td>\n      <td>2022-02-17</td>\n      <td>2021</td>\n      <td>16627336</td>\n      <td>652</td>\n      <td>4</td>\n      <td>0</td>\n      <td>16</td>\n      <td>0:16</td>\n      <td>[HOU 111-142] Martin Jr. 3pt Shot: Made (12 PT...</td>\n      <td>...</td>\n      <td>1209</td>\n      <td>Rodney Hood</td>\n      <td>1325</td>\n      <td>Semi Ojeleye</td>\n      <td>1554</td>\n      <td>Isaiah Hartenstein</td>\n      <td>116055</td>\n      <td>B.J. Boston</td>\n      <td>4515</td>\n      <td>Amir Coffey</td>\n    </tr>\n    <tr>\n      <th>2038399</th>\n      <td>435685</td>\n      <td>2022-02-17</td>\n      <td>2021</td>\n      <td>16627337</td>\n      <td>654</td>\n      <td>4</td>\n      <td>0</td>\n      <td>0</td>\n      <td>0:00</td>\n      <td>End Period</td>\n      <td>...</td>\n      <td>1519</td>\n      <td>David Nwaba</td>\n      <td>5149</td>\n      <td>Garrison Mathews</td>\n      <td>115539</td>\n      <td>Josh Christopher</td>\n      <td>2253</td>\n      <td>Bruno Fernando</td>\n      <td>110715</td>\n      <td>K.J. Martin</td>\n    </tr>\n  </tbody>\n</table>\n<p>2038400 rows × 44 columns</p>\n</div>"
     },
     "metadata": {}
    }
   ],
   "execution_count": null
  },
  {
   "cell_type": "code",
   "metadata": {
    "deepnote_to_be_reexecuted": false,
    "execution_millis": 7,
    "execution_start": 1651808990268,
    "source_hash": "9606b6e7",
    "tags": [],
    "cell_id": "00003-a7caabfe-42b5-4363-848a-c627aedf11f3",
    "deepnote_cell_type": "code",
    "deepnote_cell_height": 367.734375,
    "deepnote_output_heights": [
     270.734375
    ]
   },
   "source": "play_by_play.columns",
   "outputs": [
    {
     "output_type": "execute_result",
     "execution_count": 4,
     "data": {
      "text/plain": "Index(['GameId', 'GameDate_Only', 'SeasonYear', 'PlayByPlayId', 'EventNumber',\n       'Period', 'GameClock_Minutes', 'GameClock_Seconds', 'GameClock',\n       'Description', 'EventTypeId', 'EventType', 'ActionTypeIndex',\n       'ActionTypeName', 'Points', 'PlayLength_Seconds', 'TeamScore_Offense',\n       'TeamId_Offense', 'TeamName_Offense', 'FloorLineupId_Offense',\n       'PlayerId1_Offense', 'PlayerName1_Offense', 'PlayerId2_Offense',\n       'PlayerName2_Offense', 'PlayerId3_Offense', 'PlayerName3_Offense',\n       'PlayerId4_Offense', 'PlayerName4_Offense', 'PlayerId5_Offense',\n       'PlayerName5_Offense', 'TeamScore_Defense', 'TeamId_Defense',\n       'TeamName_Defense', 'FloorLineupId_Defense', 'PlayerId1_Defense',\n       'PlayerName1_Defense', 'PlayerId2_Defense', 'PlayerName2_Defense',\n       'PlayerId3_Defense', 'PlayerName3_Defense', 'PlayerId4_Defense',\n       'PlayerName4_Defense', 'PlayerId5_Defense', 'PlayerName5_Defense'],\n      dtype='object')"
     },
     "metadata": {}
    }
   ],
   "execution_count": null
  },
  {
   "cell_type": "code",
   "metadata": {
    "deepnote_table_loading": false,
    "deepnote_table_state": {
     "filters": [],
     "pageIndex": 0,
     "pageSize": 10,
     "sortBy": []
    },
    "deepnote_to_be_reexecuted": false,
    "execution_millis": 64650,
    "execution_start": 1651808990276,
    "source_hash": "cfdd084e",
    "tags": [],
    "cell_id": "00004-29ae83bc-f353-44eb-a330-dee535eddcb0",
    "deepnote_cell_type": "code",
    "deepnote_cell_height": 978
   },
   "source": "# only look at 2018 to make dataframe way smaller, delete this later\nplay_by_play = play_by_play[play_by_play['SeasonYear'] != 2021]\n\ncols = ['GameId', 'SeasonYear', 'PlayByPlayId', 'EventNumber',\n       'Period', 'GameClock', 'Description', 'EventTypeId', 'EventType', 'ActionTypeIndex',\n       'ActionTypeName', 'Points', 'PlayLength_Seconds', 'TeamScore_Offense',\n       'TeamId_Offense', 'TeamName_Offense', 'FloorLineupId_Offense',  'TeamId_Defense',\n       'TeamName_Defense', 'FloorLineupId_Defense',  'PlayerId1_Offense', \n       'PlayerName1_Offense', 'PlayerName2_Offense', 'PlayerName3_Offense', 'PlayerName4_Offense','PlayerName5_Offense'\n       ]\nplay_by_play = play_by_play[cols]\n\n# combine offensive players into single col\nplay_by_play['Players'] = play_by_play.iloc[:, -5:].agg(', '.join, axis=1)\ncols2 = ['GameId', 'SeasonYear', 'PlayByPlayId', 'EventNumber',\n       'Period', 'GameClock', 'Description', 'EventTypeId', 'EventType', 'ActionTypeIndex',\n       'ActionTypeName', 'Points', 'PlayLength_Seconds', 'TeamScore_Offense',\n       'TeamId_Offense', 'TeamName_Offense', 'FloorLineupId_Offense',  'TeamId_Defense',\n       'TeamName_Defense', 'FloorLineupId_Defense', 'Players']\nplay_by_play = play_by_play[cols2]\n\nplay_by_play",
   "outputs": [
    {
     "output_type": "execute_result",
     "execution_count": 5,
     "data": {
      "application/vnd.deepnote.dataframe.v3+json": {
       "column_count": 21,
       "row_count": 1619478,
       "columns": [
        {
         "name": "GameId",
         "dtype": "int64"
        },
        {
         "name": "SeasonYear",
         "dtype": "int64"
        },
        {
         "name": "PlayByPlayId",
         "dtype": "int64"
        },
        {
         "name": "EventNumber",
         "dtype": "int64"
        },
        {
         "name": "Period",
         "dtype": "int64"
        },
        {
         "name": "GameClock",
         "dtype": "object"
        },
        {
         "name": "Description",
         "dtype": "object"
        },
        {
         "name": "EventTypeId",
         "dtype": "int64"
        },
        {
         "name": "EventType",
         "dtype": "object"
        },
        {
         "name": "ActionTypeIndex",
         "dtype": "int64"
        },
        {
         "name": "ActionTypeName",
         "dtype": "object"
        },
        {
         "name": "Points",
         "dtype": "int64"
        },
        {
         "name": "PlayLength_Seconds",
         "dtype": "int64"
        },
        {
         "name": "TeamScore_Offense",
         "dtype": "int64"
        },
        {
         "name": "TeamId_Offense",
         "dtype": "int64"
        },
        {
         "name": "TeamName_Offense",
         "dtype": "object"
        },
        {
         "name": "FloorLineupId_Offense",
         "dtype": "int64"
        },
        {
         "name": "TeamId_Defense",
         "dtype": "int64"
        },
        {
         "name": "TeamName_Defense",
         "dtype": "object"
        },
        {
         "name": "FloorLineupId_Defense",
         "dtype": "int64"
        },
        {
         "name": "Players",
         "dtype": "object"
        },
        {
         "name": "_deepnote_index_column",
         "dtype": "int64"
        }
       ],
       "rows": [
        {
         "GameId": 63864,
         "SeasonYear": 2018,
         "PlayByPlayId": 79300,
         "EventNumber": 4,
         "Period": 1,
         "GameClock": "12:00",
         "Description": "Jump Ball Embiid vs Horford (Simmons gains possession)",
         "EventTypeId": 10,
         "EventType": "Jump Ball",
         "ActionTypeIndex": 0,
         "ActionTypeName": "Jump Ball",
         "Points": 0,
         "PlayLength_Seconds": 0,
         "TeamScore_Offense": 0,
         "TeamId_Offense": 54,
         "TeamName_Offense": "Philadelphia 76ers",
         "FloorLineupId_Offense": 3234,
         "TeamId_Defense": 5,
         "TeamName_Defense": "Boston Celtics",
         "FloorLineupId_Defense": 3242,
         "Players": "Markelle Fultz, Ben Simmons, Robert Covington, Dario Saric, Joel Embiid",
         "_deepnote_index_column": 0
        },
        {
         "GameId": 63864,
         "SeasonYear": 2018,
         "PlayByPlayId": 79301,
         "EventNumber": 7,
         "Period": 1,
         "GameClock": "11:40",
         "Description": "[PHI] Covington 3pt Shot: Missed",
         "EventTypeId": 2,
         "EventType": "Missed Shot",
         "ActionTypeIndex": 1,
         "ActionTypeName": "Jump Shot",
         "Points": 0,
         "PlayLength_Seconds": 20,
         "TeamScore_Offense": 0,
         "TeamId_Offense": 54,
         "TeamName_Offense": "Philadelphia 76ers",
         "FloorLineupId_Offense": 3234,
         "TeamId_Defense": 5,
         "TeamName_Defense": "Boston Celtics",
         "FloorLineupId_Defense": 3242,
         "Players": "Markelle Fultz, Ben Simmons, Robert Covington, Dario Saric, Joel Embiid",
         "_deepnote_index_column": 1
        },
        {
         "GameId": 63864,
         "SeasonYear": 2018,
         "PlayByPlayId": 79302,
         "EventNumber": 8,
         "Period": 1,
         "GameClock": "11:40",
         "Description": "[BOS] Team Rebound",
         "EventTypeId": 4,
         "EventType": "Rebound",
         "ActionTypeIndex": 0,
         "ActionTypeName": "Rebound",
         "Points": 0,
         "PlayLength_Seconds": 0,
         "TeamScore_Offense": 0,
         "TeamId_Offense": 54,
         "TeamName_Offense": "Philadelphia 76ers",
         "FloorLineupId_Offense": 3234,
         "TeamId_Defense": 5,
         "TeamName_Defense": "Boston Celtics",
         "FloorLineupId_Defense": 3242,
         "Players": "Markelle Fultz, Ben Simmons, Robert Covington, Dario Saric, Joel Embiid",
         "_deepnote_index_column": 2
        },
        {
         "GameId": 63864,
         "SeasonYear": 2018,
         "PlayByPlayId": 79303,
         "EventNumber": 9,
         "Period": 1,
         "GameClock": "11:18",
         "Description": "Stoppage: Out-of-Bounds",
         "EventTypeId": 20,
         "EventType": "Stoppage",
         "ActionTypeIndex": 3,
         "ActionTypeName": "Out of Bounds",
         "Points": 0,
         "PlayLength_Seconds": 22,
         "TeamScore_Offense": 0,
         "TeamId_Offense": 5,
         "TeamName_Offense": "Boston Celtics",
         "FloorLineupId_Offense": 3242,
         "TeamId_Defense": 54,
         "TeamName_Defense": "Philadelphia 76ers",
         "FloorLineupId_Defense": 3234,
         "Players": "Gordon Hayward, Kyrie Irving, Jayson Tatum, Jaylen Brown, Al Horford",
         "_deepnote_index_column": 3
        },
        {
         "GameId": 63864,
         "SeasonYear": 2018,
         "PlayByPlayId": 79304,
         "EventNumber": 10,
         "Period": 1,
         "GameClock": "11:15",
         "Description": "[BOS] Tatum 3pt Shot: Missed",
         "EventTypeId": 2,
         "EventType": "Missed Shot",
         "ActionTypeIndex": 1,
         "ActionTypeName": "Jump Shot",
         "Points": 0,
         "PlayLength_Seconds": 3,
         "TeamScore_Offense": 0,
         "TeamId_Offense": 5,
         "TeamName_Offense": "Boston Celtics",
         "FloorLineupId_Offense": 3242,
         "TeamId_Defense": 54,
         "TeamName_Defense": "Philadelphia 76ers",
         "FloorLineupId_Defense": 3234,
         "Players": "Gordon Hayward, Kyrie Irving, Jayson Tatum, Jaylen Brown, Al Horford",
         "_deepnote_index_column": 4
        },
        {
         "GameId": 63864,
         "SeasonYear": 2018,
         "PlayByPlayId": 79305,
         "EventNumber": 11,
         "Period": 1,
         "GameClock": "11:13",
         "Description": "[PHI] Saric Rebound (Off:0 Def:1)",
         "EventTypeId": 4,
         "EventType": "Rebound",
         "ActionTypeIndex": 0,
         "ActionTypeName": "Rebound",
         "Points": 0,
         "PlayLength_Seconds": 2,
         "TeamScore_Offense": 0,
         "TeamId_Offense": 5,
         "TeamName_Offense": "Boston Celtics",
         "FloorLineupId_Offense": 3242,
         "TeamId_Defense": 54,
         "TeamName_Defense": "Philadelphia 76ers",
         "FloorLineupId_Defense": 3234,
         "Players": "Gordon Hayward, Kyrie Irving, Jayson Tatum, Jaylen Brown, Al Horford",
         "_deepnote_index_column": 5
        },
        {
         "GameId": 63864,
         "SeasonYear": 2018,
         "PlayByPlayId": 79306,
         "EventNumber": 12,
         "Period": 1,
         "GameClock": "11:08",
         "Description": "[PHI] Simmons Turnover : Bad Pass (1 TO) Steal:Hayward (1 ST)",
         "EventTypeId": 5,
         "EventType": "Turnover",
         "ActionTypeIndex": 1,
         "ActionTypeName": "Bad Pass",
         "Points": 0,
         "PlayLength_Seconds": 5,
         "TeamScore_Offense": 0,
         "TeamId_Offense": 54,
         "TeamName_Offense": "Philadelphia 76ers",
         "FloorLineupId_Offense": 3234,
         "TeamId_Defense": 5,
         "TeamName_Defense": "Boston Celtics",
         "FloorLineupId_Defense": 3242,
         "Players": "Markelle Fultz, Ben Simmons, Robert Covington, Dario Saric, Joel Embiid",
         "_deepnote_index_column": 6
        },
        {
         "GameId": 63864,
         "SeasonYear": 2018,
         "PlayByPlayId": 79307,
         "EventNumber": 14,
         "Period": 1,
         "GameClock": "11:03",
         "Description": "[BOS] Brown Running Layup Shot: Missed",
         "EventTypeId": 2,
         "EventType": "Missed Shot",
         "ActionTypeIndex": 41,
         "ActionTypeName": "Running Layup Shot",
         "Points": 0,
         "PlayLength_Seconds": 5,
         "TeamScore_Offense": 0,
         "TeamId_Offense": 5,
         "TeamName_Offense": "Boston Celtics",
         "FloorLineupId_Offense": 3242,
         "TeamId_Defense": 54,
         "TeamName_Defense": "Philadelphia 76ers",
         "FloorLineupId_Defense": 3234,
         "Players": "Gordon Hayward, Kyrie Irving, Jayson Tatum, Jaylen Brown, Al Horford",
         "_deepnote_index_column": 7
        },
        {
         "GameId": 63864,
         "SeasonYear": 2018,
         "PlayByPlayId": 79308,
         "EventNumber": 16,
         "Period": 1,
         "GameClock": "10:58",
         "Description": "[PHI] Simmons Rebound (Off:0 Def:1)",
         "EventTypeId": 4,
         "EventType": "Rebound",
         "ActionTypeIndex": 0,
         "ActionTypeName": "Rebound",
         "Points": 0,
         "PlayLength_Seconds": 5,
         "TeamScore_Offense": 0,
         "TeamId_Offense": 5,
         "TeamName_Offense": "Boston Celtics",
         "FloorLineupId_Offense": 3242,
         "TeamId_Defense": 54,
         "TeamName_Defense": "Philadelphia 76ers",
         "FloorLineupId_Defense": 3234,
         "Players": "Gordon Hayward, Kyrie Irving, Jayson Tatum, Jaylen Brown, Al Horford",
         "_deepnote_index_column": 8
        },
        {
         "GameId": 63864,
         "SeasonYear": 2018,
         "PlayByPlayId": 79309,
         "EventNumber": 17,
         "Period": 1,
         "GameClock": "10:55",
         "Description": "[PHI 2-0] Embiid Running Layup Shot: Made (2 PTS) Assist: Simmons (1 AST)",
         "EventTypeId": 1,
         "EventType": "Made Shot",
         "ActionTypeIndex": 41,
         "ActionTypeName": "Running Layup Shot",
         "Points": 2,
         "PlayLength_Seconds": 3,
         "TeamScore_Offense": 2,
         "TeamId_Offense": 54,
         "TeamName_Offense": "Philadelphia 76ers",
         "FloorLineupId_Offense": 3234,
         "TeamId_Defense": 5,
         "TeamName_Defense": "Boston Celtics",
         "FloorLineupId_Defense": 3242,
         "Players": "Markelle Fultz, Ben Simmons, Robert Covington, Dario Saric, Joel Embiid",
         "_deepnote_index_column": 9
        }
       ]
      },
      "text/plain": "         GameId  SeasonYear  PlayByPlayId  EventNumber  Period GameClock  \\\n0         63864        2018         79300            4       1     12:00   \n1         63864        2018         79301            7       1     11:40   \n2         63864        2018         79302            8       1     11:40   \n3         63864        2018         79303            9       1     11:18   \n4         63864        2018         79304           10       1     11:15   \n...         ...         ...           ...          ...     ...       ...   \n1619473  422723        2020      13948224          678       4      0:10   \n1619474  422723        2020      13948225          679       4      0:07   \n1619475  422723        2020      13948226          681       4      0:03   \n1619476  422723        2020      13948227          682       4      0:03   \n1619477  422723        2020      13948228          683       4      0:00   \n\n                                               Description  EventTypeId  \\\n0        Jump Ball Embiid vs Horford (Simmons gains pos...           10   \n1                         [PHI] Covington 3pt Shot: Missed            2   \n2                                       [BOS] Team Rebound            4   \n3                                  Stoppage: Out-of-Bounds           20   \n4                             [BOS] Tatum 3pt Shot: Missed            2   \n...                                                    ...          ...   \n1619473      [WAS 115-110] Beal Free Throw 2 of 2 (25 PTS)            3   \n1619474  [WAS] Westbrook Foul: Personal (4 PF) (L Richa...            6   \n1619475                      [CHA] Rozier 3pt Shot: Missed            2   \n1619476                  [WAS] Smith Rebound (Off:1 Def:7)            4   \n1619477                                         End Period           13   \n\n           EventType  ActionTypeIndex  ... Points  PlayLength_Seconds  \\\n0          Jump Ball                0  ...      0                   0   \n1        Missed Shot                1  ...      0                  20   \n2            Rebound                0  ...      0                   0   \n3           Stoppage                3  ...      0                  22   \n4        Missed Shot                1  ...      0                   3   \n...              ...              ...  ...    ...                 ...   \n1619473   Free Throw               12  ...      1                   0   \n1619474         Foul                1  ...      0                   3   \n1619475  Missed Shot               79  ...      0                   4   \n1619476      Rebound                0  ...      0                   0   \n1619477   End Period                0  ...      0                   3   \n\n         TeamScore_Offense  TeamId_Offense    TeamName_Offense  \\\n0                        0              54  Philadelphia 76ers   \n1                        0              54  Philadelphia 76ers   \n2                        0              54  Philadelphia 76ers   \n3                        0               5      Boston Celtics   \n4                        0               5      Boston Celtics   \n...                    ...             ...                 ...   \n1619473                115              84  Washington Wizards   \n1619474                110              12   Charlotte Hornets   \n1619475                110              12   Charlotte Hornets   \n1619476                110              12   Charlotte Hornets   \n1619477                115              84  Washington Wizards   \n\n        FloorLineupId_Offense  TeamId_Defense    TeamName_Defense  \\\n0                        3234               5      Boston Celtics   \n1                        3234               5      Boston Celtics   \n2                        3234               5      Boston Celtics   \n3                        3242              54  Philadelphia 76ers   \n4                        3242              54  Philadelphia 76ers   \n...                       ...             ...                 ...   \n1619473                374858              12   Charlotte Hornets   \n1619474                356034              84  Washington Wizards   \n1619475                356034              84  Washington Wizards   \n1619476                356034              84  Washington Wizards   \n1619477                374858              12   Charlotte Hornets   \n\n        FloorLineupId_Defense  \\\n0                        3242   \n1                        3242   \n2                        3242   \n3                        3234   \n4                        3234   \n...                       ...   \n1619473                356034   \n1619474                374858   \n1619475                374858   \n1619476                374858   \n1619477                356034   \n\n                                                   Players  \n0        Markelle Fultz, Ben Simmons, Robert Covington,...  \n1        Markelle Fultz, Ben Simmons, Robert Covington,...  \n2        Markelle Fultz, Ben Simmons, Robert Covington,...  \n3        Gordon Hayward, Kyrie Irving, Jayson Tatum, Ja...  \n4        Gordon Hayward, Kyrie Irving, Jayson Tatum, Ja...  \n...                                                    ...  \n1619473  Anthony Gill, Russell Westbrook, Ish Smith, Ru...  \n1619474  Devonte' Graham, LaMelo Ball, Terry Rozier, Co...  \n1619475  Devonte' Graham, LaMelo Ball, Terry Rozier, Co...  \n1619476  Devonte' Graham, LaMelo Ball, Terry Rozier, Co...  \n1619477  Anthony Gill, Russell Westbrook, Ish Smith, Ru...  \n\n[1619478 rows x 21 columns]",
      "text/html": "<div>\n<style scoped>\n    .dataframe tbody tr th:only-of-type {\n        vertical-align: middle;\n    }\n\n    .dataframe tbody tr th {\n        vertical-align: top;\n    }\n\n    .dataframe thead th {\n        text-align: right;\n    }\n</style>\n<table border=\"1\" class=\"dataframe\">\n  <thead>\n    <tr style=\"text-align: right;\">\n      <th></th>\n      <th>GameId</th>\n      <th>SeasonYear</th>\n      <th>PlayByPlayId</th>\n      <th>EventNumber</th>\n      <th>Period</th>\n      <th>GameClock</th>\n      <th>Description</th>\n      <th>EventTypeId</th>\n      <th>EventType</th>\n      <th>ActionTypeIndex</th>\n      <th>...</th>\n      <th>Points</th>\n      <th>PlayLength_Seconds</th>\n      <th>TeamScore_Offense</th>\n      <th>TeamId_Offense</th>\n      <th>TeamName_Offense</th>\n      <th>FloorLineupId_Offense</th>\n      <th>TeamId_Defense</th>\n      <th>TeamName_Defense</th>\n      <th>FloorLineupId_Defense</th>\n      <th>Players</th>\n    </tr>\n  </thead>\n  <tbody>\n    <tr>\n      <th>0</th>\n      <td>63864</td>\n      <td>2018</td>\n      <td>79300</td>\n      <td>4</td>\n      <td>1</td>\n      <td>12:00</td>\n      <td>Jump Ball Embiid vs Horford (Simmons gains pos...</td>\n      <td>10</td>\n      <td>Jump Ball</td>\n      <td>0</td>\n      <td>...</td>\n      <td>0</td>\n      <td>0</td>\n      <td>0</td>\n      <td>54</td>\n      <td>Philadelphia 76ers</td>\n      <td>3234</td>\n      <td>5</td>\n      <td>Boston Celtics</td>\n      <td>3242</td>\n      <td>Markelle Fultz, Ben Simmons, Robert Covington,...</td>\n    </tr>\n    <tr>\n      <th>1</th>\n      <td>63864</td>\n      <td>2018</td>\n      <td>79301</td>\n      <td>7</td>\n      <td>1</td>\n      <td>11:40</td>\n      <td>[PHI] Covington 3pt Shot: Missed</td>\n      <td>2</td>\n      <td>Missed Shot</td>\n      <td>1</td>\n      <td>...</td>\n      <td>0</td>\n      <td>20</td>\n      <td>0</td>\n      <td>54</td>\n      <td>Philadelphia 76ers</td>\n      <td>3234</td>\n      <td>5</td>\n      <td>Boston Celtics</td>\n      <td>3242</td>\n      <td>Markelle Fultz, Ben Simmons, Robert Covington,...</td>\n    </tr>\n    <tr>\n      <th>2</th>\n      <td>63864</td>\n      <td>2018</td>\n      <td>79302</td>\n      <td>8</td>\n      <td>1</td>\n      <td>11:40</td>\n      <td>[BOS] Team Rebound</td>\n      <td>4</td>\n      <td>Rebound</td>\n      <td>0</td>\n      <td>...</td>\n      <td>0</td>\n      <td>0</td>\n      <td>0</td>\n      <td>54</td>\n      <td>Philadelphia 76ers</td>\n      <td>3234</td>\n      <td>5</td>\n      <td>Boston Celtics</td>\n      <td>3242</td>\n      <td>Markelle Fultz, Ben Simmons, Robert Covington,...</td>\n    </tr>\n    <tr>\n      <th>3</th>\n      <td>63864</td>\n      <td>2018</td>\n      <td>79303</td>\n      <td>9</td>\n      <td>1</td>\n      <td>11:18</td>\n      <td>Stoppage: Out-of-Bounds</td>\n      <td>20</td>\n      <td>Stoppage</td>\n      <td>3</td>\n      <td>...</td>\n      <td>0</td>\n      <td>22</td>\n      <td>0</td>\n      <td>5</td>\n      <td>Boston Celtics</td>\n      <td>3242</td>\n      <td>54</td>\n      <td>Philadelphia 76ers</td>\n      <td>3234</td>\n      <td>Gordon Hayward, Kyrie Irving, Jayson Tatum, Ja...</td>\n    </tr>\n    <tr>\n      <th>4</th>\n      <td>63864</td>\n      <td>2018</td>\n      <td>79304</td>\n      <td>10</td>\n      <td>1</td>\n      <td>11:15</td>\n      <td>[BOS] Tatum 3pt Shot: Missed</td>\n      <td>2</td>\n      <td>Missed Shot</td>\n      <td>1</td>\n      <td>...</td>\n      <td>0</td>\n      <td>3</td>\n      <td>0</td>\n      <td>5</td>\n      <td>Boston Celtics</td>\n      <td>3242</td>\n      <td>54</td>\n      <td>Philadelphia 76ers</td>\n      <td>3234</td>\n      <td>Gordon Hayward, Kyrie Irving, Jayson Tatum, Ja...</td>\n    </tr>\n    <tr>\n      <th>...</th>\n      <td>...</td>\n      <td>...</td>\n      <td>...</td>\n      <td>...</td>\n      <td>...</td>\n      <td>...</td>\n      <td>...</td>\n      <td>...</td>\n      <td>...</td>\n      <td>...</td>\n      <td>...</td>\n      <td>...</td>\n      <td>...</td>\n      <td>...</td>\n      <td>...</td>\n      <td>...</td>\n      <td>...</td>\n      <td>...</td>\n      <td>...</td>\n      <td>...</td>\n      <td>...</td>\n    </tr>\n    <tr>\n      <th>1619473</th>\n      <td>422723</td>\n      <td>2020</td>\n      <td>13948224</td>\n      <td>678</td>\n      <td>4</td>\n      <td>0:10</td>\n      <td>[WAS 115-110] Beal Free Throw 2 of 2 (25 PTS)</td>\n      <td>3</td>\n      <td>Free Throw</td>\n      <td>12</td>\n      <td>...</td>\n      <td>1</td>\n      <td>0</td>\n      <td>115</td>\n      <td>84</td>\n      <td>Washington Wizards</td>\n      <td>374858</td>\n      <td>12</td>\n      <td>Charlotte Hornets</td>\n      <td>356034</td>\n      <td>Anthony Gill, Russell Westbrook, Ish Smith, Ru...</td>\n    </tr>\n    <tr>\n      <th>1619474</th>\n      <td>422723</td>\n      <td>2020</td>\n      <td>13948225</td>\n      <td>679</td>\n      <td>4</td>\n      <td>0:07</td>\n      <td>[WAS] Westbrook Foul: Personal (4 PF) (L Richa...</td>\n      <td>6</td>\n      <td>Foul</td>\n      <td>1</td>\n      <td>...</td>\n      <td>0</td>\n      <td>3</td>\n      <td>110</td>\n      <td>12</td>\n      <td>Charlotte Hornets</td>\n      <td>356034</td>\n      <td>84</td>\n      <td>Washington Wizards</td>\n      <td>374858</td>\n      <td>Devonte' Graham, LaMelo Ball, Terry Rozier, Co...</td>\n    </tr>\n    <tr>\n      <th>1619475</th>\n      <td>422723</td>\n      <td>2020</td>\n      <td>13948226</td>\n      <td>681</td>\n      <td>4</td>\n      <td>0:03</td>\n      <td>[CHA] Rozier 3pt Shot: Missed</td>\n      <td>2</td>\n      <td>Missed Shot</td>\n      <td>79</td>\n      <td>...</td>\n      <td>0</td>\n      <td>4</td>\n      <td>110</td>\n      <td>12</td>\n      <td>Charlotte Hornets</td>\n      <td>356034</td>\n      <td>84</td>\n      <td>Washington Wizards</td>\n      <td>374858</td>\n      <td>Devonte' Graham, LaMelo Ball, Terry Rozier, Co...</td>\n    </tr>\n    <tr>\n      <th>1619476</th>\n      <td>422723</td>\n      <td>2020</td>\n      <td>13948227</td>\n      <td>682</td>\n      <td>4</td>\n      <td>0:03</td>\n      <td>[WAS] Smith Rebound (Off:1 Def:7)</td>\n      <td>4</td>\n      <td>Rebound</td>\n      <td>0</td>\n      <td>...</td>\n      <td>0</td>\n      <td>0</td>\n      <td>110</td>\n      <td>12</td>\n      <td>Charlotte Hornets</td>\n      <td>356034</td>\n      <td>84</td>\n      <td>Washington Wizards</td>\n      <td>374858</td>\n      <td>Devonte' Graham, LaMelo Ball, Terry Rozier, Co...</td>\n    </tr>\n    <tr>\n      <th>1619477</th>\n      <td>422723</td>\n      <td>2020</td>\n      <td>13948228</td>\n      <td>683</td>\n      <td>4</td>\n      <td>0:00</td>\n      <td>End Period</td>\n      <td>13</td>\n      <td>End Period</td>\n      <td>0</td>\n      <td>...</td>\n      <td>0</td>\n      <td>3</td>\n      <td>115</td>\n      <td>84</td>\n      <td>Washington Wizards</td>\n      <td>374858</td>\n      <td>12</td>\n      <td>Charlotte Hornets</td>\n      <td>356034</td>\n      <td>Anthony Gill, Russell Westbrook, Ish Smith, Ru...</td>\n    </tr>\n  </tbody>\n</table>\n<p>1619478 rows × 21 columns</p>\n</div>"
     },
     "metadata": {}
    }
   ],
   "execution_count": null
  },
  {
   "cell_type": "markdown",
   "source": "### Event/Action Types",
   "metadata": {
    "is_collapsed": false,
    "tags": [],
    "cell_id": "00005-8e81d7de-9734-4b7b-a23b-2fe77ac0b102",
    "deepnote_cell_type": "text-cell-h3"
   }
  },
  {
   "cell_type": "code",
   "metadata": {
    "deepnote_table_invalid": false,
    "deepnote_table_loading": false,
    "deepnote_table_state": {
     "filters": [],
     "pageIndex": 4,
     "pageSize": 10,
     "sortBy": []
    },
    "deepnote_to_be_reexecuted": false,
    "execution_millis": 1068,
    "execution_start": 1651809054939,
    "source_hash": "7d4b3a46",
    "tags": [],
    "cell_id": "00006-93bd98ba-cd1d-4727-ac15-4a97d850bd8f",
    "deepnote_cell_type": "code",
    "deepnote_cell_height": 600
   },
   "source": "play_by_play.groupby(['EventTypeId', 'ActionTypeIndex']).first()[['ActionTypeName', 'EventType']].reset_index()",
   "outputs": [
    {
     "output_type": "execute_result",
     "execution_count": 6,
     "data": {
      "application/vnd.deepnote.dataframe.v3+json": {
       "column_count": 4,
       "row_count": 186,
       "columns": [
        {
         "name": "EventTypeId",
         "dtype": "int64",
         "stats": {
          "unique_count": 15,
          "nan_count": 0,
          "min": "1",
          "max": "20",
          "histogram": [
           {
            "bin_start": 1,
            "bin_end": 2.9,
            "count": 92
           },
           {
            "bin_start": 2.9,
            "bin_end": 4.8,
            "count": 19
           },
           {
            "bin_start": 4.8,
            "bin_end": 6.699999999999999,
            "count": 48
           },
           {
            "bin_start": 6.699999999999999,
            "bin_end": 8.6,
            "count": 7
           },
           {
            "bin_start": 8.6,
            "bin_end": 10.5,
            "count": 4
           },
           {
            "bin_start": 10.5,
            "bin_end": 12.399999999999999,
            "count": 2
           },
           {
            "bin_start": 12.399999999999999,
            "bin_end": 14.299999999999999,
            "count": 1
           },
           {
            "bin_start": 14.299999999999999,
            "bin_end": 16.2,
            "count": 0
           },
           {
            "bin_start": 16.2,
            "bin_end": 18.099999999999998,
            "count": 7
           },
           {
            "bin_start": 18.099999999999998,
            "bin_end": 20,
            "count": 6
           }
          ]
         }
        },
        {
         "name": "ActionTypeIndex",
         "dtype": "int64",
         "stats": {
          "unique_count": 77,
          "nan_count": 0,
          "min": "0",
          "max": "110",
          "histogram": [
           {
            "bin_start": 0,
            "bin_end": 11,
            "count": 61
           },
           {
            "bin_start": 11,
            "bin_end": 22,
            "count": 27
           },
           {
            "bin_start": 22,
            "bin_end": 33,
            "count": 10
           },
           {
            "bin_start": 33,
            "bin_end": 44,
            "count": 12
           },
           {
            "bin_start": 44,
            "bin_end": 55,
            "count": 12
           },
           {
            "bin_start": 55,
            "bin_end": 66,
            "count": 6
           },
           {
            "bin_start": 66,
            "bin_end": 77,
            "count": 16
           },
           {
            "bin_start": 77,
            "bin_end": 88,
            "count": 10
           },
           {
            "bin_start": 88,
            "bin_end": 99,
            "count": 8
           },
           {
            "bin_start": 99,
            "bin_end": 110,
            "count": 24
           }
          ]
         }
        },
        {
         "name": "ActionTypeName",
         "dtype": "object",
         "stats": {
          "unique_count": 142,
          "nan_count": 0,
          "categories": [
           {
            "name": "Reverse Dunk Shot",
            "count": 3
           },
           {
            "name": "Jump Shot",
            "count": 2
           },
           {
            "name": "140 others",
            "count": 181
           }
          ]
         }
        },
        {
         "name": "EventType",
         "dtype": "object",
         "stats": {
          "unique_count": 15,
          "nan_count": 0,
          "categories": [
           {
            "name": "Made Shot",
            "count": 46
           },
           {
            "name": "Missed Shot",
            "count": 46
           },
           {
            "name": "13 others",
            "count": 94
           }
          ]
         }
        },
        {
         "name": "_deepnote_index_column",
         "dtype": "int64"
        }
       ],
       "rows": [
        {
         "EventTypeId": 1,
         "ActionTypeIndex": 105,
         "ActionTypeName": "Turnaround Fadeaway Bank Jump Shot",
         "EventType": "Made Shot",
         "_deepnote_index_column": 40
        },
        {
         "EventTypeId": 1,
         "ActionTypeIndex": 106,
         "ActionTypeName": "Running Alley Oop Dunk Shot",
         "EventType": "Made Shot",
         "_deepnote_index_column": 41
        },
        {
         "EventTypeId": 1,
         "ActionTypeIndex": 107,
         "ActionTypeName": "Green Tip Dunk Shot",
         "EventType": "Made Shot",
         "_deepnote_index_column": 42
        },
        {
         "EventTypeId": 1,
         "ActionTypeIndex": 108,
         "ActionTypeName": "Cutting Dunk Shot",
         "EventType": "Made Shot",
         "_deepnote_index_column": 43
        },
        {
         "EventTypeId": 1,
         "ActionTypeIndex": 109,
         "ActionTypeName": "Driving Reverse Dunk Shot",
         "EventType": "Made Shot",
         "_deepnote_index_column": 44
        },
        {
         "EventTypeId": 1,
         "ActionTypeIndex": 110,
         "ActionTypeName": "Reverse Dunk Shot",
         "EventType": "Made Shot",
         "_deepnote_index_column": 45
        },
        {
         "EventTypeId": 2,
         "ActionTypeIndex": 1,
         "ActionTypeName": "Jump Shot",
         "EventType": "Missed Shot",
         "_deepnote_index_column": 46
        },
        {
         "EventTypeId": 2,
         "ActionTypeIndex": 2,
         "ActionTypeName": "Running Jump Shot",
         "EventType": "Missed Shot",
         "_deepnote_index_column": 47
        },
        {
         "EventTypeId": 2,
         "ActionTypeIndex": 3,
         "ActionTypeName": "Hook Shot",
         "EventType": "Missed Shot",
         "_deepnote_index_column": 48
        },
        {
         "EventTypeId": 2,
         "ActionTypeIndex": 5,
         "ActionTypeName": "Layup Shot",
         "EventType": "Missed Shot",
         "_deepnote_index_column": 49
        }
       ]
      },
      "text/plain": "     EventTypeId  ActionTypeIndex         ActionTypeName  EventType\n0              1                1              Jump Shot  Made Shot\n1              1                2      Running Jump Shot  Made Shot\n2              1                3              Hook Shot  Made Shot\n3              1                5             Layup Shot  Made Shot\n4              1                6     Driving Layup Shot  Made Shot\n..           ...              ...                    ...        ...\n181           20                2                 Injury   Stoppage\n182           20                3          Out of Bounds   Stoppage\n183           20                4          Court cleanup   Stoppage\n184           20                5  Equipment malfunction   Stoppage\n185           20                6   Stoppage: Blood Rule   Stoppage\n\n[186 rows x 4 columns]",
      "text/html": "<div>\n<style scoped>\n    .dataframe tbody tr th:only-of-type {\n        vertical-align: middle;\n    }\n\n    .dataframe tbody tr th {\n        vertical-align: top;\n    }\n\n    .dataframe thead th {\n        text-align: right;\n    }\n</style>\n<table border=\"1\" class=\"dataframe\">\n  <thead>\n    <tr style=\"text-align: right;\">\n      <th></th>\n      <th>EventTypeId</th>\n      <th>ActionTypeIndex</th>\n      <th>ActionTypeName</th>\n      <th>EventType</th>\n    </tr>\n  </thead>\n  <tbody>\n    <tr>\n      <th>0</th>\n      <td>1</td>\n      <td>1</td>\n      <td>Jump Shot</td>\n      <td>Made Shot</td>\n    </tr>\n    <tr>\n      <th>1</th>\n      <td>1</td>\n      <td>2</td>\n      <td>Running Jump Shot</td>\n      <td>Made Shot</td>\n    </tr>\n    <tr>\n      <th>2</th>\n      <td>1</td>\n      <td>3</td>\n      <td>Hook Shot</td>\n      <td>Made Shot</td>\n    </tr>\n    <tr>\n      <th>3</th>\n      <td>1</td>\n      <td>5</td>\n      <td>Layup Shot</td>\n      <td>Made Shot</td>\n    </tr>\n    <tr>\n      <th>4</th>\n      <td>1</td>\n      <td>6</td>\n      <td>Driving Layup Shot</td>\n      <td>Made Shot</td>\n    </tr>\n    <tr>\n      <th>...</th>\n      <td>...</td>\n      <td>...</td>\n      <td>...</td>\n      <td>...</td>\n    </tr>\n    <tr>\n      <th>181</th>\n      <td>20</td>\n      <td>2</td>\n      <td>Injury</td>\n      <td>Stoppage</td>\n    </tr>\n    <tr>\n      <th>182</th>\n      <td>20</td>\n      <td>3</td>\n      <td>Out of Bounds</td>\n      <td>Stoppage</td>\n    </tr>\n    <tr>\n      <th>183</th>\n      <td>20</td>\n      <td>4</td>\n      <td>Court cleanup</td>\n      <td>Stoppage</td>\n    </tr>\n    <tr>\n      <th>184</th>\n      <td>20</td>\n      <td>5</td>\n      <td>Equipment malfunction</td>\n      <td>Stoppage</td>\n    </tr>\n    <tr>\n      <th>185</th>\n      <td>20</td>\n      <td>6</td>\n      <td>Stoppage: Blood Rule</td>\n      <td>Stoppage</td>\n    </tr>\n  </tbody>\n</table>\n<p>186 rows × 4 columns</p>\n</div>"
     },
     "metadata": {}
    }
   ],
   "execution_count": null
  },
  {
   "cell_type": "code",
   "metadata": {
    "deepnote_table_invalid": false,
    "deepnote_table_loading": false,
    "deepnote_table_state": {
     "filters": [],
     "pageIndex": 2,
     "pageSize": 10,
     "sortBy": []
    },
    "deepnote_to_be_reexecuted": false,
    "execution_millis": 485,
    "execution_start": 1651809055768,
    "source_hash": "4d2eb84d",
    "tags": [],
    "cell_id": "00007-f72704d8-c925-4f40-b804-b1a642fa77a5",
    "deepnote_cell_type": "code",
    "deepnote_cell_height": 1230
   },
   "source": "# Possesion Changes are determined by the following:\n# 1. Made Field Goal Attempts\n# 2. Made Final Free Throw Attempt\n# 3. Missed Final Free Throw Attempt that results in a Defensive Rebound\n# 4. Missed Field Goal Attempt that results in a Defensive Rebound\n# 5. Turnover\n# 6. End of time period\n\n# 1\nmadeFG = play_by_play['EventTypeId'] == 1\n\nfinalFt = play_by_play['ActionTypeIndex'].isin([10, 12, 15, 16, 19, 20, 22, 26, 29])\n\n# defReb = (play_by_play['EventTypeId'] == 4) & (play_by_play['TeamId_Offense'].shift(-1).bfill().ne(play_by_play['TeamId_Offense']))\n\n# 2.\nmadeFinalFt = (play_by_play['EventTypeId'] == 3) & finalFt & (play_by_play['Points'] == 1)\n\ndefReb = (play_by_play['EventTypeId'].shift(-1) == 4) & (play_by_play['TeamId_Offense'].shift(-2).bfill().ne(play_by_play['TeamId_Offense'].shift(-1).bfill()))\n\n# 3.\ndefRebFinalFt = finalFt & defReb\n\n# 4.\ndefRebMissedFg = (play_by_play['EventTypeId'] == 2) & defReb\n\n# 5.\nturnovers = play_by_play['EventTypeId'] == 5\n\n#6. \nendQuarter = play_by_play['EventTypeId'] == 13\n\nplay_by_play['Possession'] = 0\nplay_by_play.loc[madeFG | madeFinalFt | defRebFinalFt | defRebMissedFg | turnovers | endQuarter, 'Possession'] = 1\n\nplay_by_play[['GameId', 'GameClock', 'Description', 'EventType', 'ActionTypeName','Possession', 'TeamName_Offense', 'TeamId_Offense', \"PlayLength_Seconds\"]]",
   "outputs": [
    {
     "output_type": "execute_result",
     "execution_count": 7,
     "data": {
      "application/vnd.deepnote.dataframe.v3+json": {
       "column_count": 9,
       "row_count": 1619478,
       "columns": [
        {
         "name": "GameId",
         "dtype": "int64"
        },
        {
         "name": "GameClock",
         "dtype": "object"
        },
        {
         "name": "Description",
         "dtype": "object"
        },
        {
         "name": "EventType",
         "dtype": "object"
        },
        {
         "name": "ActionTypeName",
         "dtype": "object"
        },
        {
         "name": "Possession",
         "dtype": "int64"
        },
        {
         "name": "TeamName_Offense",
         "dtype": "object"
        },
        {
         "name": "TeamId_Offense",
         "dtype": "int64"
        },
        {
         "name": "PlayLength_Seconds",
         "dtype": "int64"
        },
        {
         "name": "_deepnote_index_column",
         "dtype": "int64"
        }
       ],
       "rows": [
        {
         "GameId": 63864,
         "GameClock": "9:58",
         "Description": "[PHI] Fultz Running Layup Shot: Missed",
         "EventType": "Missed Shot",
         "ActionTypeName": "Running Layup Shot",
         "Possession": 1,
         "TeamName_Offense": "Philadelphia 76ers",
         "TeamId_Offense": 54,
         "PlayLength_Seconds": 4,
         "_deepnote_index_column": 20
        },
        {
         "GameId": 63864,
         "GameClock": "9:58",
         "Description": "[BOS] Horford Rebound (Off:0 Def:2)",
         "EventType": "Rebound",
         "ActionTypeName": "Rebound",
         "Possession": 0,
         "TeamName_Offense": "Philadelphia 76ers",
         "TeamId_Offense": 54,
         "PlayLength_Seconds": 0,
         "_deepnote_index_column": 21
        },
        {
         "GameId": 63864,
         "GameClock": "9:55",
         "Description": "[BOS] Irving Turnover : Step Out of Bounds Turnover (1 TO)",
         "EventType": "Turnover",
         "ActionTypeName": "Step Out of Bounds Turnover",
         "Possession": 1,
         "TeamName_Offense": "Boston Celtics",
         "TeamId_Offense": 5,
         "PlayLength_Seconds": 3,
         "_deepnote_index_column": 22
        },
        {
         "GameId": 63864,
         "GameClock": "9:36",
         "Description": "[PHI] Embiid Layup Shot: Missed Block: Horford (1 BLK)",
         "EventType": "Missed Shot",
         "ActionTypeName": "Layup Shot",
         "Possession": 0,
         "TeamName_Offense": "Philadelphia 76ers",
         "TeamId_Offense": 54,
         "PlayLength_Seconds": 19,
         "_deepnote_index_column": 23
        },
        {
         "GameId": 63864,
         "GameClock": "9:35",
         "Description": "[PHI] Embiid Rebound (Off:1 Def:1)",
         "EventType": "Rebound",
         "ActionTypeName": "Rebound",
         "Possession": 0,
         "TeamName_Offense": "Philadelphia 76ers",
         "TeamId_Offense": 54,
         "PlayLength_Seconds": 1,
         "_deepnote_index_column": 24
        },
        {
         "GameId": 63864,
         "GameClock": "9:32",
         "Description": "[PHI] Embiid Putback Layup Shot: Missed",
         "EventType": "Missed Shot",
         "ActionTypeName": "Putback Layup Shot",
         "Possession": 1,
         "TeamName_Offense": "Philadelphia 76ers",
         "TeamId_Offense": 54,
         "PlayLength_Seconds": 3,
         "_deepnote_index_column": 25
        },
        {
         "GameId": 63864,
         "GameClock": "9:32",
         "Description": "[BOS] Team Rebound",
         "EventType": "Rebound",
         "ActionTypeName": "Rebound",
         "Possession": 0,
         "TeamName_Offense": "Philadelphia 76ers",
         "TeamId_Offense": 54,
         "PlayLength_Seconds": 0,
         "_deepnote_index_column": 26
        },
        {
         "GameId": 63864,
         "GameClock": "9:19",
         "Description": "[BOS 2-2] Tatum Pullup Jump shot: Made (2 PTS) Assist: Irving (1 AST)",
         "EventType": "Made Shot",
         "ActionTypeName": "Pullup Jump shot",
         "Possession": 1,
         "TeamName_Offense": "Boston Celtics",
         "TeamId_Offense": 5,
         "PlayLength_Seconds": 13,
         "_deepnote_index_column": 27
        },
        {
         "GameId": 63864,
         "GameClock": "9:09",
         "Description": "[BOS] Brown Foul: Personal (1 PF) (R Garretson)",
         "EventType": "Foul",
         "ActionTypeName": "Personal",
         "Possession": 0,
         "TeamName_Offense": "Philadelphia 76ers",
         "TeamId_Offense": 54,
         "PlayLength_Seconds": 10,
         "_deepnote_index_column": 28
        },
        {
         "GameId": 63864,
         "GameClock": "9:01",
         "Description": "[PHI] Fultz Pullup Jump shot: Missed",
         "EventType": "Missed Shot",
         "ActionTypeName": "Pullup Jump shot",
         "Possession": 0,
         "TeamName_Offense": "Philadelphia 76ers",
         "TeamId_Offense": 54,
         "PlayLength_Seconds": 8,
         "_deepnote_index_column": 29
        }
       ]
      },
      "text/plain": "         GameId GameClock                                        Description  \\\n0         63864     12:00  Jump Ball Embiid vs Horford (Simmons gains pos...   \n1         63864     11:40                   [PHI] Covington 3pt Shot: Missed   \n2         63864     11:40                                 [BOS] Team Rebound   \n3         63864     11:18                            Stoppage: Out-of-Bounds   \n4         63864     11:15                       [BOS] Tatum 3pt Shot: Missed   \n...         ...       ...                                                ...   \n1619473  422723      0:10      [WAS 115-110] Beal Free Throw 2 of 2 (25 PTS)   \n1619474  422723      0:07  [WAS] Westbrook Foul: Personal (4 PF) (L Richa...   \n1619475  422723      0:03                      [CHA] Rozier 3pt Shot: Missed   \n1619476  422723      0:03                  [WAS] Smith Rebound (Off:1 Def:7)   \n1619477  422723      0:00                                         End Period   \n\n           EventType     ActionTypeName  Possession    TeamName_Offense  \\\n0          Jump Ball          Jump Ball           0  Philadelphia 76ers   \n1        Missed Shot          Jump Shot           1  Philadelphia 76ers   \n2            Rebound            Rebound           0  Philadelphia 76ers   \n3           Stoppage      Out of Bounds           0      Boston Celtics   \n4        Missed Shot          Jump Shot           1      Boston Celtics   \n...              ...                ...         ...                 ...   \n1619473   Free Throw  Free Throw 2 of 2           1  Washington Wizards   \n1619474         Foul           Personal           0   Charlotte Hornets   \n1619475  Missed Shot   Pullup Jump shot           1   Charlotte Hornets   \n1619476      Rebound            Rebound           0   Charlotte Hornets   \n1619477   End Period         End Period           1  Washington Wizards   \n\n         TeamId_Offense  PlayLength_Seconds  \n0                    54                   0  \n1                    54                  20  \n2                    54                   0  \n3                     5                  22  \n4                     5                   3  \n...                 ...                 ...  \n1619473              84                   0  \n1619474              12                   3  \n1619475              12                   4  \n1619476              12                   0  \n1619477              84                   3  \n\n[1619478 rows x 9 columns]",
      "text/html": "<div>\n<style scoped>\n    .dataframe tbody tr th:only-of-type {\n        vertical-align: middle;\n    }\n\n    .dataframe tbody tr th {\n        vertical-align: top;\n    }\n\n    .dataframe thead th {\n        text-align: right;\n    }\n</style>\n<table border=\"1\" class=\"dataframe\">\n  <thead>\n    <tr style=\"text-align: right;\">\n      <th></th>\n      <th>GameId</th>\n      <th>GameClock</th>\n      <th>Description</th>\n      <th>EventType</th>\n      <th>ActionTypeName</th>\n      <th>Possession</th>\n      <th>TeamName_Offense</th>\n      <th>TeamId_Offense</th>\n      <th>PlayLength_Seconds</th>\n    </tr>\n  </thead>\n  <tbody>\n    <tr>\n      <th>0</th>\n      <td>63864</td>\n      <td>12:00</td>\n      <td>Jump Ball Embiid vs Horford (Simmons gains pos...</td>\n      <td>Jump Ball</td>\n      <td>Jump Ball</td>\n      <td>0</td>\n      <td>Philadelphia 76ers</td>\n      <td>54</td>\n      <td>0</td>\n    </tr>\n    <tr>\n      <th>1</th>\n      <td>63864</td>\n      <td>11:40</td>\n      <td>[PHI] Covington 3pt Shot: Missed</td>\n      <td>Missed Shot</td>\n      <td>Jump Shot</td>\n      <td>1</td>\n      <td>Philadelphia 76ers</td>\n      <td>54</td>\n      <td>20</td>\n    </tr>\n    <tr>\n      <th>2</th>\n      <td>63864</td>\n      <td>11:40</td>\n      <td>[BOS] Team Rebound</td>\n      <td>Rebound</td>\n      <td>Rebound</td>\n      <td>0</td>\n      <td>Philadelphia 76ers</td>\n      <td>54</td>\n      <td>0</td>\n    </tr>\n    <tr>\n      <th>3</th>\n      <td>63864</td>\n      <td>11:18</td>\n      <td>Stoppage: Out-of-Bounds</td>\n      <td>Stoppage</td>\n      <td>Out of Bounds</td>\n      <td>0</td>\n      <td>Boston Celtics</td>\n      <td>5</td>\n      <td>22</td>\n    </tr>\n    <tr>\n      <th>4</th>\n      <td>63864</td>\n      <td>11:15</td>\n      <td>[BOS] Tatum 3pt Shot: Missed</td>\n      <td>Missed Shot</td>\n      <td>Jump Shot</td>\n      <td>1</td>\n      <td>Boston Celtics</td>\n      <td>5</td>\n      <td>3</td>\n    </tr>\n    <tr>\n      <th>...</th>\n      <td>...</td>\n      <td>...</td>\n      <td>...</td>\n      <td>...</td>\n      <td>...</td>\n      <td>...</td>\n      <td>...</td>\n      <td>...</td>\n      <td>...</td>\n    </tr>\n    <tr>\n      <th>1619473</th>\n      <td>422723</td>\n      <td>0:10</td>\n      <td>[WAS 115-110] Beal Free Throw 2 of 2 (25 PTS)</td>\n      <td>Free Throw</td>\n      <td>Free Throw 2 of 2</td>\n      <td>1</td>\n      <td>Washington Wizards</td>\n      <td>84</td>\n      <td>0</td>\n    </tr>\n    <tr>\n      <th>1619474</th>\n      <td>422723</td>\n      <td>0:07</td>\n      <td>[WAS] Westbrook Foul: Personal (4 PF) (L Richa...</td>\n      <td>Foul</td>\n      <td>Personal</td>\n      <td>0</td>\n      <td>Charlotte Hornets</td>\n      <td>12</td>\n      <td>3</td>\n    </tr>\n    <tr>\n      <th>1619475</th>\n      <td>422723</td>\n      <td>0:03</td>\n      <td>[CHA] Rozier 3pt Shot: Missed</td>\n      <td>Missed Shot</td>\n      <td>Pullup Jump shot</td>\n      <td>1</td>\n      <td>Charlotte Hornets</td>\n      <td>12</td>\n      <td>4</td>\n    </tr>\n    <tr>\n      <th>1619476</th>\n      <td>422723</td>\n      <td>0:03</td>\n      <td>[WAS] Smith Rebound (Off:1 Def:7)</td>\n      <td>Rebound</td>\n      <td>Rebound</td>\n      <td>0</td>\n      <td>Charlotte Hornets</td>\n      <td>12</td>\n      <td>0</td>\n    </tr>\n    <tr>\n      <th>1619477</th>\n      <td>422723</td>\n      <td>0:00</td>\n      <td>End Period</td>\n      <td>End Period</td>\n      <td>End Period</td>\n      <td>1</td>\n      <td>Washington Wizards</td>\n      <td>84</td>\n      <td>3</td>\n    </tr>\n  </tbody>\n</table>\n<p>1619478 rows × 9 columns</p>\n</div>"
     },
     "metadata": {}
    }
   ],
   "execution_count": null
  },
  {
   "cell_type": "code",
   "metadata": {
    "deepnote_to_be_reexecuted": false,
    "execution_millis": 336,
    "execution_start": 1651809056304,
    "source_hash": "91b87d9b",
    "tags": [],
    "cell_id": "00008-1bdb445f-5749-484b-81a5-b682e181820f",
    "deepnote_cell_type": "code",
    "deepnote_cell_height": 744
   },
   "source": "offense_cols = ['Points', 'Possession', 'Players', 'GameId', \"PlayLength_Seconds\"]\nortg = play_by_play.groupby(['FloorLineupId_Offense', 'SeasonYear']).agg({\n    'Points': 'sum',\n    'Possession': 'sum',\n    'Players': 'first',\n    'GameId': 'nunique',\n    'PlayLength_Seconds': 'sum'\n    })[offense_cols].rename(columns={\"GameId\": \"GP\", \"PlayLength_Seconds\":  \"Time\"}).reset_index()\nortg",
   "outputs": [
    {
     "output_type": "execute_result",
     "execution_count": 8,
     "data": {
      "application/vnd.deepnote.dataframe.v3+json": {
       "column_count": 7,
       "row_count": 50274,
       "columns": [
        {
         "name": "FloorLineupId_Offense",
         "dtype": "int64",
         "stats": {
          "unique_count": 49215,
          "nan_count": 0,
          "min": "2",
          "max": "375044",
          "histogram": [
           {
            "bin_start": 2,
            "bin_end": 37506.2,
            "count": 18686
           },
           {
            "bin_start": 37506.2,
            "bin_end": 75010.4,
            "count": 4
           },
           {
            "bin_start": 75010.4,
            "bin_end": 112514.59999999999,
            "count": 7611
           },
           {
            "bin_start": 112514.59999999999,
            "bin_end": 150018.8,
            "count": 6066
           },
           {
            "bin_start": 150018.8,
            "bin_end": 187523,
            "count": 0
           },
           {
            "bin_start": 187523,
            "bin_end": 225027.19999999998,
            "count": 0
           },
           {
            "bin_start": 225027.19999999998,
            "bin_end": 262531.39999999997,
            "count": 0
           },
           {
            "bin_start": 262531.39999999997,
            "bin_end": 300035.6,
            "count": 0
           },
           {
            "bin_start": 300035.6,
            "bin_end": 337539.8,
            "count": 1543
           },
           {
            "bin_start": 337539.8,
            "bin_end": 375044,
            "count": 16364
           }
          ]
         }
        },
        {
         "name": "SeasonYear",
         "dtype": "int64"
        },
        {
         "name": "Points",
         "dtype": "int64"
        },
        {
         "name": "Possession",
         "dtype": "int64"
        },
        {
         "name": "Players",
         "dtype": "object"
        },
        {
         "name": "GP",
         "dtype": "int64"
        },
        {
         "name": "Time",
         "dtype": "int64"
        },
        {
         "name": "_deepnote_index_column",
         "dtype": "int64"
        }
       ],
       "rows": [
        {
         "FloorLineupId_Offense": 2,
         "SeasonYear": 2019,
         "Points": 60,
         "Possession": 59,
         "Players": "Ben McLemore, James Harden, Eric Gordon Jr., P.J. Tucker Jr., Clint Capela",
         "GP": 8,
         "Time": 843,
         "_deepnote_index_column": 0
        },
        {
         "FloorLineupId_Offense": 3,
         "SeasonYear": 2019,
         "Points": 23,
         "Possession": 21,
         "Players": "Lou Williams, Rodney McGruder, JaMychal Green, Montrezl Harrell, Terance Mann",
         "GP": 6,
         "Time": 282,
         "_deepnote_index_column": 1
        },
        {
         "FloorLineupId_Offense": 8,
         "SeasonYear": 2019,
         "Points": 17,
         "Possession": 20,
         "Players": "Buddy Hield, De'Aaron Fox, Harrison Barnes, Marvin Bagley III, Dewayne Dedmon",
         "GP": 1,
         "Time": 254,
         "_deepnote_index_column": 2
        },
        {
         "FloorLineupId_Offense": 9,
         "SeasonYear": 2019,
         "Points": 768,
         "Possession": 718,
         "Players": "Jeremy Lamb, Malcolm Brogdon, T.J. Warren Jr., Domantas Sabonis, Myles Turner",
         "GP": 25,
         "Time": 10534,
         "_deepnote_index_column": 3
        },
        {
         "FloorLineupId_Offense": 10,
         "SeasonYear": 2019,
         "Points": 28,
         "Possession": 39,
         "Players": "Richaun Holmes, Nemanja Bjelica, Trevor Ariza, Bogdan Bogdanovic, Cory Joseph",
         "GP": 6,
         "Time": 600,
         "_deepnote_index_column": 4
        },
        {
         "FloorLineupId_Offense": 13,
         "SeasonYear": 2018,
         "Points": 72,
         "Possession": 72,
         "Players": "Harrison Barnes, Bogdan Bogdanovic, De'Aaron Fox, Buddy Hield, Marvin Bagley III",
         "GP": 8,
         "Time": 985,
         "_deepnote_index_column": 5
        },
        {
         "FloorLineupId_Offense": 13,
         "SeasonYear": 2019,
         "Points": 6,
         "Possession": 9,
         "Players": "Harrison Barnes, Bogdan Bogdanovic, De'Aaron Fox, Buddy Hield, Marvin Bagley III",
         "GP": 3,
         "Time": 118,
         "_deepnote_index_column": 6
        },
        {
         "FloorLineupId_Offense": 15,
         "SeasonYear": 2019,
         "Points": 11,
         "Possession": 9,
         "Players": "Caris LeVert, Spencer Dinwiddie, Taurean Prince, Rodions Kurucs, Jarrett Allen",
         "GP": 2,
         "Time": 166,
         "_deepnote_index_column": 7
        },
        {
         "FloorLineupId_Offense": 17,
         "SeasonYear": 2019,
         "Points": 2,
         "Possession": 1,
         "Players": "Garrett Temple, Rodions Kurucs, Theo Pinson, DeAndre Jordan, Dzanan Musa",
         "GP": 1,
         "Time": 19,
         "_deepnote_index_column": 8
        },
        {
         "FloorLineupId_Offense": 26,
         "SeasonYear": 2019,
         "Points": 8,
         "Possession": 8,
         "Players": "Wenyen Gabriel, Caleb Swanigan, Yogi Ferrell, Kyle Guy, Justin James",
         "GP": 1,
         "Time": 80,
         "_deepnote_index_column": 9
        }
       ]
      },
      "text/plain": "       FloorLineupId_Offense  SeasonYear  Points  Possession  \\\n0                          2        2019      60          59   \n1                          3        2019      23          21   \n2                          8        2019      17          20   \n3                          9        2019     768         718   \n4                         10        2019      28          39   \n...                      ...         ...     ...         ...   \n50269                 375040        2020       0           0   \n50270                 375041        2020       2           5   \n50271                 375042        2020       0           0   \n50272                 375043        2020       3           4   \n50273                 375044        2020       0           2   \n\n                                                 Players  GP   Time  \n0      Ben McLemore, James Harden, Eric Gordon Jr., P...   8    843  \n1      Lou Williams, Rodney McGruder, JaMychal Green,...   6    282  \n2      Buddy Hield, De'Aaron Fox, Harrison Barnes, Ma...   1    254  \n3      Jeremy Lamb, Malcolm Brogdon, T.J. Warren Jr.,...  25  10534  \n4      Richaun Holmes, Nemanja Bjelica, Trevor Ariza,...   6    600  \n...                                                  ...  ..    ...  \n50269  James Nunnally, James Johnson, Nickeil Alexand...   1      0  \n50270  Talen Horton-Tucker, Marc Gasol, Jared Dudley,...   1    100  \n50271  Talen Horton-Tucker, Marc Gasol, Jared Dudley,...   1      0  \n50272  Talen Horton-Tucker, Marc Gasol, Jared Dudley,...   1     50  \n50273  Naji Marshall, James Nunnally, Nickeil Alexand...   1     27  \n\n[50274 rows x 7 columns]",
      "text/html": "<div>\n<style scoped>\n    .dataframe tbody tr th:only-of-type {\n        vertical-align: middle;\n    }\n\n    .dataframe tbody tr th {\n        vertical-align: top;\n    }\n\n    .dataframe thead th {\n        text-align: right;\n    }\n</style>\n<table border=\"1\" class=\"dataframe\">\n  <thead>\n    <tr style=\"text-align: right;\">\n      <th></th>\n      <th>FloorLineupId_Offense</th>\n      <th>SeasonYear</th>\n      <th>Points</th>\n      <th>Possession</th>\n      <th>Players</th>\n      <th>GP</th>\n      <th>Time</th>\n    </tr>\n  </thead>\n  <tbody>\n    <tr>\n      <th>0</th>\n      <td>2</td>\n      <td>2019</td>\n      <td>60</td>\n      <td>59</td>\n      <td>Ben McLemore, James Harden, Eric Gordon Jr., P...</td>\n      <td>8</td>\n      <td>843</td>\n    </tr>\n    <tr>\n      <th>1</th>\n      <td>3</td>\n      <td>2019</td>\n      <td>23</td>\n      <td>21</td>\n      <td>Lou Williams, Rodney McGruder, JaMychal Green,...</td>\n      <td>6</td>\n      <td>282</td>\n    </tr>\n    <tr>\n      <th>2</th>\n      <td>8</td>\n      <td>2019</td>\n      <td>17</td>\n      <td>20</td>\n      <td>Buddy Hield, De'Aaron Fox, Harrison Barnes, Ma...</td>\n      <td>1</td>\n      <td>254</td>\n    </tr>\n    <tr>\n      <th>3</th>\n      <td>9</td>\n      <td>2019</td>\n      <td>768</td>\n      <td>718</td>\n      <td>Jeremy Lamb, Malcolm Brogdon, T.J. Warren Jr.,...</td>\n      <td>25</td>\n      <td>10534</td>\n    </tr>\n    <tr>\n      <th>4</th>\n      <td>10</td>\n      <td>2019</td>\n      <td>28</td>\n      <td>39</td>\n      <td>Richaun Holmes, Nemanja Bjelica, Trevor Ariza,...</td>\n      <td>6</td>\n      <td>600</td>\n    </tr>\n    <tr>\n      <th>...</th>\n      <td>...</td>\n      <td>...</td>\n      <td>...</td>\n      <td>...</td>\n      <td>...</td>\n      <td>...</td>\n      <td>...</td>\n    </tr>\n    <tr>\n      <th>50269</th>\n      <td>375040</td>\n      <td>2020</td>\n      <td>0</td>\n      <td>0</td>\n      <td>James Nunnally, James Johnson, Nickeil Alexand...</td>\n      <td>1</td>\n      <td>0</td>\n    </tr>\n    <tr>\n      <th>50270</th>\n      <td>375041</td>\n      <td>2020</td>\n      <td>2</td>\n      <td>5</td>\n      <td>Talen Horton-Tucker, Marc Gasol, Jared Dudley,...</td>\n      <td>1</td>\n      <td>100</td>\n    </tr>\n    <tr>\n      <th>50271</th>\n      <td>375042</td>\n      <td>2020</td>\n      <td>0</td>\n      <td>0</td>\n      <td>Talen Horton-Tucker, Marc Gasol, Jared Dudley,...</td>\n      <td>1</td>\n      <td>0</td>\n    </tr>\n    <tr>\n      <th>50272</th>\n      <td>375043</td>\n      <td>2020</td>\n      <td>3</td>\n      <td>4</td>\n      <td>Talen Horton-Tucker, Marc Gasol, Jared Dudley,...</td>\n      <td>1</td>\n      <td>50</td>\n    </tr>\n    <tr>\n      <th>50273</th>\n      <td>375044</td>\n      <td>2020</td>\n      <td>0</td>\n      <td>2</td>\n      <td>Naji Marshall, James Nunnally, Nickeil Alexand...</td>\n      <td>1</td>\n      <td>27</td>\n    </tr>\n  </tbody>\n</table>\n<p>50274 rows × 7 columns</p>\n</div>"
     },
     "metadata": {}
    }
   ],
   "execution_count": null
  },
  {
   "cell_type": "code",
   "metadata": {
    "cell_id": "228026ca9dae4d61b3381cc9959259e6",
    "tags": [],
    "deepnote_to_be_reexecuted": false,
    "source_hash": "7426d420",
    "execution_start": 1651809056643,
    "execution_millis": 333,
    "deepnote_cell_type": "code",
    "deepnote_cell_height": 744
   },
   "source": "offense_cols = ['Points', 'Possession', 'Players', 'GameId', \"PlayLength_Seconds\"]\ndrtg = play_by_play.groupby(['FloorLineupId_Defense']).agg({\n    'Points': 'sum',\n    'Possession': 'sum',\n    'Players': 'first',\n    'GameId': 'nunique',\n    'PlayLength_Seconds': 'sum'\n    })[offense_cols].rename(columns={\"GameId\": \"GP\", \"PlayLength_Seconds\":  \"Time\"}).reset_index()\ndrtg",
   "outputs": [
    {
     "output_type": "execute_result",
     "execution_count": 9,
     "data": {
      "application/vnd.deepnote.dataframe.v3+json": {
       "column_count": 6,
       "row_count": 48299,
       "columns": [
        {
         "name": "FloorLineupId_Defense",
         "dtype": "int64",
         "stats": {
          "unique_count": 48299,
          "nan_count": 0,
          "min": "2",
          "max": "375044",
          "histogram": [
           {
            "bin_start": 2,
            "bin_end": 37506.2,
            "count": 17856
           },
           {
            "bin_start": 37506.2,
            "bin_end": 75010.4,
            "count": 4
           },
           {
            "bin_start": 75010.4,
            "bin_end": 112514.59999999999,
            "count": 7150
           },
           {
            "bin_start": 112514.59999999999,
            "bin_end": 150018.8,
            "count": 5734
           },
           {
            "bin_start": 150018.8,
            "bin_end": 187523,
            "count": 0
           },
           {
            "bin_start": 187523,
            "bin_end": 225027.19999999998,
            "count": 0
           },
           {
            "bin_start": 225027.19999999998,
            "bin_end": 262531.39999999997,
            "count": 0
           },
           {
            "bin_start": 262531.39999999997,
            "bin_end": 300035.6,
            "count": 0
           },
           {
            "bin_start": 300035.6,
            "bin_end": 337539.8,
            "count": 1457
           },
           {
            "bin_start": 337539.8,
            "bin_end": 375044,
            "count": 16098
           }
          ]
         }
        },
        {
         "name": "Points",
         "dtype": "int64",
         "stats": {
          "unique_count": 449,
          "nan_count": 0,
          "min": "0",
          "max": "3044",
          "histogram": [
           {
            "bin_start": 0,
            "bin_end": 304.4,
            "count": 48088
           },
           {
            "bin_start": 304.4,
            "bin_end": 608.8,
            "count": 146
           },
           {
            "bin_start": 608.8,
            "bin_end": 913.1999999999999,
            "count": 34
           },
           {
            "bin_start": 913.1999999999999,
            "bin_end": 1217.6,
            "count": 17
           },
           {
            "bin_start": 1217.6,
            "bin_end": 1522,
            "count": 6
           },
           {
            "bin_start": 1522,
            "bin_end": 1826.3999999999999,
            "count": 4
           },
           {
            "bin_start": 1826.3999999999999,
            "bin_end": 2130.7999999999997,
            "count": 3
           },
           {
            "bin_start": 2130.7999999999997,
            "bin_end": 2435.2,
            "count": 0
           },
           {
            "bin_start": 2435.2,
            "bin_end": 2739.6,
            "count": 0
           },
           {
            "bin_start": 2739.6,
            "bin_end": 3044,
            "count": 1
           }
          ]
         }
        },
        {
         "name": "Possession",
         "dtype": "int64"
        },
        {
         "name": "Players",
         "dtype": "object"
        },
        {
         "name": "GP",
         "dtype": "int64"
        },
        {
         "name": "Time",
         "dtype": "int64"
        },
        {
         "name": "_deepnote_index_column",
         "dtype": "int64"
        }
       ],
       "rows": [
        {
         "FloorLineupId_Defense": 2,
         "Points": 65,
         "Possession": 62,
         "Players": "Josh Richardson, Ben Simmons, Tobias Harris, Al Horford, Joel Embiid",
         "GP": 9,
         "Time": 852,
         "_deepnote_index_column": 0
        },
        {
         "FloorLineupId_Defense": 3,
         "Points": 32,
         "Possession": 23,
         "Players": "Dean Wade, Matthew Dellavedova, Dante Exum, Darius Garland, John Henson",
         "GP": 6,
         "Time": 285,
         "_deepnote_index_column": 1
        },
        {
         "FloorLineupId_Defense": 8,
         "Points": 15,
         "Possession": 19,
         "Players": "Ricky Rubio, Dario Saric, Devin Booker, Deandre Ayton, Kelly Oubre Jr.",
         "GP": 1,
         "Time": 257,
         "_deepnote_index_column": 2
        },
        {
         "FloorLineupId_Defense": 9,
         "Points": 715,
         "Possession": 715,
         "Players": "Tobias Harris, Al Horford, Josh Richardson, Mike Scott, Ben Simmons",
         "GP": 25,
         "Time": 10786,
         "_deepnote_index_column": 3
        },
        {
         "FloorLineupId_Defense": 10,
         "Points": 38,
         "Possession": 42,
         "Players": "Solomon Hill, Dillon Brooks, Grayson Allen, Jonas Valanciunas, Ja Morant",
         "GP": 7,
         "Time": 548,
         "_deepnote_index_column": 4
        },
        {
         "FloorLineupId_Defense": 13,
         "Points": 111,
         "Possession": 79,
         "Players": "Justise Winslow, Hassan Whiteside, Dwyane Wade, Kelly Olynyk, Dion Waiters",
         "GP": 10,
         "Time": 977,
         "_deepnote_index_column": 5
        },
        {
         "FloorLineupId_Defense": 15,
         "Points": 20,
         "Possession": 12,
         "Players": "Kendrick Nunn, Bam Adebayo, Duncan Robinson, Jimmy Butler, Tyler Herro",
         "GP": 2,
         "Time": 147,
         "_deepnote_index_column": 6
        },
        {
         "FloorLineupId_Defense": 17,
         "Points": 2,
         "Possession": 2,
         "Players": "D'Angelo Russell, Jordan Poole, Damion Lee, Omari Spellman, Marquese Chriss",
         "GP": 1,
         "Time": 31,
         "_deepnote_index_column": 7
        },
        {
         "FloorLineupId_Defense": 26,
         "Points": 13,
         "Possession": 9,
         "Players": "Donte DiVincenzo, D.J. Wilson, Sterling Brown, Thanasis Antetokounmpo, Pat Connaughton",
         "GP": 1,
         "Time": 80,
         "_deepnote_index_column": 8
        },
        {
         "FloorLineupId_Defense": 28,
         "Points": 845,
         "Possession": 846,
         "Players": "Devin Booker, Ricky Rubio, Kelly Oubre Jr., Dario Saric, Aron Baynes",
         "GP": 33,
         "Time": 11944,
         "_deepnote_index_column": 9
        }
       ]
      },
      "text/plain": "       FloorLineupId_Defense  Points  Possession  \\\n0                          2      65          62   \n1                          3      32          23   \n2                          8      15          19   \n3                          9     715         715   \n4                         10      38          42   \n...                      ...     ...         ...   \n48294                 375039       7           7   \n48295                 375040       0           0   \n48296                 375041       4           7   \n48297                 375043       2           3   \n48298                 375044       0           2   \n\n                                                 Players  GP   Time  \n0      Josh Richardson, Ben Simmons, Tobias Harris, A...   9    852  \n1      Dean Wade, Matthew Dellavedova, Dante Exum, Da...   6    285  \n2      Ricky Rubio, Dario Saric, Devin Booker, Deandr...   1    257  \n3      Tobias Harris, Al Horford, Josh Richardson, Mi...  25  10786  \n4      Solomon Hill, Dillon Brooks, Grayson Allen, Jo...   7    548  \n...                                                  ...  ..    ...  \n48294  Kyle Kuzma, LeBron James, Marc Gasol, Dennis S...   1     79  \n48295  Kyle Kuzma, LeBron James, Marc Gasol, Dennis S...   1      1  \n48296  Wenyen Gabriel, Kira Lewis Jr., Willy Hernango...   1     81  \n48297  Wenyen Gabriel, Kira Lewis Jr., Willy Hernango...   1     38  \n48298  Talen Horton-Tucker, Marc Gasol, Jared Dudley,...   1     26  \n\n[48299 rows x 6 columns]",
      "text/html": "<div>\n<style scoped>\n    .dataframe tbody tr th:only-of-type {\n        vertical-align: middle;\n    }\n\n    .dataframe tbody tr th {\n        vertical-align: top;\n    }\n\n    .dataframe thead th {\n        text-align: right;\n    }\n</style>\n<table border=\"1\" class=\"dataframe\">\n  <thead>\n    <tr style=\"text-align: right;\">\n      <th></th>\n      <th>FloorLineupId_Defense</th>\n      <th>Points</th>\n      <th>Possession</th>\n      <th>Players</th>\n      <th>GP</th>\n      <th>Time</th>\n    </tr>\n  </thead>\n  <tbody>\n    <tr>\n      <th>0</th>\n      <td>2</td>\n      <td>65</td>\n      <td>62</td>\n      <td>Josh Richardson, Ben Simmons, Tobias Harris, A...</td>\n      <td>9</td>\n      <td>852</td>\n    </tr>\n    <tr>\n      <th>1</th>\n      <td>3</td>\n      <td>32</td>\n      <td>23</td>\n      <td>Dean Wade, Matthew Dellavedova, Dante Exum, Da...</td>\n      <td>6</td>\n      <td>285</td>\n    </tr>\n    <tr>\n      <th>2</th>\n      <td>8</td>\n      <td>15</td>\n      <td>19</td>\n      <td>Ricky Rubio, Dario Saric, Devin Booker, Deandr...</td>\n      <td>1</td>\n      <td>257</td>\n    </tr>\n    <tr>\n      <th>3</th>\n      <td>9</td>\n      <td>715</td>\n      <td>715</td>\n      <td>Tobias Harris, Al Horford, Josh Richardson, Mi...</td>\n      <td>25</td>\n      <td>10786</td>\n    </tr>\n    <tr>\n      <th>4</th>\n      <td>10</td>\n      <td>38</td>\n      <td>42</td>\n      <td>Solomon Hill, Dillon Brooks, Grayson Allen, Jo...</td>\n      <td>7</td>\n      <td>548</td>\n    </tr>\n    <tr>\n      <th>...</th>\n      <td>...</td>\n      <td>...</td>\n      <td>...</td>\n      <td>...</td>\n      <td>...</td>\n      <td>...</td>\n    </tr>\n    <tr>\n      <th>48294</th>\n      <td>375039</td>\n      <td>7</td>\n      <td>7</td>\n      <td>Kyle Kuzma, LeBron James, Marc Gasol, Dennis S...</td>\n      <td>1</td>\n      <td>79</td>\n    </tr>\n    <tr>\n      <th>48295</th>\n      <td>375040</td>\n      <td>0</td>\n      <td>0</td>\n      <td>Kyle Kuzma, LeBron James, Marc Gasol, Dennis S...</td>\n      <td>1</td>\n      <td>1</td>\n    </tr>\n    <tr>\n      <th>48296</th>\n      <td>375041</td>\n      <td>4</td>\n      <td>7</td>\n      <td>Wenyen Gabriel, Kira Lewis Jr., Willy Hernango...</td>\n      <td>1</td>\n      <td>81</td>\n    </tr>\n    <tr>\n      <th>48297</th>\n      <td>375043</td>\n      <td>2</td>\n      <td>3</td>\n      <td>Wenyen Gabriel, Kira Lewis Jr., Willy Hernango...</td>\n      <td>1</td>\n      <td>38</td>\n    </tr>\n    <tr>\n      <th>48298</th>\n      <td>375044</td>\n      <td>0</td>\n      <td>2</td>\n      <td>Talen Horton-Tucker, Marc Gasol, Jared Dudley,...</td>\n      <td>1</td>\n      <td>26</td>\n    </tr>\n  </tbody>\n</table>\n<p>48299 rows × 6 columns</p>\n</div>"
     },
     "metadata": {}
    }
   ],
   "execution_count": null
  },
  {
   "cell_type": "code",
   "metadata": {
    "cell_id": "cd1a64691f43428b8eb862c49f67a9c9",
    "tags": [],
    "deepnote_to_be_reexecuted": false,
    "source_hash": "8a77702c",
    "execution_start": 1651809057027,
    "execution_millis": 134,
    "deepnote_cell_type": "code",
    "deepnote_cell_height": 654
   },
   "source": "drtg['DRTG'] = 100 * drtg['Points'] / drtg['Possession']\n\ndrtg = drtg[['FloorLineupId_Defense', 'Players', 'DRTG', 'Points', 'Possession', 'GP', 'Time']]\ndrtg.sort_values(by='GP', ascending=False)",
   "outputs": [
    {
     "output_type": "execute_result",
     "execution_count": 10,
     "data": {
      "application/vnd.deepnote.dataframe.v3+json": {
       "column_count": 7,
       "row_count": 48299,
       "columns": [
        {
         "name": "FloorLineupId_Defense",
         "dtype": "int64",
         "stats": {
          "unique_count": 48299,
          "nan_count": 0,
          "min": "2",
          "max": "375044",
          "histogram": [
           {
            "bin_start": 2,
            "bin_end": 37506.2,
            "count": 17856
           },
           {
            "bin_start": 37506.2,
            "bin_end": 75010.4,
            "count": 4
           },
           {
            "bin_start": 75010.4,
            "bin_end": 112514.59999999999,
            "count": 7150
           },
           {
            "bin_start": 112514.59999999999,
            "bin_end": 150018.8,
            "count": 5734
           },
           {
            "bin_start": 150018.8,
            "bin_end": 187523,
            "count": 0
           },
           {
            "bin_start": 187523,
            "bin_end": 225027.19999999998,
            "count": 0
           },
           {
            "bin_start": 225027.19999999998,
            "bin_end": 262531.39999999997,
            "count": 0
           },
           {
            "bin_start": 262531.39999999997,
            "bin_end": 300035.6,
            "count": 0
           },
           {
            "bin_start": 300035.6,
            "bin_end": 337539.8,
            "count": 1457
           },
           {
            "bin_start": 337539.8,
            "bin_end": 375044,
            "count": 16098
           }
          ]
         }
        },
        {
         "name": "Players",
         "dtype": "object",
         "stats": {
          "unique_count": 19145,
          "nan_count": 0,
          "categories": [
           {
            "name": "Jamal Murray, Gary Harris, Will Barton, Paul Millsap, Nikola Jokic",
            "count": 124
           },
           {
            "name": "Seth Curry, Ben Simmons, Danny Green, Tobias Harris, Joel Embiid",
            "count": 83
           },
           {
            "name": "19143 others",
            "count": 48092
           }
          ]
         }
        },
        {
         "name": "DRTG",
         "dtype": "float64"
        },
        {
         "name": "Points",
         "dtype": "int64"
        },
        {
         "name": "Possession",
         "dtype": "int64"
        },
        {
         "name": "GP",
         "dtype": "int64"
        },
        {
         "name": "Time",
         "dtype": "int64"
        },
        {
         "name": "_deepnote_index_column",
         "dtype": "int64"
        }
       ],
       "rows": [
        {
         "FloorLineupId_Defense": 227,
         "Players": "Avery Bradley Jr., Patrick Beverley, Tobias Harris, Danilo Gallinari, Marcin Gortat",
         "DRTG": 105.54785020804438,
         "Points": 3044,
         "Possession": 2884,
         "GP": 78,
         "Time": 42319,
         "_deepnote_index_column": 86
        },
        {
         "FloorLineupId_Defense": 36,
         "Players": "Josh Richardson, Goran Dragic, Derrick Jones Jr., Rodney McGruder, Hassan Whiteside",
         "DRTG": 104.11734431291816,
         "Points": 2023,
         "Possession": 1943,
         "GP": 76,
         "Time": 27196,
         "_deepnote_index_column": 12
        },
        {
         "FloorLineupId_Defense": 259,
         "Players": "Nemanja Bjelica, Marvin Bagley III, Cory Joseph, Buddy Hield, De'Aaron Fox",
         "DRTG": 103.29724409448819,
         "Points": 2099,
         "Possession": 2032,
         "GP": 74,
         "Time": 29683,
         "_deepnote_index_column": 100
        },
        {
         "FloorLineupId_Defense": 2521,
         "Players": "Lauri Markkanen, Zach LaVine, Tomas Satoransky, Wendell Carter Jr., Kris Dunn",
         "DRTG": 103.35932813437313,
         "Points": 1723,
         "Possession": 1667,
         "GP": 73,
         "Time": 23371,
         "_deepnote_index_column": 783
        },
        {
         "FloorLineupId_Defense": 1175,
         "Players": "Buddy Hield, De'Aaron Fox, Iman Shumpert, Willie Cauley-Stein, Nemanja Bjelica",
         "DRTG": 105.5327868852459,
         "Points": 1030,
         "Possession": 976,
         "GP": 63,
         "Time": 14461,
         "_deepnote_index_column": 365
        },
        {
         "FloorLineupId_Defense": 909,
         "Players": "Landry Shamet, Robert Covington, Amir Johnson, T.J. McConnell, J.J. Redick",
         "DRTG": 101.71428571428571,
         "Points": 534,
         "Possession": 525,
         "GP": 63,
         "Time": 7497,
         "_deepnote_index_column": 286
        },
        {
         "FloorLineupId_Defense": 3905,
         "Players": "Justin Jackson, Willie Cauley-Stein, Buddy Hield, De'Aaron Fox, Yogi Ferrell",
         "DRTG": 104.93707647628267,
         "Points": 1084,
         "Possession": 1033,
         "GP": 60,
         "Time": 14270,
         "_deepnote_index_column": 1446
        },
        {
         "FloorLineupId_Defense": 4438,
         "Players": "Nemanja Bjelica, Iman Shumpert, Harry Giles, Marvin Bagley III, De'Aaron Fox",
         "DRTG": 106.76767676767676,
         "Points": 1057,
         "Possession": 990,
         "GP": 58,
         "Time": 14234,
         "_deepnote_index_column": 1979
        },
        {
         "FloorLineupId_Defense": 3850,
         "Players": "Buddy Hield, De'Aaron Fox, Iman Shumpert, Willie Cauley-Stein, Nemanja Bjelica",
         "DRTG": 103.46878097125867,
         "Points": 2088,
         "Possession": 2018,
         "GP": 58,
         "Time": 30085,
         "_deepnote_index_column": 1391
        },
        {
         "FloorLineupId_Defense": 3346,
         "Players": "Yogi Ferrell, De'Aaron Fox, Buddy Hield, Nemanja Bjelica, Willie Cauley-Stein",
         "DRTG": 99.62121212121212,
         "Points": 1052,
         "Possession": 1056,
         "GP": 56,
         "Time": 14754,
         "_deepnote_index_column": 1082
        }
       ]
      },
      "text/plain": "       FloorLineupId_Defense  \\\n86                       227   \n12                        36   \n100                      259   \n783                     2521   \n365                     1175   \n...                      ...   \n27841                 119812   \n27840                 119811   \n27839                 119810   \n27838                 119809   \n48298                 375044   \n\n                                                 Players        DRTG  Points  \\\n86     Avery Bradley Jr., Patrick Beverley, Tobias Ha...  105.547850    3044   \n12     Josh Richardson, Goran Dragic, Derrick Jones J...  104.117344    2023   \n100    Nemanja Bjelica, Marvin Bagley III, Cory Josep...  103.297244    2099   \n783    Lauri Markkanen, Zach LaVine, Tomas Satoransky...  103.359328    1723   \n365    Buddy Hield, De'Aaron Fox, Iman Shumpert, Will...  105.532787    1030   \n...                                                  ...         ...     ...   \n27841  Doug McDermott, Justin Holiday, Aaron Holiday,...  136.363636      15   \n27840  Mitchell Robinson, Kevin Knox II, Damyean Dots...   60.000000       3   \n27839  T.J. McConnell, Doug McDermott, Victor Oladipo...    0.000000       0   \n27838  T.J. McConnell, Doug McDermott, Victor Oladipo...         NaN       0   \n48298  Talen Horton-Tucker, Marc Gasol, Jared Dudley,...    0.000000       0   \n\n       Possession  GP   Time  \n86           2884  78  42319  \n12           1943  76  27196  \n100          2032  74  29683  \n783          1667  73  23371  \n365           976  63  14461  \n...           ...  ..    ...  \n27841          11   1    125  \n27840           5   1     72  \n27839           4   1     54  \n27838           0   1      0  \n48298           2   1     26  \n\n[48299 rows x 7 columns]",
      "text/html": "<div>\n<style scoped>\n    .dataframe tbody tr th:only-of-type {\n        vertical-align: middle;\n    }\n\n    .dataframe tbody tr th {\n        vertical-align: top;\n    }\n\n    .dataframe thead th {\n        text-align: right;\n    }\n</style>\n<table border=\"1\" class=\"dataframe\">\n  <thead>\n    <tr style=\"text-align: right;\">\n      <th></th>\n      <th>FloorLineupId_Defense</th>\n      <th>Players</th>\n      <th>DRTG</th>\n      <th>Points</th>\n      <th>Possession</th>\n      <th>GP</th>\n      <th>Time</th>\n    </tr>\n  </thead>\n  <tbody>\n    <tr>\n      <th>86</th>\n      <td>227</td>\n      <td>Avery Bradley Jr., Patrick Beverley, Tobias Ha...</td>\n      <td>105.547850</td>\n      <td>3044</td>\n      <td>2884</td>\n      <td>78</td>\n      <td>42319</td>\n    </tr>\n    <tr>\n      <th>12</th>\n      <td>36</td>\n      <td>Josh Richardson, Goran Dragic, Derrick Jones J...</td>\n      <td>104.117344</td>\n      <td>2023</td>\n      <td>1943</td>\n      <td>76</td>\n      <td>27196</td>\n    </tr>\n    <tr>\n      <th>100</th>\n      <td>259</td>\n      <td>Nemanja Bjelica, Marvin Bagley III, Cory Josep...</td>\n      <td>103.297244</td>\n      <td>2099</td>\n      <td>2032</td>\n      <td>74</td>\n      <td>29683</td>\n    </tr>\n    <tr>\n      <th>783</th>\n      <td>2521</td>\n      <td>Lauri Markkanen, Zach LaVine, Tomas Satoransky...</td>\n      <td>103.359328</td>\n      <td>1723</td>\n      <td>1667</td>\n      <td>73</td>\n      <td>23371</td>\n    </tr>\n    <tr>\n      <th>365</th>\n      <td>1175</td>\n      <td>Buddy Hield, De'Aaron Fox, Iman Shumpert, Will...</td>\n      <td>105.532787</td>\n      <td>1030</td>\n      <td>976</td>\n      <td>63</td>\n      <td>14461</td>\n    </tr>\n    <tr>\n      <th>...</th>\n      <td>...</td>\n      <td>...</td>\n      <td>...</td>\n      <td>...</td>\n      <td>...</td>\n      <td>...</td>\n      <td>...</td>\n    </tr>\n    <tr>\n      <th>27841</th>\n      <td>119812</td>\n      <td>Doug McDermott, Justin Holiday, Aaron Holiday,...</td>\n      <td>136.363636</td>\n      <td>15</td>\n      <td>11</td>\n      <td>1</td>\n      <td>125</td>\n    </tr>\n    <tr>\n      <th>27840</th>\n      <td>119811</td>\n      <td>Mitchell Robinson, Kevin Knox II, Damyean Dots...</td>\n      <td>60.000000</td>\n      <td>3</td>\n      <td>5</td>\n      <td>1</td>\n      <td>72</td>\n    </tr>\n    <tr>\n      <th>27839</th>\n      <td>119810</td>\n      <td>T.J. McConnell, Doug McDermott, Victor Oladipo...</td>\n      <td>0.000000</td>\n      <td>0</td>\n      <td>4</td>\n      <td>1</td>\n      <td>54</td>\n    </tr>\n    <tr>\n      <th>27838</th>\n      <td>119809</td>\n      <td>T.J. McConnell, Doug McDermott, Victor Oladipo...</td>\n      <td>NaN</td>\n      <td>0</td>\n      <td>0</td>\n      <td>1</td>\n      <td>0</td>\n    </tr>\n    <tr>\n      <th>48298</th>\n      <td>375044</td>\n      <td>Talen Horton-Tucker, Marc Gasol, Jared Dudley,...</td>\n      <td>0.000000</td>\n      <td>0</td>\n      <td>2</td>\n      <td>1</td>\n      <td>26</td>\n    </tr>\n  </tbody>\n</table>\n<p>48299 rows × 7 columns</p>\n</div>"
     },
     "metadata": {}
    }
   ],
   "execution_count": null
  },
  {
   "cell_type": "code",
   "metadata": {
    "deepnote_to_be_reexecuted": false,
    "execution_millis": 121,
    "execution_start": 1651809057147,
    "source_hash": "87e42af0",
    "tags": [],
    "cell_id": "00009-d2951f79-20d8-47bb-862d-825194bfaa7b",
    "deepnote_cell_type": "code",
    "deepnote_cell_height": 708
   },
   "source": "# NBA publishes the actual values here:\n# https://www.nba.com/stats/lineups/advanced/?Season=2020-21&SeasonType=Regular%20Season&sort=GROUP_NAME&dir=-1\n# Calculated values are still slightly off, not sure what's wrong\nortg['ORTG'] = 100 * ortg['Points'] / ortg['Possession']\n\nortg = ortg[['FloorLineupId_Offense', 'Players', 'ORTG', 'Points', 'Possession', 'GP', 'Time']]\nortg.sort_values(by='GP', ascending=False)",
   "outputs": [
    {
     "output_type": "execute_result",
     "execution_count": 11,
     "data": {
      "application/vnd.deepnote.dataframe.v3+json": {
       "column_count": 7,
       "row_count": 50274,
       "columns": [
        {
         "name": "FloorLineupId_Offense",
         "dtype": "int64",
         "stats": {
          "unique_count": 49215,
          "nan_count": 0,
          "min": "2",
          "max": "375044",
          "histogram": [
           {
            "bin_start": 2,
            "bin_end": 37506.2,
            "count": 18686
           },
           {
            "bin_start": 37506.2,
            "bin_end": 75010.4,
            "count": 4
           },
           {
            "bin_start": 75010.4,
            "bin_end": 112514.59999999999,
            "count": 7611
           },
           {
            "bin_start": 112514.59999999999,
            "bin_end": 150018.8,
            "count": 6066
           },
           {
            "bin_start": 150018.8,
            "bin_end": 187523,
            "count": 0
           },
           {
            "bin_start": 187523,
            "bin_end": 225027.19999999998,
            "count": 0
           },
           {
            "bin_start": 225027.19999999998,
            "bin_end": 262531.39999999997,
            "count": 0
           },
           {
            "bin_start": 262531.39999999997,
            "bin_end": 300035.6,
            "count": 0
           },
           {
            "bin_start": 300035.6,
            "bin_end": 337539.8,
            "count": 1543
           },
           {
            "bin_start": 337539.8,
            "bin_end": 375044,
            "count": 16364
           }
          ]
         }
        },
        {
         "name": "Players",
         "dtype": "object"
        },
        {
         "name": "ORTG",
         "dtype": "float64"
        },
        {
         "name": "Points",
         "dtype": "int64"
        },
        {
         "name": "Possession",
         "dtype": "int64"
        },
        {
         "name": "GP",
         "dtype": "int64"
        },
        {
         "name": "Time",
         "dtype": "int64"
        },
        {
         "name": "_deepnote_index_column",
         "dtype": "int64"
        }
       ],
       "rows": [
        {
         "FloorLineupId_Offense": 36,
         "Players": "Evan Fournier, D.J. Augustin Jr., Aaron Gordon, Jonathan Isaac, Nikola Vucevic",
         "ORTG": 108.67630700778643,
         "Points": 1954,
         "Possession": 1798,
         "GP": 66,
         "Time": 26666,
         "_deepnote_index_column": 14
        },
        {
         "FloorLineupId_Offense": 3905,
         "Players": "Donovan Mitchell Jr., Ricky Rubio, Joe Ingles, Jae Crowder, Rudy Gobert",
         "ORTG": 115.69377990430623,
         "Points": 1209,
         "Possession": 1045,
         "GP": 60,
         "Time": 14385,
         "_deepnote_index_column": 1584
        },
        {
         "FloorLineupId_Offense": 3850,
         "Players": "Terrance Ferguson Jr., Russell Westbrook, Paul George, Jerami Grant, Steven Adams",
         "ORTG": 111.33102424542305,
         "Points": 2250,
         "Possession": 2021,
         "GP": 58,
         "Time": 25103,
         "_deepnote_index_column": 1527
        },
        {
         "FloorLineupId_Offense": 4438,
         "Players": "Dennis Schroder, Russell Westbrook, Paul George, Jerami Grant, Steven Adams",
         "ORTG": 113.91650099403579,
         "Points": 1146,
         "Possession": 1006,
         "GP": 58,
         "Time": 11805,
         "_deepnote_index_column": 2122
        },
        {
         "FloorLineupId_Offense": 3346,
         "Players": "Donovan Mitchell Jr., Ricky Rubio, Joe Ingles, Derrick Favors, Rudy Gobert",
         "ORTG": 104.91493383742912,
         "Points": 1110,
         "Possession": 1058,
         "GP": 56,
         "Time": 15347,
         "_deepnote_index_column": 1210
        },
        {
         "FloorLineupId_Offense": 3363,
         "Players": "Malcolm Brogdon, Eric Bledsoe, Khris Middleton, Giannis Antetokounmpo, Brook Lopez",
         "ORTG": 111.46449704142012,
         "Points": 1507,
         "Possession": 1352,
         "GP": 56,
         "Time": 17381,
         "_deepnote_index_column": 1221
        },
        {
         "FloorLineupId_Offense": 350078,
         "Players": "Devin Booker, Chris Paul, Mikal Bridges, Jae Crowder, Deandre Ayton",
         "ORTG": 115.92140921409214,
         "Points": 1711,
         "Possession": 1476,
         "GP": 52,
         "Time": 21242,
         "_deepnote_index_column": 34259
        },
        {
         "FloorLineupId_Offense": 909,
         "Players": "Aaron Gordon, Terrence Ross, D.J. Augustin Jr., Evan Fournier, Nikola Vucevic",
         "ORTG": 108.75486381322958,
         "Points": 559,
         "Possession": 514,
         "GP": 49,
         "Time": 7400,
         "_deepnote_index_column": 327
        },
        {
         "FloorLineupId_Offense": 2521,
         "Players": "Donovan Mitchell Jr., Rudy Gobert, Bojan Bogdanovic, Royce O'Neale, Joe Ingles",
         "ORTG": 115.75,
         "Points": 1389,
         "Possession": 1200,
         "GP": 48,
         "Time": 17597,
         "_deepnote_index_column": 878
        },
        {
         "FloorLineupId_Offense": 3241,
         "Players": "Jeremy Lamb, Kemba Walker, Nicolas Batum, Marvin Williams Jr., Cody Zeller",
         "ORTG": 114.16,
         "Points": 1427,
         "Possession": 1250,
         "GP": 48,
         "Time": 17271,
         "_deepnote_index_column": 1156
        }
       ]
      },
      "text/plain": "       FloorLineupId_Offense  \\\n14                        36   \n1584                    3905   \n1527                    3850   \n2122                    4438   \n1210                    3346   \n...                      ...   \n22662                 103135   \n22659                 103129   \n22657                 103127   \n22656                 103126   \n50273                 375044   \n\n                                                 Players        ORTG  Points  \\\n14     Evan Fournier, D.J. Augustin Jr., Aaron Gordon...  108.676307    1954   \n1584   Donovan Mitchell Jr., Ricky Rubio, Joe Ingles,...  115.693780    1209   \n1527   Terrance Ferguson Jr., Russell Westbrook, Paul...  111.331024    2250   \n2122   Dennis Schroder, Russell Westbrook, Paul Georg...  113.916501    1146   \n1210   Donovan Mitchell Jr., Ricky Rubio, Joe Ingles,...  104.914934    1110   \n...                                                  ...         ...     ...   \n22662  Vince Carter, Damian Jones, Trae Young, Allen ...    0.000000       0   \n22659  Bismack Biyombo, Devonte' Graham, Terry Rozier...         NaN       0   \n22657  Wes Iwundu, Evan Fournier, D.J. Augustin Jr., ...    0.000000       0   \n22656  Chris Boucher, Matt Thomas, Fred VanVleet, Nor...  200.000000       2   \n50273  Naji Marshall, James Nunnally, Nickeil Alexand...    0.000000       0   \n\n       Possession  GP   Time  \n14           1798  66  26666  \n1584         1045  60  14385  \n1527         2021  58  25103  \n2122         1006  58  11805  \n1210         1058  56  15347  \n...           ...  ..    ...  \n22662           1   1      5  \n22659           0   1      0  \n22657           1   1      2  \n22656           1   1     15  \n50273           2   1     27  \n\n[50274 rows x 7 columns]",
      "text/html": "<div>\n<style scoped>\n    .dataframe tbody tr th:only-of-type {\n        vertical-align: middle;\n    }\n\n    .dataframe tbody tr th {\n        vertical-align: top;\n    }\n\n    .dataframe thead th {\n        text-align: right;\n    }\n</style>\n<table border=\"1\" class=\"dataframe\">\n  <thead>\n    <tr style=\"text-align: right;\">\n      <th></th>\n      <th>FloorLineupId_Offense</th>\n      <th>Players</th>\n      <th>ORTG</th>\n      <th>Points</th>\n      <th>Possession</th>\n      <th>GP</th>\n      <th>Time</th>\n    </tr>\n  </thead>\n  <tbody>\n    <tr>\n      <th>14</th>\n      <td>36</td>\n      <td>Evan Fournier, D.J. Augustin Jr., Aaron Gordon...</td>\n      <td>108.676307</td>\n      <td>1954</td>\n      <td>1798</td>\n      <td>66</td>\n      <td>26666</td>\n    </tr>\n    <tr>\n      <th>1584</th>\n      <td>3905</td>\n      <td>Donovan Mitchell Jr., Ricky Rubio, Joe Ingles,...</td>\n      <td>115.693780</td>\n      <td>1209</td>\n      <td>1045</td>\n      <td>60</td>\n      <td>14385</td>\n    </tr>\n    <tr>\n      <th>1527</th>\n      <td>3850</td>\n      <td>Terrance Ferguson Jr., Russell Westbrook, Paul...</td>\n      <td>111.331024</td>\n      <td>2250</td>\n      <td>2021</td>\n      <td>58</td>\n      <td>25103</td>\n    </tr>\n    <tr>\n      <th>2122</th>\n      <td>4438</td>\n      <td>Dennis Schroder, Russell Westbrook, Paul Georg...</td>\n      <td>113.916501</td>\n      <td>1146</td>\n      <td>1006</td>\n      <td>58</td>\n      <td>11805</td>\n    </tr>\n    <tr>\n      <th>1210</th>\n      <td>3346</td>\n      <td>Donovan Mitchell Jr., Ricky Rubio, Joe Ingles,...</td>\n      <td>104.914934</td>\n      <td>1110</td>\n      <td>1058</td>\n      <td>56</td>\n      <td>15347</td>\n    </tr>\n    <tr>\n      <th>...</th>\n      <td>...</td>\n      <td>...</td>\n      <td>...</td>\n      <td>...</td>\n      <td>...</td>\n      <td>...</td>\n      <td>...</td>\n    </tr>\n    <tr>\n      <th>22662</th>\n      <td>103135</td>\n      <td>Vince Carter, Damian Jones, Trae Young, Allen ...</td>\n      <td>0.000000</td>\n      <td>0</td>\n      <td>1</td>\n      <td>1</td>\n      <td>5</td>\n    </tr>\n    <tr>\n      <th>22659</th>\n      <td>103129</td>\n      <td>Bismack Biyombo, Devonte' Graham, Terry Rozier...</td>\n      <td>NaN</td>\n      <td>0</td>\n      <td>0</td>\n      <td>1</td>\n      <td>0</td>\n    </tr>\n    <tr>\n      <th>22657</th>\n      <td>103127</td>\n      <td>Wes Iwundu, Evan Fournier, D.J. Augustin Jr., ...</td>\n      <td>0.000000</td>\n      <td>0</td>\n      <td>1</td>\n      <td>1</td>\n      <td>2</td>\n    </tr>\n    <tr>\n      <th>22656</th>\n      <td>103126</td>\n      <td>Chris Boucher, Matt Thomas, Fred VanVleet, Nor...</td>\n      <td>200.000000</td>\n      <td>2</td>\n      <td>1</td>\n      <td>1</td>\n      <td>15</td>\n    </tr>\n    <tr>\n      <th>50273</th>\n      <td>375044</td>\n      <td>Naji Marshall, James Nunnally, Nickeil Alexand...</td>\n      <td>0.000000</td>\n      <td>0</td>\n      <td>2</td>\n      <td>1</td>\n      <td>27</td>\n    </tr>\n  </tbody>\n</table>\n<p>50274 rows × 7 columns</p>\n</div>"
     },
     "metadata": {}
    }
   ],
   "execution_count": null
  },
  {
   "cell_type": "markdown",
   "source": "### Data Processing",
   "metadata": {
    "cell_id": "00010-a7be6e08-975a-41a0-8518-1aabea73c5a3",
    "deepnote_cell_type": "markdown",
    "deepnote_cell_height": 62
   }
  },
  {
   "cell_type": "code",
   "metadata": {
    "deepnote_to_be_reexecuted": false,
    "source_hash": "4e9eb161",
    "execution_start": 1651809057235,
    "execution_millis": 0,
    "cell_id": "00011-a6018fdb-6ad3-42b0-b74e-716f17d5e5db",
    "deepnote_cell_type": "code",
    "deepnote_cell_height": 81
   },
   "source": "player_box_2018=player_box[player_box['SeasonYear']==2018]",
   "outputs": [],
   "execution_count": null
  },
  {
   "cell_type": "code",
   "metadata": {
    "tags": [],
    "deepnote_to_be_reexecuted": false,
    "source_hash": "3d5a957e",
    "execution_start": 1651809057236,
    "execution_millis": 33,
    "cell_id": "00012-a9c37a70-6680-4180-b64c-8811706cfd6e",
    "deepnote_cell_type": "code",
    "deepnote_cell_height": 780
   },
   "source": "'''\nThe RPM and EPM features have null values that have to be dropped out. If you don't need those features then this code is irrelevant.\nIt doesn't hurt to include though since there's relatively not that many players that have this issue. Later we will have to\ndrop out any lineups in ortg that include any of these players.\n'''\n\nnull_players=player_box_2018\nnull_players=null_players[[\"Player\", 'EPM_O','EPM_D', 'EPM', 'RPM_O', 'RPM_D', 'RPM']]\nnull_players=null_players[null_players['RPM']==\"(null)\"]\ndisplay(null_players)\nnull_players=null_players[\"Player\"]",
   "outputs": [
    {
     "data": {
      "application/vnd.deepnote.dataframe.v3+json": {
       "column_count": 7,
       "row_count": 17,
       "columns": [
        {
         "name": "Player",
         "dtype": "object",
         "stats": {
          "unique_count": 17,
          "nan_count": 0,
          "categories": [
           {
            "name": "D.J. Stephens",
            "count": 1
           },
           {
            "name": "Donte Grantham",
            "count": 1
           },
           {
            "name": "15 others",
            "count": 15
           }
          ]
         }
        },
        {
         "name": "EPM_O",
         "dtype": "object",
         "stats": {
          "unique_count": 9,
          "nan_count": 0,
          "categories": [
           {
            "name": "(null)",
            "count": 8
           },
           {
            "name": "-2.1000",
            "count": 2
           },
           {
            "name": "7 others",
            "count": 7
           }
          ]
         }
        },
        {
         "name": "EPM_D",
         "dtype": "object",
         "stats": {
          "unique_count": 7,
          "nan_count": 0,
          "categories": [
           {
            "name": "(null)",
            "count": 8
           },
           {
            "name": "-1.5000",
            "count": 2
           },
           {
            "name": "5 others",
            "count": 7
           }
          ]
         }
        },
        {
         "name": "EPM",
         "dtype": "object",
         "stats": {
          "unique_count": 9,
          "nan_count": 0,
          "categories": [
           {
            "name": "(null)",
            "count": 8
           },
           {
            "name": "-4.0000",
            "count": 2
           },
           {
            "name": "7 others",
            "count": 7
           }
          ]
         }
        },
        {
         "name": "RPM_O",
         "dtype": "object",
         "stats": {
          "unique_count": 1,
          "nan_count": 0,
          "categories": [
           {
            "name": "(null)",
            "count": 17
           }
          ]
         }
        },
        {
         "name": "RPM_D",
         "dtype": "object",
         "stats": {
          "unique_count": 1,
          "nan_count": 0,
          "categories": [
           {
            "name": "(null)",
            "count": 17
           }
          ]
         }
        },
        {
         "name": "RPM",
         "dtype": "object",
         "stats": {
          "unique_count": 1,
          "nan_count": 0,
          "categories": [
           {
            "name": "(null)",
            "count": 17
           }
          ]
         }
        },
        {
         "name": "_deepnote_index_column",
         "dtype": "int64"
        }
       ],
       "rows": [
        {
         "Player": "D.J. Stephens",
         "EPM_O": "-2.5000",
         "EPM_D": "-1.5000",
         "EPM": "-4.0000",
         "RPM_O": "(null)",
         "RPM_D": "(null)",
         "RPM": "(null)",
         "_deepnote_index_column": 262
        },
        {
         "Player": "Donte Grantham",
         "EPM_O": "(null)",
         "EPM_D": "(null)",
         "EPM": "(null)",
         "RPM_O": "(null)",
         "RPM_D": "(null)",
         "RPM": "(null)",
         "_deepnote_index_column": 419
        },
        {
         "Player": "George King",
         "EPM_O": "-2.1000",
         "EPM_D": "-0.7000",
         "EPM": "-2.8000",
         "RPM_O": "(null)",
         "RPM_D": "(null)",
         "RPM": "(null)",
         "_deepnote_index_column": 536
        },
        {
         "Player": "Ike Anigbogu",
         "EPM_O": "-3.0000",
         "EPM_D": "-0.7000",
         "EPM": "-3.7000",
         "RPM_O": "(null)",
         "RPM_D": "(null)",
         "RPM": "(null)",
         "_deepnote_index_column": 588
        },
        {
         "Player": "Joe Chealey",
         "EPM_O": "-2.1000",
         "EPM_D": "-1.0000",
         "EPM": "-3.1000",
         "RPM_O": "(null)",
         "RPM_D": "(null)",
         "RPM": "(null)",
         "_deepnote_index_column": 760
        },
        {
         "Player": "John Holland",
         "EPM_O": "(null)",
         "EPM_D": "(null)",
         "EPM": "(null)",
         "RPM_O": "(null)",
         "RPM_D": "(null)",
         "RPM": "(null)",
         "_deepnote_index_column": 776
        },
        {
         "Player": "Jordan Sibert",
         "EPM_O": "(null)",
         "EPM_D": "(null)",
         "EPM": "(null)",
         "RPM_O": "(null)",
         "RPM_D": "(null)",
         "RPM": "(null)",
         "_deepnote_index_column": 813
        },
        {
         "Player": "Kalin Lucas",
         "EPM_O": "-1.5000",
         "EPM_D": "-1.0000",
         "EPM": "-2.5000",
         "RPM_O": "(null)",
         "RPM_D": "(null)",
         "RPM": "(null)",
         "_deepnote_index_column": 871
        },
        {
         "Player": "Kobi Simmons",
         "EPM_O": "(null)",
         "EPM_D": "(null)",
         "EPM": "(null)",
         "RPM_O": "(null)",
         "RPM_D": "(null)",
         "RPM": "(null)",
         "_deepnote_index_column": 938
        },
        {
         "Player": "Okaro White",
         "EPM_O": "-2.3000",
         "EPM_D": "-1.5000",
         "EPM": "-3.8000",
         "RPM_O": "(null)",
         "RPM_D": "(null)",
         "RPM": "(null)",
         "_deepnote_index_column": 1201
        }
       ]
      },
      "text/plain": "              Player    EPM_O    EPM_D      EPM   RPM_O   RPM_D     RPM\n262    D.J. Stephens  -2.5000  -1.5000  -4.0000  (null)  (null)  (null)\n419   Donte Grantham   (null)   (null)   (null)  (null)  (null)  (null)\n536      George King  -2.1000  -0.7000  -2.8000  (null)  (null)  (null)\n588     Ike Anigbogu  -3.0000  -0.7000  -3.7000  (null)  (null)  (null)\n760      Joe Chealey  -2.1000  -1.0000  -3.1000  (null)  (null)  (null)\n776     John Holland   (null)   (null)   (null)  (null)  (null)  (null)\n813    Jordan Sibert   (null)   (null)   (null)  (null)  (null)  (null)\n871      Kalin Lucas  -1.5000  -1.0000  -2.5000  (null)  (null)  (null)\n938     Kobi Simmons   (null)   (null)   (null)  (null)  (null)  (null)\n1201     Okaro White  -2.3000  -1.5000  -3.8000  (null)  (null)  (null)\n1404  Tahjere McCall  -1.7000   0.9000  -0.8000  (null)  (null)  (null)\n1421  Terrence Jones  -2.8000  -1.1000  -4.0000  (null)  (null)  (null)\n1480    Trevon Duval  -0.4000  -1.6000  -2.0000  (null)  (null)  (null)\n1507     Tyler Davis   (null)   (null)   (null)  (null)  (null)  (null)\n1515      Tyler Ulis   (null)   (null)   (null)  (null)  (null)  (null)\n1589     Zach Lofton   (null)   (null)   (null)  (null)  (null)  (null)\n1595         Zhou Qi   (null)   (null)   (null)  (null)  (null)  (null)",
      "text/html": "<div>\n<style scoped>\n    .dataframe tbody tr th:only-of-type {\n        vertical-align: middle;\n    }\n\n    .dataframe tbody tr th {\n        vertical-align: top;\n    }\n\n    .dataframe thead th {\n        text-align: right;\n    }\n</style>\n<table border=\"1\" class=\"dataframe\">\n  <thead>\n    <tr style=\"text-align: right;\">\n      <th></th>\n      <th>Player</th>\n      <th>EPM_O</th>\n      <th>EPM_D</th>\n      <th>EPM</th>\n      <th>RPM_O</th>\n      <th>RPM_D</th>\n      <th>RPM</th>\n    </tr>\n  </thead>\n  <tbody>\n    <tr>\n      <th>262</th>\n      <td>D.J. Stephens</td>\n      <td>-2.5000</td>\n      <td>-1.5000</td>\n      <td>-4.0000</td>\n      <td>(null)</td>\n      <td>(null)</td>\n      <td>(null)</td>\n    </tr>\n    <tr>\n      <th>419</th>\n      <td>Donte Grantham</td>\n      <td>(null)</td>\n      <td>(null)</td>\n      <td>(null)</td>\n      <td>(null)</td>\n      <td>(null)</td>\n      <td>(null)</td>\n    </tr>\n    <tr>\n      <th>536</th>\n      <td>George King</td>\n      <td>-2.1000</td>\n      <td>-0.7000</td>\n      <td>-2.8000</td>\n      <td>(null)</td>\n      <td>(null)</td>\n      <td>(null)</td>\n    </tr>\n    <tr>\n      <th>588</th>\n      <td>Ike Anigbogu</td>\n      <td>-3.0000</td>\n      <td>-0.7000</td>\n      <td>-3.7000</td>\n      <td>(null)</td>\n      <td>(null)</td>\n      <td>(null)</td>\n    </tr>\n    <tr>\n      <th>760</th>\n      <td>Joe Chealey</td>\n      <td>-2.1000</td>\n      <td>-1.0000</td>\n      <td>-3.1000</td>\n      <td>(null)</td>\n      <td>(null)</td>\n      <td>(null)</td>\n    </tr>\n    <tr>\n      <th>776</th>\n      <td>John Holland</td>\n      <td>(null)</td>\n      <td>(null)</td>\n      <td>(null)</td>\n      <td>(null)</td>\n      <td>(null)</td>\n      <td>(null)</td>\n    </tr>\n    <tr>\n      <th>813</th>\n      <td>Jordan Sibert</td>\n      <td>(null)</td>\n      <td>(null)</td>\n      <td>(null)</td>\n      <td>(null)</td>\n      <td>(null)</td>\n      <td>(null)</td>\n    </tr>\n    <tr>\n      <th>871</th>\n      <td>Kalin Lucas</td>\n      <td>-1.5000</td>\n      <td>-1.0000</td>\n      <td>-2.5000</td>\n      <td>(null)</td>\n      <td>(null)</td>\n      <td>(null)</td>\n    </tr>\n    <tr>\n      <th>938</th>\n      <td>Kobi Simmons</td>\n      <td>(null)</td>\n      <td>(null)</td>\n      <td>(null)</td>\n      <td>(null)</td>\n      <td>(null)</td>\n      <td>(null)</td>\n    </tr>\n    <tr>\n      <th>1201</th>\n      <td>Okaro White</td>\n      <td>-2.3000</td>\n      <td>-1.5000</td>\n      <td>-3.8000</td>\n      <td>(null)</td>\n      <td>(null)</td>\n      <td>(null)</td>\n    </tr>\n    <tr>\n      <th>1404</th>\n      <td>Tahjere McCall</td>\n      <td>-1.7000</td>\n      <td>0.9000</td>\n      <td>-0.8000</td>\n      <td>(null)</td>\n      <td>(null)</td>\n      <td>(null)</td>\n    </tr>\n    <tr>\n      <th>1421</th>\n      <td>Terrence Jones</td>\n      <td>-2.8000</td>\n      <td>-1.1000</td>\n      <td>-4.0000</td>\n      <td>(null)</td>\n      <td>(null)</td>\n      <td>(null)</td>\n    </tr>\n    <tr>\n      <th>1480</th>\n      <td>Trevon Duval</td>\n      <td>-0.4000</td>\n      <td>-1.6000</td>\n      <td>-2.0000</td>\n      <td>(null)</td>\n      <td>(null)</td>\n      <td>(null)</td>\n    </tr>\n    <tr>\n      <th>1507</th>\n      <td>Tyler Davis</td>\n      <td>(null)</td>\n      <td>(null)</td>\n      <td>(null)</td>\n      <td>(null)</td>\n      <td>(null)</td>\n      <td>(null)</td>\n    </tr>\n    <tr>\n      <th>1515</th>\n      <td>Tyler Ulis</td>\n      <td>(null)</td>\n      <td>(null)</td>\n      <td>(null)</td>\n      <td>(null)</td>\n      <td>(null)</td>\n      <td>(null)</td>\n    </tr>\n    <tr>\n      <th>1589</th>\n      <td>Zach Lofton</td>\n      <td>(null)</td>\n      <td>(null)</td>\n      <td>(null)</td>\n      <td>(null)</td>\n      <td>(null)</td>\n      <td>(null)</td>\n    </tr>\n    <tr>\n      <th>1595</th>\n      <td>Zhou Qi</td>\n      <td>(null)</td>\n      <td>(null)</td>\n      <td>(null)</td>\n      <td>(null)</td>\n      <td>(null)</td>\n      <td>(null)</td>\n    </tr>\n  </tbody>\n</table>\n</div>"
     },
     "metadata": {},
     "output_type": "display_data"
    }
   ],
   "execution_count": null
  },
  {
   "cell_type": "code",
   "metadata": {
    "deepnote_to_be_reexecuted": false,
    "source_hash": "3d9090f9",
    "execution_start": 1651809057237,
    "execution_millis": 1,
    "cell_id": "00013-835f257f-b37d-4a36-ae88-4e05941d86dc",
    "deepnote_cell_type": "code",
    "deepnote_cell_height": 189
   },
   "source": "#drops out the players and make RPM and EPM floats instead of strings\nplayer_box_2018=player_box_2018.replace(\"(null)\",np.nan)\nplayer_box_2018=player_box_2018.dropna()\nplayer_box_2018=player_box_2018.reset_index(drop=True)\nplayer_box_2018=player_box_2018.astype({'EPM_O':float, 'EPM_D':float, 'EPM':float,\n       'RPM_O':float, 'RPM_D':float, 'RPM':float})\n",
   "outputs": [],
   "execution_count": null
  },
  {
   "cell_type": "code",
   "metadata": {
    "deepnote_to_be_reexecuted": false,
    "source_hash": "5db1f8bd",
    "execution_start": 1651809057238,
    "execution_millis": 32,
    "cell_id": "00014-08abba85-82b1-429b-a2e6-2d48bbc9c18b",
    "deepnote_cell_type": "code",
    "deepnote_cell_height": 214.171875,
    "deepnote_output_heights": [
     117.171875
    ]
   },
   "source": "player_box_2018.columns",
   "outputs": [
    {
     "output_type": "execute_result",
     "execution_count": 15,
     "data": {
      "text/plain": "Index(['PlayerId', 'Player', 'LeagueId', 'SeasonYear', 'GameTypeId', 'GP',\n       'GS', 'MP', 'FGM', 'FGA', 'FG%', '2FGM', '2FGA', '2FG%', '3FGM', '3FGA',\n       '3FG%', 'eFG%', 'TS%', 'FTM', 'FTA', 'FT%', 'OR', 'DR', 'TR', 'AST',\n       'STL', 'BLK', 'TOV', 'PF', 'PTS', 'BPM_O', 'BPM_D', 'BPM', 'EPM_O',\n       'EPM_D', 'EPM', 'RPM_O', 'RPM_D', 'RPM'],\n      dtype='object')"
     },
     "metadata": {}
    }
   ],
   "execution_count": null
  },
  {
   "cell_type": "code",
   "metadata": {
    "deepnote_to_be_reexecuted": false,
    "source_hash": "8bcfca41",
    "execution_start": 1651809057239,
    "execution_millis": 1,
    "cell_id": "00015-2fb95900-a747-400a-baa5-97aab74fb0ba",
    "deepnote_cell_type": "code",
    "deepnote_cell_height": 189
   },
   "source": "'''\nDrop out obviously irrelevant columns.\nRPM = RPM_O - RPM_D. So we don't need RPM, BPM, EPM. Same things applies for TR.\nI noticed in the data that (offesive +/-) - (defensive +/-) would be slightly off from (+/-). I don't know if that's because the data\nis wrong our my interpretation of the stat is wrong so I thought I should mention that.\n'''\nplayer_box_2018=player_box_2018.drop(columns=[\"SeasonYear\",\"GameTypeId\",'LeagueId',\"RPM\",\"EPM\",\"BPM\",\"TR\"])",
   "outputs": [],
   "execution_count": null
  },
  {
   "cell_type": "code",
   "metadata": {
    "deepnote_to_be_reexecuted": false,
    "source_hash": "5db1f8bd",
    "execution_start": 1651809057240,
    "execution_millis": 30,
    "cell_id": "00016-8199a005-30f2-4350-a7a0-18f88526980e",
    "deepnote_cell_type": "code",
    "deepnote_cell_height": 194.96875,
    "deepnote_output_heights": [
     97.96875
    ]
   },
   "source": "player_box_2018.columns",
   "outputs": [
    {
     "output_type": "execute_result",
     "execution_count": 17,
     "data": {
      "text/plain": "Index(['PlayerId', 'Player', 'GP', 'GS', 'MP', 'FGM', 'FGA', 'FG%', '2FGM',\n       '2FGA', '2FG%', '3FGM', '3FGA', '3FG%', 'eFG%', 'TS%', 'FTM', 'FTA',\n       'FT%', 'OR', 'DR', 'AST', 'STL', 'BLK', 'TOV', 'PF', 'PTS', 'BPM_O',\n       'BPM_D', 'EPM_O', 'EPM_D', 'RPM_O', 'RPM_D'],\n      dtype='object')"
     },
     "metadata": {}
    }
   ],
   "execution_count": null
  },
  {
   "cell_type": "code",
   "metadata": {
    "deepnote_to_be_reexecuted": false,
    "source_hash": "8be04cab",
    "execution_start": 1651809057258,
    "execution_millis": 82,
    "cell_id": "00017-589a12bd-ccf3-4c76-b7e3-f8a2156d7c1a",
    "deepnote_cell_type": "code",
    "deepnote_cell_height": 600
   },
   "source": "player_box_2018",
   "outputs": [
    {
     "output_type": "execute_result",
     "execution_count": 18,
     "data": {
      "application/vnd.deepnote.dataframe.v3+json": {
       "column_count": 33,
       "row_count": 513,
       "columns": [
        {
         "name": "PlayerId",
         "dtype": "int64",
         "stats": {
          "unique_count": 513,
          "nan_count": 0,
          "min": "1",
          "max": "1671",
          "histogram": [
           {
            "bin_start": 1,
            "bin_end": 168,
            "count": 4
           },
           {
            "bin_start": 168,
            "bin_end": 335,
            "count": 4
           },
           {
            "bin_start": 335,
            "bin_end": 502,
            "count": 35
           },
           {
            "bin_start": 502,
            "bin_end": 669,
            "count": 54
           },
           {
            "bin_start": 669,
            "bin_end": 836,
            "count": 19
           },
           {
            "bin_start": 836,
            "bin_end": 1003,
            "count": 32
           },
           {
            "bin_start": 1003,
            "bin_end": 1170,
            "count": 70
           },
           {
            "bin_start": 1170,
            "bin_end": 1337,
            "count": 90
           },
           {
            "bin_start": 1337,
            "bin_end": 1504,
            "count": 99
           },
           {
            "bin_start": 1504,
            "bin_end": 1671,
            "count": 106
           }
          ]
         }
        },
        {
         "name": "Player",
         "dtype": "object",
         "stats": {
          "unique_count": 513,
          "nan_count": 0,
          "categories": [
           {
            "name": "Aaron Gordon",
            "count": 1
           },
           {
            "name": "Aaron Holiday",
            "count": 1
           },
           {
            "name": "511 others",
            "count": 511
           }
          ]
         }
        },
        {
         "name": "GP",
         "dtype": "int64",
         "stats": {
          "unique_count": 81,
          "nan_count": 0,
          "min": "1",
          "max": "82",
          "histogram": [
           {
            "bin_start": 1,
            "bin_end": 9.1,
            "count": 44
           },
           {
            "bin_start": 9.1,
            "bin_end": 17.2,
            "count": 35
           },
           {
            "bin_start": 17.2,
            "bin_end": 25.299999999999997,
            "count": 32
           },
           {
            "bin_start": 25.299999999999997,
            "bin_end": 33.4,
            "count": 26
           },
           {
            "bin_start": 33.4,
            "bin_end": 41.5,
            "count": 27
           },
           {
            "bin_start": 41.5,
            "bin_end": 49.599999999999994,
            "count": 50
           },
           {
            "bin_start": 49.599999999999994,
            "bin_end": 57.699999999999996,
            "count": 42
           },
           {
            "bin_start": 57.699999999999996,
            "bin_end": 65.8,
            "count": 62
           },
           {
            "bin_start": 65.8,
            "bin_end": 73.89999999999999,
            "count": 72
           },
           {
            "bin_start": 73.89999999999999,
            "bin_end": 82,
            "count": 123
           }
          ]
         }
        },
        {
         "name": "GS",
         "dtype": "int64",
         "stats": {
          "unique_count": 79,
          "nan_count": 0,
          "min": "0",
          "max": "82",
          "histogram": [
           {
            "bin_start": 0,
            "bin_end": 8.2,
            "count": 249
           },
           {
            "bin_start": 8.2,
            "bin_end": 16.4,
            "count": 45
           },
           {
            "bin_start": 16.4,
            "bin_end": 24.599999999999998,
            "count": 33
           },
           {
            "bin_start": 24.599999999999998,
            "bin_end": 32.8,
            "count": 28
           },
           {
            "bin_start": 32.8,
            "bin_end": 41,
            "count": 18
           },
           {
            "bin_start": 41,
            "bin_end": 49.199999999999996,
            "count": 19
           },
           {
            "bin_start": 49.199999999999996,
            "bin_end": 57.39999999999999,
            "count": 25
           },
           {
            "bin_start": 57.39999999999999,
            "bin_end": 65.6,
            "count": 18
           },
           {
            "bin_start": 65.6,
            "bin_end": 73.8,
            "count": 27
           },
           {
            "bin_start": 73.8,
            "bin_end": 82,
            "count": 51
           }
          ]
         }
        },
        {
         "name": "MP",
         "dtype": "float64",
         "stats": {
          "unique_count": 513,
          "nan_count": 0,
          "min": "10.56",
          "max": "3027.5",
          "histogram": [
           {
            "bin_start": 10.56,
            "bin_end": 312.254,
            "count": 112
           },
           {
            "bin_start": 312.254,
            "bin_end": 613.948,
            "count": 57
           },
           {
            "bin_start": 613.948,
            "bin_end": 915.642,
            "count": 56
           },
           {
            "bin_start": 915.642,
            "bin_end": 1217.336,
            "count": 50
           },
           {
            "bin_start": 1217.336,
            "bin_end": 1519.03,
            "count": 59
           },
           {
            "bin_start": 1519.03,
            "bin_end": 1820.7240000000002,
            "count": 44
           },
           {
            "bin_start": 1820.7240000000002,
            "bin_end": 2122.418,
            "count": 50
           },
           {
            "bin_start": 2122.418,
            "bin_end": 2424.112,
            "count": 44
           },
           {
            "bin_start": 2424.112,
            "bin_end": 2725.806,
            "count": 34
           },
           {
            "bin_start": 2725.806,
            "bin_end": 3027.5,
            "count": 7
           }
          ]
         }
        },
        {
         "name": "FGM",
         "dtype": "int64",
         "stats": {
          "unique_count": 302,
          "nan_count": 0,
          "min": "0",
          "max": "843",
          "histogram": [
           {
            "bin_start": 0,
            "bin_end": 84.3,
            "count": 177
           },
           {
            "bin_start": 84.3,
            "bin_end": 168.6,
            "count": 88
           },
           {
            "bin_start": 168.6,
            "bin_end": 252.89999999999998,
            "count": 92
           },
           {
            "bin_start": 252.89999999999998,
            "bin_end": 337.2,
            "count": 54
           },
           {
            "bin_start": 337.2,
            "bin_end": 421.5,
            "count": 38
           },
           {
            "bin_start": 421.5,
            "bin_end": 505.79999999999995,
            "count": 22
           },
           {
            "bin_start": 505.79999999999995,
            "bin_end": 590.1,
            "count": 21
           },
           {
            "bin_start": 590.1,
            "bin_end": 674.4,
            "count": 11
           },
           {
            "bin_start": 674.4,
            "bin_end": 758.6999999999999,
            "count": 8
           },
           {
            "bin_start": 758.6999999999999,
            "bin_end": 843,
            "count": 2
           }
          ]
         }
        },
        {
         "name": "FGA",
         "dtype": "int64",
         "stats": {
          "unique_count": 395,
          "nan_count": 0,
          "min": "3",
          "max": "1909",
          "histogram": [
           {
            "bin_start": 3,
            "bin_end": 193.6,
            "count": 182
           },
           {
            "bin_start": 193.6,
            "bin_end": 384.2,
            "count": 93
           },
           {
            "bin_start": 384.2,
            "bin_end": 574.8,
            "count": 90
           },
           {
            "bin_start": 574.8,
            "bin_end": 765.4,
            "count": 63
           },
           {
            "bin_start": 765.4,
            "bin_end": 956,
            "count": 28
           },
           {
            "bin_start": 956,
            "bin_end": 1146.6,
            "count": 25
           },
           {
            "bin_start": 1146.6,
            "bin_end": 1337.2,
            "count": 18
           },
           {
            "bin_start": 1337.2,
            "bin_end": 1527.8,
            "count": 8
           },
           {
            "bin_start": 1527.8,
            "bin_end": 1718.3999999999999,
            "count": 5
           },
           {
            "bin_start": 1718.3999999999999,
            "bin_end": 1909,
            "count": 1
           }
          ]
         }
        },
        {
         "name": "FG%",
         "dtype": "float64",
         "stats": {
          "unique_count": 455,
          "nan_count": 0,
          "min": "0.0",
          "max": "0.716216216",
          "histogram": [
           {
            "bin_start": 0,
            "bin_end": 0.07162162159999999,
            "count": 2
           },
           {
            "bin_start": 0.07162162159999999,
            "bin_end": 0.14324324319999998,
            "count": 0
           },
           {
            "bin_start": 0.14324324319999998,
            "bin_end": 0.21486486479999997,
            "count": 4
           },
           {
            "bin_start": 0.21486486479999997,
            "bin_end": 0.28648648639999996,
            "count": 11
           },
           {
            "bin_start": 0.28648648639999996,
            "bin_end": 0.3581081079999999,
            "count": 41
           },
           {
            "bin_start": 0.3581081079999999,
            "bin_end": 0.42972972959999994,
            "count": 164
           },
           {
            "bin_start": 0.42972972959999994,
            "bin_end": 0.5013513512,
            "count": 190
           },
           {
            "bin_start": 0.5013513512,
            "bin_end": 0.5729729727999999,
            "count": 60
           },
           {
            "bin_start": 0.5729729727999999,
            "bin_end": 0.6445945943999999,
            "count": 31
           },
           {
            "bin_start": 0.6445945943999999,
            "bin_end": 0.716216216,
            "count": 10
           }
          ]
         }
        },
        {
         "name": "2FGM",
         "dtype": "int64",
         "stats": {
          "unique_count": 268,
          "nan_count": 0,
          "min": "0",
          "max": "674",
          "histogram": [
           {
            "bin_start": 0,
            "bin_end": 67.4,
            "count": 206
           },
           {
            "bin_start": 67.4,
            "bin_end": 134.8,
            "count": 97
           },
           {
            "bin_start": 134.8,
            "bin_end": 202.20000000000002,
            "count": 84
           },
           {
            "bin_start": 202.20000000000002,
            "bin_end": 269.6,
            "count": 38
           },
           {
            "bin_start": 269.6,
            "bin_end": 337,
            "count": 27
           },
           {
            "bin_start": 337,
            "bin_end": 404.40000000000003,
            "count": 21
           },
           {
            "bin_start": 404.40000000000003,
            "bin_end": 471.80000000000007,
            "count": 20
           },
           {
            "bin_start": 471.80000000000007,
            "bin_end": 539.2,
            "count": 11
           },
           {
            "bin_start": 539.2,
            "bin_end": 606.6,
            "count": 5
           },
           {
            "bin_start": 606.6,
            "bin_end": 674,
            "count": 4
           }
          ]
         }
        },
        {
         "name": "2FGA",
         "dtype": "int64",
         "stats": {
          "unique_count": 343,
          "nan_count": 0,
          "min": "0",
          "max": "1277",
          "histogram": [
           {
            "bin_start": 0,
            "bin_end": 127.7,
            "count": 197
           },
           {
            "bin_start": 127.7,
            "bin_end": 255.4,
            "count": 99
           },
           {
            "bin_start": 255.4,
            "bin_end": 383.1,
            "count": 87
           },
           {
            "bin_start": 383.1,
            "bin_end": 510.8,
            "count": 42
           },
           {
            "bin_start": 510.8,
            "bin_end": 638.5,
            "count": 25
           },
           {
            "bin_start": 638.5,
            "bin_end": 766.2,
            "count": 24
           },
           {
            "bin_start": 766.2,
            "bin_end": 893.9,
            "count": 23
           },
           {
            "bin_start": 893.9,
            "bin_end": 1021.6,
            "count": 11
           },
           {
            "bin_start": 1021.6,
            "bin_end": 1149.3,
            "count": 3
           },
           {
            "bin_start": 1149.3,
            "bin_end": 1277,
            "count": 2
           }
          ]
         }
        },
        {
         "name": "2FG%",
         "dtype": "float64",
         "stats": {
          "unique_count": 434,
          "nan_count": 0,
          "min": "0.0",
          "max": "0.727272727",
          "histogram": [
           {
            "bin_start": 0,
            "bin_end": 0.0727272727,
            "count": 5
           },
           {
            "bin_start": 0.0727272727,
            "bin_end": 0.1454545454,
            "count": 0
           },
           {
            "bin_start": 0.1454545454,
            "bin_end": 0.21818181809999998,
            "count": 5
           },
           {
            "bin_start": 0.21818181809999998,
            "bin_end": 0.2909090908,
            "count": 5
           },
           {
            "bin_start": 0.2909090908,
            "bin_end": 0.3636363635,
            "count": 14
           },
           {
            "bin_start": 0.3636363635,
            "bin_end": 0.43636363619999996,
            "count": 53
           },
           {
            "bin_start": 0.43636363619999996,
            "bin_end": 0.5090909089,
            "count": 189
           },
           {
            "bin_start": 0.5090909089,
            "bin_end": 0.5818181816,
            "count": 159
           },
           {
            "bin_start": 0.5818181816,
            "bin_end": 0.6545454543,
            "count": 62
           },
           {
            "bin_start": 0.6545454543,
            "bin_end": 0.727272727,
            "count": 21
           }
          ]
         }
        },
        {
         "name": "3FGM",
         "dtype": "int64",
         "stats": {
          "unique_count": 163,
          "nan_count": 0,
          "min": "0",
          "max": "378",
          "histogram": [
           {
            "bin_start": 0,
            "bin_end": 37.8,
            "count": 261
           },
           {
            "bin_start": 37.8,
            "bin_end": 75.6,
            "count": 105
           },
           {
            "bin_start": 75.6,
            "bin_end": 113.39999999999999,
            "count": 61
           },
           {
            "bin_start": 113.39999999999999,
            "bin_end": 151.2,
            "count": 45
           },
           {
            "bin_start": 151.2,
            "bin_end": 189,
            "count": 26
           },
           {
            "bin_start": 189,
            "bin_end": 226.79999999999998,
            "count": 6
           },
           {
            "bin_start": 226.79999999999998,
            "bin_end": 264.59999999999997,
            "count": 5
           },
           {
            "bin_start": 264.59999999999997,
            "bin_end": 302.4,
            "count": 2
           },
           {
            "bin_start": 302.4,
            "bin_end": 340.2,
            "count": 0
           },
           {
            "bin_start": 340.2,
            "bin_end": 378,
            "count": 2
           }
          ]
         }
        },
        {
         "name": "3FGA",
         "dtype": "int64",
         "stats": {
          "unique_count": 262,
          "nan_count": 0,
          "min": "0",
          "max": "1028",
          "histogram": [
           {
            "bin_start": 0,
            "bin_end": 102.8,
            "count": 256
           },
           {
            "bin_start": 102.8,
            "bin_end": 205.6,
            "count": 109
           },
           {
            "bin_start": 205.6,
            "bin_end": 308.4,
            "count": 57
           },
           {
            "bin_start": 308.4,
            "bin_end": 411.2,
            "count": 52
           },
           {
            "bin_start": 411.2,
            "bin_end": 514,
            "count": 23
           },
           {
            "bin_start": 514,
            "bin_end": 616.8,
            "count": 9
           },
           {
            "bin_start": 616.8,
            "bin_end": 719.6,
            "count": 3
           },
           {
            "bin_start": 719.6,
            "bin_end": 822.4,
            "count": 3
           },
           {
            "bin_start": 822.4,
            "bin_end": 925.1999999999999,
            "count": 0
           },
           {
            "bin_start": 925.1999999999999,
            "bin_end": 1028,
            "count": 1
           }
          ]
         }
        },
        {
         "name": "3FG%",
         "dtype": "float64",
         "stats": {
          "unique_count": 348,
          "nan_count": 0,
          "min": "0.0",
          "max": "1.0",
          "histogram": [
           {
            "bin_start": 0,
            "bin_end": 0.1,
            "count": 66
           },
           {
            "bin_start": 0.1,
            "bin_end": 0.2,
            "count": 17
           },
           {
            "bin_start": 0.2,
            "bin_end": 0.30000000000000004,
            "count": 85
           },
           {
            "bin_start": 0.30000000000000004,
            "bin_end": 0.4,
            "count": 279
           },
           {
            "bin_start": 0.4,
            "bin_end": 0.5,
            "count": 56
           },
           {
            "bin_start": 0.5,
            "bin_end": 0.6000000000000001,
            "count": 7
           },
           {
            "bin_start": 0.6000000000000001,
            "bin_end": 0.7000000000000001,
            "count": 1
           },
           {
            "bin_start": 0.7000000000000001,
            "bin_end": 0.8,
            "count": 0
           },
           {
            "bin_start": 0.8,
            "bin_end": 0.9,
            "count": 0
           },
           {
            "bin_start": 0.9,
            "bin_end": 1,
            "count": 2
           }
          ]
         }
        },
        {
         "name": "eFG%",
         "dtype": "float64",
         "stats": {
          "unique_count": 463,
          "nan_count": 0,
          "min": "0.0",
          "max": "0.716216216",
          "histogram": [
           {
            "bin_start": 0,
            "bin_end": 0.07162162159999999,
            "count": 2
           },
           {
            "bin_start": 0.07162162159999999,
            "bin_end": 0.14324324319999998,
            "count": 0
           },
           {
            "bin_start": 0.14324324319999998,
            "bin_end": 0.21486486479999997,
            "count": 4
           },
           {
            "bin_start": 0.21486486479999997,
            "bin_end": 0.28648648639999996,
            "count": 7
           },
           {
            "bin_start": 0.28648648639999996,
            "bin_end": 0.3581081079999999,
            "count": 13
           },
           {
            "bin_start": 0.3581081079999999,
            "bin_end": 0.42972972959999994,
            "count": 35
           },
           {
            "bin_start": 0.42972972959999994,
            "bin_end": 0.5013513512,
            "count": 156
           },
           {
            "bin_start": 0.5013513512,
            "bin_end": 0.5729729727999999,
            "count": 219
           },
           {
            "bin_start": 0.5729729727999999,
            "bin_end": 0.6445945943999999,
            "count": 65
           },
           {
            "bin_start": 0.6445945943999999,
            "bin_end": 0.716216216,
            "count": 12
           }
          ]
         }
        },
        {
         "name": "TS%",
         "dtype": "float64",
         "stats": {
          "unique_count": 507,
          "nan_count": 0,
          "min": "0.0",
          "max": "0.776398",
          "histogram": [
           {
            "bin_start": 0,
            "bin_end": 0.07763980000000001,
            "count": 1
           },
           {
            "bin_start": 0.07763980000000001,
            "bin_end": 0.15527960000000002,
            "count": 0
           },
           {
            "bin_start": 0.15527960000000002,
            "bin_end": 0.23291940000000003,
            "count": 2
           },
           {
            "bin_start": 0.23291940000000003,
            "bin_end": 0.31055920000000004,
            "count": 5
           },
           {
            "bin_start": 0.31055920000000004,
            "bin_end": 0.38819900000000007,
            "count": 19
           },
           {
            "bin_start": 0.38819900000000007,
            "bin_end": 0.46583880000000005,
            "count": 36
           },
           {
            "bin_start": 0.46583880000000005,
            "bin_end": 0.5434786,
            "count": 177
           },
           {
            "bin_start": 0.5434786,
            "bin_end": 0.6211184000000001,
            "count": 219
           },
           {
            "bin_start": 0.6211184000000001,
            "bin_end": 0.6987582000000001,
            "count": 51
           },
           {
            "bin_start": 0.6987582000000001,
            "bin_end": 0.776398,
            "count": 3
           }
          ]
         }
        },
        {
         "name": "FTM",
         "dtype": "int64",
         "stats": {
          "unique_count": 212,
          "nan_count": 0,
          "min": "0",
          "max": "754",
          "histogram": [
           {
            "bin_start": 0,
            "bin_end": 75.4,
            "count": 316
           },
           {
            "bin_start": 75.4,
            "bin_end": 150.8,
            "count": 106
           },
           {
            "bin_start": 150.8,
            "bin_end": 226.20000000000002,
            "count": 49
           },
           {
            "bin_start": 226.20000000000002,
            "bin_end": 301.6,
            "count": 16
           },
           {
            "bin_start": 301.6,
            "bin_end": 377,
            "count": 16
           },
           {
            "bin_start": 377,
            "bin_end": 452.40000000000003,
            "count": 5
           },
           {
            "bin_start": 452.40000000000003,
            "bin_end": 527.8000000000001,
            "count": 4
           },
           {
            "bin_start": 527.8000000000001,
            "bin_end": 603.2,
            "count": 0
           },
           {
            "bin_start": 603.2,
            "bin_end": 678.6,
            "count": 0
           },
           {
            "bin_start": 678.6,
            "bin_end": 754,
            "count": 1
           }
          ]
         }
        },
        {
         "name": "FTA",
         "dtype": "int64",
         "stats": {
          "unique_count": 225,
          "nan_count": 0,
          "min": "0",
          "max": "858",
          "histogram": [
           {
            "bin_start": 0,
            "bin_end": 85.8,
            "count": 291
           },
           {
            "bin_start": 85.8,
            "bin_end": 171.6,
            "count": 109
           },
           {
            "bin_start": 171.6,
            "bin_end": 257.4,
            "count": 61
           },
           {
            "bin_start": 257.4,
            "bin_end": 343.2,
            "count": 18
           },
           {
            "bin_start": 343.2,
            "bin_end": 429,
            "count": 16
           },
           {
            "bin_start": 429,
            "bin_end": 514.8,
            "count": 12
           },
           {
            "bin_start": 514.8,
            "bin_end": 600.6,
            "count": 3
           },
           {
            "bin_start": 600.6,
            "bin_end": 686.4,
            "count": 2
           },
           {
            "bin_start": 686.4,
            "bin_end": 772.1999999999999,
            "count": 0
           },
           {
            "bin_start": 772.1999999999999,
            "bin_end": 858,
            "count": 1
           }
          ]
         }
        },
        {
         "name": "FT%",
         "dtype": "float64",
         "stats": {
          "unique_count": 356,
          "nan_count": 0,
          "min": "0.0",
          "max": "1.0",
          "histogram": [
           {
            "bin_start": 0,
            "bin_end": 0.1,
            "count": 18
           },
           {
            "bin_start": 0.1,
            "bin_end": 0.2,
            "count": 0
           },
           {
            "bin_start": 0.2,
            "bin_end": 0.30000000000000004,
            "count": 1
           },
           {
            "bin_start": 0.30000000000000004,
            "bin_end": 0.4,
            "count": 2
           },
           {
            "bin_start": 0.4,
            "bin_end": 0.5,
            "count": 6
           },
           {
            "bin_start": 0.5,
            "bin_end": 0.6000000000000001,
            "count": 49
           },
           {
            "bin_start": 0.6000000000000001,
            "bin_end": 0.7000000000000001,
            "count": 94
           },
           {
            "bin_start": 0.7000000000000001,
            "bin_end": 0.8,
            "count": 168
           },
           {
            "bin_start": 0.8,
            "bin_end": 0.9,
            "count": 152
           },
           {
            "bin_start": 0.9,
            "bin_end": 1,
            "count": 23
           }
          ]
         }
        },
        {
         "name": "OR",
         "dtype": "int64",
         "stats": {
          "unique_count": 149,
          "nan_count": 0,
          "min": "0",
          "max": "423",
          "histogram": [
           {
            "bin_start": 0,
            "bin_end": 42.3,
            "count": 313
           },
           {
            "bin_start": 42.3,
            "bin_end": 84.6,
            "count": 116
           },
           {
            "bin_start": 84.6,
            "bin_end": 126.89999999999999,
            "count": 40
           },
           {
            "bin_start": 126.89999999999999,
            "bin_end": 169.2,
            "count": 15
           },
           {
            "bin_start": 169.2,
            "bin_end": 211.5,
            "count": 14
           },
           {
            "bin_start": 211.5,
            "bin_end": 253.79999999999998,
            "count": 8
           },
           {
            "bin_start": 253.79999999999998,
            "bin_end": 296.09999999999997,
            "count": 3
           },
           {
            "bin_start": 296.09999999999997,
            "bin_end": 338.4,
            "count": 2
           },
           {
            "bin_start": 338.4,
            "bin_end": 380.7,
            "count": 0
           },
           {
            "bin_start": 380.7,
            "bin_end": 423,
            "count": 2
           }
          ]
         }
        },
        {
         "name": "DR",
         "dtype": "int64",
         "stats": {
          "unique_count": 283,
          "nan_count": 0,
          "min": "0",
          "max": "809",
          "histogram": [
           {
            "bin_start": 0,
            "bin_end": 80.9,
            "count": 175
           },
           {
            "bin_start": 80.9,
            "bin_end": 161.8,
            "count": 111
           },
           {
            "bin_start": 161.8,
            "bin_end": 242.70000000000002,
            "count": 103
           },
           {
            "bin_start": 242.70000000000002,
            "bin_end": 323.6,
            "count": 58
           },
           {
            "bin_start": 323.6,
            "bin_end": 404.5,
            "count": 25
           },
           {
            "bin_start": 404.5,
            "bin_end": 485.40000000000003,
            "count": 19
           },
           {
            "bin_start": 485.40000000000003,
            "bin_end": 566.3000000000001,
            "count": 12
           },
           {
            "bin_start": 566.3000000000001,
            "bin_end": 647.2,
            "count": 2
           },
           {
            "bin_start": 647.2,
            "bin_end": 728.1,
            "count": 4
           },
           {
            "bin_start": 728.1,
            "bin_end": 809,
            "count": 4
           }
          ]
         }
        },
        {
         "name": "AST",
         "dtype": "int64",
         "stats": {
          "unique_count": 238,
          "nan_count": 0,
          "min": "0",
          "max": "784",
          "histogram": [
           {
            "bin_start": 0,
            "bin_end": 78.4,
            "count": 255
           },
           {
            "bin_start": 78.4,
            "bin_end": 156.8,
            "count": 126
           },
           {
            "bin_start": 156.8,
            "bin_end": 235.20000000000002,
            "count": 55
           },
           {
            "bin_start": 235.20000000000002,
            "bin_end": 313.6,
            "count": 33
           },
           {
            "bin_start": 313.6,
            "bin_end": 392,
            "count": 14
           },
           {
            "bin_start": 392,
            "bin_end": 470.40000000000003,
            "count": 17
           },
           {
            "bin_start": 470.40000000000003,
            "bin_end": 548.8000000000001,
            "count": 4
           },
           {
            "bin_start": 548.8000000000001,
            "bin_end": 627.2,
            "count": 7
           },
           {
            "bin_start": 627.2,
            "bin_end": 705.6,
            "count": 1
           },
           {
            "bin_start": 705.6,
            "bin_end": 784,
            "count": 1
           }
          ]
         }
        },
        {
         "name": "STL",
         "dtype": "int64",
         "stats": {
          "unique_count": 113,
          "nan_count": 0,
          "min": "0",
          "max": "170",
          "histogram": [
           {
            "bin_start": 0,
            "bin_end": 17,
            "count": 176
           },
           {
            "bin_start": 17,
            "bin_end": 34,
            "count": 108
           },
           {
            "bin_start": 34,
            "bin_end": 51,
            "count": 78
           },
           {
            "bin_start": 51,
            "bin_end": 68,
            "count": 65
           },
           {
            "bin_start": 68,
            "bin_end": 85,
            "count": 41
           },
           {
            "bin_start": 85,
            "bin_end": 102,
            "count": 21
           },
           {
            "bin_start": 102,
            "bin_end": 119,
            "count": 12
           },
           {
            "bin_start": 119,
            "bin_end": 136,
            "count": 7
           },
           {
            "bin_start": 136,
            "bin_end": 153,
            "count": 3
           },
           {
            "bin_start": 153,
            "bin_end": 170,
            "count": 2
           }
          ]
         }
        },
        {
         "name": "BLK",
         "dtype": "int64",
         "stats": {
          "unique_count": 95,
          "nan_count": 0,
          "min": "0",
          "max": "199",
          "histogram": [
           {
            "bin_start": 0,
            "bin_end": 19.9,
            "count": 300
           },
           {
            "bin_start": 19.9,
            "bin_end": 39.8,
            "count": 122
           },
           {
            "bin_start": 39.8,
            "bin_end": 59.699999999999996,
            "count": 48
           },
           {
            "bin_start": 59.699999999999996,
            "bin_end": 79.6,
            "count": 17
           },
           {
            "bin_start": 79.6,
            "bin_end": 99.5,
            "count": 7
           },
           {
            "bin_start": 99.5,
            "bin_end": 119.39999999999999,
            "count": 8
           },
           {
            "bin_start": 119.39999999999999,
            "bin_end": 139.29999999999998,
            "count": 6
           },
           {
            "bin_start": 139.29999999999998,
            "bin_end": 159.2,
            "count": 1
           },
           {
            "bin_start": 159.2,
            "bin_end": 179.1,
            "count": 2
           },
           {
            "bin_start": 179.1,
            "bin_end": 199,
            "count": 2
           }
          ]
         }
        },
        {
         "name": "TOV",
         "dtype": "int64",
         "stats": {
          "unique_count": 181,
          "nan_count": 0,
          "min": "0",
          "max": "387",
          "histogram": [
           {
            "bin_start": 0,
            "bin_end": 38.7,
            "count": 215
           },
           {
            "bin_start": 38.7,
            "bin_end": 77.4,
            "count": 136
           },
           {
            "bin_start": 77.4,
            "bin_end": 116.10000000000001,
            "count": 74
           },
           {
            "bin_start": 116.10000000000001,
            "bin_end": 154.8,
            "count": 44
           },
           {
            "bin_start": 154.8,
            "bin_end": 193.5,
            "count": 20
           },
           {
            "bin_start": 193.5,
            "bin_end": 232.20000000000002,
            "count": 13
           },
           {
            "bin_start": 232.20000000000002,
            "bin_end": 270.90000000000003,
            "count": 7
           },
           {
            "bin_start": 270.90000000000003,
            "bin_end": 309.6,
            "count": 2
           },
           {
            "bin_start": 309.6,
            "bin_end": 348.3,
            "count": 1
           },
           {
            "bin_start": 348.3,
            "bin_end": 387,
            "count": 1
           }
          ]
         }
        },
        {
         "name": "PF",
         "dtype": "int64",
         "stats": {
          "unique_count": 208,
          "nan_count": 0,
          "min": "0",
          "max": "292",
          "histogram": [
           {
            "bin_start": 0,
            "bin_end": 29.2,
            "count": 110
           },
           {
            "bin_start": 29.2,
            "bin_end": 58.4,
            "count": 60
           },
           {
            "bin_start": 58.4,
            "bin_end": 87.6,
            "count": 58
           },
           {
            "bin_start": 87.6,
            "bin_end": 116.8,
            "count": 80
           },
           {
            "bin_start": 116.8,
            "bin_end": 146,
            "count": 64
           },
           {
            "bin_start": 146,
            "bin_end": 175.2,
            "count": 61
           },
           {
            "bin_start": 175.2,
            "bin_end": 204.4,
            "count": 44
           },
           {
            "bin_start": 204.4,
            "bin_end": 233.6,
            "count": 24
           },
           {
            "bin_start": 233.6,
            "bin_end": 262.8,
            "count": 9
           },
           {
            "bin_start": 262.8,
            "bin_end": 292,
            "count": 3
           }
          ]
         }
        },
        {
         "name": "PTS",
         "dtype": "int64",
         "stats": {
          "unique_count": 418,
          "nan_count": 0,
          "min": "0",
          "max": "2818",
          "histogram": [
           {
            "bin_start": 0,
            "bin_end": 281.8,
            "count": 203
           },
           {
            "bin_start": 281.8,
            "bin_end": 563.6,
            "count": 118
           },
           {
            "bin_start": 563.6,
            "bin_end": 845.4000000000001,
            "count": 75
           },
           {
            "bin_start": 845.4000000000001,
            "bin_end": 1127.2,
            "count": 53
           },
           {
            "bin_start": 1127.2,
            "bin_end": 1409,
            "count": 29
           },
           {
            "bin_start": 1409,
            "bin_end": 1690.8000000000002,
            "count": 19
           },
           {
            "bin_start": 1690.8000000000002,
            "bin_end": 1972.6000000000001,
            "count": 9
           },
           {
            "bin_start": 1972.6000000000001,
            "bin_end": 2254.4,
            "count": 6
           },
           {
            "bin_start": 2254.4,
            "bin_end": 2536.2000000000003,
            "count": 0
           },
           {
            "bin_start": 2536.2000000000003,
            "bin_end": 2818,
            "count": 1
           }
          ]
         }
        },
        {
         "name": "BPM_O",
         "dtype": "float64",
         "stats": {
          "unique_count": 131,
          "nan_count": 0,
          "min": "-19.4",
          "max": "9.6",
          "histogram": [
           {
            "bin_start": -19.4,
            "bin_end": -16.5,
            "count": 1
           },
           {
            "bin_start": -16.5,
            "bin_end": -13.599999999999998,
            "count": 1
           },
           {
            "bin_start": -13.599999999999998,
            "bin_end": -10.7,
            "count": 2
           },
           {
            "bin_start": -10.7,
            "bin_end": -7.799999999999999,
            "count": 6
           },
           {
            "bin_start": -7.799999999999999,
            "bin_end": -4.899999999999999,
            "count": 37
           },
           {
            "bin_start": -4.899999999999999,
            "bin_end": -2,
            "count": 135
           },
           {
            "bin_start": -2,
            "bin_end": 0.9000000000000021,
            "count": 229
           },
           {
            "bin_start": 0.9000000000000021,
            "bin_end": 3.8000000000000007,
            "count": 79
           },
           {
            "bin_start": 3.8000000000000007,
            "bin_end": 6.699999999999999,
            "count": 17
           },
           {
            "bin_start": 6.699999999999999,
            "bin_end": 9.6,
            "count": 6
           }
          ]
         }
        },
        {
         "name": "BPM_D",
         "dtype": "float64",
         "stats": {
          "unique_count": 79,
          "nan_count": 0,
          "min": "-5.3",
          "max": "10.6",
          "histogram": [
           {
            "bin_start": -5.3,
            "bin_end": -3.71,
            "count": 7
           },
           {
            "bin_start": -3.71,
            "bin_end": -2.12,
            "count": 30
           },
           {
            "bin_start": -2.12,
            "bin_end": -0.5300000000000002,
            "count": 164
           },
           {
            "bin_start": -0.5300000000000002,
            "bin_end": 1.0599999999999996,
            "count": 224
           },
           {
            "bin_start": 1.0599999999999996,
            "bin_end": 2.6499999999999995,
            "count": 73
           },
           {
            "bin_start": 2.6499999999999995,
            "bin_end": 4.239999999999999,
            "count": 14
           },
           {
            "bin_start": 4.239999999999999,
            "bin_end": 5.829999999999999,
            "count": 0
           },
           {
            "bin_start": 5.829999999999999,
            "bin_end": 7.419999999999999,
            "count": 0
           },
           {
            "bin_start": 7.419999999999999,
            "bin_end": 9.009999999999998,
            "count": 0
           },
           {
            "bin_start": 9.009999999999998,
            "bin_end": 10.6,
            "count": 1
           }
          ]
         }
        },
        {
         "name": "EPM_O",
         "dtype": "float64",
         "stats": {
          "unique_count": 206,
          "nan_count": 0,
          "min": "-5.9",
          "max": "8.21",
          "histogram": [
           {
            "bin_start": -5.9,
            "bin_end": -4.489000000000001,
            "count": 12
           },
           {
            "bin_start": -4.489000000000001,
            "bin_end": -3.0780000000000003,
            "count": 57
           },
           {
            "bin_start": -3.0780000000000003,
            "bin_end": -1.6669999999999998,
            "count": 139
           },
           {
            "bin_start": -1.6669999999999998,
            "bin_end": -0.2560000000000002,
            "count": 144
           },
           {
            "bin_start": -0.2560000000000002,
            "bin_end": 1.1549999999999994,
            "count": 84
           },
           {
            "bin_start": 1.1549999999999994,
            "bin_end": 2.5660000000000007,
            "count": 46
           },
           {
            "bin_start": 2.5660000000000007,
            "bin_end": 3.9770000000000003,
            "count": 15
           },
           {
            "bin_start": 3.9770000000000003,
            "bin_end": 5.388,
            "count": 13
           },
           {
            "bin_start": 5.388,
            "bin_end": 6.7989999999999995,
            "count": 1
           },
           {
            "bin_start": 6.7989999999999995,
            "bin_end": 8.21,
            "count": 2
           }
          ]
         }
        },
        {
         "name": "EPM_D",
         "dtype": "float64",
         "stats": {
          "unique_count": 178,
          "nan_count": 0,
          "min": "-4.5",
          "max": "4.21",
          "histogram": [
           {
            "bin_start": -4.5,
            "bin_end": -3.629,
            "count": 5
           },
           {
            "bin_start": -3.629,
            "bin_end": -2.758,
            "count": 19
           },
           {
            "bin_start": -2.758,
            "bin_end": -1.8869999999999996,
            "count": 58
           },
           {
            "bin_start": -1.8869999999999996,
            "bin_end": -1.0159999999999996,
            "count": 98
           },
           {
            "bin_start": -1.0159999999999996,
            "bin_end": -0.14499999999999957,
            "count": 123
           },
           {
            "bin_start": -0.14499999999999957,
            "bin_end": 0.7260000000000009,
            "count": 83
           },
           {
            "bin_start": 0.7260000000000009,
            "bin_end": 1.5970000000000004,
            "count": 78
           },
           {
            "bin_start": 1.5970000000000004,
            "bin_end": 2.468000000000001,
            "count": 24
           },
           {
            "bin_start": 2.468000000000001,
            "bin_end": 3.3390000000000013,
            "count": 17
           },
           {
            "bin_start": 3.3390000000000013,
            "bin_end": 4.21,
            "count": 8
           }
          ]
         }
        },
        {
         "name": "RPM_O",
         "dtype": "float64",
         "stats": {
          "unique_count": 362,
          "nan_count": 0,
          "min": "-6.1",
          "max": "8.58",
          "histogram": [
           {
            "bin_start": -6.1,
            "bin_end": -4.632,
            "count": 5
           },
           {
            "bin_start": -4.632,
            "bin_end": -3.1639999999999997,
            "count": 40
           },
           {
            "bin_start": -3.1639999999999997,
            "bin_end": -1.6959999999999997,
            "count": 128
           },
           {
            "bin_start": -1.6959999999999997,
            "bin_end": -0.22799999999999976,
            "count": 171
           },
           {
            "bin_start": -0.22799999999999976,
            "bin_end": 1.2400000000000002,
            "count": 114
           },
           {
            "bin_start": 1.2400000000000002,
            "bin_end": 2.708,
            "count": 32
           },
           {
            "bin_start": 2.708,
            "bin_end": 4.176,
            "count": 12
           },
           {
            "bin_start": 4.176,
            "bin_end": 5.644,
            "count": 6
           },
           {
            "bin_start": 5.644,
            "bin_end": 7.112,
            "count": 4
           },
           {
            "bin_start": 7.112,
            "bin_end": 8.58,
            "count": 1
           }
          ]
         }
        },
        {
         "name": "RPM_D",
         "dtype": "float64",
         "stats": {
          "unique_count": 306,
          "nan_count": 0,
          "min": "-5.05",
          "max": "3.59",
          "histogram": [
           {
            "bin_start": -5.05,
            "bin_end": -4.186,
            "count": 1
           },
           {
            "bin_start": -4.186,
            "bin_end": -3.3219999999999996,
            "count": 1
           },
           {
            "bin_start": -3.3219999999999996,
            "bin_end": -2.4579999999999993,
            "count": 9
           },
           {
            "bin_start": -2.4579999999999993,
            "bin_end": -1.5939999999999994,
            "count": 19
           },
           {
            "bin_start": -1.5939999999999994,
            "bin_end": -0.7299999999999995,
            "count": 77
           },
           {
            "bin_start": -0.7299999999999995,
            "bin_end": 0.13400000000000123,
            "count": 105
           },
           {
            "bin_start": 0.13400000000000123,
            "bin_end": 0.9980000000000011,
            "count": 147
           },
           {
            "bin_start": 0.9980000000000011,
            "bin_end": 1.862000000000001,
            "count": 114
           },
           {
            "bin_start": 1.862000000000001,
            "bin_end": 2.726000000000001,
            "count": 35
           },
           {
            "bin_start": 2.726000000000001,
            "bin_end": 3.59,
            "count": 5
           }
          ]
         }
        },
        {
         "name": "_deepnote_index_column",
         "dtype": "int64"
        }
       ],
       "rows": [
        {
         "PlayerId": 1342,
         "Player": "Aaron Gordon",
         "GP": 78,
         "GS": 78,
         "MP": 2632.42,
         "FGM": 470,
         "FGA": 1046,
         "FG%": 0.449330783,
         "2FGM": 349,
         "2FGA": 699,
         "2FG%": 0.499284692,
         "3FGM": 121,
         "3FGA": 347,
         "3FG%": 0.34870317,
         "eFG%": 0.50669216,
         "TS%": 0.538313,
         "FTM": 185,
         "FTA": 253,
         "FT%": 0.731225296,
         "OR": 129,
         "DR": 445,
         "AST": 289,
         "STL": 57,
         "BLK": 56,
         "TOV": 162,
         "PF": 172,
         "PTS": 1246,
         "BPM_O": 0.3,
         "BPM_D": 0.3,
         "EPM_O": 0.069,
         "EPM_D": 0.978,
         "RPM_O": -0.79,
         "RPM_D": 1.11,
         "_deepnote_index_column": 0
        },
        {
         "PlayerId": 1341,
         "Player": "Aaron Holiday",
         "GP": 50,
         "GS": 0,
         "MP": 645.78,
         "FGM": 105,
         "FGA": 262,
         "FG%": 0.400763358,
         "2FGM": 62,
         "2FGA": 135,
         "2FG%": 0.459259259,
         "3FGM": 43,
         "3FGA": 127,
         "3FG%": 0.338582677,
         "eFG%": 0.48091603,
         "TS%": 0.517606,
         "FTM": 41,
         "FTA": 50,
         "FT%": 0.82,
         "OR": 5,
         "DR": 62,
         "AST": 87,
         "STL": 21,
         "BLK": 13,
         "TOV": 40,
         "PF": 71,
         "PTS": 294,
         "BPM_O": -1.7,
         "BPM_D": 0.1,
         "EPM_O": -1.347,
         "EPM_D": 0.262,
         "RPM_O": 1.62,
         "RPM_D": 2.37,
         "_deepnote_index_column": 1
        },
        {
         "PlayerId": 1195,
         "Player": "Abdel Nader",
         "GP": 61,
         "GS": 1,
         "MP": 693.51,
         "FGM": 91,
         "FGA": 215,
         "FG%": 0.423255813,
         "2FGM": 59,
         "2FGA": 115,
         "2FG%": 0.513043478,
         "3FGM": 32,
         "3FGA": 100,
         "3FG%": 0.32,
         "eFG%": 0.497674418,
         "TS%": 0.522007,
         "FTM": 27,
         "FTA": 36,
         "FT%": 0.75,
         "OR": 14,
         "DR": 102,
         "AST": 20,
         "STL": 20,
         "BLK": 12,
         "TOV": 26,
         "PF": 68,
         "PTS": 241,
         "BPM_O": -3.6,
         "BPM_D": 0.3,
         "EPM_O": -4.04,
         "EPM_D": -1.323,
         "RPM_O": -2.19,
         "RPM_D": 0.21,
         "_deepnote_index_column": 2
        },
        {
         "PlayerId": 527,
         "Player": "Al Horford",
         "GP": 68,
         "GS": 68,
         "MP": 1972.52,
         "FGM": 387,
         "FGA": 723,
         "FG%": 0.535269709,
         "2FGM": 314,
         "2FGA": 520,
         "2FG%": 0.603846153,
         "3FGM": 73,
         "3FGA": 203,
         "3FG%": 0.359605911,
         "eFG%": 0.58506224,
         "TS%": 0.604733,
         "FTM": 78,
         "FTA": 95,
         "FT%": 0.821052631,
         "OR": 120,
         "DR": 338,
         "AST": 283,
         "STL": 59,
         "BLK": 86,
         "TOV": 102,
         "PF": 126,
         "PTS": 925,
         "BPM_O": 3.3,
         "BPM_D": 1.9,
         "EPM_O": 2.795,
         "EPM_D": 1.69,
         "RPM_O": 1.05,
         "RPM_D": 1.29,
         "_deepnote_index_column": 3
        },
        {
         "PlayerId": 555,
         "Player": "Al-Farouq Aminu",
         "GP": 81,
         "GS": 81,
         "MP": 2291.5,
         "FGM": 257,
         "FGA": 593,
         "FG%": 0.433389544,
         "2FGM": 161,
         "2FGA": 313,
         "2FG%": 0.514376996,
         "3FGM": 96,
         "3FGA": 280,
         "3FG%": 0.342857142,
         "eFG%": 0.514333895,
         "TS%": 0.56791,
         "FTM": 150,
         "FTA": 173,
         "FT%": 0.867052023,
         "OR": 112,
         "DR": 498,
         "AST": 104,
         "STL": 68,
         "BLK": 33,
         "TOV": 72,
         "PF": 143,
         "PTS": 760,
         "BPM_O": 0.1,
         "BPM_D": 0.6,
         "EPM_O": 0.07,
         "EPM_D": 0.774,
         "RPM_O": -0.56,
         "RPM_D": -0.27,
         "_deepnote_index_column": 4
        },
        {
         "PlayerId": 1188,
         "Player": "Alan Williams",
         "GP": 5,
         "GS": 0,
         "MP": 25.54,
         "FGM": 8,
         "FGA": 13,
         "FG%": 0.615384615,
         "2FGM": 8,
         "2FGA": 12,
         "2FG%": 0.666666666,
         "3FGM": 0,
         "3FGA": 1,
         "3FG%": 0,
         "eFG%": 0.615384615,
         "TS%": 0.609756,
         "FTM": 2,
         "FTA": 4,
         "FT%": 0.5,
         "OR": 4,
         "DR": 15,
         "AST": 3,
         "STL": 1,
         "BLK": 0,
         "TOV": 1,
         "PF": 2,
         "PTS": 18,
         "BPM_O": 7.6,
         "BPM_D": 4.2,
         "EPM_O": -0.1,
         "EPM_D": -0.4,
         "RPM_O": -3.2,
         "RPM_D": 1.37,
         "_deepnote_index_column": 5
        },
        {
         "PlayerId": 1047,
         "Player": "Alec Burks",
         "GP": 64,
         "GS": 24,
         "MP": 1374.89,
         "FGM": 192,
         "FGA": 474,
         "FG%": 0.405063291,
         "2FGM": 131,
         "2FGA": 306,
         "2FG%": 0.428104575,
         "3FGM": 61,
         "3FGA": 168,
         "3FG%": 0.363095238,
         "eFG%": 0.46835443,
         "TS%": 0.523282,
         "FTM": 116,
         "FTA": 141,
         "FT%": 0.822695035,
         "OR": 30,
         "DR": 205,
         "AST": 128,
         "STL": 39,
         "BLK": 21,
         "TOV": 65,
         "PF": 91,
         "PTS": 561,
         "BPM_O": -0.6,
         "BPM_D": -0.7,
         "EPM_O": -1.542,
         "EPM_D": -2.57,
         "RPM_O": -1.14,
         "RPM_D": -2.27,
         "_deepnote_index_column": 6
        },
        {
         "PlayerId": 1217,
         "Player": "Alex Abrines",
         "GP": 31,
         "GS": 2,
         "MP": 588.15,
         "FGM": 56,
         "FGA": 157,
         "FG%": 0.356687898,
         "2FGM": 15,
         "2FGA": 30,
         "2FG%": 0.5,
         "3FGM": 41,
         "3FGA": 127,
         "3FG%": 0.322834645,
         "eFG%": 0.484076433,
         "TS%": 0.507006,
         "FTM": 12,
         "FTA": 13,
         "FT%": 0.923076923,
         "OR": 5,
         "DR": 43,
         "AST": 20,
         "STL": 17,
         "BLK": 6,
         "TOV": 14,
         "PF": 53,
         "PTS": 165,
         "BPM_O": -3.7,
         "BPM_D": 0.4,
         "EPM_O": -3.21,
         "EPM_D": 0.264,
         "RPM_O": -1.48,
         "RPM_D": 1.19,
         "_deepnote_index_column": 7
        },
        {
         "PlayerId": 1426,
         "Player": "Alex Caruso",
         "GP": 25,
         "GS": 4,
         "MP": 531.07,
         "FGM": 77,
         "FGA": 173,
         "FG%": 0.445086705,
         "2FGM": 53,
         "2FGA": 123,
         "2FG%": 0.430894308,
         "3FGM": 24,
         "3FGA": 50,
         "3FG%": 0.48,
         "eFG%": 0.514450867,
         "TS%": 0.569199,
         "FTM": 51,
         "FTA": 64,
         "FT%": 0.796875,
         "OR": 20,
         "DR": 47,
         "AST": 77,
         "STL": 24,
         "BLK": 9,
         "TOV": 42,
         "PF": 54,
         "PTS": 229,
         "BPM_O": -1,
         "BPM_D": 0.7,
         "EPM_O": -1.148,
         "EPM_D": 1.69,
         "RPM_O": -0.86,
         "RPM_D": 1.79,
         "_deepnote_index_column": 8
        },
        {
         "PlayerId": 1161,
         "Player": "Alex Len",
         "GP": 77,
         "GS": 31,
         "MP": 1543.89,
         "FGM": 320,
         "FGA": 648,
         "FG%": 0.49382716,
         "2FGM": 246,
         "2FGA": 444,
         "2FG%": 0.554054054,
         "3FGM": 74,
         "3FGA": 204,
         "3FG%": 0.362745098,
         "eFG%": 0.550925925,
         "TS%": 0.574666,
         "FTM": 140,
         "FTA": 216,
         "FT%": 0.648148148,
         "OR": 158,
         "DR": 266,
         "AST": 86,
         "STL": 27,
         "BLK": 69,
         "TOV": 97,
         "PF": 200,
         "PTS": 854,
         "BPM_O": 0,
         "BPM_D": -1.3,
         "EPM_O": 0.78,
         "EPM_D": -0.35,
         "RPM_O": 0.3,
         "RPM_D": -2.51,
         "_deepnote_index_column": 9
        }
       ]
      },
      "text/plain": "     PlayerId           Player  GP  GS       MP  FGM   FGA       FG%  2FGM  \\\n0        1342     Aaron Gordon  78  78  2632.42  470  1046  0.449331   349   \n1        1341    Aaron Holiday  50   0   645.78  105   262  0.400763    62   \n2        1195      Abdel Nader  61   1   693.51   91   215  0.423256    59   \n3         527       Al Horford  68  68  1972.52  387   723  0.535270   314   \n4         555  Al-Farouq Aminu  81  81  2291.50  257   593  0.433390   161   \n..        ...              ...  ..  ..      ...  ...   ...       ...   ...   \n508      1472    Yuta Watanabe  15   0   174.37   15    51  0.294118    13   \n509      1507     Zach Collins  77   0  1355.53  189   400  0.472500   149   \n510      1324      Zach LaVine  63  62  2170.72  530  1135  0.466960   410   \n511       358    Zaza Pachulia  68   3   878.10   85   193  0.440415    85   \n512      1626     Zhaire Smith   6   2   110.61   14    34  0.411765     8   \n\n     2FGA  ...  BLK  TOV   PF   PTS  BPM_O  BPM_D  EPM_O  EPM_D  RPM_O  RPM_D  \n0     699  ...   56  162  172  1246    0.3    0.3  0.069  0.978  -0.79   1.11  \n1     135  ...   13   40   71   294   -1.7    0.1 -1.347  0.262   1.62   2.37  \n2     115  ...   12   26   68   241   -3.6    0.3 -4.040 -1.323  -2.19   0.21  \n3     520  ...   86  102  126   925    3.3    1.9  2.795  1.690   1.05   1.29  \n4     313  ...   33   72  143   760    0.1    0.6  0.070  0.774  -0.56  -0.27  \n..    ...  ...  ...  ...  ...   ...    ...    ...    ...    ...    ...    ...  \n508    35  ...    1    6   11    39   -7.0   -2.1 -4.820 -0.934  -2.22   1.26  \n509   279  ...   66   77  174   512   -1.5    0.3 -1.443  0.262  -2.48   0.99  \n510   814  ...   26  215  140  1492    2.4   -1.6  1.487 -0.835   0.85  -1.71  \n511   189  ...   17   57  151   267   -2.8    1.6 -2.129  1.385  -3.04   0.59  \n512    18  ...    2    6    8    40   -2.8   -2.2 -1.738 -2.660  -0.61   0.61  \n\n[513 rows x 33 columns]",
      "text/html": "<div>\n<style scoped>\n    .dataframe tbody tr th:only-of-type {\n        vertical-align: middle;\n    }\n\n    .dataframe tbody tr th {\n        vertical-align: top;\n    }\n\n    .dataframe thead th {\n        text-align: right;\n    }\n</style>\n<table border=\"1\" class=\"dataframe\">\n  <thead>\n    <tr style=\"text-align: right;\">\n      <th></th>\n      <th>PlayerId</th>\n      <th>Player</th>\n      <th>GP</th>\n      <th>GS</th>\n      <th>MP</th>\n      <th>FGM</th>\n      <th>FGA</th>\n      <th>FG%</th>\n      <th>2FGM</th>\n      <th>2FGA</th>\n      <th>...</th>\n      <th>BLK</th>\n      <th>TOV</th>\n      <th>PF</th>\n      <th>PTS</th>\n      <th>BPM_O</th>\n      <th>BPM_D</th>\n      <th>EPM_O</th>\n      <th>EPM_D</th>\n      <th>RPM_O</th>\n      <th>RPM_D</th>\n    </tr>\n  </thead>\n  <tbody>\n    <tr>\n      <th>0</th>\n      <td>1342</td>\n      <td>Aaron Gordon</td>\n      <td>78</td>\n      <td>78</td>\n      <td>2632.42</td>\n      <td>470</td>\n      <td>1046</td>\n      <td>0.449331</td>\n      <td>349</td>\n      <td>699</td>\n      <td>...</td>\n      <td>56</td>\n      <td>162</td>\n      <td>172</td>\n      <td>1246</td>\n      <td>0.3</td>\n      <td>0.3</td>\n      <td>0.069</td>\n      <td>0.978</td>\n      <td>-0.79</td>\n      <td>1.11</td>\n    </tr>\n    <tr>\n      <th>1</th>\n      <td>1341</td>\n      <td>Aaron Holiday</td>\n      <td>50</td>\n      <td>0</td>\n      <td>645.78</td>\n      <td>105</td>\n      <td>262</td>\n      <td>0.400763</td>\n      <td>62</td>\n      <td>135</td>\n      <td>...</td>\n      <td>13</td>\n      <td>40</td>\n      <td>71</td>\n      <td>294</td>\n      <td>-1.7</td>\n      <td>0.1</td>\n      <td>-1.347</td>\n      <td>0.262</td>\n      <td>1.62</td>\n      <td>2.37</td>\n    </tr>\n    <tr>\n      <th>2</th>\n      <td>1195</td>\n      <td>Abdel Nader</td>\n      <td>61</td>\n      <td>1</td>\n      <td>693.51</td>\n      <td>91</td>\n      <td>215</td>\n      <td>0.423256</td>\n      <td>59</td>\n      <td>115</td>\n      <td>...</td>\n      <td>12</td>\n      <td>26</td>\n      <td>68</td>\n      <td>241</td>\n      <td>-3.6</td>\n      <td>0.3</td>\n      <td>-4.040</td>\n      <td>-1.323</td>\n      <td>-2.19</td>\n      <td>0.21</td>\n    </tr>\n    <tr>\n      <th>3</th>\n      <td>527</td>\n      <td>Al Horford</td>\n      <td>68</td>\n      <td>68</td>\n      <td>1972.52</td>\n      <td>387</td>\n      <td>723</td>\n      <td>0.535270</td>\n      <td>314</td>\n      <td>520</td>\n      <td>...</td>\n      <td>86</td>\n      <td>102</td>\n      <td>126</td>\n      <td>925</td>\n      <td>3.3</td>\n      <td>1.9</td>\n      <td>2.795</td>\n      <td>1.690</td>\n      <td>1.05</td>\n      <td>1.29</td>\n    </tr>\n    <tr>\n      <th>4</th>\n      <td>555</td>\n      <td>Al-Farouq Aminu</td>\n      <td>81</td>\n      <td>81</td>\n      <td>2291.50</td>\n      <td>257</td>\n      <td>593</td>\n      <td>0.433390</td>\n      <td>161</td>\n      <td>313</td>\n      <td>...</td>\n      <td>33</td>\n      <td>72</td>\n      <td>143</td>\n      <td>760</td>\n      <td>0.1</td>\n      <td>0.6</td>\n      <td>0.070</td>\n      <td>0.774</td>\n      <td>-0.56</td>\n      <td>-0.27</td>\n    </tr>\n    <tr>\n      <th>...</th>\n      <td>...</td>\n      <td>...</td>\n      <td>...</td>\n      <td>...</td>\n      <td>...</td>\n      <td>...</td>\n      <td>...</td>\n      <td>...</td>\n      <td>...</td>\n      <td>...</td>\n      <td>...</td>\n      <td>...</td>\n      <td>...</td>\n      <td>...</td>\n      <td>...</td>\n      <td>...</td>\n      <td>...</td>\n      <td>...</td>\n      <td>...</td>\n      <td>...</td>\n      <td>...</td>\n    </tr>\n    <tr>\n      <th>508</th>\n      <td>1472</td>\n      <td>Yuta Watanabe</td>\n      <td>15</td>\n      <td>0</td>\n      <td>174.37</td>\n      <td>15</td>\n      <td>51</td>\n      <td>0.294118</td>\n      <td>13</td>\n      <td>35</td>\n      <td>...</td>\n      <td>1</td>\n      <td>6</td>\n      <td>11</td>\n      <td>39</td>\n      <td>-7.0</td>\n      <td>-2.1</td>\n      <td>-4.820</td>\n      <td>-0.934</td>\n      <td>-2.22</td>\n      <td>1.26</td>\n    </tr>\n    <tr>\n      <th>509</th>\n      <td>1507</td>\n      <td>Zach Collins</td>\n      <td>77</td>\n      <td>0</td>\n      <td>1355.53</td>\n      <td>189</td>\n      <td>400</td>\n      <td>0.472500</td>\n      <td>149</td>\n      <td>279</td>\n      <td>...</td>\n      <td>66</td>\n      <td>77</td>\n      <td>174</td>\n      <td>512</td>\n      <td>-1.5</td>\n      <td>0.3</td>\n      <td>-1.443</td>\n      <td>0.262</td>\n      <td>-2.48</td>\n      <td>0.99</td>\n    </tr>\n    <tr>\n      <th>510</th>\n      <td>1324</td>\n      <td>Zach LaVine</td>\n      <td>63</td>\n      <td>62</td>\n      <td>2170.72</td>\n      <td>530</td>\n      <td>1135</td>\n      <td>0.466960</td>\n      <td>410</td>\n      <td>814</td>\n      <td>...</td>\n      <td>26</td>\n      <td>215</td>\n      <td>140</td>\n      <td>1492</td>\n      <td>2.4</td>\n      <td>-1.6</td>\n      <td>1.487</td>\n      <td>-0.835</td>\n      <td>0.85</td>\n      <td>-1.71</td>\n    </tr>\n    <tr>\n      <th>511</th>\n      <td>358</td>\n      <td>Zaza Pachulia</td>\n      <td>68</td>\n      <td>3</td>\n      <td>878.10</td>\n      <td>85</td>\n      <td>193</td>\n      <td>0.440415</td>\n      <td>85</td>\n      <td>189</td>\n      <td>...</td>\n      <td>17</td>\n      <td>57</td>\n      <td>151</td>\n      <td>267</td>\n      <td>-2.8</td>\n      <td>1.6</td>\n      <td>-2.129</td>\n      <td>1.385</td>\n      <td>-3.04</td>\n      <td>0.59</td>\n    </tr>\n    <tr>\n      <th>512</th>\n      <td>1626</td>\n      <td>Zhaire Smith</td>\n      <td>6</td>\n      <td>2</td>\n      <td>110.61</td>\n      <td>14</td>\n      <td>34</td>\n      <td>0.411765</td>\n      <td>8</td>\n      <td>18</td>\n      <td>...</td>\n      <td>2</td>\n      <td>6</td>\n      <td>8</td>\n      <td>40</td>\n      <td>-2.8</td>\n      <td>-2.2</td>\n      <td>-1.738</td>\n      <td>-2.660</td>\n      <td>-0.61</td>\n      <td>0.61</td>\n    </tr>\n  </tbody>\n</table>\n<p>513 rows × 33 columns</p>\n</div>"
     },
     "metadata": {}
    }
   ],
   "execution_count": null
  },
  {
   "cell_type": "code",
   "metadata": {
    "tags": [],
    "deepnote_to_be_reexecuted": false,
    "source_hash": "8f794aa",
    "execution_start": 1651809057326,
    "execution_millis": 21966,
    "cell_id": "00018-db3195c7-dc53-4931-b918-ae6f6b4048bd",
    "deepnote_cell_type": "code",
    "deepnote_cell_height": 1014
   },
   "source": "\"Dropping rows from ortg that have a null value for offesive rating and rows that include players that had null values for RPM/EPM\"\n\nORTG=ortg.dropna(subset=[\"ORTG\"])\nORTG=ORTG[np.isfinite(ORTG[\"ORTG\"])]\n\n'''\nplayer_list(string)\nA function that takes a string of players names (as we see in ortg['Players']) and returns it as a Series of each player. Will be helpful \nwhen we try to find a player's stats in player_box.\n\nEx:\n\"Dejounte Murray, Patty Mills, DeMar DeRozan\" -> ['Dejounte Murray', 'Patty Mills', 'DeMar DeRozan']\n'''\nplayer_list=lambda string:pd.Series(string.replace(\", \",',').split(\",\"))\n\ndrops=[]\nfor i in range(len(ORTG)):\n    condition1=any(player_list(ORTG.iloc[i,1]).isin(null_players))\n    condition2=sum(player_list(ORTG.iloc[i,1]).isin(player_box_2018[\"Player\"]))!=5\n    drops.append(condition1 or condition2)\nORTG=ORTG[~np.array(drops)].reset_index(drop=True)\nORGG = ORTG\nORTG\n",
   "outputs": [
    {
     "output_type": "execute_result",
     "execution_count": 19,
     "data": {
      "application/vnd.deepnote.dataframe.v3+json": {
       "column_count": 7,
       "row_count": 23556,
       "columns": [
        {
         "name": "FloorLineupId_Offense",
         "dtype": "int64",
         "stats": {
          "unique_count": 23061,
          "nan_count": 0,
          "min": "2",
          "max": "374995",
          "histogram": [
           {
            "bin_start": 2,
            "bin_end": 37501.3,
            "count": 15184
           },
           {
            "bin_start": 37501.3,
            "bin_end": 75000.6,
            "count": 2
           },
           {
            "bin_start": 75000.6,
            "bin_end": 112499.90000000001,
            "count": 3015
           },
           {
            "bin_start": 112499.90000000001,
            "bin_end": 149999.2,
            "count": 2080
           },
           {
            "bin_start": 149999.2,
            "bin_end": 187498.5,
            "count": 0
           },
           {
            "bin_start": 187498.5,
            "bin_end": 224997.80000000002,
            "count": 0
           },
           {
            "bin_start": 224997.80000000002,
            "bin_end": 262497.10000000003,
            "count": 0
           },
           {
            "bin_start": 262497.10000000003,
            "bin_end": 299996.4,
            "count": 0
           },
           {
            "bin_start": 299996.4,
            "bin_end": 337495.7,
            "count": 446
           },
           {
            "bin_start": 337495.7,
            "bin_end": 374995,
            "count": 2829
           }
          ]
         }
        },
        {
         "name": "Players",
         "dtype": "object",
         "stats": {
          "unique_count": 23061,
          "nan_count": 0,
          "categories": [
           {
            "name": "Jamal Murray, Gary Harris, Will Barton, Paul Millsap, Nikola Jokic",
            "count": 3
           },
           {
            "name": "Nemanja Bjelica, Harrison Barnes, De'Aaron Fox, Marvin Bagley III, Buddy Hield",
            "count": 3
           },
           {
            "name": "23059 others",
            "count": 23550
           }
          ]
         }
        },
        {
         "name": "ORTG",
         "dtype": "float64",
         "stats": {
          "unique_count": 1658,
          "nan_count": 0,
          "min": "0.0",
          "max": "500.0",
          "histogram": [
           {
            "bin_start": 0,
            "bin_end": 50,
            "count": 3497
           },
           {
            "bin_start": 50,
            "bin_end": 100,
            "count": 5935
           },
           {
            "bin_start": 100,
            "bin_end": 150,
            "count": 10379
           },
           {
            "bin_start": 150,
            "bin_end": 200,
            "count": 2252
           },
           {
            "bin_start": 200,
            "bin_end": 250,
            "count": 1155
           },
           {
            "bin_start": 250,
            "bin_end": 300,
            "count": 153
           },
           {
            "bin_start": 300,
            "bin_end": 350,
            "count": 184
           },
           {
            "bin_start": 350,
            "bin_end": 400,
            "count": 0
           },
           {
            "bin_start": 400,
            "bin_end": 450,
            "count": 0
           },
           {
            "bin_start": 450,
            "bin_end": 500,
            "count": 1
           }
          ]
         }
        },
        {
         "name": "Points",
         "dtype": "int64",
         "stats": {
          "unique_count": 405,
          "nan_count": 0,
          "min": "0",
          "max": "2250",
          "histogram": [
           {
            "bin_start": 0,
            "bin_end": 225,
            "count": 23308
           },
           {
            "bin_start": 225,
            "bin_end": 450,
            "count": 154
           },
           {
            "bin_start": 450,
            "bin_end": 675,
            "count": 44
           },
           {
            "bin_start": 675,
            "bin_end": 900,
            "count": 23
           },
           {
            "bin_start": 900,
            "bin_end": 1125,
            "count": 10
           },
           {
            "bin_start": 1125,
            "bin_end": 1350,
            "count": 6
           },
           {
            "bin_start": 1350,
            "bin_end": 1575,
            "count": 5
           },
           {
            "bin_start": 1575,
            "bin_end": 1800,
            "count": 3
           },
           {
            "bin_start": 1800,
            "bin_end": 2025,
            "count": 2
           },
           {
            "bin_start": 2025,
            "bin_end": 2250,
            "count": 1
           }
          ]
         }
        },
        {
         "name": "Possession",
         "dtype": "int64"
        },
        {
         "name": "GP",
         "dtype": "int64"
        },
        {
         "name": "Time",
         "dtype": "int64"
        },
        {
         "name": "_deepnote_index_column",
         "dtype": "int64"
        }
       ],
       "rows": [
        {
         "FloorLineupId_Offense": 2,
         "Players": "Ben McLemore, James Harden, Eric Gordon Jr., P.J. Tucker Jr., Clint Capela",
         "ORTG": 101.69491525423729,
         "Points": 60,
         "Possession": 59,
         "GP": 8,
         "Time": 843,
         "_deepnote_index_column": 0
        },
        {
         "FloorLineupId_Offense": 8,
         "Players": "Buddy Hield, De'Aaron Fox, Harrison Barnes, Marvin Bagley III, Dewayne Dedmon",
         "ORTG": 85,
         "Points": 17,
         "Possession": 20,
         "GP": 1,
         "Time": 254,
         "_deepnote_index_column": 1
        },
        {
         "FloorLineupId_Offense": 9,
         "Players": "Jeremy Lamb, Malcolm Brogdon, T.J. Warren Jr., Domantas Sabonis, Myles Turner",
         "ORTG": 106.96378830083566,
         "Points": 768,
         "Possession": 718,
         "GP": 25,
         "Time": 10534,
         "_deepnote_index_column": 2
        },
        {
         "FloorLineupId_Offense": 10,
         "Players": "Richaun Holmes, Nemanja Bjelica, Trevor Ariza, Bogdan Bogdanovic, Cory Joseph",
         "ORTG": 71.7948717948718,
         "Points": 28,
         "Possession": 39,
         "GP": 6,
         "Time": 600,
         "_deepnote_index_column": 3
        },
        {
         "FloorLineupId_Offense": 13,
         "Players": "Harrison Barnes, Bogdan Bogdanovic, De'Aaron Fox, Buddy Hield, Marvin Bagley III",
         "ORTG": 100,
         "Points": 72,
         "Possession": 72,
         "GP": 8,
         "Time": 985,
         "_deepnote_index_column": 4
        },
        {
         "FloorLineupId_Offense": 13,
         "Players": "Harrison Barnes, Bogdan Bogdanovic, De'Aaron Fox, Buddy Hield, Marvin Bagley III",
         "ORTG": 66.66666666666667,
         "Points": 6,
         "Possession": 9,
         "GP": 3,
         "Time": 118,
         "_deepnote_index_column": 5
        },
        {
         "FloorLineupId_Offense": 15,
         "Players": "Caris LeVert, Spencer Dinwiddie, Taurean Prince, Rodions Kurucs, Jarrett Allen",
         "ORTG": 122.22222222222223,
         "Points": 11,
         "Possession": 9,
         "GP": 2,
         "Time": 166,
         "_deepnote_index_column": 6
        },
        {
         "FloorLineupId_Offense": 17,
         "Players": "Garrett Temple, Rodions Kurucs, Theo Pinson, DeAndre Jordan, Dzanan Musa",
         "ORTG": 200,
         "Points": 2,
         "Possession": 1,
         "GP": 1,
         "Time": 19,
         "_deepnote_index_column": 7
        },
        {
         "FloorLineupId_Offense": 28,
         "Players": "Avery Bradley Jr., LeBron James, Danny Green, Anthony Davis, JaVale McGee",
         "ORTG": 111.99524940617577,
         "Points": 943,
         "Possession": 842,
         "GP": 33,
         "Time": 11413,
         "_deepnote_index_column": 8
        },
        {
         "FloorLineupId_Offense": 36,
         "Players": "Evan Fournier, D.J. Augustin Jr., Aaron Gordon, Jonathan Isaac, Nikola Vucevic",
         "ORTG": 108.67630700778643,
         "Points": 1954,
         "Possession": 1798,
         "GP": 66,
         "Time": 26666,
         "_deepnote_index_column": 9
        }
       ]
      },
      "text/plain": "       FloorLineupId_Offense  \\\n0                          2   \n1                          8   \n2                          9   \n3                         10   \n4                         13   \n...                      ...   \n23551                 374807   \n23552                 374841   \n23553                 374860   \n23554                 374947   \n23555                 374995   \n\n                                                 Players        ORTG  Points  \\\n0      Ben McLemore, James Harden, Eric Gordon Jr., P...  101.694915      60   \n1      Buddy Hield, De'Aaron Fox, Harrison Barnes, Ma...   85.000000      17   \n2      Jeremy Lamb, Malcolm Brogdon, T.J. Warren Jr.,...  106.963788     768   \n3      Richaun Holmes, Nemanja Bjelica, Trevor Ariza,...   71.794872      28   \n4      Harrison Barnes, Bogdan Bogdanovic, De'Aaron F...  100.000000      72   \n...                                                  ...         ...     ...   \n23551  Andre Iguodala, Nemanja Bjelica, Goran Dragic,...  100.000000       3   \n23552  Frank Kaminsky, Langston Galloway, Torrey Crai...  120.000000       6   \n23553  E'Twaun Moore, Langston Galloway, Frank Kamins...  155.555556      14   \n23554  Patrick Patterson, Patrick Beverley, Reggie Ja...   66.666667       8   \n23555  Dorian Finney-Smith, Jalen Brunson, Willie Cau...    0.000000       0   \n\n       Possession  GP   Time  \n0              59   8    843  \n1              20   1    254  \n2             718  25  10534  \n3              39   6    600  \n4              72   8    985  \n...           ...  ..    ...  \n23551           3   1     47  \n23552           5   1     65  \n23553           9   1    120  \n23554          12   1    195  \n23555           1   1     13  \n\n[23556 rows x 7 columns]",
      "text/html": "<div>\n<style scoped>\n    .dataframe tbody tr th:only-of-type {\n        vertical-align: middle;\n    }\n\n    .dataframe tbody tr th {\n        vertical-align: top;\n    }\n\n    .dataframe thead th {\n        text-align: right;\n    }\n</style>\n<table border=\"1\" class=\"dataframe\">\n  <thead>\n    <tr style=\"text-align: right;\">\n      <th></th>\n      <th>FloorLineupId_Offense</th>\n      <th>Players</th>\n      <th>ORTG</th>\n      <th>Points</th>\n      <th>Possession</th>\n      <th>GP</th>\n      <th>Time</th>\n    </tr>\n  </thead>\n  <tbody>\n    <tr>\n      <th>0</th>\n      <td>2</td>\n      <td>Ben McLemore, James Harden, Eric Gordon Jr., P...</td>\n      <td>101.694915</td>\n      <td>60</td>\n      <td>59</td>\n      <td>8</td>\n      <td>843</td>\n    </tr>\n    <tr>\n      <th>1</th>\n      <td>8</td>\n      <td>Buddy Hield, De'Aaron Fox, Harrison Barnes, Ma...</td>\n      <td>85.000000</td>\n      <td>17</td>\n      <td>20</td>\n      <td>1</td>\n      <td>254</td>\n    </tr>\n    <tr>\n      <th>2</th>\n      <td>9</td>\n      <td>Jeremy Lamb, Malcolm Brogdon, T.J. Warren Jr.,...</td>\n      <td>106.963788</td>\n      <td>768</td>\n      <td>718</td>\n      <td>25</td>\n      <td>10534</td>\n    </tr>\n    <tr>\n      <th>3</th>\n      <td>10</td>\n      <td>Richaun Holmes, Nemanja Bjelica, Trevor Ariza,...</td>\n      <td>71.794872</td>\n      <td>28</td>\n      <td>39</td>\n      <td>6</td>\n      <td>600</td>\n    </tr>\n    <tr>\n      <th>4</th>\n      <td>13</td>\n      <td>Harrison Barnes, Bogdan Bogdanovic, De'Aaron F...</td>\n      <td>100.000000</td>\n      <td>72</td>\n      <td>72</td>\n      <td>8</td>\n      <td>985</td>\n    </tr>\n    <tr>\n      <th>...</th>\n      <td>...</td>\n      <td>...</td>\n      <td>...</td>\n      <td>...</td>\n      <td>...</td>\n      <td>...</td>\n      <td>...</td>\n    </tr>\n    <tr>\n      <th>23551</th>\n      <td>374807</td>\n      <td>Andre Iguodala, Nemanja Bjelica, Goran Dragic,...</td>\n      <td>100.000000</td>\n      <td>3</td>\n      <td>3</td>\n      <td>1</td>\n      <td>47</td>\n    </tr>\n    <tr>\n      <th>23552</th>\n      <td>374841</td>\n      <td>Frank Kaminsky, Langston Galloway, Torrey Crai...</td>\n      <td>120.000000</td>\n      <td>6</td>\n      <td>5</td>\n      <td>1</td>\n      <td>65</td>\n    </tr>\n    <tr>\n      <th>23553</th>\n      <td>374860</td>\n      <td>E'Twaun Moore, Langston Galloway, Frank Kamins...</td>\n      <td>155.555556</td>\n      <td>14</td>\n      <td>9</td>\n      <td>1</td>\n      <td>120</td>\n    </tr>\n    <tr>\n      <th>23554</th>\n      <td>374947</td>\n      <td>Patrick Patterson, Patrick Beverley, Reggie Ja...</td>\n      <td>66.666667</td>\n      <td>8</td>\n      <td>12</td>\n      <td>1</td>\n      <td>195</td>\n    </tr>\n    <tr>\n      <th>23555</th>\n      <td>374995</td>\n      <td>Dorian Finney-Smith, Jalen Brunson, Willie Cau...</td>\n      <td>0.000000</td>\n      <td>0</td>\n      <td>1</td>\n      <td>1</td>\n      <td>13</td>\n    </tr>\n  </tbody>\n</table>\n<p>23556 rows × 7 columns</p>\n</div>"
     },
     "metadata": {}
    }
   ],
   "execution_count": null
  },
  {
   "cell_type": "code",
   "metadata": {
    "deepnote_to_be_reexecuted": false,
    "source_hash": "96ff4671",
    "execution_start": 1651809079289,
    "execution_millis": 9,
    "cell_id": "00019-d5156a7c-5afc-40ed-9946-cd84a9820c46",
    "deepnote_cell_type": "code",
    "deepnote_cell_height": 207
   },
   "source": "def playerIds(names):\n    '''\n    Takes in a string of names and returns each player's PlayerId in a Series.\n    '''\n    \n    names=player_list(names)\n    x=player_box_2018[\"Player\"].isin(names)\n    return player_box_2018['PlayerId'][x]",
   "outputs": [],
   "execution_count": null
  },
  {
   "cell_type": "code",
   "metadata": {
    "deepnote_to_be_reexecuted": false,
    "source_hash": "34e60bab",
    "execution_start": 1651809079298,
    "execution_millis": 13,
    "cell_id": "00020-f4f83c5b-e0ee-4329-b722-c07c4d2a3efe",
    "deepnote_cell_type": "code",
    "deepnote_cell_height": 232.171875,
    "deepnote_output_heights": [
     117.171875
    ]
   },
   "source": "#Example\nplayerIds(\"Harrison Barnes, Bogdan Bogdanovic, De'Aaron Fox, Buddy Hield, Marvin Bagley III\")",
   "outputs": [
    {
     "output_type": "execute_result",
     "execution_count": 21,
     "data": {
      "text/plain": "41     1219\n54     1424\n103    1550\n185    1106\n347    1623\nName: PlayerId, dtype: int64"
     },
     "metadata": {}
    }
   ],
   "execution_count": null
  },
  {
   "cell_type": "code",
   "metadata": {
    "tags": [],
    "deepnote_to_be_reexecuted": false,
    "source_hash": "3b3104a4",
    "execution_start": 1651809079310,
    "execution_millis": 49149,
    "cell_id": "00021-bacb42f1-f956-44f4-bc33-0317f08c23b1",
    "deepnote_cell_type": "code",
    "deepnote_cell_height": 639
   },
   "source": "'''\nCreating the design matrix X to use for actual modeling. The index of each row corresponds to FloorLineupId_Offense. A single row \nrepresents the stats for each player in a lineup. # Columns= 5*(# features)\n'''\ndata=[]\n\n# features for design matrix (feel free to use whatever features you want)\nfeatures=['GP', 'GS', 'MP', 'FGM', 'FGA', 'FG%', '2FGM',\n       '2FGA', '2FG%', '3FGM', '3FGA', '3FG%', 'eFG%', 'TS%', 'FTM', 'FTA',\n       'FT%', 'OR', 'DR', 'AST', 'STL', 'BLK', 'TOV', 'PF', 'PTS', 'BPM_O',\n       'BPM_D', 'EPM_O', 'EPM_D', 'RPM_O', 'RPM_D']\n\n\ncols=[]\nfor i in range(1,6):\n    for f in features:\n        cols.append(f+\"_Player\"+str(i))\n\n\nfor r in range(len(ORTG)):\n    names=ORTG.iloc[r,1]\n    ids=playerIds(names)\n    lineup_stats=player_box_2018[player_box_2018[\"PlayerId\"].isin(ids)][features]\n    row=[]\n    for i in range(5):\n        row=row+list(lineup_stats.iloc[i])\n    data.append(row)\nX=pd.DataFrame(data,columns=cols,index=ORTG['FloorLineupId_Offense'])\n\n\n\n",
   "outputs": [],
   "execution_count": null
  },
  {
   "cell_type": "code",
   "metadata": {
    "deepnote_to_be_reexecuted": false,
    "source_hash": "17818b80",
    "execution_start": 1651809128501,
    "execution_millis": 110,
    "cell_id": "00022-01d77435-55e7-423e-8c5c-a23b3bc8f71a",
    "deepnote_cell_type": "code",
    "deepnote_cell_height": 618
   },
   "source": "y=ORTG[\"ORTG\"]\nX",
   "outputs": [
    {
     "output_type": "execute_result",
     "execution_count": 23,
     "data": {
      "application/vnd.deepnote.dataframe.v3+json": {
       "column_count": 155,
       "row_count": 23556,
       "columns": [
        {
         "name": "GP_Player1",
         "dtype": "float64",
         "stats": {
          "unique_count": 79,
          "nan_count": 0,
          "min": "2.0",
          "max": "82.0",
          "histogram": [
           {
            "bin_start": 2,
            "bin_end": 10,
            "count": 263
           },
           {
            "bin_start": 10,
            "bin_end": 18,
            "count": 411
           },
           {
            "bin_start": 18,
            "bin_end": 26,
            "count": 1390
           },
           {
            "bin_start": 26,
            "bin_end": 34,
            "count": 735
           },
           {
            "bin_start": 34,
            "bin_end": 42,
            "count": 1191
           },
           {
            "bin_start": 42,
            "bin_end": 50,
            "count": 1474
           },
           {
            "bin_start": 50,
            "bin_end": 58,
            "count": 3123
           },
           {
            "bin_start": 58,
            "bin_end": 66,
            "count": 3523
           },
           {
            "bin_start": 66,
            "bin_end": 74,
            "count": 3441
           },
           {
            "bin_start": 74,
            "bin_end": 82,
            "count": 8005
           }
          ]
         }
        },
        {
         "name": "GS_Player1",
         "dtype": "float64",
         "stats": {
          "unique_count": 77,
          "nan_count": 0,
          "min": "0.0",
          "max": "82.0",
          "histogram": [
           {
            "bin_start": 0,
            "bin_end": 8.2,
            "count": 6993
           },
           {
            "bin_start": 8.2,
            "bin_end": 16.4,
            "count": 2603
           },
           {
            "bin_start": 16.4,
            "bin_end": 24.599999999999998,
            "count": 1757
           },
           {
            "bin_start": 24.599999999999998,
            "bin_end": 32.8,
            "count": 2508
           },
           {
            "bin_start": 32.8,
            "bin_end": 41,
            "count": 591
           },
           {
            "bin_start": 41,
            "bin_end": 49.199999999999996,
            "count": 698
           },
           {
            "bin_start": 49.199999999999996,
            "bin_end": 57.39999999999999,
            "count": 1432
           },
           {
            "bin_start": 57.39999999999999,
            "bin_end": 65.6,
            "count": 986
           },
           {
            "bin_start": 65.6,
            "bin_end": 73.8,
            "count": 1659
           },
           {
            "bin_start": 73.8,
            "bin_end": 82,
            "count": 4329
           }
          ]
         }
        },
        {
         "name": "MP_Player1",
         "dtype": "float64",
         "stats": {
          "unique_count": 340,
          "nan_count": 0,
          "min": "12.78",
          "max": "3027.5",
          "histogram": [
           {
            "bin_start": 12.78,
            "bin_end": 314.25199999999995,
            "count": 1627
           },
           {
            "bin_start": 314.25199999999995,
            "bin_end": 615.7239999999999,
            "count": 1737
           },
           {
            "bin_start": 615.7239999999999,
            "bin_end": 917.1959999999999,
            "count": 3169
           },
           {
            "bin_start": 917.1959999999999,
            "bin_end": 1218.668,
            "count": 2163
           },
           {
            "bin_start": 1218.668,
            "bin_end": 1520.1399999999999,
            "count": 2411
           },
           {
            "bin_start": 1520.1399999999999,
            "bin_end": 1821.6119999999999,
            "count": 2458
           },
           {
            "bin_start": 1821.6119999999999,
            "bin_end": 2123.0840000000003,
            "count": 4221
           },
           {
            "bin_start": 2123.0840000000003,
            "bin_end": 2424.556,
            "count": 2410
           },
           {
            "bin_start": 2424.556,
            "bin_end": 2726.028,
            "count": 2921
           },
           {
            "bin_start": 2726.028,
            "bin_end": 3027.5,
            "count": 439
           }
          ]
         }
        },
        {
         "name": "FGM_Player1",
         "dtype": "float64",
         "stats": {
          "unique_count": 239,
          "nan_count": 0,
          "min": "0.0",
          "max": "843.0",
          "histogram": [
           {
            "bin_start": 0,
            "bin_end": 84.3,
            "count": 3579
           },
           {
            "bin_start": 84.3,
            "bin_end": 168.6,
            "count": 4801
           },
           {
            "bin_start": 168.6,
            "bin_end": 252.89999999999998,
            "count": 4323
           },
           {
            "bin_start": 252.89999999999998,
            "bin_end": 337.2,
            "count": 3417
           },
           {
            "bin_start": 337.2,
            "bin_end": 421.5,
            "count": 2669
           },
           {
            "bin_start": 421.5,
            "bin_end": 505.79999999999995,
            "count": 1266
           },
           {
            "bin_start": 505.79999999999995,
            "bin_end": 590.1,
            "count": 2196
           },
           {
            "bin_start": 590.1,
            "bin_end": 674.4,
            "count": 835
           },
           {
            "bin_start": 674.4,
            "bin_end": 758.6999999999999,
            "count": 138
           },
           {
            "bin_start": 758.6999999999999,
            "bin_end": 843,
            "count": 332
           }
          ]
         }
        },
        {
         "name": "FGA_Player1",
         "dtype": "float64"
        },
        {
         "name": "FG%_Player1",
         "dtype": "float64"
        },
        {
         "name": "2FGM_Player1",
         "dtype": "float64"
        },
        {
         "name": "2FGA_Player1",
         "dtype": "float64"
        },
        {
         "name": "2FG%_Player1",
         "dtype": "float64"
        },
        {
         "name": "3FGM_Player1",
         "dtype": "float64"
        },
        {
         "name": "3FGA_Player1",
         "dtype": "float64"
        },
        {
         "name": "3FG%_Player1",
         "dtype": "float64"
        },
        {
         "name": "eFG%_Player1",
         "dtype": "float64"
        },
        {
         "name": "TS%_Player1",
         "dtype": "float64"
        },
        {
         "name": "FTM_Player1",
         "dtype": "float64"
        },
        {
         "name": "FTA_Player1",
         "dtype": "float64"
        },
        {
         "name": "FT%_Player1",
         "dtype": "float64"
        },
        {
         "name": "OR_Player1",
         "dtype": "float64"
        },
        {
         "name": "DR_Player1",
         "dtype": "float64"
        },
        {
         "name": "AST_Player1",
         "dtype": "float64"
        },
        {
         "name": "STL_Player1",
         "dtype": "float64"
        },
        {
         "name": "BLK_Player1",
         "dtype": "float64"
        },
        {
         "name": "TOV_Player1",
         "dtype": "float64"
        },
        {
         "name": "PF_Player1",
         "dtype": "float64"
        },
        {
         "name": "PTS_Player1",
         "dtype": "float64"
        },
        {
         "name": "BPM_O_Player1",
         "dtype": "float64"
        },
        {
         "name": "BPM_D_Player1",
         "dtype": "float64"
        },
        {
         "name": "EPM_O_Player1",
         "dtype": "float64"
        },
        {
         "name": "EPM_D_Player1",
         "dtype": "float64"
        },
        {
         "name": "RPM_O_Player1",
         "dtype": "float64"
        },
        {
         "name": "RPM_D_Player1",
         "dtype": "float64"
        },
        {
         "name": "GP_Player2",
         "dtype": "float64"
        },
        {
         "name": "GS_Player2",
         "dtype": "float64"
        },
        {
         "name": "MP_Player2",
         "dtype": "float64"
        },
        {
         "name": "FGM_Player2",
         "dtype": "float64"
        },
        {
         "name": "FGA_Player2",
         "dtype": "float64"
        },
        {
         "name": "FG%_Player2",
         "dtype": "float64"
        },
        {
         "name": "2FGM_Player2",
         "dtype": "float64"
        },
        {
         "name": "2FGA_Player2",
         "dtype": "float64"
        },
        {
         "name": "2FG%_Player2",
         "dtype": "float64"
        },
        {
         "name": "3FGM_Player2",
         "dtype": "float64"
        },
        {
         "name": "3FGA_Player2",
         "dtype": "float64"
        },
        {
         "name": "3FG%_Player2",
         "dtype": "float64"
        },
        {
         "name": "eFG%_Player2",
         "dtype": "float64"
        },
        {
         "name": "TS%_Player2",
         "dtype": "float64"
        },
        {
         "name": "FTM_Player2",
         "dtype": "float64"
        },
        {
         "name": "FTA_Player2",
         "dtype": "float64"
        },
        {
         "name": "FT%_Player2",
         "dtype": "float64"
        },
        {
         "name": "OR_Player2",
         "dtype": "float64"
        },
        {
         "name": "DR_Player2",
         "dtype": "float64"
        },
        {
         "name": "AST_Player2",
         "dtype": "float64"
        },
        {
         "name": "STL_Player2",
         "dtype": "float64"
        },
        {
         "name": "BLK_Player2",
         "dtype": "float64"
        },
        {
         "name": "TOV_Player2",
         "dtype": "float64"
        },
        {
         "name": "PF_Player2",
         "dtype": "float64"
        },
        {
         "name": "PTS_Player2",
         "dtype": "float64"
        },
        {
         "name": "BPM_O_Player2",
         "dtype": "float64"
        },
        {
         "name": "BPM_D_Player2",
         "dtype": "float64"
        },
        {
         "name": "EPM_O_Player2",
         "dtype": "float64"
        },
        {
         "name": "EPM_D_Player2",
         "dtype": "float64"
        },
        {
         "name": "RPM_O_Player2",
         "dtype": "float64"
        },
        {
         "name": "RPM_D_Player2",
         "dtype": "float64"
        },
        {
         "name": "GP_Player3",
         "dtype": "float64"
        },
        {
         "name": "GS_Player3",
         "dtype": "float64"
        },
        {
         "name": "MP_Player3",
         "dtype": "float64"
        },
        {
         "name": "FGM_Player3",
         "dtype": "float64"
        },
        {
         "name": "FGA_Player3",
         "dtype": "float64"
        },
        {
         "name": "FG%_Player3",
         "dtype": "float64"
        },
        {
         "name": "2FGM_Player3",
         "dtype": "float64"
        },
        {
         "name": "2FGA_Player3",
         "dtype": "float64"
        },
        {
         "name": "2FG%_Player3",
         "dtype": "float64"
        },
        {
         "name": "3FGM_Player3",
         "dtype": "float64"
        },
        {
         "name": "3FGA_Player3",
         "dtype": "float64"
        },
        {
         "name": "3FG%_Player3",
         "dtype": "float64"
        },
        {
         "name": "eFG%_Player3",
         "dtype": "float64"
        },
        {
         "name": "TS%_Player3",
         "dtype": "float64"
        },
        {
         "name": "FTM_Player3",
         "dtype": "float64"
        },
        {
         "name": "FTA_Player3",
         "dtype": "float64"
        },
        {
         "name": "FT%_Player3",
         "dtype": "float64"
        },
        {
         "name": "OR_Player3",
         "dtype": "float64"
        },
        {
         "name": "DR_Player3",
         "dtype": "float64"
        },
        {
         "name": "AST_Player3",
         "dtype": "float64"
        },
        {
         "name": "STL_Player3",
         "dtype": "float64"
        },
        {
         "name": "BLK_Player3",
         "dtype": "float64"
        },
        {
         "name": "TOV_Player3",
         "dtype": "float64"
        },
        {
         "name": "PF_Player3",
         "dtype": "float64"
        },
        {
         "name": "PTS_Player3",
         "dtype": "float64"
        },
        {
         "name": "BPM_O_Player3",
         "dtype": "float64"
        },
        {
         "name": "BPM_D_Player3",
         "dtype": "float64"
        },
        {
         "name": "EPM_O_Player3",
         "dtype": "float64"
        },
        {
         "name": "EPM_D_Player3",
         "dtype": "float64"
        },
        {
         "name": "RPM_O_Player3",
         "dtype": "float64"
        },
        {
         "name": "RPM_D_Player3",
         "dtype": "float64"
        },
        {
         "name": "GP_Player4",
         "dtype": "float64"
        },
        {
         "name": "GS_Player4",
         "dtype": "float64"
        },
        {
         "name": "MP_Player4",
         "dtype": "float64"
        },
        {
         "name": "FGM_Player4",
         "dtype": "float64"
        },
        {
         "name": "FGA_Player4",
         "dtype": "float64"
        },
        {
         "name": "FG%_Player4",
         "dtype": "float64"
        },
        {
         "name": "2FGM_Player4",
         "dtype": "float64"
        },
        {
         "name": "2FGA_Player4",
         "dtype": "float64"
        },
        {
         "name": "2FG%_Player4",
         "dtype": "float64"
        },
        {
         "name": "3FGM_Player4",
         "dtype": "float64"
        },
        {
         "name": "3FGA_Player4",
         "dtype": "float64"
        },
        {
         "name": "3FG%_Player4",
         "dtype": "float64"
        },
        {
         "name": "eFG%_Player4",
         "dtype": "float64"
        },
        {
         "name": "TS%_Player4",
         "dtype": "float64"
        },
        {
         "name": "FTM_Player4",
         "dtype": "float64"
        },
        {
         "name": "FTA_Player4",
         "dtype": "float64"
        },
        {
         "name": "FT%_Player4",
         "dtype": "float64"
        },
        {
         "name": "OR_Player4",
         "dtype": "float64"
        },
        {
         "name": "DR_Player4",
         "dtype": "float64"
        },
        {
         "name": "AST_Player4",
         "dtype": "float64"
        },
        {
         "name": "STL_Player4",
         "dtype": "float64"
        },
        {
         "name": "BLK_Player4",
         "dtype": "float64"
        },
        {
         "name": "TOV_Player4",
         "dtype": "float64"
        },
        {
         "name": "PF_Player4",
         "dtype": "float64"
        },
        {
         "name": "PTS_Player4",
         "dtype": "float64"
        },
        {
         "name": "BPM_O_Player4",
         "dtype": "float64"
        },
        {
         "name": "BPM_D_Player4",
         "dtype": "float64"
        },
        {
         "name": "EPM_O_Player4",
         "dtype": "float64"
        },
        {
         "name": "EPM_D_Player4",
         "dtype": "float64"
        },
        {
         "name": "RPM_O_Player4",
         "dtype": "float64"
        },
        {
         "name": "RPM_D_Player4",
         "dtype": "float64"
        },
        {
         "name": "GP_Player5",
         "dtype": "float64"
        },
        {
         "name": "GS_Player5",
         "dtype": "float64"
        },
        {
         "name": "MP_Player5",
         "dtype": "float64"
        },
        {
         "name": "FGM_Player5",
         "dtype": "float64"
        },
        {
         "name": "FGA_Player5",
         "dtype": "float64"
        },
        {
         "name": "FG%_Player5",
         "dtype": "float64"
        },
        {
         "name": "2FGM_Player5",
         "dtype": "float64"
        },
        {
         "name": "2FGA_Player5",
         "dtype": "float64"
        },
        {
         "name": "2FG%_Player5",
         "dtype": "float64"
        },
        {
         "name": "3FGM_Player5",
         "dtype": "float64"
        },
        {
         "name": "3FGA_Player5",
         "dtype": "float64"
        },
        {
         "name": "3FG%_Player5",
         "dtype": "float64"
        },
        {
         "name": "eFG%_Player5",
         "dtype": "float64"
        },
        {
         "name": "TS%_Player5",
         "dtype": "float64"
        },
        {
         "name": "FTM_Player5",
         "dtype": "float64"
        },
        {
         "name": "FTA_Player5",
         "dtype": "float64"
        },
        {
         "name": "FT%_Player5",
         "dtype": "float64"
        },
        {
         "name": "OR_Player5",
         "dtype": "float64"
        },
        {
         "name": "DR_Player5",
         "dtype": "float64"
        },
        {
         "name": "AST_Player5",
         "dtype": "float64"
        },
        {
         "name": "STL_Player5",
         "dtype": "float64"
        },
        {
         "name": "BLK_Player5",
         "dtype": "float64"
        },
        {
         "name": "TOV_Player5",
         "dtype": "float64"
        },
        {
         "name": "PF_Player5",
         "dtype": "float64"
        },
        {
         "name": "PTS_Player5",
         "dtype": "float64"
        },
        {
         "name": "BPM_O_Player5",
         "dtype": "float64"
        },
        {
         "name": "BPM_D_Player5",
         "dtype": "float64"
        },
        {
         "name": "EPM_O_Player5",
         "dtype": "float64"
        },
        {
         "name": "EPM_D_Player5",
         "dtype": "float64"
        },
        {
         "name": "RPM_O_Player5",
         "dtype": "float64"
        },
        {
         "name": "RPM_D_Player5",
         "dtype": "float64"
        },
        {
         "name": "_deepnote_index_column",
         "dtype": "int64"
        }
       ],
       "rows": [
        {
         "GP_Player1": 19,
         "GS_Player1": 0,
         "MP_Player1": 157.63,
         "FGM_Player1": 25,
         "FGA_Player1": 64,
         "FG%_Player1": 0.390625,
         "2FGM_Player1": 8,
         "2FGA_Player1": 23,
         "2FG%_Player1": 0.347826086,
         "3FGM_Player1": 17,
         "3FGA_Player1": 41,
         "3FG%_Player1": 0.414634146,
         "eFG%_Player1": 0.515625,
         "TS%_Player1": 0.541282,
         "FTM_Player1": 8,
         "FTA_Player1": 12,
         "FT%_Player1": 0.666666666,
         "OR_Player1": 3,
         "DR_Player1": 14,
         "AST_Player1": 4,
         "STL_Player1": 6,
         "BLK_Player1": 3,
         "TOV_Player1": 5,
         "PF_Player1": 22,
         "PTS_Player1": 75,
         "BPM_O_Player1": -2.1,
         "BPM_D_Player1": -1.4,
         "EPM_O_Player1": -1.445,
         "EPM_D_Player1": -2.48,
         "RPM_O_Player1": 0.49,
         "RPM_D_Player1": 1.3,
         "GP_Player2": 67,
         "GS_Player2": 67,
         "MP_Player2": 2248.72,
         "FGM_Player2": 474,
         "FGA_Player2": 732,
         "FG%_Player2": 0.647540983,
         "2FGM_Player2": 474,
         "2FGA_Player2": 732,
         "2FG%_Player2": 0.647540983,
         "3FGM_Player2": 0,
         "3FGA_Player2": 0,
         "3FG%_Player2": 0,
         "eFG%_Player2": 0.647540983,
         "TS%_Player2": 0.657739,
         "FTM_Player2": 166,
         "FTA_Player2": 261,
         "FT%_Player2": 0.636015325,
         "OR_Player2": 298,
         "DR_Player2": 550,
         "AST_Player2": 96,
         "STL_Player2": 44,
         "BLK_Player2": 102,
         "TOV_Player2": 94,
         "PF_Player2": 168,
         "PTS_Player2": 1114,
         "BPM_O_Player2": 3.3,
         "BPM_D_Player2": -0.3,
         "EPM_O_Player2": 2.192,
         "EPM_D_Player2": 0.365,
         "RPM_O_Player2": -0.04,
         "RPM_D_Player2": 1.38,
         "GP_Player3": 68,
         "GS_Player3": 53,
         "MP_Player3": 2157.96,
         "FGM_Player3": 384,
         "FGA_Player3": 938,
         "FG%_Player3": 0.409381663,
         "2FGM_Player3": 168,
         "2FGA_Player3": 338,
         "2FG%_Player3": 0.49704142,
         "3FGM_Player3": 216,
         "3FGA_Player3": 600,
         "3FG%_Player3": 0.36,
         "eFG%_Player3": 0.524520255,
         "TS%_Player3": 0.548822,
         "FTM_Player3": 119,
         "FTA_Player3": 152,
         "FT%_Player3": 0.782894736,
         "OR_Player3": 17,
         "DR_Player3": 131,
         "AST_Player3": 129,
         "STL_Player3": 41,
         "BLK_Player3": 27,
         "TOV_Player3": 90,
         "PF_Player3": 143,
         "PTS_Player3": 1103,
         "BPM_O_Player3": 0.5,
         "BPM_D_Player3": -1.8,
         "EPM_O_Player3": 1.588,
         "EPM_D_Player3": -0.837,
         "RPM_O_Player3": 1.8,
         "RPM_D_Player3": -0.36,
         "GP_Player4": 78,
         "GS_Player4": 78,
         "MP_Player4": 2866.72,
         "FGM_Player4": 843,
         "FGA_Player4": 1909,
         "FG%_Player4": 0.441592456,
         "2FGM_Player4": 465,
         "2FGA_Player4": 881,
         "2FG%_Player4": 0.527809307,
         "3FGM_Player4": 378,
         "3FGA_Player4": 1028,
         "3FG%_Player4": 0.36770428,
         "eFG%_Player4": 0.540597171,
         "TS%_Player4": 0.61622,
         "FTM_Player4": 754,
         "FTA_Player4": 858,
         "FT%_Player4": 0.878787878,
         "OR_Player4": 66,
         "DR_Player4": 452,
         "AST_Player4": 586,
         "STL_Player4": 158,
         "BLK_Player4": 58,
         "TOV_Player4": 387,
         "PF_Player4": 244,
         "PTS_Player4": 2818,
         "BPM_O_Player4": 9.4,
         "BPM_D_Player4": 1.6,
         "EPM_O_Player4": 8.21,
         "EPM_D_Player4": 1.992,
         "RPM_O_Player4": 5.75,
         "RPM_D_Player4": 0.93,
         "GP_Player5": 82,
         "GS_Player5": 82,
         "MP_Player5": 2802.1,
         "FGM_Player5": 207,
         "FGA_Player5": 523,
         "FG%_Player5": 0.395793499,
         "2FGM_Player5": 61,
         "2FGA_Player5": 136,
         "2FG%_Player5": 0.448529411,
         "3FGM_Player5": 146,
         "3FGA_Player5": 387,
         "3FG%_Player5": 0.377260981,
         "eFG%_Player5": 0.535372848,
         "TS%_Player5": 0.547399,
         "FTM_Player5": 41,
         "FTA_Player5": 59,
         "FT%_Player5": 0.694915254,
         "OR_Player5": 121,
         "DR_Player5": 358,
         "AST_Player5": 96,
         "STL_Player5": 132,
         "BLK_Player5": 39,
         "TOV_Player5": 63,
         "PF_Player5": 252,
         "PTS_Player5": 601,
         "BPM_O_Player5": -1.6,
         "BPM_D_Player5": 1,
         "EPM_O_Player5": -1.736,
         "EPM_D_Player5": 1.892,
         "RPM_O_Player5": -2.95,
         "RPM_D_Player5": 0.29,
         "_deepnote_index_column": 2
        },
        {
         "GP_Player1": 82,
         "GS_Player1": 82,
         "MP_Player1": 2614.7,
         "FGM_Player1": 623,
         "FGA_Player1": 1360,
         "FG%_Player1": 0.458088235,
         "2FGM_Player1": 345,
         "2FGA_Player1": 709,
         "2FG%_Player1": 0.486600846,
         "3FGM_Player1": 278,
         "3FGA_Player1": 651,
         "3FG%_Player1": 0.42703533,
         "eFG%_Player1": 0.560294117,
         "TS%_Player1": 0.586538,
         "FTM_Player1": 171,
         "FTA_Player1": 193,
         "FT%_Player1": 0.886010362,
         "OR_Player1": 106,
         "DR_Player1": 307,
         "AST_Player1": 205,
         "STL_Player1": 58,
         "BLK_Player1": 33,
         "TOV_Player1": 147,
         "PF_Player1": 202,
         "PTS_Player1": 1695,
         "BPM_O_Player1": 3.5,
         "BPM_D_Player1": -1.4,
         "EPM_O_Player1": 2.694,
         "EPM_D_Player1": -1.128,
         "RPM_O_Player1": 3.74,
         "RPM_D_Player1": -1.38,
         "GP_Player2": 81,
         "GS_Player2": 81,
         "MP_Player2": 2545.75,
         "FGM_Player2": 505,
         "FGA_Player2": 1102,
         "FG%_Player2": 0.458257713,
         "2FGM_Player2": 419,
         "2FGA_Player2": 870,
         "2FG%_Player2": 0.481609195,
         "3FGM_Player2": 86,
         "3FGA_Player2": 232,
         "3FG%_Player2": 0.370689655,
         "eFG%_Player2": 0.497277676,
         "TS%_Player2": 0.544155,
         "FTM_Player2": 303,
         "FTA_Player2": 417,
         "FT%_Player2": 0.726618705,
         "OR_Player2": 43,
         "DR_Player2": 261,
         "AST_Player2": 590,
         "STL_Player2": 133,
         "BLK_Player2": 45,
         "TOV_Player2": 227,
         "PF_Player2": 204,
         "PTS_Player2": 1399,
         "BPM_O_Player2": 1.3,
         "BPM_D_Player2": 0.2,
         "EPM_O_Player2": 1.083,
         "EPM_D_Player2": 1.282,
         "RPM_O_Player2": 4.24,
         "RPM_D_Player2": -0.91,
         "GP_Player3": 64,
         "GS_Player3": 52,
         "MP_Player3": 1609.09,
         "FGM_Player3": 259,
         "FGA_Player3": 526,
         "FG%_Player3": 0.492395437,
         "2FGM_Player3": 176,
         "2FGA_Player3": 309,
         "2FG%_Player3": 0.569579288,
         "3FGM_Player3": 83,
         "3FGA_Player3": 217,
         "3FG%_Player3": 0.382488479,
         "eFG%_Player3": 0.570342205,
         "TS%_Player3": 0.601855,
         "FTM_Player3": 92,
         "FTA_Player3": 113,
         "FT%_Player3": 0.814159292,
         "OR_Player3": 105,
         "DR_Player3": 375,
         "AST_Player3": 90,
         "STL_Player3": 69,
         "BLK_Player3": 71,
         "TOV_Player3": 84,
         "PF_Player3": 214,
         "PTS_Player3": 693,
         "BPM_O_Player3": -0.3,
         "BPM_D_Player3": 0.8,
         "EPM_O_Player3": 0.374,
         "EPM_D_Player3": 1.486,
         "RPM_O_Player3": -0.52,
         "RPM_D_Player3": 0.24,
         "GP_Player4": 77,
         "GS_Player4": 77,
         "MP_Player4": 2532.46,
         "FGM_Player4": 431,
         "FGA_Player4": 1027,
         "FG%_Player4": 0.419668938,
         "2FGM_Player4": 257,
         "2FGA_Player4": 586,
         "2FG%_Player4": 0.438566552,
         "3FGM_Player4": 174,
         "3FGA_Player4": 441,
         "3FG%_Player4": 0.394557823,
         "eFG%_Player4": 0.504381694,
         "TS%_Player4": 0.550325,
         "FTM_Player4": 229,
         "FTA_Player4": 278,
         "FT%_Player4": 0.823741007,
         "OR_Player4": 57,
         "DR_Player4": 304,
         "AST_Player4": 115,
         "STL_Player4": 50,
         "BLK_Player4": 13,
         "TOV_Player4": 98,
         "PF_Player4": 122,
         "PTS_Player4": 1265,
         "BPM_O_Player4": -0.2,
         "BPM_D_Player4": -1.2,
         "EPM_O_Player4": -0.265,
         "EPM_D_Player4": -0.45,
         "RPM_O_Player4": -1.31,
         "RPM_D_Player4": 1.06,
         "GP_Player5": 62,
         "GS_Player5": 4,
         "MP_Player5": 1567.37,
         "FGM_Player5": 356,
         "FGA_Player5": 706,
         "FG%_Player5": 0.504249291,
         "2FGM_Player5": 326,
         "2FGA_Player5": 610,
         "2FG%_Player5": 0.534426229,
         "3FGM_Player5": 30,
         "3FGA_Player5": 96,
         "3FG%_Player5": 0.3125,
         "eFG%_Player5": 0.52549575,
         "TS%_Player5": 0.561928,
         "FTM_Player5": 181,
         "FTA_Player5": 262,
         "FT%_Player5": 0.690839694,
         "OR_Player5": 162,
         "DR_Player5": 309,
         "AST_Player5": 62,
         "STL_Player5": 33,
         "BLK_Player5": 59,
         "TOV_Player5": 98,
         "PF_Player5": 120,
         "PTS_Player5": 923,
         "BPM_O_Player5": 0.5,
         "BPM_D_Player5": -1.5,
         "EPM_O_Player5": -0.561,
         "EPM_D_Player5": -0.739,
         "RPM_O_Player5": -0.49,
         "RPM_D_Player5": -1.44,
         "_deepnote_index_column": 8
        },
        {
         "GP_Player1": 74,
         "GS_Player1": 5,
         "MP_Player1": 1838.34,
         "FGM_Player1": 413,
         "FGA_Player1": 700,
         "FG%_Player1": 0.59,
         "2FGM_Player1": 404,
         "2FGA_Player1": 683,
         "2FG%_Player1": 0.591508052,
         "3FGM_Player1": 9,
         "3FGA_Player1": 17,
         "3FG%_Player1": 0.529411764,
         "eFG%_Player1": 0.595714285,
         "TS%_Player1": 0.6298,
         "FTM_Player1": 208,
         "FTA_Player1": 291,
         "FT%_Player1": 0.714776632,
         "OR_Player1": 186,
         "DR_Player1": 504,
         "AST_Player1": 212,
         "STL_Player1": 48,
         "BLK_Player1": 30,
         "TOV_Player1": 160,
         "PF_Player1": 239,
         "PTS_Player1": 1043,
         "BPM_O_Player1": 1.9,
         "BPM_D_Player1": 1.3,
         "EPM_O_Player1": 1.083,
         "EPM_D_Player1": 0.365,
         "RPM_O_Player1": -0.41,
         "RPM_D_Player1": 1.43,
         "GP_Player2": 79,
         "GS_Player2": 55,
         "MP_Player2": 2249.85,
         "FGM_Player2": 431,
         "FGA_Player2": 979,
         "FG%_Player2": 0.440245148,
         "2FGM_Player2": 316,
         "2FGA_Player2": 649,
         "2FG%_Player2": 0.486902927,
         "3FGM_Player2": 115,
         "3FGA_Player2": 330,
         "3FG%_Player2": 0.348484848,
         "eFG%_Player2": 0.498467824,
         "TS%_Player2": 0.552405,
         "FTM_Player2": 231,
         "FTA_Player2": 260,
         "FT%_Player2": 0.888461538,
         "OR_Player2": 65,
         "DR_Player2": 369,
         "AST_Player2": 172,
         "STL_Player2": 88,
         "BLK_Player2": 32,
         "TOV_Player2": 80,
         "PF_Player2": 140,
         "PTS_Player2": 1208,
         "BPM_O_Player2": 1.2,
         "BPM_D_Player2": 0,
         "EPM_O_Player2": 0.779,
         "EPM_D_Player2": -0.448,
         "RPM_O_Player2": -0.52,
         "RPM_D_Player2": 0.2,
         "GP_Player3": 64,
         "GS_Player3": 64,
         "MP_Player3": 1831.46,
         "FGM_Player3": 378,
         "FGA_Player3": 748,
         "FG%_Player3": 0.505347593,
         "2FGM_Player3": 274,
         "2FGA_Player3": 504,
         "2FG%_Player3": 0.543650793,
         "3FGM_Player3": 104,
         "3FGA_Player3": 244,
         "3FG%_Player3": 0.426229508,
         "eFG%_Player3": 0.57486631,
         "TS%_Player3": 0.614201,
         "FTM_Player3": 141,
         "FTA_Player3": 152,
         "FT%_Player3": 0.927631578,
         "OR_Player3": 65,
         "DR_Player3": 223,
         "AST_Player3": 205,
         "STL_Player3": 46,
         "BLK_Player3": 13,
         "TOV_Player3": 91,
         "PF_Player3": 102,
         "PTS_Player3": 1001,
         "BPM_O_Player3": 2,
         "BPM_D_Player3": 0.1,
         "EPM_O_Player3": 2.091,
         "EPM_D_Player3": -0.932,
         "RPM_O_Player3": 1.45,
         "RPM_D_Player3": -0.05,
         "GP_Player4": 74,
         "GS_Player4": 74,
         "MP_Player4": 2118.64,
         "FGM_Player4": 380,
         "FGA_Player4": 780,
         "FG%_Player4": 0.487179487,
         "2FGM_Player4": 304,
         "2FGA_Player4": 584,
         "2FG%_Player4": 0.520547945,
         "3FGM_Player4": 76,
         "3FGA_Player4": 196,
         "3FG%_Player4": 0.387755102,
         "eFG%_Player4": 0.535897435,
         "TS%_Player4": 0.566533,
         "FTM_Player4": 148,
         "FTA_Player4": 201,
         "FT%_Player4": 0.736318407,
         "OR_Player4": 101,
         "DR_Player4": 430,
         "AST_Player4": 115,
         "STL_Player4": 60,
         "BLK_Player4": 199,
         "TOV_Player4": 100,
         "PF_Player4": 195,
         "PTS_Player4": 984,
         "BPM_O_Player4": 0,
         "BPM_D_Player4": 2.4,
         "EPM_O_Player4": -0.659,
         "EPM_D_Player4": 3.398,
         "RPM_O_Player4": -1.11,
         "RPM_D_Player4": 2.72,
         "GP_Player5": 43,
         "GS_Player5": 36,
         "MP_Player5": 1359.92,
         "FGM_Player5": 297,
         "FGA_Player5": 611,
         "FG%_Player5": 0.486088379,
         "2FGM_Player5": 220,
         "2FGA_Player5": 431,
         "2FG%_Player5": 0.510440835,
         "3FGM_Player5": 77,
         "3FGA_Player5": 180,
         "3FG%_Player5": 0.427777777,
         "eFG%_Player5": 0.548281505,
         "TS%_Player5": 0.579963,
         "FTM_Player5": 101,
         "FTA_Player5": 124,
         "FT%_Player5": 0.814516129,
         "OR_Player5": 31,
         "DR_Player5": 143,
         "AST_Player5": 64,
         "STL_Player5": 51,
         "BLK_Player5": 29,
         "TOV_Player5": 52,
         "PF_Player5": 119,
         "PTS_Player5": 772,
         "BPM_O_Player5": 0.9,
         "BPM_D_Player5": -1.1,
         "EPM_O_Player5": 0.678,
         "EPM_D_Player5": 0.16,
         "RPM_O_Player5": -0.99,
         "RPM_D_Player5": -0.58,
         "_deepnote_index_column": 9
        },
        {
         "GP_Player1": 70,
         "GS_Player1": 17,
         "MP_Player1": 1947.1,
         "FGM_Player1": 361,
         "FGA_Player1": 863,
         "FG%_Player1": 0.418308227,
         "2FGM_Player1": 227,
         "2FGA_Player1": 491,
         "2FG%_Player1": 0.462321792,
         "3FGM_Player1": 134,
         "3FGA_Player1": 372,
         "3FG%_Player1": 0.360215053,
         "eFG%_Player1": 0.49594438,
         "TS%_Player1": 0.52982,
         "FTM_Player1": 134,
         "FTA_Player1": 162,
         "FT%_Player1": 0.827160493,
         "OR_Player1": 40,
         "DR_Player1": 203,
         "AST_Player1": 267,
         "STL_Player1": 72,
         "BLK_Player1": 15,
         "TOV_Player1": 117,
         "PF_Player1": 142,
         "PTS_Player1": 990,
         "BPM_O_Player1": -0.1,
         "BPM_D_Player1": -0.6,
         "EPM_O_Player1": -0.168,
         "EPM_D_Player1": -0.738,
         "RPM_O_Player1": 0.83,
         "RPM_D_Player1": -0.02,
         "GP_Player2": 82,
         "GS_Player2": 9,
         "MP_Player2": 2063.27,
         "FGM_Player2": 226,
         "FGA_Player2": 548,
         "FG%_Player2": 0.412408759,
         "2FGM_Player2": 171,
         "2FGA_Player2": 377,
         "2FG%_Player2": 0.453580901,
         "3FGM_Player2": 55,
         "3FGA_Player2": 171,
         "3FG%_Player2": 0.321637426,
         "eFG%_Player2": 0.461678832,
         "TS%_Player2": 0.473612,
         "FTM_Player2": 30,
         "FTA_Player2": 43,
         "FT%_Player2": 0.697674418,
         "OR_Player2": 39,
         "DR_Player2": 240,
         "AST_Player2": 321,
         "STL_Player2": 94,
         "BLK_Player2": 22,
         "TOV_Player2": 80,
         "PF_Player2": 131,
         "PTS_Player2": 537,
         "BPM_O_Player2": -2.1,
         "BPM_D_Player2": 1.7,
         "EPM_O_Player2": -2.128,
         "EPM_D_Player2": 1.791,
         "RPM_O_Player2": -2.58,
         "RPM_D_Player2": 1.68,
         "GP_Player3": 77,
         "GS_Player3": 70,
         "MP_Player3": 1787.72,
         "FGM_Player3": 284,
         "FGA_Player3": 593,
         "FG%_Player3": 0.478920741,
         "2FGM_Player3": 181,
         "2FGA_Player3": 336,
         "2FG%_Player3": 0.538690476,
         "3FGM_Player3": 103,
         "3FGA_Player3": 257,
         "3FG%_Player3": 0.40077821,
         "eFG%_Player3": 0.564924114,
         "TS%_Player3": 0.584865,
         "FTM_Player3": 70,
         "FTA_Player3": 92,
         "FT%_Player3": 0.760869565,
         "OR_Player3": 125,
         "DR_Player3": 319,
         "AST_Player3": 147,
         "STL_Player3": 54,
         "BLK_Player3": 56,
         "TOV_Player3": 82,
         "PF_Player3": 197,
         "PTS_Player3": 741,
         "BPM_O_Player3": 0.4,
         "BPM_D_Player3": 0.5,
         "EPM_O_Player3": 1.486,
         "EPM_D_Player3": 0.262,
         "RPM_O_Player3": 1.46,
         "RPM_D_Player3": -1.51,
         "GP_Player4": 70,
         "GS_Player4": 4,
         "MP_Player4": 1183.57,
         "FGM_Player4": 222,
         "FGA_Player4": 365,
         "FG%_Player4": 0.608219178,
         "2FGM_Player4": 222,
         "2FGA_Player4": 365,
         "2FG%_Player4": 0.608219178,
         "3FGM_Player4": 0,
         "3FGA_Player4": 0,
         "3FG%_Player4": 0,
         "eFG%_Player4": 0.608219178,
         "TS%_Player4": 0.647059,
         "FTM_Player4": 128,
         "FTA_Player4": 175,
         "FT%_Player4": 0.731428571,
         "OR_Player4": 115,
         "DR_Player4": 216,
         "AST_Player4": 60,
         "STL_Player4": 42,
         "BLK_Player4": 79,
         "TOV_Player4": 52,
         "PF_Player4": 194,
         "PTS_Player4": 572,
         "BPM_O_Player4": 0.1,
         "BPM_D_Player4": 0.5,
         "EPM_O_Player4": 0.17,
         "EPM_D_Player4": 1.384,
         "RPM_O_Player4": -1.4,
         "RPM_D_Player4": 2.33,
         "GP_Player5": 69,
         "GS_Player5": 69,
         "MP_Player5": 2348.78,
         "FGM_Player5": 294,
         "FGA_Player5": 736,
         "FG%_Player5": 0.399456521,
         "2FGM_Player5": 149,
         "2FGA_Player5": 302,
         "2FG%_Player5": 0.493377483,
         "3FGM_Player5": 145,
         "3FGA_Player5": 434,
         "3FG%_Player5": 0.334101382,
         "eFG%_Player5": 0.497282608,
         "TS%_Player5": 0.533929,
         "FTM_Player5": 130,
         "FTA_Player5": 164,
         "FT%_Player5": 0.792682926,
         "OR_Player5": 50,
         "DR_Player5": 321,
         "AST_Player5": 252,
         "STL_Player5": 91,
         "BLK_Player5": 21,
         "TOV_Player5": 106,
         "PF_Player5": 130,
         "PTS_Player5": 863,
         "BPM_O_Player5": -0.7,
         "BPM_D_Player5": -0.6,
         "EPM_O_Player5": -0.657,
         "EPM_D_Player5": -1.031,
         "RPM_O_Player5": 0.26,
         "RPM_D_Player5": -2.04,
         "_deepnote_index_column": 10
        },
        {
         "GP_Player1": 70,
         "GS_Player1": 17,
         "MP_Player1": 1947.1,
         "FGM_Player1": 361,
         "FGA_Player1": 863,
         "FG%_Player1": 0.418308227,
         "2FGM_Player1": 227,
         "2FGA_Player1": 491,
         "2FG%_Player1": 0.462321792,
         "3FGM_Player1": 134,
         "3FGA_Player1": 372,
         "3FG%_Player1": 0.360215053,
         "eFG%_Player1": 0.49594438,
         "TS%_Player1": 0.52982,
         "FTM_Player1": 134,
         "FTA_Player1": 162,
         "FT%_Player1": 0.827160493,
         "OR_Player1": 40,
         "DR_Player1": 203,
         "AST_Player1": 267,
         "STL_Player1": 72,
         "BLK_Player1": 15,
         "TOV_Player1": 117,
         "PF_Player1": 142,
         "PTS_Player1": 990,
         "BPM_O_Player1": -0.1,
         "BPM_D_Player1": -0.6,
         "EPM_O_Player1": -0.168,
         "EPM_D_Player1": -0.738,
         "RPM_O_Player1": 0.83,
         "RPM_D_Player1": -0.02,
         "GP_Player2": 82,
         "GS_Player2": 82,
         "MP_Player2": 2614.7,
         "FGM_Player2": 623,
         "FGA_Player2": 1360,
         "FG%_Player2": 0.458088235,
         "2FGM_Player2": 345,
         "2FGA_Player2": 709,
         "2FG%_Player2": 0.486600846,
         "3FGM_Player2": 278,
         "3FGA_Player2": 651,
         "3FG%_Player2": 0.42703533,
         "eFG%_Player2": 0.560294117,
         "TS%_Player2": 0.586538,
         "FTM_Player2": 171,
         "FTA_Player2": 193,
         "FT%_Player2": 0.886010362,
         "OR_Player2": 106,
         "DR_Player2": 307,
         "AST_Player2": 205,
         "STL_Player2": 58,
         "BLK_Player2": 33,
         "TOV_Player2": 147,
         "PF_Player2": 202,
         "PTS_Player2": 1695,
         "BPM_O_Player2": 3.5,
         "BPM_D_Player2": -1.4,
         "EPM_O_Player2": 2.694,
         "EPM_D_Player2": -1.128,
         "RPM_O_Player2": 3.74,
         "RPM_D_Player2": -1.38,
         "GP_Player3": 81,
         "GS_Player3": 81,
         "MP_Player3": 2545.75,
         "FGM_Player3": 505,
         "FGA_Player3": 1102,
         "FG%_Player3": 0.458257713,
         "2FGM_Player3": 419,
         "2FGA_Player3": 870,
         "2FG%_Player3": 0.481609195,
         "3FGM_Player3": 86,
         "3FGA_Player3": 232,
         "3FG%_Player3": 0.370689655,
         "eFG%_Player3": 0.497277676,
         "TS%_Player3": 0.544155,
         "FTM_Player3": 303,
         "FTA_Player3": 417,
         "FT%_Player3": 0.726618705,
         "OR_Player3": 43,
         "DR_Player3": 261,
         "AST_Player3": 590,
         "STL_Player3": 133,
         "BLK_Player3": 45,
         "TOV_Player3": 227,
         "PF_Player3": 204,
         "PTS_Player3": 1399,
         "BPM_O_Player3": 1.3,
         "BPM_D_Player3": 0.2,
         "EPM_O_Player3": 1.083,
         "EPM_D_Player3": 1.282,
         "RPM_O_Player3": 4.24,
         "RPM_D_Player3": -0.91,
         "GP_Player4": 77,
         "GS_Player4": 77,
         "MP_Player4": 2532.46,
         "FGM_Player4": 431,
         "FGA_Player4": 1027,
         "FG%_Player4": 0.419668938,
         "2FGM_Player4": 257,
         "2FGA_Player4": 586,
         "2FG%_Player4": 0.438566552,
         "3FGM_Player4": 174,
         "3FGA_Player4": 441,
         "3FG%_Player4": 0.394557823,
         "eFG%_Player4": 0.504381694,
         "TS%_Player4": 0.550325,
         "FTM_Player4": 229,
         "FTA_Player4": 278,
         "FT%_Player4": 0.823741007,
         "OR_Player4": 57,
         "DR_Player4": 304,
         "AST_Player4": 115,
         "STL_Player4": 50,
         "BLK_Player4": 13,
         "TOV_Player4": 98,
         "PF_Player4": 122,
         "PTS_Player4": 1265,
         "BPM_O_Player4": -0.2,
         "BPM_D_Player4": -1.2,
         "EPM_O_Player4": -0.265,
         "EPM_D_Player4": -0.45,
         "RPM_O_Player4": -1.31,
         "RPM_D_Player4": 1.06,
         "GP_Player5": 62,
         "GS_Player5": 4,
         "MP_Player5": 1567.37,
         "FGM_Player5": 356,
         "FGA_Player5": 706,
         "FG%_Player5": 0.504249291,
         "2FGM_Player5": 326,
         "2FGA_Player5": 610,
         "2FG%_Player5": 0.534426229,
         "3FGM_Player5": 30,
         "3FGA_Player5": 96,
         "3FG%_Player5": 0.3125,
         "eFG%_Player5": 0.52549575,
         "TS%_Player5": 0.561928,
         "FTM_Player5": 181,
         "FTA_Player5": 262,
         "FT%_Player5": 0.690839694,
         "OR_Player5": 162,
         "DR_Player5": 309,
         "AST_Player5": 62,
         "STL_Player5": 33,
         "BLK_Player5": 59,
         "TOV_Player5": 98,
         "PF_Player5": 120,
         "PTS_Player5": 923,
         "BPM_O_Player5": 0.5,
         "BPM_D_Player5": -1.5,
         "EPM_O_Player5": -0.561,
         "EPM_D_Player5": -0.739,
         "RPM_O_Player5": -0.49,
         "RPM_D_Player5": -1.44,
         "_deepnote_index_column": 13
        },
        {
         "GP_Player1": 70,
         "GS_Player1": 17,
         "MP_Player1": 1947.1,
         "FGM_Player1": 361,
         "FGA_Player1": 863,
         "FG%_Player1": 0.418308227,
         "2FGM_Player1": 227,
         "2FGA_Player1": 491,
         "2FG%_Player1": 0.462321792,
         "3FGM_Player1": 134,
         "3FGA_Player1": 372,
         "3FG%_Player1": 0.360215053,
         "eFG%_Player1": 0.49594438,
         "TS%_Player1": 0.52982,
         "FTM_Player1": 134,
         "FTA_Player1": 162,
         "FT%_Player1": 0.827160493,
         "OR_Player1": 40,
         "DR_Player1": 203,
         "AST_Player1": 267,
         "STL_Player1": 72,
         "BLK_Player1": 15,
         "TOV_Player1": 117,
         "PF_Player1": 142,
         "PTS_Player1": 990,
         "BPM_O_Player1": -0.1,
         "BPM_D_Player1": -0.6,
         "EPM_O_Player1": -0.168,
         "EPM_D_Player1": -0.738,
         "RPM_O_Player1": 0.83,
         "RPM_D_Player1": -0.02,
         "GP_Player2": 82,
         "GS_Player2": 82,
         "MP_Player2": 2614.7,
         "FGM_Player2": 623,
         "FGA_Player2": 1360,
         "FG%_Player2": 0.458088235,
         "2FGM_Player2": 345,
         "2FGA_Player2": 709,
         "2FG%_Player2": 0.486600846,
         "3FGM_Player2": 278,
         "3FGA_Player2": 651,
         "3FG%_Player2": 0.42703533,
         "eFG%_Player2": 0.560294117,
         "TS%_Player2": 0.586538,
         "FTM_Player2": 171,
         "FTA_Player2": 193,
         "FT%_Player2": 0.886010362,
         "OR_Player2": 106,
         "DR_Player2": 307,
         "AST_Player2": 205,
         "STL_Player2": 58,
         "BLK_Player2": 33,
         "TOV_Player2": 147,
         "PF_Player2": 202,
         "PTS_Player2": 1695,
         "BPM_O_Player2": 3.5,
         "BPM_D_Player2": -1.4,
         "EPM_O_Player2": 2.694,
         "EPM_D_Player2": -1.128,
         "RPM_O_Player2": 3.74,
         "RPM_D_Player2": -1.38,
         "GP_Player3": 81,
         "GS_Player3": 81,
         "MP_Player3": 2545.75,
         "FGM_Player3": 505,
         "FGA_Player3": 1102,
         "FG%_Player3": 0.458257713,
         "2FGM_Player3": 419,
         "2FGA_Player3": 870,
         "2FG%_Player3": 0.481609195,
         "3FGM_Player3": 86,
         "3FGA_Player3": 232,
         "3FG%_Player3": 0.370689655,
         "eFG%_Player3": 0.497277676,
         "TS%_Player3": 0.544155,
         "FTM_Player3": 303,
         "FTA_Player3": 417,
         "FT%_Player3": 0.726618705,
         "OR_Player3": 43,
         "DR_Player3": 261,
         "AST_Player3": 590,
         "STL_Player3": 133,
         "BLK_Player3": 45,
         "TOV_Player3": 227,
         "PF_Player3": 204,
         "PTS_Player3": 1399,
         "BPM_O_Player3": 1.3,
         "BPM_D_Player3": 0.2,
         "EPM_O_Player3": 1.083,
         "EPM_D_Player3": 1.282,
         "RPM_O_Player3": 4.24,
         "RPM_D_Player3": -0.91,
         "GP_Player4": 77,
         "GS_Player4": 77,
         "MP_Player4": 2532.46,
         "FGM_Player4": 431,
         "FGA_Player4": 1027,
         "FG%_Player4": 0.419668938,
         "2FGM_Player4": 257,
         "2FGA_Player4": 586,
         "2FG%_Player4": 0.438566552,
         "3FGM_Player4": 174,
         "3FGA_Player4": 441,
         "3FG%_Player4": 0.394557823,
         "eFG%_Player4": 0.504381694,
         "TS%_Player4": 0.550325,
         "FTM_Player4": 229,
         "FTA_Player4": 278,
         "FT%_Player4": 0.823741007,
         "OR_Player4": 57,
         "DR_Player4": 304,
         "AST_Player4": 115,
         "STL_Player4": 50,
         "BLK_Player4": 13,
         "TOV_Player4": 98,
         "PF_Player4": 122,
         "PTS_Player4": 1265,
         "BPM_O_Player4": -0.2,
         "BPM_D_Player4": -1.2,
         "EPM_O_Player4": -0.265,
         "EPM_D_Player4": -0.45,
         "RPM_O_Player4": -1.31,
         "RPM_D_Player4": 1.06,
         "GP_Player5": 62,
         "GS_Player5": 4,
         "MP_Player5": 1567.37,
         "FGM_Player5": 356,
         "FGA_Player5": 706,
         "FG%_Player5": 0.504249291,
         "2FGM_Player5": 326,
         "2FGA_Player5": 610,
         "2FG%_Player5": 0.534426229,
         "3FGM_Player5": 30,
         "3FGA_Player5": 96,
         "3FG%_Player5": 0.3125,
         "eFG%_Player5": 0.52549575,
         "TS%_Player5": 0.561928,
         "FTM_Player5": 181,
         "FTA_Player5": 262,
         "FT%_Player5": 0.690839694,
         "OR_Player5": 162,
         "DR_Player5": 309,
         "AST_Player5": 62,
         "STL_Player5": 33,
         "BLK_Player5": 59,
         "TOV_Player5": 98,
         "PF_Player5": 120,
         "PTS_Player5": 923,
         "BPM_O_Player5": 0.5,
         "BPM_D_Player5": -1.5,
         "EPM_O_Player5": -0.561,
         "EPM_D_Player5": -0.739,
         "RPM_O_Player5": -0.49,
         "RPM_D_Player5": -1.44,
         "_deepnote_index_column": 13
        },
        {
         "GP_Player1": 40,
         "GS_Player1": 25,
         "MP_Player1": 1062.83,
         "FGM_Player1": 207,
         "FGA_Player1": 483,
         "FG%_Player1": 0.428571428,
         "2FGM_Player1": 159,
         "2FGA_Player1": 329,
         "2FG%_Player1": 0.483282674,
         "3FGM_Player1": 48,
         "3FGA_Player1": 154,
         "3FG%_Player1": 0.311688311,
         "eFG%_Player1": 0.478260869,
         "TS%_Player1": 0.509197,
         "FTM_Player1": 85,
         "FTA_Player1": 123,
         "FT%_Player1": 0.69105691,
         "OR_Player1": 35,
         "DR_Player1": 116,
         "AST_Player1": 156,
         "STL_Player1": 42,
         "BLK_Player1": 14,
         "TOV_Player1": 69,
         "PF_Player1": 77,
         "PTS_Player1": 547,
         "BPM_O_Player1": -0.3,
         "BPM_D_Player1": 0.5,
         "EPM_O_Player1": -0.265,
         "EPM_D_Player1": -0.447,
         "RPM_O_Player1": -0.11,
         "RPM_D_Player1": -0.79,
         "GP_Player2": 80,
         "GS_Player2": 80,
         "MP_Player2": 2095.81,
         "FGM_Player2": 335,
         "FGA_Player2": 568,
         "FG%_Player2": 0.589788732,
         "2FGM_Player2": 329,
         "2FGA_Player2": 523,
         "2FG%_Player2": 0.629063097,
         "3FGM_Player2": 6,
         "3FGA_Player2": 45,
         "3FG%_Player2": 0.133333333,
         "eFG%_Player2": 0.595070422,
         "TS%_Player2": 0.632315,
         "FTM_Player2": 197,
         "FTA_Player2": 278,
         "FT%_Player2": 0.708633093,
         "OR_Player2": 191,
         "DR_Player2": 481,
         "AST_Player2": 110,
         "STL_Player2": 43,
         "BLK_Player2": 120,
         "TOV_Player2": 103,
         "PF_Player2": 184,
         "PTS_Player2": 873,
         "BPM_O_Player2": 0.2,
         "BPM_D_Player2": 1.4,
         "EPM_O_Player2": 0.779,
         "EPM_D_Player2": 0.775,
         "RPM_O_Player2": -1.06,
         "RPM_D_Player2": -0.92,
         "GP_Player3": 63,
         "GS_Player3": 46,
         "MP_Player3": 1293.64,
         "FGM_Player3": 202,
         "FGA_Player3": 449,
         "FG%_Player3": 0.449888641,
         "2FGM_Player3": 144,
         "2FGA_Player3": 265,
         "2FG%_Player3": 0.543396226,
         "3FGM_Player3": 58,
         "3FGA_Player3": 184,
         "3FG%_Player3": 0.315217391,
         "eFG%_Player3": 0.514476614,
         "TS%_Player3": 0.545477,
         "FTM_Player3": 72,
         "FTA_Player3": 92,
         "FT%_Player3": 0.782608695,
         "OR_Player3": 56,
         "DR_Player3": 190,
         "AST_Player3": 52,
         "STL_Player3": 41,
         "BLK_Player3": 25,
         "TOV_Player3": 77,
         "PF_Player3": 146,
         "PTS_Player3": 534,
         "BPM_O_Player3": -2.9,
         "BPM_D_Player3": 0.3,
         "EPM_O_Player3": -1.834,
         "EPM_D_Player3": 0.876,
         "RPM_O_Player3": 0.18,
         "RPM_D_Player3": -0.96,
         "GP_Player4": 68,
         "GS_Player4": 4,
         "MP_Player4": 1913.94,
         "FGM_Player4": 366,
         "FGA_Player4": 828,
         "FG%_Player4": 0.442028985,
         "2FGM_Player4": 242,
         "2FGA_Player4": 458,
         "2FG%_Player4": 0.528384279,
         "3FGM_Player4": 124,
         "3FGA_Player4": 370,
         "3FG%_Player4": 0.335135135,
         "eFG%_Player4": 0.516908212,
         "TS%_Player4": 0.580415,
         "FTM_Player4": 287,
         "FTA_Player4": 356,
         "FT%_Player4": 0.806179775,
         "OR_Player4": 26,
         "DR_Player4": 140,
         "AST_Player4": 311,
         "STL_Player4": 40,
         "BLK_Player4": 17,
         "TOV_Player4": 152,
         "PF_Player4": 187,
         "PTS_Player4": 1143,
         "BPM_O_Player4": 1.4,
         "BPM_D_Player4": -0.8,
         "EPM_O_Player4": 0.881,
         "EPM_D_Player4": -0.546,
         "RPM_O_Player4": 1,
         "RPM_D_Player4": 0.42,
         "GP_Player5": 55,
         "GS_Player5": 47,
         "MP_Player5": 1552.2,
         "FGM_Player5": 262,
         "FGA_Player5": 594,
         "FG%_Player5": 0.441077441,
         "2FGM_Player5": 139,
         "2FGA_Player5": 279,
         "2FG%_Player5": 0.498207885,
         "3FGM_Player5": 123,
         "3FGA_Player5": 315,
         "3FG%_Player5": 0.39047619,
         "eFG%_Player5": 0.543771043,
         "TS%_Player5": 0.575158,
         "FTM_Player5": 95,
         "FTA_Player5": 116,
         "FT%_Player5": 0.818965517,
         "OR_Player5": 22,
         "DR_Player5": 177,
         "AST_Player5": 118,
         "STL_Player5": 53,
         "BLK_Player5": 19,
         "TOV_Player5": 100,
         "PF_Player5": 141,
         "PTS_Player5": 742,
         "BPM_O_Player5": -1,
         "BPM_D_Player5": -1,
         "EPM_O_Player5": -0.364,
         "EPM_D_Player5": -1.618,
         "RPM_O_Player5": 1.03,
         "RPM_D_Player5": -2.52,
         "_deepnote_index_column": 15
        },
        {
         "GP_Player1": 69,
         "GS_Player1": 69,
         "MP_Player1": 2047,
         "FGM_Player1": 286,
         "FGA_Player1": 446,
         "FG%_Player1": 0.641255605,
         "2FGM_Player1": 286,
         "2FGA_Player1": 446,
         "2FG%_Player1": 0.641255605,
         "3FGM_Player1": 0,
         "3FGA_Player1": 0,
         "3FG%_Player1": 0,
         "eFG%_Player1": 0.641255605,
         "TS%_Player1": 0.674185,
         "FTM_Player1": 186,
         "FTA_Player1": 264,
         "FT%_Player1": 0.704545454,
         "OR_Player1": 225,
         "DR_Player1": 677,
         "AST_Player1": 156,
         "STL_Player1": 42,
         "BLK_Player1": 73,
         "TOV_Player1": 153,
         "PF_Player1": 167,
         "PTS_Player1": 758,
         "BPM_O_Player1": 0.8,
         "BPM_D_Player1": 1.3,
         "EPM_O_Player1": 0.069,
         "EPM_D_Player1": 1.284,
         "RPM_O_Player1": -1.33,
         "RPM_D_Player1": 0.81,
         "GP_Player2": 9,
         "GS_Player2": 0,
         "MP_Player2": 39.29,
         "FGM_Player2": 9,
         "FGA_Player2": 22,
         "FG%_Player2": 0.409090909,
         "2FGM_Player2": 8,
         "2FGA_Player2": 12,
         "2FG%_Player2": 0.666666666,
         "3FGM_Player2": 1,
         "3FGA_Player2": 10,
         "3FG%_Player2": 0.1,
         "eFG%_Player2": 0.409090909,
         "TS%_Player2": 0.41521,
         "FTM_Player2": 0,
         "FTA_Player2": 2,
         "FT%_Player2": 0,
         "OR_Player2": 1,
         "DR_Player2": 4,
         "AST_Player2": 2,
         "STL_Player2": 2,
         "BLK_Player2": 0,
         "TOV_Player2": 4,
         "PF_Player2": 1,
         "PTS_Player2": 19,
         "BPM_O_Player2": -6.3,
         "BPM_D_Player2": -0.9,
         "EPM_O_Player2": -3.3,
         "EPM_D_Player2": -2.4,
         "RPM_O_Player2": -2.51,
         "RPM_D_Player2": 0.92,
         "GP_Player3": 75,
         "GS_Player3": 55,
         "MP_Player3": 2040.42,
         "FGM_Player3": 208,
         "FGA_Player3": 493,
         "FG%_Player3": 0.421906693,
         "2FGM_Player3": 118,
         "2FGA_Player3": 229,
         "2FG%_Player3": 0.515283842,
         "3FGM_Player3": 90,
         "3FGA_Player3": 264,
         "3FG%_Player3": 0.34090909,
         "eFG%_Player3": 0.513184584,
         "TS%_Player3": 0.542512,
         "FTM_Player3": 80,
         "FTA_Player3": 107,
         "FT%_Player3": 0.747663551,
         "OR_Player3": 28,
         "DR_Player3": 188,
         "AST_Player3": 106,
         "STL_Player3": 76,
         "BLK_Player3": 30,
         "TOV_Player3": 70,
         "PF_Player3": 204,
         "PTS_Player3": 586,
         "BPM_O_Player3": -3.3,
         "BPM_D_Player3": 0.5,
         "EPM_O_Player3": -2.325,
         "EPM_D_Player3": -0.352,
         "RPM_O_Player3": -1.85,
         "RPM_D_Player3": 0.41,
         "GP_Player4": 63,
         "GS_Player4": 46,
         "MP_Player4": 1293.64,
         "FGM_Player4": 202,
         "FGA_Player4": 449,
         "FG%_Player4": 0.449888641,
         "2FGM_Player4": 144,
         "2FGA_Player4": 265,
         "2FG%_Player4": 0.543396226,
         "3FGM_Player4": 58,
         "3FGA_Player4": 184,
         "3FG%_Player4": 0.315217391,
         "eFG%_Player4": 0.514476614,
         "TS%_Player4": 0.545477,
         "FTM_Player4": 72,
         "FTA_Player4": 92,
         "FT%_Player4": 0.782608695,
         "OR_Player4": 56,
         "DR_Player4": 190,
         "AST_Player4": 52,
         "STL_Player4": 41,
         "BLK_Player4": 25,
         "TOV_Player4": 77,
         "PF_Player4": 146,
         "PTS_Player4": 534,
         "BPM_O_Player4": -2.9,
         "BPM_D_Player4": 0.3,
         "EPM_O_Player4": -1.834,
         "EPM_D_Player4": 0.876,
         "RPM_O_Player4": 0.18,
         "RPM_D_Player4": -0.96,
         "GP_Player5": 18,
         "GS_Player5": 0,
         "MP_Player5": 211.34,
         "FGM_Player5": 25,
         "FGA_Player5": 73,
         "FG%_Player5": 0.342465753,
         "2FGM_Player5": 13,
         "2FGA_Player5": 27,
         "2FG%_Player5": 0.481481481,
         "3FGM_Player5": 12,
         "3FGA_Player5": 46,
         "3FG%_Player5": 0.260869565,
         "eFG%_Player5": 0.424657534,
         "TS%_Player5": 0.48984,
         "FTM_Player5": 19,
         "FTA_Player5": 22,
         "FT%_Player5": 0.863636363,
         "OR_Player5": 4,
         "DR_Player5": 32,
         "AST_Player5": 21,
         "STL_Player5": 6,
         "BLK_Player5": 0,
         "TOV_Player5": 18,
         "PF_Player5": 15,
         "PTS_Player5": 81,
         "BPM_O_Player5": -3.6,
         "BPM_D_Player5": 0.4,
         "EPM_O_Player5": -3.39,
         "EPM_D_Player5": 0.161,
         "RPM_O_Player5": -1.88,
         "RPM_D_Player5": 0.8,
         "_deepnote_index_column": 17
        },
        {
         "GP_Player1": 56,
         "GS_Player1": 56,
         "MP_Player1": 1849.81,
         "FGM_Player1": 530,
         "FGA_Player1": 1026,
         "FG%_Player1": 0.5165692,
         "2FGM_Player1": 482,
         "2FGA_Player1": 881,
         "2FG%_Player1": 0.547105561,
         "3FGM_Player1": 48,
         "3FGA_Player1": 145,
         "3FG%_Player1": 0.331034482,
         "eFG%_Player1": 0.539961013,
         "TS%_Player1": 0.596784,
         "FTM_Player1": 344,
         "FTA_Player1": 433,
         "FT%_Player1": 0.794457274,
         "OR_Player1": 174,
         "DR_Player1": 498,
         "AST_Player1": 218,
         "STL_Player1": 88,
         "BLK_Player1": 135,
         "TOV_Player1": 111,
         "PF_Player1": 132,
         "PTS_Player1": 1452,
         "BPM_O_Player1": 7.1,
         "BPM_D_Player1": 2.3,
         "EPM_O_Player1": 4.798,
         "EPM_D_Player1": 2.294,
         "RPM_O_Player1": 3.11,
         "RPM_D_Player1": -0.15,
         "GP_Player2": 63,
         "GS_Player2": 63,
         "MP_Player2": 1905.24,
         "FGM_Player2": 248,
         "FGA_Player2": 608,
         "FG%_Player2": 0.407894736,
         "2FGM_Player2": 162,
         "2FGA_Player2": 363,
         "2FG%_Player2": 0.446280991,
         "3FGM_Player2": 86,
         "3FGA_Player2": 245,
         "3FG%_Player2": 0.351020408,
         "eFG%_Player2": 0.478618421,
         "TS%_Player2": 0.496032,
         "FTM_Player2": 43,
         "FTA_Player2": 50,
         "FT%_Player2": 0.86,
         "OR_Player2": 43,
         "DR_Player2": 132,
         "AST_Player2": 152,
         "STL_Player2": 41,
         "BLK_Player2": 16,
         "TOV_Player2": 89,
         "PF_Player2": 167,
         "PTS_Player2": 625,
         "BPM_O_Player2": -2.8,
         "BPM_D_Player2": -0.9,
         "EPM_O_Player2": -2.032,
         "EPM_D_Player2": 0.468,
         "RPM_O_Player2": -1.51,
         "RPM_D_Player2": -0.73,
         "GP_Player3": 80,
         "GS_Player3": 80,
         "MP_Player3": 2215.31,
         "FGM_Player3": 293,
         "FGA_Player3": 630,
         "FG%_Player3": 0.465079365,
         "2FGM_Player3": 95,
         "2FGA_Player3": 195,
         "2FG%_Player3": 0.487179487,
         "3FGM_Player3": 198,
         "3FGA_Player3": 435,
         "3FG%_Player3": 0.455172413,
         "eFG%_Player3": 0.622222222,
         "TS%_Player3": 0.632161,
         "FTM_Player3": 37,
         "FTA_Player3": 44,
         "FT%_Player3": 0.84090909,
         "OR_Player3": 60,
         "DR_Player3": 257,
         "AST_Player3": 126,
         "STL_Player3": 73,
         "BLK_Player3": 53,
         "TOV_Player3": 75,
         "PF_Player3": 171,
         "PTS_Player3": 821,
         "BPM_O_Player3": 1.1,
         "BPM_D_Player3": 0.8,
         "EPM_O_Player3": 1.99,
         "EPM_D_Player3": 0.57,
         "RPM_O_Player3": 1.22,
         "RPM_D_Player3": 0.47,
         "GP_Player4": 75,
         "GS_Player4": 62,
         "MP_Player4": 1670.56,
         "FGM_Player4": 400,
         "FGA_Player4": 641,
         "FG%_Player4": 0.62402496,
         "2FGM_Player4": 399,
         "2FGA_Player4": 629,
         "2FG%_Player4": 0.634340222,
         "3FGM_Player4": 1,
         "3FGA_Player4": 12,
         "3FG%_Player4": 0.083333333,
         "eFG%_Player4": 0.62402496,
         "TS%_Player4": 0.633582,
         "FTM_Player4": 96,
         "FTA_Player4": 152,
         "FT%_Player4": 0.631578947,
         "OR_Player4": 195,
         "DR_Player4": 371,
         "AST_Player4": 52,
         "STL_Player4": 47,
         "BLK_Player4": 148,
         "TOV_Player4": 108,
         "PF_Player4": 208,
         "PTS_Player4": 897,
         "BPM_O_Player4": 0.3,
         "BPM_D_Player4": 1.2,
         "EPM_O_Player4": 0.676,
         "EPM_D_Player4": 1.589,
         "RPM_O_Player4": -0.04,
         "RPM_D_Player4": -1.81,
         "GP_Player5": 55,
         "GS_Player5": 55,
         "MP_Player5": 1937.32,
         "FGM_Player5": 558,
         "FGA_Player5": 1095,
         "FG%_Player5": 0.509589041,
         "2FGM_Player5": 447,
         "2FGA_Player5": 768,
         "2FG%_Player5": 0.58203125,
         "3FGM_Player5": 111,
         "3FGA_Player5": 327,
         "3FG%_Player5": 0.339449541,
         "eFG%_Player5": 0.559817351,
         "TS%_Player5": 0.588387,
         "FTM_Player5": 278,
         "FTA_Player5": 418,
         "FT%_Player5": 0.66507177,
         "OR_Player5": 57,
         "DR_Player5": 408,
         "AST_Player5": 454,
         "STL_Player5": 72,
         "BLK_Player5": 33,
         "TOV_Player5": 197,
         "PF_Player5": 94,
         "PTS_Player5": 1505,
         "BPM_O_Player5": 6.4,
         "BPM_D_Player5": 1.7,
         "EPM_O_Player5": 4.497,
         "EPM_D_Player5": 1.282,
         "RPM_O_Player5": 6.33,
         "RPM_D_Player5": 0.45,
         "_deepnote_index_column": 28
        },
        {
         "GP_Player1": 78,
         "GS_Player1": 78,
         "MP_Player1": 2632.42,
         "FGM_Player1": 470,
         "FGA_Player1": 1046,
         "FG%_Player1": 0.449330783,
         "2FGM_Player1": 349,
         "2FGA_Player1": 699,
         "2FG%_Player1": 0.499284692,
         "3FGM_Player1": 121,
         "3FGA_Player1": 347,
         "3FG%_Player1": 0.34870317,
         "eFG%_Player1": 0.50669216,
         "TS%_Player1": 0.538313,
         "FTM_Player1": 185,
         "FTA_Player1": 253,
         "FT%_Player1": 0.731225296,
         "OR_Player1": 129,
         "DR_Player1": 445,
         "AST_Player1": 289,
         "STL_Player1": 57,
         "BLK_Player1": 56,
         "TOV_Player1": 162,
         "PF_Player1": 172,
         "PTS_Player1": 1246,
         "BPM_O_Player1": 0.3,
         "BPM_D_Player1": 0.3,
         "EPM_O_Player1": 0.069,
         "EPM_D_Player1": 0.978,
         "RPM_O_Player1": -0.79,
         "RPM_D_Player1": 1.11,
         "GP_Player2": 81,
         "GS_Player2": 81,
         "MP_Player2": 2268.83,
         "FGM_Player2": 318,
         "FGA_Player2": 677,
         "FG%_Player2": 0.46971935,
         "2FGM_Player2": 187,
         "2FGA_Player2": 366,
         "2FG%_Player2": 0.510928961,
         "3FGM_Player2": 131,
         "3FGA_Player2": 311,
         "3FG%_Player2": 0.421221864,
         "eFG%_Player2": 0.565731166,
         "TS%_Player2": 0.616417,
         "FTM_Player2": 181,
         "FTA_Player2": 209,
         "FT%_Player2": 0.866028708,
         "OR_Player2": 41,
         "DR_Player2": 162,
         "AST_Player2": 426,
         "STL_Player2": 52,
         "BLK_Player2": 4,
         "TOV_Player2": 128,
         "PF_Player2": 115,
         "PTS_Player2": 948,
         "BPM_O_Player2": 1.1,
         "BPM_D_Player2": -0.7,
         "EPM_O_Player2": 1.89,
         "EPM_D_Player2": -0.351,
         "RPM_O_Player2": 0.98,
         "RPM_D_Player2": -0.04,
         "GP_Player3": 81,
         "GS_Player3": 81,
         "MP_Player3": 2553.22,
         "FGM_Player3": 468,
         "FGA_Player3": 1069,
         "FG%_Player3": 0.437792329,
         "2FGM_Player3": 315,
         "2FGA_Player3": 619,
         "2FG%_Player3": 0.508885298,
         "3FGM_Player3": 153,
         "3FGA_Player3": 450,
         "3FG%_Player3": 0.34,
         "eFG%_Player3": 0.50888681,
         "TS%_Player3": 0.535933,
         "FTM_Player3": 137,
         "FTA_Player3": 170,
         "FT%_Player3": 0.805882352,
         "OR_Player3": 38,
         "DR_Player3": 220,
         "AST_Player3": 295,
         "STL_Player3": 71,
         "BLK_Player3": 12,
         "TOV_Player3": 154,
         "PF_Player3": 225,
         "PTS_Player3": 1226,
         "BPM_O_Player3": -1.8,
         "BPM_D_Player3": -0.6,
         "EPM_O_Player3": 0.575,
         "EPM_D_Player3": -0.643,
         "RPM_O_Player3": 0.65,
         "RPM_D_Player3": -1.33,
         "GP_Player4": 75,
         "GS_Player4": 64,
         "MP_Player4": 1995.96,
         "FGM_Player4": 262,
         "FGA_Player4": 611,
         "FG%_Player4": 0.428805237,
         "2FGM_Player4": 176,
         "2FGA_Player4": 345,
         "2FG%_Player4": 0.510144927,
         "3FGM_Player4": 86,
         "3FGA_Player4": 266,
         "3FG%_Player4": 0.32330827,
         "eFG%_Player4": 0.499181669,
         "TS%_Player4": 0.536993,
         "FTM_Player4": 110,
         "FTA_Player4": 135,
         "FT%_Player4": 0.814814814,
         "OR_Player4": 99,
         "DR_Player4": 312,
         "AST_Player4": 80,
         "STL_Player4": 59,
         "BLK_Player4": 98,
         "TOV_Player4": 75,
         "PF_Player4": 143,
         "PTS_Player4": 720,
         "BPM_O_Player4": -1.4,
         "BPM_D_Player4": 1,
         "EPM_O_Player4": -1.248,
         "EPM_D_Player4": 1.386,
         "RPM_O_Player4": -1.78,
         "RPM_D_Player4": 0.9,
         "GP_Player5": 80,
         "GS_Player5": 80,
         "MP_Player5": 2510.04,
         "FGM_Player5": 701,
         "FGA_Player5": 1354,
         "FG%_Player5": 0.517725258,
         "2FGM_Player5": 617,
         "2FGA_Player5": 1123,
         "2FG%_Player5": 0.549421193,
         "3FGM_Player5": 84,
         "3FGA_Player5": 231,
         "3FG%_Player5": 0.363636363,
         "eFG%_Player5": 0.54874446,
         "TS%_Player5": 0.572606,
         "FTM_Player5": 179,
         "FTA_Player5": 227,
         "FT%_Player5": 0.788546255,
         "OR_Player5": 224,
         "DR_Player5": 736,
         "AST_Player5": 307,
         "STL_Player5": 81,
         "BLK_Player5": 89,
         "TOV_Player5": 159,
         "PF_Player5": 157,
         "PTS_Player5": 1665,
         "BPM_O_Player5": 5,
         "BPM_D_Player5": 1.7,
         "EPM_O_Player5": 3.396,
         "EPM_D_Player5": 1.589,
         "RPM_O_Player5": 0.81,
         "RPM_D_Player5": 1.11,
         "_deepnote_index_column": 36
        }
       ]
      },
      "text/plain": "                       GP_Player1  GS_Player1  MP_Player1  FGM_Player1  \\\nFloorLineupId_Offense                                                    \n2                            19.0         0.0      157.63         25.0   \n8                            82.0        82.0     2614.70        623.0   \n9                            74.0         5.0     1838.34        413.0   \n10                           70.0        17.0     1947.10        361.0   \n13                           70.0        17.0     1947.10        361.0   \n...                           ...         ...         ...          ...   \n374807                       68.0        13.0     1577.81        151.0   \n374841                       81.0        41.0     2022.23        304.0   \n374860                       53.0        36.0     1462.93        256.0   \n374947                       63.0        10.0     1436.49        228.0   \n374995                       81.0        26.0     1984.99        228.0   \n\n                       FGA_Player1  FG%_Player1  2FGM_Player1  2FGA_Player1  \\\nFloorLineupId_Offense                                                         \n2                             64.0     0.390625           8.0          23.0   \n8                           1360.0     0.458088         345.0         709.0   \n9                            700.0     0.590000         404.0         683.0   \n10                           863.0     0.418308         227.0         491.0   \n13                           863.0     0.418308         227.0         491.0   \n...                            ...          ...           ...           ...   \n374807                       302.0     0.500000         103.0         158.0   \n374841                       696.0     0.436782         186.0         373.0   \n374860                       532.0     0.481203         180.0         356.0   \n374947                       520.0     0.438462         122.0         251.0   \n374995                       528.0     0.431818         149.0         274.0   \n\n                       2FG%_Player1  3FGM_Player1  ...  BLK_Player5  \\\nFloorLineupId_Offense                              ...                \n2                          0.347826          17.0  ...         39.0   \n8                          0.486601         278.0  ...         59.0   \n9                          0.591508           9.0  ...         29.0   \n10                         0.462322         134.0  ...         21.0   \n13                         0.462322         134.0  ...         59.0   \n...                             ...           ...  ...          ...   \n374807                     0.651899          48.0  ...         56.0   \n374841                     0.498660         118.0  ...         46.0   \n374860                     0.505618          76.0  ...         46.0   \n374947                     0.486056         106.0  ...        103.0   \n374995                     0.543796          79.0  ...         51.0   \n\n                       TOV_Player5  PF_Player5  PTS_Player5  BPM_O_Player5  \\\nFloorLineupId_Offense                                                        \n2                             63.0       252.0        601.0           -1.6   \n8                             98.0       120.0        923.0            0.5   \n9                             52.0       119.0        772.0            0.9   \n10                           106.0       130.0        863.0           -0.7   \n13                            98.0       120.0        923.0            0.5   \n...                            ...         ...          ...            ...   \n374807                        82.0       197.0        741.0            0.4   \n374841                        44.0       175.0        430.0           -2.0   \n374860                        44.0       175.0        430.0           -2.0   \n374947                       114.0       211.0       1112.0            0.2   \n374995                        84.0       227.0        965.0            0.2   \n\n                       BPM_D_Player5  EPM_O_Player5  EPM_D_Player5  \\\nFloorLineupId_Offense                                                \n2                                1.0         -1.736          1.892   \n8                               -1.5         -0.561         -0.739   \n9                               -1.1          0.678          0.160   \n10                              -0.6         -0.657         -1.031   \n13                              -1.5         -0.561         -0.739   \n...                              ...            ...            ...   \n374807                           0.5          1.486          0.262   \n374841                           0.2         -1.051          0.159   \n374860                           0.2         -1.051          0.159   \n374947                           0.1          0.881          0.671   \n374995                           1.1          0.170          1.385   \n\n                       RPM_O_Player5  RPM_D_Player5  \nFloorLineupId_Offense                                \n2                              -2.95           0.29  \n8                              -0.49          -1.44  \n9                              -0.99          -0.58  \n10                              0.26          -2.04  \n13                             -0.49          -1.44  \n...                              ...            ...  \n374807                          1.46          -1.51  \n374841                         -1.13           0.57  \n374860                         -1.13           0.57  \n374947                         -1.04          -0.07  \n374995                          0.01          -0.91  \n\n[23556 rows x 155 columns]",
      "text/html": "<div>\n<style scoped>\n    .dataframe tbody tr th:only-of-type {\n        vertical-align: middle;\n    }\n\n    .dataframe tbody tr th {\n        vertical-align: top;\n    }\n\n    .dataframe thead th {\n        text-align: right;\n    }\n</style>\n<table border=\"1\" class=\"dataframe\">\n  <thead>\n    <tr style=\"text-align: right;\">\n      <th></th>\n      <th>GP_Player1</th>\n      <th>GS_Player1</th>\n      <th>MP_Player1</th>\n      <th>FGM_Player1</th>\n      <th>FGA_Player1</th>\n      <th>FG%_Player1</th>\n      <th>2FGM_Player1</th>\n      <th>2FGA_Player1</th>\n      <th>2FG%_Player1</th>\n      <th>3FGM_Player1</th>\n      <th>...</th>\n      <th>BLK_Player5</th>\n      <th>TOV_Player5</th>\n      <th>PF_Player5</th>\n      <th>PTS_Player5</th>\n      <th>BPM_O_Player5</th>\n      <th>BPM_D_Player5</th>\n      <th>EPM_O_Player5</th>\n      <th>EPM_D_Player5</th>\n      <th>RPM_O_Player5</th>\n      <th>RPM_D_Player5</th>\n    </tr>\n    <tr>\n      <th>FloorLineupId_Offense</th>\n      <th></th>\n      <th></th>\n      <th></th>\n      <th></th>\n      <th></th>\n      <th></th>\n      <th></th>\n      <th></th>\n      <th></th>\n      <th></th>\n      <th></th>\n      <th></th>\n      <th></th>\n      <th></th>\n      <th></th>\n      <th></th>\n      <th></th>\n      <th></th>\n      <th></th>\n      <th></th>\n      <th></th>\n    </tr>\n  </thead>\n  <tbody>\n    <tr>\n      <th>2</th>\n      <td>19.0</td>\n      <td>0.0</td>\n      <td>157.63</td>\n      <td>25.0</td>\n      <td>64.0</td>\n      <td>0.390625</td>\n      <td>8.0</td>\n      <td>23.0</td>\n      <td>0.347826</td>\n      <td>17.0</td>\n      <td>...</td>\n      <td>39.0</td>\n      <td>63.0</td>\n      <td>252.0</td>\n      <td>601.0</td>\n      <td>-1.6</td>\n      <td>1.0</td>\n      <td>-1.736</td>\n      <td>1.892</td>\n      <td>-2.95</td>\n      <td>0.29</td>\n    </tr>\n    <tr>\n      <th>8</th>\n      <td>82.0</td>\n      <td>82.0</td>\n      <td>2614.70</td>\n      <td>623.0</td>\n      <td>1360.0</td>\n      <td>0.458088</td>\n      <td>345.0</td>\n      <td>709.0</td>\n      <td>0.486601</td>\n      <td>278.0</td>\n      <td>...</td>\n      <td>59.0</td>\n      <td>98.0</td>\n      <td>120.0</td>\n      <td>923.0</td>\n      <td>0.5</td>\n      <td>-1.5</td>\n      <td>-0.561</td>\n      <td>-0.739</td>\n      <td>-0.49</td>\n      <td>-1.44</td>\n    </tr>\n    <tr>\n      <th>9</th>\n      <td>74.0</td>\n      <td>5.0</td>\n      <td>1838.34</td>\n      <td>413.0</td>\n      <td>700.0</td>\n      <td>0.590000</td>\n      <td>404.0</td>\n      <td>683.0</td>\n      <td>0.591508</td>\n      <td>9.0</td>\n      <td>...</td>\n      <td>29.0</td>\n      <td>52.0</td>\n      <td>119.0</td>\n      <td>772.0</td>\n      <td>0.9</td>\n      <td>-1.1</td>\n      <td>0.678</td>\n      <td>0.160</td>\n      <td>-0.99</td>\n      <td>-0.58</td>\n    </tr>\n    <tr>\n      <th>10</th>\n      <td>70.0</td>\n      <td>17.0</td>\n      <td>1947.10</td>\n      <td>361.0</td>\n      <td>863.0</td>\n      <td>0.418308</td>\n      <td>227.0</td>\n      <td>491.0</td>\n      <td>0.462322</td>\n      <td>134.0</td>\n      <td>...</td>\n      <td>21.0</td>\n      <td>106.0</td>\n      <td>130.0</td>\n      <td>863.0</td>\n      <td>-0.7</td>\n      <td>-0.6</td>\n      <td>-0.657</td>\n      <td>-1.031</td>\n      <td>0.26</td>\n      <td>-2.04</td>\n    </tr>\n    <tr>\n      <th>13</th>\n      <td>70.0</td>\n      <td>17.0</td>\n      <td>1947.10</td>\n      <td>361.0</td>\n      <td>863.0</td>\n      <td>0.418308</td>\n      <td>227.0</td>\n      <td>491.0</td>\n      <td>0.462322</td>\n      <td>134.0</td>\n      <td>...</td>\n      <td>59.0</td>\n      <td>98.0</td>\n      <td>120.0</td>\n      <td>923.0</td>\n      <td>0.5</td>\n      <td>-1.5</td>\n      <td>-0.561</td>\n      <td>-0.739</td>\n      <td>-0.49</td>\n      <td>-1.44</td>\n    </tr>\n    <tr>\n      <th>...</th>\n      <td>...</td>\n      <td>...</td>\n      <td>...</td>\n      <td>...</td>\n      <td>...</td>\n      <td>...</td>\n      <td>...</td>\n      <td>...</td>\n      <td>...</td>\n      <td>...</td>\n      <td>...</td>\n      <td>...</td>\n      <td>...</td>\n      <td>...</td>\n      <td>...</td>\n      <td>...</td>\n      <td>...</td>\n      <td>...</td>\n      <td>...</td>\n      <td>...</td>\n      <td>...</td>\n    </tr>\n    <tr>\n      <th>374807</th>\n      <td>68.0</td>\n      <td>13.0</td>\n      <td>1577.81</td>\n      <td>151.0</td>\n      <td>302.0</td>\n      <td>0.500000</td>\n      <td>103.0</td>\n      <td>158.0</td>\n      <td>0.651899</td>\n      <td>48.0</td>\n      <td>...</td>\n      <td>56.0</td>\n      <td>82.0</td>\n      <td>197.0</td>\n      <td>741.0</td>\n      <td>0.4</td>\n      <td>0.5</td>\n      <td>1.486</td>\n      <td>0.262</td>\n      <td>1.46</td>\n      <td>-1.51</td>\n    </tr>\n    <tr>\n      <th>374841</th>\n      <td>81.0</td>\n      <td>41.0</td>\n      <td>2022.23</td>\n      <td>304.0</td>\n      <td>696.0</td>\n      <td>0.436782</td>\n      <td>186.0</td>\n      <td>373.0</td>\n      <td>0.498660</td>\n      <td>118.0</td>\n      <td>...</td>\n      <td>46.0</td>\n      <td>44.0</td>\n      <td>175.0</td>\n      <td>430.0</td>\n      <td>-2.0</td>\n      <td>0.2</td>\n      <td>-1.051</td>\n      <td>0.159</td>\n      <td>-1.13</td>\n      <td>0.57</td>\n    </tr>\n    <tr>\n      <th>374860</th>\n      <td>53.0</td>\n      <td>36.0</td>\n      <td>1462.93</td>\n      <td>256.0</td>\n      <td>532.0</td>\n      <td>0.481203</td>\n      <td>180.0</td>\n      <td>356.0</td>\n      <td>0.505618</td>\n      <td>76.0</td>\n      <td>...</td>\n      <td>46.0</td>\n      <td>44.0</td>\n      <td>175.0</td>\n      <td>430.0</td>\n      <td>-2.0</td>\n      <td>0.2</td>\n      <td>-1.051</td>\n      <td>0.159</td>\n      <td>-1.13</td>\n      <td>0.57</td>\n    </tr>\n    <tr>\n      <th>374947</th>\n      <td>63.0</td>\n      <td>10.0</td>\n      <td>1436.49</td>\n      <td>228.0</td>\n      <td>520.0</td>\n      <td>0.438462</td>\n      <td>122.0</td>\n      <td>251.0</td>\n      <td>0.486056</td>\n      <td>106.0</td>\n      <td>...</td>\n      <td>103.0</td>\n      <td>114.0</td>\n      <td>211.0</td>\n      <td>1112.0</td>\n      <td>0.2</td>\n      <td>0.1</td>\n      <td>0.881</td>\n      <td>0.671</td>\n      <td>-1.04</td>\n      <td>-0.07</td>\n    </tr>\n    <tr>\n      <th>374995</th>\n      <td>81.0</td>\n      <td>26.0</td>\n      <td>1984.99</td>\n      <td>228.0</td>\n      <td>528.0</td>\n      <td>0.431818</td>\n      <td>149.0</td>\n      <td>274.0</td>\n      <td>0.543796</td>\n      <td>79.0</td>\n      <td>...</td>\n      <td>51.0</td>\n      <td>84.0</td>\n      <td>227.0</td>\n      <td>965.0</td>\n      <td>0.2</td>\n      <td>1.1</td>\n      <td>0.170</td>\n      <td>1.385</td>\n      <td>0.01</td>\n      <td>-0.91</td>\n    </tr>\n  </tbody>\n</table>\n<p>23556 rows × 155 columns</p>\n</div>"
     },
     "metadata": {}
    }
   ],
   "execution_count": null
  },
  {
   "cell_type": "code",
   "metadata": {
    "cell_id": "2bfb0daaf07b4849b3c6f8597b7d5032",
    "tags": [],
    "deepnote_to_be_reexecuted": false,
    "source_hash": "38ab11b5",
    "execution_start": 1651809128598,
    "execution_millis": 84,
    "deepnote_cell_type": "code",
    "deepnote_cell_height": 618
   },
   "source": "drtg\n",
   "outputs": [
    {
     "output_type": "execute_result",
     "execution_count": 24,
     "data": {
      "application/vnd.deepnote.dataframe.v3+json": {
       "column_count": 7,
       "row_count": 48299,
       "columns": [
        {
         "name": "FloorLineupId_Defense",
         "dtype": "int64",
         "stats": {
          "unique_count": 48299,
          "nan_count": 0,
          "min": "2",
          "max": "375044",
          "histogram": [
           {
            "bin_start": 2,
            "bin_end": 37506.2,
            "count": 17856
           },
           {
            "bin_start": 37506.2,
            "bin_end": 75010.4,
            "count": 4
           },
           {
            "bin_start": 75010.4,
            "bin_end": 112514.59999999999,
            "count": 7150
           },
           {
            "bin_start": 112514.59999999999,
            "bin_end": 150018.8,
            "count": 5734
           },
           {
            "bin_start": 150018.8,
            "bin_end": 187523,
            "count": 0
           },
           {
            "bin_start": 187523,
            "bin_end": 225027.19999999998,
            "count": 0
           },
           {
            "bin_start": 225027.19999999998,
            "bin_end": 262531.39999999997,
            "count": 0
           },
           {
            "bin_start": 262531.39999999997,
            "bin_end": 300035.6,
            "count": 0
           },
           {
            "bin_start": 300035.6,
            "bin_end": 337539.8,
            "count": 1457
           },
           {
            "bin_start": 337539.8,
            "bin_end": 375044,
            "count": 16098
           }
          ]
         }
        },
        {
         "name": "Players",
         "dtype": "object",
         "stats": {
          "unique_count": 19145,
          "nan_count": 0,
          "categories": [
           {
            "name": "Jamal Murray, Gary Harris, Will Barton, Paul Millsap, Nikola Jokic",
            "count": 124
           },
           {
            "name": "Seth Curry, Ben Simmons, Danny Green, Tobias Harris, Joel Embiid",
            "count": 83
           },
           {
            "name": "19143 others",
            "count": 48092
           }
          ]
         }
        },
        {
         "name": "DRTG",
         "dtype": "float64"
        },
        {
         "name": "Points",
         "dtype": "int64"
        },
        {
         "name": "Possession",
         "dtype": "int64"
        },
        {
         "name": "GP",
         "dtype": "int64"
        },
        {
         "name": "Time",
         "dtype": "int64"
        },
        {
         "name": "_deepnote_index_column",
         "dtype": "int64"
        }
       ],
       "rows": [
        {
         "FloorLineupId_Defense": 2,
         "Players": "Josh Richardson, Ben Simmons, Tobias Harris, Al Horford, Joel Embiid",
         "DRTG": 104.83870967741936,
         "Points": 65,
         "Possession": 62,
         "GP": 9,
         "Time": 852,
         "_deepnote_index_column": 0
        },
        {
         "FloorLineupId_Defense": 3,
         "Players": "Dean Wade, Matthew Dellavedova, Dante Exum, Darius Garland, John Henson",
         "DRTG": 139.1304347826087,
         "Points": 32,
         "Possession": 23,
         "GP": 6,
         "Time": 285,
         "_deepnote_index_column": 1
        },
        {
         "FloorLineupId_Defense": 8,
         "Players": "Ricky Rubio, Dario Saric, Devin Booker, Deandre Ayton, Kelly Oubre Jr.",
         "DRTG": 78.94736842105263,
         "Points": 15,
         "Possession": 19,
         "GP": 1,
         "Time": 257,
         "_deepnote_index_column": 2
        },
        {
         "FloorLineupId_Defense": 9,
         "Players": "Tobias Harris, Al Horford, Josh Richardson, Mike Scott, Ben Simmons",
         "DRTG": 100,
         "Points": 715,
         "Possession": 715,
         "GP": 25,
         "Time": 10786,
         "_deepnote_index_column": 3
        },
        {
         "FloorLineupId_Defense": 10,
         "Players": "Solomon Hill, Dillon Brooks, Grayson Allen, Jonas Valanciunas, Ja Morant",
         "DRTG": 90.47619047619048,
         "Points": 38,
         "Possession": 42,
         "GP": 7,
         "Time": 548,
         "_deepnote_index_column": 4
        },
        {
         "FloorLineupId_Defense": 13,
         "Players": "Justise Winslow, Hassan Whiteside, Dwyane Wade, Kelly Olynyk, Dion Waiters",
         "DRTG": 140.50632911392404,
         "Points": 111,
         "Possession": 79,
         "GP": 10,
         "Time": 977,
         "_deepnote_index_column": 5
        },
        {
         "FloorLineupId_Defense": 15,
         "Players": "Kendrick Nunn, Bam Adebayo, Duncan Robinson, Jimmy Butler, Tyler Herro",
         "DRTG": 166.66666666666666,
         "Points": 20,
         "Possession": 12,
         "GP": 2,
         "Time": 147,
         "_deepnote_index_column": 6
        },
        {
         "FloorLineupId_Defense": 17,
         "Players": "D'Angelo Russell, Jordan Poole, Damion Lee, Omari Spellman, Marquese Chriss",
         "DRTG": 100,
         "Points": 2,
         "Possession": 2,
         "GP": 1,
         "Time": 31,
         "_deepnote_index_column": 7
        },
        {
         "FloorLineupId_Defense": 26,
         "Players": "Donte DiVincenzo, D.J. Wilson, Sterling Brown, Thanasis Antetokounmpo, Pat Connaughton",
         "DRTG": 144.44444444444446,
         "Points": 13,
         "Possession": 9,
         "GP": 1,
         "Time": 80,
         "_deepnote_index_column": 8
        },
        {
         "FloorLineupId_Defense": 28,
         "Players": "Devin Booker, Ricky Rubio, Kelly Oubre Jr., Dario Saric, Aron Baynes",
         "DRTG": 99.88179669030733,
         "Points": 845,
         "Possession": 846,
         "GP": 33,
         "Time": 11944,
         "_deepnote_index_column": 9
        }
       ]
      },
      "text/plain": "       FloorLineupId_Defense  \\\n0                          2   \n1                          3   \n2                          8   \n3                          9   \n4                         10   \n...                      ...   \n48294                 375039   \n48295                 375040   \n48296                 375041   \n48297                 375043   \n48298                 375044   \n\n                                                 Players        DRTG  Points  \\\n0      Josh Richardson, Ben Simmons, Tobias Harris, A...  104.838710      65   \n1      Dean Wade, Matthew Dellavedova, Dante Exum, Da...  139.130435      32   \n2      Ricky Rubio, Dario Saric, Devin Booker, Deandr...   78.947368      15   \n3      Tobias Harris, Al Horford, Josh Richardson, Mi...  100.000000     715   \n4      Solomon Hill, Dillon Brooks, Grayson Allen, Jo...   90.476190      38   \n...                                                  ...         ...     ...   \n48294  Kyle Kuzma, LeBron James, Marc Gasol, Dennis S...  100.000000       7   \n48295  Kyle Kuzma, LeBron James, Marc Gasol, Dennis S...         NaN       0   \n48296  Wenyen Gabriel, Kira Lewis Jr., Willy Hernango...   57.142857       4   \n48297  Wenyen Gabriel, Kira Lewis Jr., Willy Hernango...   66.666667       2   \n48298  Talen Horton-Tucker, Marc Gasol, Jared Dudley,...    0.000000       0   \n\n       Possession  GP   Time  \n0              62   9    852  \n1              23   6    285  \n2              19   1    257  \n3             715  25  10786  \n4              42   7    548  \n...           ...  ..    ...  \n48294           7   1     79  \n48295           0   1      1  \n48296           7   1     81  \n48297           3   1     38  \n48298           2   1     26  \n\n[48299 rows x 7 columns]",
      "text/html": "<div>\n<style scoped>\n    .dataframe tbody tr th:only-of-type {\n        vertical-align: middle;\n    }\n\n    .dataframe tbody tr th {\n        vertical-align: top;\n    }\n\n    .dataframe thead th {\n        text-align: right;\n    }\n</style>\n<table border=\"1\" class=\"dataframe\">\n  <thead>\n    <tr style=\"text-align: right;\">\n      <th></th>\n      <th>FloorLineupId_Defense</th>\n      <th>Players</th>\n      <th>DRTG</th>\n      <th>Points</th>\n      <th>Possession</th>\n      <th>GP</th>\n      <th>Time</th>\n    </tr>\n  </thead>\n  <tbody>\n    <tr>\n      <th>0</th>\n      <td>2</td>\n      <td>Josh Richardson, Ben Simmons, Tobias Harris, A...</td>\n      <td>104.838710</td>\n      <td>65</td>\n      <td>62</td>\n      <td>9</td>\n      <td>852</td>\n    </tr>\n    <tr>\n      <th>1</th>\n      <td>3</td>\n      <td>Dean Wade, Matthew Dellavedova, Dante Exum, Da...</td>\n      <td>139.130435</td>\n      <td>32</td>\n      <td>23</td>\n      <td>6</td>\n      <td>285</td>\n    </tr>\n    <tr>\n      <th>2</th>\n      <td>8</td>\n      <td>Ricky Rubio, Dario Saric, Devin Booker, Deandr...</td>\n      <td>78.947368</td>\n      <td>15</td>\n      <td>19</td>\n      <td>1</td>\n      <td>257</td>\n    </tr>\n    <tr>\n      <th>3</th>\n      <td>9</td>\n      <td>Tobias Harris, Al Horford, Josh Richardson, Mi...</td>\n      <td>100.000000</td>\n      <td>715</td>\n      <td>715</td>\n      <td>25</td>\n      <td>10786</td>\n    </tr>\n    <tr>\n      <th>4</th>\n      <td>10</td>\n      <td>Solomon Hill, Dillon Brooks, Grayson Allen, Jo...</td>\n      <td>90.476190</td>\n      <td>38</td>\n      <td>42</td>\n      <td>7</td>\n      <td>548</td>\n    </tr>\n    <tr>\n      <th>...</th>\n      <td>...</td>\n      <td>...</td>\n      <td>...</td>\n      <td>...</td>\n      <td>...</td>\n      <td>...</td>\n      <td>...</td>\n    </tr>\n    <tr>\n      <th>48294</th>\n      <td>375039</td>\n      <td>Kyle Kuzma, LeBron James, Marc Gasol, Dennis S...</td>\n      <td>100.000000</td>\n      <td>7</td>\n      <td>7</td>\n      <td>1</td>\n      <td>79</td>\n    </tr>\n    <tr>\n      <th>48295</th>\n      <td>375040</td>\n      <td>Kyle Kuzma, LeBron James, Marc Gasol, Dennis S...</td>\n      <td>NaN</td>\n      <td>0</td>\n      <td>0</td>\n      <td>1</td>\n      <td>1</td>\n    </tr>\n    <tr>\n      <th>48296</th>\n      <td>375041</td>\n      <td>Wenyen Gabriel, Kira Lewis Jr., Willy Hernango...</td>\n      <td>57.142857</td>\n      <td>4</td>\n      <td>7</td>\n      <td>1</td>\n      <td>81</td>\n    </tr>\n    <tr>\n      <th>48297</th>\n      <td>375043</td>\n      <td>Wenyen Gabriel, Kira Lewis Jr., Willy Hernango...</td>\n      <td>66.666667</td>\n      <td>2</td>\n      <td>3</td>\n      <td>1</td>\n      <td>38</td>\n    </tr>\n    <tr>\n      <th>48298</th>\n      <td>375044</td>\n      <td>Talen Horton-Tucker, Marc Gasol, Jared Dudley,...</td>\n      <td>0.000000</td>\n      <td>0</td>\n      <td>2</td>\n      <td>1</td>\n      <td>26</td>\n    </tr>\n  </tbody>\n</table>\n<p>48299 rows × 7 columns</p>\n</div>"
     },
     "metadata": {}
    }
   ],
   "execution_count": null
  },
  {
   "cell_type": "code",
   "metadata": {
    "cell_id": "1a01aa8bc7c9497db88ea430da2102a3",
    "tags": [],
    "deepnote_to_be_reexecuted": false,
    "source_hash": "ff028719",
    "execution_start": 1651809128683,
    "execution_millis": 21583,
    "deepnote_cell_type": "code",
    "deepnote_cell_height": 1032
   },
   "source": "\"Dropping rows from ortg that have a null value for offesive rating and rows that include players that had null values for RPM/EPM\"\n\nDRTG=drtg.dropna(subset=[\"DRTG\"])\nDRTG=DRTG[np.isfinite(DRTG[\"DRTG\"])]\n\n'''\nplayer_list(string)\nA function that takes a string of players names (as we see in ortg['Players']) and returns it as a Series of each player. Will be helpful \nwhen we try to find a player's stats in player_box.\n\nEx:\n\"Dejounte Murray, Patty Mills, DeMar DeRozan\" -> ['Dejounte Murray', 'Patty Mills', 'DeMar DeRozan']\n'''\nplayer_list=lambda string:pd.Series(string.replace(\", \",',').split(\",\"))\n\ndrops=[]\nfor i in range(len(DRTG)):\n    condition1=any(player_list(DRTG.iloc[i,1]).isin(null_players))\n    condition2=sum(player_list(DRTG.iloc[i,1]).isin(player_box_2018[\"Player\"]))!=5\n    drops.append(condition1 or condition2)\nDRTG=DRTG[~np.array(drops)].reset_index(drop=True)\n\n\"Require lineups to have played at least 30 minutes\"\nDRTG2= DRTG[DRTG[\"Time\"]>=30*60].reset_index(drop=True)\nDRTG2",
   "outputs": [
    {
     "output_type": "execute_result",
     "execution_count": 25,
     "data": {
      "application/vnd.deepnote.dataframe.v3+json": {
       "column_count": 7,
       "row_count": 484,
       "columns": [
        {
         "name": "FloorLineupId_Defense",
         "dtype": "int64",
         "stats": {
          "unique_count": 484,
          "nan_count": 0,
          "min": "9",
          "max": "371899",
          "histogram": [
           {
            "bin_start": 9,
            "bin_end": 37198,
            "count": 331
           },
           {
            "bin_start": 37198,
            "bin_end": 74387,
            "count": 0
           },
           {
            "bin_start": 74387,
            "bin_end": 111576,
            "count": 63
           },
           {
            "bin_start": 111576,
            "bin_end": 148765,
            "count": 21
           },
           {
            "bin_start": 148765,
            "bin_end": 185954,
            "count": 0
           },
           {
            "bin_start": 185954,
            "bin_end": 223143,
            "count": 0
           },
           {
            "bin_start": 223143,
            "bin_end": 260332,
            "count": 0
           },
           {
            "bin_start": 260332,
            "bin_end": 297521,
            "count": 0
           },
           {
            "bin_start": 297521,
            "bin_end": 334710,
            "count": 4
           },
           {
            "bin_start": 334710,
            "bin_end": 371899,
            "count": 65
           }
          ]
         }
        },
        {
         "name": "Players",
         "dtype": "object",
         "stats": {
          "unique_count": 397,
          "nan_count": 0,
          "categories": [
           {
            "name": "Jamal Murray, Gary Harris, Will Barton, Paul Millsap, Nikola Jokic",
            "count": 11
           },
           {
            "name": "Danny Green, Kyle Lowry, Kawhi Leonard, Pascal Siakam, Serge Ibaka",
            "count": 5
           },
           {
            "name": "395 others",
            "count": 468
           }
          ]
         }
        },
        {
         "name": "DRTG",
         "dtype": "float64",
         "stats": {
          "unique_count": 463,
          "nan_count": 0,
          "min": "81.08108108108108",
          "max": "138.0487804878049",
          "histogram": [
           {
            "bin_start": 81.08108108108108,
            "bin_end": 86.77785102175346,
            "count": 3
           },
           {
            "bin_start": 86.77785102175346,
            "bin_end": 92.47462096242585,
            "count": 7
           },
           {
            "bin_start": 92.47462096242585,
            "bin_end": 98.17139090309823,
            "count": 45
           },
           {
            "bin_start": 98.17139090309823,
            "bin_end": 103.8681608437706,
            "count": 108
           },
           {
            "bin_start": 103.8681608437706,
            "bin_end": 109.56493078444299,
            "count": 127
           },
           {
            "bin_start": 109.56493078444299,
            "bin_end": 115.26170072511536,
            "count": 111
           },
           {
            "bin_start": 115.26170072511536,
            "bin_end": 120.95847066578774,
            "count": 53
           },
           {
            "bin_start": 120.95847066578774,
            "bin_end": 126.65524060646013,
            "count": 22
           },
           {
            "bin_start": 126.65524060646013,
            "bin_end": 132.35201054713252,
            "count": 6
           },
           {
            "bin_start": 132.35201054713252,
            "bin_end": 138.0487804878049,
            "count": 2
           }
          ]
         }
        },
        {
         "name": "Points",
         "dtype": "int64",
         "stats": {
          "unique_count": 279,
          "nan_count": 0,
          "min": "110",
          "max": "3044",
          "histogram": [
           {
            "bin_start": 110,
            "bin_end": 403.4,
            "count": 381
           },
           {
            "bin_start": 403.4,
            "bin_end": 696.8,
            "count": 60
           },
           {
            "bin_start": 696.8,
            "bin_end": 990.1999999999999,
            "count": 18
           },
           {
            "bin_start": 990.1999999999999,
            "bin_end": 1283.6,
            "count": 15
           },
           {
            "bin_start": 1283.6,
            "bin_end": 1577,
            "count": 3
           },
           {
            "bin_start": 1577,
            "bin_end": 1870.3999999999999,
            "count": 3
           },
           {
            "bin_start": 1870.3999999999999,
            "bin_end": 2163.7999999999997,
            "count": 3
           },
           {
            "bin_start": 2163.7999999999997,
            "bin_end": 2457.2,
            "count": 0
           },
           {
            "bin_start": 2457.2,
            "bin_end": 2750.6,
            "count": 0
           },
           {
            "bin_start": 2750.6,
            "bin_end": 3044,
            "count": 1
           }
          ]
         }
        },
        {
         "name": "Possession",
         "dtype": "int64",
         "stats": {
          "unique_count": 266,
          "nan_count": 0,
          "min": "118",
          "max": "2884",
          "histogram": [
           {
            "bin_start": 118,
            "bin_end": 394.6,
            "count": 385
           },
           {
            "bin_start": 394.6,
            "bin_end": 671.2,
            "count": 58
           },
           {
            "bin_start": 671.2,
            "bin_end": 947.8000000000001,
            "count": 16
           },
           {
            "bin_start": 947.8000000000001,
            "bin_end": 1224.4,
            "count": 15
           },
           {
            "bin_start": 1224.4,
            "bin_end": 1501,
            "count": 4
           },
           {
            "bin_start": 1501,
            "bin_end": 1777.6000000000001,
            "count": 2
           },
           {
            "bin_start": 1777.6000000000001,
            "bin_end": 2054.2000000000003,
            "count": 3
           },
           {
            "bin_start": 2054.2000000000003,
            "bin_end": 2330.8,
            "count": 0
           },
           {
            "bin_start": 2330.8,
            "bin_end": 2607.4,
            "count": 0
           },
           {
            "bin_start": 2607.4,
            "bin_end": 2884,
            "count": 1
           }
          ]
         }
        },
        {
         "name": "GP",
         "dtype": "int64",
         "stats": {
          "unique_count": 56,
          "nan_count": 0,
          "min": "4",
          "max": "78",
          "histogram": [
           {
            "bin_start": 4,
            "bin_end": 11.4,
            "count": 129
           },
           {
            "bin_start": 11.4,
            "bin_end": 18.8,
            "count": 154
           },
           {
            "bin_start": 18.8,
            "bin_end": 26.200000000000003,
            "count": 113
           },
           {
            "bin_start": 26.200000000000003,
            "bin_end": 33.6,
            "count": 36
           },
           {
            "bin_start": 33.6,
            "bin_end": 41,
            "count": 22
           },
           {
            "bin_start": 41,
            "bin_end": 48.400000000000006,
            "count": 16
           },
           {
            "bin_start": 48.400000000000006,
            "bin_end": 55.800000000000004,
            "count": 3
           },
           {
            "bin_start": 55.800000000000004,
            "bin_end": 63.2,
            "count": 7
           },
           {
            "bin_start": 63.2,
            "bin_end": 70.60000000000001,
            "count": 0
           },
           {
            "bin_start": 70.60000000000001,
            "bin_end": 78,
            "count": 4
           }
          ]
         }
        },
        {
         "name": "Time",
         "dtype": "int64",
         "stats": {
          "unique_count": 456,
          "nan_count": 0,
          "min": "1800",
          "max": "42319",
          "histogram": [
           {
            "bin_start": 1800,
            "bin_end": 5851.9,
            "count": 393
           },
           {
            "bin_start": 5851.9,
            "bin_end": 9903.8,
            "count": 52
           },
           {
            "bin_start": 9903.8,
            "bin_end": 13955.7,
            "count": 14
           },
           {
            "bin_start": 13955.7,
            "bin_end": 18007.6,
            "count": 15
           },
           {
            "bin_start": 18007.6,
            "bin_end": 22059.5,
            "count": 4
           },
           {
            "bin_start": 22059.5,
            "bin_end": 26111.4,
            "count": 2
           },
           {
            "bin_start": 26111.4,
            "bin_end": 30163.3,
            "count": 3
           },
           {
            "bin_start": 30163.3,
            "bin_end": 34215.2,
            "count": 0
           },
           {
            "bin_start": 34215.2,
            "bin_end": 38267.1,
            "count": 0
           },
           {
            "bin_start": 38267.1,
            "bin_end": 42319,
            "count": 1
           }
          ]
         }
        },
        {
         "name": "_deepnote_index_column",
         "dtype": "int64"
        }
       ],
       "rows": [
        {
         "FloorLineupId_Defense": 9,
         "Players": "Tobias Harris, Al Horford, Josh Richardson, Mike Scott, Ben Simmons",
         "DRTG": 100,
         "Points": 715,
         "Possession": 715,
         "GP": 25,
         "Time": 10786,
         "_deepnote_index_column": 0
        },
        {
         "FloorLineupId_Defense": 28,
         "Players": "Devin Booker, Ricky Rubio, Kelly Oubre Jr., Dario Saric, Aron Baynes",
         "DRTG": 99.88179669030733,
         "Points": 845,
         "Possession": 846,
         "GP": 33,
         "Time": 11944,
         "_deepnote_index_column": 1
        },
        {
         "FloorLineupId_Defense": 36,
         "Players": "Josh Richardson, Goran Dragic, Derrick Jones Jr., Rodney McGruder, Hassan Whiteside",
         "DRTG": 104.11734431291816,
         "Points": 2023,
         "Possession": 1943,
         "GP": 76,
         "Time": 27196,
         "_deepnote_index_column": 2
        },
        {
         "FloorLineupId_Defense": 81,
         "Players": "Carmelo Anthony, Kent Bazemore, C.J. McCollum, Damian Lillard, Hassan Whiteside",
         "DRTG": 103.55731225296442,
         "Points": 262,
         "Possession": 253,
         "GP": 14,
         "Time": 3326,
         "_deepnote_index_column": 3
        },
        {
         "FloorLineupId_Defense": 102,
         "Players": "Josh Richardson, Ben Simmons, Tobias Harris, Al Horford, Joel Embiid",
         "DRTG": 111.61616161616162,
         "Points": 221,
         "Possession": 198,
         "GP": 14,
         "Time": 2735,
         "_deepnote_index_column": 4
        },
        {
         "FloorLineupId_Defense": 108,
         "Players": "James Harden, Russell Westbrook, Danuel House Jr., P.J. Tucker Jr., Clint Capela",
         "DRTG": 98.44660194174757,
         "Points": 507,
         "Possession": 515,
         "GP": 21,
         "Time": 7261,
         "_deepnote_index_column": 5
        },
        {
         "FloorLineupId_Defense": 119,
         "Players": "Tyrone Wallace Jr., Sindarius Thornwell, Montrezl Harrell, Lou Williams, Mike Scott",
         "DRTG": 103.09278350515464,
         "Points": 300,
         "Possession": 291,
         "GP": 32,
         "Time": 3928,
         "_deepnote_index_column": 6
        },
        {
         "FloorLineupId_Defense": 129,
         "Players": "Bryn Forbes, Derrick White, DeMar DeRozan, LaMarcus Aldridge, Rudy Gay",
         "DRTG": 99.74619289340102,
         "Points": 393,
         "Possession": 394,
         "GP": 38,
         "Time": 5226,
         "_deepnote_index_column": 7
        },
        {
         "FloorLineupId_Defense": 145,
         "Players": "Montrezl Harrell, Lou Williams, Patrick Beverley, Danilo Gallinari, Tobias Harris",
         "DRTG": 94.96402877697842,
         "Points": 132,
         "Possession": 139,
         "GP": 26,
         "Time": 1858,
         "_deepnote_index_column": 8
        },
        {
         "FloorLineupId_Defense": 183,
         "Players": "Lonnie Walker IV, Derrick White, DeMar DeRozan, LaMarcus Aldridge, Trey Lyles",
         "DRTG": 91.68399168399168,
         "Points": 882,
         "Possession": 962,
         "GP": 39,
         "Time": 14026,
         "_deepnote_index_column": 9
        }
       ]
      },
      "text/plain": "     FloorLineupId_Defense                                            Players  \\\n0                        9  Tobias Harris, Al Horford, Josh Richardson, Mi...   \n1                       28  Devin Booker, Ricky Rubio, Kelly Oubre Jr., Da...   \n2                       36  Josh Richardson, Goran Dragic, Derrick Jones J...   \n3                       81  Carmelo Anthony, Kent Bazemore, C.J. McCollum,...   \n4                      102  Josh Richardson, Ben Simmons, Tobias Harris, A...   \n..                     ...                                                ...   \n479                 366989  Tobias Harris, Mike Scott, Ben Simmons, Danny ...   \n480                 367642  Devin Booker, Chris Paul, Mikal Bridges, Jae C...   \n481                 368955  Donovan Mitchell Jr., Mike Conley Jr., Bojan B...   \n482                 370097  Blake Griffin, Kyrie Irving, Landry Shamet, Jo...   \n483                 371899  Dorian Finney-Smith, J.J. Redick, Boban Marjan...   \n\n           DRTG  Points  Possession  GP   Time  \n0    100.000000     715         715  25  10786  \n1     99.881797     845         846  33  11944  \n2    104.117344    2023        1943  76  27196  \n3    103.557312     262         253  14   3326  \n4    111.616162     221         198  14   2735  \n..          ...     ...         ...  ..    ...  \n479  103.007519     137         133   5   1826  \n480  114.024390     187         164   5   2354  \n481  112.886598     219         194   5   2668  \n482  101.075269     188         186   4   2822  \n483   91.333333     137         150   5   2104  \n\n[484 rows x 7 columns]",
      "text/html": "<div>\n<style scoped>\n    .dataframe tbody tr th:only-of-type {\n        vertical-align: middle;\n    }\n\n    .dataframe tbody tr th {\n        vertical-align: top;\n    }\n\n    .dataframe thead th {\n        text-align: right;\n    }\n</style>\n<table border=\"1\" class=\"dataframe\">\n  <thead>\n    <tr style=\"text-align: right;\">\n      <th></th>\n      <th>FloorLineupId_Defense</th>\n      <th>Players</th>\n      <th>DRTG</th>\n      <th>Points</th>\n      <th>Possession</th>\n      <th>GP</th>\n      <th>Time</th>\n    </tr>\n  </thead>\n  <tbody>\n    <tr>\n      <th>0</th>\n      <td>9</td>\n      <td>Tobias Harris, Al Horford, Josh Richardson, Mi...</td>\n      <td>100.000000</td>\n      <td>715</td>\n      <td>715</td>\n      <td>25</td>\n      <td>10786</td>\n    </tr>\n    <tr>\n      <th>1</th>\n      <td>28</td>\n      <td>Devin Booker, Ricky Rubio, Kelly Oubre Jr., Da...</td>\n      <td>99.881797</td>\n      <td>845</td>\n      <td>846</td>\n      <td>33</td>\n      <td>11944</td>\n    </tr>\n    <tr>\n      <th>2</th>\n      <td>36</td>\n      <td>Josh Richardson, Goran Dragic, Derrick Jones J...</td>\n      <td>104.117344</td>\n      <td>2023</td>\n      <td>1943</td>\n      <td>76</td>\n      <td>27196</td>\n    </tr>\n    <tr>\n      <th>3</th>\n      <td>81</td>\n      <td>Carmelo Anthony, Kent Bazemore, C.J. McCollum,...</td>\n      <td>103.557312</td>\n      <td>262</td>\n      <td>253</td>\n      <td>14</td>\n      <td>3326</td>\n    </tr>\n    <tr>\n      <th>4</th>\n      <td>102</td>\n      <td>Josh Richardson, Ben Simmons, Tobias Harris, A...</td>\n      <td>111.616162</td>\n      <td>221</td>\n      <td>198</td>\n      <td>14</td>\n      <td>2735</td>\n    </tr>\n    <tr>\n      <th>...</th>\n      <td>...</td>\n      <td>...</td>\n      <td>...</td>\n      <td>...</td>\n      <td>...</td>\n      <td>...</td>\n      <td>...</td>\n    </tr>\n    <tr>\n      <th>479</th>\n      <td>366989</td>\n      <td>Tobias Harris, Mike Scott, Ben Simmons, Danny ...</td>\n      <td>103.007519</td>\n      <td>137</td>\n      <td>133</td>\n      <td>5</td>\n      <td>1826</td>\n    </tr>\n    <tr>\n      <th>480</th>\n      <td>367642</td>\n      <td>Devin Booker, Chris Paul, Mikal Bridges, Jae C...</td>\n      <td>114.024390</td>\n      <td>187</td>\n      <td>164</td>\n      <td>5</td>\n      <td>2354</td>\n    </tr>\n    <tr>\n      <th>481</th>\n      <td>368955</td>\n      <td>Donovan Mitchell Jr., Mike Conley Jr., Bojan B...</td>\n      <td>112.886598</td>\n      <td>219</td>\n      <td>194</td>\n      <td>5</td>\n      <td>2668</td>\n    </tr>\n    <tr>\n      <th>482</th>\n      <td>370097</td>\n      <td>Blake Griffin, Kyrie Irving, Landry Shamet, Jo...</td>\n      <td>101.075269</td>\n      <td>188</td>\n      <td>186</td>\n      <td>4</td>\n      <td>2822</td>\n    </tr>\n    <tr>\n      <th>483</th>\n      <td>371899</td>\n      <td>Dorian Finney-Smith, J.J. Redick, Boban Marjan...</td>\n      <td>91.333333</td>\n      <td>137</td>\n      <td>150</td>\n      <td>5</td>\n      <td>2104</td>\n    </tr>\n  </tbody>\n</table>\n<p>484 rows × 7 columns</p>\n</div>"
     },
     "metadata": {}
    }
   ],
   "execution_count": null
  },
  {
   "cell_type": "code",
   "metadata": {
    "cell_id": "9fb7aae2b73f4a83821381b4673b6ed6",
    "tags": [],
    "deepnote_to_be_reexecuted": false,
    "source_hash": "f307f215",
    "execution_start": 1651809150275,
    "execution_millis": 0,
    "deepnote_cell_type": "code",
    "deepnote_cell_height": 621
   },
   "source": "features0=['GP', 'GS', 'MP', 'FGM', 'FGA', 'FG%', '2FGM',\n       '2FGA', '2FG%', '3FGM', '3FGA', '3FG%', 'eFG%', 'TS%', 'FTM', 'FTA',\n       'FT%', 'OR', 'DR', 'AST', 'STL', 'BLK', 'TOV', 'PF', 'PTS', 'BPM_O',\n       'BPM_D', 'EPM_O', 'EPM_D', 'RPM_O', 'RPM_D']\n\n\ndef design_matrix(features,aggregate=True):\n    data=[]\n    \n    if not aggregate:\n        cols=[]\n        for i in range(1,6):\n            for f in features:\n                cols.append(f+\"_Player\"+str(i))\n    else:\n        cols=features\n\n    for r in range(len(DRTG2)):\n        names=DRTG2.iloc[r,1]\n        ids=playerIds(names)\n        lineup_stats=player_box_2018[player_box_2018[\"PlayerId\"].isin(ids)][features]\n        #row=[]\n        #for i in range(5):\n            #row=row+list(lineup_stats.iloc[i])\n        if aggregate:\n            row=lineup_stats.mean()\n        else:\n            row=list(lineup_stats.stack().swaplevel())\n        data.append(row)\n    X=pd.DataFrame(data,columns=cols,index=DRTG2['FloorLineupId_Defense'])\n    return X",
   "outputs": [],
   "execution_count": null
  },
  {
   "cell_type": "code",
   "source": "DRTG2",
   "metadata": {
    "cell_id": "6a6aec3f121c4fc4ae5f20fcd09bb58d",
    "tags": [],
    "deepnote_to_be_reexecuted": false,
    "source_hash": "25d69c55",
    "execution_start": 1651809150276,
    "execution_millis": 27,
    "deepnote_cell_type": "code",
    "deepnote_cell_height": 600
   },
   "outputs": [
    {
     "output_type": "execute_result",
     "execution_count": 27,
     "data": {
      "application/vnd.deepnote.dataframe.v3+json": {
       "column_count": 7,
       "row_count": 484,
       "columns": [
        {
         "name": "FloorLineupId_Defense",
         "dtype": "int64",
         "stats": {
          "unique_count": 484,
          "nan_count": 0,
          "min": "9",
          "max": "371899",
          "histogram": [
           {
            "bin_start": 9,
            "bin_end": 37198,
            "count": 331
           },
           {
            "bin_start": 37198,
            "bin_end": 74387,
            "count": 0
           },
           {
            "bin_start": 74387,
            "bin_end": 111576,
            "count": 63
           },
           {
            "bin_start": 111576,
            "bin_end": 148765,
            "count": 21
           },
           {
            "bin_start": 148765,
            "bin_end": 185954,
            "count": 0
           },
           {
            "bin_start": 185954,
            "bin_end": 223143,
            "count": 0
           },
           {
            "bin_start": 223143,
            "bin_end": 260332,
            "count": 0
           },
           {
            "bin_start": 260332,
            "bin_end": 297521,
            "count": 0
           },
           {
            "bin_start": 297521,
            "bin_end": 334710,
            "count": 4
           },
           {
            "bin_start": 334710,
            "bin_end": 371899,
            "count": 65
           }
          ]
         }
        },
        {
         "name": "Players",
         "dtype": "object",
         "stats": {
          "unique_count": 397,
          "nan_count": 0,
          "categories": [
           {
            "name": "Jamal Murray, Gary Harris, Will Barton, Paul Millsap, Nikola Jokic",
            "count": 11
           },
           {
            "name": "Danny Green, Kyle Lowry, Kawhi Leonard, Pascal Siakam, Serge Ibaka",
            "count": 5
           },
           {
            "name": "395 others",
            "count": 468
           }
          ]
         }
        },
        {
         "name": "DRTG",
         "dtype": "float64",
         "stats": {
          "unique_count": 463,
          "nan_count": 0,
          "min": "81.08108108108108",
          "max": "138.0487804878049",
          "histogram": [
           {
            "bin_start": 81.08108108108108,
            "bin_end": 86.77785102175346,
            "count": 3
           },
           {
            "bin_start": 86.77785102175346,
            "bin_end": 92.47462096242585,
            "count": 7
           },
           {
            "bin_start": 92.47462096242585,
            "bin_end": 98.17139090309823,
            "count": 45
           },
           {
            "bin_start": 98.17139090309823,
            "bin_end": 103.8681608437706,
            "count": 108
           },
           {
            "bin_start": 103.8681608437706,
            "bin_end": 109.56493078444299,
            "count": 127
           },
           {
            "bin_start": 109.56493078444299,
            "bin_end": 115.26170072511536,
            "count": 111
           },
           {
            "bin_start": 115.26170072511536,
            "bin_end": 120.95847066578774,
            "count": 53
           },
           {
            "bin_start": 120.95847066578774,
            "bin_end": 126.65524060646013,
            "count": 22
           },
           {
            "bin_start": 126.65524060646013,
            "bin_end": 132.35201054713252,
            "count": 6
           },
           {
            "bin_start": 132.35201054713252,
            "bin_end": 138.0487804878049,
            "count": 2
           }
          ]
         }
        },
        {
         "name": "Points",
         "dtype": "int64",
         "stats": {
          "unique_count": 279,
          "nan_count": 0,
          "min": "110",
          "max": "3044",
          "histogram": [
           {
            "bin_start": 110,
            "bin_end": 403.4,
            "count": 381
           },
           {
            "bin_start": 403.4,
            "bin_end": 696.8,
            "count": 60
           },
           {
            "bin_start": 696.8,
            "bin_end": 990.1999999999999,
            "count": 18
           },
           {
            "bin_start": 990.1999999999999,
            "bin_end": 1283.6,
            "count": 15
           },
           {
            "bin_start": 1283.6,
            "bin_end": 1577,
            "count": 3
           },
           {
            "bin_start": 1577,
            "bin_end": 1870.3999999999999,
            "count": 3
           },
           {
            "bin_start": 1870.3999999999999,
            "bin_end": 2163.7999999999997,
            "count": 3
           },
           {
            "bin_start": 2163.7999999999997,
            "bin_end": 2457.2,
            "count": 0
           },
           {
            "bin_start": 2457.2,
            "bin_end": 2750.6,
            "count": 0
           },
           {
            "bin_start": 2750.6,
            "bin_end": 3044,
            "count": 1
           }
          ]
         }
        },
        {
         "name": "Possession",
         "dtype": "int64",
         "stats": {
          "unique_count": 266,
          "nan_count": 0,
          "min": "118",
          "max": "2884",
          "histogram": [
           {
            "bin_start": 118,
            "bin_end": 394.6,
            "count": 385
           },
           {
            "bin_start": 394.6,
            "bin_end": 671.2,
            "count": 58
           },
           {
            "bin_start": 671.2,
            "bin_end": 947.8000000000001,
            "count": 16
           },
           {
            "bin_start": 947.8000000000001,
            "bin_end": 1224.4,
            "count": 15
           },
           {
            "bin_start": 1224.4,
            "bin_end": 1501,
            "count": 4
           },
           {
            "bin_start": 1501,
            "bin_end": 1777.6000000000001,
            "count": 2
           },
           {
            "bin_start": 1777.6000000000001,
            "bin_end": 2054.2000000000003,
            "count": 3
           },
           {
            "bin_start": 2054.2000000000003,
            "bin_end": 2330.8,
            "count": 0
           },
           {
            "bin_start": 2330.8,
            "bin_end": 2607.4,
            "count": 0
           },
           {
            "bin_start": 2607.4,
            "bin_end": 2884,
            "count": 1
           }
          ]
         }
        },
        {
         "name": "GP",
         "dtype": "int64",
         "stats": {
          "unique_count": 56,
          "nan_count": 0,
          "min": "4",
          "max": "78",
          "histogram": [
           {
            "bin_start": 4,
            "bin_end": 11.4,
            "count": 129
           },
           {
            "bin_start": 11.4,
            "bin_end": 18.8,
            "count": 154
           },
           {
            "bin_start": 18.8,
            "bin_end": 26.200000000000003,
            "count": 113
           },
           {
            "bin_start": 26.200000000000003,
            "bin_end": 33.6,
            "count": 36
           },
           {
            "bin_start": 33.6,
            "bin_end": 41,
            "count": 22
           },
           {
            "bin_start": 41,
            "bin_end": 48.400000000000006,
            "count": 16
           },
           {
            "bin_start": 48.400000000000006,
            "bin_end": 55.800000000000004,
            "count": 3
           },
           {
            "bin_start": 55.800000000000004,
            "bin_end": 63.2,
            "count": 7
           },
           {
            "bin_start": 63.2,
            "bin_end": 70.60000000000001,
            "count": 0
           },
           {
            "bin_start": 70.60000000000001,
            "bin_end": 78,
            "count": 4
           }
          ]
         }
        },
        {
         "name": "Time",
         "dtype": "int64",
         "stats": {
          "unique_count": 456,
          "nan_count": 0,
          "min": "1800",
          "max": "42319",
          "histogram": [
           {
            "bin_start": 1800,
            "bin_end": 5851.9,
            "count": 393
           },
           {
            "bin_start": 5851.9,
            "bin_end": 9903.8,
            "count": 52
           },
           {
            "bin_start": 9903.8,
            "bin_end": 13955.7,
            "count": 14
           },
           {
            "bin_start": 13955.7,
            "bin_end": 18007.6,
            "count": 15
           },
           {
            "bin_start": 18007.6,
            "bin_end": 22059.5,
            "count": 4
           },
           {
            "bin_start": 22059.5,
            "bin_end": 26111.4,
            "count": 2
           },
           {
            "bin_start": 26111.4,
            "bin_end": 30163.3,
            "count": 3
           },
           {
            "bin_start": 30163.3,
            "bin_end": 34215.2,
            "count": 0
           },
           {
            "bin_start": 34215.2,
            "bin_end": 38267.1,
            "count": 0
           },
           {
            "bin_start": 38267.1,
            "bin_end": 42319,
            "count": 1
           }
          ]
         }
        },
        {
         "name": "_deepnote_index_column",
         "dtype": "int64"
        }
       ],
       "rows": [
        {
         "FloorLineupId_Defense": 9,
         "Players": "Tobias Harris, Al Horford, Josh Richardson, Mike Scott, Ben Simmons",
         "DRTG": 100,
         "Points": 715,
         "Possession": 715,
         "GP": 25,
         "Time": 10786,
         "_deepnote_index_column": 0
        },
        {
         "FloorLineupId_Defense": 28,
         "Players": "Devin Booker, Ricky Rubio, Kelly Oubre Jr., Dario Saric, Aron Baynes",
         "DRTG": 99.88179669030733,
         "Points": 845,
         "Possession": 846,
         "GP": 33,
         "Time": 11944,
         "_deepnote_index_column": 1
        },
        {
         "FloorLineupId_Defense": 36,
         "Players": "Josh Richardson, Goran Dragic, Derrick Jones Jr., Rodney McGruder, Hassan Whiteside",
         "DRTG": 104.11734431291816,
         "Points": 2023,
         "Possession": 1943,
         "GP": 76,
         "Time": 27196,
         "_deepnote_index_column": 2
        },
        {
         "FloorLineupId_Defense": 81,
         "Players": "Carmelo Anthony, Kent Bazemore, C.J. McCollum, Damian Lillard, Hassan Whiteside",
         "DRTG": 103.55731225296442,
         "Points": 262,
         "Possession": 253,
         "GP": 14,
         "Time": 3326,
         "_deepnote_index_column": 3
        },
        {
         "FloorLineupId_Defense": 102,
         "Players": "Josh Richardson, Ben Simmons, Tobias Harris, Al Horford, Joel Embiid",
         "DRTG": 111.61616161616162,
         "Points": 221,
         "Possession": 198,
         "GP": 14,
         "Time": 2735,
         "_deepnote_index_column": 4
        },
        {
         "FloorLineupId_Defense": 108,
         "Players": "James Harden, Russell Westbrook, Danuel House Jr., P.J. Tucker Jr., Clint Capela",
         "DRTG": 98.44660194174757,
         "Points": 507,
         "Possession": 515,
         "GP": 21,
         "Time": 7261,
         "_deepnote_index_column": 5
        },
        {
         "FloorLineupId_Defense": 119,
         "Players": "Tyrone Wallace Jr., Sindarius Thornwell, Montrezl Harrell, Lou Williams, Mike Scott",
         "DRTG": 103.09278350515464,
         "Points": 300,
         "Possession": 291,
         "GP": 32,
         "Time": 3928,
         "_deepnote_index_column": 6
        },
        {
         "FloorLineupId_Defense": 129,
         "Players": "Bryn Forbes, Derrick White, DeMar DeRozan, LaMarcus Aldridge, Rudy Gay",
         "DRTG": 99.74619289340102,
         "Points": 393,
         "Possession": 394,
         "GP": 38,
         "Time": 5226,
         "_deepnote_index_column": 7
        },
        {
         "FloorLineupId_Defense": 145,
         "Players": "Montrezl Harrell, Lou Williams, Patrick Beverley, Danilo Gallinari, Tobias Harris",
         "DRTG": 94.96402877697842,
         "Points": 132,
         "Possession": 139,
         "GP": 26,
         "Time": 1858,
         "_deepnote_index_column": 8
        },
        {
         "FloorLineupId_Defense": 183,
         "Players": "Lonnie Walker IV, Derrick White, DeMar DeRozan, LaMarcus Aldridge, Trey Lyles",
         "DRTG": 91.68399168399168,
         "Points": 882,
         "Possession": 962,
         "GP": 39,
         "Time": 14026,
         "_deepnote_index_column": 9
        }
       ]
      },
      "text/plain": "     FloorLineupId_Defense                                            Players  \\\n0                        9  Tobias Harris, Al Horford, Josh Richardson, Mi...   \n1                       28  Devin Booker, Ricky Rubio, Kelly Oubre Jr., Da...   \n2                       36  Josh Richardson, Goran Dragic, Derrick Jones J...   \n3                       81  Carmelo Anthony, Kent Bazemore, C.J. McCollum,...   \n4                      102  Josh Richardson, Ben Simmons, Tobias Harris, A...   \n..                     ...                                                ...   \n479                 366989  Tobias Harris, Mike Scott, Ben Simmons, Danny ...   \n480                 367642  Devin Booker, Chris Paul, Mikal Bridges, Jae C...   \n481                 368955  Donovan Mitchell Jr., Mike Conley Jr., Bojan B...   \n482                 370097  Blake Griffin, Kyrie Irving, Landry Shamet, Jo...   \n483                 371899  Dorian Finney-Smith, J.J. Redick, Boban Marjan...   \n\n           DRTG  Points  Possession  GP   Time  \n0    100.000000     715         715  25  10786  \n1     99.881797     845         846  33  11944  \n2    104.117344    2023        1943  76  27196  \n3    103.557312     262         253  14   3326  \n4    111.616162     221         198  14   2735  \n..          ...     ...         ...  ..    ...  \n479  103.007519     137         133   5   1826  \n480  114.024390     187         164   5   2354  \n481  112.886598     219         194   5   2668  \n482  101.075269     188         186   4   2822  \n483   91.333333     137         150   5   2104  \n\n[484 rows x 7 columns]",
      "text/html": "<div>\n<style scoped>\n    .dataframe tbody tr th:only-of-type {\n        vertical-align: middle;\n    }\n\n    .dataframe tbody tr th {\n        vertical-align: top;\n    }\n\n    .dataframe thead th {\n        text-align: right;\n    }\n</style>\n<table border=\"1\" class=\"dataframe\">\n  <thead>\n    <tr style=\"text-align: right;\">\n      <th></th>\n      <th>FloorLineupId_Defense</th>\n      <th>Players</th>\n      <th>DRTG</th>\n      <th>Points</th>\n      <th>Possession</th>\n      <th>GP</th>\n      <th>Time</th>\n    </tr>\n  </thead>\n  <tbody>\n    <tr>\n      <th>0</th>\n      <td>9</td>\n      <td>Tobias Harris, Al Horford, Josh Richardson, Mi...</td>\n      <td>100.000000</td>\n      <td>715</td>\n      <td>715</td>\n      <td>25</td>\n      <td>10786</td>\n    </tr>\n    <tr>\n      <th>1</th>\n      <td>28</td>\n      <td>Devin Booker, Ricky Rubio, Kelly Oubre Jr., Da...</td>\n      <td>99.881797</td>\n      <td>845</td>\n      <td>846</td>\n      <td>33</td>\n      <td>11944</td>\n    </tr>\n    <tr>\n      <th>2</th>\n      <td>36</td>\n      <td>Josh Richardson, Goran Dragic, Derrick Jones J...</td>\n      <td>104.117344</td>\n      <td>2023</td>\n      <td>1943</td>\n      <td>76</td>\n      <td>27196</td>\n    </tr>\n    <tr>\n      <th>3</th>\n      <td>81</td>\n      <td>Carmelo Anthony, Kent Bazemore, C.J. McCollum,...</td>\n      <td>103.557312</td>\n      <td>262</td>\n      <td>253</td>\n      <td>14</td>\n      <td>3326</td>\n    </tr>\n    <tr>\n      <th>4</th>\n      <td>102</td>\n      <td>Josh Richardson, Ben Simmons, Tobias Harris, A...</td>\n      <td>111.616162</td>\n      <td>221</td>\n      <td>198</td>\n      <td>14</td>\n      <td>2735</td>\n    </tr>\n    <tr>\n      <th>...</th>\n      <td>...</td>\n      <td>...</td>\n      <td>...</td>\n      <td>...</td>\n      <td>...</td>\n      <td>...</td>\n      <td>...</td>\n    </tr>\n    <tr>\n      <th>479</th>\n      <td>366989</td>\n      <td>Tobias Harris, Mike Scott, Ben Simmons, Danny ...</td>\n      <td>103.007519</td>\n      <td>137</td>\n      <td>133</td>\n      <td>5</td>\n      <td>1826</td>\n    </tr>\n    <tr>\n      <th>480</th>\n      <td>367642</td>\n      <td>Devin Booker, Chris Paul, Mikal Bridges, Jae C...</td>\n      <td>114.024390</td>\n      <td>187</td>\n      <td>164</td>\n      <td>5</td>\n      <td>2354</td>\n    </tr>\n    <tr>\n      <th>481</th>\n      <td>368955</td>\n      <td>Donovan Mitchell Jr., Mike Conley Jr., Bojan B...</td>\n      <td>112.886598</td>\n      <td>219</td>\n      <td>194</td>\n      <td>5</td>\n      <td>2668</td>\n    </tr>\n    <tr>\n      <th>482</th>\n      <td>370097</td>\n      <td>Blake Griffin, Kyrie Irving, Landry Shamet, Jo...</td>\n      <td>101.075269</td>\n      <td>188</td>\n      <td>186</td>\n      <td>4</td>\n      <td>2822</td>\n    </tr>\n    <tr>\n      <th>483</th>\n      <td>371899</td>\n      <td>Dorian Finney-Smith, J.J. Redick, Boban Marjan...</td>\n      <td>91.333333</td>\n      <td>137</td>\n      <td>150</td>\n      <td>5</td>\n      <td>2104</td>\n    </tr>\n  </tbody>\n</table>\n<p>484 rows × 7 columns</p>\n</div>"
     },
     "metadata": {}
    }
   ],
   "execution_count": null
  },
  {
   "cell_type": "code",
   "metadata": {
    "cell_id": "2ffd21f2a4494242a277d000cc10062c",
    "tags": [],
    "deepnote_to_be_reexecuted": false,
    "source_hash": "46dd312e",
    "execution_start": 1651809150306,
    "execution_millis": 1080,
    "deepnote_cell_type": "code",
    "deepnote_cell_height": 420.53125,
    "deepnote_output_heights": [
     251.53125
    ]
   },
   "source": "y=DRTG2[\"DRTG\"]\ny.index=DRTG2['FloorLineupId_Defense']\nX=design_matrix(features0)\nX\ny",
   "outputs": [
    {
     "output_type": "execute_result",
     "execution_count": 28,
     "data": {
      "text/plain": "FloorLineupId_Defense\n9         100.000000\n28         99.881797\n36        104.117344\n81        103.557312\n102       111.616162\n             ...    \n366989    103.007519\n367642    114.024390\n368955    112.886598\n370097    101.075269\n371899     91.333333\nName: DRTG, Length: 484, dtype: float64"
     },
     "metadata": {}
    }
   ],
   "execution_count": null
  },
  {
   "cell_type": "code",
   "metadata": {
    "cell_id": "880c7b753ff34fa7bb3861b4e53a0e21",
    "tags": [],
    "deepnote_to_be_reexecuted": false,
    "source_hash": "579fa70a",
    "execution_start": 1651809151390,
    "execution_millis": 161785,
    "owner_user_id": "f15e0aec-e3fd-45cb-b701-f4b78187aeaa",
    "deepnote_cell_type": "code",
    "deepnote_cell_height": 624.171875
   },
   "source": "from sklearn.model_selection import train_test_split\nX_train, X_test, y_train, y_test = train_test_split(X, y, test_size=0.25, random_state=89)\n\ndef rmse(pred,labels):\n    return np.mean((pred-labels)**2)**.5\n\nfrom sklearn.ensemble import GradientBoostingRegressor as GB\nfrom sklearn.model_selection import GridSearchCV as GS\n\nmodel1=GB(random_state=1)\ngrid={'learning_rate':np.linspace(.055,.3,10),\n      'n_estimators':range(100,501,100)\n     }\ncv_search1=GS(model1,grid,cv=5,scoring='neg_root_mean_squared_error').fit(X_train,y_train)\n\nmodel1=cv_search1.best_estimator_\nprint(\"Best params:\",cv_search1.best_params_)\nprint(\"Best rmse:\",cv_search1.best_score_)\nprint(\"Test set rmse:\",rmse(model1.predict(X_test),y_test))\n\nmodel1=cv_search1.best_estimator_\nprint(\"Best params:\",cv_search1.best_params_)\nprint(\"Best rmse:\",cv_search1.best_score_)\nprint(\"Test set rmse:\",rmse(model1.predict(X_test),y_test))",
   "outputs": [
    {
     "name": "stdout",
     "text": "Best params: {'learning_rate': 0.055, 'n_estimators': 100}\nBest rmse: -8.439993106733152\nTest set rmse: 8.676427360137042\nBest params: {'learning_rate': 0.055, 'n_estimators': 100}\nBest rmse: -8.439993106733152\nTest set rmse: 8.676427360137042\n",
     "output_type": "stream"
    }
   ],
   "execution_count": null
  },
  {
   "cell_type": "code",
   "metadata": {
    "cell_id": "4fd0c2c488ba41afa2c6fbb356a04e04",
    "tags": [],
    "deepnote_to_be_reexecuted": false,
    "source_hash": "b623e53d",
    "execution_start": 1651809313171,
    "execution_millis": 1,
    "deepnote_cell_type": "code",
    "deepnote_cell_height": 81
   },
   "source": "",
   "outputs": [],
   "execution_count": null
  },
  {
   "cell_type": "code",
   "metadata": {
    "cell_id": "0b3a885373e84f39bde9842ddd7f71ed",
    "tags": [],
    "deepnote_to_be_reexecuted": false,
    "source_hash": "a3680ec1",
    "execution_start": 1651809313172,
    "execution_millis": 1,
    "deepnote_cell_type": "code",
    "deepnote_cell_height": 153
   },
   "source": "from sklearn.model_selection import train_test_split\nX_train, X_test, y_train, y_test = train_test_split(X, y, test_size=0.25, random_state=89)\n\ndef rmse(pred,labels):\n    return np.mean((pred-labels)**2)**.5",
   "outputs": [],
   "execution_count": null
  },
  {
   "cell_type": "code",
   "metadata": {
    "cell_id": "4ada3286e6844a9a816e80e0a154f1b8",
    "tags": [],
    "deepnote_to_be_reexecuted": false,
    "source_hash": "10aa9ea1",
    "execution_start": 1651809313173,
    "execution_millis": 159607,
    "deepnote_cell_type": "code",
    "deepnote_cell_height": 207
   },
   "source": "from sklearn.ensemble import GradientBoostingRegressor as GB\nfrom sklearn.model_selection import GridSearchCV as GS\n\nmodel1=GB(random_state=1)\ngrid={'learning_rate':np.linspace(.055,.3,10),\n      'n_estimators':range(100,501,100)\n     }\ncv_search1=GS(model1,grid,cv=5,scoring='neg_root_mean_squared_error').fit(X_train,y_train)",
   "outputs": [],
   "execution_count": null
  },
  {
   "cell_type": "code",
   "metadata": {
    "cell_id": "2357dab9675c45ada19c9fccd051504e",
    "tags": [],
    "deepnote_to_be_reexecuted": false,
    "source_hash": "b623e53d",
    "execution_start": 1651809472780,
    "execution_millis": 1,
    "deepnote_cell_type": "code",
    "deepnote_cell_height": 81
   },
   "source": "",
   "outputs": [],
   "execution_count": null
  },
  {
   "cell_type": "code",
   "metadata": {
    "cell_id": "9ab0d93ef45f46cd991d0f3253bd47b0",
    "tags": [],
    "deepnote_to_be_reexecuted": false,
    "source_hash": "97f5e8f1",
    "execution_start": 1651809472781,
    "execution_millis": 1205,
    "deepnote_cell_type": "code",
    "deepnote_cell_height": 762,
    "deepnote_output_heights": [
     611
    ]
   },
   "source": "import statsmodels.api as sm\n\nmodel_linear=sm.OLS(y_train,sm.add_constant(X_train)).fit(disp=False)\nmodel_linear.summary()",
   "outputs": [
    {
     "output_type": "execute_result",
     "execution_count": 32,
     "data": {
      "text/plain": "<class 'statsmodels.iolib.summary.Summary'>\n\"\"\"\n                            OLS Regression Results                            \n==============================================================================\nDep. Variable:                   DRTG   R-squared:                       0.067\nModel:                            OLS   Adj. R-squared:                 -0.012\nMethod:                 Least Squares   F-statistic:                    0.8524\nDate:                Fri, 06 May 2022   Prob (F-statistic):              0.685\nTime:                        03:57:53   Log-Likelihood:                -1267.9\nNo. Observations:                 363   AIC:                             2594.\nDf Residuals:                     334   BIC:                             2707.\nDf Model:                          28                                         \nCovariance Type:            nonrobust                                         \n==============================================================================\n                 coef    std err          t      P>|t|      [0.025      0.975]\n------------------------------------------------------------------------------\nconst        182.8486     33.903      5.393      0.000     116.159     249.539\nGP             0.0584      0.149      0.392      0.695      -0.234       0.351\nGS            -0.0595      0.095     -0.630      0.529      -0.245       0.126\nMP             0.0129      0.010      1.322      0.187      -0.006       0.032\nFGM            0.0331      0.038      0.866      0.387      -0.042       0.108\nFGA           -0.0614      0.030     -2.036      0.042      -0.121      -0.002\nFG%           74.1899     84.330      0.880      0.380     -91.695     240.075\n2FGM           0.0223      0.074      0.302      0.763      -0.123       0.167\n2FGA          -0.0479      0.033     -1.470      0.143      -0.112       0.016\n2FG%         -25.3787     37.718     -0.673      0.502     -99.574      48.816\n3FGM           0.0109      0.076      0.144      0.886      -0.138       0.160\n3FGA          -0.0136      0.043     -0.318      0.751      -0.097       0.070\n3FG%         -11.0497     16.388     -0.674      0.501     -43.287      21.188\neFG%        -141.6049    166.917     -0.848      0.397    -469.946     186.736\nTS%          -43.7199    192.654     -0.227      0.821    -422.688     335.249\nFTM           -0.0313      0.111     -0.281      0.779      -0.250       0.188\nFTA           -0.0244      0.081     -0.303      0.762      -0.183       0.134\nFT%            4.0999     21.393      0.192      0.848     -37.983      46.182\nOR            -0.0453      0.049     -0.920      0.358      -0.142       0.052\nDR             0.0052      0.022      0.237      0.813      -0.038       0.048\nAST           -0.0107      0.032     -0.340      0.734      -0.073       0.051\nSTL           -0.0508      0.072     -0.706      0.481      -0.193       0.091\nBLK           -0.0010      0.068     -0.015      0.988      -0.134       0.132\nTOV            0.0926      0.079      1.179      0.239      -0.062       0.247\nPF            -0.0364      0.049     -0.739      0.460      -0.133       0.060\nPTS            0.0459      0.036      1.262      0.208      -0.026       0.117\nBPM_O          0.8260      2.167      0.381      0.703      -3.437       5.089\nBPM_D          0.2378      1.724      0.138      0.890      -3.153       3.629\nEPM_O          1.5210      2.751      0.553      0.581      -3.891       6.933\nEPM_D          1.4322      1.789      0.800      0.424      -2.088       4.952\nRPM_O          0.0473      1.473      0.032      0.974      -2.850       2.944\nRPM_D         -1.0483      1.345     -0.779      0.436      -3.695       1.598\n==============================================================================\nOmnibus:                        3.812   Durbin-Watson:                   1.982\nProb(Omnibus):                  0.149   Jarque-Bera (JB):                4.169\nSkew:                           0.110   Prob(JB):                        0.124\nKurtosis:                       3.477   Cond. No.                     1.02e+16\n==============================================================================\n\nNotes:\n[1] Standard Errors assume that the covariance matrix of the errors is correctly specified.\n[2] The smallest eigenvalue is 1.95e-23. This might indicate that there are\nstrong multicollinearity problems or that the design matrix is singular.\n\"\"\"",
      "text/html": "<table class=\"simpletable\">\n<caption>OLS Regression Results</caption>\n<tr>\n  <th>Dep. Variable:</th>          <td>DRTG</td>       <th>  R-squared:         </th> <td>   0.067</td>\n</tr>\n<tr>\n  <th>Model:</th>                   <td>OLS</td>       <th>  Adj. R-squared:    </th> <td>  -0.012</td>\n</tr>\n<tr>\n  <th>Method:</th>             <td>Least Squares</td>  <th>  F-statistic:       </th> <td>  0.8524</td>\n</tr>\n<tr>\n  <th>Date:</th>             <td>Fri, 06 May 2022</td> <th>  Prob (F-statistic):</th>  <td> 0.685</td> \n</tr>\n<tr>\n  <th>Time:</th>                 <td>03:57:53</td>     <th>  Log-Likelihood:    </th> <td> -1267.9</td>\n</tr>\n<tr>\n  <th>No. Observations:</th>      <td>   363</td>      <th>  AIC:               </th> <td>   2594.</td>\n</tr>\n<tr>\n  <th>Df Residuals:</th>          <td>   334</td>      <th>  BIC:               </th> <td>   2707.</td>\n</tr>\n<tr>\n  <th>Df Model:</th>              <td>    28</td>      <th>                     </th>     <td> </td>   \n</tr>\n<tr>\n  <th>Covariance Type:</th>      <td>nonrobust</td>    <th>                     </th>     <td> </td>   \n</tr>\n</table>\n<table class=\"simpletable\">\n<tr>\n    <td></td>       <th>coef</th>     <th>std err</th>      <th>t</th>      <th>P>|t|</th>  <th>[0.025</th>    <th>0.975]</th>  \n</tr>\n<tr>\n  <th>const</th> <td>  182.8486</td> <td>   33.903</td> <td>    5.393</td> <td> 0.000</td> <td>  116.159</td> <td>  249.539</td>\n</tr>\n<tr>\n  <th>GP</th>    <td>    0.0584</td> <td>    0.149</td> <td>    0.392</td> <td> 0.695</td> <td>   -0.234</td> <td>    0.351</td>\n</tr>\n<tr>\n  <th>GS</th>    <td>   -0.0595</td> <td>    0.095</td> <td>   -0.630</td> <td> 0.529</td> <td>   -0.245</td> <td>    0.126</td>\n</tr>\n<tr>\n  <th>MP</th>    <td>    0.0129</td> <td>    0.010</td> <td>    1.322</td> <td> 0.187</td> <td>   -0.006</td> <td>    0.032</td>\n</tr>\n<tr>\n  <th>FGM</th>   <td>    0.0331</td> <td>    0.038</td> <td>    0.866</td> <td> 0.387</td> <td>   -0.042</td> <td>    0.108</td>\n</tr>\n<tr>\n  <th>FGA</th>   <td>   -0.0614</td> <td>    0.030</td> <td>   -2.036</td> <td> 0.042</td> <td>   -0.121</td> <td>   -0.002</td>\n</tr>\n<tr>\n  <th>FG%</th>   <td>   74.1899</td> <td>   84.330</td> <td>    0.880</td> <td> 0.380</td> <td>  -91.695</td> <td>  240.075</td>\n</tr>\n<tr>\n  <th>2FGM</th>  <td>    0.0223</td> <td>    0.074</td> <td>    0.302</td> <td> 0.763</td> <td>   -0.123</td> <td>    0.167</td>\n</tr>\n<tr>\n  <th>2FGA</th>  <td>   -0.0479</td> <td>    0.033</td> <td>   -1.470</td> <td> 0.143</td> <td>   -0.112</td> <td>    0.016</td>\n</tr>\n<tr>\n  <th>2FG%</th>  <td>  -25.3787</td> <td>   37.718</td> <td>   -0.673</td> <td> 0.502</td> <td>  -99.574</td> <td>   48.816</td>\n</tr>\n<tr>\n  <th>3FGM</th>  <td>    0.0109</td> <td>    0.076</td> <td>    0.144</td> <td> 0.886</td> <td>   -0.138</td> <td>    0.160</td>\n</tr>\n<tr>\n  <th>3FGA</th>  <td>   -0.0136</td> <td>    0.043</td> <td>   -0.318</td> <td> 0.751</td> <td>   -0.097</td> <td>    0.070</td>\n</tr>\n<tr>\n  <th>3FG%</th>  <td>  -11.0497</td> <td>   16.388</td> <td>   -0.674</td> <td> 0.501</td> <td>  -43.287</td> <td>   21.188</td>\n</tr>\n<tr>\n  <th>eFG%</th>  <td> -141.6049</td> <td>  166.917</td> <td>   -0.848</td> <td> 0.397</td> <td> -469.946</td> <td>  186.736</td>\n</tr>\n<tr>\n  <th>TS%</th>   <td>  -43.7199</td> <td>  192.654</td> <td>   -0.227</td> <td> 0.821</td> <td> -422.688</td> <td>  335.249</td>\n</tr>\n<tr>\n  <th>FTM</th>   <td>   -0.0313</td> <td>    0.111</td> <td>   -0.281</td> <td> 0.779</td> <td>   -0.250</td> <td>    0.188</td>\n</tr>\n<tr>\n  <th>FTA</th>   <td>   -0.0244</td> <td>    0.081</td> <td>   -0.303</td> <td> 0.762</td> <td>   -0.183</td> <td>    0.134</td>\n</tr>\n<tr>\n  <th>FT%</th>   <td>    4.0999</td> <td>   21.393</td> <td>    0.192</td> <td> 0.848</td> <td>  -37.983</td> <td>   46.182</td>\n</tr>\n<tr>\n  <th>OR</th>    <td>   -0.0453</td> <td>    0.049</td> <td>   -0.920</td> <td> 0.358</td> <td>   -0.142</td> <td>    0.052</td>\n</tr>\n<tr>\n  <th>DR</th>    <td>    0.0052</td> <td>    0.022</td> <td>    0.237</td> <td> 0.813</td> <td>   -0.038</td> <td>    0.048</td>\n</tr>\n<tr>\n  <th>AST</th>   <td>   -0.0107</td> <td>    0.032</td> <td>   -0.340</td> <td> 0.734</td> <td>   -0.073</td> <td>    0.051</td>\n</tr>\n<tr>\n  <th>STL</th>   <td>   -0.0508</td> <td>    0.072</td> <td>   -0.706</td> <td> 0.481</td> <td>   -0.193</td> <td>    0.091</td>\n</tr>\n<tr>\n  <th>BLK</th>   <td>   -0.0010</td> <td>    0.068</td> <td>   -0.015</td> <td> 0.988</td> <td>   -0.134</td> <td>    0.132</td>\n</tr>\n<tr>\n  <th>TOV</th>   <td>    0.0926</td> <td>    0.079</td> <td>    1.179</td> <td> 0.239</td> <td>   -0.062</td> <td>    0.247</td>\n</tr>\n<tr>\n  <th>PF</th>    <td>   -0.0364</td> <td>    0.049</td> <td>   -0.739</td> <td> 0.460</td> <td>   -0.133</td> <td>    0.060</td>\n</tr>\n<tr>\n  <th>PTS</th>   <td>    0.0459</td> <td>    0.036</td> <td>    1.262</td> <td> 0.208</td> <td>   -0.026</td> <td>    0.117</td>\n</tr>\n<tr>\n  <th>BPM_O</th> <td>    0.8260</td> <td>    2.167</td> <td>    0.381</td> <td> 0.703</td> <td>   -3.437</td> <td>    5.089</td>\n</tr>\n<tr>\n  <th>BPM_D</th> <td>    0.2378</td> <td>    1.724</td> <td>    0.138</td> <td> 0.890</td> <td>   -3.153</td> <td>    3.629</td>\n</tr>\n<tr>\n  <th>EPM_O</th> <td>    1.5210</td> <td>    2.751</td> <td>    0.553</td> <td> 0.581</td> <td>   -3.891</td> <td>    6.933</td>\n</tr>\n<tr>\n  <th>EPM_D</th> <td>    1.4322</td> <td>    1.789</td> <td>    0.800</td> <td> 0.424</td> <td>   -2.088</td> <td>    4.952</td>\n</tr>\n<tr>\n  <th>RPM_O</th> <td>    0.0473</td> <td>    1.473</td> <td>    0.032</td> <td> 0.974</td> <td>   -2.850</td> <td>    2.944</td>\n</tr>\n<tr>\n  <th>RPM_D</th> <td>   -1.0483</td> <td>    1.345</td> <td>   -0.779</td> <td> 0.436</td> <td>   -3.695</td> <td>    1.598</td>\n</tr>\n</table>\n<table class=\"simpletable\">\n<tr>\n  <th>Omnibus:</th>       <td> 3.812</td> <th>  Durbin-Watson:     </th> <td>   1.982</td>\n</tr>\n<tr>\n  <th>Prob(Omnibus):</th> <td> 0.149</td> <th>  Jarque-Bera (JB):  </th> <td>   4.169</td>\n</tr>\n<tr>\n  <th>Skew:</th>          <td> 0.110</td> <th>  Prob(JB):          </th> <td>   0.124</td>\n</tr>\n<tr>\n  <th>Kurtosis:</th>      <td> 3.477</td> <th>  Cond. No.          </th> <td>1.02e+16</td>\n</tr>\n</table><br/><br/>Notes:<br/>[1] Standard Errors assume that the covariance matrix of the errors is correctly specified.<br/>[2] The smallest eigenvalue is 1.95e-23. This might indicate that there are<br/>strong multicollinearity problems or that the design matrix is singular."
     },
     "metadata": {}
    }
   ],
   "execution_count": null
  },
  {
   "cell_type": "code",
   "metadata": {
    "cell_id": "6f38186824f84d32b6fdfbe804ed6f95",
    "tags": [],
    "deepnote_to_be_reexecuted": false,
    "source_hash": "3580056e",
    "execution_start": 1651809473466,
    "execution_millis": 522,
    "deepnote_cell_type": "code",
    "deepnote_cell_height": 111.6875
   },
   "source": "print('Test set rmse:',rmse(model_linear.predict(sm.add_constant(X_test)),y_test))",
   "outputs": [
    {
     "name": "stdout",
     "text": "Test set rmse: 8.719520089352162\n",
     "output_type": "stream"
    }
   ],
   "execution_count": null
  },
  {
   "cell_type": "code",
   "metadata": {
    "cell_id": "ed22e2eaa6104839a257a21cbf1fd933",
    "tags": [],
    "deepnote_to_be_reexecuted": false,
    "source_hash": "3213886f",
    "execution_start": 1651809473479,
    "execution_millis": 234,
    "deepnote_cell_type": "code",
    "deepnote_cell_height": 441
   },
   "source": "def stepwise_linear_regression(X,y):\n    '''Returns model and dropped\n       model: the fitted linear regression model\n       dropped: the list of features that were dropped out of the original design matrix\n    '''\n    \n    X1=sm.add_constant(X)\n    cols=X1.columns\n    flag=True\n    dropped=[]\n    while flag:\n        model=sm.OLS(y,X1[cols]).fit(disp=False)\n        if all(model.pvalues<=0.05):\n            flag=False\n        else:\n            label=model.pvalues[model.pvalues==max(model.pvalues)].index[0]\n            dropped.append(label)\n            cols=[e for e in cols if e!=label]\n    return model,dropped\n\nmodel_linear,dropped_features=stepwise_linear_regression(X_train,y_train)",
   "outputs": [],
   "execution_count": null
  },
  {
   "cell_type": "code",
   "source": "dropped_features",
   "metadata": {
    "cell_id": "720a5076e2fe4fc7af546a68b191a96c",
    "tags": [],
    "deepnote_to_be_reexecuted": false,
    "source_hash": "fe723fe",
    "execution_start": 1651809473758,
    "execution_millis": 254,
    "deepnote_cell_type": "code",
    "deepnote_cell_height": 674.859375,
    "deepnote_output_heights": [
     577.859375
    ]
   },
   "outputs": [
    {
     "output_type": "execute_result",
     "execution_count": 35,
     "data": {
      "text/plain": "['BLK',\n 'RPM_O',\n 'BPM_D',\n '3FGM',\n '2FGM',\n 'FTM',\n 'FT%',\n 'TS%',\n 'PTS',\n 'DR',\n 'AST',\n 'GP',\n 'EPM_O',\n '3FGA',\n '3FG%',\n 'FTA',\n 'GS',\n 'PF',\n '2FG%',\n 'FG%',\n 'RPM_D',\n 'EPM_D',\n 'STL',\n 'TOV',\n 'BPM_O',\n 'OR',\n 'MP',\n 'FGA',\n 'eFG%']"
     },
     "metadata": {}
    }
   ],
   "execution_count": null
  },
  {
   "cell_type": "code",
   "metadata": {
    "cell_id": "c7d20ba9c57f420db8c46e949c67b6c8",
    "tags": [],
    "deepnote_to_be_reexecuted": false,
    "source_hash": "65a16ed7",
    "execution_start": 1651809473765,
    "execution_millis": 251,
    "deepnote_cell_type": "code",
    "deepnote_cell_height": 684.78125,
    "deepnote_output_heights": [
     587.78125
    ]
   },
   "source": "model_linear.summary()",
   "outputs": [
    {
     "output_type": "execute_result",
     "execution_count": 36,
     "data": {
      "text/plain": "<class 'statsmodels.iolib.summary.Summary'>\n\"\"\"\n                            OLS Regression Results                            \n==============================================================================\nDep. Variable:                   DRTG   R-squared:                       0.022\nModel:                            OLS   Adj. R-squared:                  0.017\nMethod:                 Least Squares   F-statistic:                     4.071\nDate:                Fri, 06 May 2022   Prob (F-statistic):             0.0178\nTime:                        03:57:53   Log-Likelihood:                -1276.4\nNo. Observations:                 363   AIC:                             2559.\nDf Residuals:                     360   BIC:                             2570.\nDf Model:                           2                                         \nCovariance Type:            nonrobust                                         \n==============================================================================\n                 coef    std err          t      P>|t|      [0.025      0.975]\n------------------------------------------------------------------------------\nconst        104.2015      1.834     56.832      0.000     100.596     107.807\nFGM            0.0391      0.015      2.697      0.007       0.011       0.068\n2FGA          -0.0207      0.010     -2.176      0.030      -0.039      -0.002\n==============================================================================\nOmnibus:                        6.760   Durbin-Watson:                   1.968\nProb(Omnibus):                  0.034   Jarque-Bera (JB):                8.301\nSkew:                           0.178   Prob(JB):                       0.0158\nKurtosis:                       3.650   Cond. No.                     2.56e+03\n==============================================================================\n\nNotes:\n[1] Standard Errors assume that the covariance matrix of the errors is correctly specified.\n[2] The condition number is large, 2.56e+03. This might indicate that there are\nstrong multicollinearity or other numerical problems.\n\"\"\"",
      "text/html": "<table class=\"simpletable\">\n<caption>OLS Regression Results</caption>\n<tr>\n  <th>Dep. Variable:</th>          <td>DRTG</td>       <th>  R-squared:         </th> <td>   0.022</td>\n</tr>\n<tr>\n  <th>Model:</th>                   <td>OLS</td>       <th>  Adj. R-squared:    </th> <td>   0.017</td>\n</tr>\n<tr>\n  <th>Method:</th>             <td>Least Squares</td>  <th>  F-statistic:       </th> <td>   4.071</td>\n</tr>\n<tr>\n  <th>Date:</th>             <td>Fri, 06 May 2022</td> <th>  Prob (F-statistic):</th>  <td>0.0178</td> \n</tr>\n<tr>\n  <th>Time:</th>                 <td>03:57:53</td>     <th>  Log-Likelihood:    </th> <td> -1276.4</td>\n</tr>\n<tr>\n  <th>No. Observations:</th>      <td>   363</td>      <th>  AIC:               </th> <td>   2559.</td>\n</tr>\n<tr>\n  <th>Df Residuals:</th>          <td>   360</td>      <th>  BIC:               </th> <td>   2570.</td>\n</tr>\n<tr>\n  <th>Df Model:</th>              <td>     2</td>      <th>                     </th>     <td> </td>   \n</tr>\n<tr>\n  <th>Covariance Type:</th>      <td>nonrobust</td>    <th>                     </th>     <td> </td>   \n</tr>\n</table>\n<table class=\"simpletable\">\n<tr>\n    <td></td>       <th>coef</th>     <th>std err</th>      <th>t</th>      <th>P>|t|</th>  <th>[0.025</th>    <th>0.975]</th>  \n</tr>\n<tr>\n  <th>const</th> <td>  104.2015</td> <td>    1.834</td> <td>   56.832</td> <td> 0.000</td> <td>  100.596</td> <td>  107.807</td>\n</tr>\n<tr>\n  <th>FGM</th>   <td>    0.0391</td> <td>    0.015</td> <td>    2.697</td> <td> 0.007</td> <td>    0.011</td> <td>    0.068</td>\n</tr>\n<tr>\n  <th>2FGA</th>  <td>   -0.0207</td> <td>    0.010</td> <td>   -2.176</td> <td> 0.030</td> <td>   -0.039</td> <td>   -0.002</td>\n</tr>\n</table>\n<table class=\"simpletable\">\n<tr>\n  <th>Omnibus:</th>       <td> 6.760</td> <th>  Durbin-Watson:     </th> <td>   1.968</td>\n</tr>\n<tr>\n  <th>Prob(Omnibus):</th> <td> 0.034</td> <th>  Jarque-Bera (JB):  </th> <td>   8.301</td>\n</tr>\n<tr>\n  <th>Skew:</th>          <td> 0.178</td> <th>  Prob(JB):          </th> <td>  0.0158</td>\n</tr>\n<tr>\n  <th>Kurtosis:</th>      <td> 3.650</td> <th>  Cond. No.          </th> <td>2.56e+03</td>\n</tr>\n</table><br/><br/>Notes:<br/>[1] Standard Errors assume that the covariance matrix of the errors is correctly specified.<br/>[2] The condition number is large, 2.56e+03. This might indicate that there are<br/>strong multicollinearity or other numerical problems."
     },
     "metadata": {}
    }
   ],
   "execution_count": null
  },
  {
   "cell_type": "code",
   "metadata": {
    "tags": [],
    "deepnote_to_be_reexecuted": false,
    "source_hash": "3419319f",
    "execution_start": 1651809473781,
    "execution_millis": 1278,
    "cell_id": "00023-5a1d7133-3170-4739-bfab-8aa3a33e8265",
    "deepnote_cell_type": "code",
    "deepnote_cell_height": 1775
   },
   "source": "import seaborn as sns\nimport matplotlib.pyplot as plt\nfrom sklearn.linear_model import LinearRegression\nfrom sklearn import metrics\n\nfrom sklearn.linear_model import LinearRegression\nfrom sklearn import model_selection\n\n\nx_train, x_test, y_train, y_test = model_selection.train_test_split(X, y, test_size=0.2)\nprint (\"X_train: \", x_train)\nprint (\"y_train: \", y_train)\nprint(\"X_test: \", x_test)\nprint (\"y_test: \", y_test)\n\nregressor = LinearRegression()  \nregressor.fit(x_train, y_train) \ny_pred = regressor.predict(x_test)\nx_test.shape\n\nprint('Mean Squared Error:', metrics.mean_squared_error(y_test, y_pred))  \nprint('Root Mean Squared Error:', np.sqrt(metrics.mean_squared_error(y_test, y_pred)))\nprint('Shape: ', x_test.shape)\n\n#x_test=np.arange(0,len(x_test),1)\n#plt.scatter(x_test, y_test, color='gray')\n#plt.plot(x_test, y_pred, color='red', linewidth=2)\n#plt.show()\n\ndf = pd.DataFrame({'Actual': y_test, 'Predicted': y_pred})\ndf",
   "outputs": [
    {
     "name": "stdout",
     "text": "X_train:                           GP    GS        MP    FGM    FGA       FG%   2FGM  \\\nFloorLineupId_Defense                                                        \n4816                   68.2  51.8  1898.142  368.0  824.6  0.461376  261.2   \n4347                   65.2  41.0  1609.384  296.6  686.6  0.431371  198.0   \n98234                  70.8  55.2  2134.950  401.4  852.0  0.466262  316.0   \n6344                   71.6  56.8  2070.706  365.6  835.0  0.441875  229.4   \n100865                 68.6  65.6  2008.366  399.0  812.2  0.492578  294.2   \n...                     ...   ...       ...    ...    ...       ...    ...   \n3012                   74.6  52.4  2148.706  475.2  954.8  0.517104  319.0   \n4231                   77.6  66.6  2239.512  414.0  884.0  0.457395  310.4   \n36                     61.4  41.4  1581.362  267.2  584.8  0.458712  201.2   \n3085                   68.4  48.0  2099.024  406.4  881.8  0.457147  286.2   \n4629                   65.0  42.2  1944.990  410.0  881.8  0.473285  245.2   \n\n                        2FGA      2FG%   3FGM  ...   BLK    TOV     PF  \\\nFloorLineupId_Defense                          ...                       \n4816                   521.4  0.507246  106.8  ...  35.0   95.0  128.8   \n4347                   400.8  0.491999   98.6  ...  34.0  131.4  143.6   \n98234                  587.4  0.531114   85.4  ...  37.4  148.6  194.2   \n6344                   459.0  0.510706  136.2  ...  36.4   99.2  127.0   \n100865                 524.0  0.540643  104.8  ...  55.2  120.4  162.0   \n...                      ...       ...    ...  ...   ...    ...    ...   \n3012                   564.6  0.583976  156.2  ...  52.0  127.0  156.8   \n4231                   600.4  0.499858  103.6  ...  36.6  129.4  158.4   \n36                     393.6  0.502474   66.0  ...  45.8   77.6  142.2   \n3085                   534.6  0.529972  120.2  ...  33.6  131.2  161.2   \n4629                   432.4  0.562886  164.8  ...  45.0  132.2  152.2   \n\n                          PTS  BPM_O  BPM_D   EPM_O   EPM_D  RPM_O  RPM_D  \nFloorLineupId_Defense                                                      \n4816                   1018.6   1.02  -0.48  1.0958 -0.2558 -0.278  0.246  \n4347                    839.2  -0.34  -1.12 -0.3704 -0.9312  0.586 -2.198  \n98234                  1090.8   0.26  -0.62  0.5896  0.0454  0.152 -0.820  \n6344                   1034.0   1.34  -0.30  1.1748 -0.0246  0.014  0.350  \n100865                 1031.2   0.96   0.32  1.1820  0.7934  1.560 -0.404  \n...                       ...    ...    ...     ...     ...    ...    ...  \n3012                   1295.4   2.76   0.06  2.6646  0.9370  2.456  0.306  \n4231                   1084.8   0.16   0.26  0.4500  0.5914 -0.260  0.566  \n36                      703.0  -0.60   0.34 -0.1658  0.8748 -1.016  0.914  \n3085                   1109.6   0.44  -1.20  0.5882 -0.9152  1.000 -1.144  \n4629                   1215.2   2.62  -0.50  2.6080 -0.3244  1.302  0.036  \n\n[387 rows x 31 columns]\ny_train:  FloorLineupId_Defense\n4816      114.224138\n4347      110.666667\n98234     113.608247\n6344      113.533835\n100865    105.426357\n             ...    \n3012      112.101911\n4231      104.133545\n36        104.117344\n3085      113.454545\n4629      109.696970\nName: DRTG, Length: 387, dtype: float64\nX_test:                           GP    GS        MP    FGM    FGA       FG%   2FGM  \\\nFloorLineupId_Defense                                                        \n728                    75.8  62.6  2245.052  415.0  918.0  0.468738  278.4   \n5800                   72.2  45.4  1949.692  385.0  803.6  0.483319  291.6   \n4300                   66.8  29.8  1496.046  265.0  605.6  0.433038  191.4   \n12636                  75.2  49.6  2125.058  412.4  890.8  0.449042  296.2   \n247                    76.8  43.8  2128.368  404.0  805.2  0.506936  315.0   \n...                     ...   ...       ...    ...    ...       ...    ...   \n349210                 68.4  41.2  1734.424  284.0  608.2  0.482758  211.4   \n353022                 60.6  47.4  1616.290  321.4  649.2  0.471383  251.4   \n3580                   68.8  39.4  1817.918  273.0  611.8  0.453270  171.4   \n909                    63.4  26.8  1476.482  229.4  504.4  0.466036  125.8   \n3334                   66.8  62.2  2021.390  395.4  796.2  0.496229  283.4   \n\n                        2FGA      2FG%   3FGM  ...   BLK    TOV     PF  \\\nFloorLineupId_Defense                          ...                       \n728                    566.4  0.501675  136.6  ...  38.2  126.0  170.4   \n5800                   544.6  0.530827   93.4  ...  38.0  130.4  166.2   \n4300                   381.8  0.496298   73.6  ...  30.4  121.0  130.0   \n12636                  579.0  0.494039  116.2  ...  38.6  121.4  130.4   \n247                    561.8  0.558402   89.0  ...  48.8  121.8  151.2   \n...                      ...       ...    ...  ...   ...    ...    ...   \n349210                 408.2  0.531021   72.6  ...  35.0   87.2  161.0   \n353022                 445.6  0.529694   70.0  ...  49.0  103.6  126.0   \n3580                   326.6  0.533682  101.6  ...  33.8   93.0  155.0   \n909                    242.8  0.518621  103.6  ...  20.8   65.8  122.8   \n3334                   505.8  0.546102  112.0  ...  42.6  124.4  162.2   \n\n                          PTS  BPM_O  BPM_D   EPM_O   EPM_D  RPM_O  RPM_D  \nFloorLineupId_Defense                                                      \n728                    1158.8   0.80  -0.50  0.6050  0.0114  1.106 -0.188  \n5800                   1003.8   1.36   0.64  1.1320  0.0462  1.082 -0.274  \n4300                    731.6  -0.58  -1.22 -0.5668 -1.2782  0.220 -1.682  \n12636                  1089.6   0.72   0.14  0.2834  0.0498 -0.228  0.572  \n247                    1080.2   0.72  -0.08  0.3154  0.1190 -0.170  0.778  \n...                       ...    ...    ...     ...     ...    ...    ...  \n349210                  751.8  -0.52   0.16  0.0044  1.0964 -0.418  0.706  \n353022                  884.0   0.04  -0.02  0.3918 -0.2686  0.396 -1.274  \n3580                    777.8  -0.30   0.78 -0.0134  0.6516 -0.300  0.756  \n909                     648.6  -0.66   0.06 -0.4306 -0.2042  0.532 -0.380  \n3334                   1092.0   2.54   0.74  2.4918  1.3628  1.960  0.762  \n\n[97 rows x 31 columns]\ny_test:  FloorLineupId_Defense\n728       102.702703\n5800      103.125000\n4300       95.384615\n12636      97.241379\n247       115.346535\n             ...    \n349210    110.375671\n353022    127.184466\n3580      115.853659\n909       101.714286\n3334      111.450382\nName: DRTG, Length: 97, dtype: float64\nMean Squared Error: 79.93068247160193\nRoot Mean Squared Error: 8.940396102612116\nShape:  (97, 31)\n",
     "output_type": "stream"
    },
    {
     "output_type": "execute_result",
     "execution_count": 37,
     "data": {
      "application/vnd.deepnote.dataframe.v3+json": {
       "column_count": 2,
       "row_count": 97,
       "columns": [
        {
         "name": "Actual",
         "dtype": "float64",
         "stats": {
          "unique_count": 95,
          "nan_count": 0,
          "min": "81.08108108108108",
          "max": "127.18446601941747",
          "histogram": [
           {
            "bin_start": 81.08108108108108,
            "bin_end": 85.69141957491472,
            "count": 1
           },
           {
            "bin_start": 85.69141957491472,
            "bin_end": 90.30175806874836,
            "count": 2
           },
           {
            "bin_start": 90.30175806874836,
            "bin_end": 94.912096562582,
            "count": 2
           },
           {
            "bin_start": 94.912096562582,
            "bin_end": 99.52243505641565,
            "count": 12
           },
           {
            "bin_start": 99.52243505641565,
            "bin_end": 104.13277355024928,
            "count": 25
           },
           {
            "bin_start": 104.13277355024928,
            "bin_end": 108.74311204408292,
            "count": 21
           },
           {
            "bin_start": 108.74311204408292,
            "bin_end": 113.35345053791656,
            "count": 13
           },
           {
            "bin_start": 113.35345053791656,
            "bin_end": 117.9637890317502,
            "count": 13
           },
           {
            "bin_start": 117.9637890317502,
            "bin_end": 122.57412752558383,
            "count": 7
           },
           {
            "bin_start": 122.57412752558383,
            "bin_end": 127.18446601941747,
            "count": 1
           }
          ]
         }
        },
        {
         "name": "Predicted",
         "dtype": "float64",
         "stats": {
          "unique_count": 93,
          "nan_count": 0,
          "min": "100.64309994253723",
          "max": "115.8191632640337",
          "histogram": [
           {
            "bin_start": 100.64309994253723,
            "bin_end": 102.16070627468687,
            "count": 2
           },
           {
            "bin_start": 102.16070627468687,
            "bin_end": 103.67831260683653,
            "count": 1
           },
           {
            "bin_start": 103.67831260683653,
            "bin_end": 105.19591893898618,
            "count": 6
           },
           {
            "bin_start": 105.19591893898618,
            "bin_end": 106.71352527113582,
            "count": 16
           },
           {
            "bin_start": 106.71352527113582,
            "bin_end": 108.23113160328546,
            "count": 28
           },
           {
            "bin_start": 108.23113160328546,
            "bin_end": 109.74873793543512,
            "count": 21
           },
           {
            "bin_start": 109.74873793543512,
            "bin_end": 111.26634426758477,
            "count": 15
           },
           {
            "bin_start": 111.26634426758477,
            "bin_end": 112.78395059973441,
            "count": 7
           },
           {
            "bin_start": 112.78395059973441,
            "bin_end": 114.30155693188405,
            "count": 0
           },
           {
            "bin_start": 114.30155693188405,
            "bin_end": 115.8191632640337,
            "count": 1
           }
          ]
         }
        },
        {
         "name": "_deepnote_index_column",
         "dtype": "int64"
        }
       ],
       "rows": [
        {
         "Actual": 102.70270270270271,
         "Predicted": 108.65294566320267,
         "_deepnote_index_column": 728
        },
        {
         "Actual": 103.125,
         "Predicted": 107.26629136106834,
         "_deepnote_index_column": 5800
        },
        {
         "Actual": 95.38461538461539,
         "Predicted": 107.82335640610859,
         "_deepnote_index_column": 4300
        },
        {
         "Actual": 97.24137931034483,
         "Predicted": 107.6718176962402,
         "_deepnote_index_column": 12636
        },
        {
         "Actual": 115.34653465346534,
         "Predicted": 110.64191912612696,
         "_deepnote_index_column": 247
        },
        {
         "Actual": 102.68817204301075,
         "Predicted": 108.95546088081565,
         "_deepnote_index_column": 5282
        },
        {
         "Actual": 103.35932813437313,
         "Predicted": 106.80825822334633,
         "_deepnote_index_column": 2521
        },
        {
         "Actual": 117.85714285714286,
         "Predicted": 108.17665841221937,
         "_deepnote_index_column": 10124
        },
        {
         "Actual": 92.38578680203045,
         "Predicted": 105.57105774921976,
         "_deepnote_index_column": 349503
        },
        {
         "Actual": 101.69491525423729,
         "Predicted": 108.30907996704272,
         "_deepnote_index_column": 3747
        }
       ]
      },
      "text/plain": "                           Actual   Predicted\nFloorLineupId_Defense                        \n728                    102.702703  108.652946\n5800                   103.125000  107.266291\n4300                    95.384615  107.823356\n12636                   97.241379  107.671818\n247                    115.346535  110.641919\n...                           ...         ...\n349210                 110.375671  105.901626\n353022                 127.184466  109.449681\n3580                   115.853659  106.224264\n909                    101.714286  107.350650\n3334                   111.450382  112.569299\n\n[97 rows x 2 columns]",
      "text/html": "<div>\n<style scoped>\n    .dataframe tbody tr th:only-of-type {\n        vertical-align: middle;\n    }\n\n    .dataframe tbody tr th {\n        vertical-align: top;\n    }\n\n    .dataframe thead th {\n        text-align: right;\n    }\n</style>\n<table border=\"1\" class=\"dataframe\">\n  <thead>\n    <tr style=\"text-align: right;\">\n      <th></th>\n      <th>Actual</th>\n      <th>Predicted</th>\n    </tr>\n    <tr>\n      <th>FloorLineupId_Defense</th>\n      <th></th>\n      <th></th>\n    </tr>\n  </thead>\n  <tbody>\n    <tr>\n      <th>728</th>\n      <td>102.702703</td>\n      <td>108.652946</td>\n    </tr>\n    <tr>\n      <th>5800</th>\n      <td>103.125000</td>\n      <td>107.266291</td>\n    </tr>\n    <tr>\n      <th>4300</th>\n      <td>95.384615</td>\n      <td>107.823356</td>\n    </tr>\n    <tr>\n      <th>12636</th>\n      <td>97.241379</td>\n      <td>107.671818</td>\n    </tr>\n    <tr>\n      <th>247</th>\n      <td>115.346535</td>\n      <td>110.641919</td>\n    </tr>\n    <tr>\n      <th>...</th>\n      <td>...</td>\n      <td>...</td>\n    </tr>\n    <tr>\n      <th>349210</th>\n      <td>110.375671</td>\n      <td>105.901626</td>\n    </tr>\n    <tr>\n      <th>353022</th>\n      <td>127.184466</td>\n      <td>109.449681</td>\n    </tr>\n    <tr>\n      <th>3580</th>\n      <td>115.853659</td>\n      <td>106.224264</td>\n    </tr>\n    <tr>\n      <th>909</th>\n      <td>101.714286</td>\n      <td>107.350650</td>\n    </tr>\n    <tr>\n      <th>3334</th>\n      <td>111.450382</td>\n      <td>112.569299</td>\n    </tr>\n  </tbody>\n</table>\n<p>97 rows × 2 columns</p>\n</div>"
     },
     "metadata": {}
    }
   ],
   "execution_count": null
  },
  {
   "cell_type": "code",
   "metadata": {
    "tags": [],
    "deepnote_to_be_reexecuted": false,
    "source_hash": "6331fd1e",
    "execution_start": 1651809474941,
    "execution_millis": 983,
    "cell_id": "00024-02886050-0010-4c23-b7eb-41573114199f",
    "deepnote_cell_type": "code",
    "deepnote_cell_height": 465.1875,
    "deepnote_output_heights": [
     null,
     254
    ]
   },
   "source": "plt.scatter(x_test, y_test,  color='gray')\nplt.plot(x_test, y_pred, color='red', linewidth=2)\nplt.show()",
   "outputs": [
    {
     "output_type": "error",
     "ename": "ValueError",
     "evalue": "x and y must be the same size",
     "traceback": [
      "\u001b[0;31m---------------------------------------------------------------------------\u001b[0m",
      "\u001b[0;31mValueError\u001b[0m                                Traceback (most recent call last)",
      "\u001b[0;32m<ipython-input-38-cd7ca12b34a7>\u001b[0m in \u001b[0;36m<cell line: 1>\u001b[0;34m()\u001b[0m\n\u001b[0;32m----> 1\u001b[0;31m \u001b[0mplt\u001b[0m\u001b[0;34m.\u001b[0m\u001b[0mscatter\u001b[0m\u001b[0;34m(\u001b[0m\u001b[0mx_test\u001b[0m\u001b[0;34m,\u001b[0m \u001b[0my_test\u001b[0m\u001b[0;34m,\u001b[0m  \u001b[0mcolor\u001b[0m\u001b[0;34m=\u001b[0m\u001b[0;34m'gray'\u001b[0m\u001b[0;34m)\u001b[0m\u001b[0;34m\u001b[0m\u001b[0;34m\u001b[0m\u001b[0m\n\u001b[0m\u001b[1;32m      2\u001b[0m \u001b[0mplt\u001b[0m\u001b[0;34m.\u001b[0m\u001b[0mplot\u001b[0m\u001b[0;34m(\u001b[0m\u001b[0mx_test\u001b[0m\u001b[0;34m,\u001b[0m \u001b[0my_pred\u001b[0m\u001b[0;34m,\u001b[0m \u001b[0mcolor\u001b[0m\u001b[0;34m=\u001b[0m\u001b[0;34m'red'\u001b[0m\u001b[0;34m,\u001b[0m \u001b[0mlinewidth\u001b[0m\u001b[0;34m=\u001b[0m\u001b[0;36m2\u001b[0m\u001b[0;34m)\u001b[0m\u001b[0;34m\u001b[0m\u001b[0;34m\u001b[0m\u001b[0m\n\u001b[1;32m      3\u001b[0m \u001b[0mplt\u001b[0m\u001b[0;34m.\u001b[0m\u001b[0mshow\u001b[0m\u001b[0;34m(\u001b[0m\u001b[0;34m)\u001b[0m\u001b[0;34m\u001b[0m\u001b[0;34m\u001b[0m\u001b[0m\n",
      "\u001b[0;32m/shared-libs/python3.9/py/lib/python3.9/site-packages/matplotlib/pyplot.py\u001b[0m in \u001b[0;36mscatter\u001b[0;34m(x, y, s, c, marker, cmap, norm, vmin, vmax, alpha, linewidths, edgecolors, plotnonfinite, data, **kwargs)\u001b[0m\n\u001b[1;32m   2805\u001b[0m         \u001b[0mvmin\u001b[0m\u001b[0;34m=\u001b[0m\u001b[0;32mNone\u001b[0m\u001b[0;34m,\u001b[0m \u001b[0mvmax\u001b[0m\u001b[0;34m=\u001b[0m\u001b[0;32mNone\u001b[0m\u001b[0;34m,\u001b[0m \u001b[0malpha\u001b[0m\u001b[0;34m=\u001b[0m\u001b[0;32mNone\u001b[0m\u001b[0;34m,\u001b[0m \u001b[0mlinewidths\u001b[0m\u001b[0;34m=\u001b[0m\u001b[0;32mNone\u001b[0m\u001b[0;34m,\u001b[0m \u001b[0;34m*\u001b[0m\u001b[0;34m,\u001b[0m\u001b[0;34m\u001b[0m\u001b[0;34m\u001b[0m\u001b[0m\n\u001b[1;32m   2806\u001b[0m         edgecolors=None, plotnonfinite=False, data=None, **kwargs):\n\u001b[0;32m-> 2807\u001b[0;31m     __ret = gca().scatter(\n\u001b[0m\u001b[1;32m   2808\u001b[0m         \u001b[0mx\u001b[0m\u001b[0;34m,\u001b[0m \u001b[0my\u001b[0m\u001b[0;34m,\u001b[0m \u001b[0ms\u001b[0m\u001b[0;34m=\u001b[0m\u001b[0ms\u001b[0m\u001b[0;34m,\u001b[0m \u001b[0mc\u001b[0m\u001b[0;34m=\u001b[0m\u001b[0mc\u001b[0m\u001b[0;34m,\u001b[0m \u001b[0mmarker\u001b[0m\u001b[0;34m=\u001b[0m\u001b[0mmarker\u001b[0m\u001b[0;34m,\u001b[0m \u001b[0mcmap\u001b[0m\u001b[0;34m=\u001b[0m\u001b[0mcmap\u001b[0m\u001b[0;34m,\u001b[0m \u001b[0mnorm\u001b[0m\u001b[0;34m=\u001b[0m\u001b[0mnorm\u001b[0m\u001b[0;34m,\u001b[0m\u001b[0;34m\u001b[0m\u001b[0;34m\u001b[0m\u001b[0m\n\u001b[1;32m   2809\u001b[0m         \u001b[0mvmin\u001b[0m\u001b[0;34m=\u001b[0m\u001b[0mvmin\u001b[0m\u001b[0;34m,\u001b[0m \u001b[0mvmax\u001b[0m\u001b[0;34m=\u001b[0m\u001b[0mvmax\u001b[0m\u001b[0;34m,\u001b[0m \u001b[0malpha\u001b[0m\u001b[0;34m=\u001b[0m\u001b[0malpha\u001b[0m\u001b[0;34m,\u001b[0m \u001b[0mlinewidths\u001b[0m\u001b[0;34m=\u001b[0m\u001b[0mlinewidths\u001b[0m\u001b[0;34m,\u001b[0m\u001b[0;34m\u001b[0m\u001b[0;34m\u001b[0m\u001b[0m\n",
      "\u001b[0;32m/shared-libs/python3.9/py/lib/python3.9/site-packages/matplotlib/__init__.py\u001b[0m in \u001b[0;36minner\u001b[0;34m(ax, data, *args, **kwargs)\u001b[0m\n\u001b[1;32m   1410\u001b[0m     \u001b[0;32mdef\u001b[0m \u001b[0minner\u001b[0m\u001b[0;34m(\u001b[0m\u001b[0max\u001b[0m\u001b[0;34m,\u001b[0m \u001b[0;34m*\u001b[0m\u001b[0margs\u001b[0m\u001b[0;34m,\u001b[0m \u001b[0mdata\u001b[0m\u001b[0;34m=\u001b[0m\u001b[0;32mNone\u001b[0m\u001b[0;34m,\u001b[0m \u001b[0;34m**\u001b[0m\u001b[0mkwargs\u001b[0m\u001b[0;34m)\u001b[0m\u001b[0;34m:\u001b[0m\u001b[0;34m\u001b[0m\u001b[0;34m\u001b[0m\u001b[0m\n\u001b[1;32m   1411\u001b[0m         \u001b[0;32mif\u001b[0m \u001b[0mdata\u001b[0m \u001b[0;32mis\u001b[0m \u001b[0;32mNone\u001b[0m\u001b[0;34m:\u001b[0m\u001b[0;34m\u001b[0m\u001b[0;34m\u001b[0m\u001b[0m\n\u001b[0;32m-> 1412\u001b[0;31m             \u001b[0;32mreturn\u001b[0m \u001b[0mfunc\u001b[0m\u001b[0;34m(\u001b[0m\u001b[0max\u001b[0m\u001b[0;34m,\u001b[0m \u001b[0;34m*\u001b[0m\u001b[0mmap\u001b[0m\u001b[0;34m(\u001b[0m\u001b[0msanitize_sequence\u001b[0m\u001b[0;34m,\u001b[0m \u001b[0margs\u001b[0m\u001b[0;34m)\u001b[0m\u001b[0;34m,\u001b[0m \u001b[0;34m**\u001b[0m\u001b[0mkwargs\u001b[0m\u001b[0;34m)\u001b[0m\u001b[0;34m\u001b[0m\u001b[0;34m\u001b[0m\u001b[0m\n\u001b[0m\u001b[1;32m   1413\u001b[0m \u001b[0;34m\u001b[0m\u001b[0m\n\u001b[1;32m   1414\u001b[0m         \u001b[0mbound\u001b[0m \u001b[0;34m=\u001b[0m \u001b[0mnew_sig\u001b[0m\u001b[0;34m.\u001b[0m\u001b[0mbind\u001b[0m\u001b[0;34m(\u001b[0m\u001b[0max\u001b[0m\u001b[0;34m,\u001b[0m \u001b[0;34m*\u001b[0m\u001b[0margs\u001b[0m\u001b[0;34m,\u001b[0m \u001b[0;34m**\u001b[0m\u001b[0mkwargs\u001b[0m\u001b[0;34m)\u001b[0m\u001b[0;34m\u001b[0m\u001b[0;34m\u001b[0m\u001b[0m\n",
      "\u001b[0;32m/shared-libs/python3.9/py/lib/python3.9/site-packages/matplotlib/axes/_axes.py\u001b[0m in \u001b[0;36mscatter\u001b[0;34m(self, x, y, s, c, marker, cmap, norm, vmin, vmax, alpha, linewidths, edgecolors, plotnonfinite, **kwargs)\u001b[0m\n\u001b[1;32m   4367\u001b[0m         \u001b[0my\u001b[0m \u001b[0;34m=\u001b[0m \u001b[0mnp\u001b[0m\u001b[0;34m.\u001b[0m\u001b[0mma\u001b[0m\u001b[0;34m.\u001b[0m\u001b[0mravel\u001b[0m\u001b[0;34m(\u001b[0m\u001b[0my\u001b[0m\u001b[0;34m)\u001b[0m\u001b[0;34m\u001b[0m\u001b[0;34m\u001b[0m\u001b[0m\n\u001b[1;32m   4368\u001b[0m         \u001b[0;32mif\u001b[0m \u001b[0mx\u001b[0m\u001b[0;34m.\u001b[0m\u001b[0msize\u001b[0m \u001b[0;34m!=\u001b[0m \u001b[0my\u001b[0m\u001b[0;34m.\u001b[0m\u001b[0msize\u001b[0m\u001b[0;34m:\u001b[0m\u001b[0;34m\u001b[0m\u001b[0;34m\u001b[0m\u001b[0m\n\u001b[0;32m-> 4369\u001b[0;31m             \u001b[0;32mraise\u001b[0m \u001b[0mValueError\u001b[0m\u001b[0;34m(\u001b[0m\u001b[0;34m\"x and y must be the same size\"\u001b[0m\u001b[0;34m)\u001b[0m\u001b[0;34m\u001b[0m\u001b[0;34m\u001b[0m\u001b[0m\n\u001b[0m\u001b[1;32m   4370\u001b[0m \u001b[0;34m\u001b[0m\u001b[0m\n\u001b[1;32m   4371\u001b[0m         \u001b[0;32mif\u001b[0m \u001b[0ms\u001b[0m \u001b[0;32mis\u001b[0m \u001b[0;32mNone\u001b[0m\u001b[0;34m:\u001b[0m\u001b[0;34m\u001b[0m\u001b[0;34m\u001b[0m\u001b[0m\n",
      "\u001b[0;31mValueError\u001b[0m: x and y must be the same size"
     ]
    },
    {
     "data": {
      "text/plain": "<Figure size 432x288 with 1 Axes>",
      "image/png": "[encoded data removed]"
     },
     "metadata": {
      "needs_background": "light",
      "image/png": {
       "width": 380,
       "height": 252
      }
     },
     "output_type": "display_data"
    }
   ],
   "execution_count": null
  },
  {
   "cell_type": "code",
   "metadata": {
    "tags": [],
    "deepnote_to_be_reexecuted": true,
    "source_hash": "6340e074",
    "execution_start": 1650236679522,
    "execution_millis": 227,
    "cell_id": "00025-9677d784-d3db-4c69-aae8-6a25b533ea6a",
    "deepnote_cell_type": "code",
    "deepnote_cell_height": 467.1875,
    "deepnote_output_heights": [
     21.1875,
     264
    ]
   },
   "source": "# Threshold with only lineups that have played > 30 minutes together\nORTG_2 = ORTG[ORTG[\"Time\"] > 30*60] \nORTG_2\nsns.histplot(data=ORTG_2['GP'],bins= 15)",
   "execution_count": null,
   "outputs": [
    {
     "output_type": "execute_result",
     "execution_count": 24,
     "data": {
      "text/plain": "<AxesSubplot:xlabel='GP', ylabel='Count'>"
     },
     "metadata": {}
    },
    {
     "data": {
      "text/plain": "<Figure size 432x288 with 1 Axes>",
      "image/png": "[encoded data removed]"
     },
     "metadata": {
      "needs_background": "light",
      "image/png": {
       "width": 382,
       "height": 262
      }
     },
     "output_type": "display_data"
    }
   ]
  },
  {
   "cell_type": "code",
   "metadata": {
    "tags": [],
    "deepnote_to_be_reexecuted": true,
    "source_hash": "28818297",
    "execution_start": 1650236679767,
    "execution_millis": 278,
    "cell_id": "00026-32b08b5a-1bb1-4fbb-8a75-08c92fae1630",
    "deepnote_cell_type": "code",
    "deepnote_cell_height": 413.1875,
    "deepnote_output_heights": [
     21.1875,
     264
    ]
   },
   "source": "sns.histplot(data=ORTG_2['Time'],bins= 15)",
   "execution_count": null,
   "outputs": [
    {
     "output_type": "execute_result",
     "execution_count": 25,
     "data": {
      "text/plain": "<AxesSubplot:xlabel='Time', ylabel='Count'>"
     },
     "metadata": {}
    },
    {
     "data": {
      "text/plain": "<Figure size 432x288 with 1 Axes>",
      "image/png": "[encoded data removed]"
     },
     "metadata": {
      "needs_background": "light",
      "image/png": {
       "width": 389,
       "height": 262
      }
     },
     "output_type": "display_data"
    }
   ]
  },
  {
   "cell_type": "code",
   "metadata": {
    "tags": [],
    "deepnote_to_be_reexecuted": true,
    "source_hash": "d6db9157",
    "execution_start": 1650236680048,
    "execution_millis": 10,
    "cell_id": "00027-45d1eb17-8199-4604-9cba-613bd2b3560b",
    "deepnote_cell_type": "code",
    "deepnote_cell_height": 271.75,
    "deepnote_output_heights": [
     174.75
    ]
   },
   "source": "ORTG_2['Time'].describe()",
   "execution_count": null,
   "outputs": [
    {
     "output_type": "execute_result",
     "execution_count": 26,
     "data": {
      "text/plain": "count      264.000000\nmean      4285.090909\nstd       3797.586584\nmin       1805.000000\n25%       2210.750000\n50%       2895.500000\n75%       4377.000000\nmax      26666.000000\nName: Time, dtype: float64"
     },
     "metadata": {}
    }
   ]
  },
  {
   "cell_type": "code",
   "metadata": {
    "tags": [],
    "deepnote_to_be_reexecuted": true,
    "source_hash": "97828be8",
    "execution_start": 1650236680072,
    "execution_millis": 569,
    "cell_id": "00028-ed5f8440-10fa-4af0-8357-556c25e6ad8b",
    "deepnote_cell_type": "code",
    "deepnote_cell_height": 413.1875,
    "deepnote_output_heights": [
     21.1875,
     264
    ]
   },
   "source": "sns.histplot(data=ORTG_2['ORTG'])",
   "execution_count": null,
   "outputs": [
    {
     "output_type": "execute_result",
     "execution_count": 27,
     "data": {
      "text/plain": "<AxesSubplot:xlabel='ORTG', ylabel='Count'>"
     },
     "metadata": {}
    },
    {
     "data": {
      "text/plain": "<Figure size 432x288 with 1 Axes>",
      "image/png": "[encoded data removed]"
     },
     "metadata": {
      "needs_background": "light",
      "image/png": {
       "width": 382,
       "height": 262
      }
     },
     "output_type": "display_data"
    }
   ]
  },
  {
   "cell_type": "code",
   "metadata": {
    "tags": [],
    "deepnote_to_be_reexecuted": true,
    "source_hash": "314c109a",
    "execution_start": 1650236680334,
    "execution_millis": 308,
    "cell_id": "00029-2d36fb7f-7d11-4d54-b32f-93639e65942c",
    "deepnote_cell_type": "code",
    "deepnote_cell_height": 436
   },
   "source": "ORTG_2.corr()",
   "execution_count": null,
   "outputs": [
    {
     "output_type": "execute_result",
     "execution_count": 28,
     "data": {
      "application/vnd.deepnote.dataframe.v3+json": {
       "column_count": 6,
       "row_count": 6,
       "columns": [
        {
         "name": "FloorLineupId_Offense",
         "dtype": "float64",
         "stats": {
          "unique_count": 6,
          "nan_count": 0,
          "min": "-0.24100344101151538",
          "max": "1.0",
          "histogram": [
           {
            "bin_start": -0.24100344101151538,
            "bin_end": -0.11690309691036385,
            "count": 3
           },
           {
            "bin_start": -0.11690309691036385,
            "bin_end": 0.007197247190787681,
            "count": 1
           },
           {
            "bin_start": 0.007197247190787681,
            "bin_end": 0.1312975912919392,
            "count": 0
           },
           {
            "bin_start": 0.1312975912919392,
            "bin_end": 0.25539793539309075,
            "count": 1
           },
           {
            "bin_start": 0.25539793539309075,
            "bin_end": 0.3794982794942423,
            "count": 0
           },
           {
            "bin_start": 0.3794982794942423,
            "bin_end": 0.5035986235953938,
            "count": 0
           },
           {
            "bin_start": 0.5035986235953938,
            "bin_end": 0.6276989676965453,
            "count": 0
           },
           {
            "bin_start": 0.6276989676965453,
            "bin_end": 0.7517993117976969,
            "count": 0
           },
           {
            "bin_start": 0.7517993117976969,
            "bin_end": 0.8758996558988483,
            "count": 0
           },
           {
            "bin_start": 0.8758996558988483,
            "bin_end": 1,
            "count": 1
           }
          ]
         }
        },
        {
         "name": "ORTG",
         "dtype": "float64",
         "stats": {
          "unique_count": 6,
          "nan_count": 0,
          "min": "0.06214416346460157",
          "max": "1.0",
          "histogram": [
           {
            "bin_start": 0.06214416346460157,
            "bin_end": 0.1559297471181414,
            "count": 3
           },
           {
            "bin_start": 0.1559297471181414,
            "bin_end": 0.24971533077168123,
            "count": 2
           },
           {
            "bin_start": 0.24971533077168123,
            "bin_end": 0.34350091442522107,
            "count": 0
           },
           {
            "bin_start": 0.34350091442522107,
            "bin_end": 0.4372864980787609,
            "count": 0
           },
           {
            "bin_start": 0.4372864980787609,
            "bin_end": 0.5310720817323008,
            "count": 0
           },
           {
            "bin_start": 0.5310720817323008,
            "bin_end": 0.6248576653858406,
            "count": 0
           },
           {
            "bin_start": 0.6248576653858406,
            "bin_end": 0.7186432490393805,
            "count": 0
           },
           {
            "bin_start": 0.7186432490393805,
            "bin_end": 0.8124288326929203,
            "count": 0
           },
           {
            "bin_start": 0.8124288326929203,
            "bin_end": 0.9062144163464602,
            "count": 0
           },
           {
            "bin_start": 0.9062144163464602,
            "bin_end": 1,
            "count": 1
           }
          ]
         }
        },
        {
         "name": "Points",
         "dtype": "float64",
         "stats": {
          "unique_count": 6,
          "nan_count": 0,
          "min": "-0.21951907168302778",
          "max": "1.0",
          "histogram": [
           {
            "bin_start": -0.21951907168302778,
            "bin_end": -0.09756716451472501,
            "count": 1
           },
           {
            "bin_start": -0.09756716451472501,
            "bin_end": 0.024384742653577762,
            "count": 0
           },
           {
            "bin_start": 0.024384742653577762,
            "bin_end": 0.14633664982188052,
            "count": 1
           },
           {
            "bin_start": 0.14633664982188052,
            "bin_end": 0.2682885569901833,
            "count": 0
           },
           {
            "bin_start": 0.2682885569901833,
            "bin_end": 0.3902404641584861,
            "count": 0
           },
           {
            "bin_start": 0.3902404641584861,
            "bin_end": 0.5121923713267889,
            "count": 0
           },
           {
            "bin_start": 0.5121923713267889,
            "bin_end": 0.6341442784950917,
            "count": 0
           },
           {
            "bin_start": 0.6341442784950917,
            "bin_end": 0.7560961856633944,
            "count": 1
           },
           {
            "bin_start": 0.7560961856633944,
            "bin_end": 0.8780480928316972,
            "count": 0
           },
           {
            "bin_start": 0.8780480928316972,
            "bin_end": 1,
            "count": 3
           }
          ]
         }
        },
        {
         "name": "Possession",
         "dtype": "float64",
         "stats": {
          "unique_count": 6,
          "nan_count": 0,
          "min": "-0.2298289947841842",
          "max": "1.0",
          "histogram": [
           {
            "bin_start": -0.2298289947841842,
            "bin_end": -0.10684609530576578,
            "count": 1
           },
           {
            "bin_start": -0.10684609530576578,
            "bin_end": 0.016136804172652647,
            "count": 0
           },
           {
            "bin_start": 0.016136804172652647,
            "bin_end": 0.13911970365107104,
            "count": 1
           },
           {
            "bin_start": 0.13911970365107104,
            "bin_end": 0.2621026031294895,
            "count": 0
           },
           {
            "bin_start": 0.2621026031294895,
            "bin_end": 0.38508550260790797,
            "count": 0
           },
           {
            "bin_start": 0.38508550260790797,
            "bin_end": 0.5080684020863263,
            "count": 0
           },
           {
            "bin_start": 0.5080684020863263,
            "bin_end": 0.6310513015647448,
            "count": 0
           },
           {
            "bin_start": 0.6310513015647448,
            "bin_end": 0.7540342010431632,
            "count": 1
           },
           {
            "bin_start": 0.7540342010431632,
            "bin_end": 0.8770171005215815,
            "count": 0
           },
           {
            "bin_start": 0.8770171005215815,
            "bin_end": 1,
            "count": 3
           }
          ]
         }
        },
        {
         "name": "GP",
         "dtype": "float64",
         "stats": {
          "unique_count": 6,
          "nan_count": 0,
          "min": "-0.09146617976034938",
          "max": "1.0",
          "histogram": [
           {
            "bin_start": -0.09146617976034938,
            "bin_end": 0.01768043821568556,
            "count": 1
           },
           {
            "bin_start": 0.01768043821568556,
            "bin_end": 0.1268270561917205,
            "count": 0
           },
           {
            "bin_start": 0.1268270561917205,
            "bin_end": 0.23597367416775544,
            "count": 1
           },
           {
            "bin_start": 0.23597367416775544,
            "bin_end": 0.34512029214379036,
            "count": 0
           },
           {
            "bin_start": 0.34512029214379036,
            "bin_end": 0.4542669101198253,
            "count": 0
           },
           {
            "bin_start": 0.4542669101198253,
            "bin_end": 0.5634135280958603,
            "count": 0
           },
           {
            "bin_start": 0.5634135280958603,
            "bin_end": 0.6725601460718951,
            "count": 0
           },
           {
            "bin_start": 0.6725601460718951,
            "bin_end": 0.78170676404793,
            "count": 3
           },
           {
            "bin_start": 0.78170676404793,
            "bin_end": 0.890853382023965,
            "count": 0
           },
           {
            "bin_start": 0.890853382023965,
            "bin_end": 1,
            "count": 1
           }
          ]
         }
        },
        {
         "name": "Time",
         "dtype": "float64",
         "stats": {
          "unique_count": 6,
          "nan_count": 0,
          "min": "-0.24100344101151538",
          "max": "1.0",
          "histogram": [
           {
            "bin_start": -0.24100344101151538,
            "bin_end": -0.11690309691036385,
            "count": 1
           },
           {
            "bin_start": -0.11690309691036385,
            "bin_end": 0.007197247190787681,
            "count": 0
           },
           {
            "bin_start": 0.007197247190787681,
            "bin_end": 0.1312975912919392,
            "count": 1
           },
           {
            "bin_start": 0.1312975912919392,
            "bin_end": 0.25539793539309075,
            "count": 0
           },
           {
            "bin_start": 0.25539793539309075,
            "bin_end": 0.3794982794942423,
            "count": 0
           },
           {
            "bin_start": 0.3794982794942423,
            "bin_end": 0.5035986235953938,
            "count": 0
           },
           {
            "bin_start": 0.5035986235953938,
            "bin_end": 0.6276989676965453,
            "count": 0
           },
           {
            "bin_start": 0.6276989676965453,
            "bin_end": 0.7517993117976969,
            "count": 1
           },
           {
            "bin_start": 0.7517993117976969,
            "bin_end": 0.8758996558988483,
            "count": 0
           },
           {
            "bin_start": 0.8758996558988483,
            "bin_end": 1,
            "count": 3
           }
          ]
         }
        },
        {
         "name": "_deepnote_index_column",
         "dtype": "object"
        }
       ],
       "rows": [
        {
         "FloorLineupId_Offense": 1,
         "ORTG": 0.16362686359312975,
         "Points": -0.21951907168302778,
         "Possession": -0.2298289947841842,
         "GP": -0.09146617976034938,
         "Time": -0.24100344101151538,
         "_deepnote_index_column": "FloorLineupId_Offense"
        },
        {
         "FloorLineupId_Offense": 0.16362686359312975,
         "ORTG": 1,
         "Points": 0.14325102134080528,
         "Possession": 0.08178797093936303,
         "GP": 0.19057967838948395,
         "Time": 0.06214416346460157,
         "_deepnote_index_column": "ORTG"
        },
        {
         "FloorLineupId_Offense": -0.21951907168302778,
         "ORTG": 0.14325102134080528,
         "Points": 1,
         "Possession": 0.9971646694779599,
         "GP": 0.720706108392153,
         "Time": 0.9891865776158484,
         "_deepnote_index_column": "Points"
        },
        {
         "FloorLineupId_Offense": -0.2298289947841842,
         "ORTG": 0.08178797093936303,
         "Points": 0.9971646694779599,
         "Possession": 1,
         "GP": 0.7139056473097711,
         "Time": 0.9942515090420434,
         "_deepnote_index_column": "Possession"
        },
        {
         "FloorLineupId_Offense": -0.09146617976034938,
         "ORTG": 0.19057967838948395,
         "Points": 0.720706108392153,
         "Possession": 0.7139056473097711,
         "GP": 1,
         "Time": 0.7031385377642482,
         "_deepnote_index_column": "GP"
        },
        {
         "FloorLineupId_Offense": -0.24100344101151538,
         "ORTG": 0.06214416346460157,
         "Points": 0.9891865776158484,
         "Possession": 0.9942515090420434,
         "GP": 0.7031385377642482,
         "Time": 1,
         "_deepnote_index_column": "Time"
        }
       ]
      },
      "text/plain": "                       FloorLineupId_Offense      ORTG    Points  Possession  \\\nFloorLineupId_Offense               1.000000  0.163627 -0.219519   -0.229829   \nORTG                                0.163627  1.000000  0.143251    0.081788   \nPoints                             -0.219519  0.143251  1.000000    0.997165   \nPossession                         -0.229829  0.081788  0.997165    1.000000   \nGP                                 -0.091466  0.190580  0.720706    0.713906   \nTime                               -0.241003  0.062144  0.989187    0.994252   \n\n                             GP      Time  \nFloorLineupId_Offense -0.091466 -0.241003  \nORTG                   0.190580  0.062144  \nPoints                 0.720706  0.989187  \nPossession             0.713906  0.994252  \nGP                     1.000000  0.703139  \nTime                   0.703139  1.000000  ",
      "text/html": "<div>\n<style scoped>\n    .dataframe tbody tr th:only-of-type {\n        vertical-align: middle;\n    }\n\n    .dataframe tbody tr th {\n        vertical-align: top;\n    }\n\n    .dataframe thead th {\n        text-align: right;\n    }\n</style>\n<table border=\"1\" class=\"dataframe\">\n  <thead>\n    <tr style=\"text-align: right;\">\n      <th></th>\n      <th>FloorLineupId_Offense</th>\n      <th>ORTG</th>\n      <th>Points</th>\n      <th>Possession</th>\n      <th>GP</th>\n      <th>Time</th>\n    </tr>\n  </thead>\n  <tbody>\n    <tr>\n      <th>FloorLineupId_Offense</th>\n      <td>1.000000</td>\n      <td>0.163627</td>\n      <td>-0.219519</td>\n      <td>-0.229829</td>\n      <td>-0.091466</td>\n      <td>-0.241003</td>\n    </tr>\n    <tr>\n      <th>ORTG</th>\n      <td>0.163627</td>\n      <td>1.000000</td>\n      <td>0.143251</td>\n      <td>0.081788</td>\n      <td>0.190580</td>\n      <td>0.062144</td>\n    </tr>\n    <tr>\n      <th>Points</th>\n      <td>-0.219519</td>\n      <td>0.143251</td>\n      <td>1.000000</td>\n      <td>0.997165</td>\n      <td>0.720706</td>\n      <td>0.989187</td>\n    </tr>\n    <tr>\n      <th>Possession</th>\n      <td>-0.229829</td>\n      <td>0.081788</td>\n      <td>0.997165</td>\n      <td>1.000000</td>\n      <td>0.713906</td>\n      <td>0.994252</td>\n    </tr>\n    <tr>\n      <th>GP</th>\n      <td>-0.091466</td>\n      <td>0.190580</td>\n      <td>0.720706</td>\n      <td>0.713906</td>\n      <td>1.000000</td>\n      <td>0.703139</td>\n    </tr>\n    <tr>\n      <th>Time</th>\n      <td>-0.241003</td>\n      <td>0.062144</td>\n      <td>0.989187</td>\n      <td>0.994252</td>\n      <td>0.703139</td>\n      <td>1.000000</td>\n    </tr>\n  </tbody>\n</table>\n</div>"
     },
     "metadata": {}
    }
   ]
  },
  {
   "cell_type": "code",
   "metadata": {
    "tags": [],
    "deepnote_to_be_reexecuted": true,
    "source_hash": "2c4bf3fb",
    "execution_start": 1650236680357,
    "execution_millis": 70,
    "cell_id": "00030-c867fff4-3e71-4cc2-88b6-d42c93146562",
    "deepnote_cell_type": "code",
    "deepnote_cell_height": 81
   },
   "source": "from sklearn.feature_selection import SelectKBest",
   "execution_count": null,
   "outputs": []
  },
  {
   "cell_type": "code",
   "metadata": {
    "tags": [],
    "deepnote_to_be_reexecuted": true,
    "source_hash": "d999ebdc",
    "execution_start": 1650239315995,
    "execution_millis": 916,
    "cell_id": "00031-78618b83-cec9-4ff3-aeb0-a79228464e5c",
    "deepnote_cell_type": "code",
    "deepnote_cell_height": 1684,
    "deepnote_output_heights": [
     null,
     250
    ]
   },
   "source": "#feature selection\n\n\n\nimport sklearn\nfrom sklearn.feature_selection import VarianceThreshold\n#from sklearn.feature_selection import feature_selection \n#from feature_selection import SelectKBest \nfrom sklearn.feature_selection import chi2 \nfrom matplotlib import pyplot \n#import f_regression\n\ndef feature_selection(x_train, y_train, x_test):\n    #score each feature based on its regression score\n    f = sklearn.feature_selection.SelectKBest(score_func=f_regression, k='all')\n    f.fit(x_train, y_train)\n    x_train_f = f.transform(x_train)\n    print(x_train_f)\n    x_test_f = f.transform(x_test)\n    return x_train_f, x_test_f, f\n\nx_train_fs, x_test_fs, fs = feature_selection(x_train, y_train, x_test)\n\nprint(fs)\nfor i in range(len(fs.scores_)):\n    \n\tprint('Feature %str: %f' % (fs.feature_names_in_[i], fs.scores_[i]))\n    \n# plot the scores\npyplot.bar([i for i in range(len(fs.scores_))], fs.scores_)\npyplot.show()\n\n\n\n\n\n\n\n\n",
   "execution_count": null,
   "outputs": [
    {
     "name": "stdout",
     "text": "[[ 7.20000e+01  2.00000e+00  1.88517e+03 ... -1.22600e+00 -2.40000e-01\n  -7.50000e-01]\n [ 6.10000e+01  1.00000e+00  6.93510e+02 ...  2.49500e+00 -3.70000e-01\n   3.70000e-01]\n [ 7.00000e+01  1.70000e+01  1.94710e+03 ...  1.38500e+00  1.00000e-02\n  -9.10000e-01]\n ...\n [ 7.20000e+01  5.00000e+00  1.00318e+03 ...  4.68000e-01  8.58000e+00\n  -9.70000e-01]\n [ 5.80000e+01  5.80000e+01  1.85670e+03 ...  1.99200e+00  5.75000e+00\n   9.30000e-01]\n [ 7.60000e+01  7.00000e+01  1.76632e+03 ...  1.28200e+00  1.12000e+00\n  -1.14000e+00]]\nSelectKBest(k='all', score_func=<function f_regression at 0x7fa785647ee0>)\nFeature GP_Player1tr: 0.736078\nFeature GS_Player1tr: 4.621562\nFeature MP_Player1tr: 3.240026\nFeature FGM_Player1tr: 3.472147\nFeature FGA_Player1tr: 3.383792\nFeature FG%_Player1tr: 1.344824\nFeature 2FGM_Player1tr: 1.686411\nFeature 2FGA_Player1tr: 1.425066\nFeature 2FG%_Player1tr: 4.640169\nFeature 3FGM_Player1tr: 4.876698\nFeature 3FGA_Player1tr: 4.717677\nFeature 3FG%_Player1tr: 0.988033\nFeature eFG%_Player1tr: 4.982871\nFeature TS%_Player1tr: 4.392277\nFeature FTM_Player1tr: 2.086441\nFeature FTA_Player1tr: 1.281033\nFeature FT%_Player1tr: 1.146397\nFeature OR_Player1tr: 1.283564\nFeature DR_Player1tr: 1.933638\nFeature AST_Player1tr: 4.022600\nFeature STL_Player1tr: 4.411911\nFeature BLK_Player1tr: 5.810784\nFeature TOV_Player1tr: 0.244772\nFeature PF_Player1tr: 0.444336\nFeature PTS_Player1tr: 3.831501\nFeature BPM_O_Player1tr: 13.289802\nFeature BPM_D_Player1tr: 3.216392\nFeature EPM_O_Player1tr: 18.772378\nFeature EPM_D_Player1tr: 10.344535\nFeature RPM_O_Player1tr: 8.733671\nFeature RPM_D_Player1tr: 1.880169\nFeature GP_Player2tr: 2.160558\nFeature GS_Player2tr: 4.680804\nFeature MP_Player2tr: 5.119855\nFeature FGM_Player2tr: 7.615405\nFeature FGA_Player2tr: 5.709212\nFeature FG%_Player2tr: 5.772170\nFeature 2FGM_Player2tr: 6.905827\nFeature 2FGA_Player2tr: 5.141057\nFeature 2FG%_Player2tr: 11.000683\nFeature 3FGM_Player2tr: 3.048241\nFeature 3FGA_Player2tr: 2.990339\nFeature 3FG%_Player2tr: 1.138808\nFeature eFG%_Player2tr: 11.558828\nFeature TS%_Player2tr: 13.714027\nFeature FTM_Player2tr: 4.890050\nFeature FTA_Player2tr: 4.306986\nFeature FT%_Player2tr: 11.267193\nFeature OR_Player2tr: 2.738417\nFeature DR_Player2tr: 5.701180\nFeature AST_Player2tr: 3.557348\nFeature STL_Player2tr: 2.513349\nFeature BLK_Player2tr: 3.206310\nFeature TOV_Player2tr: 2.010533\nFeature PF_Player2tr: 1.293966\nFeature PTS_Player2tr: 7.217464\nFeature BPM_O_Player2tr: 20.613051\nFeature BPM_D_Player2tr: 2.382842\nFeature EPM_O_Player2tr: 23.830996\nFeature EPM_D_Player2tr: 0.644151\nFeature RPM_O_Player2tr: 15.259635\nFeature RPM_D_Player2tr: 1.124668\nFeature GP_Player3tr: 12.432500\nFeature GS_Player3tr: 9.310493\nFeature MP_Player3tr: 16.451578\nFeature FGM_Player3tr: 22.024487\nFeature FGA_Player3tr: 20.769309\nFeature FG%_Player3tr: 1.725459\nFeature 2FGM_Player3tr: 14.491693\nFeature 2FGA_Player3tr: 13.753916\nFeature 2FG%_Player3tr: 0.438222\nFeature 3FGM_Player3tr: 18.993620\nFeature 3FGA_Player3tr: 17.363932\nFeature 3FG%_Player3tr: 16.893787\nFeature eFG%_Player3tr: 9.627515\nFeature TS%_Player3tr: 12.366818\nFeature FTM_Player3tr: 12.059183\nFeature FTA_Player3tr: 10.594903\nFeature FT%_Player3tr: 9.182618\nFeature OR_Player3tr: 2.642820\nFeature DR_Player3tr: 14.102490\nFeature AST_Player3tr: 9.246891\nFeature STL_Player3tr: 8.126833\nFeature BLK_Player3tr: 2.715518\nFeature TOV_Player3tr: 13.697438\nFeature PF_Player3tr: 11.457187\nFeature PTS_Player3tr: 21.846170\nFeature BPM_O_Player3tr: 18.102846\nFeature BPM_D_Player3tr: 0.351900\nFeature EPM_O_Player3tr: 28.392805\nFeature EPM_D_Player3tr: 1.197502\nFeature RPM_O_Player3tr: 24.351133\nFeature RPM_D_Player3tr: 0.542377\nFeature GP_Player4tr: 0.806135\nFeature GS_Player4tr: 8.946189\nFeature MP_Player4tr: 6.475021\nFeature FGM_Player4tr: 13.311313\nFeature FGA_Player4tr: 9.733707\nFeature FG%_Player4tr: 11.070096\nFeature 2FGM_Player4tr: 15.258218\nFeature 2FGA_Player4tr: 13.156227\nFeature 2FG%_Player4tr: 15.094187\nFeature 3FGM_Player4tr: 1.946067\nFeature 3FGA_Player4tr: 1.627732\nFeature 3FG%_Player4tr: 1.084661\nFeature eFG%_Player4tr: 13.054003\nFeature TS%_Player4tr: 13.494188\nFeature FTM_Player4tr: 7.269185\nFeature FTA_Player4tr: 6.975906\nFeature FT%_Player4tr: 0.480906\nFeature OR_Player4tr: 5.305303\nFeature DR_Player4tr: 11.984577\nFeature AST_Player4tr: 13.030455\nFeature STL_Player4tr: 6.265029\nFeature BLK_Player4tr: 4.046424\nFeature TOV_Player4tr: 10.164471\nFeature PF_Player4tr: 6.063670\nFeature PTS_Player4tr: 11.276015\nFeature BPM_O_Player4tr: 21.943342\nFeature BPM_D_Player4tr: 3.935039\nFeature EPM_O_Player4tr: 28.572971\nFeature EPM_D_Player4tr: 11.305882\nFeature RPM_O_Player4tr: 20.361230\nFeature RPM_D_Player4tr: 1.051741\nFeature GP_Player5tr: 3.908642\nFeature GS_Player5tr: 9.657510\nFeature MP_Player5tr: 11.162134\nFeature FGM_Player5tr: 26.699356\nFeature FGA_Player5tr: 23.116338\nFeature FG%_Player5tr: 8.246999\nFeature 2FGM_Player5tr: 22.453102\nFeature 2FGA_Player5tr: 20.825204\nFeature 2FG%_Player5tr: 9.194281\nFeature 3FGM_Player5tr: 11.779242\nFeature 3FGA_Player5tr: 10.997522\nFeature 3FG%_Player5tr: 1.314055\nFeature eFG%_Player5tr: 10.351308\nFeature TS%_Player5tr: 13.402471\nFeature FTM_Player5tr: 21.959507\nFeature FTA_Player5tr: 21.056997\nFeature FT%_Player5tr: 2.825276\nFeature OR_Player5tr: 6.184716\nFeature DR_Player5tr: 12.421307\nFeature AST_Player5tr: 11.880779\nFeature STL_Player5tr: 3.712944\nFeature BLK_Player5tr: 1.503641\nFeature TOV_Player5tr: 18.478197\nFeature PF_Player5tr: 5.365312\nFeature PTS_Player5tr: 26.487218\nFeature BPM_O_Player5tr: 38.001869\nFeature BPM_D_Player5tr: 0.171134\nFeature EPM_O_Player5tr: 39.743328\nFeature EPM_D_Player5tr: 1.202613\nFeature RPM_O_Player5tr: 28.859397\nFeature RPM_D_Player5tr: 7.361076\n",
     "output_type": "stream"
    },
    {
     "data": {
      "text/plain": "<Figure size 432x288 with 1 Axes>",
      "image/png": "[encoded data removed]"
     },
     "metadata": {
      "needs_background": "light",
      "image/png": {
       "width": 374,
       "height": 248
      }
     },
     "output_type": "display_data"
    }
   ]
  },
  {
   "cell_type": "code",
   "metadata": {
    "cell_id": "a3214029b42740f9aa06f46307cc2703",
    "tags": [],
    "deepnote_to_be_reexecuted": true,
    "source_hash": "5db1f8bd",
    "execution_start": 1650239031198,
    "execution_millis": 9,
    "deepnote_cell_type": "code",
    "deepnote_cell_height": 194.96875,
    "deepnote_output_heights": [
     97.96875
    ]
   },
   "source": "player_box_2018.columns",
   "execution_count": null,
   "outputs": [
    {
     "output_type": "execute_result",
     "execution_count": 59,
     "data": {
      "text/plain": "Index(['PlayerId', 'Player', 'GP', 'GS', 'MP', 'FGM', 'FGA', 'FG%', '2FGM',\n       '2FGA', '2FG%', '3FGM', '3FGA', '3FG%', 'eFG%', 'TS%', 'FTM', 'FTA',\n       'FT%', 'OR', 'DR', 'AST', 'STL', 'BLK', 'TOV', 'PF', 'PTS', 'BPM_O',\n       'BPM_D', 'EPM_O', 'EPM_D', 'RPM_O', 'RPM_D'],\n      dtype='object')"
     },
     "metadata": {}
    }
   ]
  },
  {
   "cell_type": "code",
   "metadata": {
    "cell_id": "3fcb797845574bbfb0331c1d3c4dca33",
    "tags": [],
    "deepnote_to_be_reexecuted": true,
    "source_hash": "8a9d642d",
    "execution_start": 1650239165375,
    "execution_millis": 9,
    "deepnote_cell_type": "code",
    "deepnote_cell_height": 118.1875,
    "deepnote_output_heights": [
     21.1875
    ]
   },
   "source": "fs.feature_names_in_[0]",
   "execution_count": null,
   "outputs": [
    {
     "output_type": "execute_result",
     "execution_count": 63,
     "data": {
      "text/plain": "'GP_Player1'"
     },
     "metadata": {}
    }
   ]
  },
  {
   "cell_type": "code",
   "metadata": {
    "cell_id": "eb157370b5104ec4b17c477b4b50b161",
    "tags": [],
    "deepnote_to_be_reexecuted": true,
    "source_hash": "b623e53d",
    "deepnote_cell_type": "code",
    "deepnote_cell_height": 81
   },
   "source": "",
   "execution_count": null,
   "outputs": []
  },
  {
   "cell_type": "markdown",
   "source": "<a style='text-decoration:none;line-height:16px;display:flex;color:#5B5B62;padding:10px;justify-content:end;' href='https://deepnote.com?utm_source=created-in-deepnote-cell&projectId=5315bb81-8e59-4c5b-821c-2b4f7eb9c2e2' target=\"_blank\">\n<img alt='Created in deepnote.com' style='display:inline;max-height:16px;margin:0px;margin-right:7.5px;' src='data:image/svg+xml;base64,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' > </img>\nCreated in <span style='font-weight:600;margin-left:4px;'>Deepnote</span></a>",
   "metadata": {
    "tags": [],
    "created_in_deepnote_cell": true,
    "deepnote_cell_type": "markdown"
   }
  }
 ],
 "nbformat": 4,
 "nbformat_minor": 4,
 "metadata": {
  "deepnote": {
   "is_reactive": false
  },
  "deepnote_execution_queue": [],
  "deepnote_notebook_id": "779a6bea-a169-4b2b-8647-503b0ce8b229",
  "kernelspec": {
   "display_name": "Python 3",
   "language": "python",
   "name": "python3"
  },
  "language_info": {
   "codemirror_mode": {
    "name": "ipython",
    "version": 3
   },
   "file_extension": ".py",
   "mimetype": "text/x-python",
   "name": "python",
   "nbconvert_exporter": "python",
   "pygments_lexer": "ipython3",
   "version": "3.8.10"
  }
 }
}