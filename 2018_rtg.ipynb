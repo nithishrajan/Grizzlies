{
 "cells": [
  {
   "cell_type": "code",
   "metadata": {
    "tags": [],
    "cell_id": "78f4352b-e2df-459d-bf74-1d5bde32d90f",
    "deepnote_to_be_reexecuted": false,
    "source_hash": "44c3db4a",
    "execution_start": 1647572133349,
    "execution_millis": 0,
    "deepnote_cell_type": "code",
    "deepnote_cell_height": 117
   },
   "source": "import pandas as pd\nimport numpy as np\nimport json",
   "execution_count": null,
   "outputs": []
  },
  {
   "cell_type": "code",
   "metadata": {
    "cell_id": "5a1f1b2a-c326-4a71-8d9f-119843f9293f",
    "tags": [],
    "deepnote_to_be_reexecuted": false,
    "source_hash": "910f9174",
    "execution_start": 1647572196312,
    "execution_millis": 3385,
    "deepnote_table_state": {
     "pageSize": 10,
     "pageIndex": 199,
     "filters": [],
     "sortBy": []
    },
    "deepnote_table_loading": false,
    "deepnote_cell_type": "code",
    "deepnote_cell_height": 618
   },
   "source": "df = pd.read_csv('pbp_2018_withPossessions.csv')\ndf",
   "execution_count": null,
   "outputs": [
    {
     "output_type": "execute_result",
     "execution_count": 8,
     "data": {
      "application/vnd.deepnote.dataframe.v3+json": {
       "column_count": 24,
       "row_count": 594835,
       "columns": [
        {
         "name": "Unnamed: 0",
         "dtype": "int64"
        },
        {
         "name": "GameId",
         "dtype": "int64"
        },
        {
         "name": "SeasonYear",
         "dtype": "int64"
        },
        {
         "name": "PlayByPlayId",
         "dtype": "int64"
        },
        {
         "name": "EventNumber",
         "dtype": "int64"
        },
        {
         "name": "Period",
         "dtype": "int64"
        },
        {
         "name": "GameClock",
         "dtype": "float64"
        },
        {
         "name": "Description",
         "dtype": "object"
        },
        {
         "name": "EventTypeId",
         "dtype": "int64"
        },
        {
         "name": "EventType",
         "dtype": "object"
        },
        {
         "name": "ActionTypeIndex",
         "dtype": "int64"
        },
        {
         "name": "ActionTypeName",
         "dtype": "object"
        },
        {
         "name": "Points",
         "dtype": "int64"
        },
        {
         "name": "PlayLength_Seconds",
         "dtype": "int64"
        },
        {
         "name": "TeamScore_Offense",
         "dtype": "int64"
        },
        {
         "name": "TeamId_Offense",
         "dtype": "int64"
        },
        {
         "name": "TeamName_Offense",
         "dtype": "object"
        },
        {
         "name": "FloorLineupId_Offense",
         "dtype": "int64"
        },
        {
         "name": "TeamId_Defense",
         "dtype": "int64"
        },
        {
         "name": "TeamName_Defense",
         "dtype": "object"
        },
        {
         "name": "FloorLineupId_Defense",
         "dtype": "int64"
        },
        {
         "name": "Players_Offense",
         "dtype": "object"
        },
        {
         "name": "Players_Defense",
         "dtype": "object"
        },
        {
         "name": "Possession",
         "dtype": "int64"
        },
        {
         "name": "_deepnote_index_column",
         "dtype": "int64"
        }
       ],
       "rows": [
        {
         "Unnamed: 0": 1990,
         "GameId": 63946,
         "SeasonYear": 2018,
         "PlayByPlayId": 81294,
         "EventNumber": 650,
         "Period": 4,
         "GameClock": 0.52,
         "Description": "[DET] Jackson Jump Bank Shot. Missed",
         "EventTypeId": 2,
         "EventType": "Missed Shot",
         "ActionTypeIndex": 66,
         "ActionTypeName": "Jump Bank Shot",
         "Points": 0,
         "PlayLength_Seconds": 22,
         "TeamScore_Offense": 101,
         "TeamId_Offense": 24,
         "TeamName_Offense": "Detroit Pistons",
         "FloorLineupId_Offense": 9436,
         "TeamId_Defense": 7,
         "TeamName_Defense": "Brooklyn Nets",
         "FloorLineupId_Defense": 7413,
         "Players_Offense": "Andre Drummond, Ish Smith, Langston Galloway, Blake Griffin, Reggie Jackson",
         "Players_Defense": "Jared Dudley, Caris LeVert, Joe Harris, Spencer Dinwiddie, Jarrett Allen",
         "Possession": 0,
         "_deepnote_index_column": 1990
        },
        {
         "Unnamed: 0": 1991,
         "GameId": 63946,
         "SeasonYear": 2018,
         "PlayByPlayId": 81297,
         "EventNumber": 651,
         "Period": 4,
         "GameClock": 0.52,
         "Description": "[DET] Team Turnover . Shot Clock Turnover",
         "EventTypeId": 5,
         "EventType": "Turnover",
         "ActionTypeIndex": 11,
         "ActionTypeName": "Shot Clock Turnover",
         "Points": 0,
         "PlayLength_Seconds": 0,
         "TeamScore_Offense": 101,
         "TeamId_Offense": 24,
         "TeamName_Offense": "Detroit Pistons",
         "FloorLineupId_Offense": 9436,
         "TeamId_Defense": 7,
         "TeamName_Defense": "Brooklyn Nets",
         "FloorLineupId_Defense": 7413,
         "Players_Offense": "Andre Drummond, Ish Smith, Langston Galloway, Blake Griffin, Reggie Jackson",
         "Players_Defense": "Jared Dudley, Caris LeVert, Joe Harris, Spencer Dinwiddie, Jarrett Allen",
         "Possession": 1,
         "_deepnote_index_column": 1991
        },
        {
         "Unnamed: 0": 1992,
         "GameId": 63946,
         "SeasonYear": 2018,
         "PlayByPlayId": 81295,
         "EventNumber": 653,
         "Period": 4,
         "GameClock": 0.52,
         "Description": "[DET] Team Rebound",
         "EventTypeId": 4,
         "EventType": "Rebound",
         "ActionTypeIndex": 0,
         "ActionTypeName": "Rebound",
         "Points": 0,
         "PlayLength_Seconds": 0,
         "TeamScore_Offense": 101,
         "TeamId_Offense": 24,
         "TeamName_Offense": "Detroit Pistons",
         "FloorLineupId_Offense": 9436,
         "TeamId_Defense": 7,
         "TeamName_Defense": "Brooklyn Nets",
         "FloorLineupId_Defense": 7413,
         "Players_Offense": "Andre Drummond, Ish Smith, Langston Galloway, Blake Griffin, Reggie Jackson",
         "Players_Defense": "Jared Dudley, Caris LeVert, Joe Harris, Spencer Dinwiddie, Jarrett Allen",
         "Possession": 0,
         "_deepnote_index_column": 1992
        },
        {
         "Unnamed: 0": 1993,
         "GameId": 63946,
         "SeasonYear": 2018,
         "PlayByPlayId": 81296,
         "EventNumber": 654,
         "Period": 4,
         "GameClock": 0.52,
         "Description": "Stoppage. Blood Rule",
         "EventTypeId": 20,
         "EventType": "Stoppage",
         "ActionTypeIndex": 1,
         "ActionTypeName": "Blood rule",
         "Points": 0,
         "PlayLength_Seconds": 0,
         "TeamScore_Offense": 101,
         "TeamId_Offense": 24,
         "TeamName_Offense": "Detroit Pistons",
         "FloorLineupId_Offense": 9436,
         "TeamId_Defense": 7,
         "TeamName_Defense": "Brooklyn Nets",
         "FloorLineupId_Defense": 7413,
         "Players_Offense": "Andre Drummond, Ish Smith, Langston Galloway, Blake Griffin, Reggie Jackson",
         "Players_Defense": "Jared Dudley, Caris LeVert, Joe Harris, Spencer Dinwiddie, Jarrett Allen",
         "Possession": 0,
         "_deepnote_index_column": 1993
        },
        {
         "Unnamed: 0": 1994,
         "GameId": 63946,
         "SeasonYear": 2018,
         "PlayByPlayId": 81298,
         "EventNumber": 655,
         "Period": 4,
         "GameClock": 0.38,
         "Description": "[BKN] Allen Layup Shot. Missed",
         "EventTypeId": 2,
         "EventType": "Missed Shot",
         "ActionTypeIndex": 5,
         "ActionTypeName": "Layup Shot",
         "Points": 0,
         "PlayLength_Seconds": 14,
         "TeamScore_Offense": 100,
         "TeamId_Offense": 7,
         "TeamName_Offense": "Brooklyn Nets",
         "FloorLineupId_Offense": 7413,
         "TeamId_Defense": 24,
         "TeamName_Defense": "Detroit Pistons",
         "FloorLineupId_Defense": 9436,
         "Players_Offense": "Jared Dudley, Caris LeVert, Joe Harris, Spencer Dinwiddie, Jarrett Allen",
         "Players_Defense": "Andre Drummond, Ish Smith, Langston Galloway, Blake Griffin, Reggie Jackson",
         "Possession": 1,
         "_deepnote_index_column": 1994
        },
        {
         "Unnamed: 0": 1995,
         "GameId": 63946,
         "SeasonYear": 2018,
         "PlayByPlayId": 81299,
         "EventNumber": 656,
         "Period": 4,
         "GameClock": 0.35,
         "Description": "[DET] Griffin Rebound (Off.2 Def.5)",
         "EventTypeId": 4,
         "EventType": "Rebound",
         "ActionTypeIndex": 0,
         "ActionTypeName": "Rebound",
         "Points": 0,
         "PlayLength_Seconds": 3,
         "TeamScore_Offense": 100,
         "TeamId_Offense": 7,
         "TeamName_Offense": "Brooklyn Nets",
         "FloorLineupId_Offense": 7413,
         "TeamId_Defense": 24,
         "TeamName_Defense": "Detroit Pistons",
         "FloorLineupId_Defense": 9436,
         "Players_Offense": "Jared Dudley, Caris LeVert, Joe Harris, Spencer Dinwiddie, Jarrett Allen",
         "Players_Defense": "Andre Drummond, Ish Smith, Langston Galloway, Blake Griffin, Reggie Jackson",
         "Possession": 0,
         "_deepnote_index_column": 1995
        },
        {
         "Unnamed: 0": 1996,
         "GameId": 63946,
         "SeasonYear": 2018,
         "PlayByPlayId": 81302,
         "EventNumber": 658,
         "Period": 4,
         "GameClock": 0.16,
         "Description": "[DET] Team Timeout . Regular",
         "EventTypeId": 9,
         "EventType": "Time Out",
         "ActionTypeIndex": 1,
         "ActionTypeName": "Regular",
         "Points": 0,
         "PlayLength_Seconds": 0,
         "TeamScore_Offense": 101,
         "TeamId_Offense": 24,
         "TeamName_Offense": "Detroit Pistons",
         "FloorLineupId_Offense": 9436,
         "TeamId_Defense": 7,
         "TeamName_Defense": "Brooklyn Nets",
         "FloorLineupId_Defense": 7413,
         "Players_Offense": "Andre Drummond, Ish Smith, Langston Galloway, Blake Griffin, Reggie Jackson",
         "Players_Defense": "Jared Dudley, Caris LeVert, Joe Harris, Spencer Dinwiddie, Jarrett Allen",
         "Possession": 0,
         "_deepnote_index_column": 1996
        },
        {
         "Unnamed: 0": 1997,
         "GameId": 63946,
         "SeasonYear": 2018,
         "PlayByPlayId": 81303,
         "EventNumber": 659,
         "Period": 4,
         "GameClock": 0.15,
         "Description": "[DET] Drummond 3pt Shot. Missed",
         "EventTypeId": 2,
         "EventType": "Missed Shot",
         "ActionTypeIndex": 1,
         "ActionTypeName": "Jump Shot",
         "Points": 0,
         "PlayLength_Seconds": 1,
         "TeamScore_Offense": 101,
         "TeamId_Offense": 24,
         "TeamName_Offense": "Detroit Pistons",
         "FloorLineupId_Offense": 9436,
         "TeamId_Defense": 7,
         "TeamName_Defense": "Brooklyn Nets",
         "FloorLineupId_Defense": 7413,
         "Players_Offense": "Andre Drummond, Ish Smith, Langston Galloway, Blake Griffin, Reggie Jackson",
         "Players_Defense": "Jared Dudley, Caris LeVert, Joe Harris, Spencer Dinwiddie, Jarrett Allen",
         "Possession": 0,
         "_deepnote_index_column": 1997
        },
        {
         "Unnamed: 0": 1998,
         "GameId": 63946,
         "SeasonYear": 2018,
         "PlayByPlayId": 81305,
         "EventNumber": 660,
         "Period": 4,
         "GameClock": 0.15,
         "Description": "[DET] Team Turnover . Shot Clock Turnover",
         "EventTypeId": 5,
         "EventType": "Turnover",
         "ActionTypeIndex": 11,
         "ActionTypeName": "Shot Clock Turnover",
         "Points": 0,
         "PlayLength_Seconds": 0,
         "TeamScore_Offense": 101,
         "TeamId_Offense": 24,
         "TeamName_Offense": "Detroit Pistons",
         "FloorLineupId_Offense": 9436,
         "TeamId_Defense": 7,
         "TeamName_Defense": "Brooklyn Nets",
         "FloorLineupId_Defense": 7413,
         "Players_Offense": "Andre Drummond, Ish Smith, Langston Galloway, Blake Griffin, Reggie Jackson",
         "Players_Defense": "Jared Dudley, Caris LeVert, Joe Harris, Spencer Dinwiddie, Jarrett Allen",
         "Possession": 1,
         "_deepnote_index_column": 1998
        },
        {
         "Unnamed: 0": 1999,
         "GameId": 63946,
         "SeasonYear": 2018,
         "PlayByPlayId": 81304,
         "EventNumber": 661,
         "Period": 4,
         "GameClock": 0.15,
         "Description": "[DET] Team Rebound",
         "EventTypeId": 4,
         "EventType": "Rebound",
         "ActionTypeIndex": 0,
         "ActionTypeName": "Rebound",
         "Points": 0,
         "PlayLength_Seconds": 0,
         "TeamScore_Offense": 101,
         "TeamId_Offense": 24,
         "TeamName_Offense": "Detroit Pistons",
         "FloorLineupId_Offense": 9436,
         "TeamId_Defense": 7,
         "TeamName_Defense": "Brooklyn Nets",
         "FloorLineupId_Defense": 7413,
         "Players_Offense": "Andre Drummond, Ish Smith, Langston Galloway, Blake Griffin, Reggie Jackson",
         "Players_Defense": "Jared Dudley, Caris LeVert, Joe Harris, Spencer Dinwiddie, Jarrett Allen",
         "Possession": 0,
         "_deepnote_index_column": 1999
        }
       ]
      },
      "text/plain": "        Unnamed: 0  GameId  SeasonYear  PlayByPlayId  EventNumber  Period  \\\n0                0   63864        2018         79300            4       1   \n1                1   63864        2018         79301            7       1   \n2                2   63864        2018         79302            8       1   \n3                3   63864        2018         79303            9       1   \n4                4   63864        2018         79304           10       1   \n...            ...     ...         ...           ...          ...     ...   \n594830      594830   65172        2018        673990          565       4   \n594831      594831   65172        2018        673991          566       4   \n594832      594832   65172        2018        673992          567       4   \n594833      594833   65172        2018        673993          568       4   \n594834      594834   65172        2018        673994          569       4   \n\n        GameClock                                        Description  \\\n0           12.00  Jump Ball Embiid vs Horford (Simmons gains pos...   \n1           11.40                   [PHI] Covington 3pt Shot. Missed   \n2           11.40                                 [BOS] Team Rebound   \n3           11.18                            Stoppage. Out-of-Bounds   \n4           11.15                       [BOS] Tatum 3pt Shot. Missed   \n...           ...                                                ...   \n594830       0.21               [SAC] Swanigan Rebound (Off.3 Def.4)   \n594831       0.21                       [SAC] Team Timeout . Regular   \n594832       0.15                     [SAC] Ferrell 3pt Shot. Missed   \n594833       0.12            [POR] Labissiere Rebound (Off.4 Def.11)   \n594834       0.00                                         End Period   \n\n        EventTypeId    EventType  ...  TeamScore_Offense TeamId_Offense  \\\n0                10    Jump Ball  ...                  0             54   \n1                 2  Missed Shot  ...                  0             54   \n2                 4      Rebound  ...                  0             54   \n3                20     Stoppage  ...                  0              5   \n4                 2  Missed Shot  ...                  0              5   \n...             ...          ...  ...                ...            ...   \n594830            4      Rebound  ...                136             58   \n594831            9     Time Out  ...                131             61   \n594832            2  Missed Shot  ...                131             61   \n594833            4      Rebound  ...                131             61   \n594834           13   End Period  ...                136             58   \n\n              TeamName_Offense  FloorLineupId_Offense  TeamId_Defense  \\\n0           Philadelphia 76ers                   3234               5   \n1           Philadelphia 76ers                   3234               5   \n2           Philadelphia 76ers                   3234               5   \n3               Boston Celtics                   3242              54   \n4               Boston Celtics                   3242              54   \n...                        ...                    ...             ...   \n594830  Portland Trail Blazers                   7595              61   \n594831        Sacramento Kings                  28797              58   \n594832        Sacramento Kings                  28797              58   \n594833        Sacramento Kings                  28797              58   \n594834  Portland Trail Blazers                   7595              61   \n\n              TeamName_Defense FloorLineupId_Defense  \\\n0               Boston Celtics                  3242   \n1               Boston Celtics                  3242   \n2               Boston Celtics                  3242   \n3           Philadelphia 76ers                  3234   \n4           Philadelphia 76ers                  3234   \n...                        ...                   ...   \n594830        Sacramento Kings                 28797   \n594831  Portland Trail Blazers                  7595   \n594832  Portland Trail Blazers                  7595   \n594833  Portland Trail Blazers                  7595   \n594834        Sacramento Kings                 28797   \n\n                                          Players_Offense  \\\n0       Markelle Fultz, Ben Simmons, Robert Covington,...   \n1       Markelle Fultz, Ben Simmons, Robert Covington,...   \n2       Markelle Fultz, Ben Simmons, Robert Covington,...   \n3       Gordon Hayward, Kyrie Irving, Jayson Tatum, Ja...   \n4       Gordon Hayward, Kyrie Irving, Jayson Tatum, Ja...   \n...                                                   ...   \n594830  Gary Trent Jr., Anfernee Simons, Jake Layman, ...   \n594831  B.J. Johnson, Caleb Swanigan, Yogi Ferrell, Fr...   \n594832  B.J. Johnson, Caleb Swanigan, Yogi Ferrell, Fr...   \n594833  B.J. Johnson, Caleb Swanigan, Yogi Ferrell, Fr...   \n594834  Gary Trent Jr., Anfernee Simons, Jake Layman, ...   \n\n                                          Players_Defense Possession  \n0       Gordon Hayward, Kyrie Irving, Jayson Tatum, Ja...          0  \n1       Gordon Hayward, Kyrie Irving, Jayson Tatum, Ja...          1  \n2       Gordon Hayward, Kyrie Irving, Jayson Tatum, Ja...          0  \n3       Markelle Fultz, Ben Simmons, Robert Covington,...          0  \n4       Markelle Fultz, Ben Simmons, Robert Covington,...          1  \n...                                                   ...        ...  \n594830  B.J. Johnson, Caleb Swanigan, Yogi Ferrell, Fr...          0  \n594831  Gary Trent Jr., Anfernee Simons, Jake Layman, ...          0  \n594832  Gary Trent Jr., Anfernee Simons, Jake Layman, ...          1  \n594833  Gary Trent Jr., Anfernee Simons, Jake Layman, ...          0  \n594834  B.J. Johnson, Caleb Swanigan, Yogi Ferrell, Fr...          1  \n\n[594835 rows x 24 columns]",
      "text/html": "<div>\n<style scoped>\n    .dataframe tbody tr th:only-of-type {\n        vertical-align: middle;\n    }\n\n    .dataframe tbody tr th {\n        vertical-align: top;\n    }\n\n    .dataframe thead th {\n        text-align: right;\n    }\n</style>\n<table border=\"1\" class=\"dataframe\">\n  <thead>\n    <tr style=\"text-align: right;\">\n      <th></th>\n      <th>Unnamed: 0</th>\n      <th>GameId</th>\n      <th>SeasonYear</th>\n      <th>PlayByPlayId</th>\n      <th>EventNumber</th>\n      <th>Period</th>\n      <th>GameClock</th>\n      <th>Description</th>\n      <th>EventTypeId</th>\n      <th>EventType</th>\n      <th>...</th>\n      <th>TeamScore_Offense</th>\n      <th>TeamId_Offense</th>\n      <th>TeamName_Offense</th>\n      <th>FloorLineupId_Offense</th>\n      <th>TeamId_Defense</th>\n      <th>TeamName_Defense</th>\n      <th>FloorLineupId_Defense</th>\n      <th>Players_Offense</th>\n      <th>Players_Defense</th>\n      <th>Possession</th>\n    </tr>\n  </thead>\n  <tbody>\n    <tr>\n      <th>0</th>\n      <td>0</td>\n      <td>63864</td>\n      <td>2018</td>\n      <td>79300</td>\n      <td>4</td>\n      <td>1</td>\n      <td>12.00</td>\n      <td>Jump Ball Embiid vs Horford (Simmons gains pos...</td>\n      <td>10</td>\n      <td>Jump Ball</td>\n      <td>...</td>\n      <td>0</td>\n      <td>54</td>\n      <td>Philadelphia 76ers</td>\n      <td>3234</td>\n      <td>5</td>\n      <td>Boston Celtics</td>\n      <td>3242</td>\n      <td>Markelle Fultz, Ben Simmons, Robert Covington,...</td>\n      <td>Gordon Hayward, Kyrie Irving, Jayson Tatum, Ja...</td>\n      <td>0</td>\n    </tr>\n    <tr>\n      <th>1</th>\n      <td>1</td>\n      <td>63864</td>\n      <td>2018</td>\n      <td>79301</td>\n      <td>7</td>\n      <td>1</td>\n      <td>11.40</td>\n      <td>[PHI] Covington 3pt Shot. Missed</td>\n      <td>2</td>\n      <td>Missed Shot</td>\n      <td>...</td>\n      <td>0</td>\n      <td>54</td>\n      <td>Philadelphia 76ers</td>\n      <td>3234</td>\n      <td>5</td>\n      <td>Boston Celtics</td>\n      <td>3242</td>\n      <td>Markelle Fultz, Ben Simmons, Robert Covington,...</td>\n      <td>Gordon Hayward, Kyrie Irving, Jayson Tatum, Ja...</td>\n      <td>1</td>\n    </tr>\n    <tr>\n      <th>2</th>\n      <td>2</td>\n      <td>63864</td>\n      <td>2018</td>\n      <td>79302</td>\n      <td>8</td>\n      <td>1</td>\n      <td>11.40</td>\n      <td>[BOS] Team Rebound</td>\n      <td>4</td>\n      <td>Rebound</td>\n      <td>...</td>\n      <td>0</td>\n      <td>54</td>\n      <td>Philadelphia 76ers</td>\n      <td>3234</td>\n      <td>5</td>\n      <td>Boston Celtics</td>\n      <td>3242</td>\n      <td>Markelle Fultz, Ben Simmons, Robert Covington,...</td>\n      <td>Gordon Hayward, Kyrie Irving, Jayson Tatum, Ja...</td>\n      <td>0</td>\n    </tr>\n    <tr>\n      <th>3</th>\n      <td>3</td>\n      <td>63864</td>\n      <td>2018</td>\n      <td>79303</td>\n      <td>9</td>\n      <td>1</td>\n      <td>11.18</td>\n      <td>Stoppage. Out-of-Bounds</td>\n      <td>20</td>\n      <td>Stoppage</td>\n      <td>...</td>\n      <td>0</td>\n      <td>5</td>\n      <td>Boston Celtics</td>\n      <td>3242</td>\n      <td>54</td>\n      <td>Philadelphia 76ers</td>\n      <td>3234</td>\n      <td>Gordon Hayward, Kyrie Irving, Jayson Tatum, Ja...</td>\n      <td>Markelle Fultz, Ben Simmons, Robert Covington,...</td>\n      <td>0</td>\n    </tr>\n    <tr>\n      <th>4</th>\n      <td>4</td>\n      <td>63864</td>\n      <td>2018</td>\n      <td>79304</td>\n      <td>10</td>\n      <td>1</td>\n      <td>11.15</td>\n      <td>[BOS] Tatum 3pt Shot. Missed</td>\n      <td>2</td>\n      <td>Missed Shot</td>\n      <td>...</td>\n      <td>0</td>\n      <td>5</td>\n      <td>Boston Celtics</td>\n      <td>3242</td>\n      <td>54</td>\n      <td>Philadelphia 76ers</td>\n      <td>3234</td>\n      <td>Gordon Hayward, Kyrie Irving, Jayson Tatum, Ja...</td>\n      <td>Markelle Fultz, Ben Simmons, Robert Covington,...</td>\n      <td>1</td>\n    </tr>\n    <tr>\n      <th>...</th>\n      <td>...</td>\n      <td>...</td>\n      <td>...</td>\n      <td>...</td>\n      <td>...</td>\n      <td>...</td>\n      <td>...</td>\n      <td>...</td>\n      <td>...</td>\n      <td>...</td>\n      <td>...</td>\n      <td>...</td>\n      <td>...</td>\n      <td>...</td>\n      <td>...</td>\n      <td>...</td>\n      <td>...</td>\n      <td>...</td>\n      <td>...</td>\n      <td>...</td>\n      <td>...</td>\n    </tr>\n    <tr>\n      <th>594830</th>\n      <td>594830</td>\n      <td>65172</td>\n      <td>2018</td>\n      <td>673990</td>\n      <td>565</td>\n      <td>4</td>\n      <td>0.21</td>\n      <td>[SAC] Swanigan Rebound (Off.3 Def.4)</td>\n      <td>4</td>\n      <td>Rebound</td>\n      <td>...</td>\n      <td>136</td>\n      <td>58</td>\n      <td>Portland Trail Blazers</td>\n      <td>7595</td>\n      <td>61</td>\n      <td>Sacramento Kings</td>\n      <td>28797</td>\n      <td>Gary Trent Jr., Anfernee Simons, Jake Layman, ...</td>\n      <td>B.J. Johnson, Caleb Swanigan, Yogi Ferrell, Fr...</td>\n      <td>0</td>\n    </tr>\n    <tr>\n      <th>594831</th>\n      <td>594831</td>\n      <td>65172</td>\n      <td>2018</td>\n      <td>673991</td>\n      <td>566</td>\n      <td>4</td>\n      <td>0.21</td>\n      <td>[SAC] Team Timeout . Regular</td>\n      <td>9</td>\n      <td>Time Out</td>\n      <td>...</td>\n      <td>131</td>\n      <td>61</td>\n      <td>Sacramento Kings</td>\n      <td>28797</td>\n      <td>58</td>\n      <td>Portland Trail Blazers</td>\n      <td>7595</td>\n      <td>B.J. Johnson, Caleb Swanigan, Yogi Ferrell, Fr...</td>\n      <td>Gary Trent Jr., Anfernee Simons, Jake Layman, ...</td>\n      <td>0</td>\n    </tr>\n    <tr>\n      <th>594832</th>\n      <td>594832</td>\n      <td>65172</td>\n      <td>2018</td>\n      <td>673992</td>\n      <td>567</td>\n      <td>4</td>\n      <td>0.15</td>\n      <td>[SAC] Ferrell 3pt Shot. Missed</td>\n      <td>2</td>\n      <td>Missed Shot</td>\n      <td>...</td>\n      <td>131</td>\n      <td>61</td>\n      <td>Sacramento Kings</td>\n      <td>28797</td>\n      <td>58</td>\n      <td>Portland Trail Blazers</td>\n      <td>7595</td>\n      <td>B.J. Johnson, Caleb Swanigan, Yogi Ferrell, Fr...</td>\n      <td>Gary Trent Jr., Anfernee Simons, Jake Layman, ...</td>\n      <td>1</td>\n    </tr>\n    <tr>\n      <th>594833</th>\n      <td>594833</td>\n      <td>65172</td>\n      <td>2018</td>\n      <td>673993</td>\n      <td>568</td>\n      <td>4</td>\n      <td>0.12</td>\n      <td>[POR] Labissiere Rebound (Off.4 Def.11)</td>\n      <td>4</td>\n      <td>Rebound</td>\n      <td>...</td>\n      <td>131</td>\n      <td>61</td>\n      <td>Sacramento Kings</td>\n      <td>28797</td>\n      <td>58</td>\n      <td>Portland Trail Blazers</td>\n      <td>7595</td>\n      <td>B.J. Johnson, Caleb Swanigan, Yogi Ferrell, Fr...</td>\n      <td>Gary Trent Jr., Anfernee Simons, Jake Layman, ...</td>\n      <td>0</td>\n    </tr>\n    <tr>\n      <th>594834</th>\n      <td>594834</td>\n      <td>65172</td>\n      <td>2018</td>\n      <td>673994</td>\n      <td>569</td>\n      <td>4</td>\n      <td>0.00</td>\n      <td>End Period</td>\n      <td>13</td>\n      <td>End Period</td>\n      <td>...</td>\n      <td>136</td>\n      <td>58</td>\n      <td>Portland Trail Blazers</td>\n      <td>7595</td>\n      <td>61</td>\n      <td>Sacramento Kings</td>\n      <td>28797</td>\n      <td>Gary Trent Jr., Anfernee Simons, Jake Layman, ...</td>\n      <td>B.J. Johnson, Caleb Swanigan, Yogi Ferrell, Fr...</td>\n      <td>1</td>\n    </tr>\n  </tbody>\n</table>\n<p>594835 rows × 24 columns</p>\n</div>"
     },
     "metadata": {}
    }
   ]
  },
  {
   "cell_type": "code",
   "metadata": {
    "cell_id": "e13beba0-ea96-4722-a9f9-0135564cfef1",
    "tags": [],
    "deepnote_to_be_reexecuted": false,
    "source_hash": "296967df",
    "execution_start": 1647572216650,
    "execution_millis": 245,
    "deepnote_cell_type": "code",
    "deepnote_cell_height": 600
   },
   "source": "df.groupby('GameId').sum()",
   "execution_count": null,
   "outputs": [
    {
     "output_type": "execute_result",
     "execution_count": 7,
     "data": {
      "application/vnd.deepnote.dataframe.v3+json": {
       "column_count": 16,
       "row_count": 1230,
       "columns": [
        {
         "name": "Unnamed: 0",
         "dtype": "int64",
         "stats": {
          "unique_count": 1230,
          "nan_count": 0,
          "min": "126756",
          "max": "342765017",
          "histogram": [
           {
            "bin_start": 126756,
            "bin_end": 34390582.1,
            "count": 144
           },
           {
            "bin_start": 34390582.1,
            "bin_end": 68654408.2,
            "count": 148
           },
           {
            "bin_start": 68654408.2,
            "bin_end": 102918234.30000001,
            "count": 151
           },
           {
            "bin_start": 102918234.30000001,
            "bin_end": 137182060.4,
            "count": 146
           },
           {
            "bin_start": 137182060.4,
            "bin_end": 171445886.5,
            "count": 156
           },
           {
            "bin_start": 171445886.5,
            "bin_end": 205709712.60000002,
            "count": 125
           },
           {
            "bin_start": 205709712.60000002,
            "bin_end": 239973538.70000002,
            "count": 157
           },
           {
            "bin_start": 239973538.70000002,
            "bin_end": 274237364.8,
            "count": 153
           },
           {
            "bin_start": 274237364.8,
            "bin_end": 308501190.90000004,
            "count": 43
           },
           {
            "bin_start": 308501190.90000004,
            "bin_end": 342765017,
            "count": 7
           }
          ]
         }
        },
        {
         "name": "SeasonYear",
         "dtype": "int64",
         "stats": {
          "unique_count": 174,
          "nan_count": 0,
          "min": "801146",
          "max": "1418654",
          "histogram": [
           {
            "bin_start": 801146,
            "bin_end": 862896.8,
            "count": 41
           },
           {
            "bin_start": 862896.8,
            "bin_end": 924647.6,
            "count": 247
           },
           {
            "bin_start": 924647.6,
            "bin_end": 986398.4,
            "count": 456
           },
           {
            "bin_start": 986398.4,
            "bin_end": 1048149.2,
            "count": 307
           },
           {
            "bin_start": 1048149.2,
            "bin_end": 1109900,
            "count": 125
           },
           {
            "bin_start": 1109900,
            "bin_end": 1171650.8,
            "count": 37
           },
           {
            "bin_start": 1171650.8,
            "bin_end": 1233401.6,
            "count": 13
           },
           {
            "bin_start": 1233401.6,
            "bin_end": 1295152.4,
            "count": 3
           },
           {
            "bin_start": 1295152.4,
            "bin_end": 1356903.2000000002,
            "count": 0
           },
           {
            "bin_start": 1356903.2000000002,
            "bin_end": 1418654,
            "count": 1
           }
          ]
         }
        },
        {
         "name": "PlayByPlayId",
         "dtype": "int64",
         "stats": {
          "unique_count": 1230,
          "nan_count": 0,
          "min": "37840824",
          "max": "6928831089",
          "histogram": [
           {
            "bin_start": 37840824,
            "bin_end": 726939850.5,
            "count": 1227
           },
           {
            "bin_start": 726939850.5,
            "bin_end": 1416038877,
            "count": 1
           },
           {
            "bin_start": 1416038877,
            "bin_end": 2105137903.5,
            "count": 1
           },
           {
            "bin_start": 2105137903.5,
            "bin_end": 2794236930,
            "count": 0
           },
           {
            "bin_start": 2794236930,
            "bin_end": 3483335956.5,
            "count": 0
           },
           {
            "bin_start": 3483335956.5,
            "bin_end": 4172434983,
            "count": 0
           },
           {
            "bin_start": 4172434983,
            "bin_end": 4861534009.5,
            "count": 0
           },
           {
            "bin_start": 4861534009.5,
            "bin_end": 5550633036,
            "count": 0
           },
           {
            "bin_start": 5550633036,
            "bin_end": 6239732062.5,
            "count": 0
           },
           {
            "bin_start": 6239732062.5,
            "bin_end": 6928831089,
            "count": 1
           }
          ]
         }
        },
        {
         "name": "EventNumber",
         "dtype": "int64",
         "stats": {
          "unique_count": 1216,
          "nan_count": 0,
          "min": "111269",
          "max": "359590",
          "histogram": [
           {
            "bin_start": 111269,
            "bin_end": 136101.1,
            "count": 91
           },
           {
            "bin_start": 136101.1,
            "bin_end": 160933.2,
            "count": 484
           },
           {
            "bin_start": 160933.2,
            "bin_end": 185765.3,
            "count": 443
           },
           {
            "bin_start": 185765.3,
            "bin_end": 210597.4,
            "count": 152
           },
           {
            "bin_start": 210597.4,
            "bin_end": 235429.5,
            "count": 45
           },
           {
            "bin_start": 235429.5,
            "bin_end": 260261.59999999998,
            "count": 10
           },
           {
            "bin_start": 260261.59999999998,
            "bin_end": 285093.69999999995,
            "count": 4
           },
           {
            "bin_start": 285093.69999999995,
            "bin_end": 309925.8,
            "count": 0
           },
           {
            "bin_start": 309925.8,
            "bin_end": 334757.9,
            "count": 0
           },
           {
            "bin_start": 334757.9,
            "bin_end": 359590,
            "count": 1
           }
          ]
         }
        },
        {
         "name": "Period",
         "dtype": "int64",
         "stats": {
          "unique_count": 394,
          "nan_count": 0,
          "min": "990",
          "max": "2715",
          "histogram": [
           {
            "bin_start": 990,
            "bin_end": 1162.5,
            "count": 342
           },
           {
            "bin_start": 1162.5,
            "bin_end": 1335,
            "count": 726
           },
           {
            "bin_start": 1335,
            "bin_end": 1507.5,
            "count": 123
           },
           {
            "bin_start": 1507.5,
            "bin_end": 1680,
            "count": 26
           },
           {
            "bin_start": 1680,
            "bin_end": 1852.5,
            "count": 8
           },
           {
            "bin_start": 1852.5,
            "bin_end": 2025,
            "count": 3
           },
           {
            "bin_start": 2025,
            "bin_end": 2197.5,
            "count": 0
           },
           {
            "bin_start": 2197.5,
            "bin_end": 2370,
            "count": 1
           },
           {
            "bin_start": 2370,
            "bin_end": 2542.5,
            "count": 0
           },
           {
            "bin_start": 2542.5,
            "bin_end": 2715,
            "count": 1
           }
          ]
         }
        },
        {
         "name": "GameClock",
         "dtype": "float64",
         "stats": {
          "unique_count": 1219,
          "nan_count": 0,
          "min": "2046.13",
          "max": "3363.1",
          "histogram": [
           {
            "bin_start": 2046.13,
            "bin_end": 2177.827,
            "count": 7
           },
           {
            "bin_start": 2177.827,
            "bin_end": 2309.524,
            "count": 38
           },
           {
            "bin_start": 2309.524,
            "bin_end": 2441.221,
            "count": 174
           },
           {
            "bin_start": 2441.221,
            "bin_end": 2572.918,
            "count": 314
           },
           {
            "bin_start": 2572.918,
            "bin_end": 2704.615,
            "count": 342
           },
           {
            "bin_start": 2704.615,
            "bin_end": 2836.312,
            "count": 212
           },
           {
            "bin_start": 2836.312,
            "bin_end": 2968.009,
            "count": 93
           },
           {
            "bin_start": 2968.009,
            "bin_end": 3099.706,
            "count": 42
           },
           {
            "bin_start": 3099.706,
            "bin_end": 3231.403,
            "count": 7
           },
           {
            "bin_start": 3231.403,
            "bin_end": 3363.1,
            "count": 1
           }
          ]
         }
        },
        {
         "name": "EventTypeId",
         "dtype": "int64",
         "stats": {
          "unique_count": 575,
          "nan_count": 0,
          "min": "1610",
          "max": "3211",
          "histogram": [
           {
            "bin_start": 1610,
            "bin_end": 1770.1,
            "count": 33
           },
           {
            "bin_start": 1770.1,
            "bin_end": 1930.2,
            "count": 211
           },
           {
            "bin_start": 1930.2,
            "bin_end": 2090.3,
            "count": 447
           },
           {
            "bin_start": 2090.3,
            "bin_end": 2250.4,
            "count": 334
           },
           {
            "bin_start": 2250.4,
            "bin_end": 2410.5,
            "count": 130
           },
           {
            "bin_start": 2410.5,
            "bin_end": 2570.6,
            "count": 57
           },
           {
            "bin_start": 2570.6,
            "bin_end": 2730.7,
            "count": 15
           },
           {
            "bin_start": 2730.7,
            "bin_end": 2890.8,
            "count": 2
           },
           {
            "bin_start": 2890.8,
            "bin_end": 3050.8999999999996,
            "count": 0
           },
           {
            "bin_start": 3050.8999999999996,
            "bin_end": 3211,
            "count": 1
           }
          ]
         }
        },
        {
         "name": "ActionTypeIndex",
         "dtype": "int64",
         "stats": {
          "unique_count": 1106,
          "nan_count": 0,
          "min": "3309",
          "max": "12898",
          "histogram": [
           {
            "bin_start": 3309,
            "bin_end": 4267.9,
            "count": 11
           },
           {
            "bin_start": 4267.9,
            "bin_end": 5226.8,
            "count": 53
           },
           {
            "bin_start": 5226.8,
            "bin_end": 6185.7,
            "count": 105
           },
           {
            "bin_start": 6185.7,
            "bin_end": 7144.6,
            "count": 216
           },
           {
            "bin_start": 7144.6,
            "bin_end": 8103.5,
            "count": 290
           },
           {
            "bin_start": 8103.5,
            "bin_end": 9062.4,
            "count": 293
           },
           {
            "bin_start": 9062.4,
            "bin_end": 10021.3,
            "count": 179
           },
           {
            "bin_start": 10021.3,
            "bin_end": 10980.2,
            "count": 70
           },
           {
            "bin_start": 10980.2,
            "bin_end": 11939.1,
            "count": 11
           },
           {
            "bin_start": 11939.1,
            "bin_end": 12898,
            "count": 2
           }
          ]
         }
        },
        {
         "name": "Points",
         "dtype": "int64",
         "stats": {
          "unique_count": 112,
          "nan_count": 0,
          "min": "168",
          "max": "329",
          "histogram": [
           {
            "bin_start": 168,
            "bin_end": 184.1,
            "count": 33
           },
           {
            "bin_start": 184.1,
            "bin_end": 200.2,
            "count": 136
           },
           {
            "bin_start": 200.2,
            "bin_end": 216.3,
            "count": 322
           },
           {
            "bin_start": 216.3,
            "bin_end": 232.4,
            "count": 375
           },
           {
            "bin_start": 232.4,
            "bin_end": 248.5,
            "count": 243
           },
           {
            "bin_start": 248.5,
            "bin_end": 264.6,
            "count": 84
           },
           {
            "bin_start": 264.6,
            "bin_end": 280.70000000000005,
            "count": 27
           },
           {
            "bin_start": 280.70000000000005,
            "bin_end": 296.8,
            "count": 8
           },
           {
            "bin_start": 296.8,
            "bin_end": 312.9,
            "count": 1
           },
           {
            "bin_start": 312.9,
            "bin_end": 329,
            "count": 1
           }
          ]
         }
        },
        {
         "name": "PlayLength_Seconds",
         "dtype": "int64",
         "stats": {
          "unique_count": 8,
          "nan_count": 0,
          "min": "2873",
          "max": "4080",
          "histogram": [
           {
            "bin_start": 2873,
            "bin_end": 2993.7,
            "count": 1163
           },
           {
            "bin_start": 2993.7,
            "bin_end": 3114.4,
            "count": 0
           },
           {
            "bin_start": 3114.4,
            "bin_end": 3235.1,
            "count": 57
           },
           {
            "bin_start": 3235.1,
            "bin_end": 3355.8,
            "count": 0
           },
           {
            "bin_start": 3355.8,
            "bin_end": 3476.5,
            "count": 0
           },
           {
            "bin_start": 3476.5,
            "bin_end": 3597.2,
            "count": 7
           },
           {
            "bin_start": 3597.2,
            "bin_end": 3717.9,
            "count": 0
           },
           {
            "bin_start": 3717.9,
            "bin_end": 3838.6,
            "count": 2
           },
           {
            "bin_start": 3838.6,
            "bin_end": 3959.3,
            "count": 0
           },
           {
            "bin_start": 3959.3,
            "bin_end": 4080,
            "count": 1
           }
          ]
         }
        },
        {
         "name": "TeamScore_Offense",
         "dtype": "int64",
         "stats": {
          "unique_count": 1174,
          "nan_count": 0,
          "min": "18695",
          "max": "63633",
          "histogram": [
           {
            "bin_start": 18695,
            "bin_end": 23188.8,
            "count": 152
           },
           {
            "bin_start": 23188.8,
            "bin_end": 27682.6,
            "count": 517
           },
           {
            "bin_start": 27682.6,
            "bin_end": 32176.4,
            "count": 411
           },
           {
            "bin_start": 32176.4,
            "bin_end": 36670.2,
            "count": 110
           },
           {
            "bin_start": 36670.2,
            "bin_end": 41164,
            "count": 26
           },
           {
            "bin_start": 41164,
            "bin_end": 45657.8,
            "count": 10
           },
           {
            "bin_start": 45657.8,
            "bin_end": 50151.600000000006,
            "count": 3
           },
           {
            "bin_start": 50151.600000000006,
            "bin_end": 54645.4,
            "count": 0
           },
           {
            "bin_start": 54645.4,
            "bin_end": 59139.200000000004,
            "count": 0
           },
           {
            "bin_start": 59139.200000000004,
            "bin_end": 63633,
            "count": 1
           }
          ]
         }
        },
        {
         "name": "TeamId_Offense",
         "dtype": "int64",
         "stats": {
          "unique_count": 1197,
          "nan_count": 0,
          "min": "1729",
          "max": "47784",
          "histogram": [
           {
            "bin_start": 1729,
            "bin_end": 6334.5,
            "count": 52
           },
           {
            "bin_start": 6334.5,
            "bin_end": 10940,
            "count": 143
           },
           {
            "bin_start": 10940,
            "bin_end": 15545.5,
            "count": 236
           },
           {
            "bin_start": 15545.5,
            "bin_end": 20151,
            "count": 273
           },
           {
            "bin_start": 20151,
            "bin_end": 24756.5,
            "count": 267
           },
           {
            "bin_start": 24756.5,
            "bin_end": 29362,
            "count": 151
           },
           {
            "bin_start": 29362,
            "bin_end": 33967.5,
            "count": 82
           },
           {
            "bin_start": 33967.5,
            "bin_end": 38573,
            "count": 18
           },
           {
            "bin_start": 38573,
            "bin_end": 43178.5,
            "count": 7
           },
           {
            "bin_start": 43178.5,
            "bin_end": 47784,
            "count": 1
           }
          ]
         }
        },
        {
         "name": "FloorLineupId_Offense",
         "dtype": "int64",
         "stats": {
          "unique_count": 1230,
          "nan_count": 0,
          "min": "2050763",
          "max": "12063601",
          "histogram": [
           {
            "bin_start": 2050763,
            "bin_end": 3052046.8,
            "count": 156
           },
           {
            "bin_start": 3052046.8,
            "bin_end": 4053330.6,
            "count": 428
           },
           {
            "bin_start": 4053330.6,
            "bin_end": 5054614.4,
            "count": 279
           },
           {
            "bin_start": 5054614.4,
            "bin_end": 6055898.2,
            "count": 173
           },
           {
            "bin_start": 6055898.2,
            "bin_end": 7057182,
            "count": 119
           },
           {
            "bin_start": 7057182,
            "bin_end": 8058465.800000001,
            "count": 45
           },
           {
            "bin_start": 8058465.800000001,
            "bin_end": 9059749.600000001,
            "count": 25
           },
           {
            "bin_start": 9059749.600000001,
            "bin_end": 10061033.4,
            "count": 2
           },
           {
            "bin_start": 10061033.4,
            "bin_end": 11062317.200000001,
            "count": 2
           },
           {
            "bin_start": 11062317.200000001,
            "bin_end": 12063601,
            "count": 1
           }
          ]
         }
        },
        {
         "name": "TeamId_Defense",
         "dtype": "int64",
         "stats": {
          "unique_count": 1195,
          "nan_count": 0,
          "min": "1666",
          "max": "47896",
          "histogram": [
           {
            "bin_start": 1666,
            "bin_end": 6289,
            "count": 53
           },
           {
            "bin_start": 6289,
            "bin_end": 10912,
            "count": 136
           },
           {
            "bin_start": 10912,
            "bin_end": 15535,
            "count": 239
           },
           {
            "bin_start": 15535,
            "bin_end": 20158,
            "count": 279
           },
           {
            "bin_start": 20158,
            "bin_end": 24781,
            "count": 259
           },
           {
            "bin_start": 24781,
            "bin_end": 29404,
            "count": 162
           },
           {
            "bin_start": 29404,
            "bin_end": 34027,
            "count": 72
           },
           {
            "bin_start": 34027,
            "bin_end": 38650,
            "count": 22
           },
           {
            "bin_start": 38650,
            "bin_end": 43273,
            "count": 7
           },
           {
            "bin_start": 43273,
            "bin_end": 47896,
            "count": 1
           }
          ]
         }
        },
        {
         "name": "FloorLineupId_Defense",
         "dtype": "int64",
         "stats": {
          "unique_count": 1230,
          "nan_count": 0,
          "min": "1923774",
          "max": "10417025",
          "histogram": [
           {
            "bin_start": 1923774,
            "bin_end": 2773099.1,
            "count": 68
           },
           {
            "bin_start": 2773099.1,
            "bin_end": 3622424.2,
            "count": 350
           },
           {
            "bin_start": 3622424.2,
            "bin_end": 4471749.3,
            "count": 306
           },
           {
            "bin_start": 4471749.3,
            "bin_end": 5321074.4,
            "count": 180
           },
           {
            "bin_start": 5321074.4,
            "bin_end": 6170399.5,
            "count": 145
           },
           {
            "bin_start": 6170399.5,
            "bin_end": 7019724.6,
            "count": 100
           },
           {
            "bin_start": 7019724.6,
            "bin_end": 7869049.7,
            "count": 44
           },
           {
            "bin_start": 7869049.7,
            "bin_end": 8718374.8,
            "count": 23
           },
           {
            "bin_start": 8718374.8,
            "bin_end": 9567699.899999999,
            "count": 9
           },
           {
            "bin_start": 9567699.899999999,
            "bin_end": 10417025,
            "count": 5
           }
          ]
         }
        },
        {
         "name": "Possession",
         "dtype": "int64",
         "stats": {
          "unique_count": 67,
          "nan_count": 0,
          "min": "175",
          "max": "290",
          "histogram": [
           {
            "bin_start": 175,
            "bin_end": 186.5,
            "count": 58
           },
           {
            "bin_start": 186.5,
            "bin_end": 198,
            "count": 312
           },
           {
            "bin_start": 198,
            "bin_end": 209.5,
            "count": 535
           },
           {
            "bin_start": 209.5,
            "bin_end": 221,
            "count": 238
           },
           {
            "bin_start": 221,
            "bin_end": 232.5,
            "count": 69
           },
           {
            "bin_start": 232.5,
            "bin_end": 244,
            "count": 10
           },
           {
            "bin_start": 244,
            "bin_end": 255.5,
            "count": 7
           },
           {
            "bin_start": 255.5,
            "bin_end": 267,
            "count": 0
           },
           {
            "bin_start": 267,
            "bin_end": 278.5,
            "count": 0
           },
           {
            "bin_start": 278.5,
            "bin_end": 290,
            "count": 1
           }
          ]
         }
        },
        {
         "name": "_deepnote_index_column",
         "dtype": "int64"
        }
       ],
       "rows": [
        {
         "Unnamed: 0": 126756,
         "SeasonYear": 1017072,
         "PlayByPlayId": 40093956,
         "EventNumber": 177598,
         "Period": 1271,
         "GameClock": 2797.09,
         "EventTypeId": 2222,
         "ActionTypeIndex": 7993,
         "Points": 192,
         "PlayLength_Seconds": 2880,
         "TeamScore_Offense": 23677,
         "TeamId_Offense": 15652,
         "FloorLineupId_Offense": 3260996,
         "TeamId_Defense": 14084,
         "FloorLineupId_Defense": 3228450,
         "Possession": 210,
         "_deepnote_index_column": 63864
        },
        {
         "Unnamed: 0": 413524,
         "SeasonYear": 1081648,
         "PlayByPlayId": 42918860,
         "EventNumber": 204432,
         "Period": 1341,
         "GameClock": 2985.94,
         "EventTypeId": 2359,
         "ActionTypeIndex": 9193,
         "Points": 208,
         "PlayLength_Seconds": 2880,
         "TeamScore_Offense": 29015,
         "TeamId_Offense": 21822,
         "FloorLineupId_Offense": 3014710,
         "TeamId_Defense": 20522,
         "FloorLineupId_Defense": 3088766,
         "Possession": 209,
         "_deepnote_index_column": 63944
        },
        {
         "Unnamed: 0": 633998,
         "SeasonYear": 994874,
         "PlayByPlayId": 39729884,
         "EventNumber": 175436,
         "Period": 1239,
         "GameClock": 2613.16,
         "EventTypeId": 2116,
         "ActionTypeIndex": 7808,
         "Points": 225,
         "PlayLength_Seconds": 2880,
         "TeamScore_Offense": 29500,
         "TeamId_Offense": 12182,
         "FloorLineupId_Offense": 3031269,
         "TeamId_Defense": 12468,
         "FloorLineupId_Defense": 3068936,
         "Possession": 207,
         "_deepnote_index_column": 63945
        },
        {
         "Unnamed: 0": 860875,
         "SeasonYear": 978730,
         "PlayByPlayId": 39322830,
         "EventNumber": 170337,
         "Period": 1244,
         "GameClock": 2616.24,
         "EventTypeId": 2077,
         "ActionTypeIndex": 5015,
         "Points": 203,
         "PlayLength_Seconds": 2880,
         "TeamScore_Offense": 26353,
         "TeamId_Offense": 7696,
         "FloorLineupId_Offense": 2993468,
         "TeamId_Defense": 7339,
         "FloorLineupId_Defense": 3100784,
         "Possession": 202,
         "_deepnote_index_column": 63946
        },
        {
         "Unnamed: 0": 1043768,
         "SeasonYear": 936352,
         "PlayByPlayId": 37840824,
         "EventNumber": 155828,
         "Period": 1171,
         "GameClock": 2580.51,
         "EventTypeId": 2035,
         "ActionTypeIndex": 7354,
         "Points": 194,
         "PlayLength_Seconds": 2880,
         "TeamScore_Offense": 21021,
         "TeamId_Offense": 15220,
         "FloorLineupId_Offense": 2957919,
         "TeamId_Defense": 14940,
         "FloorLineupId_Defense": 2827007,
         "Possession": 188,
         "_deepnote_index_column": 63947
        },
        {
         "Unnamed: 0": 1552525,
         "SeasonYear": 1134116,
         "PlayByPlayId": 46121935,
         "EventNumber": 217309,
         "Period": 1469,
         "GameClock": 3056.3,
         "EventTypeId": 2491,
         "ActionTypeIndex": 9269,
         "Points": 205,
         "PlayLength_Seconds": 2880,
         "TeamScore_Offense": 31118,
         "TeamId_Offense": 25418,
         "FloorLineupId_Offense": 3061126,
         "TeamId_Defense": 25162,
         "FloorLineupId_Defense": 3243082,
         "Possession": 206,
         "_deepnote_index_column": 63948
        },
        {
         "Unnamed: 0": 1771385,
         "SeasonYear": 1079630,
         "PlayByPlayId": 44200095,
         "EventNumber": 199350,
         "Period": 1332,
         "GameClock": 2912.64,
         "EventTypeId": 2372,
         "ActionTypeIndex": 7559,
         "Points": 233,
         "PlayLength_Seconds": 2880,
         "TeamScore_Offense": 31656,
         "TeamId_Offense": 14798,
         "FloorLineupId_Offense": 3511342,
         "TeamId_Defense": 13022,
         "FloorLineupId_Defense": 3643956,
         "Possession": 226,
         "_deepnote_index_column": 63949
        },
        {
         "Unnamed: 0": 2032947,
         "SeasonYear": 1067522,
         "PlayByPlayId": 43986350,
         "EventNumber": 195554,
         "Period": 1359,
         "GameClock": 2795.1,
         "EventTypeId": 2350,
         "ActionTypeIndex": 9398,
         "Points": 220,
         "PlayLength_Seconds": 2880,
         "TeamScore_Offense": 30497,
         "TeamId_Offense": 23503,
         "FloorLineupId_Offense": 3380797,
         "TeamId_Defense": 26752,
         "FloorLineupId_Defense": 3475477,
         "Possession": 202,
         "_deepnote_index_column": 63950
        },
        {
         "Unnamed: 0": 2224875,
         "SeasonYear": 1029180,
         "PlayByPlayId": 42671955,
         "EventNumber": 189447,
         "Period": 1305,
         "GameClock": 2693.68,
         "EventTypeId": 2154,
         "ActionTypeIndex": 7328,
         "Points": 243,
         "PlayLength_Seconds": 2880,
         "TeamScore_Offense": 32543,
         "TeamId_Offense": 19677,
         "FloorLineupId_Offense": 3186728,
         "TeamId_Defense": 19593,
         "FloorLineupId_Defense": 3194904,
         "Possession": 208,
         "_deepnote_index_column": 63951
        },
        {
         "Unnamed: 0": 2443987,
         "SeasonYear": 1013036,
         "PlayByPlayId": 42258368,
         "EventNumber": 175230,
         "Period": 1263,
         "GameClock": 2698.11,
         "EventTypeId": 2054,
         "ActionTypeIndex": 9145,
         "Points": 220,
         "PlayLength_Seconds": 2876,
         "TeamScore_Offense": 27407,
         "TeamId_Offense": 26126,
         "FloorLineupId_Offense": 3373414,
         "TeamId_Defense": 25580,
         "FloorLineupId_Defense": 3459097,
         "Possession": 195,
         "_deepnote_index_column": 63952
        }
       ]
      },
      "text/plain": "        Unnamed: 0  SeasonYear  PlayByPlayId  EventNumber  Period  GameClock  \\\nGameId                                                                         \n63864       126756     1017072      40093956       177598    1271    2797.09   \n63944       413524     1081648      42918860       204432    1341    2985.94   \n63945       633998      994874      39729884       175436    1239    2613.16   \n63946       860875      978730      39322830       170337    1244    2616.24   \n63947      1043768      936352      37840824       155828    1171    2580.51   \n...            ...         ...           ...          ...     ...        ...   \n65168    282722670      962586     320479605       158795    1199    2596.55   \n65169    266928075      908100     302548275       143188    1116    2467.74   \n65170    261192140      887920     296021220       131706    1109    2406.86   \n65171    335678365     1140170     380402675       231726    1563    2922.17   \n65172    256280789      869758     290398749       123890    1080    2473.02   \n\n        EventTypeId  ActionTypeIndex  Points  PlayLength_Seconds  \\\nGameId                                                             \n63864          2222             7993     192                2880   \n63944          2359             9193     208                2880   \n63945          2116             7808     225                2880   \n63946          2077             5015     203                2880   \n63947          2035             7354     194                2880   \n...             ...              ...     ...                 ...   \n65168          1835             6207     243                2880   \n65169          1902             8387     199                2880   \n65170          1844             9056     194                2880   \n65171          2383            10075     280                3180   \n65172          1688            10137     267                2880   \n\n        TeamScore_Offense  TeamId_Offense  FloorLineupId_Offense  \\\nGameId                                                             \n63864               23677           15652                3260996   \n63944               29015           21822                3014710   \n63945               29500           12182                3031269   \n63946               26353            7696                2993468   \n63947               21021           15220                2957919   \n...                   ...             ...                    ...   \n65168               29883           21178                8914660   \n65169               21866           19413                3903007   \n65170               21612           13594                4670745   \n65171               41609           32596                8080130   \n65172               29891           25637                4527168   \n\n        TeamId_Defense  FloorLineupId_Defense  Possession  \nGameId                                                     \n63864            14084                3228450         210  \n63944            20522                3088766         209  \n63945            12468                3068936         207  \n63946             7339                3100784         202  \n63947            14940                2827007         188  \n...                ...                    ...         ...  \n65168            21752                8108045         220  \n65169            17937                4492277         195  \n65170            14126                5416703         194  \n65171            31814                8050294         238  \n65172            25652                4463564         199  \n\n[1230 rows x 16 columns]",
      "text/html": "<div>\n<style scoped>\n    .dataframe tbody tr th:only-of-type {\n        vertical-align: middle;\n    }\n\n    .dataframe tbody tr th {\n        vertical-align: top;\n    }\n\n    .dataframe thead th {\n        text-align: right;\n    }\n</style>\n<table border=\"1\" class=\"dataframe\">\n  <thead>\n    <tr style=\"text-align: right;\">\n      <th></th>\n      <th>Unnamed: 0</th>\n      <th>SeasonYear</th>\n      <th>PlayByPlayId</th>\n      <th>EventNumber</th>\n      <th>Period</th>\n      <th>GameClock</th>\n      <th>EventTypeId</th>\n      <th>ActionTypeIndex</th>\n      <th>Points</th>\n      <th>PlayLength_Seconds</th>\n      <th>TeamScore_Offense</th>\n      <th>TeamId_Offense</th>\n      <th>FloorLineupId_Offense</th>\n      <th>TeamId_Defense</th>\n      <th>FloorLineupId_Defense</th>\n      <th>Possession</th>\n    </tr>\n    <tr>\n      <th>GameId</th>\n      <th></th>\n      <th></th>\n      <th></th>\n      <th></th>\n      <th></th>\n      <th></th>\n      <th></th>\n      <th></th>\n      <th></th>\n      <th></th>\n      <th></th>\n      <th></th>\n      <th></th>\n      <th></th>\n      <th></th>\n      <th></th>\n    </tr>\n  </thead>\n  <tbody>\n    <tr>\n      <th>63864</th>\n      <td>126756</td>\n      <td>1017072</td>\n      <td>40093956</td>\n      <td>177598</td>\n      <td>1271</td>\n      <td>2797.09</td>\n      <td>2222</td>\n      <td>7993</td>\n      <td>192</td>\n      <td>2880</td>\n      <td>23677</td>\n      <td>15652</td>\n      <td>3260996</td>\n      <td>14084</td>\n      <td>3228450</td>\n      <td>210</td>\n    </tr>\n    <tr>\n      <th>63944</th>\n      <td>413524</td>\n      <td>1081648</td>\n      <td>42918860</td>\n      <td>204432</td>\n      <td>1341</td>\n      <td>2985.94</td>\n      <td>2359</td>\n      <td>9193</td>\n      <td>208</td>\n      <td>2880</td>\n      <td>29015</td>\n      <td>21822</td>\n      <td>3014710</td>\n      <td>20522</td>\n      <td>3088766</td>\n      <td>209</td>\n    </tr>\n    <tr>\n      <th>63945</th>\n      <td>633998</td>\n      <td>994874</td>\n      <td>39729884</td>\n      <td>175436</td>\n      <td>1239</td>\n      <td>2613.16</td>\n      <td>2116</td>\n      <td>7808</td>\n      <td>225</td>\n      <td>2880</td>\n      <td>29500</td>\n      <td>12182</td>\n      <td>3031269</td>\n      <td>12468</td>\n      <td>3068936</td>\n      <td>207</td>\n    </tr>\n    <tr>\n      <th>63946</th>\n      <td>860875</td>\n      <td>978730</td>\n      <td>39322830</td>\n      <td>170337</td>\n      <td>1244</td>\n      <td>2616.24</td>\n      <td>2077</td>\n      <td>5015</td>\n      <td>203</td>\n      <td>2880</td>\n      <td>26353</td>\n      <td>7696</td>\n      <td>2993468</td>\n      <td>7339</td>\n      <td>3100784</td>\n      <td>202</td>\n    </tr>\n    <tr>\n      <th>63947</th>\n      <td>1043768</td>\n      <td>936352</td>\n      <td>37840824</td>\n      <td>155828</td>\n      <td>1171</td>\n      <td>2580.51</td>\n      <td>2035</td>\n      <td>7354</td>\n      <td>194</td>\n      <td>2880</td>\n      <td>21021</td>\n      <td>15220</td>\n      <td>2957919</td>\n      <td>14940</td>\n      <td>2827007</td>\n      <td>188</td>\n    </tr>\n    <tr>\n      <th>...</th>\n      <td>...</td>\n      <td>...</td>\n      <td>...</td>\n      <td>...</td>\n      <td>...</td>\n      <td>...</td>\n      <td>...</td>\n      <td>...</td>\n      <td>...</td>\n      <td>...</td>\n      <td>...</td>\n      <td>...</td>\n      <td>...</td>\n      <td>...</td>\n      <td>...</td>\n      <td>...</td>\n    </tr>\n    <tr>\n      <th>65168</th>\n      <td>282722670</td>\n      <td>962586</td>\n      <td>320479605</td>\n      <td>158795</td>\n      <td>1199</td>\n      <td>2596.55</td>\n      <td>1835</td>\n      <td>6207</td>\n      <td>243</td>\n      <td>2880</td>\n      <td>29883</td>\n      <td>21178</td>\n      <td>8914660</td>\n      <td>21752</td>\n      <td>8108045</td>\n      <td>220</td>\n    </tr>\n    <tr>\n      <th>65169</th>\n      <td>266928075</td>\n      <td>908100</td>\n      <td>302548275</td>\n      <td>143188</td>\n      <td>1116</td>\n      <td>2467.74</td>\n      <td>1902</td>\n      <td>8387</td>\n      <td>199</td>\n      <td>2880</td>\n      <td>21866</td>\n      <td>19413</td>\n      <td>3903007</td>\n      <td>17937</td>\n      <td>4492277</td>\n      <td>195</td>\n    </tr>\n    <tr>\n      <th>65170</th>\n      <td>261192140</td>\n      <td>887920</td>\n      <td>296021220</td>\n      <td>131706</td>\n      <td>1109</td>\n      <td>2406.86</td>\n      <td>1844</td>\n      <td>9056</td>\n      <td>194</td>\n      <td>2880</td>\n      <td>21612</td>\n      <td>13594</td>\n      <td>4670745</td>\n      <td>14126</td>\n      <td>5416703</td>\n      <td>194</td>\n    </tr>\n    <tr>\n      <th>65171</th>\n      <td>335678365</td>\n      <td>1140170</td>\n      <td>380402675</td>\n      <td>231726</td>\n      <td>1563</td>\n      <td>2922.17</td>\n      <td>2383</td>\n      <td>10075</td>\n      <td>280</td>\n      <td>3180</td>\n      <td>41609</td>\n      <td>32596</td>\n      <td>8080130</td>\n      <td>31814</td>\n      <td>8050294</td>\n      <td>238</td>\n    </tr>\n    <tr>\n      <th>65172</th>\n      <td>256280789</td>\n      <td>869758</td>\n      <td>290398749</td>\n      <td>123890</td>\n      <td>1080</td>\n      <td>2473.02</td>\n      <td>1688</td>\n      <td>10137</td>\n      <td>267</td>\n      <td>2880</td>\n      <td>29891</td>\n      <td>25637</td>\n      <td>4527168</td>\n      <td>25652</td>\n      <td>4463564</td>\n      <td>199</td>\n    </tr>\n  </tbody>\n</table>\n<p>1230 rows × 16 columns</p>\n</div>"
     },
     "metadata": {}
    }
   ]
  },
  {
   "cell_type": "code",
   "metadata": {
    "cell_id": "a4c926f3-518f-4983-86a7-6916ad94223a",
    "tags": [],
    "deepnote_to_be_reexecuted": false,
    "source_hash": "b42e3d28",
    "execution_start": 1647572137561,
    "execution_millis": 191,
    "deepnote_table_state": {
     "pageSize": 10,
     "pageIndex": 2,
     "filters": [],
     "sortBy": []
    },
    "deepnote_table_loading": false,
    "deepnote_cell_type": "code",
    "deepnote_cell_height": 726
   },
   "source": "offense_cols = ['Points', 'Possession', 'Players_Offense', 'GameId']\nortg = df.groupby(['FloorLineupId_Offense']).agg({\n    'Points': 'sum',\n    'Possession': 'sum',\n    'Players_Offense': 'first',\n    'GameId': 'nunique'\n    })[offense_cols].rename(columns={\"GameId\": \"GP\"}).reset_index()\nortg.sort_values(\"GP\", ascending=False)",
   "execution_count": null,
   "outputs": [
    {
     "output_type": "execute_result",
     "execution_count": 3,
     "data": {
      "application/vnd.deepnote.dataframe.v3+json": {
       "column_count": 5,
       "row_count": 17157,
       "columns": [
        {
         "name": "FloorLineupId_Offense",
         "dtype": "int64",
         "stats": {
          "unique_count": 17157,
          "nan_count": 0,
          "min": "13",
          "max": "348946",
          "histogram": [
           {
            "bin_start": 13,
            "bin_end": 34906.3,
            "count": 17139
           },
           {
            "bin_start": 34906.3,
            "bin_end": 69799.6,
            "count": 2
           },
           {
            "bin_start": 69799.6,
            "bin_end": 104692.90000000001,
            "count": 9
           },
           {
            "bin_start": 104692.90000000001,
            "bin_end": 139586.2,
            "count": 0
           },
           {
            "bin_start": 139586.2,
            "bin_end": 174479.5,
            "count": 0
           },
           {
            "bin_start": 174479.5,
            "bin_end": 209372.80000000002,
            "count": 0
           },
           {
            "bin_start": 209372.80000000002,
            "bin_end": 244266.10000000003,
            "count": 0
           },
           {
            "bin_start": 244266.10000000003,
            "bin_end": 279159.4,
            "count": 0
           },
           {
            "bin_start": 279159.4,
            "bin_end": 314052.7,
            "count": 0
           },
           {
            "bin_start": 314052.7,
            "bin_end": 348946,
            "count": 7
           }
          ]
         }
        },
        {
         "name": "Points",
         "dtype": "int64",
         "stats": {
          "unique_count": 311,
          "nan_count": 0,
          "min": "0",
          "max": "2250",
          "histogram": [
           {
            "bin_start": 0,
            "bin_end": 225,
            "count": 17032
           },
           {
            "bin_start": 225,
            "bin_end": 450,
            "count": 80
           },
           {
            "bin_start": 450,
            "bin_end": 675,
            "count": 18
           },
           {
            "bin_start": 675,
            "bin_end": 900,
            "count": 11
           },
           {
            "bin_start": 900,
            "bin_end": 1125,
            "count": 5
           },
           {
            "bin_start": 1125,
            "bin_end": 1350,
            "count": 6
           },
           {
            "bin_start": 1350,
            "bin_end": 1575,
            "count": 2
           },
           {
            "bin_start": 1575,
            "bin_end": 1800,
            "count": 0
           },
           {
            "bin_start": 1800,
            "bin_end": 2025,
            "count": 2
           },
           {
            "bin_start": 2025,
            "bin_end": 2250,
            "count": 1
           }
          ]
         }
        },
        {
         "name": "Possession",
         "dtype": "int64",
         "stats": {
          "unique_count": 306,
          "nan_count": 0,
          "min": "0",
          "max": "1976",
          "histogram": [
           {
            "bin_start": 0,
            "bin_end": 197.6,
            "count": 17027
           },
           {
            "bin_start": 197.6,
            "bin_end": 395.2,
            "count": 83
           },
           {
            "bin_start": 395.2,
            "bin_end": 592.8,
            "count": 21
           },
           {
            "bin_start": 592.8,
            "bin_end": 790.4,
            "count": 10
           },
           {
            "bin_start": 790.4,
            "bin_end": 988,
            "count": 5
           },
           {
            "bin_start": 988,
            "bin_end": 1185.6,
            "count": 6
           },
           {
            "bin_start": 1185.6,
            "bin_end": 1383.2,
            "count": 2
           },
           {
            "bin_start": 1383.2,
            "bin_end": 1580.8,
            "count": 1
           },
           {
            "bin_start": 1580.8,
            "bin_end": 1778.3999999999999,
            "count": 1
           },
           {
            "bin_start": 1778.3999999999999,
            "bin_end": 1976,
            "count": 1
           }
          ]
         }
        },
        {
         "name": "Players_Offense",
         "dtype": "object",
         "stats": {
          "unique_count": 17157,
          "nan_count": 0,
          "categories": [
           {
            "name": "Evan Fournier, D.J. Augustin Jr., Aaron Gordon, Jonathan Isaac, Nikola Vucevic",
            "count": 1
           },
           {
            "name": "Donovan Mitchell Jr., Ricky Rubio, Joe Ingles, Jae Crowder, Rudy Gobert",
            "count": 1
           },
           {
            "name": "17155 others",
            "count": 17155
           }
          ]
         }
        },
        {
         "name": "GP",
         "dtype": "int64",
         "stats": {
          "unique_count": 48,
          "nan_count": 0,
          "min": "1",
          "max": "66",
          "histogram": [
           {
            "bin_start": 1,
            "bin_end": 7.5,
            "count": 16253
           },
           {
            "bin_start": 7.5,
            "bin_end": 14,
            "count": 630
           },
           {
            "bin_start": 14,
            "bin_end": 20.5,
            "count": 180
           },
           {
            "bin_start": 20.5,
            "bin_end": 27,
            "count": 51
           },
           {
            "bin_start": 27,
            "bin_end": 33.5,
            "count": 18
           },
           {
            "bin_start": 33.5,
            "bin_end": 40,
            "count": 7
           },
           {
            "bin_start": 40,
            "bin_end": 46.5,
            "count": 10
           },
           {
            "bin_start": 46.5,
            "bin_end": 53,
            "count": 2
           },
           {
            "bin_start": 53,
            "bin_end": 59.5,
            "count": 4
           },
           {
            "bin_start": 59.5,
            "bin_end": 66,
            "count": 2
           }
          ]
         }
        },
        {
         "name": "_deepnote_index_column",
         "dtype": "int64"
        }
       ],
       "rows": [
        {
         "FloorLineupId_Offense": 4423,
         "Points": 993,
         "Possession": 873,
         "Players_Offense": "P.J. Tucker Jr., Chris Paul, Eric Gordon Jr., James Harden, Clint Capela",
         "GP": 38,
         "_deepnote_index_column": 1004
        },
        {
         "FloorLineupId_Offense": 6531,
         "Points": 277,
         "Possession": 230,
         "Players_Offense": "Wes Iwundu, Evan Fournier, Jonathan Isaac, Nikola Vucevic, D.J. Augustin Jr.",
         "GP": 38,
         "_deepnote_index_column": 2965
        },
        {
         "FloorLineupId_Offense": 6267,
         "Points": 302,
         "Possession": 264,
         "Players_Offense": "Jae Crowder, Ricky Rubio, Royce O'Neale, Rudy Gobert, Donovan Mitchell Jr.",
         "GP": 36,
         "_deepnote_index_column": 2777
        },
        {
         "FloorLineupId_Offense": 4848,
         "Points": 259,
         "Possession": 222,
         "Players_Offense": "Jakob Poeltl, Davis Bertans, Patty Mills, DeMar DeRozan, Marco Belinelli",
         "GP": 35,
         "_deepnote_index_column": 1429
        },
        {
         "FloorLineupId_Offense": 5176,
         "Points": 518,
         "Possession": 417,
         "Players_Offense": "Stephen Curry, Kevin Durant, Andre Iguodala, Klay Thompson, Draymond Green",
         "GP": 35,
         "_deepnote_index_column": 1757
        },
        {
         "FloorLineupId_Offense": 7013,
         "Points": 293,
         "Possession": 290,
         "Players_Offense": "Sterling Brown, Eric Bledsoe, Khris Middleton, Giannis Antetokounmpo, Brook Lopez",
         "GP": 33,
         "_deepnote_index_column": 3297
        },
        {
         "FloorLineupId_Offense": 17874,
         "Points": 338,
         "Possession": 319,
         "Players_Offense": "Jae Crowder, Rudy Gobert, Royce O'Neale, Kyle Korver, Donovan Mitchell Jr.",
         "GP": 33,
         "_deepnote_index_column": 10834
        },
        {
         "FloorLineupId_Offense": 3722,
         "Points": 1318,
         "Possession": 1123,
         "Players_Offense": "Danny Green, Kyle Lowry, Kawhi Leonard, Pascal Siakam, Serge Ibaka",
         "GP": 33,
         "_deepnote_index_column": 304
        },
        {
         "FloorLineupId_Offense": 4616,
         "Points": 356,
         "Possession": 307,
         "Players_Offense": "Klay Thompson, Stephen Curry, Andre Iguodala, Kevin Durant, Kevon Looney",
         "GP": 33,
         "_deepnote_index_column": 1197
        },
        {
         "FloorLineupId_Offense": 3686,
         "Points": 438,
         "Possession": 352,
         "Players_Offense": "Thaddeus Young, Doug McDermott, Cory Joseph, Domantas Sabonis, Tyreke Evans",
         "GP": 33,
         "_deepnote_index_column": 268
        }
       ]
      },
      "text/plain": "       FloorLineupId_Offense  Points  Possession  \\\n1                         36    1954        1754   \n487                     3905    1209        1024   \n432                     3850    2250        1976   \n1019                    4438    1146         987   \n120                     3346    1110        1037   \n...                      ...     ...         ...   \n8891                   14909       0           1   \n8893                   14911       0           0   \n8894                   14912       0           0   \n8895                   14913      12          17   \n17156                 348946       0           0   \n\n                                         Players_Offense  GP  \n1      Evan Fournier, D.J. Augustin Jr., Aaron Gordon...  66  \n487    Donovan Mitchell Jr., Ricky Rubio, Joe Ingles,...  60  \n432    Terrance Ferguson Jr., Russell Westbrook, Paul...  58  \n1019   Dennis Schroder, Russell Westbrook, Paul Georg...  58  \n120    Donovan Mitchell Jr., Ricky Rubio, Joe Ingles,...  56  \n...                                                  ...  ..  \n8891   Shelvin Mack Jr., Marc Gasol, MarShon Brooks, ...   1  \n8893   Joakim Noah, Marc Gasol, Omri Casspi, Wayne Se...   1  \n8894   Joakim Noah, Marc Gasol, Omri Casspi, Wayne Se...   1  \n8895   Joakim Noah, D.J. Stephens, Omri Casspi, Wayne...   1  \n17156  Wade Baldwin IV, Anfernee Simons, Caleb Swanig...   1  \n\n[17157 rows x 5 columns]",
      "text/html": "<div>\n<style scoped>\n    .dataframe tbody tr th:only-of-type {\n        vertical-align: middle;\n    }\n\n    .dataframe tbody tr th {\n        vertical-align: top;\n    }\n\n    .dataframe thead th {\n        text-align: right;\n    }\n</style>\n<table border=\"1\" class=\"dataframe\">\n  <thead>\n    <tr style=\"text-align: right;\">\n      <th></th>\n      <th>FloorLineupId_Offense</th>\n      <th>Points</th>\n      <th>Possession</th>\n      <th>Players_Offense</th>\n      <th>GP</th>\n    </tr>\n  </thead>\n  <tbody>\n    <tr>\n      <th>1</th>\n      <td>36</td>\n      <td>1954</td>\n      <td>1754</td>\n      <td>Evan Fournier, D.J. Augustin Jr., Aaron Gordon...</td>\n      <td>66</td>\n    </tr>\n    <tr>\n      <th>487</th>\n      <td>3905</td>\n      <td>1209</td>\n      <td>1024</td>\n      <td>Donovan Mitchell Jr., Ricky Rubio, Joe Ingles,...</td>\n      <td>60</td>\n    </tr>\n    <tr>\n      <th>432</th>\n      <td>3850</td>\n      <td>2250</td>\n      <td>1976</td>\n      <td>Terrance Ferguson Jr., Russell Westbrook, Paul...</td>\n      <td>58</td>\n    </tr>\n    <tr>\n      <th>1019</th>\n      <td>4438</td>\n      <td>1146</td>\n      <td>987</td>\n      <td>Dennis Schroder, Russell Westbrook, Paul Georg...</td>\n      <td>58</td>\n    </tr>\n    <tr>\n      <th>120</th>\n      <td>3346</td>\n      <td>1110</td>\n      <td>1037</td>\n      <td>Donovan Mitchell Jr., Ricky Rubio, Joe Ingles,...</td>\n      <td>56</td>\n    </tr>\n    <tr>\n      <th>...</th>\n      <td>...</td>\n      <td>...</td>\n      <td>...</td>\n      <td>...</td>\n      <td>...</td>\n    </tr>\n    <tr>\n      <th>8891</th>\n      <td>14909</td>\n      <td>0</td>\n      <td>1</td>\n      <td>Shelvin Mack Jr., Marc Gasol, MarShon Brooks, ...</td>\n      <td>1</td>\n    </tr>\n    <tr>\n      <th>8893</th>\n      <td>14911</td>\n      <td>0</td>\n      <td>0</td>\n      <td>Joakim Noah, Marc Gasol, Omri Casspi, Wayne Se...</td>\n      <td>1</td>\n    </tr>\n    <tr>\n      <th>8894</th>\n      <td>14912</td>\n      <td>0</td>\n      <td>0</td>\n      <td>Joakim Noah, Marc Gasol, Omri Casspi, Wayne Se...</td>\n      <td>1</td>\n    </tr>\n    <tr>\n      <th>8895</th>\n      <td>14913</td>\n      <td>12</td>\n      <td>17</td>\n      <td>Joakim Noah, D.J. Stephens, Omri Casspi, Wayne...</td>\n      <td>1</td>\n    </tr>\n    <tr>\n      <th>17156</th>\n      <td>348946</td>\n      <td>0</td>\n      <td>0</td>\n      <td>Wade Baldwin IV, Anfernee Simons, Caleb Swanig...</td>\n      <td>1</td>\n    </tr>\n  </tbody>\n</table>\n<p>17157 rows × 5 columns</p>\n</div>"
     },
     "metadata": {}
    }
   ]
  },
  {
   "cell_type": "code",
   "metadata": {
    "cell_id": "bc2eaeae-8675-4dc2-a63f-e20f16b58958",
    "tags": [],
    "deepnote_to_be_reexecuted": false,
    "source_hash": "45963414",
    "execution_start": 1647557922996,
    "execution_millis": 24,
    "owner_user_id": "f15e0aec-e3fd-45cb-b701-f4b78187aeaa",
    "deepnote_cell_type": "code",
    "deepnote_cell_height": 672
   },
   "source": "# https://www.nba.com/stats/lineups/advanced/?Season=2018-19&SeasonType=Regular%20Season&sort=GP&dir=1\nortg['ORTG'] = 100 * ortg['Points'] / ortg['Possession']\n\nortg = ortg[['FloorLineupId_Offense', 'Players_Offense', 'ORTG', 'Points', 'Possession', 'GP']]\nortg.sort_values(by='GP', ascending=False)`",
   "execution_count": null,
   "outputs": [
    {
     "output_type": "execute_result",
     "execution_count": 8,
     "data": {
      "application/vnd.deepnote.dataframe.v3+json": {
       "column_count": 6,
       "row_count": 17157,
       "columns": [
        {
         "name": "FloorLineupId_Offense",
         "dtype": "int64",
         "stats": {
          "unique_count": 17157,
          "nan_count": 0,
          "min": "13",
          "max": "348946",
          "histogram": [
           {
            "bin_start": 13,
            "bin_end": 34906.3,
            "count": 17139
           },
           {
            "bin_start": 34906.3,
            "bin_end": 69799.6,
            "count": 2
           },
           {
            "bin_start": 69799.6,
            "bin_end": 104692.90000000001,
            "count": 9
           },
           {
            "bin_start": 104692.90000000001,
            "bin_end": 139586.2,
            "count": 0
           },
           {
            "bin_start": 139586.2,
            "bin_end": 174479.5,
            "count": 0
           },
           {
            "bin_start": 174479.5,
            "bin_end": 209372.80000000002,
            "count": 0
           },
           {
            "bin_start": 209372.80000000002,
            "bin_end": 244266.10000000003,
            "count": 0
           },
           {
            "bin_start": 244266.10000000003,
            "bin_end": 279159.4,
            "count": 0
           },
           {
            "bin_start": 279159.4,
            "bin_end": 314052.7,
            "count": 0
           },
           {
            "bin_start": 314052.7,
            "bin_end": 348946,
            "count": 7
           }
          ]
         }
        },
        {
         "name": "Players_Offense",
         "dtype": "object",
         "stats": {
          "unique_count": 17157,
          "nan_count": 0,
          "categories": [
           {
            "name": "Evan Fournier, D.J. Augustin Jr., Aaron Gordon, Jonathan Isaac, Nikola Vucevic",
            "count": 1
           },
           {
            "name": "Donovan Mitchell Jr., Ricky Rubio, Joe Ingles, Jae Crowder, Rudy Gobert",
            "count": 1
           },
           {
            "name": "17155 others",
            "count": 17155
           }
          ]
         }
        },
        {
         "name": "ORTG",
         "dtype": "float64",
         "stats": {
          "unique_count": 1187,
          "nan_count": 2834,
          "min": "0.0",
          "max": "inf",
          "histogram": [
           {
            "bin_start": 0,
            "bin_end": 50,
            "count": 2226
           },
           {
            "bin_start": 50,
            "bin_end": 100,
            "count": 3423
           },
           {
            "bin_start": 100,
            "bin_end": 150,
            "count": 6169
           },
           {
            "bin_start": 150,
            "bin_end": 200,
            "count": 1478
           },
           {
            "bin_start": 200,
            "bin_end": 250,
            "count": 755
           },
           {
            "bin_start": 250,
            "bin_end": 300,
            "count": 117
           },
           {
            "bin_start": 300,
            "bin_end": 350,
            "count": 146
           },
           {
            "bin_start": 350,
            "bin_end": 400,
            "count": 1
           },
           {
            "bin_start": 400,
            "bin_end": 450,
            "count": 1
           },
           {
            "bin_start": 450,
            "bin_end": 500,
            "count": 1
           }
          ]
         }
        },
        {
         "name": "Points",
         "dtype": "int64",
         "stats": {
          "unique_count": 311,
          "nan_count": 0,
          "min": "0",
          "max": "2250",
          "histogram": [
           {
            "bin_start": 0,
            "bin_end": 225,
            "count": 17032
           },
           {
            "bin_start": 225,
            "bin_end": 450,
            "count": 80
           },
           {
            "bin_start": 450,
            "bin_end": 675,
            "count": 18
           },
           {
            "bin_start": 675,
            "bin_end": 900,
            "count": 11
           },
           {
            "bin_start": 900,
            "bin_end": 1125,
            "count": 5
           },
           {
            "bin_start": 1125,
            "bin_end": 1350,
            "count": 6
           },
           {
            "bin_start": 1350,
            "bin_end": 1575,
            "count": 2
           },
           {
            "bin_start": 1575,
            "bin_end": 1800,
            "count": 0
           },
           {
            "bin_start": 1800,
            "bin_end": 2025,
            "count": 2
           },
           {
            "bin_start": 2025,
            "bin_end": 2250,
            "count": 1
           }
          ]
         }
        },
        {
         "name": "Possession",
         "dtype": "int64",
         "stats": {
          "unique_count": 306,
          "nan_count": 0,
          "min": "0",
          "max": "1976",
          "histogram": [
           {
            "bin_start": 0,
            "bin_end": 197.6,
            "count": 17027
           },
           {
            "bin_start": 197.6,
            "bin_end": 395.2,
            "count": 83
           },
           {
            "bin_start": 395.2,
            "bin_end": 592.8,
            "count": 21
           },
           {
            "bin_start": 592.8,
            "bin_end": 790.4,
            "count": 10
           },
           {
            "bin_start": 790.4,
            "bin_end": 988,
            "count": 5
           },
           {
            "bin_start": 988,
            "bin_end": 1185.6,
            "count": 6
           },
           {
            "bin_start": 1185.6,
            "bin_end": 1383.2,
            "count": 2
           },
           {
            "bin_start": 1383.2,
            "bin_end": 1580.8,
            "count": 1
           },
           {
            "bin_start": 1580.8,
            "bin_end": 1778.3999999999999,
            "count": 1
           },
           {
            "bin_start": 1778.3999999999999,
            "bin_end": 1976,
            "count": 1
           }
          ]
         }
        },
        {
         "name": "GP",
         "dtype": "int64"
        },
        {
         "name": "_deepnote_index_column",
         "dtype": "int64"
        }
       ],
       "rows": [
        {
         "FloorLineupId_Offense": 36,
         "Players_Offense": "Evan Fournier, D.J. Augustin Jr., Aaron Gordon, Jonathan Isaac, Nikola Vucevic",
         "ORTG": 111.40250855188141,
         "Points": 1954,
         "Possession": 1754,
         "GP": 66,
         "_deepnote_index_column": 1
        },
        {
         "FloorLineupId_Offense": 3905,
         "Players_Offense": "Donovan Mitchell Jr., Ricky Rubio, Joe Ingles, Jae Crowder, Rudy Gobert",
         "ORTG": 118.06640625,
         "Points": 1209,
         "Possession": 1024,
         "GP": 60,
         "_deepnote_index_column": 487
        },
        {
         "FloorLineupId_Offense": 3850,
         "Players_Offense": "Terrance Ferguson Jr., Russell Westbrook, Paul George, Jerami Grant, Steven Adams",
         "ORTG": 113.8663967611336,
         "Points": 2250,
         "Possession": 1976,
         "GP": 58,
         "_deepnote_index_column": 432
        },
        {
         "FloorLineupId_Offense": 4438,
         "Players_Offense": "Dennis Schroder, Russell Westbrook, Paul George, Jerami Grant, Steven Adams",
         "ORTG": 116.10942249240122,
         "Points": 1146,
         "Possession": 987,
         "GP": 58,
         "_deepnote_index_column": 1019
        },
        {
         "FloorLineupId_Offense": 3346,
         "Players_Offense": "Donovan Mitchell Jr., Ricky Rubio, Joe Ingles, Derrick Favors, Rudy Gobert",
         "ORTG": 107.03953712632594,
         "Points": 1110,
         "Possession": 1037,
         "GP": 56,
         "_deepnote_index_column": 120
        },
        {
         "FloorLineupId_Offense": 3363,
         "Players_Offense": "Malcolm Brogdon, Eric Bledsoe, Khris Middleton, Giannis Antetokounmpo, Brook Lopez",
         "ORTG": 114.33990895295904,
         "Points": 1507,
         "Possession": 1318,
         "GP": 56,
         "_deepnote_index_column": 130
        },
        {
         "FloorLineupId_Offense": 909,
         "Players_Offense": "Aaron Gordon, Terrence Ross, D.J. Augustin Jr., Evan Fournier, Nikola Vucevic",
         "ORTG": 109.39334637964775,
         "Points": 559,
         "Possession": 511,
         "GP": 49,
         "_deepnote_index_column": 25
        },
        {
         "FloorLineupId_Offense": 3241,
         "Players_Offense": "Jeremy Lamb, Kemba Walker, Nicolas Batum, Marvin Williams Jr., Cody Zeller",
         "ORTG": 117.73927392739274,
         "Points": 1427,
         "Possession": 1212,
         "GP": 48,
         "_deepnote_index_column": 69
        },
        {
         "FloorLineupId_Offense": 5119,
         "Players_Offense": "C.J. McCollum, Damian Lillard, Evan Turner, Al-Farouq Aminu, Jusuf Nurkic",
         "ORTG": 120.79566003616637,
         "Points": 668,
         "Possession": 553,
         "GP": 46,
         "_deepnote_index_column": 1700
        },
        {
         "FloorLineupId_Offense": 4762,
         "Players_Offense": "Klay Thompson, Stephen Curry, Kevin Durant, Draymond Green, Kevon Looney",
         "ORTG": 125.33333333333333,
         "Points": 846,
         "Possession": 675,
         "GP": 43,
         "_deepnote_index_column": 1343
        }
       ]
      },
      "text/plain": "       FloorLineupId_Offense  \\\n1                         36   \n487                     3905   \n432                     3850   \n1019                    4438   \n120                     3346   \n...                      ...   \n8891                   14909   \n8893                   14911   \n8894                   14912   \n8895                   14913   \n17156                 348946   \n\n                                         Players_Offense        ORTG  Points  \\\n1      Evan Fournier, D.J. Augustin Jr., Aaron Gordon...  111.402509    1954   \n487    Donovan Mitchell Jr., Ricky Rubio, Joe Ingles,...  118.066406    1209   \n432    Terrance Ferguson Jr., Russell Westbrook, Paul...  113.866397    2250   \n1019   Dennis Schroder, Russell Westbrook, Paul Georg...  116.109422    1146   \n120    Donovan Mitchell Jr., Ricky Rubio, Joe Ingles,...  107.039537    1110   \n...                                                  ...         ...     ...   \n8891   Shelvin Mack Jr., Marc Gasol, MarShon Brooks, ...    0.000000       0   \n8893   Joakim Noah, Marc Gasol, Omri Casspi, Wayne Se...         NaN       0   \n8894   Joakim Noah, Marc Gasol, Omri Casspi, Wayne Se...         NaN       0   \n8895   Joakim Noah, D.J. Stephens, Omri Casspi, Wayne...   70.588235      12   \n17156  Wade Baldwin IV, Anfernee Simons, Caleb Swanig...         NaN       0   \n\n       Possession  GP  \n1            1754  66  \n487          1024  60  \n432          1976  58  \n1019          987  58  \n120          1037  56  \n...           ...  ..  \n8891            1   1  \n8893            0   1  \n8894            0   1  \n8895           17   1  \n17156           0   1  \n\n[17157 rows x 6 columns]",
      "text/html": "<div>\n<style scoped>\n    .dataframe tbody tr th:only-of-type {\n        vertical-align: middle;\n    }\n\n    .dataframe tbody tr th {\n        vertical-align: top;\n    }\n\n    .dataframe thead th {\n        text-align: right;\n    }\n</style>\n<table border=\"1\" class=\"dataframe\">\n  <thead>\n    <tr style=\"text-align: right;\">\n      <th></th>\n      <th>FloorLineupId_Offense</th>\n      <th>Players_Offense</th>\n      <th>ORTG</th>\n      <th>Points</th>\n      <th>Possession</th>\n      <th>GP</th>\n    </tr>\n  </thead>\n  <tbody>\n    <tr>\n      <th>1</th>\n      <td>36</td>\n      <td>Evan Fournier, D.J. Augustin Jr., Aaron Gordon...</td>\n      <td>111.402509</td>\n      <td>1954</td>\n      <td>1754</td>\n      <td>66</td>\n    </tr>\n    <tr>\n      <th>487</th>\n      <td>3905</td>\n      <td>Donovan Mitchell Jr., Ricky Rubio, Joe Ingles,...</td>\n      <td>118.066406</td>\n      <td>1209</td>\n      <td>1024</td>\n      <td>60</td>\n    </tr>\n    <tr>\n      <th>432</th>\n      <td>3850</td>\n      <td>Terrance Ferguson Jr., Russell Westbrook, Paul...</td>\n      <td>113.866397</td>\n      <td>2250</td>\n      <td>1976</td>\n      <td>58</td>\n    </tr>\n    <tr>\n      <th>1019</th>\n      <td>4438</td>\n      <td>Dennis Schroder, Russell Westbrook, Paul Georg...</td>\n      <td>116.109422</td>\n      <td>1146</td>\n      <td>987</td>\n      <td>58</td>\n    </tr>\n    <tr>\n      <th>120</th>\n      <td>3346</td>\n      <td>Donovan Mitchell Jr., Ricky Rubio, Joe Ingles,...</td>\n      <td>107.039537</td>\n      <td>1110</td>\n      <td>1037</td>\n      <td>56</td>\n    </tr>\n    <tr>\n      <th>...</th>\n      <td>...</td>\n      <td>...</td>\n      <td>...</td>\n      <td>...</td>\n      <td>...</td>\n      <td>...</td>\n    </tr>\n    <tr>\n      <th>8891</th>\n      <td>14909</td>\n      <td>Shelvin Mack Jr., Marc Gasol, MarShon Brooks, ...</td>\n      <td>0.000000</td>\n      <td>0</td>\n      <td>1</td>\n      <td>1</td>\n    </tr>\n    <tr>\n      <th>8893</th>\n      <td>14911</td>\n      <td>Joakim Noah, Marc Gasol, Omri Casspi, Wayne Se...</td>\n      <td>NaN</td>\n      <td>0</td>\n      <td>0</td>\n      <td>1</td>\n    </tr>\n    <tr>\n      <th>8894</th>\n      <td>14912</td>\n      <td>Joakim Noah, Marc Gasol, Omri Casspi, Wayne Se...</td>\n      <td>NaN</td>\n      <td>0</td>\n      <td>0</td>\n      <td>1</td>\n    </tr>\n    <tr>\n      <th>8895</th>\n      <td>14913</td>\n      <td>Joakim Noah, D.J. Stephens, Omri Casspi, Wayne...</td>\n      <td>70.588235</td>\n      <td>12</td>\n      <td>17</td>\n      <td>1</td>\n    </tr>\n    <tr>\n      <th>17156</th>\n      <td>348946</td>\n      <td>Wade Baldwin IV, Anfernee Simons, Caleb Swanig...</td>\n      <td>NaN</td>\n      <td>0</td>\n      <td>0</td>\n      <td>1</td>\n    </tr>\n  </tbody>\n</table>\n<p>17157 rows × 6 columns</p>\n</div>"
     },
     "metadata": {}
    }
   ]
  },
  {
   "cell_type": "code",
   "metadata": {
    "cell_id": "a0d7e9bc-e6eb-467c-81aa-6f9a3a79a77b",
    "tags": [],
    "deepnote_cell_type": "code",
    "deepnote_cell_height": 66
   },
   "source": "",
   "execution_count": null,
   "outputs": []
  },
  {
   "cell_type": "code",
   "metadata": {
    "cell_id": "ce919ef3-5de6-481a-8c69-e4bcffb3ff5a",
    "tags": [],
    "deepnote_cell_type": "code",
    "deepnote_cell_height": 66
   },
   "source": "",
   "execution_count": null,
   "outputs": []
  },
  {
   "cell_type": "code",
   "metadata": {
    "cell_id": "69e02ea0-b8fc-469a-aae0-cdab135d6ab5",
    "tags": [],
    "deepnote_cell_type": "code",
    "deepnote_cell_height": 66
   },
   "source": "",
   "execution_count": null,
   "outputs": []
  },
  {
   "cell_type": "code",
   "metadata": {
    "cell_id": "e8d4727c-c77a-4bd8-9ba8-ebd5c91f9bfd",
    "tags": [],
    "deepnote_to_be_reexecuted": false,
    "source_hash": "bf368eca",
    "execution_start": 1647559575381,
    "execution_millis": 143,
    "deepnote_cell_type": "code",
    "deepnote_cell_height": 726
   },
   "source": "defense_cols = ['Points', 'Possession', 'Players_Defense', 'GameId']\ndrtg = df.groupby(['FloorLineupId_Defense']).agg({\n    'Points': 'sum',\n    'Possession': 'sum',\n    'Players_Defense': 'first',\n    'GameId': 'nunique'\n    })[defense_cols].rename(columns={\"GameId\": \"GP\"}).reset_index()\ndrtg",
   "execution_count": null,
   "outputs": [
    {
     "output_type": "execute_result",
     "execution_count": 11,
     "data": {
      "application/vnd.deepnote.dataframe.v3+json": {
       "column_count": 5,
       "row_count": 16805,
       "columns": [
        {
         "name": "FloorLineupId_Defense",
         "dtype": "int64",
         "stats": {
          "unique_count": 16805,
          "nan_count": 0,
          "min": "13",
          "max": "348938",
          "histogram": [
           {
            "bin_start": 13,
            "bin_end": 34905.5,
            "count": 16790
           },
           {
            "bin_start": 34905.5,
            "bin_end": 69798,
            "count": 2
           },
           {
            "bin_start": 69798,
            "bin_end": 104690.5,
            "count": 9
           },
           {
            "bin_start": 104690.5,
            "bin_end": 139583,
            "count": 3
           },
           {
            "bin_start": 139583,
            "bin_end": 174475.5,
            "count": 0
           },
           {
            "bin_start": 174475.5,
            "bin_end": 209368,
            "count": 0
           },
           {
            "bin_start": 209368,
            "bin_end": 244260.5,
            "count": 0
           },
           {
            "bin_start": 244260.5,
            "bin_end": 279153,
            "count": 0
           },
           {
            "bin_start": 279153,
            "bin_end": 314045.5,
            "count": 0
           },
           {
            "bin_start": 314045.5,
            "bin_end": 348938,
            "count": 1
           }
          ]
         }
        },
        {
         "name": "Points",
         "dtype": "int64",
         "stats": {
          "unique_count": 316,
          "nan_count": 0,
          "min": "0",
          "max": "2088",
          "histogram": [
           {
            "bin_start": 0,
            "bin_end": 208.8,
            "count": 16666
           },
           {
            "bin_start": 208.8,
            "bin_end": 417.6,
            "count": 92
           },
           {
            "bin_start": 417.6,
            "bin_end": 626.4000000000001,
            "count": 20
           },
           {
            "bin_start": 626.4000000000001,
            "bin_end": 835.2,
            "count": 9
           },
           {
            "bin_start": 835.2,
            "bin_end": 1044,
            "count": 6
           },
           {
            "bin_start": 1044,
            "bin_end": 1252.8000000000002,
            "count": 7
           },
           {
            "bin_start": 1252.8000000000002,
            "bin_end": 1461.6000000000001,
            "count": 2
           },
           {
            "bin_start": 1461.6000000000001,
            "bin_end": 1670.4,
            "count": 0
           },
           {
            "bin_start": 1670.4,
            "bin_end": 1879.2,
            "count": 1
           },
           {
            "bin_start": 1879.2,
            "bin_end": 2088,
            "count": 2
           }
          ]
         }
        },
        {
         "name": "Possession",
         "dtype": "int64",
         "stats": {
          "unique_count": 292,
          "nan_count": 0,
          "min": "0",
          "max": "1979",
          "histogram": [
           {
            "bin_start": 0,
            "bin_end": 197.9,
            "count": 16675
           },
           {
            "bin_start": 197.9,
            "bin_end": 395.8,
            "count": 83
           },
           {
            "bin_start": 395.8,
            "bin_end": 593.7,
            "count": 21
           },
           {
            "bin_start": 593.7,
            "bin_end": 791.6,
            "count": 10
           },
           {
            "bin_start": 791.6,
            "bin_end": 989.5,
            "count": 5
           },
           {
            "bin_start": 989.5,
            "bin_end": 1187.4,
            "count": 6
           },
           {
            "bin_start": 1187.4,
            "bin_end": 1385.3,
            "count": 2
           },
           {
            "bin_start": 1385.3,
            "bin_end": 1583.2,
            "count": 1
           },
           {
            "bin_start": 1583.2,
            "bin_end": 1781.1000000000001,
            "count": 1
           },
           {
            "bin_start": 1781.1000000000001,
            "bin_end": 1979,
            "count": 1
           }
          ]
         }
        },
        {
         "name": "Players_Defense",
         "dtype": "object",
         "stats": {
          "unique_count": 16805,
          "nan_count": 0,
          "categories": [
           {
            "name": "Harrison Barnes, Bogdan Bogdanovic, De'Aaron Fox, Buddy Hield, Marvin Bagley III",
            "count": 1
           },
           {
            "name": "Evan Fournier, D.J. Augustin Jr., Aaron Gordon, Jonathan Isaac, Nikola Vucevic",
            "count": 1
           },
           {
            "name": "16803 others",
            "count": 16803
           }
          ]
         }
        },
        {
         "name": "GP",
         "dtype": "int64",
         "stats": {
          "unique_count": 48,
          "nan_count": 0,
          "min": "1",
          "max": "67",
          "histogram": [
           {
            "bin_start": 1,
            "bin_end": 7.6,
            "count": 15930
           },
           {
            "bin_start": 7.6,
            "bin_end": 14.2,
            "count": 629
           },
           {
            "bin_start": 14.2,
            "bin_end": 20.799999999999997,
            "count": 153
           },
           {
            "bin_start": 20.799999999999997,
            "bin_end": 27.4,
            "count": 53
           },
           {
            "bin_start": 27.4,
            "bin_end": 34,
            "count": 15
           },
           {
            "bin_start": 34,
            "bin_end": 40.599999999999994,
            "count": 12
           },
           {
            "bin_start": 40.599999999999994,
            "bin_end": 47.199999999999996,
            "count": 5
           },
           {
            "bin_start": 47.199999999999996,
            "bin_end": 53.8,
            "count": 2
           },
           {
            "bin_start": 53.8,
            "bin_end": 60.4,
            "count": 5
           },
           {
            "bin_start": 60.4,
            "bin_end": 67,
            "count": 1
           }
          ]
         }
        },
        {
         "name": "_deepnote_index_column",
         "dtype": "int64"
        }
       ],
       "rows": [
        {
         "FloorLineupId_Defense": 13,
         "Points": 98,
         "Possession": 70,
         "Players_Defense": "Harrison Barnes, Bogdan Bogdanovic, De'Aaron Fox, Buddy Hield, Marvin Bagley III",
         "GP": 7,
         "_deepnote_index_column": 0
        },
        {
         "FloorLineupId_Defense": 36,
         "Points": 1880,
         "Possession": 1764,
         "Players_Defense": "Evan Fournier, D.J. Augustin Jr., Aaron Gordon, Jonathan Isaac, Nikola Vucevic",
         "GP": 67,
         "_deepnote_index_column": 1
        },
        {
         "FloorLineupId_Defense": 40,
         "Points": 45,
         "Possession": 50,
         "Players_Defense": "D.J. Augustin Jr., Wes Iwundu, Aaron Gordon, Jonathan Isaac, Nikola Vucevic",
         "GP": 10,
         "_deepnote_index_column": 2
        },
        {
         "FloorLineupId_Defense": 68,
         "Points": 67,
         "Possession": 55,
         "Players_Defense": "Brandon Knight, Collin Sexton, Cedi Osman, Kevin Love, Tristan Thompson",
         "GP": 3,
         "_deepnote_index_column": 3
        },
        {
         "FloorLineupId_Defense": 72,
         "Points": 103,
         "Possession": 73,
         "Players_Defense": "Tristan Thompson, Brandon Knight, Cedi Osman, Larry Nance Jr., Collin Sexton",
         "GP": 3,
         "_deepnote_index_column": 4
        },
        {
         "FloorLineupId_Defense": 94,
         "Points": 7,
         "Possession": 6,
         "Players_Defense": "Zach LaVine, Kris Dunn, Otto Porter Jr., Lauri Markkanen, Cristiano Felicio",
         "GP": 1,
         "_deepnote_index_column": 5
        },
        {
         "FloorLineupId_Defense": 101,
         "Points": 37,
         "Possession": 34,
         "Players_Defense": "Norman Powell, Fred VanVleet, O.G. Anunoby, Pascal Siakam, Serge Ibaka",
         "GP": 6,
         "_deepnote_index_column": 6
        },
        {
         "FloorLineupId_Defense": 119,
         "Points": 46,
         "Possession": 41,
         "Players_Defense": "Rudy Gay, Jakob Poeltl, Derrick White, Patty Mills, Marco Belinelli",
         "GP": 10,
         "_deepnote_index_column": 7
        },
        {
         "FloorLineupId_Defense": 145,
         "Points": 76,
         "Possession": 74,
         "Players_Defense": "Gary Harris, Jamal Murray, Will Barton, Paul Millsap, Mason Plumlee",
         "GP": 13,
         "_deepnote_index_column": 8
        },
        {
         "FloorLineupId_Defense": 149,
         "Points": 14,
         "Possession": 10,
         "Players_Defense": "Mason Plumlee, Juancho Hernangomez, Paul Millsap, Gary Harris, Jamal Murray",
         "GP": 3,
         "_deepnote_index_column": 9
        }
       ]
      },
      "text/plain": "       FloorLineupId_Defense  Points  Possession  \\\n0                         13      98          70   \n1                         36    1880        1764   \n2                         40      45          50   \n3                         68      67          55   \n4                         72     103          73   \n...                      ...     ...         ...   \n16800                  99745       0           1   \n16801                 113803       0           0   \n16802                 113805       0           0   \n16803                 113806       0           0   \n16804                 348938       0           0   \n\n                                         Players_Defense  GP  \n0      Harrison Barnes, Bogdan Bogdanovic, De'Aaron F...   7  \n1      Evan Fournier, D.J. Augustin Jr., Aaron Gordon...  67  \n2      D.J. Augustin Jr., Wes Iwundu, Aaron Gordon, J...  10  \n3      Brandon Knight, Collin Sexton, Cedi Osman, Kev...   3  \n4      Tristan Thompson, Brandon Knight, Cedi Osman, ...   3  \n...                                                  ...  ..  \n16800  Andre Iguodala, Shaun Livingston, Jonas Jerebk...   1  \n16801  Rodney Hood, Damian Lillard, C.J. McCollum, Ma...   1  \n16802  Kevin Durant, Andre Iguodala, Kevon Looney, Da...   1  \n16803  Dion Waiters, Bam Adebayo, Josh Richardson, Ro...   1  \n16804  Evan Turner, Seth Curry, Nik Stauskas, Caleb S...   1  \n\n[16805 rows x 5 columns]",
      "text/html": "<div>\n<style scoped>\n    .dataframe tbody tr th:only-of-type {\n        vertical-align: middle;\n    }\n\n    .dataframe tbody tr th {\n        vertical-align: top;\n    }\n\n    .dataframe thead th {\n        text-align: right;\n    }\n</style>\n<table border=\"1\" class=\"dataframe\">\n  <thead>\n    <tr style=\"text-align: right;\">\n      <th></th>\n      <th>FloorLineupId_Defense</th>\n      <th>Points</th>\n      <th>Possession</th>\n      <th>Players_Defense</th>\n      <th>GP</th>\n    </tr>\n  </thead>\n  <tbody>\n    <tr>\n      <th>0</th>\n      <td>13</td>\n      <td>98</td>\n      <td>70</td>\n      <td>Harrison Barnes, Bogdan Bogdanovic, De'Aaron F...</td>\n      <td>7</td>\n    </tr>\n    <tr>\n      <th>1</th>\n      <td>36</td>\n      <td>1880</td>\n      <td>1764</td>\n      <td>Evan Fournier, D.J. Augustin Jr., Aaron Gordon...</td>\n      <td>67</td>\n    </tr>\n    <tr>\n      <th>2</th>\n      <td>40</td>\n      <td>45</td>\n      <td>50</td>\n      <td>D.J. Augustin Jr., Wes Iwundu, Aaron Gordon, J...</td>\n      <td>10</td>\n    </tr>\n    <tr>\n      <th>3</th>\n      <td>68</td>\n      <td>67</td>\n      <td>55</td>\n      <td>Brandon Knight, Collin Sexton, Cedi Osman, Kev...</td>\n      <td>3</td>\n    </tr>\n    <tr>\n      <th>4</th>\n      <td>72</td>\n      <td>103</td>\n      <td>73</td>\n      <td>Tristan Thompson, Brandon Knight, Cedi Osman, ...</td>\n      <td>3</td>\n    </tr>\n    <tr>\n      <th>...</th>\n      <td>...</td>\n      <td>...</td>\n      <td>...</td>\n      <td>...</td>\n      <td>...</td>\n    </tr>\n    <tr>\n      <th>16800</th>\n      <td>99745</td>\n      <td>0</td>\n      <td>1</td>\n      <td>Andre Iguodala, Shaun Livingston, Jonas Jerebk...</td>\n      <td>1</td>\n    </tr>\n    <tr>\n      <th>16801</th>\n      <td>113803</td>\n      <td>0</td>\n      <td>0</td>\n      <td>Rodney Hood, Damian Lillard, C.J. McCollum, Ma...</td>\n      <td>1</td>\n    </tr>\n    <tr>\n      <th>16802</th>\n      <td>113805</td>\n      <td>0</td>\n      <td>0</td>\n      <td>Kevin Durant, Andre Iguodala, Kevon Looney, Da...</td>\n      <td>1</td>\n    </tr>\n    <tr>\n      <th>16803</th>\n      <td>113806</td>\n      <td>0</td>\n      <td>0</td>\n      <td>Dion Waiters, Bam Adebayo, Josh Richardson, Ro...</td>\n      <td>1</td>\n    </tr>\n    <tr>\n      <th>16804</th>\n      <td>348938</td>\n      <td>0</td>\n      <td>0</td>\n      <td>Evan Turner, Seth Curry, Nik Stauskas, Caleb S...</td>\n      <td>1</td>\n    </tr>\n  </tbody>\n</table>\n<p>16805 rows × 5 columns</p>\n</div>"
     },
     "metadata": {}
    }
   ]
  },
  {
   "cell_type": "code",
   "metadata": {
    "cell_id": "98c1889c-d695-4943-a105-234f029bf26b",
    "tags": [],
    "deepnote_to_be_reexecuted": false,
    "source_hash": "47a6fdbe",
    "execution_start": 1647559596085,
    "execution_millis": 68,
    "deepnote_cell_type": "code",
    "deepnote_cell_height": 636
   },
   "source": "drtg['DRTG'] = 100 * drtg['Points'] / drtg['Possession']\ndrtg = drtg[['FloorLineupId_Defense', 'Players_Defense', 'DRTG', 'Points', 'Possession', 'GP']]\ndrtg.sort_values(by='GP', ascending=False)",
   "execution_count": null,
   "outputs": [
    {
     "output_type": "execute_result",
     "execution_count": 12,
     "data": {
      "application/vnd.deepnote.dataframe.v3+json": {
       "column_count": 6,
       "row_count": 16805,
       "columns": [
        {
         "name": "FloorLineupId_Defense",
         "dtype": "int64",
         "stats": {
          "unique_count": 16805,
          "nan_count": 0,
          "min": "13",
          "max": "348938",
          "histogram": [
           {
            "bin_start": 13,
            "bin_end": 34905.5,
            "count": 16790
           },
           {
            "bin_start": 34905.5,
            "bin_end": 69798,
            "count": 2
           },
           {
            "bin_start": 69798,
            "bin_end": 104690.5,
            "count": 9
           },
           {
            "bin_start": 104690.5,
            "bin_end": 139583,
            "count": 3
           },
           {
            "bin_start": 139583,
            "bin_end": 174475.5,
            "count": 0
           },
           {
            "bin_start": 174475.5,
            "bin_end": 209368,
            "count": 0
           },
           {
            "bin_start": 209368,
            "bin_end": 244260.5,
            "count": 0
           },
           {
            "bin_start": 244260.5,
            "bin_end": 279153,
            "count": 0
           },
           {
            "bin_start": 279153,
            "bin_end": 314045.5,
            "count": 0
           },
           {
            "bin_start": 314045.5,
            "bin_end": 348938,
            "count": 1
           }
          ]
         }
        },
        {
         "name": "Players_Defense",
         "dtype": "object",
         "stats": {
          "unique_count": 16805,
          "nan_count": 0,
          "categories": [
           {
            "name": "Evan Fournier, D.J. Augustin Jr., Aaron Gordon, Jonathan Isaac, Nikola Vucevic",
            "count": 1
           },
           {
            "name": "Donovan Mitchell Jr., Ricky Rubio, Joe Ingles, Jae Crowder, Rudy Gobert",
            "count": 1
           },
           {
            "name": "16803 others",
            "count": 16803
           }
          ]
         }
        },
        {
         "name": "DRTG",
         "dtype": "float64",
         "stats": {
          "unique_count": 1192,
          "nan_count": 2353,
          "min": "0.0",
          "max": "inf",
          "histogram": [
           {
            "bin_start": 0,
            "bin_end": 40,
            "count": 1483
           },
           {
            "bin_start": 40,
            "bin_end": 80,
            "count": 2025
           },
           {
            "bin_start": 80,
            "bin_end": 120,
            "count": 5187
           },
           {
            "bin_start": 120,
            "bin_end": 160,
            "count": 3268
           },
           {
            "bin_start": 160,
            "bin_end": 200,
            "count": 909
           },
           {
            "bin_start": 200,
            "bin_end": 240,
            "count": 1143
           },
           {
            "bin_start": 240,
            "bin_end": 280,
            "count": 211
           },
           {
            "bin_start": 280,
            "bin_end": 320,
            "count": 215
           },
           {
            "bin_start": 320,
            "bin_end": 360,
            "count": 0
           },
           {
            "bin_start": 360,
            "bin_end": 400,
            "count": 8
           }
          ]
         }
        },
        {
         "name": "Points",
         "dtype": "int64",
         "stats": {
          "unique_count": 316,
          "nan_count": 0,
          "min": "0",
          "max": "2088",
          "histogram": [
           {
            "bin_start": 0,
            "bin_end": 208.8,
            "count": 16666
           },
           {
            "bin_start": 208.8,
            "bin_end": 417.6,
            "count": 92
           },
           {
            "bin_start": 417.6,
            "bin_end": 626.4000000000001,
            "count": 20
           },
           {
            "bin_start": 626.4000000000001,
            "bin_end": 835.2,
            "count": 9
           },
           {
            "bin_start": 835.2,
            "bin_end": 1044,
            "count": 6
           },
           {
            "bin_start": 1044,
            "bin_end": 1252.8000000000002,
            "count": 7
           },
           {
            "bin_start": 1252.8000000000002,
            "bin_end": 1461.6000000000001,
            "count": 2
           },
           {
            "bin_start": 1461.6000000000001,
            "bin_end": 1670.4,
            "count": 0
           },
           {
            "bin_start": 1670.4,
            "bin_end": 1879.2,
            "count": 1
           },
           {
            "bin_start": 1879.2,
            "bin_end": 2088,
            "count": 2
           }
          ]
         }
        },
        {
         "name": "Possession",
         "dtype": "int64",
         "stats": {
          "unique_count": 292,
          "nan_count": 0,
          "min": "0",
          "max": "1979",
          "histogram": [
           {
            "bin_start": 0,
            "bin_end": 197.9,
            "count": 16675
           },
           {
            "bin_start": 197.9,
            "bin_end": 395.8,
            "count": 83
           },
           {
            "bin_start": 395.8,
            "bin_end": 593.7,
            "count": 21
           },
           {
            "bin_start": 593.7,
            "bin_end": 791.6,
            "count": 10
           },
           {
            "bin_start": 791.6,
            "bin_end": 989.5,
            "count": 5
           },
           {
            "bin_start": 989.5,
            "bin_end": 1187.4,
            "count": 6
           },
           {
            "bin_start": 1187.4,
            "bin_end": 1385.3,
            "count": 2
           },
           {
            "bin_start": 1385.3,
            "bin_end": 1583.2,
            "count": 1
           },
           {
            "bin_start": 1583.2,
            "bin_end": 1781.1000000000001,
            "count": 1
           },
           {
            "bin_start": 1781.1000000000001,
            "bin_end": 1979,
            "count": 1
           }
          ]
         }
        },
        {
         "name": "GP",
         "dtype": "int64"
        },
        {
         "name": "_deepnote_index_column",
         "dtype": "int64"
        }
       ],
       "rows": [
        {
         "FloorLineupId_Defense": 36,
         "Players_Defense": "Evan Fournier, D.J. Augustin Jr., Aaron Gordon, Jonathan Isaac, Nikola Vucevic",
         "DRTG": 106.57596371882086,
         "Points": 1880,
         "Possession": 1764,
         "GP": 67,
         "_deepnote_index_column": 1
        },
        {
         "FloorLineupId_Defense": 3905,
         "Players_Defense": "Donovan Mitchell Jr., Ricky Rubio, Joe Ingles, Jae Crowder, Rudy Gobert",
         "DRTG": 106.48330058939096,
         "Points": 1084,
         "Possession": 1018,
         "GP": 60,
         "_deepnote_index_column": 483
        },
        {
         "FloorLineupId_Defense": 4438,
         "Players_Defense": "Dennis Schroder, Russell Westbrook, Paul George, Jerami Grant, Steven Adams",
         "DRTG": 108.96907216494846,
         "Points": 1057,
         "Possession": 970,
         "GP": 58,
         "_deepnote_index_column": 1016
        },
        {
         "FloorLineupId_Defense": 3850,
         "Players_Defense": "Terrance Ferguson Jr., Russell Westbrook, Paul George, Jerami Grant, Steven Adams",
         "DRTG": 105.50783223850429,
         "Points": 2088,
         "Possession": 1979,
         "GP": 58,
         "_deepnote_index_column": 428
        },
        {
         "FloorLineupId_Defense": 3346,
         "Players_Defense": "Donovan Mitchell Jr., Ricky Rubio, Joe Ingles, Derrick Favors, Rudy Gobert",
         "DRTG": 101.34874759152216,
         "Points": 1052,
         "Possession": 1038,
         "GP": 56,
         "_deepnote_index_column": 119
        },
        {
         "FloorLineupId_Defense": 3363,
         "Players_Defense": "Malcolm Brogdon, Eric Bledsoe, Khris Middleton, Giannis Antetokounmpo, Brook Lopez",
         "DRTG": 109.50540958268934,
         "Points": 1417,
         "Possession": 1294,
         "GP": 56,
         "_deepnote_index_column": 129
        },
        {
         "FloorLineupId_Defense": 909,
         "Players_Defense": "Aaron Gordon, Terrence Ross, D.J. Augustin Jr., Evan Fournier, Nikola Vucevic",
         "DRTG": 104.87288135593221,
         "Points": 495,
         "Possession": 472,
         "GP": 50,
         "_deepnote_index_column": 24
        },
        {
         "FloorLineupId_Defense": 3241,
         "Players_Defense": "Jeremy Lamb, Kemba Walker, Nicolas Batum, Marvin Williams Jr., Cody Zeller",
         "DRTG": 109.26989335520919,
         "Points": 1332,
         "Possession": 1219,
         "GP": 48,
         "_deepnote_index_column": 67
        },
        {
         "FloorLineupId_Defense": 5119,
         "Players_Defense": "C.J. McCollum, Damian Lillard, Evan Turner, Al-Farouq Aminu, Jusuf Nurkic",
         "DRTG": 104.56204379562044,
         "Points": 573,
         "Possession": 548,
         "GP": 45,
         "_deepnote_index_column": 1697
        },
        {
         "FloorLineupId_Defense": 4762,
         "Players_Defense": "Klay Thompson, Stephen Curry, Kevin Durant, Draymond Green, Kevon Looney",
         "DRTG": 107.06921944035346,
         "Points": 727,
         "Possession": 679,
         "GP": 44,
         "_deepnote_index_column": 1340
        }
       ]
      },
      "text/plain": "       FloorLineupId_Defense  \\\n1                         36   \n483                     3905   \n1016                    4438   \n428                     3850   \n119                     3346   \n...                      ...   \n8551                   14721   \n8552                   14722   \n8553                   14723   \n8554                   14724   \n16804                 348938   \n\n                                         Players_Defense        DRTG  Points  \\\n1      Evan Fournier, D.J. Augustin Jr., Aaron Gordon...  106.575964    1880   \n483    Donovan Mitchell Jr., Ricky Rubio, Joe Ingles,...  106.483301    1084   \n1016   Dennis Schroder, Russell Westbrook, Paul Georg...  108.969072    1057   \n428    Terrance Ferguson Jr., Russell Westbrook, Paul...  105.507832    2088   \n119    Donovan Mitchell Jr., Ricky Rubio, Joe Ingles,...  101.348748    1052   \n...                                                  ...         ...     ...   \n8551   Kyle Korver, Thabo Sefolosha, Ekpe Udoh, Joe I...  125.000000       5   \n8552   Royce O'Neale, Thabo Sefolosha, Ekpe Udoh, Joe...    0.000000       0   \n8553   Royce O'Neale, Thabo Sefolosha, Ekpe Udoh, Joe...    0.000000       0   \n8554   Eric Gordon Jr., Danuel House Jr., Chris Paul,...    0.000000       0   \n16804  Evan Turner, Seth Curry, Nik Stauskas, Caleb S...         NaN       0   \n\n       Possession  GP  \n1            1764  67  \n483          1018  60  \n1016          970  58  \n428          1979  58  \n119          1038  56  \n...           ...  ..  \n8551            4   1  \n8552            1   1  \n8553            1   1  \n8554            1   1  \n16804           0   1  \n\n[16805 rows x 6 columns]",
      "text/html": "<div>\n<style scoped>\n    .dataframe tbody tr th:only-of-type {\n        vertical-align: middle;\n    }\n\n    .dataframe tbody tr th {\n        vertical-align: top;\n    }\n\n    .dataframe thead th {\n        text-align: right;\n    }\n</style>\n<table border=\"1\" class=\"dataframe\">\n  <thead>\n    <tr style=\"text-align: right;\">\n      <th></th>\n      <th>FloorLineupId_Defense</th>\n      <th>Players_Defense</th>\n      <th>DRTG</th>\n      <th>Points</th>\n      <th>Possession</th>\n      <th>GP</th>\n    </tr>\n  </thead>\n  <tbody>\n    <tr>\n      <th>1</th>\n      <td>36</td>\n      <td>Evan Fournier, D.J. Augustin Jr., Aaron Gordon...</td>\n      <td>106.575964</td>\n      <td>1880</td>\n      <td>1764</td>\n      <td>67</td>\n    </tr>\n    <tr>\n      <th>483</th>\n      <td>3905</td>\n      <td>Donovan Mitchell Jr., Ricky Rubio, Joe Ingles,...</td>\n      <td>106.483301</td>\n      <td>1084</td>\n      <td>1018</td>\n      <td>60</td>\n    </tr>\n    <tr>\n      <th>1016</th>\n      <td>4438</td>\n      <td>Dennis Schroder, Russell Westbrook, Paul Georg...</td>\n      <td>108.969072</td>\n      <td>1057</td>\n      <td>970</td>\n      <td>58</td>\n    </tr>\n    <tr>\n      <th>428</th>\n      <td>3850</td>\n      <td>Terrance Ferguson Jr., Russell Westbrook, Paul...</td>\n      <td>105.507832</td>\n      <td>2088</td>\n      <td>1979</td>\n      <td>58</td>\n    </tr>\n    <tr>\n      <th>119</th>\n      <td>3346</td>\n      <td>Donovan Mitchell Jr., Ricky Rubio, Joe Ingles,...</td>\n      <td>101.348748</td>\n      <td>1052</td>\n      <td>1038</td>\n      <td>56</td>\n    </tr>\n    <tr>\n      <th>...</th>\n      <td>...</td>\n      <td>...</td>\n      <td>...</td>\n      <td>...</td>\n      <td>...</td>\n      <td>...</td>\n    </tr>\n    <tr>\n      <th>8551</th>\n      <td>14721</td>\n      <td>Kyle Korver, Thabo Sefolosha, Ekpe Udoh, Joe I...</td>\n      <td>125.000000</td>\n      <td>5</td>\n      <td>4</td>\n      <td>1</td>\n    </tr>\n    <tr>\n      <th>8552</th>\n      <td>14722</td>\n      <td>Royce O'Neale, Thabo Sefolosha, Ekpe Udoh, Joe...</td>\n      <td>0.000000</td>\n      <td>0</td>\n      <td>1</td>\n      <td>1</td>\n    </tr>\n    <tr>\n      <th>8553</th>\n      <td>14723</td>\n      <td>Royce O'Neale, Thabo Sefolosha, Ekpe Udoh, Joe...</td>\n      <td>0.000000</td>\n      <td>0</td>\n      <td>1</td>\n      <td>1</td>\n    </tr>\n    <tr>\n      <th>8554</th>\n      <td>14724</td>\n      <td>Eric Gordon Jr., Danuel House Jr., Chris Paul,...</td>\n      <td>0.000000</td>\n      <td>0</td>\n      <td>1</td>\n      <td>1</td>\n    </tr>\n    <tr>\n      <th>16804</th>\n      <td>348938</td>\n      <td>Evan Turner, Seth Curry, Nik Stauskas, Caleb S...</td>\n      <td>NaN</td>\n      <td>0</td>\n      <td>0</td>\n      <td>1</td>\n    </tr>\n  </tbody>\n</table>\n<p>16805 rows × 6 columns</p>\n</div>"
     },
     "metadata": {}
    }
   ]
  },
  {
   "cell_type": "code",
   "metadata": {
    "cell_id": "74a6da8a-a6dc-4184-ae8d-54cedf7b2bdb",
    "tags": [],
    "deepnote_cell_type": "code",
    "deepnote_cell_height": 66
   },
   "source": "",
   "execution_count": null,
   "outputs": []
  },
  {
   "cell_type": "markdown",
   "source": "<a style='text-decoration:none;line-height:16px;display:flex;color:#5B5B62;padding:10px;justify-content:end;' href='https://deepnote.com?utm_source=created-in-deepnote-cell&projectId=5315bb81-8e59-4c5b-821c-2b4f7eb9c2e2' target=\"_blank\">\n<img alt='Created in deepnote.com' style='display:inline;max-height:16px;margin:0px;margin-right:7.5px;' src='data:image/svg+xml;base64,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' > </img>\nCreated in <span style='font-weight:600;margin-left:4px;'>Deepnote</span></a>",
   "metadata": {
    "tags": [],
    "created_in_deepnote_cell": true,
    "deepnote_cell_type": "markdown"
   }
  }
 ],
 "nbformat": 4,
 "nbformat_minor": 2,
 "metadata": {
  "orig_nbformat": 2,
  "deepnote": {
   "is_reactive": false
  },
  "deepnote_notebook_id": "1802b2c2-9c03-412e-880b-2477a2717198",
  "deepnote_execution_queue": []
 }
}